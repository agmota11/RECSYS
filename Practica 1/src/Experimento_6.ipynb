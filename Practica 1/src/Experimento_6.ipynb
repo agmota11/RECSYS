{
  "cells": [
    {
      "cell_type": "code",
      "source": [
        "import pandas as pd\n",
        "import numpy as np\n",
        "import random\n",
        "from collections import defaultdict\n",
        "from scipy.special import digamma\n",
        "import csv\n",
        "\n",
        "import pandas as pd\n",
        "from sklearn.model_selection import train_test_split\n",
        "\n",
        "# Configuración\n",
        "NUM_FACTORS = 5\n",
        "ALPHA = 0.8\n",
        "BETA = 5\n",
        "R = 4\n",
        "MIN_RATING = 0\n",
        "MAX_RATING = 10\n",
        "NUM_ITERATIONS = 50\n",
        "\n",
        "df_train = pd.read_csv('train.csv')\n",
        "df_test = pd.read_csv('test.csv')\n"
      ],
      "metadata": {
        "id": "RmEO-VZB3-J3"
      },
      "execution_count": 5,
      "outputs": []
    },
    {
      "cell_type": "code",
      "source": [
        "!pip install scikit-surprise numpy==1.26.4"
      ],
      "metadata": {
        "colab": {
          "base_uri": "https://localhost:8080/"
        },
        "id": "XBHunuWNHDzz",
        "outputId": "b13dd0ee-c16f-4c7f-fae6-2165baac2d73"
      },
      "execution_count": 2,
      "outputs": [
        {
          "output_type": "stream",
          "name": "stdout",
          "text": [
            "Requirement already satisfied: scikit-surprise in /usr/local/lib/python3.11/dist-packages (1.1.4)\n",
            "Requirement already satisfied: numpy==1.26.4 in /usr/local/lib/python3.11/dist-packages (1.26.4)\n",
            "Requirement already satisfied: joblib>=1.2.0 in /usr/local/lib/python3.11/dist-packages (from scikit-surprise) (1.4.2)\n",
            "Requirement already satisfied: scipy>=1.6.0 in /usr/local/lib/python3.11/dist-packages (from scikit-surprise) (1.14.1)\n"
          ]
        }
      ]
    },
    {
      "cell_type": "code",
      "source": [
        "!pip list | grep numpy"
      ],
      "metadata": {
        "colab": {
          "base_uri": "https://localhost:8080/"
        },
        "id": "ShRfAAZKHws0",
        "outputId": "8b9b7294-d36d-490e-a28b-113380bd6f2b"
      },
      "execution_count": 3,
      "outputs": [
        {
          "output_type": "stream",
          "name": "stdout",
          "text": [
            "numpy                              1.26.4\n"
          ]
        }
      ]
    },
    {
      "cell_type": "code",
      "source": [
        "import pandas as pd\n",
        "from surprise import Dataset, Reader, SVD\n",
        "from surprise.trainset import Trainset\n",
        "import csv\n",
        "\n",
        "# https://surpriselib.com/\n",
        "\n",
        "# Cargar datos de entrenamiento\n",
        "df_train = pd.read_csv(\"train.csv\")\n",
        "reader = Reader(rating_scale=(0, 10))  # Asegúrate que coincide con tu escala\n",
        "data = Dataset.load_from_df(df_train[['user', 'item', 'rating']], reader)\n",
        "trainset: Trainset = data.build_full_trainset()\n",
        "\n",
        "# Entrenar modelo SVD\n",
        "algo = SVD(n_factors=50, n_epochs=20, reg_all=0.02, verbose=True)\n",
        "algo.fit(trainset)\n",
        "\n",
        "# Cargar datos de test\n",
        "df_test = pd.read_csv(\"test.csv\")\n",
        "\n",
        "# Mapas para IDs originales\n",
        "user_inner_id = trainset._raw2inner_id_users\n",
        "item_inner_id = trainset._raw2inner_id_items\n",
        "\n",
        "# Predecir y guardar\n",
        "output_rows = []\n",
        "for _, row in df_test.iterrows():\n",
        "    test_id = row['ID']\n",
        "    user = row['user']\n",
        "    item = row['item']\n",
        "\n",
        "    # Surprise maneja automáticamente nuevos usuarios/items como unknown\n",
        "    pred = algo.predict(str(user), str(item)).est\n",
        "    pred = round(max(0, min(10, pred)), 3)\n",
        "\n",
        "    output_rows.append((test_id, pred))\n",
        "\n",
        "# Guardar predicciones\n",
        "with open(\"predicciones_SVD_50_20_0.02.csv\", \"w\", newline=\"\") as f:\n",
        "    writer = csv.writer(f)\n",
        "    writer.writerow([\"ID\", \"rating\"])\n",
        "    writer.writerows(output_rows)\n",
        "\n",
        "print(\"Archivo generado correctamente.\")\n"
      ],
      "metadata": {
        "colab": {
          "base_uri": "https://localhost:8080/"
        },
        "id": "SdcC2xoFGutZ",
        "outputId": "14ddbf93-28f8-461c-9a51-510efd12be89"
      },
      "execution_count": 7,
      "outputs": [
        {
          "output_type": "stream",
          "name": "stdout",
          "text": [
            "Processing epoch 0\n",
            "Processing epoch 1\n",
            "Processing epoch 2\n",
            "Processing epoch 3\n",
            "Processing epoch 4\n",
            "Processing epoch 5\n",
            "Processing epoch 6\n",
            "Processing epoch 7\n",
            "Processing epoch 8\n",
            "Processing epoch 9\n",
            "Processing epoch 10\n",
            "Processing epoch 11\n",
            "Processing epoch 12\n",
            "Processing epoch 13\n",
            "Processing epoch 14\n",
            "Processing epoch 15\n",
            "Processing epoch 16\n",
            "Processing epoch 17\n",
            "Processing epoch 18\n",
            "Processing epoch 19\n",
            "Archivo generado correctamente.\n"
          ]
        }
      ]
    },
    {
      "cell_type": "code",
      "source": [
        "import pandas as pd\n",
        "from surprise import Dataset, Reader, SVD\n",
        "from surprise.model_selection import GridSearchCV\n",
        "import csv\n",
        "\n",
        "# Cargar datos\n",
        "df_train = pd.read_csv(\"train.csv\")\n",
        "\n",
        "# Convertir a formato surprise\n",
        "reader = Reader(rating_scale=(0, 10))\n",
        "data = Dataset.load_from_df(df_train[['user', 'item', 'rating']], reader)\n",
        "\n",
        "# Definir rejilla de hiperparámetros\n",
        "param_grid = {\n",
        "    'n_factors': [20, 50, 100],\n",
        "    'n_epochs': [10, 20],\n",
        "    'reg_all': [0.02, 0.05, 0.1]\n",
        "}\n",
        "\n",
        "# Búsqueda con validación cruzada\n",
        "gs = GridSearchCV(SVD, param_grid, measures=['mae'], cv=3, joblib_verbose=1, n_jobs=-1)\n",
        "gs.fit(data)\n",
        "\n",
        "# Mostrar mejores hiperparámetros\n",
        "print(\"Mejores hiperparámetros:\")\n",
        "print(gs.best_params['mae'])\n",
        "print(f\"Mejor MAE: {gs.best_score['mae']:.4f}\")\n",
        "\n",
        "# Entrenar modelo final con mejores parámetros\n",
        "best_algo = gs.best_estimator['mae']\n",
        "trainset = data.build_full_trainset()\n",
        "best_algo.fit(trainset)\n",
        "\n",
        "# Cargar test\n",
        "df_test = pd.read_csv(\"test.csv\")\n",
        "\n",
        "# Predecir y guardar resultados\n",
        "output_rows = []\n",
        "for _, row in df_test.iterrows():\n",
        "    test_id = row['ID']\n",
        "    user = str(row['user'])\n",
        "    item = str(row['item'])\n",
        "\n",
        "    pred = best_algo.predict(user, item).est\n",
        "    pred = round(max(0, min(10, pred)), 3)\n",
        "\n",
        "    output_rows.append((test_id, pred))\n",
        "\n",
        "# Guardar CSV\n",
        "filename = f\"predicciones_SVD_gridsearch.csv\"\n",
        "with open(filename, \"w\", newline=\"\") as f:\n",
        "    writer = csv.writer(f)\n",
        "    writer.writerow([\"ID\", \"rating\"])\n",
        "    writer.writerows(output_rows)\n",
        "\n",
        "print(f\"Archivo '{filename}' generado correctamente.\")"
      ],
      "metadata": {
        "colab": {
          "base_uri": "https://localhost:8080/"
        },
        "id": "fXkzTAt_Ilg9",
        "outputId": "116b755a-ac36-43e2-d4bd-507c53e5c83a"
      },
      "execution_count": 10,
      "outputs": [
        {
          "output_type": "stream",
          "name": "stderr",
          "text": [
            "[Parallel(n_jobs=-1)]: Using backend LokyBackend with 2 concurrent workers.\n",
            "[Parallel(n_jobs=-1)]: Done  46 tasks      | elapsed:  3.8min\n",
            "[Parallel(n_jobs=-1)]: Done  54 out of  54 | elapsed:  4.7min finished\n"
          ]
        },
        {
          "output_type": "stream",
          "name": "stdout",
          "text": [
            "Mejores hiperparámetros:\n",
            "{'n_factors': 20, 'n_epochs': 20, 'reg_all': 0.02}\n",
            "Mejor MAE: 1.2706\n",
            "Archivo 'predicciones_SVD_gridsearch.csv' generado correctamente.\n"
          ]
        }
      ]
    }
  ],
  "metadata": {
    "kernelspec": {
      "display_name": ".venv",
      "language": "python",
      "name": "python3"
    },
    "language_info": {
      "codemirror_mode": {
        "name": "ipython",
        "version": 3
      },
      "file_extension": ".py",
      "mimetype": "text/x-python",
      "name": "python",
      "nbconvert_exporter": "python",
      "pygments_lexer": "ipython3",
      "version": "3.11.0"
    },
    "colab": {
      "provenance": []
    }
  },
  "nbformat": 4,
  "nbformat_minor": 0
}