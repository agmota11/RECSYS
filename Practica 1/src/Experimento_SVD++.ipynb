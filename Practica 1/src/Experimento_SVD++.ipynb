{
 "cells": [
  {
   "cell_type": "code",
   "execution_count": 8,
   "metadata": {},
   "outputs": [],
   "source": [
    "from surprise import SVDpp, Dataset, Reader\n",
    "from scipy.sparse import csr_matrix\n",
    "from surprise.model_selection import train_test_split\n",
    "from surprise.accuracy import mae\n",
    "from surprise.model_selection import GridSearchCV\n",
    "from datetime import datetime\n",
    "\n",
    "import pandas as pd\n",
    "from surprise import SVDpp, Dataset, Reader\n",
    "from surprise.model_selection import cross_validate\n",
    "import optuna\n",
    "from joblib import parallel_backend"
   ]
  },
  {
   "cell_type": "code",
   "execution_count": 2,
   "metadata": {
    "notebookRunGroups": {
     "groupValue": "1"
    }
   },
   "outputs": [
    {
     "data": {
      "text/html": [
       "<div>\n",
       "<style scoped>\n",
       "    .dataframe tbody tr th:only-of-type {\n",
       "        vertical-align: middle;\n",
       "    }\n",
       "\n",
       "    .dataframe tbody tr th {\n",
       "        vertical-align: top;\n",
       "    }\n",
       "\n",
       "    .dataframe thead th {\n",
       "        text-align: right;\n",
       "    }\n",
       "</style>\n",
       "<table border=\"1\" class=\"dataframe\">\n",
       "  <thead>\n",
       "    <tr style=\"text-align: right;\">\n",
       "      <th></th>\n",
       "      <th>user</th>\n",
       "      <th>item</th>\n",
       "      <th>rating</th>\n",
       "    </tr>\n",
       "  </thead>\n",
       "  <tbody>\n",
       "    <tr>\n",
       "      <th>207921</th>\n",
       "      <td>37893</td>\n",
       "      <td>111333</td>\n",
       "      <td>3.0</td>\n",
       "    </tr>\n",
       "    <tr>\n",
       "      <th>230350</th>\n",
       "      <td>42831</td>\n",
       "      <td>120790</td>\n",
       "      <td>8.0</td>\n",
       "    </tr>\n",
       "    <tr>\n",
       "      <th>328377</th>\n",
       "      <td>64192</td>\n",
       "      <td>17356</td>\n",
       "      <td>6.0</td>\n",
       "    </tr>\n",
       "    <tr>\n",
       "      <th>326446</th>\n",
       "      <td>63741</td>\n",
       "      <td>162406</td>\n",
       "      <td>7.0</td>\n",
       "    </tr>\n",
       "    <tr>\n",
       "      <th>295608</th>\n",
       "      <td>56583</td>\n",
       "      <td>33363</td>\n",
       "      <td>7.0</td>\n",
       "    </tr>\n",
       "    <tr>\n",
       "      <th>104177</th>\n",
       "      <td>15498</td>\n",
       "      <td>45432</td>\n",
       "      <td>6.0</td>\n",
       "    </tr>\n",
       "    <tr>\n",
       "      <th>260347</th>\n",
       "      <td>49168</td>\n",
       "      <td>28438</td>\n",
       "      <td>9.0</td>\n",
       "    </tr>\n",
       "    <tr>\n",
       "      <th>4298</th>\n",
       "      <td>534</td>\n",
       "      <td>38239</td>\n",
       "      <td>10.0</td>\n",
       "    </tr>\n",
       "    <tr>\n",
       "      <th>278990</th>\n",
       "      <td>53077</td>\n",
       "      <td>142175</td>\n",
       "      <td>6.0</td>\n",
       "    </tr>\n",
       "    <tr>\n",
       "      <th>334208</th>\n",
       "      <td>65508</td>\n",
       "      <td>63462</td>\n",
       "      <td>9.0</td>\n",
       "    </tr>\n",
       "  </tbody>\n",
       "</table>\n",
       "</div>"
      ],
      "text/plain": [
       "         user    item  rating\n",
       "207921  37893  111333     3.0\n",
       "230350  42831  120790     8.0\n",
       "328377  64192   17356     6.0\n",
       "326446  63741  162406     7.0\n",
       "295608  56583   33363     7.0\n",
       "104177  15498   45432     6.0\n",
       "260347  49168   28438     9.0\n",
       "4298      534   38239    10.0\n",
       "278990  53077  142175     6.0\n",
       "334208  65508   63462     9.0"
      ]
     },
     "execution_count": 2,
     "metadata": {},
     "output_type": "execute_result"
    }
   ],
   "source": [
    "# Load train and test CSV files into DataFrames\n",
    "train_df = pd.read_csv('../data/train.csv')\n",
    "test_df = pd.read_csv('../data/test.csv')\n",
    "\n",
    "train_df.sample(10)"
   ]
  },
  {
   "cell_type": "code",
   "execution_count": 3,
   "metadata": {},
   "outputs": [
    {
     "data": {
      "text/plain": [
       "<Axes: title={'center': 'Rating Distribution'}, xlabel='Rating', ylabel='Count'>"
      ]
     },
     "execution_count": 3,
     "metadata": {},
     "output_type": "execute_result"
    },
    {
     "data": {
      "image/png": "[encoded data removed]",
      "text/plain": [
       "<Figure size 640x480 with 1 Axes>"
      ]
     },
     "metadata": {},
     "output_type": "display_data"
    }
   ],
   "source": [
    "rating_distribution = train_df['rating'].value_counts().sort_index()\n",
    "rating_distribution.plot(kind='bar', title='Rating Distribution', xlabel='Rating', ylabel='Count')"
   ]
  },
  {
   "cell_type": "code",
   "execution_count": null,
   "metadata": {},
   "outputs": [
    {
     "name": "stdout",
     "output_type": "stream",
     "text": [
      "Train MAE: 1.0220557675901503\n",
      "Test MAE: 1.2764916221907936\n"
     ]
    }
   ],
   "source": [
    "# Convert the train DataFrame to a Surprise dataset\n",
    "reader = Reader(rating_scale=(train_df['rating'].min(), train_df['rating'].max()))\n",
    "data = Dataset.load_from_df(train_df[['user', 'item', 'rating']], reader)\n",
    "\n",
    "# Split the data into train and test sets\n",
    "trainset, testset = train_test_split(data, test_size=0.2)\n",
    "\n",
    "# Train the SVD++ algorithm on the trainset\n",
    "svdpp = SVDpp(reg_all=0.3)\n",
    "svdpp.fit(trainset)\n",
    "\n",
    "# Predict ratings for the testset\n",
    "predictions = svdpp.test(testset)\n",
    "test_mae = mae(predictions, verbose=False)\n",
    "\n",
    "# Calculate and print the MAE for trainset (using cross-validation predictions)\n",
    "train_predictions = [svdpp.predict(uid, iid, r_ui) for (uid, iid, r_ui) in trainset.build_testset()]\n",
    "train_mae = mae(train_predictions, verbose=False)\n",
    "\n",
    "# Print the MAE scores\n",
    "print(f\"Train MAE: {train_mae}\")\n",
    "print(f\"Test MAE: {test_mae}\")"
   ]
  },
  {
   "cell_type": "code",
   "execution_count": null,
   "metadata": {},
   "outputs": [
    {
     "name": "stdout",
     "output_type": "stream",
     "text": [
      "File saved to ../out/SVDpp/predicciones_base_20250329_205239.csv\n"
     ]
    },
    {
     "data": {
      "text/html": [
       "<div>\n",
       "<style scoped>\n",
       "    .dataframe tbody tr th:only-of-type {\n",
       "        vertical-align: middle;\n",
       "    }\n",
       "\n",
       "    .dataframe tbody tr th {\n",
       "        vertical-align: top;\n",
       "    }\n",
       "\n",
       "    .dataframe thead th {\n",
       "        text-align: right;\n",
       "    }\n",
       "</style>\n",
       "<table border=\"1\" class=\"dataframe\">\n",
       "  <thead>\n",
       "    <tr style=\"text-align: right;\">\n",
       "      <th></th>\n",
       "      <th>ID</th>\n",
       "      <th>user</th>\n",
       "      <th>item</th>\n",
       "      <th>rating</th>\n",
       "    </tr>\n",
       "  </thead>\n",
       "  <tbody>\n",
       "    <tr>\n",
       "      <th>28740</th>\n",
       "      <td>28740</td>\n",
       "      <td>3933</td>\n",
       "      <td>11533</td>\n",
       "      <td>8.0</td>\n",
       "    </tr>\n",
       "    <tr>\n",
       "      <th>1838</th>\n",
       "      <td>1838</td>\n",
       "      <td>534</td>\n",
       "      <td>1986</td>\n",
       "      <td>7.0</td>\n",
       "    </tr>\n",
       "    <tr>\n",
       "      <th>2832</th>\n",
       "      <td>2832</td>\n",
       "      <td>9422</td>\n",
       "      <td>4700</td>\n",
       "      <td>8.0</td>\n",
       "    </tr>\n",
       "    <tr>\n",
       "      <th>27147</th>\n",
       "      <td>27147</td>\n",
       "      <td>10687</td>\n",
       "      <td>15199</td>\n",
       "      <td>8.0</td>\n",
       "    </tr>\n",
       "    <tr>\n",
       "      <th>42583</th>\n",
       "      <td>42583</td>\n",
       "      <td>1032</td>\n",
       "      <td>5233</td>\n",
       "      <td>7.0</td>\n",
       "    </tr>\n",
       "    <tr>\n",
       "      <th>29795</th>\n",
       "      <td>29795</td>\n",
       "      <td>1032</td>\n",
       "      <td>525</td>\n",
       "      <td>7.0</td>\n",
       "    </tr>\n",
       "    <tr>\n",
       "      <th>11709</th>\n",
       "      <td>11709</td>\n",
       "      <td>9950</td>\n",
       "      <td>1937</td>\n",
       "      <td>7.0</td>\n",
       "    </tr>\n",
       "    <tr>\n",
       "      <th>32679</th>\n",
       "      <td>32679</td>\n",
       "      <td>2712</td>\n",
       "      <td>9274</td>\n",
       "      <td>9.0</td>\n",
       "    </tr>\n",
       "    <tr>\n",
       "      <th>39678</th>\n",
       "      <td>39678</td>\n",
       "      <td>6423</td>\n",
       "      <td>17411</td>\n",
       "      <td>8.0</td>\n",
       "    </tr>\n",
       "    <tr>\n",
       "      <th>7033</th>\n",
       "      <td>7033</td>\n",
       "      <td>406</td>\n",
       "      <td>58</td>\n",
       "      <td>8.0</td>\n",
       "    </tr>\n",
       "  </tbody>\n",
       "</table>\n",
       "</div>"
      ],
      "text/plain": [
       "          ID   user   item  rating\n",
       "28740  28740   3933  11533     8.0\n",
       "1838    1838    534   1986     7.0\n",
       "2832    2832   9422   4700     8.0\n",
       "27147  27147  10687  15199     8.0\n",
       "42583  42583   1032   5233     7.0\n",
       "29795  29795   1032    525     7.0\n",
       "11709  11709   9950   1937     7.0\n",
       "32679  32679   2712   9274     9.0\n",
       "39678  39678   6423  17411     8.0\n",
       "7033    7033    406     58     8.0"
      ]
     },
     "execution_count": 4,
     "metadata": {},
     "output_type": "execute_result"
    }
   ],
   "source": [
    "testset = [(row['user'], row['item'], 0) for _, row in test_df.iterrows()]\n",
    "predictions = svdpp.test(testset)\n",
    "\n",
    "for i, (uid, iid, true_r, est, _) in enumerate(predictions):\n",
    "    test_df.at[i, 'rating'] = round(est)\n",
    "\n",
    "# Prepare the output file path with a timestamp\n",
    "timestamp = datetime.now().strftime('%Y%m%d_%H%M%S')\n",
    "output_path = f'../out/SVDpp/predicciones_base_{timestamp}.csv'\n",
    "\n",
    "# Export the result to an Excel file\n",
    "test_df[['ID', 'rating']].to_csv(output_path, index=False)\n",
    "\n",
    "print(f\"File saved to {output_path}\")\n",
    "test_df.sample(10)"
   ]
  },
  {
   "cell_type": "code",
   "execution_count": 5,
   "metadata": {},
   "outputs": [
    {
     "data": {
      "text/html": [
       "<div>\n",
       "<style scoped>\n",
       "    .dataframe tbody tr th:only-of-type {\n",
       "        vertical-align: middle;\n",
       "    }\n",
       "\n",
       "    .dataframe tbody tr th {\n",
       "        vertical-align: top;\n",
       "    }\n",
       "\n",
       "    .dataframe thead th {\n",
       "        text-align: right;\n",
       "    }\n",
       "</style>\n",
       "<table border=\"1\" class=\"dataframe\">\n",
       "  <thead>\n",
       "    <tr style=\"text-align: right;\">\n",
       "      <th></th>\n",
       "      <th>user</th>\n",
       "      <th>item</th>\n",
       "      <th>rating</th>\n",
       "      <th>user_mean</th>\n",
       "      <th>rating_centered</th>\n",
       "    </tr>\n",
       "  </thead>\n",
       "  <tbody>\n",
       "    <tr>\n",
       "      <th>117792</th>\n",
       "      <td>18677</td>\n",
       "      <td>56259</td>\n",
       "      <td>8.0</td>\n",
       "      <td>7.923077</td>\n",
       "      <td>0.076923</td>\n",
       "    </tr>\n",
       "    <tr>\n",
       "      <th>11110</th>\n",
       "      <td>801</td>\n",
       "      <td>26794</td>\n",
       "      <td>8.0</td>\n",
       "      <td>7.000000</td>\n",
       "      <td>1.000000</td>\n",
       "    </tr>\n",
       "    <tr>\n",
       "      <th>111788</th>\n",
       "      <td>17524</td>\n",
       "      <td>51292</td>\n",
       "      <td>10.0</td>\n",
       "      <td>7.470472</td>\n",
       "      <td>2.529528</td>\n",
       "    </tr>\n",
       "    <tr>\n",
       "      <th>131418</th>\n",
       "      <td>21512</td>\n",
       "      <td>26200</td>\n",
       "      <td>6.0</td>\n",
       "      <td>8.000000</td>\n",
       "      <td>-2.000000</td>\n",
       "    </tr>\n",
       "    <tr>\n",
       "      <th>140347</th>\n",
       "      <td>23761</td>\n",
       "      <td>70823</td>\n",
       "      <td>10.0</td>\n",
       "      <td>7.810000</td>\n",
       "      <td>2.190000</td>\n",
       "    </tr>\n",
       "    <tr>\n",
       "      <th>226255</th>\n",
       "      <td>42034</td>\n",
       "      <td>64895</td>\n",
       "      <td>10.0</td>\n",
       "      <td>8.125000</td>\n",
       "      <td>1.875000</td>\n",
       "    </tr>\n",
       "    <tr>\n",
       "      <th>149742</th>\n",
       "      <td>25636</td>\n",
       "      <td>76625</td>\n",
       "      <td>10.0</td>\n",
       "      <td>9.600000</td>\n",
       "      <td>0.400000</td>\n",
       "    </tr>\n",
       "    <tr>\n",
       "      <th>312917</th>\n",
       "      <td>60579</td>\n",
       "      <td>58735</td>\n",
       "      <td>8.0</td>\n",
       "      <td>8.743137</td>\n",
       "      <td>-0.743137</td>\n",
       "    </tr>\n",
       "    <tr>\n",
       "      <th>144735</th>\n",
       "      <td>24931</td>\n",
       "      <td>73728</td>\n",
       "      <td>5.0</td>\n",
       "      <td>6.444444</td>\n",
       "      <td>-1.444444</td>\n",
       "    </tr>\n",
       "    <tr>\n",
       "      <th>217000</th>\n",
       "      <td>39774</td>\n",
       "      <td>58654</td>\n",
       "      <td>5.0</td>\n",
       "      <td>6.250000</td>\n",
       "      <td>-1.250000</td>\n",
       "    </tr>\n",
       "  </tbody>\n",
       "</table>\n",
       "</div>"
      ],
      "text/plain": [
       "         user   item  rating  user_mean  rating_centered\n",
       "117792  18677  56259     8.0   7.923077         0.076923\n",
       "11110     801  26794     8.0   7.000000         1.000000\n",
       "111788  17524  51292    10.0   7.470472         2.529528\n",
       "131418  21512  26200     6.0   8.000000        -2.000000\n",
       "140347  23761  70823    10.0   7.810000         2.190000\n",
       "226255  42034  64895    10.0   8.125000         1.875000\n",
       "149742  25636  76625    10.0   9.600000         0.400000\n",
       "312917  60579  58735     8.0   8.743137        -0.743137\n",
       "144735  24931  73728     5.0   6.444444        -1.444444\n",
       "217000  39774  58654     5.0   6.250000        -1.250000"
      ]
     },
     "execution_count": 5,
     "metadata": {},
     "output_type": "execute_result"
    }
   ],
   "source": [
    "# Center the ratings by subtracting the user mean rating\n",
    "train_df['user_mean'] = train_df.groupby('user')['rating'].transform('mean')\n",
    "train_df['rating_centered'] = train_df['rating'] - train_df['user_mean']\n",
    "train_df.sample(10)"
   ]
  },
  {
   "cell_type": "code",
   "execution_count": 6,
   "metadata": {},
   "outputs": [
    {
     "name": "stdout",
     "output_type": "stream",
     "text": [
      "Mean: -7.565481439788591e-18, Std: 1.4102307310578854\n"
     ]
    },
    {
     "data": {
      "image/png": "[encoded data removed]",
      "text/plain": [
       "<Figure size 640x480 with 1 Axes>"
      ]
     },
     "metadata": {},
     "output_type": "display_data"
    }
   ],
   "source": [
    "train_df['rating_centered'].hist(bins=50, edgecolor='black', alpha=0.7, grid=False)\n",
    "mean = train_df['rating_centered'].mean()\n",
    "std = train_df['rating_centered'].std()\n",
    "print(f\"Mean: {mean}, Std: {std}\")"
   ]
  },
  {
   "cell_type": "code",
   "execution_count": 7,
   "metadata": {},
   "outputs": [
    {
     "name": "stdout",
     "output_type": "stream",
     "text": [
      "Train MAE (Centered): 1.3217337241327525\n",
      "Test MAE (Centered): 1.3239418652586876\n"
     ]
    }
   ],
   "source": [
    "# Convert the train DataFrame with centered ratings to a Surprise dataset\n",
    "data_centered = Dataset.load_from_df(train_df[['user', 'item', 'rating_centered']], reader)\n",
    "\n",
    "# Split the data into train and test sets\n",
    "trainset_centered, testset_centered = train_test_split(data_centered, test_size=0.2)\n",
    "\n",
    "# Train the SVD++ algorithm on the trainset with centered ratings\n",
    "svdpp_centered = SVDpp(reg_all=0.3)\n",
    "svdpp_centered.fit(trainset_centered)\n",
    "\n",
    "# Predict ratings for the testset\n",
    "predictions_centered = svdpp_centered.test(testset_centered)\n",
    "test_mae_centered = mae(predictions_centered, verbose=False)\n",
    "\n",
    "# Calculate and print the MAE for trainset (using cross-validation predictions)\n",
    "train_predictions_centered = [svdpp_centered.predict(uid, iid, r_ui) for (uid, iid, r_ui) in trainset_centered.build_testset()]\n",
    "train_mae_centered = mae(train_predictions_centered, verbose=False)\n",
    "\n",
    "# Print the MAE scores\n",
    "print(f\"Train MAE (Centered): {train_mae_centered}\")\n",
    "print(f\"Test MAE (Centered): {test_mae_centered}\")"
   ]
  },
  {
   "cell_type": "code",
   "execution_count": 8,
   "metadata": {},
   "outputs": [
    {
     "name": "stdout",
     "output_type": "stream",
     "text": [
      "File saved to ../out/SVDpp/predicciones_SVD_centered_20250329_205526.csv\n"
     ]
    },
    {
     "data": {
      "text/html": [
       "<div>\n",
       "<style scoped>\n",
       "    .dataframe tbody tr th:only-of-type {\n",
       "        vertical-align: middle;\n",
       "    }\n",
       "\n",
       "    .dataframe tbody tr th {\n",
       "        vertical-align: top;\n",
       "    }\n",
       "\n",
       "    .dataframe thead th {\n",
       "        text-align: right;\n",
       "    }\n",
       "</style>\n",
       "<table border=\"1\" class=\"dataframe\">\n",
       "  <thead>\n",
       "    <tr style=\"text-align: right;\">\n",
       "      <th></th>\n",
       "      <th>ID</th>\n",
       "      <th>user</th>\n",
       "      <th>item</th>\n",
       "      <th>rating</th>\n",
       "      <th>user_mean</th>\n",
       "      <th>rating_centered</th>\n",
       "    </tr>\n",
       "  </thead>\n",
       "  <tbody>\n",
       "    <tr>\n",
       "      <th>2309</th>\n",
       "      <td>2309</td>\n",
       "      <td>6236</td>\n",
       "      <td>17098</td>\n",
       "      <td>7.0</td>\n",
       "      <td>6.122549</td>\n",
       "      <td>0.877451</td>\n",
       "    </tr>\n",
       "    <tr>\n",
       "      <th>22801</th>\n",
       "      <td>22801</td>\n",
       "      <td>4536</td>\n",
       "      <td>1104</td>\n",
       "      <td>10.0</td>\n",
       "      <td>9.448276</td>\n",
       "      <td>-0.448276</td>\n",
       "    </tr>\n",
       "    <tr>\n",
       "      <th>8571</th>\n",
       "      <td>8571</td>\n",
       "      <td>5404</td>\n",
       "      <td>15822</td>\n",
       "      <td>11.0</td>\n",
       "      <td>9.571429</td>\n",
       "      <td>-0.571429</td>\n",
       "    </tr>\n",
       "    <tr>\n",
       "      <th>10917</th>\n",
       "      <td>10917</td>\n",
       "      <td>4201</td>\n",
       "      <td>12313</td>\n",
       "      <td>10.0</td>\n",
       "      <td>8.856320</td>\n",
       "      <td>0.143680</td>\n",
       "    </tr>\n",
       "    <tr>\n",
       "      <th>10122</th>\n",
       "      <td>10122</td>\n",
       "      <td>534</td>\n",
       "      <td>3454</td>\n",
       "      <td>8.0</td>\n",
       "      <td>7.289720</td>\n",
       "      <td>0.710280</td>\n",
       "    </tr>\n",
       "    <tr>\n",
       "      <th>9943</th>\n",
       "      <td>9943</td>\n",
       "      <td>2904</td>\n",
       "      <td>6340</td>\n",
       "      <td>11.0</td>\n",
       "      <td>9.750000</td>\n",
       "      <td>-0.750000</td>\n",
       "    </tr>\n",
       "    <tr>\n",
       "      <th>8895</th>\n",
       "      <td>8895</td>\n",
       "      <td>9851</td>\n",
       "      <td>14751</td>\n",
       "      <td>8.0</td>\n",
       "      <td>7.416667</td>\n",
       "      <td>0.583333</td>\n",
       "    </tr>\n",
       "    <tr>\n",
       "      <th>14570</th>\n",
       "      <td>14570</td>\n",
       "      <td>1613</td>\n",
       "      <td>6687</td>\n",
       "      <td>8.0</td>\n",
       "      <td>7.269841</td>\n",
       "      <td>-0.269841</td>\n",
       "    </tr>\n",
       "    <tr>\n",
       "      <th>38061</th>\n",
       "      <td>38061</td>\n",
       "      <td>9842</td>\n",
       "      <td>1373</td>\n",
       "      <td>8.0</td>\n",
       "      <td>6.500000</td>\n",
       "      <td>1.500000</td>\n",
       "    </tr>\n",
       "    <tr>\n",
       "      <th>27375</th>\n",
       "      <td>27375</td>\n",
       "      <td>5623</td>\n",
       "      <td>16107</td>\n",
       "      <td>9.0</td>\n",
       "      <td>7.542857</td>\n",
       "      <td>0.457143</td>\n",
       "    </tr>\n",
       "  </tbody>\n",
       "</table>\n",
       "</div>"
      ],
      "text/plain": [
       "          ID  user   item  rating  user_mean  rating_centered\n",
       "2309    2309  6236  17098     7.0   6.122549         0.877451\n",
       "22801  22801  4536   1104    10.0   9.448276        -0.448276\n",
       "8571    8571  5404  15822    11.0   9.571429        -0.571429\n",
       "10917  10917  4201  12313    10.0   8.856320         0.143680\n",
       "10122  10122   534   3454     8.0   7.289720         0.710280\n",
       "9943    9943  2904   6340    11.0   9.750000        -0.750000\n",
       "8895    8895  9851  14751     8.0   7.416667         0.583333\n",
       "14570  14570  1613   6687     8.0   7.269841        -0.269841\n",
       "38061  38061  9842   1373     8.0   6.500000         1.500000\n",
       "27375  27375  5623  16107     9.0   7.542857         0.457143"
      ]
     },
     "execution_count": 8,
     "metadata": {},
     "output_type": "execute_result"
    }
   ],
   "source": [
    "# Use the mean rating for each user from the train set\n",
    "user_mean_map = train_df.set_index('user')['user_mean'].to_dict()\n",
    "test_df['user_mean'] = test_df['user'].map(user_mean_map)\n",
    "\n",
    "# Center the ratings by subtracting the user mean rating\n",
    "test_df['rating_centered'] = test_df['rating'] - test_df['user_mean']\n",
    "\n",
    "testset = [(row['user'], row['item'], 0) for _, row in test_df.iterrows()]\n",
    "predictions = svdpp_centered.test(testset)\n",
    "\n",
    "for i, (uid, iid, true_r, est, _) in enumerate(predictions):\n",
    "    user_mean = test_df.at[i, 'user_mean'] if not pd.isna(test_df.at[i, 'user_mean']) else 8\n",
    "    test_df.at[i, 'rating'] = round(est + user_mean)\n",
    "\n",
    "# Prepare the output file path with a timestamp\n",
    "timestamp = datetime.now().strftime('%Y%m%d_%H%M%S')\n",
    "output_path = f'../out/SVDpp/predicciones_SVD_centered_{timestamp}.csv'\n",
    "\n",
    "# Export the result to an Excel file\n",
    "test_df[['ID', 'rating']].to_csv(output_path, index=False)\n",
    "\n",
    "print(f\"File saved to {output_path}\")\n",
    "test_df.sample(10)"
   ]
  },
  {
   "cell_type": "code",
   "execution_count": 9,
   "metadata": {},
   "outputs": [
    {
     "data": {
      "text/plain": [
       "<Axes: >"
      ]
     },
     "execution_count": 9,
     "metadata": {},
     "output_type": "execute_result"
    },
    {
     "data": {
      "image/png": "[encoded data removed]",
      "text/plain": [
       "<Figure size 640x480 with 1 Axes>"
      ]
     },
     "metadata": {},
     "output_type": "display_data"
    }
   ],
   "source": [
    "train_df['rating_squared'] = train_df['rating'] ** 2\n",
    "train_df[['rating', 'rating_squared']].sample(10)\n",
    "train_df['rating_squared'].hist(bins=50, edgecolor='black', alpha=0.7, grid=False)"
   ]
  },
  {
   "cell_type": "code",
   "execution_count": 10,
   "metadata": {},
   "outputs": [
    {
     "name": "stdout",
     "output_type": "stream",
     "text": [
      "Train MAE (Squared): 51.32584640184988\n",
      "Test MAE (Squared): 51.45796534162538\n"
     ]
    }
   ],
   "source": [
    "# Convert the train DataFrame with rating squared to a Surprise dataset\n",
    "data_squared = Dataset.load_from_df(train_df[['user', 'item', 'rating_squared']], reader)\n",
    "\n",
    "# Split the data into train and test sets\n",
    "trainset_squared, testset_squared = train_test_split(data_squared, test_size=0.2)\n",
    "\n",
    "# Train the SVD++ algorithm on the trainset with rating squared\n",
    "svdpp_squared = SVDpp(reg_all=0.3)\n",
    "svdpp_squared.fit(trainset_squared)\n",
    "\n",
    "# Predict ratings for the testset\n",
    "predictions_squared = svdpp_squared.test(testset_squared)\n",
    "test_mae_squared = mae(predictions_squared, verbose=False)\n",
    "\n",
    "# Calculate and print the MAE for trainset (using cross-validation predictions)\n",
    "train_predictions_squared = [svdpp_squared.predict(uid, iid, r_ui) for (uid, iid, r_ui) in trainset_squared.build_testset()]\n",
    "train_mae_squared = mae(train_predictions_squared, verbose=False)\n",
    "\n",
    "# Print the MAE scores\n",
    "print(f\"Train MAE (Squared): {train_mae_squared}\")\n",
    "print(f\"Test MAE (Squared): {test_mae_squared}\")"
   ]
  },
  {
   "cell_type": "code",
   "execution_count": 11,
   "metadata": {},
   "outputs": [
    {
     "name": "stdout",
     "output_type": "stream",
     "text": [
      "File saved to ../out/SVDpp/predicciones_SVD_squared_20250329_205818.csv\n"
     ]
    },
    {
     "data": {
      "text/html": [
       "<div>\n",
       "<style scoped>\n",
       "    .dataframe tbody tr th:only-of-type {\n",
       "        vertical-align: middle;\n",
       "    }\n",
       "\n",
       "    .dataframe tbody tr th {\n",
       "        vertical-align: top;\n",
       "    }\n",
       "\n",
       "    .dataframe thead th {\n",
       "        text-align: right;\n",
       "    }\n",
       "</style>\n",
       "<table border=\"1\" class=\"dataframe\">\n",
       "  <thead>\n",
       "    <tr style=\"text-align: right;\">\n",
       "      <th></th>\n",
       "      <th>ID</th>\n",
       "      <th>user</th>\n",
       "      <th>item</th>\n",
       "      <th>rating</th>\n",
       "      <th>user_mean</th>\n",
       "      <th>rating_centered</th>\n",
       "    </tr>\n",
       "  </thead>\n",
       "  <tbody>\n",
       "    <tr>\n",
       "      <th>28727</th>\n",
       "      <td>28727</td>\n",
       "      <td>4152</td>\n",
       "      <td>10745</td>\n",
       "      <td>3.0</td>\n",
       "      <td>8.300000</td>\n",
       "      <td>-0.300000</td>\n",
       "    </tr>\n",
       "    <tr>\n",
       "      <th>17537</th>\n",
       "      <td>17537</td>\n",
       "      <td>8067</td>\n",
       "      <td>2887</td>\n",
       "      <td>3.0</td>\n",
       "      <td>9.000000</td>\n",
       "      <td>-1.000000</td>\n",
       "    </tr>\n",
       "    <tr>\n",
       "      <th>39543</th>\n",
       "      <td>39543</td>\n",
       "      <td>1273</td>\n",
       "      <td>5849</td>\n",
       "      <td>3.0</td>\n",
       "      <td>8.534884</td>\n",
       "      <td>-0.534884</td>\n",
       "    </tr>\n",
       "    <tr>\n",
       "      <th>40457</th>\n",
       "      <td>40457</td>\n",
       "      <td>9401</td>\n",
       "      <td>824</td>\n",
       "      <td>3.0</td>\n",
       "      <td>6.800000</td>\n",
       "      <td>0.200000</td>\n",
       "    </tr>\n",
       "    <tr>\n",
       "      <th>6070</th>\n",
       "      <td>6070</td>\n",
       "      <td>8841</td>\n",
       "      <td>21672</td>\n",
       "      <td>3.0</td>\n",
       "      <td>6.954839</td>\n",
       "      <td>0.045161</td>\n",
       "    </tr>\n",
       "    <tr>\n",
       "      <th>37138</th>\n",
       "      <td>37138</td>\n",
       "      <td>2143</td>\n",
       "      <td>7956</td>\n",
       "      <td>3.0</td>\n",
       "      <td>5.591716</td>\n",
       "      <td>0.408284</td>\n",
       "    </tr>\n",
       "    <tr>\n",
       "      <th>10628</th>\n",
       "      <td>10628</td>\n",
       "      <td>8535</td>\n",
       "      <td>2667</td>\n",
       "      <td>3.0</td>\n",
       "      <td>8.318182</td>\n",
       "      <td>-0.318182</td>\n",
       "    </tr>\n",
       "    <tr>\n",
       "      <th>8686</th>\n",
       "      <td>8686</td>\n",
       "      <td>8434</td>\n",
       "      <td>21119</td>\n",
       "      <td>3.0</td>\n",
       "      <td>5.200000</td>\n",
       "      <td>1.800000</td>\n",
       "    </tr>\n",
       "    <tr>\n",
       "      <th>18668</th>\n",
       "      <td>18668</td>\n",
       "      <td>8076</td>\n",
       "      <td>20733</td>\n",
       "      <td>3.0</td>\n",
       "      <td>8.210863</td>\n",
       "      <td>-0.210863</td>\n",
       "    </tr>\n",
       "    <tr>\n",
       "      <th>34249</th>\n",
       "      <td>34249</td>\n",
       "      <td>4082</td>\n",
       "      <td>11883</td>\n",
       "      <td>3.0</td>\n",
       "      <td>2.750000</td>\n",
       "      <td>3.250000</td>\n",
       "    </tr>\n",
       "  </tbody>\n",
       "</table>\n",
       "</div>"
      ],
      "text/plain": [
       "          ID  user   item  rating  user_mean  rating_centered\n",
       "28727  28727  4152  10745     3.0   8.300000        -0.300000\n",
       "17537  17537  8067   2887     3.0   9.000000        -1.000000\n",
       "39543  39543  1273   5849     3.0   8.534884        -0.534884\n",
       "40457  40457  9401    824     3.0   6.800000         0.200000\n",
       "6070    6070  8841  21672     3.0   6.954839         0.045161\n",
       "37138  37138  2143   7956     3.0   5.591716         0.408284\n",
       "10628  10628  8535   2667     3.0   8.318182        -0.318182\n",
       "8686    8686  8434  21119     3.0   5.200000         1.800000\n",
       "18668  18668  8076  20733     3.0   8.210863        -0.210863\n",
       "34249  34249  4082  11883     3.0   2.750000         3.250000"
      ]
     },
     "execution_count": 11,
     "metadata": {},
     "output_type": "execute_result"
    }
   ],
   "source": [
    "from math import sqrt\n",
    "\n",
    "testset = [(row['user'], row['item'], 0) for _, row in test_df.iterrows()]\n",
    "predictions = svdpp_squared.test(testset)\n",
    "\n",
    "for i, (uid, iid, true_r, est, _) in enumerate(predictions):\n",
    "    test_df.at[i, 'rating'] = round(sqrt(est))\n",
    "\n",
    "# Prepare the output file path with a timestamp\n",
    "timestamp = datetime.now().strftime('%Y%m%d_%H%M%S')\n",
    "output_path = f'../out/SVDpp/predicciones_SVD_squared_{timestamp}.csv'\n",
    "\n",
    "# Export the result to an Excel file\n",
    "test_df[['ID', 'rating']].to_csv(output_path, index=False)\n",
    "\n",
    "print(f\"File saved to {output_path}\")\n",
    "test_df.sample(10)"
   ]
  },
  {
   "cell_type": "code",
   "execution_count": null,
   "metadata": {},
   "outputs": [
    {
     "name": "stderr",
     "output_type": "stream",
     "text": [
      "c:\\Users\\alexg\\AppData\\Local\\Programs\\Python\\Python310\\lib\\site-packages\\joblib\\externals\\loky\\process_executor.py:700: UserWarning: A worker stopped while some jobs were given to the executor. This can be caused by a too short worker timeout or by a memory leak.\n",
      "  warnings.warn(\n"
     ]
    },
    {
     "name": "stdout",
     "output_type": "stream",
     "text": [
      "Best Parameters: {'n_factors': 15, 'lr_all': 0.007, 'reg_all': 0.1}\n",
      "Best MAE: 1.2751562593967123\n"
     ]
    }
   ],
   "source": [
    "# Define the parameter grid to search\n",
    "param_grid = {\n",
    "    'n_factors': [15, 20, 25, 50],\n",
    "    'lr_all': [0.005, 0.007, 0.01],\n",
    "    'reg_all': [0.02, 0.1, 0.3]\n",
    "}\n",
    "\n",
    "# Perform grid search\n",
    "grid_search = GridSearchCV(SVDpp, param_grid, measures=['mae'], cv=3, n_jobs=-1)\n",
    "grid_search.fit(data)\n",
    "\n",
    "# Get the best parameters and corresponding MAE\n",
    "best_params = grid_search.best_params['mae']\n",
    "best_mae = grid_search.best_score['mae']\n",
    "\n",
    "print(f\"Best Parameters: {best_params}\")\n",
    "print(f\"Best MAE: {best_mae}\")"
   ]
  },
  {
   "cell_type": "code",
   "execution_count": 18,
   "metadata": {},
   "outputs": [
    {
     "name": "stdout",
     "output_type": "stream",
     "text": [
      "Train MAE (Best SVD++): 0.9039085753251793\n",
      "File saved to ../out/SVDpp/predicciones_SVD_gridsearch_factors_15_lr_0.007_reg_0.1_20250330_000204.csv\n"
     ]
    },
    {
     "data": {
      "text/html": [
       "<div>\n",
       "<style scoped>\n",
       "    .dataframe tbody tr th:only-of-type {\n",
       "        vertical-align: middle;\n",
       "    }\n",
       "\n",
       "    .dataframe tbody tr th {\n",
       "        vertical-align: top;\n",
       "    }\n",
       "\n",
       "    .dataframe thead th {\n",
       "        text-align: right;\n",
       "    }\n",
       "</style>\n",
       "<table border=\"1\" class=\"dataframe\">\n",
       "  <thead>\n",
       "    <tr style=\"text-align: right;\">\n",
       "      <th></th>\n",
       "      <th>ID</th>\n",
       "      <th>user</th>\n",
       "      <th>item</th>\n",
       "      <th>rating</th>\n",
       "      <th>user_mean</th>\n",
       "      <th>rating_centered</th>\n",
       "    </tr>\n",
       "  </thead>\n",
       "  <tbody>\n",
       "    <tr>\n",
       "      <th>6397</th>\n",
       "      <td>6397</td>\n",
       "      <td>5787</td>\n",
       "      <td>12939</td>\n",
       "      <td>9.0</td>\n",
       "      <td>10.000000</td>\n",
       "      <td>-2.000000</td>\n",
       "    </tr>\n",
       "    <tr>\n",
       "      <th>5978</th>\n",
       "      <td>5978</td>\n",
       "      <td>3396</td>\n",
       "      <td>2976</td>\n",
       "      <td>8.0</td>\n",
       "      <td>NaN</td>\n",
       "      <td>NaN</td>\n",
       "    </tr>\n",
       "    <tr>\n",
       "      <th>10608</th>\n",
       "      <td>10608</td>\n",
       "      <td>3551</td>\n",
       "      <td>10952</td>\n",
       "      <td>7.0</td>\n",
       "      <td>6.600000</td>\n",
       "      <td>0.400000</td>\n",
       "    </tr>\n",
       "    <tr>\n",
       "      <th>5704</th>\n",
       "      <td>5704</td>\n",
       "      <td>8841</td>\n",
       "      <td>21685</td>\n",
       "      <td>5.0</td>\n",
       "      <td>6.954839</td>\n",
       "      <td>0.045161</td>\n",
       "    </tr>\n",
       "    <tr>\n",
       "      <th>26077</th>\n",
       "      <td>26077</td>\n",
       "      <td>9306</td>\n",
       "      <td>8395</td>\n",
       "      <td>8.0</td>\n",
       "      <td>7.504202</td>\n",
       "      <td>0.495798</td>\n",
       "    </tr>\n",
       "    <tr>\n",
       "      <th>14983</th>\n",
       "      <td>14983</td>\n",
       "      <td>3576</td>\n",
       "      <td>2291</td>\n",
       "      <td>8.0</td>\n",
       "      <td>8.750000</td>\n",
       "      <td>-0.750000</td>\n",
       "    </tr>\n",
       "    <tr>\n",
       "      <th>38943</th>\n",
       "      <td>38943</td>\n",
       "      <td>2875</td>\n",
       "      <td>9663</td>\n",
       "      <td>7.0</td>\n",
       "      <td>7.741379</td>\n",
       "      <td>0.258621</td>\n",
       "    </tr>\n",
       "    <tr>\n",
       "      <th>14533</th>\n",
       "      <td>14533</td>\n",
       "      <td>2477</td>\n",
       "      <td>8779</td>\n",
       "      <td>8.0</td>\n",
       "      <td>7.795455</td>\n",
       "      <td>0.204545</td>\n",
       "    </tr>\n",
       "    <tr>\n",
       "      <th>31472</th>\n",
       "      <td>31472</td>\n",
       "      <td>4201</td>\n",
       "      <td>12979</td>\n",
       "      <td>9.0</td>\n",
       "      <td>8.856320</td>\n",
       "      <td>0.143680</td>\n",
       "    </tr>\n",
       "    <tr>\n",
       "      <th>1078</th>\n",
       "      <td>1078</td>\n",
       "      <td>9702</td>\n",
       "      <td>23047</td>\n",
       "      <td>7.0</td>\n",
       "      <td>6.000000</td>\n",
       "      <td>1.000000</td>\n",
       "    </tr>\n",
       "  </tbody>\n",
       "</table>\n",
       "</div>"
      ],
      "text/plain": [
       "          ID  user   item  rating  user_mean  rating_centered\n",
       "6397    6397  5787  12939     9.0  10.000000        -2.000000\n",
       "5978    5978  3396   2976     8.0        NaN              NaN\n",
       "10608  10608  3551  10952     7.0   6.600000         0.400000\n",
       "5704    5704  8841  21685     5.0   6.954839         0.045161\n",
       "26077  26077  9306   8395     8.0   7.504202         0.495798\n",
       "14983  14983  3576   2291     8.0   8.750000        -0.750000\n",
       "38943  38943  2875   9663     7.0   7.741379         0.258621\n",
       "14533  14533  2477   8779     8.0   7.795455         0.204545\n",
       "31472  31472  4201  12979     9.0   8.856320         0.143680\n",
       "1078    1078  9702  23047     7.0   6.000000         1.000000"
      ]
     },
     "execution_count": 18,
     "metadata": {},
     "output_type": "execute_result"
    }
   ],
   "source": [
    "reader = Reader(rating_scale=(train_df['rating'].min(), train_df['rating'].max()))\n",
    "data = Dataset.load_from_df(train_df[['user', 'item', 'rating']], reader)\n",
    "\n",
    "# Use the best parameters from the grid search to create a new SVD++ instance\n",
    "best_svdpp = SVDpp(n_factors=best_params['n_factors'], lr_all=best_params['lr_all'], reg_all=best_params['reg_all'])\n",
    "\n",
    "# Fit the model using the full trainset\n",
    "best_svdpp.fit(data.build_full_trainset())\n",
    "\n",
    "train_predictions = [best_svdpp.predict(uid, iid, r_ui) for (uid, iid, r_ui) in data.build_full_trainset().build_testset()]\n",
    "train_mae = mae(train_predictions, verbose=False)\n",
    "print(f\"Train MAE (Best SVD++): {train_mae}\")\n",
    "\n",
    "# Prepare the testset\n",
    "testset = [(row['user'], row['item'], 0) for _, row in test_df.iterrows()]\n",
    "predictions = best_svdpp.test(testset)\n",
    "\n",
    "for i, (uid, iid, true_r, est, _) in enumerate(predictions):\n",
    "    test_df.at[i, 'rating'] = round(est)\n",
    "\n",
    "# Prepare the output file path with parameters and a timestamp\n",
    "timestamp = datetime.now().strftime('%Y%m%d_%H%M%S')\n",
    "output_path = f\"../out/SVDpp/predicciones_SVD_gridsearch_factors_{best_params['n_factors']}_lr_{best_params['lr_all']}_reg_{best_params['reg_all']}_{timestamp}.csv\"\n",
    "\n",
    "# Export the result to a CSV file\n",
    "test_df[['ID', 'rating']].to_csv(output_path, index=False)\n",
    "\n",
    "print(f\"File saved to {output_path}\")\n",
    "test_df.sample(10)"
   ]
  },
  {
   "cell_type": "code",
   "execution_count": 10,
   "metadata": {},
   "outputs": [
    {
     "name": "stdout",
     "output_type": "stream",
     "text": [
      "Best Parameters: {'n_factors': 4, 'lr_all': 0.007, 'reg_all': 0.1}\n",
      "Best MAE: 1.272171165603339\n"
     ]
    }
   ],
   "source": [
    "reader = Reader(rating_scale=(train_df['rating'].min(), train_df['rating'].max()))\n",
    "data = Dataset.load_from_df(train_df[['user', 'item', 'rating']], reader)\n",
    "\n",
    "# Define the parameter grid to search\n",
    "param_grid = {\n",
    "    'n_factors': [4, 6, 8, 10, 12, 15, 20, 30],\n",
    "    'lr_all': [0.007],\n",
    "    'reg_all': [0.1]\n",
    "}\n",
    "\n",
    "# Perform grid search\n",
    "grid_search = GridSearchCV(SVDpp, param_grid, measures=['mae'], cv=3, n_jobs=-1)\n",
    "grid_search.fit(data)\n",
    "\n",
    "# Get the best parameters and corresponding MAE\n",
    "best_params = grid_search.best_params['mae']\n",
    "best_mae = grid_search.best_score['mae']\n",
    "\n",
    "print(f\"Best Parameters: {best_params}\")\n",
    "print(f\"Best MAE: {best_mae}\")"
   ]
  },
  {
   "cell_type": "code",
   "execution_count": 11,
   "metadata": {},
   "outputs": [
    {
     "name": "stdout",
     "output_type": "stream",
     "text": [
      "Train MAE (Best SVD++): 1.001909943398906\n",
      "File saved to ../out/SVDpp/predicciones_SVDpp_gridsearch_factors_4_lr_0.007_reg_0.1_20250330_140004.csv\n"
     ]
    },
    {
     "data": {
      "text/html": [
       "<div>\n",
       "<style scoped>\n",
       "    .dataframe tbody tr th:only-of-type {\n",
       "        vertical-align: middle;\n",
       "    }\n",
       "\n",
       "    .dataframe tbody tr th {\n",
       "        vertical-align: top;\n",
       "    }\n",
       "\n",
       "    .dataframe thead th {\n",
       "        text-align: right;\n",
       "    }\n",
       "</style>\n",
       "<table border=\"1\" class=\"dataframe\">\n",
       "  <thead>\n",
       "    <tr style=\"text-align: right;\">\n",
       "      <th></th>\n",
       "      <th>ID</th>\n",
       "      <th>user</th>\n",
       "      <th>item</th>\n",
       "      <th>rating</th>\n",
       "    </tr>\n",
       "  </thead>\n",
       "  <tbody>\n",
       "    <tr>\n",
       "      <th>34116</th>\n",
       "      <td>34116</td>\n",
       "      <td>8256</td>\n",
       "      <td>20944</td>\n",
       "      <td>7.0</td>\n",
       "    </tr>\n",
       "    <tr>\n",
       "      <th>5015</th>\n",
       "      <td>5015</td>\n",
       "      <td>8691</td>\n",
       "      <td>21463</td>\n",
       "      <td>8.0</td>\n",
       "    </tr>\n",
       "    <tr>\n",
       "      <th>21863</th>\n",
       "      <td>21863</td>\n",
       "      <td>6645</td>\n",
       "      <td>17710</td>\n",
       "      <td>7.0</td>\n",
       "    </tr>\n",
       "    <tr>\n",
       "      <th>5544</th>\n",
       "      <td>5544</td>\n",
       "      <td>11195</td>\n",
       "      <td>18130</td>\n",
       "      <td>8.0</td>\n",
       "    </tr>\n",
       "    <tr>\n",
       "      <th>13323</th>\n",
       "      <td>13323</td>\n",
       "      <td>9722</td>\n",
       "      <td>5713</td>\n",
       "      <td>7.0</td>\n",
       "    </tr>\n",
       "    <tr>\n",
       "      <th>2849</th>\n",
       "      <td>2849</td>\n",
       "      <td>534</td>\n",
       "      <td>1796</td>\n",
       "      <td>7.0</td>\n",
       "    </tr>\n",
       "    <tr>\n",
       "      <th>20199</th>\n",
       "      <td>20199</td>\n",
       "      <td>5535</td>\n",
       "      <td>15986</td>\n",
       "      <td>7.0</td>\n",
       "    </tr>\n",
       "    <tr>\n",
       "      <th>40174</th>\n",
       "      <td>40174</td>\n",
       "      <td>752</td>\n",
       "      <td>4237</td>\n",
       "      <td>7.0</td>\n",
       "    </tr>\n",
       "    <tr>\n",
       "      <th>10635</th>\n",
       "      <td>10635</td>\n",
       "      <td>1495</td>\n",
       "      <td>3813</td>\n",
       "      <td>8.0</td>\n",
       "    </tr>\n",
       "    <tr>\n",
       "      <th>32999</th>\n",
       "      <td>32999</td>\n",
       "      <td>4096</td>\n",
       "      <td>11911</td>\n",
       "      <td>7.0</td>\n",
       "    </tr>\n",
       "  </tbody>\n",
       "</table>\n",
       "</div>"
      ],
      "text/plain": [
       "          ID   user   item  rating\n",
       "34116  34116   8256  20944     7.0\n",
       "5015    5015   8691  21463     8.0\n",
       "21863  21863   6645  17710     7.0\n",
       "5544    5544  11195  18130     8.0\n",
       "13323  13323   9722   5713     7.0\n",
       "2849    2849    534   1796     7.0\n",
       "20199  20199   5535  15986     7.0\n",
       "40174  40174    752   4237     7.0\n",
       "10635  10635   1495   3813     8.0\n",
       "32999  32999   4096  11911     7.0"
      ]
     },
     "execution_count": 11,
     "metadata": {},
     "output_type": "execute_result"
    }
   ],
   "source": [
    "reader = Reader(rating_scale=(train_df['rating'].min(), train_df['rating'].max()))\n",
    "data = Dataset.load_from_df(train_df[['user', 'item', 'rating']], reader)\n",
    "\n",
    "# Use the best parameters from the grid search to create a new SVD++ instance\n",
    "best_svdpp = SVDpp(n_factors=best_params['n_factors'], lr_all=best_params['lr_all'], reg_all=best_params['reg_all'])\n",
    "\n",
    "# Fit the model using the full trainset\n",
    "best_svdpp.fit(data.build_full_trainset())\n",
    "\n",
    "train_predictions = [best_svdpp.predict(uid, iid, r_ui) for (uid, iid, r_ui) in data.build_full_trainset().build_testset()]\n",
    "train_mae = mae(train_predictions, verbose=False)\n",
    "print(f\"Train MAE (Best SVD++): {train_mae}\")\n",
    "\n",
    "# Prepare the testset\n",
    "testset = [(row['user'], row['item'], 0) for _, row in test_df.iterrows()]\n",
    "predictions = best_svdpp.test(testset)\n",
    "\n",
    "for i, (uid, iid, true_r, est, _) in enumerate(predictions):\n",
    "    test_df.at[i, 'rating'] = round(est)\n",
    "\n",
    "# Prepare the output file path with parameters and a timestamp\n",
    "timestamp = datetime.now().strftime('%Y%m%d_%H%M%S')\n",
    "output_path = f\"../out/SVDpp/predicciones_SVDpp_gridsearch_factors_{best_params['n_factors']}_lr_{best_params['lr_all']}_reg_{best_params['reg_all']}_{timestamp}.csv\"\n",
    "\n",
    "# Export the result to a CSV file\n",
    "test_df[['ID', 'rating']].to_csv(output_path, index=False)\n",
    "\n",
    "print(f\"File saved to {output_path}\")\n",
    "test_df.sample(10)"
   ]
  },
  {
   "cell_type": "code",
   "execution_count": 12,
   "metadata": {},
   "outputs": [
    {
     "name": "stderr",
     "output_type": "stream",
     "text": [
      "c:\\Users\\alexg\\AppData\\Local\\Programs\\Python\\Python310\\lib\\site-packages\\joblib\\externals\\loky\\process_executor.py:700: UserWarning: A worker stopped while some jobs were given to the executor. This can be caused by a too short worker timeout or by a memory leak.\n",
      "  warnings.warn(\n"
     ]
    },
    {
     "name": "stdout",
     "output_type": "stream",
     "text": [
      "Best Parameters: {'n_factors': 4, 'lr_all': 0.007, 'reg_all': 0.3}\n",
      "Best MAE: 1.2854556600887084\n"
     ]
    }
   ],
   "source": [
    "reader = Reader(rating_scale=(train_df['rating'].min(), train_df['rating'].max()))\n",
    "data = Dataset.load_from_df(train_df[['user', 'item', 'rating']], reader)\n",
    "\n",
    "# Define the parameter grid to search\n",
    "param_grid = {\n",
    "    'n_factors': [4, 6, 8, 10, 12, 15, 20, 30],\n",
    "    'lr_all': [0.007],\n",
    "    'reg_all': [0.3]\n",
    "}\n",
    "\n",
    "# Perform grid search\n",
    "grid_search = GridSearchCV(SVDpp, param_grid, measures=['mae'], cv=3, n_jobs=-1)\n",
    "grid_search.fit(data)\n",
    "\n",
    "# Get the best parameters and corresponding MAE\n",
    "best_params = grid_search.best_params['mae']\n",
    "best_mae = grid_search.best_score['mae']\n",
    "\n",
    "print(f\"Best Parameters: {best_params}\")\n",
    "print(f\"Best MAE: {best_mae}\")"
   ]
  },
  {
   "cell_type": "code",
   "execution_count": null,
   "metadata": {},
   "outputs": [
    {
     "name": "stderr",
     "output_type": "stream",
     "text": [
      "[I 2025-03-30 19:49:38,830] A new study created in memory with name: no-name-a4db9748-8666-4825-81ff-1db1f4b50ab8\n"
     ]
    },
    {
     "name": "stdout",
     "output_type": "stream",
     "text": [
      "Iniciando la optimización de hiperparámetros con Optuna usando loky...\n"
     ]
    },
    {
     "name": "stderr",
     "output_type": "stream",
     "text": [
      "[I 2025-03-30 19:53:06,338] Trial 0 finished with value: 1.2755801691413742 and parameters: {'n_factors': 29, 'n_epochs': 49, 'init_mean': -0.027371684047993484, 'init_std_dev': 0.030719581612553087, 'lr_all': 0.00010522780708410899, 'reg_all': 0.0007401546962041615, 'lr_bu': 0.002422183635363356, 'lr_bi': 0.002433906648448587, 'lr_pu': 0.0003352122813841975, 'lr_qi': 0.00019994777451708321, 'lr_yj': 0.00023763494195863752, 'reg_bu': 0.002415306754951884, 'reg_bi': 0.00012819386872805225, 'reg_pu': 0.006263820109774725, 'reg_qi': 0.06108358175458227, 'reg_yj': 0.01697534974993703}. Best is trial 0 with value: 1.2755801691413742.\n"
     ]
    },
    {
     "name": "stdout",
     "output_type": "stream",
     "text": [
      "Resultado MAE: 1.2755801691413742 ; Probando parámetros: n_factors=29, n_epochs=49, init_mean=-0.027371684047993484, init_std_dev=0.030719581612553087, lr_all=0.00010522780708410899, reg_all=0.0007401546962041615, lr_bu=0.002422183635363356, lr_bi=0.002433906648448587, lr_pu=0.0003352122813841975, lr_qi=0.00019994777451708321, lr_yj=0.00023763494195863752, reg_bu=0.002415306754951884, reg_bi=0.00012819386872805225, reg_pu=0.006263820109774725, reg_qi=0.06108358175458227, reg_yj=0.01697534974993703\n"
     ]
    },
    {
     "name": "stderr",
     "output_type": "stream",
     "text": [
      "[I 2025-03-30 19:54:52,354] Trial 1 finished with value: 1.321015462130668 and parameters: {'n_factors': 32, 'n_epochs': 24, 'init_mean': 0.04015924691042508, 'init_std_dev': 0.0929044066798596, 'lr_all': 0.00125582225161443, 'reg_all': 0.011565939876985334, 'lr_bu': 0.009277543069909513, 'lr_bi': 0.0022379752850849783, 'lr_pu': 0.0028850217451881067, 'lr_qi': 0.0007450124297431495, 'lr_yj': 0.0025672448944226525, 'reg_bu': 0.0003888231516324992, 'reg_bi': 0.00024670143741500623, 'reg_pu': 0.0005082503480948078, 'reg_qi': 0.0020030269956158803, 'reg_yj': 0.00013435909828915065}. Best is trial 0 with value: 1.2755801691413742.\n"
     ]
    },
    {
     "name": "stdout",
     "output_type": "stream",
     "text": [
      "Resultado MAE: 1.321015462130668 ; Probando parámetros: n_factors=32, n_epochs=24, init_mean=0.04015924691042508, init_std_dev=0.0929044066798596, lr_all=0.00125582225161443, reg_all=0.011565939876985334, lr_bu=0.009277543069909513, lr_bi=0.0022379752850849783, lr_pu=0.0028850217451881067, lr_qi=0.0007450124297431495, lr_yj=0.0025672448944226525, reg_bu=0.0003888231516324992, reg_bi=0.00024670143741500623, reg_pu=0.0005082503480948078, reg_qi=0.0020030269956158803, reg_yj=0.00013435909828915065\n"
     ]
    },
    {
     "name": "stderr",
     "output_type": "stream",
     "text": [
      "[I 2025-03-30 19:57:04,457] Trial 2 finished with value: 1.3417437308271971 and parameters: {'n_factors': 20, 'n_epochs': 49, 'init_mean': 0.030975797403582986, 'init_std_dev': 0.09681136882394303, 'lr_all': 0.0002653804630181882, 'reg_all': 0.011672683946381648, 'lr_bu': 0.00043986964249559943, 'lr_bi': 0.005235859316839693, 'lr_pu': 0.003676773731096517, 'lr_qi': 0.0010091196821261235, 'lr_yj': 0.005549921819063834, 'reg_bu': 0.0002559703698519941, 'reg_bi': 0.0013411357676955359, 'reg_pu': 0.05527225221730604, 'reg_qi': 0.04239430752010864, 'reg_yj': 0.009519478632669422}. Best is trial 0 with value: 1.2755801691413742.\n"
     ]
    },
    {
     "name": "stdout",
     "output_type": "stream",
     "text": [
      "Resultado MAE: 1.3417437308271971 ; Probando parámetros: n_factors=20, n_epochs=49, init_mean=0.030975797403582986, init_std_dev=0.09681136882394303, lr_all=0.0002653804630181882, reg_all=0.011672683946381648, lr_bu=0.00043986964249559943, lr_bi=0.005235859316839693, lr_pu=0.003676773731096517, lr_qi=0.0010091196821261235, lr_yj=0.005549921819063834, reg_bu=0.0002559703698519941, reg_bi=0.0013411357676955359, reg_pu=0.05527225221730604, reg_qi=0.04239430752010864, reg_yj=0.009519478632669422\n"
     ]
    },
    {
     "name": "stderr",
     "output_type": "stream",
     "text": [
      "[I 2025-03-30 19:57:59,274] Trial 3 finished with value: 1.3977310894760855 and parameters: {'n_factors': 29, 'n_epochs': 13, 'init_mean': 0.04400805307222798, 'init_std_dev': 0.021108552608554557, 'lr_all': 0.00028653937847458635, 'reg_all': 0.00021431757349678633, 'lr_bu': 0.00011603832910324767, 'lr_bi': 0.004515782783024316, 'lr_pu': 0.0035174204134133017, 'lr_qi': 0.00017310992782690757, 'lr_yj': 0.0044066993537622235, 'reg_bu': 0.0004825397199929988, 'reg_bi': 0.005647283366499577, 'reg_pu': 0.0008243403132961646, 'reg_qi': 0.004116157462926566, 'reg_yj': 0.004314990342224982}. Best is trial 0 with value: 1.2755801691413742.\n"
     ]
    },
    {
     "name": "stdout",
     "output_type": "stream",
     "text": [
      "Resultado MAE: 1.3977310894760855 ; Probando parámetros: n_factors=29, n_epochs=13, init_mean=0.04400805307222798, init_std_dev=0.021108552608554557, lr_all=0.00028653937847458635, reg_all=0.00021431757349678633, lr_bu=0.00011603832910324767, lr_bi=0.004515782783024316, lr_pu=0.0035174204134133017, lr_qi=0.00017310992782690757, lr_yj=0.0044066993537622235, reg_bu=0.0004825397199929988, reg_bi=0.005647283366499577, reg_pu=0.0008243403132961646, reg_qi=0.004116157462926566, reg_yj=0.004314990342224982\n"
     ]
    },
    {
     "name": "stderr",
     "output_type": "stream",
     "text": [
      "[I 2025-03-30 20:01:20,067] Trial 4 finished with value: 1.4120611182110487 and parameters: {'n_factors': 42, 'n_epochs': 34, 'init_mean': -0.01562432313687069, 'init_std_dev': 0.06529833707207068, 'lr_all': 0.0005422344589731538, 'reg_all': 0.0005464007428209711, 'lr_bu': 0.00013589610365933756, 'lr_bi': 0.00023205980167157855, 'lr_pu': 0.00021737635095855866, 'lr_qi': 0.0053611189402976555, 'lr_yj': 0.00017540157322192855, 'reg_bu': 0.06541908279884576, 'reg_bi': 0.0019230111833301719, 'reg_pu': 0.0035078494767681874, 'reg_qi': 0.0001324851929720041, 'reg_yj': 0.001087416538296126}. Best is trial 0 with value: 1.2755801691413742.\n"
     ]
    },
    {
     "name": "stdout",
     "output_type": "stream",
     "text": [
      "Resultado MAE: 1.4120611182110487 ; Probando parámetros: n_factors=42, n_epochs=34, init_mean=-0.01562432313687069, init_std_dev=0.06529833707207068, lr_all=0.0005422344589731538, reg_all=0.0005464007428209711, lr_bu=0.00013589610365933756, lr_bi=0.00023205980167157855, lr_pu=0.00021737635095855866, lr_qi=0.0053611189402976555, lr_yj=0.00017540157322192855, reg_bu=0.06541908279884576, reg_bi=0.0019230111833301719, reg_pu=0.0035078494767681874, reg_qi=0.0001324851929720041, reg_yj=0.001087416538296126\n"
     ]
    },
    {
     "name": "stderr",
     "output_type": "stream",
     "text": [
      "[I 2025-03-30 20:02:41,646] Trial 5 finished with value: 1.3943163509794172 and parameters: {'n_factors': 38, 'n_epochs': 14, 'init_mean': -0.011700694301737834, 'init_std_dev': 0.09615567447615198, 'lr_all': 0.004122928877615288, 'reg_all': 0.019770483158055355, 'lr_bu': 0.00022971373854298451, 'lr_bi': 0.005250021798303312, 'lr_pu': 0.004738505371608561, 'lr_qi': 0.0012884328742307674, 'lr_yj': 0.0033295795150774586, 'reg_bu': 0.04289043067629278, 'reg_bi': 0.00010634916436289217, 'reg_pu': 0.0030950664973801736, 'reg_qi': 0.00011304012235158511, 'reg_yj': 0.0001615916051040345}. Best is trial 0 with value: 1.2755801691413742.\n"
     ]
    },
    {
     "name": "stdout",
     "output_type": "stream",
     "text": [
      "Resultado MAE: 1.3943163509794172 ; Probando parámetros: n_factors=38, n_epochs=14, init_mean=-0.011700694301737834, init_std_dev=0.09615567447615198, lr_all=0.004122928877615288, reg_all=0.019770483158055355, lr_bu=0.00022971373854298451, lr_bi=0.005250021798303312, lr_pu=0.004738505371608561, lr_qi=0.0012884328742307674, lr_yj=0.0033295795150774586, reg_bu=0.04289043067629278, reg_bi=0.00010634916436289217, reg_pu=0.0030950664973801736, reg_qi=0.00011304012235158511, reg_yj=0.0001615916051040345\n"
     ]
    },
    {
     "name": "stderr",
     "output_type": "stream",
     "text": [
      "[I 2025-03-30 20:04:23,793] Trial 6 finished with value: 1.2834856888387705 and parameters: {'n_factors': 14, 'n_epochs': 41, 'init_mean': -0.028455129414985604, 'init_std_dev': 0.03204546955717767, 'lr_all': 0.00025861331753323114, 'reg_all': 0.006489101691982149, 'lr_bu': 0.002842275637058869, 'lr_bi': 0.008601112566086927, 'lr_pu': 0.005989473422775997, 'lr_qi': 0.0006048493066651875, 'lr_yj': 0.007980098493511004, 'reg_bu': 0.00778388016740259, 'reg_bi': 0.0026439342955678073, 'reg_pu': 0.06146599763781726, 'reg_qi': 0.0004891337929235592, 'reg_yj': 0.013161430183516544}. Best is trial 0 with value: 1.2755801691413742.\n"
     ]
    },
    {
     "name": "stdout",
     "output_type": "stream",
     "text": [
      "Resultado MAE: 1.2834856888387705 ; Probando parámetros: n_factors=14, n_epochs=41, init_mean=-0.028455129414985604, init_std_dev=0.03204546955717767, lr_all=0.00025861331753323114, reg_all=0.006489101691982149, lr_bu=0.002842275637058869, lr_bi=0.008601112566086927, lr_pu=0.005989473422775997, lr_qi=0.0006048493066651875, lr_yj=0.007980098493511004, reg_bu=0.00778388016740259, reg_bi=0.0026439342955678073, reg_pu=0.06146599763781726, reg_qi=0.0004891337929235592, reg_yj=0.013161430183516544\n"
     ]
    },
    {
     "name": "stderr",
     "output_type": "stream",
     "text": [
      "[I 2025-03-30 20:06:04,986] Trial 7 finished with value: 1.3576792696393536 and parameters: {'n_factors': 13, 'n_epochs': 41, 'init_mean': -0.03845181590490691, 'init_std_dev': 0.06658491474021327, 'lr_all': 0.000146465509058939, 'reg_all': 0.0015344882301194767, 'lr_bu': 0.00034090841529188916, 'lr_bi': 0.007727679036986633, 'lr_pu': 0.002272886203476633, 'lr_qi': 0.0010160017269628824, 'lr_yj': 0.0006022413083771849, 'reg_bu': 0.0015386488786566165, 'reg_bi': 0.0002974098383610344, 'reg_pu': 0.006929384512300827, 'reg_qi': 0.006680969462252455, 'reg_yj': 0.017438854341893163}. Best is trial 0 with value: 1.2755801691413742.\n"
     ]
    },
    {
     "name": "stdout",
     "output_type": "stream",
     "text": [
      "Resultado MAE: 1.3576792696393536 ; Probando parámetros: n_factors=13, n_epochs=41, init_mean=-0.03845181590490691, init_std_dev=0.06658491474021327, lr_all=0.000146465509058939, reg_all=0.0015344882301194767, lr_bu=0.00034090841529188916, lr_bi=0.007727679036986633, lr_pu=0.002272886203476633, lr_qi=0.0010160017269628824, lr_yj=0.0006022413083771849, reg_bu=0.0015386488786566165, reg_bi=0.0002974098383610344, reg_pu=0.006929384512300827, reg_qi=0.006680969462252455, reg_yj=0.017438854341893163\n"
     ]
    },
    {
     "name": "stderr",
     "output_type": "stream",
     "text": [
      "[I 2025-03-30 20:07:48,616] Trial 8 finished with value: 1.3548511844193225 and parameters: {'n_factors': 18, 'n_epochs': 39, 'init_mean': 0.03783213404837024, 'init_std_dev': 0.05721685512793886, 'lr_all': 0.0018865839335151266, 'reg_all': 0.0007017360810233281, 'lr_bu': 0.0007934571537118262, 'lr_bi': 0.0004904933493648015, 'lr_pu': 0.00868463394966615, 'lr_qi': 0.00244368196821912, 'lr_yj': 0.00023552958916092082, 'reg_bu': 0.01825452988143969, 'reg_bi': 0.021735558953599743, 'reg_pu': 0.0006129280281911182, 'reg_qi': 0.00017696429723681719, 'reg_yj': 0.0036951789943048853}. Best is trial 0 with value: 1.2755801691413742.\n"
     ]
    },
    {
     "name": "stdout",
     "output_type": "stream",
     "text": [
      "Resultado MAE: 1.3548511844193225 ; Probando parámetros: n_factors=18, n_epochs=39, init_mean=0.03783213404837024, init_std_dev=0.05721685512793886, lr_all=0.0018865839335151266, reg_all=0.0007017360810233281, lr_bu=0.0007934571537118262, lr_bi=0.0004904933493648015, lr_pu=0.00868463394966615, lr_qi=0.00244368196821912, lr_yj=0.00023552958916092082, reg_bu=0.01825452988143969, reg_bi=0.021735558953599743, reg_pu=0.0006129280281911182, reg_qi=0.00017696429723681719, reg_yj=0.0036951789943048853\n"
     ]
    },
    {
     "name": "stderr",
     "output_type": "stream",
     "text": [
      "[I 2025-03-30 20:09:41,880] Trial 9 finished with value: 1.3310528832531572 and parameters: {'n_factors': 18, 'n_epochs': 41, 'init_mean': 0.039761255252265634, 'init_std_dev': 0.03972918963286734, 'lr_all': 0.0012668001268794698, 'reg_all': 0.0013874988620525578, 'lr_bu': 0.0005373339560370221, 'lr_bi': 0.00042030307513073547, 'lr_pu': 0.00023303419018598203, 'lr_qi': 0.0005861345033295447, 'lr_yj': 0.00010442499403541549, 'reg_bu': 0.002555991531298631, 'reg_bi': 0.0011994159721996588, 'reg_pu': 0.00011464213342783298, 'reg_qi': 0.011891597244473162, 'reg_yj': 0.08816138064956351}. Best is trial 0 with value: 1.2755801691413742.\n"
     ]
    },
    {
     "name": "stdout",
     "output_type": "stream",
     "text": [
      "Resultado MAE: 1.3310528832531572 ; Probando parámetros: n_factors=18, n_epochs=41, init_mean=0.039761255252265634, init_std_dev=0.03972918963286734, lr_all=0.0012668001268794698, reg_all=0.0013874988620525578, lr_bu=0.0005373339560370221, lr_bi=0.00042030307513073547, lr_pu=0.00023303419018598203, lr_qi=0.0005861345033295447, lr_yj=0.00010442499403541549, reg_bu=0.002555991531298631, reg_bi=0.0011994159721996588, reg_pu=0.00011464213342783298, reg_qi=0.011891597244473162, reg_yj=0.08816138064956351\n"
     ]
    },
    {
     "name": "stderr",
     "output_type": "stream",
     "text": [
      "[I 2025-03-30 20:15:49,947] Trial 10 finished with value: 1.2636034084316825 and parameters: {'n_factors': 47, 'n_epochs': 50, 'init_mean': 0.013264486324042507, 'init_std_dev': 0.01188328641958163, 'lr_all': 0.00010486245568457871, 'reg_all': 0.07867121726419232, 'lr_bu': 0.0022971422916090653, 'lr_bi': 0.0014376064788556163, 'lr_pu': 0.0006153828911076795, 'lr_qi': 0.00010301609112770345, 'lr_yj': 0.0006134198104453135, 'reg_bu': 0.00012586384001361372, 'reg_bi': 0.05932577924391447, 'reg_pu': 0.01570018160943211, 'reg_qi': 0.0857494657885554, 'reg_yj': 0.09861170768675968}. Best is trial 10 with value: 1.2636034084316825.\n"
     ]
    },
    {
     "name": "stdout",
     "output_type": "stream",
     "text": [
      "Resultado MAE: 1.2636034084316825 ; Probando parámetros: n_factors=47, n_epochs=50, init_mean=0.013264486324042507, init_std_dev=0.01188328641958163, lr_all=0.00010486245568457871, reg_all=0.07867121726419232, lr_bu=0.0022971422916090653, lr_bi=0.0014376064788556163, lr_pu=0.0006153828911076795, lr_qi=0.00010301609112770345, lr_yj=0.0006134198104453135, reg_bu=0.00012586384001361372, reg_bi=0.05932577924391447, reg_pu=0.01570018160943211, reg_qi=0.0857494657885554, reg_yj=0.09861170768675968\n"
     ]
    },
    {
     "name": "stderr",
     "output_type": "stream",
     "text": [
      "[I 2025-03-30 20:21:46,671] Trial 11 finished with value: 1.2647585005016615 and parameters: {'n_factors': 46, 'n_epochs': 50, 'init_mean': 0.014250620213017956, 'init_std_dev': 0.010590905475254942, 'lr_all': 0.00010527865490755384, 'reg_all': 0.046327143910464906, 'lr_bu': 0.002230777825028948, 'lr_bi': 0.001349108315021646, 'lr_pu': 0.0007235905817615714, 'lr_qi': 0.00010101603182986151, 'lr_yj': 0.0006617960200592504, 'reg_bu': 0.00010019595320429986, 'reg_bi': 0.09678857213850885, 'reg_pu': 0.011815688399412601, 'reg_qi': 0.07859280294900214, 'reg_yj': 0.07860820456321531}. Best is trial 10 with value: 1.2636034084316825.\n"
     ]
    },
    {
     "name": "stdout",
     "output_type": "stream",
     "text": [
      "Resultado MAE: 1.2647585005016615 ; Probando parámetros: n_factors=46, n_epochs=50, init_mean=0.014250620213017956, init_std_dev=0.010590905475254942, lr_all=0.00010527865490755384, reg_all=0.046327143910464906, lr_bu=0.002230777825028948, lr_bi=0.001349108315021646, lr_pu=0.0007235905817615714, lr_qi=0.00010101603182986151, lr_yj=0.0006617960200592504, reg_bu=0.00010019595320429986, reg_bi=0.09678857213850885, reg_pu=0.011815688399412601, reg_qi=0.07859280294900214, reg_yj=0.07860820456321531\n"
     ]
    },
    {
     "name": "stderr",
     "output_type": "stream",
     "text": [
      "[I 2025-03-30 20:28:01,064] Trial 12 finished with value: 1.2676027641539314 and parameters: {'n_factors': 50, 'n_epochs': 50, 'init_mean': 0.01620724411836474, 'init_std_dev': 0.01666813907623197, 'lr_all': 0.009415127204077257, 'reg_all': 0.08930760682444311, 'lr_bu': 0.0020076427620692307, 'lr_bi': 0.0013307572577882683, 'lr_pu': 0.0007713656469193922, 'lr_qi': 0.0001082554911673867, 'lr_yj': 0.0009020560605030834, 'reg_bu': 0.00010379157880335083, 'reg_bi': 0.09491290909432512, 'reg_pu': 0.021315257604816087, 'reg_qi': 0.09108845186363441, 'reg_yj': 0.0955673280026544}. Best is trial 10 with value: 1.2636034084316825.\n"
     ]
    },
    {
     "name": "stdout",
     "output_type": "stream",
     "text": [
      "Resultado MAE: 1.2676027641539314 ; Probando parámetros: n_factors=50, n_epochs=50, init_mean=0.01620724411836474, init_std_dev=0.01666813907623197, lr_all=0.009415127204077257, reg_all=0.08930760682444311, lr_bu=0.0020076427620692307, lr_bi=0.0013307572577882683, lr_pu=0.0007713656469193922, lr_qi=0.0001082554911673867, lr_yj=0.0009020560605030834, reg_bu=0.00010379157880335083, reg_bi=0.09491290909432512, reg_pu=0.021315257604816087, reg_qi=0.09108845186363441, reg_yj=0.0955673280026544\n"
     ]
    },
    {
     "name": "stderr",
     "output_type": "stream",
     "text": [
      "[I 2025-03-30 20:31:22,390] Trial 13 finished with value: 1.2658001505912804 and parameters: {'n_factors': 49, 'n_epochs': 24, 'init_mean': 0.011461204372211951, 'init_std_dev': 0.010861981867840525, 'lr_all': 0.00010290336610794867, 'reg_all': 0.09630594056565109, 'lr_bu': 0.006190010128720809, 'lr_bi': 0.000942626216825588, 'lr_pu': 0.0007028021530215566, 'lr_qi': 0.00029508461083190365, 'lr_yj': 0.0005274412523915668, 'reg_bu': 0.00010550810752056581, 'reg_bi': 0.07715224209492447, 'reg_pu': 0.01792370478871744, 'reg_qi': 0.020718994070480907, 'reg_yj': 0.049280141683504614}. Best is trial 10 with value: 1.2636034084316825.\n"
     ]
    },
    {
     "name": "stdout",
     "output_type": "stream",
     "text": [
      "Resultado MAE: 1.2658001505912804 ; Probando parámetros: n_factors=49, n_epochs=24, init_mean=0.011461204372211951, init_std_dev=0.010861981867840525, lr_all=0.00010290336610794867, reg_all=0.09630594056565109, lr_bu=0.006190010128720809, lr_bi=0.000942626216825588, lr_pu=0.0007028021530215566, lr_qi=0.00029508461083190365, lr_yj=0.0005274412523915668, reg_bu=0.00010550810752056581, reg_bi=0.07715224209492447, reg_pu=0.01792370478871744, reg_qi=0.020718994070480907, reg_yj=0.049280141683504614\n"
     ]
    },
    {
     "name": "stderr",
     "output_type": "stream",
     "text": [
      "[I 2025-03-30 20:35:47,288] Trial 14 finished with value: 1.2910772174452945 and parameters: {'n_factors': 43, 'n_epochs': 45, 'init_mean': 0.008344289200288443, 'init_std_dev': 0.043651288469989974, 'lr_all': 0.0006162317034658314, 'reg_all': 0.03563748767439932, 'lr_bu': 0.0015355689902377982, 'lr_bi': 0.00010028670410824198, 'lr_pu': 0.001607072235587411, 'lr_qi': 0.00011852580153678612, 'lr_yj': 0.0017198244246872604, 'reg_bu': 0.0007425157008412277, 'reg_bi': 0.024061731779339006, 'reg_pu': 0.019300730452874584, 'reg_qi': 0.023432827562089836, 'reg_yj': 0.03269898363406936}. Best is trial 10 with value: 1.2636034084316825.\n"
     ]
    },
    {
     "name": "stdout",
     "output_type": "stream",
     "text": [
      "Resultado MAE: 1.2910772174452945 ; Probando parámetros: n_factors=43, n_epochs=45, init_mean=0.008344289200288443, init_std_dev=0.043651288469989974, lr_all=0.0006162317034658314, reg_all=0.03563748767439932, lr_bu=0.0015355689902377982, lr_bi=0.00010028670410824198, lr_pu=0.001607072235587411, lr_qi=0.00011852580153678612, lr_yj=0.0017198244246872604, reg_bu=0.0007425157008412277, reg_bi=0.024061731779339006, reg_pu=0.019300730452874584, reg_qi=0.023432827562089836, reg_yj=0.03269898363406936\n"
     ]
    },
    {
     "name": "stderr",
     "output_type": "stream",
     "text": [
      "[I 2025-03-30 20:38:42,284] Trial 15 finished with value: 1.2827254095827916 and parameters: {'n_factors': 44, 'n_epochs': 32, 'init_mean': 0.021604504168950513, 'init_std_dev': 0.021867438309302756, 'lr_all': 0.00017363549886929353, 'reg_all': 0.03699939442637235, 'lr_bu': 0.004217461910256659, 'lr_bi': 0.0010751772304487693, 'lr_pu': 0.00010440476587727115, 'lr_qi': 0.000313716938316252, 'lr_yj': 0.0013540314318191526, 'reg_bu': 0.00016105281279159286, 'reg_bi': 0.027071471394641552, 'reg_pu': 0.009088010015332762, 'reg_qi': 0.001373674774393936, 'reg_yj': 0.0008201344850388047}. Best is trial 10 with value: 1.2636034084316825.\n"
     ]
    },
    {
     "name": "stdout",
     "output_type": "stream",
     "text": [
      "Resultado MAE: 1.2827254095827916 ; Probando parámetros: n_factors=44, n_epochs=32, init_mean=0.021604504168950513, init_std_dev=0.021867438309302756, lr_all=0.00017363549886929353, reg_all=0.03699939442637235, lr_bu=0.004217461910256659, lr_bi=0.0010751772304487693, lr_pu=0.00010440476587727115, lr_qi=0.000313716938316252, lr_yj=0.0013540314318191526, reg_bu=0.00016105281279159286, reg_bi=0.027071471394641552, reg_pu=0.009088010015332762, reg_qi=0.001373674774393936, reg_yj=0.0008201344850388047\n"
     ]
    },
    {
     "name": "stderr",
     "output_type": "stream",
     "text": [
      "[I 2025-03-30 20:41:07,885] Trial 16 finished with value: 1.2969697705248964 and parameters: {'n_factors': 36, 'n_epochs': 26, 'init_mean': -0.0022259365432360976, 'init_std_dev': 0.03001301532127764, 'lr_all': 0.0005095125884396033, 'reg_all': 0.004049430208523835, 'lr_bu': 0.0013965348951509799, 'lr_bi': 0.002242737510745223, 'lr_pu': 0.0004952766382897794, 'lr_qi': 0.00875668068743206, 'lr_yj': 0.0008550697584448015, 'reg_bu': 0.000873572315343957, 'reg_bi': 0.008599932221450479, 'reg_pu': 0.09207384715462014, 'reg_qi': 0.028201867460054254, 'reg_yj': 0.040324693672911305}. Best is trial 10 with value: 1.2636034084316825.\n"
     ]
    },
    {
     "name": "stdout",
     "output_type": "stream",
     "text": [
      "Resultado MAE: 1.2969697705248964 ; Probando parámetros: n_factors=36, n_epochs=26, init_mean=-0.0022259365432360976, init_std_dev=0.03001301532127764, lr_all=0.0005095125884396033, reg_all=0.004049430208523835, lr_bu=0.0013965348951509799, lr_bi=0.002242737510745223, lr_pu=0.0004952766382897794, lr_qi=0.00875668068743206, lr_yj=0.0008550697584448015, reg_bu=0.000873572315343957, reg_bi=0.008599932221450479, reg_pu=0.09207384715462014, reg_qi=0.028201867460054254, reg_yj=0.040324693672911305\n"
     ]
    },
    {
     "name": "stderr",
     "output_type": "stream",
     "text": [
      "[I 2025-03-30 20:45:19,086] Trial 17 finished with value: 1.267744154189926 and parameters: {'n_factors': 48, 'n_epochs': 36, 'init_mean': 0.00047428276980755036, 'init_std_dev': 0.07867054829328571, 'lr_all': 0.00018171299737068113, 'reg_all': 0.04089154491168524, 'lr_bu': 0.0040620074320345265, 'lr_bi': 0.0005558906283436449, 'lr_pu': 0.0012554141260775183, 'lr_qi': 0.0003458297822844001, 'lr_yj': 0.0004035432038739244, 'reg_bu': 0.00024681758580827605, 'reg_bi': 0.045655054996984516, 'reg_pu': 0.0012342909440533141, 'reg_qi': 0.09910262190115157, 'reg_yj': 0.0010216142086824412}. Best is trial 10 with value: 1.2636034084316825.\n"
     ]
    },
    {
     "name": "stdout",
     "output_type": "stream",
     "text": [
      "Resultado MAE: 1.267744154189926 ; Probando parámetros: n_factors=48, n_epochs=36, init_mean=0.00047428276980755036, init_std_dev=0.07867054829328571, lr_all=0.00018171299737068113, reg_all=0.04089154491168524, lr_bu=0.0040620074320345265, lr_bi=0.0005558906283436449, lr_pu=0.0012554141260775183, lr_qi=0.0003458297822844001, lr_yj=0.0004035432038739244, reg_bu=0.00024681758580827605, reg_bi=0.045655054996984516, reg_pu=0.0012342909440533141, reg_qi=0.09910262190115157, reg_yj=0.0010216142086824412\n"
     ]
    },
    {
     "name": "stderr",
     "output_type": "stream",
     "text": [
      "[I 2025-03-30 20:48:47,619] Trial 18 finished with value: 1.3058893262532083 and parameters: {'n_factors': 39, 'n_epochs': 46, 'init_mean': 0.02651966126115103, 'init_std_dev': 0.04737499997475232, 'lr_all': 0.00040265802665657746, 'reg_all': 0.06176659073289776, 'lr_bu': 0.0009492191445535456, 'lr_bi': 0.001604410169483144, 'lr_pu': 0.0004555041201146675, 'lr_qi': 0.00010141706506657398, 'lr_yj': 0.0003657703851858381, 'reg_bu': 0.007935473091378795, 'reg_bi': 0.011554937921827673, 'reg_pu': 0.02796577105040835, 'reg_qi': 0.009090832827355046, 'reg_yj': 0.007341321889039196}. Best is trial 10 with value: 1.2636034084316825.\n"
     ]
    },
    {
     "name": "stdout",
     "output_type": "stream",
     "text": [
      "Resultado MAE: 1.3058893262532083 ; Probando parámetros: n_factors=39, n_epochs=46, init_mean=0.02651966126115103, init_std_dev=0.04737499997475232, lr_all=0.00040265802665657746, reg_all=0.06176659073289776, lr_bu=0.0009492191445535456, lr_bi=0.001604410169483144, lr_pu=0.0004555041201146675, lr_qi=0.00010141706506657398, lr_yj=0.0003657703851858381, reg_bu=0.007935473091378795, reg_bi=0.011554937921827673, reg_pu=0.02796577105040835, reg_qi=0.009090832827355046, reg_yj=0.007341321889039196\n"
     ]
    },
    {
     "name": "stderr",
     "output_type": "stream",
     "text": [
      "[I 2025-03-30 20:50:10,269] Trial 19 finished with value: 1.2842428529272272 and parameters: {'n_factors': 34, 'n_epochs': 19, 'init_mean': 0.0019015492800174387, 'init_std_dev': 0.01141429437450174, 'lr_all': 0.0023331703345020973, 'reg_all': 0.017648439374010005, 'lr_bu': 0.0035002266773193156, 'lr_bi': 0.0007682373892372219, 'lr_pu': 0.0011034562964084408, 'lr_qi': 0.00018858442173788498, 'lr_yj': 0.0020843879447473273, 'reg_bu': 0.0010563377227375162, 'reg_bi': 0.052577635704371004, 'reg_pu': 0.0031246173733963166, 'reg_qi': 0.043117890604870764, 'reg_yj': 0.035022018049797696}. Best is trial 10 with value: 1.2636034084316825.\n"
     ]
    },
    {
     "name": "stdout",
     "output_type": "stream",
     "text": [
      "Resultado MAE: 1.2842428529272272 ; Probando parámetros: n_factors=34, n_epochs=19, init_mean=0.0019015492800174387, init_std_dev=0.01141429437450174, lr_all=0.0023331703345020973, reg_all=0.017648439374010005, lr_bu=0.0035002266773193156, lr_bi=0.0007682373892372219, lr_pu=0.0011034562964084408, lr_qi=0.00018858442173788498, lr_yj=0.0020843879447473273, reg_bu=0.0010563377227375162, reg_bi=0.052577635704371004, reg_pu=0.0031246173733963166, reg_qi=0.043117890604870764, reg_yj=0.035022018049797696\n"
     ]
    },
    {
     "name": "stderr",
     "output_type": "stream",
     "text": [
      "[I 2025-03-30 20:52:40,903] Trial 20 finished with value: 1.376100102956501 and parameters: {'n_factors': 26, 'n_epochs': 45, 'init_mean': -0.048658555284474415, 'init_std_dev': 0.024563376632051596, 'lr_all': 0.0008710807919852652, 'reg_all': 0.005839788936261139, 'lr_bu': 0.0013582852234451746, 'lr_bi': 0.0002527207398915068, 'lr_pu': 0.00010893949936100847, 'lr_qi': 0.0018305674939540241, 'lr_yj': 0.0011222977290621444, 'reg_bu': 0.00020754103973453706, 'reg_bi': 0.01706797888457585, 'reg_pu': 0.011416164079687893, 'reg_qi': 0.0007953349849471825, 'reg_yj': 0.000342412833458707}. Best is trial 10 with value: 1.2636034084316825.\n"
     ]
    },
    {
     "name": "stdout",
     "output_type": "stream",
     "text": [
      "Resultado MAE: 1.376100102956501 ; Probando parámetros: n_factors=26, n_epochs=45, init_mean=-0.048658555284474415, init_std_dev=0.024563376632051596, lr_all=0.0008710807919852652, reg_all=0.005839788936261139, lr_bu=0.0013582852234451746, lr_bi=0.0002527207398915068, lr_pu=0.00010893949936100847, lr_qi=0.0018305674939540241, lr_yj=0.0011222977290621444, reg_bu=0.00020754103973453706, reg_bi=0.01706797888457585, reg_pu=0.011416164079687893, reg_qi=0.0007953349849471825, reg_yj=0.000342412833458707\n"
     ]
    },
    {
     "name": "stderr",
     "output_type": "stream",
     "text": [
      "[I 2025-03-30 20:56:03,897] Trial 21 finished with value: 1.2635388485454866 and parameters: {'n_factors': 47, 'n_epochs': 26, 'init_mean': 0.012621375132920248, 'init_std_dev': 0.011362939150197392, 'lr_all': 0.0001028901735364036, 'reg_all': 0.09838860654156004, 'lr_bu': 0.00664740327783377, 'lr_bi': 0.0007647698752270666, 'lr_pu': 0.0007483059592952782, 'lr_qi': 0.00031247578337478, 'lr_yj': 0.0005658809575500535, 'reg_bu': 0.00010206897733750326, 'reg_bi': 0.049013876762518796, 'reg_pu': 0.023856702450227373, 'reg_qi': 0.015192234199772475, 'reg_yj': 0.060815334402317754}. Best is trial 21 with value: 1.2635388485454866.\n"
     ]
    },
    {
     "name": "stdout",
     "output_type": "stream",
     "text": [
      "Resultado MAE: 1.2635388485454866 ; Probando parámetros: n_factors=47, n_epochs=26, init_mean=0.012621375132920248, init_std_dev=0.011362939150197392, lr_all=0.0001028901735364036, reg_all=0.09838860654156004, lr_bu=0.00664740327783377, lr_bi=0.0007647698752270666, lr_pu=0.0007483059592952782, lr_qi=0.00031247578337478, lr_yj=0.0005658809575500535, reg_bu=0.00010206897733750326, reg_bi=0.049013876762518796, reg_pu=0.023856702450227373, reg_qi=0.015192234199772475, reg_yj=0.060815334402317754\n"
     ]
    },
    {
     "name": "stderr",
     "output_type": "stream",
     "text": [
      "[I 2025-03-30 20:59:31,686] Trial 22 finished with value: 1.263159477492808 and parameters: {'n_factors': 46, 'n_epochs': 29, 'init_mean': 0.019330887766911563, 'init_std_dev': 0.010028605405476489, 'lr_all': 0.00013330615098835428, 'reg_all': 0.05103332978122945, 'lr_bu': 0.006755760128037291, 'lr_bi': 0.0007002483028716175, 'lr_pu': 0.0007182192248439653, 'lr_qi': 0.0001608507622546847, 'lr_yj': 0.0006578776512780168, 'reg_bu': 0.00010724315951409058, 'reg_bi': 0.04247570246978442, 'reg_pu': 0.02927395328239287, 'reg_qi': 0.017016259959951516, 'reg_yj': 0.0997247021845751}. Best is trial 22 with value: 1.263159477492808.\n"
     ]
    },
    {
     "name": "stdout",
     "output_type": "stream",
     "text": [
      "Resultado MAE: 1.263159477492808 ; Probando parámetros: n_factors=46, n_epochs=29, init_mean=0.019330887766911563, init_std_dev=0.010028605405476489, lr_all=0.00013330615098835428, reg_all=0.05103332978122945, lr_bu=0.006755760128037291, lr_bi=0.0007002483028716175, lr_pu=0.0007182192248439653, lr_qi=0.0001608507622546847, lr_yj=0.0006578776512780168, reg_bu=0.00010724315951409058, reg_bi=0.04247570246978442, reg_pu=0.02927395328239287, reg_qi=0.017016259959951516, reg_yj=0.0997247021845751\n"
     ]
    },
    {
     "name": "stderr",
     "output_type": "stream",
     "text": [
      "[I 2025-03-30 21:01:58,955] Trial 23 finished with value: 1.2708394491826251 and parameters: {'n_factors': 40, 'n_epochs': 26, 'init_mean': 0.023543005694951432, 'init_std_dev': 0.0181264263622053, 'lr_all': 0.00016654721578228683, 'reg_all': 0.02512390246075514, 'lr_bu': 0.009152066566133337, 'lr_bi': 0.00032929102813631836, 'lr_pu': 0.0004036426439868068, 'lr_qi': 0.0004064400726530836, 'lr_yj': 0.00038178847943199203, 'reg_bu': 0.00042336179504678744, 'reg_bi': 0.04090236097496184, 'reg_pu': 0.03786879581580672, 'reg_qi': 0.015823113710347676, 'reg_yj': 0.05792507033041417}. Best is trial 22 with value: 1.263159477492808.\n"
     ]
    },
    {
     "name": "stdout",
     "output_type": "stream",
     "text": [
      "Resultado MAE: 1.2708394491826251 ; Probando parámetros: n_factors=40, n_epochs=26, init_mean=0.023543005694951432, init_std_dev=0.0181264263622053, lr_all=0.00016654721578228683, reg_all=0.02512390246075514, lr_bu=0.009152066566133337, lr_bi=0.00032929102813631836, lr_pu=0.0004036426439868068, lr_qi=0.0004064400726530836, lr_yj=0.00038178847943199203, reg_bu=0.00042336179504678744, reg_bi=0.04090236097496184, reg_pu=0.03786879581580672, reg_qi=0.015823113710347676, reg_yj=0.05792507033041417\n"
     ]
    },
    {
     "name": "stderr",
     "output_type": "stream",
     "text": [
      "[I 2025-03-30 21:05:26,856] Trial 24 finished with value: 1.2635393967055866 and parameters: {'n_factors': 46, 'n_epochs': 28, 'init_mean': -0.007066728165825476, 'init_std_dev': 0.03524453821549446, 'lr_all': 0.0003329608867589473, 'reg_all': 0.09004232188100504, 'lr_bu': 0.005948552251481766, 'lr_bi': 0.0006950442653360692, 'lr_pu': 0.0002726730400290493, 'lr_qi': 0.0001711335288484258, 'lr_yj': 0.0007929215245674982, 'reg_bu': 0.00015914540376733884, 'reg_bi': 0.004657773990051525, 'reg_pu': 0.04913083288150497, 'reg_qi': 0.006016395077010073, 'reg_yj': 0.02606080978501229}. Best is trial 22 with value: 1.263159477492808.\n"
     ]
    },
    {
     "name": "stdout",
     "output_type": "stream",
     "text": [
      "Resultado MAE: 1.2635393967055866 ; Probando parámetros: n_factors=46, n_epochs=28, init_mean=-0.007066728165825476, init_std_dev=0.03524453821549446, lr_all=0.0003329608867589473, reg_all=0.09004232188100504, lr_bu=0.005948552251481766, lr_bi=0.0006950442653360692, lr_pu=0.0002726730400290493, lr_qi=0.0001711335288484258, lr_yj=0.0007929215245674982, reg_bu=0.00015914540376733884, reg_bi=0.004657773990051525, reg_pu=0.04913083288150497, reg_qi=0.006016395077010073, reg_yj=0.02606080978501229\n"
     ]
    },
    {
     "name": "stderr",
     "output_type": "stream",
     "text": [
      "[I 2025-03-30 21:09:05,822] Trial 25 finished with value: 1.2637992997122673 and parameters: {'n_factors': 45, 'n_epochs': 29, 'init_mean': -0.0088116948264707, 'init_std_dev': 0.03820533987640272, 'lr_all': 0.0003369087735545496, 'reg_all': 0.059109792797487286, 'lr_bu': 0.005856797684082941, 'lr_bi': 0.0006793362470996226, 'lr_pu': 0.0002549171466979908, 'lr_qi': 0.00023571086109957514, 'lr_yj': 0.0013983851198649947, 'reg_bu': 0.00028356704545665534, 'reg_bi': 0.005568971695655117, 'reg_pu': 0.09820102375691066, 'reg_qi': 0.004622844829763602, 'reg_yj': 0.025553188468413004}. Best is trial 22 with value: 1.263159477492808.\n"
     ]
    },
    {
     "name": "stdout",
     "output_type": "stream",
     "text": [
      "Resultado MAE: 1.2637992997122673 ; Probando parámetros: n_factors=45, n_epochs=29, init_mean=-0.0088116948264707, init_std_dev=0.03820533987640272, lr_all=0.0003369087735545496, reg_all=0.059109792797487286, lr_bu=0.005856797684082941, lr_bi=0.0006793362470996226, lr_pu=0.0002549171466979908, lr_qi=0.00023571086109957514, lr_yj=0.0013983851198649947, reg_bu=0.00028356704545665534, reg_bi=0.005568971695655117, reg_pu=0.09820102375691066, reg_qi=0.004622844829763602, reg_yj=0.025553188468413004\n"
     ]
    },
    {
     "name": "stderr",
     "output_type": "stream",
     "text": [
      "[I 2025-03-30 21:11:22,351] Trial 26 finished with value: 1.282271199450611 and parameters: {'n_factors': 41, 'n_epochs': 19, 'init_mean': -0.01782994662623215, 'init_std_dev': 0.05224007161956862, 'lr_all': 0.00024123090411465583, 'reg_all': 0.02569806979271592, 'lr_bu': 0.00653037705334873, 'lr_bi': 0.0001710129431943735, 'lr_pu': 0.00017768743653685034, 'lr_qi': 0.00015759103827549427, 'lr_yj': 0.000275722962494865, 'reg_bu': 0.00017830879223573268, 'reg_bi': 0.0006427670774161232, 'reg_pu': 0.03571188993770643, 'reg_qi': 0.007436228640739042, 'reg_yj': 0.02281165044906967}. Best is trial 22 with value: 1.263159477492808.\n"
     ]
    },
    {
     "name": "stdout",
     "output_type": "stream",
     "text": [
      "Resultado MAE: 1.282271199450611 ; Probando parámetros: n_factors=41, n_epochs=19, init_mean=-0.01782994662623215, init_std_dev=0.05224007161956862, lr_all=0.00024123090411465583, reg_all=0.02569806979271592, lr_bu=0.00653037705334873, lr_bi=0.0001710129431943735, lr_pu=0.00017768743653685034, lr_qi=0.00015759103827549427, lr_yj=0.000275722962494865, reg_bu=0.00017830879223573268, reg_bi=0.0006427670774161232, reg_pu=0.03571188993770643, reg_qi=0.007436228640739042, reg_yj=0.02281165044906967\n"
     ]
    },
    {
     "name": "stderr",
     "output_type": "stream",
     "text": [
      "[I 2025-03-30 21:13:55,296] Trial 27 finished with value: 1.3816029359010393 and parameters: {'n_factors': 37, 'n_epochs': 29, 'init_mean': 0.0497901200270538, 'init_std_dev': 0.026847986054673215, 'lr_all': 0.00014804511927134995, 'reg_all': 0.09857534654830162, 'lr_bu': 0.005273226510685206, 'lr_bi': 0.0007104693632024956, 'lr_pu': 0.0017740192866946194, 'lr_qi': 0.00044043580316582387, 'lr_yj': 0.0008336878236424391, 'reg_bu': 0.0005520499966764359, 'reg_bi': 0.004899721658434967, 'reg_pu': 0.04757061077982613, 'reg_qi': 0.0020727324471414223, 'reg_yj': 0.001994736044215324}. Best is trial 22 with value: 1.263159477492808.\n"
     ]
    },
    {
     "name": "stdout",
     "output_type": "stream",
     "text": [
      "Resultado MAE: 1.3816029359010393 ; Probando parámetros: n_factors=37, n_epochs=29, init_mean=0.0497901200270538, init_std_dev=0.026847986054673215, lr_all=0.00014804511927134995, reg_all=0.09857534654830162, lr_bu=0.005273226510685206, lr_bi=0.0007104693632024956, lr_pu=0.0017740192866946194, lr_qi=0.00044043580316582387, lr_yj=0.0008336878236424391, reg_bu=0.0005520499966764359, reg_bi=0.004899721658434967, reg_pu=0.04757061077982613, reg_qi=0.0020727324471414223, reg_yj=0.001994736044215324\n"
     ]
    },
    {
     "name": "stderr",
     "output_type": "stream",
     "text": [
      "[I 2025-03-30 21:16:33,589] Trial 28 finished with value: 1.268285473108975 and parameters: {'n_factors': 50, 'n_epochs': 21, 'init_mean': 0.0035715886543525328, 'init_std_dev': 0.03534976594454409, 'lr_all': 0.00020657110891892275, 'reg_all': 0.010987593658380626, 'lr_bu': 0.00959388777886813, 'lr_bi': 0.00030300191308625944, 'lr_pu': 0.0001548309130309537, 'lr_qi': 0.000258033065479897, 'lr_yj': 0.00015135230960473751, 'reg_bu': 0.005944345350606712, 'reg_bi': 0.012494474268411594, 'reg_pu': 0.027983798439241512, 'reg_qi': 0.014047495051732752, 'reg_yj': 0.05611214948652367}. Best is trial 22 with value: 1.263159477492808.\n"
     ]
    },
    {
     "name": "stdout",
     "output_type": "stream",
     "text": [
      "Resultado MAE: 1.268285473108975 ; Probando parámetros: n_factors=50, n_epochs=21, init_mean=0.0035715886543525328, init_std_dev=0.03534976594454409, lr_all=0.00020657110891892275, reg_all=0.010987593658380626, lr_bu=0.00959388777886813, lr_bi=0.00030300191308625944, lr_pu=0.0001548309130309537, lr_qi=0.000258033065479897, lr_yj=0.00015135230960473751, reg_bu=0.005944345350606712, reg_bi=0.012494474268411594, reg_pu=0.027983798439241512, reg_qi=0.014047495051732752, reg_yj=0.05611214948652367\n"
     ]
    },
    {
     "name": "stderr",
     "output_type": "stream",
     "text": [
      "[I 2025-03-30 21:18:28,759] Trial 29 finished with value: 1.270492055800936 and parameters: {'n_factors': 24, 'n_epochs': 31, 'init_mean': -0.0052946074641456245, 'init_std_dev': 0.02731665440095869, 'lr_all': 0.0003835919161642137, 'reg_all': 0.0001908383362520797, 'lr_bu': 0.0031938975576496402, 'lr_bi': 0.0009255578485835398, 'lr_pu': 0.0003211276088615363, 'lr_qi': 0.00014533193824707363, 'lr_yj': 0.0004682033339748001, 'reg_bu': 0.0016547053034274483, 'reg_bi': 0.03645583841010431, 'reg_pu': 0.005171734261880667, 'reg_qi': 0.033315045516409986, 'reg_yj': 0.007731650530022236}. Best is trial 22 with value: 1.263159477492808.\n"
     ]
    },
    {
     "name": "stdout",
     "output_type": "stream",
     "text": [
      "Resultado MAE: 1.270492055800936 ; Probando parámetros: n_factors=24, n_epochs=31, init_mean=-0.0052946074641456245, init_std_dev=0.02731665440095869, lr_all=0.0003835919161642137, reg_all=0.0001908383362520797, lr_bu=0.0031938975576496402, lr_bi=0.0009255578485835398, lr_pu=0.0003211276088615363, lr_qi=0.00014533193824707363, lr_yj=0.0004682033339748001, reg_bu=0.0016547053034274483, reg_bi=0.03645583841010431, reg_pu=0.005171734261880667, reg_qi=0.033315045516409986, reg_yj=0.007731650530022236\n"
     ]
    },
    {
     "name": "stderr",
     "output_type": "stream",
     "text": [
      "[I 2025-03-30 21:22:13,297] Trial 30 finished with value: 1.2787550475525904 and parameters: {'n_factors': 46, 'n_epochs': 36, 'init_mean': -0.025239329475467576, 'init_std_dev': 0.016933814497461938, 'lr_all': 0.00013340809058314229, 'reg_all': 0.00010868760242145817, 'lr_bu': 0.0072402793405637505, 'lr_bi': 0.00044116441768104407, 'lr_pu': 0.00032586727341932356, 'lr_qi': 0.0002119235752224915, 'lr_yj': 0.00031626558780649855, 'reg_bu': 0.004274006324309323, 'reg_bi': 0.0036657647805672794, 'reg_pu': 0.06787002667829348, 'reg_qi': 0.005504546590138337, 'reg_yj': 0.012814011980574759}. Best is trial 22 with value: 1.263159477492808.\n"
     ]
    },
    {
     "name": "stdout",
     "output_type": "stream",
     "text": [
      "Resultado MAE: 1.2787550475525904 ; Probando parámetros: n_factors=46, n_epochs=36, init_mean=-0.025239329475467576, init_std_dev=0.016933814497461938, lr_all=0.00013340809058314229, reg_all=0.00010868760242145817, lr_bu=0.0072402793405637505, lr_bi=0.00044116441768104407, lr_pu=0.00032586727341932356, lr_qi=0.0002119235752224915, lr_yj=0.00031626558780649855, reg_bu=0.004274006324309323, reg_bi=0.0036657647805672794, reg_pu=0.06787002667829348, reg_qi=0.005504546590138337, reg_yj=0.012814011980574759\n"
     ]
    },
    {
     "name": "stderr",
     "output_type": "stream",
     "text": [
      "[I 2025-03-30 21:25:08,675] Trial 31 finished with value: 1.2733693980161538 and parameters: {'n_factors': 46, 'n_epochs': 28, 'init_mean': 0.03007366828832201, 'init_std_dev': 0.015231443303077324, 'lr_all': 0.00010891927824750073, 'reg_all': 0.0627766640859016, 'lr_bu': 0.004488623656838329, 'lr_bi': 0.0031300756523771054, 'lr_pu': 0.000561803600870696, 'lr_qi': 0.00014573371842236323, 'lr_yj': 0.0006264986645109785, 'reg_bu': 0.00015259677279022576, 'reg_bi': 0.05566735305276404, 'reg_pu': 0.013992074518295648, 'reg_qi': 0.059318842423276626, 'reg_yj': 0.06798885899529093}. Best is trial 22 with value: 1.263159477492808.\n"
     ]
    },
    {
     "name": "stdout",
     "output_type": "stream",
     "text": [
      "Resultado MAE: 1.2733693980161538 ; Probando parámetros: n_factors=46, n_epochs=28, init_mean=0.03007366828832201, init_std_dev=0.015231443303077324, lr_all=0.00010891927824750073, reg_all=0.0627766640859016, lr_bu=0.004488623656838329, lr_bi=0.0031300756523771054, lr_pu=0.000561803600870696, lr_qi=0.00014573371842236323, lr_yj=0.0006264986645109785, reg_bu=0.00015259677279022576, reg_bi=0.05566735305276404, reg_pu=0.013992074518295648, reg_qi=0.059318842423276626, reg_yj=0.06798885899529093\n"
     ]
    },
    {
     "name": "stderr",
     "output_type": "stream",
     "text": [
      "[I 2025-03-30 21:27:34,547] Trial 32 finished with value: 1.2808840222392377 and parameters: {'n_factors': 48, 'n_epochs': 23, 'init_mean': 0.0072578058867235114, 'init_std_dev': 0.02159556887337372, 'lr_all': 0.00012996990734144342, 'reg_all': 0.06663650210602716, 'lr_bu': 0.002645438917764076, 'lr_bi': 0.0018020061176824097, 'lr_pu': 0.0009210745192501908, 'lr_qi': 0.00021315087624981135, 'lr_yj': 0.001125653550548656, 'reg_bu': 0.0003124239065096723, 'reg_bi': 0.06463454949759007, 'reg_pu': 0.026905606614840188, 'reg_qi': 0.01843647767600499, 'reg_yj': 0.09003134250244271}. Best is trial 22 with value: 1.263159477492808.\n"
     ]
    },
    {
     "name": "stdout",
     "output_type": "stream",
     "text": [
      "Resultado MAE: 1.2808840222392377 ; Probando parámetros: n_factors=48, n_epochs=23, init_mean=0.0072578058867235114, init_std_dev=0.02159556887337372, lr_all=0.00012996990734144342, reg_all=0.06663650210602716, lr_bu=0.002645438917764076, lr_bi=0.0018020061176824097, lr_pu=0.0009210745192501908, lr_qi=0.00021315087624981135, lr_yj=0.001125653550548656, reg_bu=0.0003124239065096723, reg_bi=0.06463454949759007, reg_pu=0.026905606614840188, reg_qi=0.01843647767600499, reg_yj=0.09003134250244271\n"
     ]
    },
    {
     "name": "stderr",
     "output_type": "stream",
     "text": [
      "[I 2025-03-30 21:31:20,868] Trial 33 finished with value: 1.2612328175597172 and parameters: {'n_factors': 42, 'n_epochs': 32, 'init_mean': 0.01922187002094028, 'init_std_dev': 0.010556990015051412, 'lr_all': 0.00022379998924262058, 'reg_all': 0.030066884631671308, 'lr_bu': 0.007710751063469288, 'lr_bi': 0.0011211228690492805, 'lr_pu': 0.0006147360204751515, 'lr_qi': 0.0001410721914162627, 'lr_yj': 0.0007589567837524993, 'reg_bu': 0.00014229052427972813, 'reg_bi': 0.03164390262707105, 'reg_pu': 0.040577857045215895, 'reg_qi': 0.0024895391782176132, 'reg_yj': 0.025515562705107384}. Best is trial 33 with value: 1.2612328175597172.\n"
     ]
    },
    {
     "name": "stdout",
     "output_type": "stream",
     "text": [
      "Resultado MAE: 1.2612328175597172 ; Probando parámetros: n_factors=42, n_epochs=32, init_mean=0.01922187002094028, init_std_dev=0.010556990015051412, lr_all=0.00022379998924262058, reg_all=0.030066884631671308, lr_bu=0.007710751063469288, lr_bi=0.0011211228690492805, lr_pu=0.0006147360204751515, lr_qi=0.0001410721914162627, lr_yj=0.0007589567837524993, reg_bu=0.00014229052427972813, reg_bi=0.03164390262707105, reg_pu=0.040577857045215895, reg_qi=0.0024895391782176132, reg_yj=0.025515562705107384\n"
     ]
    },
    {
     "name": "stderr",
     "output_type": "stream",
     "text": [
      "[I 2025-03-30 21:34:15,589] Trial 34 finished with value: 1.260935002116465 and parameters: {'n_factors': 33, 'n_epochs': 33, 'init_mean': 0.017895768286737113, 'init_std_dev': 0.032426711950499815, 'lr_all': 0.0001999476494553649, 'reg_all': 0.01411564329144914, 'lr_bu': 0.007167947082103502, 'lr_bi': 0.0010768491603317485, 'lr_pu': 0.000938122108137566, 'lr_qi': 0.0005332081292774263, 'lr_yj': 0.0007781338362330288, 'reg_bu': 0.00018992182055831467, 'reg_bi': 0.031160198425351754, 'reg_pu': 0.044915955133169254, 'reg_qi': 0.0028300551177158073, 'reg_yj': 0.020617750388911133}. Best is trial 34 with value: 1.260935002116465.\n"
     ]
    },
    {
     "name": "stdout",
     "output_type": "stream",
     "text": [
      "Resultado MAE: 1.260935002116465 ; Probando parámetros: n_factors=33, n_epochs=33, init_mean=0.017895768286737113, init_std_dev=0.032426711950499815, lr_all=0.0001999476494553649, reg_all=0.01411564329144914, lr_bu=0.007167947082103502, lr_bi=0.0010768491603317485, lr_pu=0.000938122108137566, lr_qi=0.0005332081292774263, lr_yj=0.0007781338362330288, reg_bu=0.00018992182055831467, reg_bi=0.031160198425351754, reg_pu=0.044915955133169254, reg_qi=0.0028300551177158073, reg_yj=0.020617750388911133\n"
     ]
    },
    {
     "name": "stderr",
     "output_type": "stream",
     "text": [
      "[I 2025-03-30 21:37:23,252] Trial 35 finished with value: 1.274359285217885 and parameters: {'n_factors': 33, 'n_epochs': 34, 'init_mean': 0.034843192274002635, 'init_std_dev': 0.020463642912350727, 'lr_all': 0.00023402872259892875, 'reg_all': 0.012035957500127125, 'lr_bu': 0.009181907420604745, 'lr_bi': 0.0012130164917810815, 'lr_pu': 0.0013589559576854323, 'lr_qi': 0.0005301882706440571, 'lr_yj': 0.002215088282899166, 'reg_bu': 0.00033995138125671957, 'reg_bi': 0.031958384725322954, 'reg_pu': 0.07082584582370112, 'reg_qi': 0.0028850109058656858, 'reg_yj': 0.01914207449985615}. Best is trial 34 with value: 1.260935002116465.\n"
     ]
    },
    {
     "name": "stdout",
     "output_type": "stream",
     "text": [
      "Resultado MAE: 1.274359285217885 ; Probando parámetros: n_factors=33, n_epochs=34, init_mean=0.034843192274002635, init_std_dev=0.020463642912350727, lr_all=0.00023402872259892875, reg_all=0.012035957500127125, lr_bu=0.009181907420604745, lr_bi=0.0012130164917810815, lr_pu=0.0013589559576854323, lr_qi=0.0005301882706440571, lr_yj=0.002215088282899166, reg_bu=0.00033995138125671957, reg_bi=0.031958384725322954, reg_pu=0.07082584582370112, reg_qi=0.0028850109058656858, reg_yj=0.01914207449985615\n"
     ]
    },
    {
     "name": "stderr",
     "output_type": "stream",
     "text": [
      "[I 2025-03-30 21:40:16,027] Trial 36 finished with value: 1.2668011412335443 and parameters: {'n_factors': 31, 'n_epochs': 33, 'init_mean': 0.02069613964614878, 'init_std_dev': 0.08676014623331349, 'lr_all': 0.0001974388702693087, 'reg_all': 0.014464785695516506, 'lr_bu': 0.008189017396631554, 'lr_bi': 0.0030955500189974406, 'lr_pu': 0.0009012381096274169, 'lr_qi': 0.0008940040441292531, 'lr_yj': 0.0014796273246593778, 'reg_bu': 0.0005528741565199454, 'reg_bi': 0.015635610313197355, 'reg_pu': 0.00017929972939592303, 'reg_qi': 0.002951037338727273, 'reg_yj': 0.005509539615216521}. Best is trial 34 with value: 1.260935002116465.\n"
     ]
    },
    {
     "name": "stdout",
     "output_type": "stream",
     "text": [
      "Resultado MAE: 1.2668011412335443 ; Probando parámetros: n_factors=31, n_epochs=33, init_mean=0.02069613964614878, init_std_dev=0.08676014623331349, lr_all=0.0001974388702693087, reg_all=0.014464785695516506, lr_bu=0.008189017396631554, lr_bi=0.0030955500189974406, lr_pu=0.0009012381096274169, lr_qi=0.0008940040441292531, lr_yj=0.0014796273246593778, reg_bu=0.0005528741565199454, reg_bi=0.015635610313197355, reg_pu=0.00017929972939592303, reg_qi=0.002951037338727273, reg_yj=0.005509539615216521\n"
     ]
    },
    {
     "name": "stderr",
     "output_type": "stream",
     "text": [
      "[I 2025-03-30 21:44:07,297] Trial 37 finished with value: 1.2774164869450915 and parameters: {'n_factors': 42, 'n_epochs': 36, 'init_mean': 0.019708209717957965, 'init_std_dev': 0.025466447942612366, 'lr_all': 0.00029772718057718213, 'reg_all': 0.00845449970475067, 'lr_bu': 0.004866586532947376, 'lr_bi': 0.0005718103062351576, 'lr_pu': 0.0020439564612595054, 'lr_qi': 0.00040601368257575296, 'lr_yj': 0.00021293790288594573, 'reg_bu': 0.00022680895976078541, 'reg_bi': 0.008638345231311663, 'reg_pu': 0.0016083677887283058, 'reg_qi': 0.0012617977487861263, 'reg_yj': 0.012941039101464633}. Best is trial 34 with value: 1.260935002116465.\n"
     ]
    },
    {
     "name": "stdout",
     "output_type": "stream",
     "text": [
      "Resultado MAE: 1.2774164869450915 ; Probando parámetros: n_factors=42, n_epochs=36, init_mean=0.019708209717957965, init_std_dev=0.025466447942612366, lr_all=0.00029772718057718213, reg_all=0.00845449970475067, lr_bu=0.004866586532947376, lr_bi=0.0005718103062351576, lr_pu=0.0020439564612595054, lr_qi=0.00040601368257575296, lr_yj=0.00021293790288594573, reg_bu=0.00022680895976078541, reg_bi=0.008638345231311663, reg_pu=0.0016083677887283058, reg_qi=0.0012617977487861263, reg_yj=0.012941039101464633\n"
     ]
    },
    {
     "name": "stderr",
     "output_type": "stream",
     "text": [
      "[I 2025-03-30 21:46:08,386] Trial 38 finished with value: 1.2664063300910235 and parameters: {'n_factors': 28, 'n_epochs': 26, 'init_mean': 0.028030818051387966, 'init_std_dev': 0.015973609243973563, 'lr_all': 0.0007327105856533522, 'reg_all': 0.026628345100700276, 'lr_bu': 0.006533356012287352, 'lr_bi': 0.0029121023943272577, 'lr_pu': 0.00040906246634223205, 'lr_qi': 0.0007130553643726886, 'lr_yj': 0.00046826424120961237, 'reg_bu': 0.000394027737984929, 'reg_bi': 0.019751510783810895, 'reg_pu': 0.04003658319568111, 'reg_qi': 0.0004427475333699267, 'reg_yj': 0.042010900512605795}. Best is trial 34 with value: 1.260935002116465.\n"
     ]
    },
    {
     "name": "stdout",
     "output_type": "stream",
     "text": [
      "Resultado MAE: 1.2664063300910235 ; Probando parámetros: n_factors=28, n_epochs=26, init_mean=0.028030818051387966, init_std_dev=0.015973609243973563, lr_all=0.0007327105856533522, reg_all=0.026628345100700276, lr_bu=0.006533356012287352, lr_bi=0.0029121023943272577, lr_pu=0.00040906246634223205, lr_qi=0.0007130553643726886, lr_yj=0.00046826424120961237, reg_bu=0.000394027737984929, reg_bi=0.019751510783810895, reg_pu=0.04003658319568111, reg_qi=0.0004427475333699267, reg_yj=0.042010900512605795\n"
     ]
    },
    {
     "name": "stderr",
     "output_type": "stream",
     "text": [
      "[I 2025-03-30 21:49:37,784] Trial 39 finished with value: 1.2620006013531888 and parameters: {'n_factors': 35, 'n_epochs': 38, 'init_mean': 0.00649838257016128, 'init_std_dev': 0.031616764225878134, 'lr_all': 0.00013635921051009824, 'reg_all': 0.003091581257116857, 'lr_bu': 0.0035549059710890847, 'lr_bi': 0.0018873275675176668, 'lr_pu': 0.0009942361333145642, 'lr_qi': 0.0002751161627653056, 'lr_yj': 0.004201561972006599, 'reg_bu': 0.0001467947617133265, 'reg_bi': 0.03231583235017632, 'reg_pu': 0.005333008686503005, 'reg_qi': 0.0017226459011940262, 'reg_yj': 0.002641314536645302}. Best is trial 34 with value: 1.260935002116465.\n"
     ]
    },
    {
     "name": "stdout",
     "output_type": "stream",
     "text": [
      "Resultado MAE: 1.2620006013531888 ; Probando parámetros: n_factors=35, n_epochs=38, init_mean=0.00649838257016128, init_std_dev=0.031616764225878134, lr_all=0.00013635921051009824, reg_all=0.003091581257116857, lr_bu=0.0035549059710890847, lr_bi=0.0018873275675176668, lr_pu=0.0009942361333145642, lr_qi=0.0002751161627653056, lr_yj=0.004201561972006599, reg_bu=0.0001467947617133265, reg_bi=0.03231583235017632, reg_pu=0.005333008686503005, reg_qi=0.0017226459011940262, reg_yj=0.002641314536645302\n"
     ]
    },
    {
     "name": "stderr",
     "output_type": "stream",
     "text": [
      "[I 2025-03-30 21:53:02,189] Trial 40 finished with value: 1.299961534629396 and parameters: {'n_factors': 34, 'n_epochs': 38, 'init_mean': 0.03255042793600049, 'init_std_dev': 0.05272916117767598, 'lr_all': 0.0004265100398157781, 'reg_all': 0.0011844470430618878, 'lr_bu': 0.0034587666548278116, 'lr_bi': 0.0020199924408021413, 'lr_pu': 0.0027391685522078395, 'lr_qi': 0.0004935537368161998, 'lr_yj': 0.00874858038303105, 'reg_bu': 0.031229658469577433, 'reg_bi': 0.007535099821802384, 'reg_pu': 0.005595980465203346, 'reg_qi': 0.0020187139941837203, 'reg_yj': 0.003582148412155466}. Best is trial 34 with value: 1.260935002116465.\n"
     ]
    },
    {
     "name": "stdout",
     "output_type": "stream",
     "text": [
      "Resultado MAE: 1.299961534629396 ; Probando parámetros: n_factors=34, n_epochs=38, init_mean=0.03255042793600049, init_std_dev=0.05272916117767598, lr_all=0.0004265100398157781, reg_all=0.0011844470430618878, lr_bu=0.0034587666548278116, lr_bi=0.0020199924408021413, lr_pu=0.0027391685522078395, lr_qi=0.0004935537368161998, lr_yj=0.00874858038303105, reg_bu=0.031229658469577433, reg_bi=0.007535099821802384, reg_pu=0.005595980465203346, reg_qi=0.0020187139941837203, reg_yj=0.003582148412155466\n"
     ]
    },
    {
     "name": "stderr",
     "output_type": "stream",
     "text": [
      "[I 2025-03-30 21:55:24,391] Trial 41 finished with value: 1.2591092602397165 and parameters: {'n_factors': 36, 'n_epochs': 32, 'init_mean': 0.007348950311705172, 'init_std_dev': 0.030963599772649186, 'lr_all': 0.0001392016094279168, 'reg_all': 0.002659890143930659, 'lr_bu': 0.007617169892640964, 'lr_bi': 0.0009011155996626184, 'lr_pu': 0.0009949428918869508, 'lr_qi': 0.0002744125321421401, 'lr_yj': 0.0031369979978934895, 'reg_bu': 0.00013983846592397137, 'reg_bi': 0.028933581528162187, 'reg_pu': 0.008158695427182403, 'reg_qi': 0.0037477017580806946, 'reg_yj': 0.002238034015141355}. Best is trial 41 with value: 1.2591092602397165.\n"
     ]
    },
    {
     "name": "stdout",
     "output_type": "stream",
     "text": [
      "Resultado MAE: 1.2591092602397165 ; Probando parámetros: n_factors=36, n_epochs=32, init_mean=0.007348950311705172, init_std_dev=0.030963599772649186, lr_all=0.0001392016094279168, reg_all=0.002659890143930659, lr_bu=0.007617169892640964, lr_bi=0.0009011155996626184, lr_pu=0.0009949428918869508, lr_qi=0.0002744125321421401, lr_yj=0.0031369979978934895, reg_bu=0.00013983846592397137, reg_bi=0.028933581528162187, reg_pu=0.008158695427182403, reg_qi=0.0037477017580806946, reg_yj=0.002238034015141355\n"
     ]
    },
    {
     "name": "stderr",
     "output_type": "stream",
     "text": [
      "[I 2025-03-30 21:58:13,341] Trial 42 finished with value: 1.2585726212512036 and parameters: {'n_factors': 36, 'n_epochs': 31, 'init_mean': 0.006288658422987642, 'init_std_dev': 0.031137511799154066, 'lr_all': 0.00013735874415523585, 'reg_all': 0.0028043767357896154, 'lr_bu': 0.00815256480367498, 'lr_bi': 0.0010126086371733567, 'lr_pu': 0.0010793153173363056, 'lr_qi': 0.0002621856823556704, 'lr_yj': 0.004133371078796867, 'reg_bu': 0.00020172546503156535, 'reg_bi': 0.03064258748119765, 'reg_pu': 0.007108652943107711, 'reg_qi': 0.0011380840285934663, 'reg_yj': 0.0021674918109381657}. Best is trial 42 with value: 1.2585726212512036.\n"
     ]
    },
    {
     "name": "stdout",
     "output_type": "stream",
     "text": [
      "Resultado MAE: 1.2585726212512036 ; Probando parámetros: n_factors=36, n_epochs=31, init_mean=0.006288658422987642, init_std_dev=0.031137511799154066, lr_all=0.00013735874415523585, reg_all=0.0028043767357896154, lr_bu=0.00815256480367498, lr_bi=0.0010126086371733567, lr_pu=0.0010793153173363056, lr_qi=0.0002621856823556704, lr_yj=0.004133371078796867, reg_bu=0.00020172546503156535, reg_bi=0.03064258748119765, reg_pu=0.007108652943107711, reg_qi=0.0011380840285934663, reg_yj=0.0021674918109381657\n"
     ]
    },
    {
     "name": "stderr",
     "output_type": "stream",
     "text": [
      "[I 2025-03-30 22:01:45,687] Trial 43 finished with value: 1.2596417114774736 and parameters: {'n_factors': 36, 'n_epochs': 38, 'init_mean': 0.009065867552770834, 'init_std_dev': 0.043112978530474744, 'lr_all': 0.00022860694483865877, 'reg_all': 0.0020849958112410696, 'lr_bu': 0.009910387839341697, 'lr_bi': 0.0009682579832076698, 'lr_pu': 0.0013532361737173706, 'lr_qi': 0.0002751894196185321, 'lr_yj': 0.0039547911161980556, 'reg_bu': 0.00021999919534053177, 'reg_bi': 0.03118303950714098, 'reg_pu': 0.0020890289347235587, 'reg_qi': 0.0011212469838601503, 'reg_yj': 0.002364920526396423}. Best is trial 42 with value: 1.2585726212512036.\n"
     ]
    },
    {
     "name": "stdout",
     "output_type": "stream",
     "text": [
      "Resultado MAE: 1.2596417114774736 ; Probando parámetros: n_factors=36, n_epochs=38, init_mean=0.009065867552770834, init_std_dev=0.043112978530474744, lr_all=0.00022860694483865877, reg_all=0.0020849958112410696, lr_bu=0.009910387839341697, lr_bi=0.0009682579832076698, lr_pu=0.0013532361737173706, lr_qi=0.0002751894196185321, lr_yj=0.0039547911161980556, reg_bu=0.00021999919534053177, reg_bi=0.03118303950714098, reg_pu=0.0020890289347235587, reg_qi=0.0011212469838601503, reg_yj=0.002364920526396423\n"
     ]
    },
    {
     "name": "stderr",
     "output_type": "stream",
     "text": [
      "[I 2025-03-30 22:04:44,134] Trial 44 finished with value: 1.2613811437413511 and parameters: {'n_factors': 38, 'n_epochs': 34, 'init_mean': 0.007037577139293177, 'init_std_dev': 0.04282883950319435, 'lr_all': 0.0002698244447161455, 'reg_all': 0.0019205823857845453, 'lr_bu': 0.009970143016091646, 'lr_bi': 0.0008817628871329661, 'lr_pu': 0.001355377356245701, 'lr_qi': 0.0007230198433503152, 'lr_yj': 0.0031141416064329507, 'reg_bu': 0.00023792160215289952, 'reg_bi': 0.015131359944045505, 'reg_pu': 0.0020862241652771347, 'reg_qi': 0.0008331391929394294, 'reg_yj': 0.001461597791535189}. Best is trial 42 with value: 1.2585726212512036.\n"
     ]
    },
    {
     "name": "stdout",
     "output_type": "stream",
     "text": [
      "Resultado MAE: 1.2613811437413511 ; Probando parámetros: n_factors=38, n_epochs=34, init_mean=0.007037577139293177, init_std_dev=0.04282883950319435, lr_all=0.0002698244447161455, reg_all=0.0019205823857845453, lr_bu=0.009970143016091646, lr_bi=0.0008817628871329661, lr_pu=0.001355377356245701, lr_qi=0.0007230198433503152, lr_yj=0.0031141416064329507, reg_bu=0.00023792160215289952, reg_bi=0.015131359944045505, reg_pu=0.0020862241652771347, reg_qi=0.0008331391929394294, reg_yj=0.001461597791535189\n"
     ]
    },
    {
     "name": "stderr",
     "output_type": "stream",
     "text": [
      "[I 2025-03-30 22:07:49,586] Trial 45 finished with value: 1.267495762156478 and parameters: {'n_factors': 36, 'n_epochs': 31, 'init_mean': 0.016097577043994015, 'init_std_dev': 0.058732040214895566, 'lr_all': 0.000216446647113495, 'reg_all': 0.00252164380002051, 'lr_bu': 0.008053671279984449, 'lr_bi': 0.0011338972744374444, 'lr_pu': 0.003188297603587069, 'lr_qi': 0.0003762442339288374, 'lr_yj': 0.006294368811100503, 'reg_bu': 0.0005843835701959289, 'reg_bi': 0.02448517771802511, 'reg_pu': 0.002275645537244012, 'reg_qi': 0.00038091585377890235, 'reg_yj': 0.002428189390303397}. Best is trial 42 with value: 1.2585726212512036.\n"
     ]
    },
    {
     "name": "stdout",
     "output_type": "stream",
     "text": [
      "Resultado MAE: 1.267495762156478 ; Probando parámetros: n_factors=36, n_epochs=31, init_mean=0.016097577043994015, init_std_dev=0.058732040214895566, lr_all=0.000216446647113495, reg_all=0.00252164380002051, lr_bu=0.008053671279984449, lr_bi=0.0011338972744374444, lr_pu=0.003188297603587069, lr_qi=0.0003762442339288374, lr_yj=0.006294368811100503, reg_bu=0.0005843835701959289, reg_bi=0.02448517771802511, reg_pu=0.002275645537244012, reg_qi=0.00038091585377890235, reg_yj=0.002428189390303397\n"
     ]
    },
    {
     "name": "stderr",
     "output_type": "stream",
     "text": [
      "[I 2025-03-30 22:11:02,001] Trial 46 finished with value: 1.3506260668218004 and parameters: {'n_factors': 30, 'n_epochs': 40, 'init_mean': -0.013211429272366166, 'init_std_dev': 0.045642207704053396, 'lr_all': 0.0004838766644660202, 'reg_all': 0.0009855185045209746, 'lr_bu': 0.00025294933439161567, 'lr_bi': 0.0015175801204595557, 'lr_pu': 0.002416081270578353, 'lr_qi': 0.00013158124798713362, 'lr_yj': 0.004431274405099171, 'reg_bu': 0.09468089079545614, 'reg_bi': 0.012474088364498367, 'reg_pu': 0.007711164191732347, 'reg_qi': 0.0008716654354915468, 'reg_yj': 0.004675095243859256}. Best is trial 42 with value: 1.2585726212512036.\n"
     ]
    },
    {
     "name": "stdout",
     "output_type": "stream",
     "text": [
      "Resultado MAE: 1.3506260668218004 ; Probando parámetros: n_factors=30, n_epochs=40, init_mean=-0.013211429272366166, init_std_dev=0.045642207704053396, lr_all=0.0004838766644660202, reg_all=0.0009855185045209746, lr_bu=0.00025294933439161567, lr_bi=0.0015175801204595557, lr_pu=0.002416081270578353, lr_qi=0.00013158124798713362, lr_yj=0.004431274405099171, reg_bu=0.09468089079545614, reg_bi=0.012474088364498367, reg_pu=0.007711164191732347, reg_qi=0.0008716654354915468, reg_yj=0.004675095243859256\n"
     ]
    }
   ],
   "source": [
    "import warnings\n",
    "warnings.filterwarnings(\"ignore\")\n",
    "\n",
    "# Cargar los datos\n",
    "df_train = pd.read_csv(\"../data/train.csv\")\n",
    "\n",
    "# Configuración del lector para Surprise\n",
    "reader = Reader(rating_scale=(df_train['rating'].min(), df_train['rating'].max()))\n",
    "data = Dataset.load_from_df(df_train[['user', 'item', 'rating']], reader)\n",
    "\n",
    "# Definir la función de objetivo para Optuna\n",
    "def objective(trial):\n",
    "    try:\n",
    "        # Hiperparámetros básicos\n",
    "        n_factors = trial.suggest_int('n_factors', 10, 50)\n",
    "        n_epochs = trial.suggest_int('n_epochs', 10, 50)\n",
    "        init_mean = trial.suggest_uniform('init_mean', -0.05, 0.05)\n",
    "        init_std_dev = trial.suggest_uniform('init_std_dev', 0.01, 0.1)\n",
    "        lr_all = trial.suggest_loguniform('lr_all', 1e-4, 1e-2)\n",
    "        reg_all = trial.suggest_loguniform('reg_all', 1e-4, 0.1)\n",
    "\n",
    "        # Parámetros específicos de aprendizaje\n",
    "        lr_bu = trial.suggest_loguniform('lr_bu', 1e-4, 1e-2)\n",
    "        lr_bi = trial.suggest_loguniform('lr_bi', 1e-4, 1e-2)\n",
    "        lr_pu = trial.suggest_loguniform('lr_pu', 1e-4, 1e-2)\n",
    "        lr_qi = trial.suggest_loguniform('lr_qi', 1e-4, 1e-2)\n",
    "        lr_yj = trial.suggest_loguniform('lr_yj', 1e-4, 1e-2)\n",
    "\n",
    "        # Parámetros específicos de regularización\n",
    "        reg_bu = trial.suggest_loguniform('reg_bu', 1e-4, 0.1)\n",
    "        reg_bi = trial.suggest_loguniform('reg_bi', 1e-4, 0.1)\n",
    "        reg_pu = trial.suggest_loguniform('reg_pu', 1e-4, 0.1)\n",
    "        reg_qi = trial.suggest_loguniform('reg_qi', 1e-4, 0.1)\n",
    "        reg_yj = trial.suggest_loguniform('reg_yj', 1e-4, 0.1)\n",
    "\n",
    "        # Crear el modelo SVD++\n",
    "        algo = SVDpp(\n",
    "            n_factors=n_factors,\n",
    "            n_epochs=n_epochs,\n",
    "            init_mean=init_mean,\n",
    "            init_std_dev=init_std_dev,\n",
    "            lr_all=lr_all,\n",
    "            reg_all=reg_all,\n",
    "            lr_bu=lr_bu,\n",
    "            lr_bi=lr_bi,\n",
    "            lr_pu=lr_pu,\n",
    "            lr_qi=lr_qi,\n",
    "            lr_yj=lr_yj,\n",
    "            reg_bu=reg_bu,\n",
    "            reg_bi=reg_bi,\n",
    "            reg_pu=reg_pu,\n",
    "            reg_qi=reg_qi,\n",
    "            reg_yj=reg_yj,\n",
    "            verbose=False\n",
    "        )\n",
    "\n",
    "        # Validación cruzada usando 3 particiones con loky backend\n",
    "        with parallel_backend(\"loky\"):\n",
    "            cv_results = cross_validate(algo, data, measures=['mae'], cv=3, verbose=False, n_jobs=14)\n",
    "\n",
    "        # Calcular el MAE promedio de las validaciones cruzadas\n",
    "        mae = sum(cv_results['test_mae']) / len(cv_results['test_mae'])\n",
    "        print(f\"Resultado MAE: {mae} ; Probando parámetros: n_factors={n_factors}, n_epochs={n_epochs}, init_mean={init_mean}, init_std_dev={init_std_dev}, \"\n",
    "              f\"lr_all={lr_all}, reg_all={reg_all}, lr_bu={lr_bu}, lr_bi={lr_bi}, lr_pu={lr_pu}, lr_qi={lr_qi}, lr_yj={lr_yj}, \"\n",
    "              f\"reg_bu={reg_bu}, reg_bi={reg_bi}, reg_pu={reg_pu}, reg_qi={reg_qi}, reg_yj={reg_yj}\")\n",
    "        return mae\n",
    "    except Exception as e:\n",
    "        print(f\"Error en la evaluación con parámetros: {e}\")\n",
    "        return float('inf')\n",
    "\n",
    "# Crear un estudio de optimización con loky\n",
    "print(\"Iniciando la optimización de hiperparámetros con Optuna usando loky...\")\n",
    "study = optuna.create_study(direction=\"minimize\")\n",
    "with parallel_backend(\"loky\"):\n",
    "    study.optimize(objective, n_trials=75, n_jobs=1)\n",
    "\n",
    "# Obtener los mejores hiperparámetros\n",
    "best_params = study.best_params\n",
    "best_mae = study.best_value\n",
    "\n",
    "print(f\"Mejores parámetros encontrados: {best_params}\")\n",
    "print(f\"Mejor MAE: {best_mae}\")\n",
    "\n",
    "# Entrenar el modelo final con los mejores parámetros\n",
    "print(\"Entrenando el modelo final con los mejores hiperparámetros...\")\n",
    "best_model = SVDpp(\n",
    "    n_factors=best_params['n_factors'],\n",
    "    n_epochs=best_params['n_epochs'],\n",
    "    init_mean=best_params['init_mean'],\n",
    "    init_std_dev=best_params['init_std_dev'],\n",
    "    lr_all=best_params['lr_all'],\n",
    "    reg_all=best_params['reg_all'],\n",
    "    lr_bu=best_params['lr_bu'],\n",
    "    lr_bi=best_params['lr_bi'],\n",
    "    lr_pu=best_params['lr_pu'],\n",
    "    lr_qi=best_params['lr_qi'],\n",
    "    lr_yj=best_params['lr_yj'],\n",
    "    reg_bu=best_params['reg_bu'],\n",
    "    reg_bi=best_params['reg_bi'],\n",
    "    reg_pu=best_params['reg_pu'],\n",
    "    reg_qi=best_params['reg_qi'],\n",
    "    reg_yj=best_params['reg_yj'],\n",
    "    verbose=True\n",
    ")\n",
    "trainset = data.build_full_trainset()\n",
    "best_model.fit(trainset)\n",
    "\n",
    "print(\"Entrenamiento final completado.\")"
   ]
  },
  {
   "cell_type": "code",
   "execution_count": 13,
   "metadata": {},
   "outputs": [
    {
     "name": "stdout",
     "output_type": "stream",
     "text": [
      "Train MAE (Best SVD++): 1.0836977948562247\n",
      "File saved to ../out/SVDpp/predicciones_SVDpp_gridsearch_factors_4_lr_0.007_reg_0.3_20250330_140845.csv\n"
     ]
    },
    {
     "data": {
      "text/html": [
       "<div>\n",
       "<style scoped>\n",
       "    .dataframe tbody tr th:only-of-type {\n",
       "        vertical-align: middle;\n",
       "    }\n",
       "\n",
       "    .dataframe tbody tr th {\n",
       "        vertical-align: top;\n",
       "    }\n",
       "\n",
       "    .dataframe thead th {\n",
       "        text-align: right;\n",
       "    }\n",
       "</style>\n",
       "<table border=\"1\" class=\"dataframe\">\n",
       "  <thead>\n",
       "    <tr style=\"text-align: right;\">\n",
       "      <th></th>\n",
       "      <th>ID</th>\n",
       "      <th>user</th>\n",
       "      <th>item</th>\n",
       "      <th>rating</th>\n",
       "    </tr>\n",
       "  </thead>\n",
       "  <tbody>\n",
       "    <tr>\n",
       "      <th>10182</th>\n",
       "      <td>10182</td>\n",
       "      <td>5259</td>\n",
       "      <td>15617</td>\n",
       "      <td>8.0</td>\n",
       "    </tr>\n",
       "    <tr>\n",
       "      <th>3865</th>\n",
       "      <td>3865</td>\n",
       "      <td>6642</td>\n",
       "      <td>2741</td>\n",
       "      <td>7.0</td>\n",
       "    </tr>\n",
       "    <tr>\n",
       "      <th>25272</th>\n",
       "      <td>25272</td>\n",
       "      <td>4201</td>\n",
       "      <td>12232</td>\n",
       "      <td>9.0</td>\n",
       "    </tr>\n",
       "    <tr>\n",
       "      <th>8760</th>\n",
       "      <td>8760</td>\n",
       "      <td>10663</td>\n",
       "      <td>3959</td>\n",
       "      <td>8.0</td>\n",
       "    </tr>\n",
       "    <tr>\n",
       "      <th>13590</th>\n",
       "      <td>13590</td>\n",
       "      <td>11145</td>\n",
       "      <td>25318</td>\n",
       "      <td>8.0</td>\n",
       "    </tr>\n",
       "    <tr>\n",
       "      <th>22987</th>\n",
       "      <td>22987</td>\n",
       "      <td>4201</td>\n",
       "      <td>2961</td>\n",
       "      <td>8.0</td>\n",
       "    </tr>\n",
       "    <tr>\n",
       "      <th>40905</th>\n",
       "      <td>40905</td>\n",
       "      <td>2411</td>\n",
       "      <td>4993</td>\n",
       "      <td>8.0</td>\n",
       "    </tr>\n",
       "    <tr>\n",
       "      <th>12514</th>\n",
       "      <td>12514</td>\n",
       "      <td>1026</td>\n",
       "      <td>4982</td>\n",
       "      <td>8.0</td>\n",
       "    </tr>\n",
       "    <tr>\n",
       "      <th>29504</th>\n",
       "      <td>29504</td>\n",
       "      <td>5214</td>\n",
       "      <td>875</td>\n",
       "      <td>8.0</td>\n",
       "    </tr>\n",
       "    <tr>\n",
       "      <th>7229</th>\n",
       "      <td>7229</td>\n",
       "      <td>4201</td>\n",
       "      <td>13519</td>\n",
       "      <td>9.0</td>\n",
       "    </tr>\n",
       "  </tbody>\n",
       "</table>\n",
       "</div>"
      ],
      "text/plain": [
       "          ID   user   item  rating\n",
       "10182  10182   5259  15617     8.0\n",
       "3865    3865   6642   2741     7.0\n",
       "25272  25272   4201  12232     9.0\n",
       "8760    8760  10663   3959     8.0\n",
       "13590  13590  11145  25318     8.0\n",
       "22987  22987   4201   2961     8.0\n",
       "40905  40905   2411   4993     8.0\n",
       "12514  12514   1026   4982     8.0\n",
       "29504  29504   5214    875     8.0\n",
       "7229    7229   4201  13519     9.0"
      ]
     },
     "execution_count": 13,
     "metadata": {},
     "output_type": "execute_result"
    }
   ],
   "source": [
    "reader = Reader(rating_scale=(train_df['rating'].min(), train_df['rating'].max()))\n",
    "data = Dataset.load_from_df(train_df[['user', 'item', 'rating']], reader)\n",
    "\n",
    "# Use the best parameters from the grid search to create a new SVD++ instance\n",
    "best_svdpp = SVDpp(n_factors=best_params['n_factors'], lr_all=best_params['lr_all'], reg_all=best_params['reg_all'])\n",
    "\n",
    "# Fit the model using the full trainset\n",
    "best_svdpp.fit(data.build_full_trainset())\n",
    "\n",
    "train_predictions = [best_svdpp.predict(uid, iid, r_ui) for (uid, iid, r_ui) in data.build_full_trainset().build_testset()]\n",
    "train_mae = mae(train_predictions, verbose=False)\n",
    "print(f\"Train MAE (Best SVD++): {train_mae}\")\n",
    "\n",
    "# Prepare the testset\n",
    "testset = [(row['user'], row['item'], 0) for _, row in test_df.iterrows()]\n",
    "predictions = best_svdpp.test(testset)\n",
    "\n",
    "for i, (uid, iid, true_r, est, _) in enumerate(predictions):\n",
    "    test_df.at[i, 'rating'] = round(est)\n",
    "\n",
    "# Prepare the output file path with parameters and a timestamp\n",
    "timestamp = datetime.now().strftime('%Y%m%d_%H%M%S')\n",
    "output_path = f\"../out/SVDpp/predicciones_SVDpp_gridsearch_factors_{best_params['n_factors']}_lr_{best_params['lr_all']}_reg_{best_params['reg_all']}_{timestamp}.csv\"\n",
    "\n",
    "# Export the result to a CSV file\n",
    "test_df[['ID', 'rating']].to_csv(output_path, index=False)\n",
    "\n",
    "print(f\"File saved to {output_path}\")\n",
    "test_df.sample(10)"
   ]
  }
 ],
 "metadata": {
  "kernelspec": {
   "display_name": "Python 3",
   "language": "python",
   "name": "python3"
  },
  "language_info": {
   "codemirror_mode": {
    "name": "ipython",
    "version": 3
   },
   "file_extension": ".py",
   "mimetype": "text/x-python",
   "name": "python",
   "nbconvert_exporter": "python",
   "pygments_lexer": "ipython3",
   "version": "3.10.4"
  }
 },
 "nbformat": 4,
 "nbformat_minor": 2
}
