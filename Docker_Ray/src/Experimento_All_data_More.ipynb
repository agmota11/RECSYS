{
 "cells": [
  {
   "cell_type": "code",
   "execution_count": 2,
   "metadata": {},
   "outputs": [],
   "source": [
    "import warnings\n",
    "warnings.filterwarnings(\"ignore\")\n",
    "import os\n",
    "os.environ['TF_CPP_MIN_LOG_LEVEL'] = '2'"
   ]
  },
  {
   "cell_type": "code",
   "execution_count": 4,
   "metadata": {},
   "outputs": [
    {
     "name": "stdout",
     "output_type": "stream",
     "text": [
      "WARNING:tensorflow:From d:\\github\\RECSYS\\.venv\\Lib\\site-packages\\keras\\src\\losses.py:2976: The name tf.losses.sparse_softmax_cross_entropy is deprecated. Please use tf.compat.v1.losses.sparse_softmax_cross_entropy instead.\n",
      "\n"
     ]
    }
   ],
   "source": [
    "import pandas as pd\n",
    "import numpy as np\n",
    "\n",
    "import tensorflow as tf\n",
    "from tensorflow.keras.models import Sequential\n",
    "from tensorflow.keras.layers import Dense, Dropout\n",
    "from tensorflow.keras.optimizers import Adam"
   ]
  },
  {
   "cell_type": "code",
   "execution_count": 5,
   "metadata": {},
   "outputs": [],
   "source": [
    "from sklearn.model_selection import train_test_split"
   ]
  },
  {
   "cell_type": "code",
   "execution_count": 1,
   "metadata": {
    "notebookRunGroups": {
     "groupValue": "1"
    }
   },
   "outputs": [
    {
     "ename": "KeyboardInterrupt",
     "evalue": "",
     "output_type": "error",
     "traceback": [
      "\u001b[31m---------------------------------------------------------------------------\u001b[39m",
      "\u001b[31mKeyboardInterrupt\u001b[39m                         Traceback (most recent call last)",
      "\u001b[36mCell\u001b[39m\u001b[36m \u001b[39m\u001b[32mIn[1]\u001b[39m\u001b[32m, line 19\u001b[39m\n\u001b[32m     16\u001b[39m \u001b[38;5;28;01mfrom\u001b[39;00m\u001b[38;5;250m \u001b[39m\u001b[34;01msklearn\u001b[39;00m\u001b[34;01m.\u001b[39;00m\u001b[34;01mmodel_selection\u001b[39;00m\u001b[38;5;250m \u001b[39m\u001b[38;5;28;01mimport\u001b[39;00m train_test_split\n\u001b[32m     17\u001b[39m \u001b[38;5;28;01mfrom\u001b[39;00m\u001b[38;5;250m \u001b[39m\u001b[34;01msklearn\u001b[39;00m\u001b[34;01m.\u001b[39;00m\u001b[34;01mmetrics\u001b[39;00m\u001b[38;5;250m \u001b[39m\u001b[38;5;28;01mimport\u001b[39;00m mean_absolute_error\n\u001b[32m---> \u001b[39m\u001b[32m19\u001b[39m \u001b[38;5;28;01mimport\u001b[39;00m\u001b[38;5;250m \u001b[39m\u001b[34;01mtensorflow\u001b[39;00m\u001b[38;5;250m \u001b[39m\u001b[38;5;28;01mas\u001b[39;00m\u001b[38;5;250m \u001b[39m\u001b[34;01mtf\u001b[39;00m\n\u001b[32m     20\u001b[39m \u001b[38;5;28;01mfrom\u001b[39;00m\u001b[38;5;250m \u001b[39m\u001b[34;01mtensorflow\u001b[39;00m\u001b[34;01m.\u001b[39;00m\u001b[34;01mkeras\u001b[39;00m\u001b[34;01m.\u001b[39;00m\u001b[34;01mmodels\u001b[39;00m\u001b[38;5;250m \u001b[39m\u001b[38;5;28;01mimport\u001b[39;00m Sequential\n\u001b[32m     21\u001b[39m \u001b[38;5;28;01mfrom\u001b[39;00m\u001b[38;5;250m \u001b[39m\u001b[34;01mtensorflow\u001b[39;00m\u001b[34;01m.\u001b[39;00m\u001b[34;01mkeras\u001b[39;00m\u001b[34;01m.\u001b[39;00m\u001b[34;01mlayers\u001b[39;00m\u001b[38;5;250m \u001b[39m\u001b[38;5;28;01mimport\u001b[39;00m Dense, Dropout\n",
      "\u001b[36mFile \u001b[39m\u001b[32md:\\github\\RECSYS\\.venv\\Lib\\site-packages\\tensorflow\\__init__.py:54\u001b[39m\n\u001b[32m     52\u001b[39m \u001b[38;5;28;01mfrom\u001b[39;00m\u001b[38;5;250m \u001b[39m\u001b[34;01mtensorflow\u001b[39;00m\u001b[34;01m.\u001b[39;00m\u001b[34;01m_api\u001b[39;00m\u001b[34;01m.\u001b[39;00m\u001b[34;01mv2\u001b[39;00m\u001b[38;5;250m \u001b[39m\u001b[38;5;28;01mimport\u001b[39;00m autograph\n\u001b[32m     53\u001b[39m \u001b[38;5;28;01mfrom\u001b[39;00m\u001b[38;5;250m \u001b[39m\u001b[34;01mtensorflow\u001b[39;00m\u001b[34;01m.\u001b[39;00m\u001b[34;01m_api\u001b[39;00m\u001b[34;01m.\u001b[39;00m\u001b[34;01mv2\u001b[39;00m\u001b[38;5;250m \u001b[39m\u001b[38;5;28;01mimport\u001b[39;00m bitwise\n\u001b[32m---> \u001b[39m\u001b[32m54\u001b[39m \u001b[38;5;28;01mfrom\u001b[39;00m\u001b[38;5;250m \u001b[39m\u001b[34;01mtensorflow\u001b[39;00m\u001b[34;01m.\u001b[39;00m\u001b[34;01m_api\u001b[39;00m\u001b[34;01m.\u001b[39;00m\u001b[34;01mv2\u001b[39;00m\u001b[38;5;250m \u001b[39m\u001b[38;5;28;01mimport\u001b[39;00m compat\n\u001b[32m     55\u001b[39m \u001b[38;5;28;01mfrom\u001b[39;00m\u001b[38;5;250m \u001b[39m\u001b[34;01mtensorflow\u001b[39;00m\u001b[34;01m.\u001b[39;00m\u001b[34;01m_api\u001b[39;00m\u001b[34;01m.\u001b[39;00m\u001b[34;01mv2\u001b[39;00m\u001b[38;5;250m \u001b[39m\u001b[38;5;28;01mimport\u001b[39;00m config\n\u001b[32m     56\u001b[39m \u001b[38;5;28;01mfrom\u001b[39;00m\u001b[38;5;250m \u001b[39m\u001b[34;01mtensorflow\u001b[39;00m\u001b[34;01m.\u001b[39;00m\u001b[34;01m_api\u001b[39;00m\u001b[34;01m.\u001b[39;00m\u001b[34;01mv2\u001b[39;00m\u001b[38;5;250m \u001b[39m\u001b[38;5;28;01mimport\u001b[39;00m data\n",
      "\u001b[36mFile \u001b[39m\u001b[32md:\\github\\RECSYS\\.venv\\Lib\\site-packages\\tensorflow\\_api\\v2\\compat\\__init__.py:8\u001b[39m\n\u001b[32m      3\u001b[39m \u001b[33;03m\"\"\"Public API for tf._api.v2.compat namespace\u001b[39;00m\n\u001b[32m      4\u001b[39m \u001b[33;03m\"\"\"\u001b[39;00m\n\u001b[32m      6\u001b[39m \u001b[38;5;28;01mimport\u001b[39;00m\u001b[38;5;250m \u001b[39m\u001b[34;01msys\u001b[39;00m\u001b[38;5;250m \u001b[39m\u001b[38;5;28;01mas\u001b[39;00m\u001b[38;5;250m \u001b[39m\u001b[34;01m_sys\u001b[39;00m\n\u001b[32m----> \u001b[39m\u001b[32m8\u001b[39m \u001b[38;5;28;01mfrom\u001b[39;00m\u001b[38;5;250m \u001b[39m\u001b[34;01mtensorflow\u001b[39;00m\u001b[34;01m.\u001b[39;00m\u001b[34;01m_api\u001b[39;00m\u001b[34;01m.\u001b[39;00m\u001b[34;01mv2\u001b[39;00m\u001b[34;01m.\u001b[39;00m\u001b[34;01mcompat\u001b[39;00m\u001b[38;5;250m \u001b[39m\u001b[38;5;28;01mimport\u001b[39;00m v1\n\u001b[32m      9\u001b[39m \u001b[38;5;28;01mfrom\u001b[39;00m\u001b[38;5;250m \u001b[39m\u001b[34;01mtensorflow\u001b[39;00m\u001b[34;01m.\u001b[39;00m\u001b[34;01m_api\u001b[39;00m\u001b[34;01m.\u001b[39;00m\u001b[34;01mv2\u001b[39;00m\u001b[34;01m.\u001b[39;00m\u001b[34;01mcompat\u001b[39;00m\u001b[38;5;250m \u001b[39m\u001b[38;5;28;01mimport\u001b[39;00m v2\n\u001b[32m     10\u001b[39m \u001b[38;5;28;01mfrom\u001b[39;00m\u001b[38;5;250m \u001b[39m\u001b[34;01mtensorflow\u001b[39;00m\u001b[34;01m.\u001b[39;00m\u001b[34;01mpython\u001b[39;00m\u001b[34;01m.\u001b[39;00m\u001b[34;01mcompat\u001b[39;00m\u001b[34;01m.\u001b[39;00m\u001b[34;01mcompat\u001b[39;00m\u001b[38;5;250m \u001b[39m\u001b[38;5;28;01mimport\u001b[39;00m forward_compatibility_horizon \u001b[38;5;66;03m# line: 125\u001b[39;00m\n",
      "\u001b[36mFile \u001b[39m\u001b[32md:\\github\\RECSYS\\.venv\\Lib\\site-packages\\tensorflow\\_api\\v2\\compat\\v1\\__init__.py:32\u001b[39m\n\u001b[32m     30\u001b[39m \u001b[38;5;28;01mfrom\u001b[39;00m\u001b[38;5;250m \u001b[39m\u001b[34;01mtensorflow\u001b[39;00m\u001b[34;01m.\u001b[39;00m\u001b[34;01m_api\u001b[39;00m\u001b[34;01m.\u001b[39;00m\u001b[34;01mv2\u001b[39;00m\u001b[34;01m.\u001b[39;00m\u001b[34;01mcompat\u001b[39;00m\u001b[34;01m.\u001b[39;00m\u001b[34;01mv1\u001b[39;00m\u001b[38;5;250m \u001b[39m\u001b[38;5;28;01mimport\u001b[39;00m autograph\n\u001b[32m     31\u001b[39m \u001b[38;5;28;01mfrom\u001b[39;00m\u001b[38;5;250m \u001b[39m\u001b[34;01mtensorflow\u001b[39;00m\u001b[34;01m.\u001b[39;00m\u001b[34;01m_api\u001b[39;00m\u001b[34;01m.\u001b[39;00m\u001b[34;01mv2\u001b[39;00m\u001b[34;01m.\u001b[39;00m\u001b[34;01mcompat\u001b[39;00m\u001b[34;01m.\u001b[39;00m\u001b[34;01mv1\u001b[39;00m\u001b[38;5;250m \u001b[39m\u001b[38;5;28;01mimport\u001b[39;00m bitwise\n\u001b[32m---> \u001b[39m\u001b[32m32\u001b[39m \u001b[38;5;28;01mfrom\u001b[39;00m\u001b[38;5;250m \u001b[39m\u001b[34;01mtensorflow\u001b[39;00m\u001b[34;01m.\u001b[39;00m\u001b[34;01m_api\u001b[39;00m\u001b[34;01m.\u001b[39;00m\u001b[34;01mv2\u001b[39;00m\u001b[34;01m.\u001b[39;00m\u001b[34;01mcompat\u001b[39;00m\u001b[34;01m.\u001b[39;00m\u001b[34;01mv1\u001b[39;00m\u001b[38;5;250m \u001b[39m\u001b[38;5;28;01mimport\u001b[39;00m compat\n\u001b[32m     33\u001b[39m \u001b[38;5;28;01mfrom\u001b[39;00m\u001b[38;5;250m \u001b[39m\u001b[34;01mtensorflow\u001b[39;00m\u001b[34;01m.\u001b[39;00m\u001b[34;01m_api\u001b[39;00m\u001b[34;01m.\u001b[39;00m\u001b[34;01mv2\u001b[39;00m\u001b[34;01m.\u001b[39;00m\u001b[34;01mcompat\u001b[39;00m\u001b[34;01m.\u001b[39;00m\u001b[34;01mv1\u001b[39;00m\u001b[38;5;250m \u001b[39m\u001b[38;5;28;01mimport\u001b[39;00m config\n\u001b[32m     34\u001b[39m \u001b[38;5;28;01mfrom\u001b[39;00m\u001b[38;5;250m \u001b[39m\u001b[34;01mtensorflow\u001b[39;00m\u001b[34;01m.\u001b[39;00m\u001b[34;01m_api\u001b[39;00m\u001b[34;01m.\u001b[39;00m\u001b[34;01mv2\u001b[39;00m\u001b[34;01m.\u001b[39;00m\u001b[34;01mcompat\u001b[39;00m\u001b[34;01m.\u001b[39;00m\u001b[34;01mv1\u001b[39;00m\u001b[38;5;250m \u001b[39m\u001b[38;5;28;01mimport\u001b[39;00m data\n",
      "\u001b[36mFile \u001b[39m\u001b[32md:\\github\\RECSYS\\.venv\\Lib\\site-packages\\tensorflow\\_api\\v2\\compat\\v1\\compat\\__init__.py:8\u001b[39m\n\u001b[32m      3\u001b[39m \u001b[33;03m\"\"\"Public API for tf._api.v2.compat namespace\u001b[39;00m\n\u001b[32m      4\u001b[39m \u001b[33;03m\"\"\"\u001b[39;00m\n\u001b[32m      6\u001b[39m \u001b[38;5;28;01mimport\u001b[39;00m\u001b[38;5;250m \u001b[39m\u001b[34;01msys\u001b[39;00m\u001b[38;5;250m \u001b[39m\u001b[38;5;28;01mas\u001b[39;00m\u001b[38;5;250m \u001b[39m\u001b[34;01m_sys\u001b[39;00m\n\u001b[32m----> \u001b[39m\u001b[32m8\u001b[39m \u001b[38;5;28;01mfrom\u001b[39;00m\u001b[38;5;250m \u001b[39m\u001b[34;01mtensorflow\u001b[39;00m\u001b[34;01m.\u001b[39;00m\u001b[34;01m_api\u001b[39;00m\u001b[34;01m.\u001b[39;00m\u001b[34;01mv2\u001b[39;00m\u001b[34;01m.\u001b[39;00m\u001b[34;01mcompat\u001b[39;00m\u001b[34;01m.\u001b[39;00m\u001b[34;01mv1\u001b[39;00m\u001b[34;01m.\u001b[39;00m\u001b[34;01mcompat\u001b[39;00m\u001b[38;5;250m \u001b[39m\u001b[38;5;28;01mimport\u001b[39;00m v1\n\u001b[32m      9\u001b[39m \u001b[38;5;28;01mfrom\u001b[39;00m\u001b[38;5;250m \u001b[39m\u001b[34;01mtensorflow\u001b[39;00m\u001b[34;01m.\u001b[39;00m\u001b[34;01m_api\u001b[39;00m\u001b[34;01m.\u001b[39;00m\u001b[34;01mv2\u001b[39;00m\u001b[34;01m.\u001b[39;00m\u001b[34;01mcompat\u001b[39;00m\u001b[34;01m.\u001b[39;00m\u001b[34;01mv1\u001b[39;00m\u001b[34;01m.\u001b[39;00m\u001b[34;01mcompat\u001b[39;00m\u001b[38;5;250m \u001b[39m\u001b[38;5;28;01mimport\u001b[39;00m v2\n\u001b[32m     10\u001b[39m \u001b[38;5;28;01mfrom\u001b[39;00m\u001b[38;5;250m \u001b[39m\u001b[34;01mtensorflow\u001b[39;00m\u001b[34;01m.\u001b[39;00m\u001b[34;01mpython\u001b[39;00m\u001b[34;01m.\u001b[39;00m\u001b[34;01mcompat\u001b[39;00m\u001b[34;01m.\u001b[39;00m\u001b[34;01mcompat\u001b[39;00m\u001b[38;5;250m \u001b[39m\u001b[38;5;28;01mimport\u001b[39;00m forward_compatibility_horizon \u001b[38;5;66;03m# line: 125\u001b[39;00m\n",
      "\u001b[36mFile \u001b[39m\u001b[32md:\\github\\RECSYS\\.venv\\Lib\\site-packages\\tensorflow\\_api\\v2\\compat\\v1\\compat\\v1\\__init__.py:59\u001b[39m\n\u001b[32m     57\u001b[39m \u001b[38;5;28;01mfrom\u001b[39;00m\u001b[38;5;250m \u001b[39m\u001b[34;01mtensorflow\u001b[39;00m\u001b[34;01m.\u001b[39;00m\u001b[34;01m_api\u001b[39;00m\u001b[34;01m.\u001b[39;00m\u001b[34;01mv2\u001b[39;00m\u001b[34;01m.\u001b[39;00m\u001b[34;01mcompat\u001b[39;00m\u001b[34;01m.\u001b[39;00m\u001b[34;01mv1\u001b[39;00m\u001b[38;5;250m \u001b[39m\u001b[38;5;28;01mimport\u001b[39;00m mlir\n\u001b[32m     58\u001b[39m \u001b[38;5;28;01mfrom\u001b[39;00m\u001b[38;5;250m \u001b[39m\u001b[34;01mtensorflow\u001b[39;00m\u001b[34;01m.\u001b[39;00m\u001b[34;01m_api\u001b[39;00m\u001b[34;01m.\u001b[39;00m\u001b[34;01mv2\u001b[39;00m\u001b[34;01m.\u001b[39;00m\u001b[34;01mcompat\u001b[39;00m\u001b[34;01m.\u001b[39;00m\u001b[34;01mv1\u001b[39;00m\u001b[38;5;250m \u001b[39m\u001b[38;5;28;01mimport\u001b[39;00m nest\n\u001b[32m---> \u001b[39m\u001b[32m59\u001b[39m \u001b[38;5;28;01mfrom\u001b[39;00m\u001b[38;5;250m \u001b[39m\u001b[34;01mtensorflow\u001b[39;00m\u001b[34;01m.\u001b[39;00m\u001b[34;01m_api\u001b[39;00m\u001b[34;01m.\u001b[39;00m\u001b[34;01mv2\u001b[39;00m\u001b[34;01m.\u001b[39;00m\u001b[34;01mcompat\u001b[39;00m\u001b[34;01m.\u001b[39;00m\u001b[34;01mv1\u001b[39;00m\u001b[38;5;250m \u001b[39m\u001b[38;5;28;01mimport\u001b[39;00m nn\n\u001b[32m     60\u001b[39m \u001b[38;5;28;01mfrom\u001b[39;00m\u001b[38;5;250m \u001b[39m\u001b[34;01mtensorflow\u001b[39;00m\u001b[34;01m.\u001b[39;00m\u001b[34;01m_api\u001b[39;00m\u001b[34;01m.\u001b[39;00m\u001b[34;01mv2\u001b[39;00m\u001b[34;01m.\u001b[39;00m\u001b[34;01mcompat\u001b[39;00m\u001b[34;01m.\u001b[39;00m\u001b[34;01mv1\u001b[39;00m\u001b[38;5;250m \u001b[39m\u001b[38;5;28;01mimport\u001b[39;00m profiler\n\u001b[32m     61\u001b[39m \u001b[38;5;28;01mfrom\u001b[39;00m\u001b[38;5;250m \u001b[39m\u001b[34;01mtensorflow\u001b[39;00m\u001b[34;01m.\u001b[39;00m\u001b[34;01m_api\u001b[39;00m\u001b[34;01m.\u001b[39;00m\u001b[34;01mv2\u001b[39;00m\u001b[34;01m.\u001b[39;00m\u001b[34;01mcompat\u001b[39;00m\u001b[34;01m.\u001b[39;00m\u001b[34;01mv1\u001b[39;00m\u001b[38;5;250m \u001b[39m\u001b[38;5;28;01mimport\u001b[39;00m python_io\n",
      "\u001b[36mFile \u001b[39m\u001b[32md:\\github\\RECSYS\\.venv\\Lib\\site-packages\\tensorflow\\_api\\v2\\compat\\v1\\nn\\__init__.py:115\u001b[39m\n\u001b[32m    113\u001b[39m \u001b[38;5;28;01mfrom\u001b[39;00m\u001b[38;5;250m \u001b[39m\u001b[34;01mtensorflow\u001b[39;00m\u001b[34;01m.\u001b[39;00m\u001b[34;01mpython\u001b[39;00m\u001b[34;01m.\u001b[39;00m\u001b[34;01mops\u001b[39;00m\u001b[34;01m.\u001b[39;00m\u001b[34;01mnn_ops\u001b[39;00m\u001b[38;5;250m \u001b[39m\u001b[38;5;28;01mimport\u001b[39;00m with_space_to_batch \u001b[38;5;66;03m# line: 572\u001b[39;00m\n\u001b[32m    114\u001b[39m \u001b[38;5;28;01mfrom\u001b[39;00m\u001b[38;5;250m \u001b[39m\u001b[34;01mtensorflow\u001b[39;00m\u001b[34;01m.\u001b[39;00m\u001b[34;01mpython\u001b[39;00m\u001b[34;01m.\u001b[39;00m\u001b[34;01mops\u001b[39;00m\u001b[34;01m.\u001b[39;00m\u001b[34;01mnn_ops\u001b[39;00m\u001b[38;5;250m \u001b[39m\u001b[38;5;28;01mimport\u001b[39;00m xw_plus_b \u001b[38;5;66;03m# line: 5297\u001b[39;00m\n\u001b[32m--> \u001b[39m\u001b[32m115\u001b[39m \u001b[38;5;28;01mfrom\u001b[39;00m\u001b[38;5;250m \u001b[39m\u001b[34;01mtensorflow\u001b[39;00m\u001b[34;01m.\u001b[39;00m\u001b[34;01mpython\u001b[39;00m\u001b[34;01m.\u001b[39;00m\u001b[34;01mops\u001b[39;00m\u001b[34;01m.\u001b[39;00m\u001b[34;01mrnn\u001b[39;00m\u001b[38;5;250m \u001b[39m\u001b[38;5;28;01mimport\u001b[39;00m bidirectional_dynamic_rnn \u001b[38;5;66;03m# line: 348\u001b[39;00m\n\u001b[32m    116\u001b[39m \u001b[38;5;28;01mfrom\u001b[39;00m\u001b[38;5;250m \u001b[39m\u001b[34;01mtensorflow\u001b[39;00m\u001b[34;01m.\u001b[39;00m\u001b[34;01mpython\u001b[39;00m\u001b[34;01m.\u001b[39;00m\u001b[34;01mops\u001b[39;00m\u001b[34;01m.\u001b[39;00m\u001b[34;01mrnn\u001b[39;00m\u001b[38;5;250m \u001b[39m\u001b[38;5;28;01mimport\u001b[39;00m dynamic_rnn \u001b[38;5;66;03m# line: 506\u001b[39;00m\n\u001b[32m    117\u001b[39m \u001b[38;5;28;01mfrom\u001b[39;00m\u001b[38;5;250m \u001b[39m\u001b[34;01mtensorflow\u001b[39;00m\u001b[34;01m.\u001b[39;00m\u001b[34;01mpython\u001b[39;00m\u001b[34;01m.\u001b[39;00m\u001b[34;01mops\u001b[39;00m\u001b[34;01m.\u001b[39;00m\u001b[34;01mrnn\u001b[39;00m\u001b[38;5;250m \u001b[39m\u001b[38;5;28;01mimport\u001b[39;00m raw_rnn \u001b[38;5;66;03m# line: 986\u001b[39;00m\n",
      "\u001b[36mFile \u001b[39m\u001b[32m<frozen importlib._bootstrap>:1178\u001b[39m, in \u001b[36m_find_and_load\u001b[39m\u001b[34m(name, import_)\u001b[39m\n",
      "\u001b[36mFile \u001b[39m\u001b[32m<frozen importlib._bootstrap>:1149\u001b[39m, in \u001b[36m_find_and_load_unlocked\u001b[39m\u001b[34m(name, import_)\u001b[39m\n",
      "\u001b[36mFile \u001b[39m\u001b[32m<frozen importlib._bootstrap>:690\u001b[39m, in \u001b[36m_load_unlocked\u001b[39m\u001b[34m(spec)\u001b[39m\n",
      "\u001b[36mFile \u001b[39m\u001b[32m<frozen importlib._bootstrap_external>:936\u001b[39m, in \u001b[36mexec_module\u001b[39m\u001b[34m(self, module)\u001b[39m\n",
      "\u001b[36mFile \u001b[39m\u001b[32m<frozen importlib._bootstrap_external>:1032\u001b[39m, in \u001b[36mget_code\u001b[39m\u001b[34m(self, fullname)\u001b[39m\n",
      "\u001b[36mFile \u001b[39m\u001b[32m<frozen importlib._bootstrap_external>:1131\u001b[39m, in \u001b[36mget_data\u001b[39m\u001b[34m(self, path)\u001b[39m\n",
      "\u001b[31mKeyboardInterrupt\u001b[39m: "
     ]
    }
   ],
   "source": [
    "import pandas as pd\n",
    "import numpy as np\n",
    "\n",
    "# import matplotlib.pyplot as plt\n",
    "from sklearn.feature_extraction.text import TfidfVectorizer\n",
    "from sklearn.decomposition import TruncatedSVD\n",
    "from sklearn.ensemble import RandomForestRegressor\n",
    "from sklearn.model_selection import train_test_split\n",
    "from sklearn.metrics import mean_absolute_error\n",
    "\n",
    "import pandas as pd\n",
    "import numpy as np\n",
    "from sklearn.feature_extraction.text import TfidfVectorizer\n",
    "from sklearn.decomposition import TruncatedSVD, PCA\n",
    "from sklearn.ensemble import RandomForestRegressor\n",
    "from sklearn.model_selection import train_test_split\n",
    "from sklearn.metrics import mean_absolute_error\n",
    "\n",
    "import tensorflow as tf\n",
    "from tensorflow.keras.models import Sequential\n",
    "from tensorflow.keras.layers import Dense, Dropout\n",
    "from tensorflow.keras.optimizers import Adam\n",
    "\n",
    "tf.random.set_seed(42)\n",
    "\n",
    "# import optuna\n",
    "\n",
    "# import xgboost as xgb\n",
    "# xgb.set_config(verbosity=2)\n",
    "\n",
    "# from xgboost import XGBRegressor\n",
    "from sklearn.metrics import mean_absolute_error\n",
    "\n",
    "# gpus = tf.config.experimental.list_physical_devices('GPU')\n",
    "# for gpu in gpus:\n",
    "#     tf.config.experimental.set_memory_growth(gpu, True)\n",
    "\n",
    "# print(tf.config.list_physical_devices('GPU'))"
   ]
  },
  {
   "cell_type": "markdown",
   "metadata": {},
   "source": [
    "# Train data `all_more`"
   ]
  },
  {
   "cell_type": "code",
   "execution_count": 7,
   "metadata": {
    "notebookRunGroups": {
     "groupValue": "1"
    }
   },
   "outputs": [
    {
     "data": {
      "text/html": [
       "<div>\n",
       "<style scoped>\n",
       "    .dataframe tbody tr th:only-of-type {\n",
       "        vertical-align: middle;\n",
       "    }\n",
       "\n",
       "    .dataframe tbody tr th {\n",
       "        vertical-align: top;\n",
       "    }\n",
       "\n",
       "    .dataframe thead th {\n",
       "        text-align: right;\n",
       "    }\n",
       "</style>\n",
       "<table border=\"1\" class=\"dataframe\">\n",
       "  <thead>\n",
       "    <tr style=\"text-align: right;\">\n",
       "      <th></th>\n",
       "      <th>stars</th>\n",
       "      <th>useful</th>\n",
       "      <th>funny</th>\n",
       "      <th>cool</th>\n",
       "      <th>text</th>\n",
       "      <th>stars_neg</th>\n",
       "      <th>review_count_neg</th>\n",
       "      <th>is_open_neg</th>\n",
       "      <th>distancia_ref_neg</th>\n",
       "      <th>state_AZ_neg</th>\n",
       "      <th>...</th>\n",
       "      <th>funny_user</th>\n",
       "      <th>cool_user</th>\n",
       "      <th>fans_user</th>\n",
       "      <th>average_stars_user</th>\n",
       "      <th>antiguedad_anios_user</th>\n",
       "      <th>reviews_por_anio_user</th>\n",
       "      <th>num_friends_user</th>\n",
       "      <th>influencia_social_user</th>\n",
       "      <th>num_elite_years_user</th>\n",
       "      <th>compliment_user</th>\n",
       "    </tr>\n",
       "  </thead>\n",
       "  <tbody>\n",
       "    <tr>\n",
       "      <th>323838</th>\n",
       "      <td>5.0</td>\n",
       "      <td>-0.391093</td>\n",
       "      <td>-0.150312</td>\n",
       "      <td>-0.251644</td>\n",
       "      <td>This place was amazing. I really enjoyed most ...</td>\n",
       "      <td>0.930844</td>\n",
       "      <td>8.171478</td>\n",
       "      <td>1</td>\n",
       "      <td>-1.341601</td>\n",
       "      <td>0</td>\n",
       "      <td>...</td>\n",
       "      <td>-0.046773</td>\n",
       "      <td>-0.031748</td>\n",
       "      <td>0.013048</td>\n",
       "      <td>1.231480</td>\n",
       "      <td>-0.045353</td>\n",
       "      <td>0.222573</td>\n",
       "      <td>-0.276150</td>\n",
       "      <td>-0.241869</td>\n",
       "      <td>0.453403</td>\n",
       "      <td>-0.033875</td>\n",
       "    </tr>\n",
       "    <tr>\n",
       "      <th>381566</th>\n",
       "      <td>5.0</td>\n",
       "      <td>-0.391093</td>\n",
       "      <td>-0.150312</td>\n",
       "      <td>-0.251644</td>\n",
       "      <td>Fantastic food, made from simple, whole ingred...</td>\n",
       "      <td>-0.091512</td>\n",
       "      <td>0.424781</td>\n",
       "      <td>1</td>\n",
       "      <td>1.844137</td>\n",
       "      <td>0</td>\n",
       "      <td>...</td>\n",
       "      <td>-0.049962</td>\n",
       "      <td>-0.053261</td>\n",
       "      <td>-0.092248</td>\n",
       "      <td>1.068873</td>\n",
       "      <td>0.362122</td>\n",
       "      <td>-0.298660</td>\n",
       "      <td>0.037829</td>\n",
       "      <td>0.017687</td>\n",
       "      <td>-0.241889</td>\n",
       "      <td>-0.035085</td>\n",
       "    </tr>\n",
       "    <tr>\n",
       "      <th>360441</th>\n",
       "      <td>3.0</td>\n",
       "      <td>-0.062341</td>\n",
       "      <td>-0.150312</td>\n",
       "      <td>0.255613</td>\n",
       "      <td>The drive-thru lines can be long during the we...</td>\n",
       "      <td>0.419666</td>\n",
       "      <td>0.305966</td>\n",
       "      <td>1</td>\n",
       "      <td>-1.071168</td>\n",
       "      <td>0</td>\n",
       "      <td>...</td>\n",
       "      <td>0.179704</td>\n",
       "      <td>0.354355</td>\n",
       "      <td>1.101109</td>\n",
       "      <td>0.341925</td>\n",
       "      <td>1.460960</td>\n",
       "      <td>2.334731</td>\n",
       "      <td>0.131472</td>\n",
       "      <td>0.372080</td>\n",
       "      <td>6.711033</td>\n",
       "      <td>0.225173</td>\n",
       "    </tr>\n",
       "    <tr>\n",
       "      <th>290576</th>\n",
       "      <td>1.0</td>\n",
       "      <td>0.595161</td>\n",
       "      <td>-0.150312</td>\n",
       "      <td>-0.251644</td>\n",
       "      <td>Regarding the article by staff writer Soe Han ...</td>\n",
       "      <td>-1.625046</td>\n",
       "      <td>-0.224738</td>\n",
       "      <td>1</td>\n",
       "      <td>1.980661</td>\n",
       "      <td>0</td>\n",
       "      <td>...</td>\n",
       "      <td>-0.043583</td>\n",
       "      <td>-0.046468</td>\n",
       "      <td>-0.022051</td>\n",
       "      <td>0.762789</td>\n",
       "      <td>0.988110</td>\n",
       "      <td>-0.114531</td>\n",
       "      <td>-0.237591</td>\n",
       "      <td>-0.221903</td>\n",
       "      <td>-0.241889</td>\n",
       "      <td>-0.033875</td>\n",
       "    </tr>\n",
       "    <tr>\n",
       "      <th>196846</th>\n",
       "      <td>4.0</td>\n",
       "      <td>-0.391093</td>\n",
       "      <td>-0.150312</td>\n",
       "      <td>-0.251644</td>\n",
       "      <td>A great place for parents to take the kids and...</td>\n",
       "      <td>0.419666</td>\n",
       "      <td>1.256481</td>\n",
       "      <td>1</td>\n",
       "      <td>-0.665988</td>\n",
       "      <td>0</td>\n",
       "      <td>...</td>\n",
       "      <td>-0.051557</td>\n",
       "      <td>-0.053261</td>\n",
       "      <td>-0.092248</td>\n",
       "      <td>0.781920</td>\n",
       "      <td>-0.028337</td>\n",
       "      <td>-0.325392</td>\n",
       "      <td>-0.342251</td>\n",
       "      <td>-0.326723</td>\n",
       "      <td>-0.241889</td>\n",
       "      <td>-0.035085</td>\n",
       "    </tr>\n",
       "  </tbody>\n",
       "</table>\n",
       "<p>5 rows × 51 columns</p>\n",
       "</div>"
      ],
      "text/plain": [
       "        stars    useful     funny      cool  \\\n",
       "323838    5.0 -0.391093 -0.150312 -0.251644   \n",
       "381566    5.0 -0.391093 -0.150312 -0.251644   \n",
       "360441    3.0 -0.062341 -0.150312  0.255613   \n",
       "290576    1.0  0.595161 -0.150312 -0.251644   \n",
       "196846    4.0 -0.391093 -0.150312 -0.251644   \n",
       "\n",
       "                                                     text  stars_neg  \\\n",
       "323838  This place was amazing. I really enjoyed most ...   0.930844   \n",
       "381566  Fantastic food, made from simple, whole ingred...  -0.091512   \n",
       "360441  The drive-thru lines can be long during the we...   0.419666   \n",
       "290576  Regarding the article by staff writer Soe Han ...  -1.625046   \n",
       "196846  A great place for parents to take the kids and...   0.419666   \n",
       "\n",
       "        review_count_neg  is_open_neg  distancia_ref_neg  state_AZ_neg  ...  \\\n",
       "323838          8.171478            1          -1.341601             0  ...   \n",
       "381566          0.424781            1           1.844137             0  ...   \n",
       "360441          0.305966            1          -1.071168             0  ...   \n",
       "290576         -0.224738            1           1.980661             0  ...   \n",
       "196846          1.256481            1          -0.665988             0  ...   \n",
       "\n",
       "        funny_user  cool_user  fans_user  average_stars_user  \\\n",
       "323838   -0.046773  -0.031748   0.013048            1.231480   \n",
       "381566   -0.049962  -0.053261  -0.092248            1.068873   \n",
       "360441    0.179704   0.354355   1.101109            0.341925   \n",
       "290576   -0.043583  -0.046468  -0.022051            0.762789   \n",
       "196846   -0.051557  -0.053261  -0.092248            0.781920   \n",
       "\n",
       "        antiguedad_anios_user  reviews_por_anio_user  num_friends_user  \\\n",
       "323838              -0.045353               0.222573         -0.276150   \n",
       "381566               0.362122              -0.298660          0.037829   \n",
       "360441               1.460960               2.334731          0.131472   \n",
       "290576               0.988110              -0.114531         -0.237591   \n",
       "196846              -0.028337              -0.325392         -0.342251   \n",
       "\n",
       "        influencia_social_user  num_elite_years_user  compliment_user  \n",
       "323838               -0.241869              0.453403        -0.033875  \n",
       "381566                0.017687             -0.241889        -0.035085  \n",
       "360441                0.372080              6.711033         0.225173  \n",
       "290576               -0.221903             -0.241889        -0.033875  \n",
       "196846               -0.326723             -0.241889        -0.035085  \n",
       "\n",
       "[5 rows x 51 columns]"
      ]
     },
     "execution_count": 7,
     "metadata": {},
     "output_type": "execute_result"
    }
   ],
   "source": [
    "df_train = pd.read_csv(\"data/train_reviews_merged_all_more_prueba.csv\")\n",
    "df_train.sample(5)"
   ]
  },
  {
   "cell_type": "code",
   "execution_count": 8,
   "metadata": {},
   "outputs": [
    {
     "data": {
      "text/plain": [
       "(967784, 51)"
      ]
     },
     "execution_count": 8,
     "metadata": {},
     "output_type": "execute_result"
    }
   ],
   "source": [
    "df_train.shape"
   ]
  },
  {
   "cell_type": "code",
   "execution_count": 9,
   "metadata": {},
   "outputs": [
    {
     "data": {
      "text/plain": [
       "stars                        0\n",
       "useful                       0\n",
       "funny                        0\n",
       "cool                         0\n",
       "text                         0\n",
       "stars_neg                    0\n",
       "review_count_neg             0\n",
       "is_open_neg                  0\n",
       "distancia_ref_neg            0\n",
       "state_AZ_neg                 0\n",
       "state_FL_neg                 0\n",
       "state_IN_neg                 0\n",
       "state_LA_neg                 0\n",
       "state_MO_neg                 0\n",
       "state_NJ_neg                 0\n",
       "state_Other_neg              0\n",
       "state_PA_neg                 0\n",
       "state_TN_neg                 0\n",
       "open_weekends_neg            0\n",
       "open_late_neg                0\n",
       "group_restaurant_neg         0\n",
       "group_beauty_neg             0\n",
       "group_automotive_neg         0\n",
       "group_food_neg               0\n",
       "group_hotels_travel_neg      0\n",
       "group_local_services_neg     0\n",
       "group_shopping_neg           0\n",
       "group_health_neg             0\n",
       "group_entertainment_neg      0\n",
       "group_pet_neg                0\n",
       "attr_payment_neg             0\n",
       "attr_appointment_neg         0\n",
       "attr_takeout_delivery_neg    0\n",
       "attr_parking_neg             0\n",
       "attr_wifi_neg                0\n",
       "attr_bitcoin_neg             0\n",
       "attr_insurance_neg           0\n",
       "attr_price_range_neg         0\n",
       "attr_kids_neg                0\n",
       "review_count_user            0\n",
       "useful_user                  0\n",
       "funny_user                   0\n",
       "cool_user                    0\n",
       "fans_user                    0\n",
       "average_stars_user           0\n",
       "antiguedad_anios_user        0\n",
       "reviews_por_anio_user        0\n",
       "num_friends_user             0\n",
       "influencia_social_user       0\n",
       "num_elite_years_user         0\n",
       "compliment_user              0\n",
       "dtype: int64"
      ]
     },
     "execution_count": 9,
     "metadata": {},
     "output_type": "execute_result"
    }
   ],
   "source": [
    "df_train.isnull().sum()"
   ]
  },
  {
   "cell_type": "markdown",
   "metadata": {},
   "source": [
    "Cogo lo que me interesa y no sea texto o target"
   ]
  },
  {
   "cell_type": "code",
   "execution_count": 10,
   "metadata": {},
   "outputs": [
    {
     "data": {
      "text/html": [
       "<div>\n",
       "<style scoped>\n",
       "    .dataframe tbody tr th:only-of-type {\n",
       "        vertical-align: middle;\n",
       "    }\n",
       "\n",
       "    .dataframe tbody tr th {\n",
       "        vertical-align: top;\n",
       "    }\n",
       "\n",
       "    .dataframe thead th {\n",
       "        text-align: right;\n",
       "    }\n",
       "</style>\n",
       "<table border=\"1\" class=\"dataframe\">\n",
       "  <thead>\n",
       "    <tr style=\"text-align: right;\">\n",
       "      <th></th>\n",
       "      <th>useful</th>\n",
       "      <th>funny</th>\n",
       "      <th>cool</th>\n",
       "      <th>stars_neg</th>\n",
       "      <th>review_count_neg</th>\n",
       "      <th>is_open_neg</th>\n",
       "      <th>distancia_ref_neg</th>\n",
       "      <th>state_AZ_neg</th>\n",
       "      <th>state_FL_neg</th>\n",
       "      <th>state_IN_neg</th>\n",
       "      <th>...</th>\n",
       "      <th>funny_user</th>\n",
       "      <th>cool_user</th>\n",
       "      <th>fans_user</th>\n",
       "      <th>average_stars_user</th>\n",
       "      <th>antiguedad_anios_user</th>\n",
       "      <th>reviews_por_anio_user</th>\n",
       "      <th>num_friends_user</th>\n",
       "      <th>influencia_social_user</th>\n",
       "      <th>num_elite_years_user</th>\n",
       "      <th>compliment_user</th>\n",
       "    </tr>\n",
       "  </thead>\n",
       "  <tbody>\n",
       "    <tr>\n",
       "      <th>30315</th>\n",
       "      <td>1.252664</td>\n",
       "      <td>0.751859</td>\n",
       "      <td>2.284639</td>\n",
       "      <td>0.419666</td>\n",
       "      <td>4.511995</td>\n",
       "      <td>0</td>\n",
       "      <td>0.048378</td>\n",
       "      <td>0</td>\n",
       "      <td>0</td>\n",
       "      <td>0</td>\n",
       "      <td>...</td>\n",
       "      <td>3.536977</td>\n",
       "      <td>3.960629</td>\n",
       "      <td>3.452726</td>\n",
       "      <td>0.093232</td>\n",
       "      <td>1.563052</td>\n",
       "      <td>5.196172</td>\n",
       "      <td>2.153057</td>\n",
       "      <td>2.528388</td>\n",
       "      <td>6.015741</td>\n",
       "      <td>1.134262</td>\n",
       "    </tr>\n",
       "    <tr>\n",
       "      <th>770450</th>\n",
       "      <td>-0.391093</td>\n",
       "      <td>-0.150312</td>\n",
       "      <td>-0.251644</td>\n",
       "      <td>0.930844</td>\n",
       "      <td>44.964332</td>\n",
       "      <td>1</td>\n",
       "      <td>0.049541</td>\n",
       "      <td>0</td>\n",
       "      <td>0</td>\n",
       "      <td>0</td>\n",
       "      <td>...</td>\n",
       "      <td>-0.051557</td>\n",
       "      <td>-0.053261</td>\n",
       "      <td>-0.092248</td>\n",
       "      <td>-0.652846</td>\n",
       "      <td>0.657653</td>\n",
       "      <td>-0.302042</td>\n",
       "      <td>-0.336743</td>\n",
       "      <td>-0.321732</td>\n",
       "      <td>-0.241889</td>\n",
       "      <td>-0.035085</td>\n",
       "    </tr>\n",
       "    <tr>\n",
       "      <th>860109</th>\n",
       "      <td>-0.391093</td>\n",
       "      <td>-0.150312</td>\n",
       "      <td>-0.251644</td>\n",
       "      <td>-0.091512</td>\n",
       "      <td>2.373336</td>\n",
       "      <td>1</td>\n",
       "      <td>0.044122</td>\n",
       "      <td>0</td>\n",
       "      <td>0</td>\n",
       "      <td>0</td>\n",
       "      <td>...</td>\n",
       "      <td>0.256259</td>\n",
       "      <td>0.517402</td>\n",
       "      <td>1.136208</td>\n",
       "      <td>0.160188</td>\n",
       "      <td>-0.043562</td>\n",
       "      <td>3.947983</td>\n",
       "      <td>2.659831</td>\n",
       "      <td>2.618234</td>\n",
       "      <td>3.234572</td>\n",
       "      <td>0.125912</td>\n",
       "    </tr>\n",
       "    <tr>\n",
       "      <th>95770</th>\n",
       "      <td>-0.062341</td>\n",
       "      <td>-0.150312</td>\n",
       "      <td>-0.251644</td>\n",
       "      <td>0.930844</td>\n",
       "      <td>3.197116</td>\n",
       "      <td>1</td>\n",
       "      <td>-0.654216</td>\n",
       "      <td>0</td>\n",
       "      <td>0</td>\n",
       "      <td>0</td>\n",
       "      <td>...</td>\n",
       "      <td>-0.040393</td>\n",
       "      <td>-0.045335</td>\n",
       "      <td>-0.092248</td>\n",
       "      <td>0.408881</td>\n",
       "      <td>0.641533</td>\n",
       "      <td>-0.041430</td>\n",
       "      <td>-0.342251</td>\n",
       "      <td>-0.326723</td>\n",
       "      <td>-0.241889</td>\n",
       "      <td>-0.032664</td>\n",
       "    </tr>\n",
       "    <tr>\n",
       "      <th>222202</th>\n",
       "      <td>-0.391093</td>\n",
       "      <td>-0.150312</td>\n",
       "      <td>-0.251644</td>\n",
       "      <td>0.930844</td>\n",
       "      <td>4.092185</td>\n",
       "      <td>1</td>\n",
       "      <td>-1.338704</td>\n",
       "      <td>0</td>\n",
       "      <td>0</td>\n",
       "      <td>0</td>\n",
       "      <td>...</td>\n",
       "      <td>-0.019659</td>\n",
       "      <td>-0.041938</td>\n",
       "      <td>-0.092248</td>\n",
       "      <td>-0.882409</td>\n",
       "      <td>-0.044457</td>\n",
       "      <td>-0.099762</td>\n",
       "      <td>-0.342251</td>\n",
       "      <td>-0.326723</td>\n",
       "      <td>-0.241889</td>\n",
       "      <td>-0.032664</td>\n",
       "    </tr>\n",
       "  </tbody>\n",
       "</table>\n",
       "<p>5 rows × 49 columns</p>\n",
       "</div>"
      ],
      "text/plain": [
       "          useful     funny      cool  stars_neg  review_count_neg  \\\n",
       "30315   1.252664  0.751859  2.284639   0.419666          4.511995   \n",
       "770450 -0.391093 -0.150312 -0.251644   0.930844         44.964332   \n",
       "860109 -0.391093 -0.150312 -0.251644  -0.091512          2.373336   \n",
       "95770  -0.062341 -0.150312 -0.251644   0.930844          3.197116   \n",
       "222202 -0.391093 -0.150312 -0.251644   0.930844          4.092185   \n",
       "\n",
       "        is_open_neg  distancia_ref_neg  state_AZ_neg  state_FL_neg  \\\n",
       "30315             0           0.048378             0             0   \n",
       "770450            1           0.049541             0             0   \n",
       "860109            1           0.044122             0             0   \n",
       "95770             1          -0.654216             0             0   \n",
       "222202            1          -1.338704             0             0   \n",
       "\n",
       "        state_IN_neg  ...  funny_user  cool_user  fans_user  \\\n",
       "30315              0  ...    3.536977   3.960629   3.452726   \n",
       "770450             0  ...   -0.051557  -0.053261  -0.092248   \n",
       "860109             0  ...    0.256259   0.517402   1.136208   \n",
       "95770              0  ...   -0.040393  -0.045335  -0.092248   \n",
       "222202             0  ...   -0.019659  -0.041938  -0.092248   \n",
       "\n",
       "        average_stars_user  antiguedad_anios_user  reviews_por_anio_user  \\\n",
       "30315             0.093232               1.563052               5.196172   \n",
       "770450           -0.652846               0.657653              -0.302042   \n",
       "860109            0.160188              -0.043562               3.947983   \n",
       "95770             0.408881               0.641533              -0.041430   \n",
       "222202           -0.882409              -0.044457              -0.099762   \n",
       "\n",
       "        num_friends_user  influencia_social_user  num_elite_years_user  \\\n",
       "30315           2.153057                2.528388              6.015741   \n",
       "770450         -0.336743               -0.321732             -0.241889   \n",
       "860109          2.659831                2.618234              3.234572   \n",
       "95770          -0.342251               -0.326723             -0.241889   \n",
       "222202         -0.342251               -0.326723             -0.241889   \n",
       "\n",
       "        compliment_user  \n",
       "30315          1.134262  \n",
       "770450        -0.035085  \n",
       "860109         0.125912  \n",
       "95770         -0.032664  \n",
       "222202        -0.032664  \n",
       "\n",
       "[5 rows x 49 columns]"
      ]
     },
     "execution_count": 10,
     "metadata": {},
     "output_type": "execute_result"
    }
   ],
   "source": [
    "X_numeric = df_train.copy()\n",
    "\n",
    "X_numeric = X_numeric.drop(columns=[\"stars\", \"text\"])\n",
    "\n",
    "X_numeric.sample(5)"
   ]
  },
  {
   "cell_type": "code",
   "execution_count": 11,
   "metadata": {},
   "outputs": [
    {
     "data": {
      "text/plain": [
       "useful                       0\n",
       "funny                        0\n",
       "cool                         0\n",
       "stars_neg                    0\n",
       "review_count_neg             0\n",
       "is_open_neg                  0\n",
       "distancia_ref_neg            0\n",
       "state_AZ_neg                 0\n",
       "state_FL_neg                 0\n",
       "state_IN_neg                 0\n",
       "state_LA_neg                 0\n",
       "state_MO_neg                 0\n",
       "state_NJ_neg                 0\n",
       "state_Other_neg              0\n",
       "state_PA_neg                 0\n",
       "state_TN_neg                 0\n",
       "open_weekends_neg            0\n",
       "open_late_neg                0\n",
       "group_restaurant_neg         0\n",
       "group_beauty_neg             0\n",
       "group_automotive_neg         0\n",
       "group_food_neg               0\n",
       "group_hotels_travel_neg      0\n",
       "group_local_services_neg     0\n",
       "group_shopping_neg           0\n",
       "group_health_neg             0\n",
       "group_entertainment_neg      0\n",
       "group_pet_neg                0\n",
       "attr_payment_neg             0\n",
       "attr_appointment_neg         0\n",
       "attr_takeout_delivery_neg    0\n",
       "attr_parking_neg             0\n",
       "attr_wifi_neg                0\n",
       "attr_bitcoin_neg             0\n",
       "attr_insurance_neg           0\n",
       "attr_price_range_neg         0\n",
       "attr_kids_neg                0\n",
       "review_count_user            0\n",
       "useful_user                  0\n",
       "funny_user                   0\n",
       "cool_user                    0\n",
       "fans_user                    0\n",
       "average_stars_user           0\n",
       "antiguedad_anios_user        0\n",
       "reviews_por_anio_user        0\n",
       "num_friends_user             0\n",
       "influencia_social_user       0\n",
       "num_elite_years_user         0\n",
       "compliment_user              0\n",
       "dtype: int64"
      ]
     },
     "execution_count": 11,
     "metadata": {},
     "output_type": "execute_result"
    }
   ],
   "source": [
    "X_numeric.isnull().sum()"
   ]
  },
  {
   "cell_type": "code",
   "execution_count": 12,
   "metadata": {},
   "outputs": [
    {
     "data": {
      "text/html": [
       "<div>\n",
       "<style scoped>\n",
       "    .dataframe tbody tr th:only-of-type {\n",
       "        vertical-align: middle;\n",
       "    }\n",
       "\n",
       "    .dataframe tbody tr th {\n",
       "        vertical-align: top;\n",
       "    }\n",
       "\n",
       "    .dataframe thead th {\n",
       "        text-align: right;\n",
       "    }\n",
       "</style>\n",
       "<table border=\"1\" class=\"dataframe\">\n",
       "  <thead>\n",
       "    <tr style=\"text-align: right;\">\n",
       "      <th></th>\n",
       "      <th>text</th>\n",
       "    </tr>\n",
       "  </thead>\n",
       "  <tbody>\n",
       "    <tr>\n",
       "      <th>704936</th>\n",
       "      <td>Excellent service Very very professional, they...</td>\n",
       "    </tr>\n",
       "    <tr>\n",
       "      <th>587922</th>\n",
       "      <td>I'm visiting from Idaho.  Ashley was an amazin...</td>\n",
       "    </tr>\n",
       "    <tr>\n",
       "      <th>779622</th>\n",
       "      <td>I have been going to the Reno Academy on a reg...</td>\n",
       "    </tr>\n",
       "    <tr>\n",
       "      <th>572892</th>\n",
       "      <td>Contrary to popular belief, snow cones are act...</td>\n",
       "    </tr>\n",
       "    <tr>\n",
       "      <th>245474</th>\n",
       "      <td>Had dinner here tonight.  My advice, don't mak...</td>\n",
       "    </tr>\n",
       "  </tbody>\n",
       "</table>\n",
       "</div>"
      ],
      "text/plain": [
       "                                                     text\n",
       "704936  Excellent service Very very professional, they...\n",
       "587922  I'm visiting from Idaho.  Ashley was an amazin...\n",
       "779622  I have been going to the Reno Academy on a reg...\n",
       "572892  Contrary to popular belief, snow cones are act...\n",
       "245474  Had dinner here tonight.  My advice, don't mak..."
      ]
     },
     "execution_count": 12,
     "metadata": {},
     "output_type": "execute_result"
    }
   ],
   "source": [
    "columns = [\"text\"]\n",
    "\n",
    "df_train[columns].sample(5)"
   ]
  },
  {
   "cell_type": "markdown",
   "metadata": {},
   "source": [
    "## Procesando texto de manera clásica"
   ]
  },
  {
   "cell_type": "code",
   "execution_count": null,
   "metadata": {},
   "outputs": [],
   "source": [
    "from scipy.sparse import hstack\n",
    "\n",
    "# Aplicamos TfidfVectorizer en cada columna\n",
    "tfidf_text = TfidfVectorizer(stop_words='english', max_features=15_000, ngram_range=(1, 2))\n",
    "# tfidf_attr = TfidfVectorizer(stop_words='english', max_features=7_500, ngram_range=(1, 2))\n",
    "# tfidf_cat  = TfidfVectorizer(stop_words='english', max_features=7_500, ngram_range=(1, 2))\n",
    "\n",
    "X_text = tfidf_text.fit_transform(df_train['text'])\n",
    "# X_attr = tfidf_attr.fit_transform(df_train['attributes_neg'])\n",
    "# X_cat  = tfidf_cat.fit_transform(df_train['categories_neg'])\n",
    "\n",
    "# Combinamos las matrices (cada una es una matriz dispersa)\n",
    "# X_combined = hstack([X_text, X_attr, X_cat])\n",
    "\n",
    "svd = TruncatedSVD(n_components=150, random_state=42)\n",
    "X_text_reduced = svd.fit_transform(X_text)"
   ]
  },
  {
   "cell_type": "code",
   "execution_count": 5,
   "metadata": {},
   "outputs": [
    {
     "data": {
      "text/plain": [
       "((967784, 150), (967784, 49), (967784, 15000))"
      ]
     },
     "execution_count": 5,
     "metadata": {},
     "output_type": "execute_result"
    }
   ],
   "source": [
    "X_text_reduced.shape, X_numeric.shape, X_text.shape"
   ]
  },
  {
   "cell_type": "code",
   "execution_count": 5,
   "metadata": {},
   "outputs": [
    {
     "data": {
      "text/plain": [
       "((774227, 199), (193557, 199), (774227,), (193557,))"
      ]
     },
     "execution_count": 5,
     "metadata": {},
     "output_type": "execute_result"
    }
   ],
   "source": [
    "X_final = np.hstack([X_numeric.values, X_text_reduced])\n",
    "\n",
    "y = df_train[\"stars\"]\n",
    "\n",
    "X_train, X_test, y_train, y_test = train_test_split(X_final, y, test_size=0.2, random_state=42)\n",
    "\n",
    "X_train.shape, X_test.shape, y_train.shape, y_test.shape"
   ]
  },
  {
   "cell_type": "markdown",
   "metadata": {},
   "source": [
    "## Procesando texto DL"
   ]
  },
  {
   "cell_type": "code",
   "execution_count": null,
   "metadata": {},
   "outputs": [],
   "source": [
    "# Combinamos las matrices (cada una es una matriz dispersa)\n",
    "X_text = np.load(\"weight/embeddings_text_train_DL_all-mpnet-base-v2.npy\")\n",
    "\n",
    "# svd = TruncatedSVD(n_components=150, n_iter=20, n_oversamples=4, random_state=42)\n",
    "# X_text_reduced = svd.fit_transform(X_text)"
   ]
  },
  {
   "cell_type": "code",
   "execution_count": null,
   "metadata": {},
   "outputs": [],
   "source": [
    "X_text_reduced.shape, X_numeric.shape, X_text_reduced.shape"
   ]
  },
  {
   "cell_type": "code",
   "execution_count": null,
   "metadata": {},
   "outputs": [],
   "source": [
    "X_final = np.load(\"weight/final_stack_prueba.npy\")\n",
    "\n",
    "y = df_train[\"stars\"]\n",
    "\n",
    "X_train, X_test, y_train, y_test = train_test_split(X_final, y, test_size=0.2, random_state=42)\n",
    "\n",
    "X_train.shape, X_test.shape, y_train.shape, y_test.shape"
   ]
  },
  {
   "cell_type": "code",
   "execution_count": 12,
   "metadata": {},
   "outputs": [],
   "source": [
    "np.save(\"final_stack.npy\", X_final)"
   ]
  },
  {
   "cell_type": "markdown",
   "metadata": {},
   "source": [
    "## RandomForestReg"
   ]
  },
  {
   "cell_type": "code",
   "execution_count": null,
   "metadata": {},
   "outputs": [],
   "source": [
    "rf = RandomForestRegressor(n_estimators=50, random_state=42, verbose=1, n_jobs=-1)\n",
    "rf.fit(X_train, y_train)\n",
    "\n",
    "y_pred = rf.predict(X_test)\n",
    "mae = mean_absolute_error(y_test, y_pred)\n",
    "print(f\"MAE: {mae}\")"
   ]
  },
  {
   "cell_type": "code",
   "execution_count": null,
   "metadata": {},
   "outputs": [],
   "source": [
    "importances = rf.feature_importances_\n",
    "\n",
    "numeric_feature_names = list(X_numeric.columns)\n",
    "text_feature_names = [f\"text_comp_{i+1}\" for i in range(X_text_reduced.shape[1])]\n",
    "feature_names = numeric_feature_names + text_feature_names\n",
    "\n",
    "indices = np.argsort(importances)[::-1]\n",
    "\n",
    "# Crear la gráfica\n",
    "plt.figure(figsize=(12, 8))\n",
    "plt.title(\"Importancia de las características\")\n",
    "plt.bar(range(len(importances)), importances[indices], align=\"center\")\n",
    "plt.xticks(range(len(importances)), np.array(feature_names)[indices], rotation=90)\n",
    "plt.xlabel(\"Características\")\n",
    "plt.ylabel(\"Importancia\")\n",
    "plt.tight_layout()\n",
    "plt.show()"
   ]
  },
  {
   "cell_type": "markdown",
   "metadata": {},
   "source": [
    "## KNeighborsRegressor"
   ]
  },
  {
   "cell_type": "code",
   "execution_count": 11,
   "metadata": {},
   "outputs": [
    {
     "name": "stdout",
     "output_type": "stream",
     "text": [
      "MAE: 0.5949162262279329\n"
     ]
    }
   ],
   "source": [
    "from sklearn.neighbors import KNeighborsRegressor\n",
    "\n",
    "model = KNeighborsRegressor(n_jobs=-1)\n",
    "model.fit(X_train, y_train)\n",
    "\n",
    "y_pred = model.predict(X_test)\n",
    "mae = mean_absolute_error(y_test, y_pred)\n",
    "print(f\"MAE: {mae}\")"
   ]
  },
  {
   "cell_type": "markdown",
   "metadata": {},
   "source": [
    "## HistGradientBoostingRegressor"
   ]
  },
  {
   "cell_type": "code",
   "execution_count": 10,
   "metadata": {},
   "outputs": [
    {
     "name": "stdout",
     "output_type": "stream",
     "text": [
      "Binning 0.334 GB of training data: 0.458 s\n",
      "Binning 0.037 GB of validation data: 0.030 s\n",
      "Fitting gradient boosted rounds:\n",
      "Fit 100 trees in 7.761 s, (3100 total leaves)\n",
      "Time spent computing histograms: 5.310s\n",
      "Time spent finding best splits:  0.234s\n",
      "Time spent applying splits:      0.532s\n",
      "Time spent predicting:           0.146s\n",
      "MAE: 0.8606863429656669\n"
     ]
    }
   ],
   "source": [
    "from sklearn.ensemble import HistGradientBoostingRegressor\n",
    "\n",
    "model = HistGradientBoostingRegressor(random_state=42, learning_rate=0.01, verbose=1)\n",
    "model.fit(X_train, y_train)\n",
    "\n",
    "y_pred = model.predict(X_test)\n",
    "mae = mean_absolute_error(y_test, y_pred)\n",
    "print(f\"MAE: {mae}\")"
   ]
  },
  {
   "cell_type": "markdown",
   "metadata": {},
   "source": [
    "## GradientBoostingRegressor"
   ]
  },
  {
   "cell_type": "code",
   "execution_count": 25,
   "metadata": {},
   "outputs": [
    {
     "name": "stdout",
     "output_type": "stream",
     "text": [
      "      Iter       Train Loss   Remaining Time \n",
      "         1           2.1710           38.69m\n",
      "         2           2.1531           38.11m\n",
      "         3           2.1355           37.62m\n",
      "         4           2.1182           37.27m\n",
      "         5           2.1013           36.81m\n",
      "         6           2.0849           36.36m\n",
      "         7           2.0685           35.97m\n",
      "         8           2.0528           35.58m\n",
      "         9           2.0370           35.20m\n",
      "        10           2.0217           34.82m\n",
      "        20           1.8810           32.45m\n",
      "        30           1.7604           28.58m\n",
      "        40           1.6572           24.20m\n",
      "        50           1.5675           20.18m\n",
      "        60           1.4896           16.26m\n",
      "        70           1.4211           12.14m\n",
      "        80           1.3607            8.05m\n",
      "        90           1.3073            4.01m\n",
      "       100           1.2604            0.00s\n",
      "MAE: 0.938238277517477\n"
     ]
    }
   ],
   "source": [
    "from sklearn.ensemble import GradientBoostingRegressor\n",
    "\n",
    "model = GradientBoostingRegressor(random_state=42, learning_rate=0.01, verbose=1)\n",
    "model.fit(X_train, y_train)\n",
    "\n",
    "y_pred = model.predict(X_test)\n",
    "mae = mean_absolute_error(y_test, y_pred)\n",
    "print(f\"MAE: {mae}\")"
   ]
  },
  {
   "cell_type": "markdown",
   "metadata": {},
   "source": [
    "## AdaBoostRegressor"
   ]
  },
  {
   "cell_type": "code",
   "execution_count": 27,
   "metadata": {},
   "outputs": [
    {
     "name": "stderr",
     "output_type": "stream",
     "text": [
      "[Parallel(n_jobs=-1)]: Using backend ThreadingBackend with 16 concurrent workers.\n",
      "[Parallel(n_jobs=-1)]: Done  18 tasks      | elapsed:  2.9min\n",
      "[Parallel(n_jobs=-1)]: Done  50 out of  50 | elapsed:  6.0min finished\n",
      "[Parallel(n_jobs=16)]: Using backend ThreadingBackend with 16 concurrent workers.\n",
      "[Parallel(n_jobs=16)]: Done  18 tasks      | elapsed:    1.2s\n",
      "[Parallel(n_jobs=16)]: Done  50 out of  50 | elapsed:    2.1s finished\n",
      "[Parallel(n_jobs=-1)]: Using backend ThreadingBackend with 16 concurrent workers.\n",
      "[Parallel(n_jobs=-1)]: Done  18 tasks      | elapsed:  2.9min\n",
      "[Parallel(n_jobs=-1)]: Done  50 out of  50 | elapsed:  5.7min finished\n",
      "[Parallel(n_jobs=16)]: Using backend ThreadingBackend with 16 concurrent workers.\n",
      "[Parallel(n_jobs=16)]: Done  18 tasks      | elapsed:    1.2s\n",
      "[Parallel(n_jobs=16)]: Done  50 out of  50 | elapsed:    2.1s finished\n",
      "[Parallel(n_jobs=-1)]: Using backend ThreadingBackend with 16 concurrent workers.\n",
      "[Parallel(n_jobs=-1)]: Done  18 tasks      | elapsed:  2.9min\n",
      "[Parallel(n_jobs=-1)]: Done  50 out of  50 | elapsed:  5.5min finished\n",
      "[Parallel(n_jobs=16)]: Using backend ThreadingBackend with 16 concurrent workers.\n",
      "[Parallel(n_jobs=16)]: Done  18 tasks      | elapsed:    1.1s\n",
      "[Parallel(n_jobs=16)]: Done  50 out of  50 | elapsed:    2.1s finished\n",
      "[Parallel(n_jobs=-1)]: Using backend ThreadingBackend with 16 concurrent workers.\n",
      "[Parallel(n_jobs=-1)]: Done  18 tasks      | elapsed:  2.9min\n",
      "[Parallel(n_jobs=-1)]: Done  50 out of  50 | elapsed:  5.6min finished\n",
      "[Parallel(n_jobs=16)]: Using backend ThreadingBackend with 16 concurrent workers.\n",
      "[Parallel(n_jobs=16)]: Done  18 tasks      | elapsed:    1.1s\n",
      "[Parallel(n_jobs=16)]: Done  50 out of  50 | elapsed:    2.0s finished\n",
      "[Parallel(n_jobs=16)]: Using backend ThreadingBackend with 16 concurrent workers.\n",
      "[Parallel(n_jobs=16)]: Done  18 tasks      | elapsed:    0.2s\n",
      "[Parallel(n_jobs=16)]: Done  50 out of  50 | elapsed:    0.4s finished\n",
      "[Parallel(n_jobs=16)]: Using backend ThreadingBackend with 16 concurrent workers.\n",
      "[Parallel(n_jobs=16)]: Done  18 tasks      | elapsed:    0.5s\n",
      "[Parallel(n_jobs=16)]: Done  50 out of  50 | elapsed:    0.7s finished\n",
      "[Parallel(n_jobs=16)]: Using backend ThreadingBackend with 16 concurrent workers.\n",
      "[Parallel(n_jobs=16)]: Done  18 tasks      | elapsed:    0.2s\n",
      "[Parallel(n_jobs=16)]: Done  50 out of  50 | elapsed:    0.4s finished\n",
      "[Parallel(n_jobs=16)]: Using backend ThreadingBackend with 16 concurrent workers.\n",
      "[Parallel(n_jobs=16)]: Done  18 tasks      | elapsed:    0.2s\n"
     ]
    },
    {
     "name": "stdout",
     "output_type": "stream",
     "text": [
      "MAE: 0.5645549320941221\n"
     ]
    },
    {
     "name": "stderr",
     "output_type": "stream",
     "text": [
      "[Parallel(n_jobs=16)]: Done  50 out of  50 | elapsed:    0.4s finished\n"
     ]
    }
   ],
   "source": [
    "from sklearn.ensemble import AdaBoostRegressor\n",
    "\n",
    "ada = AdaBoostRegressor(random_state=42, learning_rate=0.001, n_estimators=4, \n",
    "                          estimator=RandomForestRegressor(n_estimators=50, random_state=42, verbose=1, n_jobs=-1))\n",
    "\n",
    "ada.fit(X_train, y_train)\n",
    "\n",
    "y_pred = ada.predict(X_test)\n",
    "mae = mean_absolute_error(y_test, y_pred)\n",
    "print(f\"MAE: {mae}\")"
   ]
  },
  {
   "cell_type": "markdown",
   "metadata": {},
   "source": [
    "## XGBRegressor"
   ]
  },
  {
   "cell_type": "code",
   "execution_count": 16,
   "metadata": {},
   "outputs": [
    {
     "name": "stdout",
     "output_type": "stream",
     "text": [
      "[17:06:36] INFO: C:\\actions-runner\\_work\\xgboost\\xgboost\\src\\data\\iterative_dmatrix.cc:53: Finished constructing the `IterativeDMatrix`: (774227, 149, 115359823).\n",
      "MAE: 0.5207063399151409\n"
     ]
    }
   ],
   "source": [
    "xgboost = XGBRegressor(\n",
    "    tree_method=\"hist\",\n",
    "    eval_metric=mean_absolute_error,\n",
    ")\n",
    "\n",
    "xgboost.fit(X_train, y_train, verbose=1)\n",
    "y_pred = xgboost.predict(X_test)\n",
    "mae = mean_absolute_error(y_test, y_pred)\n",
    "print(f\"MAE: {mae}\")"
   ]
  },
  {
   "cell_type": "code",
   "execution_count": 19,
   "metadata": {},
   "outputs": [
    {
     "name": "stdout",
     "output_type": "stream",
     "text": [
      "Collecting tensorflow_decision_forests==1.8.0\n",
      "  Downloading tensorflow_decision_forests-1.8.0-cp311-cp311-manylinux_2_17_x86_64.manylinux2014_x86_64.whl.metadata (6.0 kB)\n",
      "Requirement already satisfied: numpy in /usr/local/lib/python3.11/dist-packages (from tensorflow_decision_forests==1.8.0) (1.26.2)\n",
      "Requirement already satisfied: pandas in /usr/local/lib/python3.11/dist-packages (from tensorflow_decision_forests==1.8.0) (1.5.3)\n",
      "Collecting tensorflow~=2.15.0 (from tensorflow_decision_forests==1.8.0)\n",
      "  Downloading tensorflow-2.15.1-cp311-cp311-manylinux_2_17_x86_64.manylinux2014_x86_64.whl.metadata (4.2 kB)\n",
      "Requirement already satisfied: six in /usr/lib/python3/dist-packages (from tensorflow_decision_forests==1.8.0) (1.16.0)\n",
      "Requirement already satisfied: absl-py in /usr/local/lib/python3.11/dist-packages (from tensorflow_decision_forests==1.8.0) (2.0.0)\n",
      "Requirement already satisfied: wheel in /usr/local/lib/python3.11/dist-packages (from tensorflow_decision_forests==1.8.0) (0.41.3)\n",
      "Requirement already satisfied: wurlitzer in /usr/local/lib/python3.11/dist-packages (from tensorflow_decision_forests==1.8.0) (3.1.1)\n",
      "Requirement already satisfied: astunparse>=1.6.0 in /usr/local/lib/python3.11/dist-packages (from tensorflow~=2.15.0->tensorflow_decision_forests==1.8.0) (1.6.3)\n",
      "Requirement already satisfied: flatbuffers>=23.5.26 in /usr/local/lib/python3.11/dist-packages (from tensorflow~=2.15.0->tensorflow_decision_forests==1.8.0) (25.2.10)\n",
      "Requirement already satisfied: gast!=0.5.0,!=0.5.1,!=0.5.2,>=0.2.1 in /usr/local/lib/python3.11/dist-packages (from tensorflow~=2.15.0->tensorflow_decision_forests==1.8.0) (0.5.4)\n",
      "Requirement already satisfied: google-pasta>=0.1.1 in /usr/local/lib/python3.11/dist-packages (from tensorflow~=2.15.0->tensorflow_decision_forests==1.8.0) (0.2.0)\n",
      "Requirement already satisfied: h5py>=2.9.0 in /usr/local/lib/python3.11/dist-packages (from tensorflow~=2.15.0->tensorflow_decision_forests==1.8.0) (3.13.0)\n",
      "Requirement already satisfied: libclang>=13.0.0 in /usr/local/lib/python3.11/dist-packages (from tensorflow~=2.15.0->tensorflow_decision_forests==1.8.0) (16.0.6)\n",
      "Collecting ml-dtypes~=0.3.1 (from tensorflow~=2.15.0->tensorflow_decision_forests==1.8.0)\n",
      "  Downloading ml_dtypes-0.3.2-cp311-cp311-manylinux_2_17_x86_64.manylinux2014_x86_64.whl.metadata (20 kB)\n",
      "Requirement already satisfied: opt-einsum>=2.3.2 in /usr/local/lib/python3.11/dist-packages (from tensorflow~=2.15.0->tensorflow_decision_forests==1.8.0) (3.3.0)\n",
      "Requirement already satisfied: packaging in /usr/local/lib/python3.11/dist-packages (from tensorflow~=2.15.0->tensorflow_decision_forests==1.8.0) (23.2)\n",
      "Collecting protobuf!=4.21.0,!=4.21.1,!=4.21.2,!=4.21.3,!=4.21.4,!=4.21.5,<5.0.0dev,>=3.20.3 (from tensorflow~=2.15.0->tensorflow_decision_forests==1.8.0)\n",
      "  Using cached protobuf-4.25.6-cp37-abi3-manylinux2014_x86_64.whl.metadata (541 bytes)\n",
      "Requirement already satisfied: setuptools in /usr/local/lib/python3.11/dist-packages (from tensorflow~=2.15.0->tensorflow_decision_forests==1.8.0) (69.0.1)\n",
      "Requirement already satisfied: termcolor>=1.1.0 in /usr/local/lib/python3.11/dist-packages (from tensorflow~=2.15.0->tensorflow_decision_forests==1.8.0) (2.3.0)\n",
      "Requirement already satisfied: typing-extensions>=3.6.6 in /usr/local/lib/python3.11/dist-packages (from tensorflow~=2.15.0->tensorflow_decision_forests==1.8.0) (4.13.2)\n",
      "Requirement already satisfied: wrapt<1.15,>=1.11.0 in /usr/local/lib/python3.11/dist-packages (from tensorflow~=2.15.0->tensorflow_decision_forests==1.8.0) (1.14.1)\n",
      "Requirement already satisfied: tensorflow-io-gcs-filesystem>=0.23.1 in /usr/local/lib/python3.11/dist-packages (from tensorflow~=2.15.0->tensorflow_decision_forests==1.8.0) (0.34.0)\n",
      "Requirement already satisfied: grpcio<2.0,>=1.24.3 in /usr/local/lib/python3.11/dist-packages (from tensorflow~=2.15.0->tensorflow_decision_forests==1.8.0) (1.59.3)\n",
      "Collecting tensorboard<2.16,>=2.15 (from tensorflow~=2.15.0->tensorflow_decision_forests==1.8.0)\n",
      "  Downloading tensorboard-2.15.2-py3-none-any.whl.metadata (1.7 kB)\n",
      "Requirement already satisfied: tensorflow-estimator<2.16,>=2.15.0 in /usr/local/lib/python3.11/dist-packages (from tensorflow~=2.15.0->tensorflow_decision_forests==1.8.0) (2.15.0)\n",
      "Collecting keras<2.16,>=2.15.0 (from tensorflow~=2.15.0->tensorflow_decision_forests==1.8.0)\n",
      "  Downloading keras-2.15.0-py3-none-any.whl.metadata (2.4 kB)\n",
      "Requirement already satisfied: python-dateutil>=2.8.1 in /usr/local/lib/python3.11/dist-packages (from pandas->tensorflow_decision_forests==1.8.0) (2.9.0.post0)\n",
      "Requirement already satisfied: pytz>=2020.1 in /usr/local/lib/python3.11/dist-packages (from pandas->tensorflow_decision_forests==1.8.0) (2025.2)\n",
      "Requirement already satisfied: google-auth<3,>=1.6.3 in /usr/local/lib/python3.11/dist-packages (from tensorboard<2.16,>=2.15->tensorflow~=2.15.0->tensorflow_decision_forests==1.8.0) (2.23.4)\n",
      "Requirement already satisfied: google-auth-oauthlib<2,>=0.5 in /usr/local/lib/python3.11/dist-packages (from tensorboard<2.16,>=2.15->tensorflow~=2.15.0->tensorflow_decision_forests==1.8.0) (1.1.0)\n",
      "Requirement already satisfied: markdown>=2.6.8 in /usr/local/lib/python3.11/dist-packages (from tensorboard<2.16,>=2.15->tensorflow~=2.15.0->tensorflow_decision_forests==1.8.0) (3.5.1)\n",
      "Requirement already satisfied: requests<3,>=2.21.0 in /usr/local/lib/python3.11/dist-packages (from tensorboard<2.16,>=2.15->tensorflow~=2.15.0->tensorflow_decision_forests==1.8.0) (2.31.0)\n",
      "Requirement already satisfied: tensorboard-data-server<0.8.0,>=0.7.0 in /usr/local/lib/python3.11/dist-packages (from tensorboard<2.16,>=2.15->tensorflow~=2.15.0->tensorflow_decision_forests==1.8.0) (0.7.2)\n",
      "Requirement already satisfied: werkzeug>=1.0.1 in /usr/local/lib/python3.11/dist-packages (from tensorboard<2.16,>=2.15->tensorflow~=2.15.0->tensorflow_decision_forests==1.8.0) (3.0.1)\n",
      "Requirement already satisfied: cachetools<6.0,>=2.0.0 in /usr/local/lib/python3.11/dist-packages (from google-auth<3,>=1.6.3->tensorboard<2.16,>=2.15->tensorflow~=2.15.0->tensorflow_decision_forests==1.8.0) (5.3.2)\n",
      "Requirement already satisfied: pyasn1-modules>=0.2.1 in /usr/local/lib/python3.11/dist-packages (from google-auth<3,>=1.6.3->tensorboard<2.16,>=2.15->tensorflow~=2.15.0->tensorflow_decision_forests==1.8.0) (0.3.0)\n",
      "Requirement already satisfied: rsa<5,>=3.1.4 in /usr/local/lib/python3.11/dist-packages (from google-auth<3,>=1.6.3->tensorboard<2.16,>=2.15->tensorflow~=2.15.0->tensorflow_decision_forests==1.8.0) (4.9)\n",
      "Requirement already satisfied: requests-oauthlib>=0.7.0 in /usr/local/lib/python3.11/dist-packages (from google-auth-oauthlib<2,>=0.5->tensorboard<2.16,>=2.15->tensorflow~=2.15.0->tensorflow_decision_forests==1.8.0) (1.3.1)\n",
      "Requirement already satisfied: charset-normalizer<4,>=2 in /usr/local/lib/python3.11/dist-packages (from requests<3,>=2.21.0->tensorboard<2.16,>=2.15->tensorflow~=2.15.0->tensorflow_decision_forests==1.8.0) (3.3.2)\n",
      "Requirement already satisfied: idna<4,>=2.5 in /usr/local/lib/python3.11/dist-packages (from requests<3,>=2.21.0->tensorboard<2.16,>=2.15->tensorflow~=2.15.0->tensorflow_decision_forests==1.8.0) (3.4)\n",
      "Requirement already satisfied: urllib3<3,>=1.21.1 in /usr/local/lib/python3.11/dist-packages (from requests<3,>=2.21.0->tensorboard<2.16,>=2.15->tensorflow~=2.15.0->tensorflow_decision_forests==1.8.0) (2.1.0)\n",
      "Requirement already satisfied: certifi>=2017.4.17 in /usr/local/lib/python3.11/dist-packages (from requests<3,>=2.21.0->tensorboard<2.16,>=2.15->tensorflow~=2.15.0->tensorflow_decision_forests==1.8.0) (2023.11.17)\n",
      "Requirement already satisfied: MarkupSafe>=2.1.1 in /usr/local/lib/python3.11/dist-packages (from werkzeug>=1.0.1->tensorboard<2.16,>=2.15->tensorflow~=2.15.0->tensorflow_decision_forests==1.8.0) (2.1.3)\n",
      "Requirement already satisfied: pyasn1<0.6.0,>=0.4.6 in /usr/local/lib/python3.11/dist-packages (from pyasn1-modules>=0.2.1->google-auth<3,>=1.6.3->tensorboard<2.16,>=2.15->tensorflow~=2.15.0->tensorflow_decision_forests==1.8.0) (0.5.1)\n",
      "Requirement already satisfied: oauthlib>=3.0.0 in /usr/lib/python3/dist-packages (from requests-oauthlib>=0.7.0->google-auth-oauthlib<2,>=0.5->tensorboard<2.16,>=2.15->tensorflow~=2.15.0->tensorflow_decision_forests==1.8.0) (3.2.0)\n",
      "Downloading tensorflow_decision_forests-1.8.0-cp311-cp311-manylinux_2_17_x86_64.manylinux2014_x86_64.whl (15.3 MB)\n",
      "\u001b[2K   \u001b[90m━━━━━━━━━━━━━━━━━━━━━━━━━━━━━━━━━━━━━━━━\u001b[0m \u001b[32m15.3/15.3 MB\u001b[0m \u001b[31m4.5 MB/s\u001b[0m eta \u001b[36m0:00:00\u001b[0m00:01\u001b[0m00:01\u001b[0m\n",
      "\u001b[?25hDownloading tensorflow-2.15.1-cp311-cp311-manylinux_2_17_x86_64.manylinux2014_x86_64.whl (475.3 MB)\n",
      "\u001b[2K   \u001b[90m━━━━━━━━━━━━━━━━━━━━━━━━━━━━━━━━━━━━━━━━\u001b[0m \u001b[32m475.3/475.3 MB\u001b[0m \u001b[31m13.4 MB/s\u001b[0m eta \u001b[36m0:00:00\u001b[0m00:01\u001b[0m00:01\u001b[0m\n",
      "\u001b[?25hDownloading keras-2.15.0-py3-none-any.whl (1.7 MB)\n",
      "\u001b[2K   \u001b[90m━━━━━━━━━━━━━━━━━━━━━━━━━━━━━━━━━━━━━━━━\u001b[0m \u001b[32m1.7/1.7 MB\u001b[0m \u001b[31m5.5 MB/s\u001b[0m eta \u001b[36m0:00:00\u001b[0mta \u001b[36m0:00:01\u001b[0m\n",
      "\u001b[?25hDownloading ml_dtypes-0.3.2-cp311-cp311-manylinux_2_17_x86_64.manylinux2014_x86_64.whl (2.2 MB)\n",
      "\u001b[2K   \u001b[90m━━━━━━━━━━━━━━━━━━━━━━━━━━━━━━━━━━━━━━━━\u001b[0m \u001b[32m2.2/2.2 MB\u001b[0m \u001b[31m6.0 MB/s\u001b[0m eta \u001b[36m0:00:00\u001b[0mta \u001b[36m0:00:01\u001b[0m\n",
      "\u001b[?25hDownloading protobuf-4.25.6-cp37-abi3-manylinux2014_x86_64.whl (294 kB)\n",
      "Downloading tensorboard-2.15.2-py3-none-any.whl (5.5 MB)\n",
      "\u001b[2K   \u001b[90m━━━━━━━━━━━━━━━━━━━━━━━━━━━━━━━━━━━━━━━━\u001b[0m \u001b[32m5.5/5.5 MB\u001b[0m \u001b[31m11.6 MB/s\u001b[0m eta \u001b[36m0:00:00\u001b[0m00:01\u001b[0m\n",
      "\u001b[?25hInstalling collected packages: protobuf, ml-dtypes, keras, tensorboard, tensorflow, tensorflow_decision_forests\n",
      "  Attempting uninstall: protobuf\n",
      "    Found existing installation: protobuf 5.29.4\n",
      "    Uninstalling protobuf-5.29.4:\n",
      "      Successfully uninstalled protobuf-5.29.4\n",
      "  Attempting uninstall: ml-dtypes\n",
      "    Found existing installation: ml_dtypes 0.5.1\n",
      "    Uninstalling ml_dtypes-0.5.1:\n",
      "      Successfully uninstalled ml_dtypes-0.5.1\n",
      "  Attempting uninstall: keras\n",
      "    Found existing installation: keras 3.9.2\n",
      "    Uninstalling keras-3.9.2:\n",
      "      Successfully uninstalled keras-3.9.2\n",
      "  Attempting uninstall: tensorboard\n",
      "    Found existing installation: tensorboard 2.19.0\n",
      "    Uninstalling tensorboard-2.19.0:\n",
      "      Successfully uninstalled tensorboard-2.19.0\n",
      "  Attempting uninstall: tensorflow\n",
      "    Found existing installation: tensorflow 2.19.0\n",
      "    Uninstalling tensorflow-2.19.0:\n",
      "      Successfully uninstalled tensorflow-2.19.0\n",
      "  Attempting uninstall: tensorflow_decision_forests\n",
      "    Found existing installation: tensorflow_decision_forests 1.12.0\n",
      "    Uninstalling tensorflow_decision_forests-1.12.0:\n",
      "      Successfully uninstalled tensorflow_decision_forests-1.12.0\n",
      "\u001b[31mERROR: pip's dependency resolver does not currently take into account all the packages that are installed. This behaviour is the source of the following dependency conflicts.\n",
      "tf-keras 2.19.0 requires tensorflow<2.20,>=2.19, but you have tensorflow 2.15.1 which is incompatible.\n",
      "ydf 0.11.0 requires protobuf<6.0.0,>=5.29.1, but you have protobuf 4.25.6 which is incompatible.\u001b[0m\u001b[31m\n",
      "\u001b[0mSuccessfully installed keras-2.15.0 ml-dtypes-0.3.2 protobuf-4.25.6 tensorboard-2.15.2 tensorflow-2.15.1 tensorflow_decision_forests-1.8.0\n",
      "\u001b[33mWARNING: Running pip as the 'root' user can result in broken permissions and conflicting behaviour with the system package manager, possibly rendering your system unusable. It is recommended to use a virtual environment instead: https://pip.pypa.io/warnings/venv. Use the --root-user-action option if you know what you are doing and want to suppress this warning.\u001b[0m\u001b[33m\n",
      "\u001b[0m"
     ]
    }
   ],
   "source": [
    "!pip install tensorflow_decision_forests==1.8.0"
   ]
  },
  {
   "cell_type": "markdown",
   "metadata": {},
   "source": [
    "## Ensemble"
   ]
  },
  {
   "cell_type": "code",
   "execution_count": null,
   "metadata": {},
   "outputs": [],
   "source": [
    "import tensorflow as tf\n",
    "import tensorflow_decision_forests as tfdf\n",
    "from tensorflow.keras import Input, Model\n",
    "from tensorflow.keras.layers import Dense, Dropout, Average, Lambda, MultiHeadAttention, LayerNormalization, Add\n",
    "from tensorflow.keras.optimizers import Adam\n",
    "from tensorflow.keras.activations import gelu"
   ]
  },
  {
   "cell_type": "code",
   "execution_count": null,
   "metadata": {},
   "outputs": [
    {
     "data": {
      "text/plain": [
       "<KerasTensor: shape=(None, 10) dtype=float32 (created by layer 'preprocessor')>"
      ]
     },
     "metadata": {},
     "output_type": "display_data"
    }
   ],
   "source": [
    "# --- 0. Datos y preprocesamiento común ---\n",
    "num_features = X_train.shape[1]\n",
    "raw_inputs = Input(shape=(num_features,), name=\"raw_inputs\")\n",
    "\n",
    "# Preprocesamiento simple: 184→32 reducidas a 10 dims\n",
    "preprocessor = Dense(10, activation=\"relu6\", name=\"preprocessor\")\n",
    "preprocessed = preprocessor(raw_inputs)\n",
    "preprocessed"
   ]
  },
  {
   "cell_type": "code",
   "execution_count": null,
   "metadata": {},
   "outputs": [
    {
     "name": "stdout",
     "output_type": "stream",
     "text": [
      "Epoch 1/15\n"
     ]
    }
   ],
   "source": [
    "# --- 1. Ramas NN idénticas (sin cambios) ---\n",
    "def build_nn_branch(name):\n",
    "    x = Dense(184, activation=\"relu\", name=f\"{name}_d1\")(preprocessed)\n",
    "    x = Dropout(0.3787, name=f\"{name}_do1\")(x)\n",
    "    x = Dense(78, activation=\"relu\", name=f\"{name}_d2\")(x)\n",
    "    x = Dropout(0.1474, name=f\"{name}_do2\")(x)\n",
    "    x = Dense(32, activation=\"relu\", name=f\"{name}_d3\")(x)\n",
    "    out = Dense(1, activation=\"linear\", name=f\"{name}_out\")(x)\n",
    "    return Model(raw_inputs, out, name=name)\n",
    "\n",
    "nn1 = build_nn_branch(\"nn1\")\n",
    "nn2 = build_nn_branch(\"nn2\")\n",
    "\n",
    "for nn in (nn1, nn2):\n",
    "    nn.compile(optimizer=Adam(3.403e-4), loss=\"mean_squared_error\", metrics=[\"mae\"])\n",
    "    nn.fit(X_train, y_train,\n",
    "           validation_data=(X_test, y_test),\n",
    "           epochs=15, batch_size=16, verbose=1)"
   ]
  },
  {
   "cell_type": "code",
   "execution_count": null,
   "metadata": {},
   "outputs": [
    {
     "name": "stdout",
     "output_type": "stream",
     "text": [
      "Use /tmp/tmp2vtj9ba7 as temporary training directory\n",
      "Reading training dataset...\n",
      "Training dataset read in 0:00:17.970208. Found 774227 examples.\n",
      "Training model...\n"
     ]
    },
    {
     "name": "stderr",
     "output_type": "stream",
     "text": [
      "[INFO 25-04-18 09:46:49.5596 UTC kernel.cc:1233] Loading model from path /tmp/tmp2vtj9ba7/model/ with prefix 4ee75f2847c14dc6\n",
      "[INFO 25-04-18 09:47:40.9975 UTC decision_forest.cc:660] Model loaded with 1000 root(s), 29797968 node(s), and 10 input feature(s).\n",
      "[INFO 25-04-18 09:47:40.9979 UTC abstract_model.cc:1344] Engine \"RandomForestGeneric\" built\n",
      "[INFO 25-04-18 09:47:40.9979 UTC kernel.cc:1061] Use fast generic engine\n"
     ]
    },
    {
     "name": "stdout",
     "output_type": "stream",
     "text": [
      "Model trained in 0:06:59.924397\n",
      "Compiling model...\n",
      "Model compiled.\n"
     ]
    }
   ],
   "source": [
    "# --- 2. Ramas RandomForest y Transformer ---\n",
    "\n",
    "# 2.1 RandomForest único (rf1)\n",
    "def seed_args(seed):\n",
    "    return tfdf.keras.AdvancedArguments(\n",
    "        yggdrasil_training_config=tfdf.keras.core.YggdrasilTrainingConfig(random_seed=seed)\n",
    "    )\n",
    "\n",
    "rf1 = tfdf.keras.RandomForestModel(\n",
    "    num_threads=15,\n",
    "    num_trees=1000,\n",
    "    advanced_arguments=seed_args(1234),\n",
    "    name=\"rf1\"\n",
    ")\n",
    "\n",
    "# Genera X_pp con la capa preprocessor\n",
    "preproc_fn = tf.keras.backend.function([raw_inputs], [preprocessed])\n",
    "X_train_pp = preproc_fn([X_train])[0]\n",
    "X_val_pp   = preproc_fn([X_test])[0]\n",
    "\n",
    "rf1.fit(x=X_train_pp, y=y_train, verbose=1)\n",
    "m3_pred = rf1(preprocessed)"
   ]
  },
  {
   "cell_type": "code",
   "execution_count": null,
   "metadata": {},
   "outputs": [
    {
     "name": "stdout",
     "output_type": "stream",
     "text": [
      "INFO:tensorflow:Assets written to: weight/rf1_saved_model/assets\n"
     ]
    },
    {
     "name": "stderr",
     "output_type": "stream",
     "text": [
      "INFO:tensorflow:Assets written to: weight/rf1_saved_model/assets\n"
     ]
    }
   ],
   "source": [
    "rf1.save(\"weight/rf1_saved_model\")"
   ]
  },
  {
   "cell_type": "code",
   "execution_count": null,
   "metadata": {},
   "outputs": [
    {
     "name": "stderr",
     "output_type": "stream",
     "text": [
      "[INFO 25-04-18 10:38:02.5071 UTC kernel.cc:1233] Loading model from path weight/rf1_saved_model/assets/ with prefix 4ee75f2847c14dc6\n",
      "[INFO 25-04-18 10:38:43.1248 UTC decision_forest.cc:660] Model loaded with 1000 root(s), 29797968 node(s), and 10 input feature(s).\n",
      "[INFO 25-04-18 10:38:43.1249 UTC abstract_model.cc:1344] Engine \"RandomForestGeneric\" built\n",
      "[INFO 25-04-18 10:38:43.1249 UTC kernel.cc:1061] Use fast generic engine\n"
     ]
    },
    {
     "data": {
      "text/plain": [
       "<keras.src.saving.legacy.saved_model.load.RandomForestModel at 0x7f1e046ffa50>"
      ]
     },
     "metadata": {},
     "output_type": "display_data"
    }
   ],
   "source": [
    "rf1 = tf.keras.models.load_model(\"weight/rf1_saved_model\")\n",
    "rf1"
   ]
  },
  {
   "cell_type": "code",
   "execution_count": null,
   "metadata": {},
   "outputs": [
    {
     "name": "stdout",
     "output_type": "stream",
     "text": [
      "Epoch 1/5\n"
     ]
    },
    {
     "name": "stderr",
     "output_type": "stream",
     "text": [
      "WARNING: All log messages before absl::InitializeLog() is called are written to STDERR\n",
      "I0000 00:00:1744970627.233226    6346 device_compiler.h:186] Compiled cluster using XLA!  This line is logged at most once for the lifetime of the process.\n"
     ]
    },
    {
     "name": "stdout",
     "output_type": "stream",
     "text": [
      "48390/48390 [==============================] - 408s 8ms/step - loss: 0.8382 - mae: 0.5172 - val_loss: 0.4959 - val_mae: 0.4237\n",
      "Epoch 2/5\n",
      "48390/48390 [==============================] - 393s 8ms/step - loss: 0.4906 - mae: 0.4651 - val_loss: 0.4731 - val_mae: 0.4079\n",
      "Epoch 3/5\n",
      "48390/48390 [==============================] - 415s 9ms/step - loss: 0.4550 - mae: 0.4495 - val_loss: 0.4353 - val_mae: 0.3991\n",
      "Epoch 4/5\n",
      "48390/48390 [==============================] - 416s 9ms/step - loss: 0.4306 - mae: 0.4382 - val_loss: 0.4141 - val_mae: 0.3904\n",
      "Epoch 5/5\n",
      "48390/48390 [==============================] - 401s 8ms/step - loss: 0.4139 - mae: 0.4302 - val_loss: 0.4063 - val_mae: 0.3745\n"
     ]
    },
    {
     "data": {
      "text/plain": [
       "<keras.src.callbacks.History at 0x7f22fef489d0>"
      ]
     },
     "metadata": {},
     "output_type": "display_data"
    }
   ],
   "source": [
    "# 2.2 Transformer branch (sustituyendo rf2)\n",
    "# Reusa raw_inputs para integrarlo en el mismo grafo\n",
    "x = Dense(256, activation=gelu, kernel_regularizer=tf.keras.regularizers.l2(0.01))(raw_inputs)\n",
    "x = LayerNormalization()(x)\n",
    "x = Lambda(lambda t: tf.expand_dims(t, axis=1))(x)\n",
    "\n",
    "# Primera capa de MultiHeadAttention + residual\n",
    "attn = MultiHeadAttention(num_heads=8, key_dim=128)(x, x)\n",
    "attn = Dropout(0.4)(attn)\n",
    "# residual y normalización\n",
    "attn = Add()([tf.squeeze(x, axis=1), tf.squeeze(attn, axis=1)])\n",
    "attn = LayerNormalization()(attn)\n",
    "\n",
    "# Feed‑forward residual\n",
    "ff = Dense(256, activation=gelu, kernel_regularizer=tf.keras.regularizers.l2(0.01))(attn)\n",
    "ff = Dropout(0.4)(ff)\n",
    "attn = Add()([attn, ff])\n",
    "attn = LayerNormalization()(attn)\n",
    "\n",
    "# Capas FFN profundas\n",
    "ffn = Dense(256, activation=gelu, kernel_regularizer=tf.keras.regularizers.l2(0.01))(attn)\n",
    "ffn = Dropout(0.4)(ffn)\n",
    "ffn = Dense(128, activation=gelu, kernel_regularizer=tf.keras.regularizers.l2(0.01))(ffn)\n",
    "ffn = Dropout(0.4)(ffn)\n",
    "ffn = Dense(64, activation=gelu, kernel_regularizer=tf.keras.regularizers.l2(0.01))(ffn)\n",
    "ffn = Dropout(0.4)(ffn)\n",
    "ffn = Dense(32, activation=gelu, kernel_regularizer=tf.keras.regularizers.l2(0.01))(ffn)\n",
    "\n",
    "# Salida\n",
    "transformer_out = Dense(1, activation=\"linear\", name=\"transformer_out\")(ffn)\n",
    "transformer = Model(raw_inputs, transformer_out, name=\"transformer\")\n",
    "\n",
    "# Compilación y entrenamiento\n",
    "lr_schedule = tf.keras.optimizers.schedules.ExponentialDecay(\n",
    "    initial_learning_rate=5e-4,\n",
    "    decay_steps=10_000,\n",
    "    decay_rate=0.9\n",
    ")\n",
    "transformer.compile(optimizer=Adam(learning_rate=lr_schedule),\n",
    "                    loss=\"mean_squared_error\",\n",
    "                    metrics=[\"mae\"])\n",
    "transformer.fit(X_train, y_train,\n",
    "                validation_data=(X_test, y_test),\n",
    "                epochs=5, batch_size=16, verbose=1)"
   ]
  },
  {
   "cell_type": "code",
   "execution_count": null,
   "metadata": {},
   "outputs": [
    {
     "name": "stdout",
     "output_type": "stream",
     "text": [
      "INFO:tensorflow:Assets written to: weight/transformer_saved_model/assets\n"
     ]
    },
    {
     "name": "stderr",
     "output_type": "stream",
     "text": [
      "INFO:tensorflow:Assets written to: weight/transformer_saved_model/assets\n"
     ]
    }
   ],
   "source": [
    "transformer.save(\"weight/transformer_saved_model\")"
   ]
  },
  {
   "cell_type": "code",
   "execution_count": null,
   "metadata": {},
   "outputs": [
    {
     "data": {
      "text/plain": [
       "<keras.src.engine.functional.Functional at 0x7f1e046c5710>"
      ]
     },
     "metadata": {},
     "output_type": "display_data"
    }
   ],
   "source": [
    "transformer = tf.keras.models.load_model(\"weight/transformer_saved_model\")\n",
    "transformer"
   ]
  },
  {
   "cell_type": "code",
   "execution_count": null,
   "metadata": {},
   "outputs": [],
   "source": [
    "# --- 3. Ensamblaje final con 4 ramas: nn1, nn2, rf1 y transformer ---\n",
    "avg_all = Average(name=\"avg_all\")([\n",
    "    nn1(raw_inputs),\n",
    "    nn2(raw_inputs),\n",
    "    m3_pred,\n",
    "    transformer(raw_inputs)\n",
    "])\n",
    "\n",
    "ensemble_full = Model(raw_inputs, avg_all, name=\"ensemble_full\")\n",
    "ensemble_full.compile(\n",
    "    optimizer=Adam(3.403e-4),\n",
    "    loss=\"mean_squared_error\",\n",
    "    metrics=[\"mae\"]\n",
    ")\n",
    "ensemble_full.summary()"
   ]
  },
  {
   "cell_type": "code",
   "execution_count": null,
   "metadata": {},
   "outputs": [],
   "source": [
    "# --- 4. Evaluación ---\n",
    "print(\"Ensamble (NNs + RF1 + Transformer):\")\n",
    "ensemble_full.evaluate(X_test, y_test, batch_size=16)"
   ]
  },
  {
   "cell_type": "code",
   "execution_count": null,
   "metadata": {},
   "outputs": [],
   "source": [
    "ensemble_full.save(\"weight/ensemble_full_saved_model\")"
   ]
  },
  {
   "cell_type": "markdown",
   "metadata": {},
   "source": [
    "## Stacking"
   ]
  },
  {
   "cell_type": "code",
   "execution_count": 10,
   "metadata": {},
   "outputs": [
    {
     "name": "stdout",
     "output_type": "stream",
     "text": [
      "[15:08:16] INFO: C:\\actions-runner\\_work\\xgboost\\xgboost\\src\\data\\iterative_dmatrix.cc:53: Finished constructing the `IterativeDMatrix`: (774227, 159, 123102093).\n",
      "[15:08:29] INFO: C:\\actions-runner\\_work\\xgboost\\xgboost\\src\\data\\iterative_dmatrix.cc:53: Finished constructing the `IterativeDMatrix`: (774227, 159, 123102093).\n",
      "[15:08:40] INFO: C:\\actions-runner\\_work\\xgboost\\xgboost\\src\\data\\iterative_dmatrix.cc:53: Finished constructing the `IterativeDMatrix`: (774227, 159, 123102093).\n",
      "[15:08:52] INFO: C:\\actions-runner\\_work\\xgboost\\xgboost\\src\\data\\iterative_dmatrix.cc:53: Finished constructing the `IterativeDMatrix`: (774227, 159, 123102093).\n",
      "[15:09:04] INFO: C:\\actions-runner\\_work\\xgboost\\xgboost\\src\\data\\iterative_dmatrix.cc:53: Finished constructing the `IterativeDMatrix`: (774227, 159, 123102093).\n",
      "[15:09:15] INFO: C:\\actions-runner\\_work\\xgboost\\xgboost\\src\\data\\iterative_dmatrix.cc:53: Finished constructing the `IterativeDMatrix`: (774227, 159, 123102093).\n"
     ]
    },
    {
     "name": "stderr",
     "output_type": "stream",
     "text": [
      "[Parallel(n_jobs=-1)]: Using backend ThreadingBackend with 16 concurrent workers.\n",
      "[Parallel(n_jobs=-1)]: Done  18 tasks      | elapsed: 11.8min\n",
      "[Parallel(n_jobs=-1)]: Done  50 out of  50 | elapsed: 24.5min finished\n"
     ]
    },
    {
     "name": "stdout",
     "output_type": "stream",
     "text": [
      "[15:33:56] INFO: C:\\actions-runner\\_work\\xgboost\\xgboost\\src\\data\\iterative_dmatrix.cc:53: Finished constructing the `IterativeDMatrix`: (774227, 159, 123102093).\n",
      "[15:34:08] INFO: C:\\actions-runner\\_work\\xgboost\\xgboost\\src\\data\\iterative_dmatrix.cc:53: Finished constructing the `IterativeDMatrix`: (619381, 159, 98481579).\n",
      "[15:34:22] INFO: C:\\actions-runner\\_work\\xgboost\\xgboost\\src\\data\\iterative_dmatrix.cc:53: Finished constructing the `IterativeDMatrix`: (619381, 159, 98481579).\n",
      "[15:34:33] INFO: C:\\actions-runner\\_work\\xgboost\\xgboost\\src\\data\\iterative_dmatrix.cc:53: Finished constructing the `IterativeDMatrix`: (619381, 159, 98481579).\n",
      "[15:34:48] INFO: C:\\actions-runner\\_work\\xgboost\\xgboost\\src\\data\\iterative_dmatrix.cc:53: Finished constructing the `IterativeDMatrix`: (619381, 159, 98481579).\n",
      "[15:34:59] INFO: C:\\actions-runner\\_work\\xgboost\\xgboost\\src\\data\\iterative_dmatrix.cc:53: Finished constructing the `IterativeDMatrix`: (619381, 159, 98481579).\n",
      "[15:35:15] INFO: C:\\actions-runner\\_work\\xgboost\\xgboost\\src\\data\\iterative_dmatrix.cc:53: Finished constructing the `IterativeDMatrix`: (619381, 159, 98481579).\n",
      "[15:35:29] INFO: C:\\actions-runner\\_work\\xgboost\\xgboost\\src\\data\\iterative_dmatrix.cc:53: Finished constructing the `IterativeDMatrix`: (619381, 159, 98481579).\n",
      "[15:35:41] INFO: C:\\actions-runner\\_work\\xgboost\\xgboost\\src\\data\\iterative_dmatrix.cc:53: Finished constructing the `IterativeDMatrix`: (619381, 159, 98481579).\n",
      "[15:35:50] INFO: C:\\actions-runner\\_work\\xgboost\\xgboost\\src\\data\\iterative_dmatrix.cc:53: Finished constructing the `IterativeDMatrix`: (619381, 159, 98481579).\n",
      "[15:36:02] INFO: C:\\actions-runner\\_work\\xgboost\\xgboost\\src\\data\\iterative_dmatrix.cc:53: Finished constructing the `IterativeDMatrix`: (619381, 159, 98481579).\n",
      "[15:36:12] INFO: C:\\actions-runner\\_work\\xgboost\\xgboost\\src\\data\\iterative_dmatrix.cc:53: Finished constructing the `IterativeDMatrix`: (619381, 159, 98481579).\n",
      "[15:36:23] INFO: C:\\actions-runner\\_work\\xgboost\\xgboost\\src\\data\\iterative_dmatrix.cc:53: Finished constructing the `IterativeDMatrix`: (619381, 159, 98481579).\n",
      "[15:36:35] INFO: C:\\actions-runner\\_work\\xgboost\\xgboost\\src\\data\\iterative_dmatrix.cc:53: Finished constructing the `IterativeDMatrix`: (619382, 159, 98481738).\n",
      "[15:36:45] INFO: C:\\actions-runner\\_work\\xgboost\\xgboost\\src\\data\\iterative_dmatrix.cc:53: Finished constructing the `IterativeDMatrix`: (619382, 159, 98481738).\n",
      "[15:36:55] INFO: C:\\actions-runner\\_work\\xgboost\\xgboost\\src\\data\\iterative_dmatrix.cc:53: Finished constructing the `IterativeDMatrix`: (619382, 159, 98481738).\n",
      "[15:37:06] INFO: C:\\actions-runner\\_work\\xgboost\\xgboost\\src\\data\\iterative_dmatrix.cc:53: Finished constructing the `IterativeDMatrix`: (619382, 159, 98481738).\n",
      "[15:37:15] INFO: C:\\actions-runner\\_work\\xgboost\\xgboost\\src\\data\\iterative_dmatrix.cc:53: Finished constructing the `IterativeDMatrix`: (619382, 159, 98481738).\n",
      "[15:37:25] INFO: C:\\actions-runner\\_work\\xgboost\\xgboost\\src\\data\\iterative_dmatrix.cc:53: Finished constructing the `IterativeDMatrix`: (619382, 159, 98481738).\n",
      "[15:37:36] INFO: C:\\actions-runner\\_work\\xgboost\\xgboost\\src\\data\\iterative_dmatrix.cc:53: Finished constructing the `IterativeDMatrix`: (619382, 159, 98481738).\n",
      "[15:37:45] INFO: C:\\actions-runner\\_work\\xgboost\\xgboost\\src\\data\\iterative_dmatrix.cc:53: Finished constructing the `IterativeDMatrix`: (619382, 159, 98481738).\n",
      "[15:37:56] INFO: C:\\actions-runner\\_work\\xgboost\\xgboost\\src\\data\\iterative_dmatrix.cc:53: Finished constructing the `IterativeDMatrix`: (619382, 159, 98481738).\n",
      "[15:38:07] INFO: C:\\actions-runner\\_work\\xgboost\\xgboost\\src\\data\\iterative_dmatrix.cc:53: Finished constructing the `IterativeDMatrix`: (619382, 159, 98481738).\n",
      "[15:38:16] INFO: C:\\actions-runner\\_work\\xgboost\\xgboost\\src\\data\\iterative_dmatrix.cc:53: Finished constructing the `IterativeDMatrix`: (619382, 159, 98481738).\n",
      "[15:38:26] INFO: C:\\actions-runner\\_work\\xgboost\\xgboost\\src\\data\\iterative_dmatrix.cc:53: Finished constructing the `IterativeDMatrix`: (619382, 159, 98481738).\n",
      "[15:38:37] INFO: C:\\actions-runner\\_work\\xgboost\\xgboost\\src\\data\\iterative_dmatrix.cc:53: Finished constructing the `IterativeDMatrix`: (619382, 159, 98481738).\n",
      "[15:38:46] INFO: C:\\actions-runner\\_work\\xgboost\\xgboost\\src\\data\\iterative_dmatrix.cc:53: Finished constructing the `IterativeDMatrix`: (619382, 159, 98481738).\n",
      "[15:38:57] INFO: C:\\actions-runner\\_work\\xgboost\\xgboost\\src\\data\\iterative_dmatrix.cc:53: Finished constructing the `IterativeDMatrix`: (619382, 159, 98481738).\n",
      "[15:39:07] INFO: C:\\actions-runner\\_work\\xgboost\\xgboost\\src\\data\\iterative_dmatrix.cc:53: Finished constructing the `IterativeDMatrix`: (619382, 159, 98481738).\n",
      "[15:39:17] INFO: C:\\actions-runner\\_work\\xgboost\\xgboost\\src\\data\\iterative_dmatrix.cc:53: Finished constructing the `IterativeDMatrix`: (619382, 159, 98481738).\n",
      "[15:39:27] INFO: C:\\actions-runner\\_work\\xgboost\\xgboost\\src\\data\\iterative_dmatrix.cc:53: Finished constructing the `IterativeDMatrix`: (619382, 159, 98481738).\n"
     ]
    },
    {
     "name": "stderr",
     "output_type": "stream",
     "text": [
      "[Parallel(n_jobs=-1)]: Using backend ThreadingBackend with 16 concurrent workers.\n",
      "[Parallel(n_jobs=-1)]: Done  18 tasks      | elapsed:  9.1min\n",
      "[Parallel(n_jobs=-1)]: Done  50 out of  50 | elapsed: 17.6min finished\n",
      "[Parallel(n_jobs=16)]: Using backend ThreadingBackend with 16 concurrent workers.\n",
      "[Parallel(n_jobs=16)]: Done  18 tasks      | elapsed:    0.2s\n",
      "[Parallel(n_jobs=16)]: Done  50 out of  50 | elapsed:    0.5s finished\n",
      "[Parallel(n_jobs=-1)]: Using backend ThreadingBackend with 16 concurrent workers.\n",
      "[Parallel(n_jobs=-1)]: Done  18 tasks      | elapsed:  9.0min\n",
      "[Parallel(n_jobs=-1)]: Done  50 out of  50 | elapsed: 17.6min finished\n",
      "[Parallel(n_jobs=16)]: Using backend ThreadingBackend with 16 concurrent workers.\n",
      "[Parallel(n_jobs=16)]: Done  18 tasks      | elapsed:    0.2s\n",
      "[Parallel(n_jobs=16)]: Done  50 out of  50 | elapsed:    0.5s finished\n",
      "[Parallel(n_jobs=-1)]: Using backend ThreadingBackend with 16 concurrent workers.\n",
      "[Parallel(n_jobs=-1)]: Done  18 tasks      | elapsed:  9.0min\n",
      "[Parallel(n_jobs=-1)]: Done  50 out of  50 | elapsed: 17.5min finished\n",
      "[Parallel(n_jobs=16)]: Using backend ThreadingBackend with 16 concurrent workers.\n",
      "[Parallel(n_jobs=16)]: Done  18 tasks      | elapsed:    0.2s\n",
      "[Parallel(n_jobs=16)]: Done  50 out of  50 | elapsed:    0.5s finished\n",
      "[Parallel(n_jobs=-1)]: Using backend ThreadingBackend with 16 concurrent workers.\n",
      "[Parallel(n_jobs=-1)]: Done  18 tasks      | elapsed:  8.6min\n",
      "[Parallel(n_jobs=-1)]: Done  50 out of  50 | elapsed: 17.5min finished\n",
      "[Parallel(n_jobs=16)]: Using backend ThreadingBackend with 16 concurrent workers.\n",
      "[Parallel(n_jobs=16)]: Done  18 tasks      | elapsed:    0.2s\n",
      "[Parallel(n_jobs=16)]: Done  50 out of  50 | elapsed:    0.5s finished\n",
      "[Parallel(n_jobs=-1)]: Using backend ThreadingBackend with 16 concurrent workers.\n",
      "[Parallel(n_jobs=-1)]: Done  18 tasks      | elapsed:  8.6min\n",
      "[Parallel(n_jobs=-1)]: Done  50 out of  50 | elapsed: 17.1min finished\n",
      "[Parallel(n_jobs=16)]: Using backend ThreadingBackend with 16 concurrent workers.\n",
      "[Parallel(n_jobs=16)]: Done  18 tasks      | elapsed:    0.2s\n",
      "[Parallel(n_jobs=16)]: Done  50 out of  50 | elapsed:    0.5s finished\n"
     ]
    },
    {
     "name": "stdout",
     "output_type": "stream",
     "text": [
      "[17:07:05] INFO: C:\\actions-runner\\_work\\xgboost\\xgboost\\src\\data\\iterative_dmatrix.cc:53: Finished constructing the `IterativeDMatrix`: (619381, 159, 98481579).\n",
      "[17:07:16] INFO: C:\\actions-runner\\_work\\xgboost\\xgboost\\src\\data\\iterative_dmatrix.cc:53: Finished constructing the `IterativeDMatrix`: (619381, 159, 98481579).\n",
      "[17:07:26] INFO: C:\\actions-runner\\_work\\xgboost\\xgboost\\src\\data\\iterative_dmatrix.cc:53: Finished constructing the `IterativeDMatrix`: (619382, 159, 98481738).\n",
      "[17:07:36] INFO: C:\\actions-runner\\_work\\xgboost\\xgboost\\src\\data\\iterative_dmatrix.cc:53: Finished constructing the `IterativeDMatrix`: (619382, 159, 98481738).\n",
      "[17:07:46] INFO: C:\\actions-runner\\_work\\xgboost\\xgboost\\src\\data\\iterative_dmatrix.cc:53: Finished constructing the `IterativeDMatrix`: (619382, 159, 98481738).\n"
     ]
    },
    {
     "name": "stderr",
     "output_type": "stream",
     "text": [
      "[Parallel(n_jobs=16)]: Using backend ThreadingBackend with 16 concurrent workers.\n",
      "[Parallel(n_jobs=16)]: Done  18 tasks      | elapsed:    0.4s\n"
     ]
    },
    {
     "name": "stdout",
     "output_type": "stream",
     "text": [
      "MAE: 0.4957841627129702\n"
     ]
    },
    {
     "name": "stderr",
     "output_type": "stream",
     "text": [
      "[Parallel(n_jobs=16)]: Done  50 out of  50 | elapsed:    0.8s finished\n"
     ]
    }
   ],
   "source": [
    "from sklearn.ensemble import StackingRegressor\n",
    "from sklearn.ensemble import AdaBoostRegressor, RandomForestRegressor\n",
    "from xgboost import XGBRegressor\n",
    "from sklearn.linear_model import LinearRegression\n",
    "\n",
    "estimators = [\n",
    "    ('ada', AdaBoostRegressor(random_state=42, learning_rate=0.001, n_estimators=6, \n",
    "                          estimator=XGBRegressor(tree_method=\"hist\", eval_metric=mean_absolute_error))),\n",
    "\n",
    "    ('rf', RandomForestRegressor(n_estimators=50, random_state=42, verbose=1, n_jobs=-1)),\n",
    "\n",
    "    ('xgb', XGBRegressor(tree_method=\"hist\", eval_metric=mean_absolute_error)),\n",
    "]\n",
    "\n",
    "stacking_model = StackingRegressor(\n",
    "    estimators=estimators,\n",
    "    final_estimator=LinearRegression(),\n",
    "    verbose=1\n",
    ")\n",
    "\n",
    "stacking_model.fit(X_train, y_train)\n",
    "y_pred = stacking_model.predict(X_test)\n",
    "mae = mean_absolute_error(y_test, y_pred)\n",
    "print(f\"MAE: {mae}\")"
   ]
  },
  {
   "cell_type": "code",
   "execution_count": 14,
   "metadata": {},
   "outputs": [
    {
     "data": {
      "text/plain": [
       "['stacking_model_0.4957.pkl']"
      ]
     },
     "execution_count": 14,
     "metadata": {},
     "output_type": "execute_result"
    }
   ],
   "source": [
    "import joblib\n",
    "\n",
    "# Guardar el modelo entrenado\n",
    "joblib.dump(stacking_model, 'stacking_model_0.4957.pkl')"
   ]
  },
  {
   "cell_type": "markdown",
   "metadata": {},
   "source": [
    "XGBoost"
   ]
  },
  {
   "cell_type": "code",
   "execution_count": 40,
   "metadata": {},
   "outputs": [
    {
     "data": {
      "text/html": [
       "<style>#sk-container-id-1 {\n",
       "  /* Definition of color scheme common for light and dark mode */\n",
       "  --sklearn-color-text: #000;\n",
       "  --sklearn-color-text-muted: #666;\n",
       "  --sklearn-color-line: gray;\n",
       "  /* Definition of color scheme for unfitted estimators */\n",
       "  --sklearn-color-unfitted-level-0: #fff5e6;\n",
       "  --sklearn-color-unfitted-level-1: #f6e4d2;\n",
       "  --sklearn-color-unfitted-level-2: #ffe0b3;\n",
       "  --sklearn-color-unfitted-level-3: chocolate;\n",
       "  /* Definition of color scheme for fitted estimators */\n",
       "  --sklearn-color-fitted-level-0: #f0f8ff;\n",
       "  --sklearn-color-fitted-level-1: #d4ebff;\n",
       "  --sklearn-color-fitted-level-2: #b3dbfd;\n",
       "  --sklearn-color-fitted-level-3: cornflowerblue;\n",
       "\n",
       "  /* Specific color for light theme */\n",
       "  --sklearn-color-text-on-default-background: var(--sg-text-color, var(--theme-code-foreground, var(--jp-content-font-color1, black)));\n",
       "  --sklearn-color-background: var(--sg-background-color, var(--theme-background, var(--jp-layout-color0, white)));\n",
       "  --sklearn-color-border-box: var(--sg-text-color, var(--theme-code-foreground, var(--jp-content-font-color1, black)));\n",
       "  --sklearn-color-icon: #696969;\n",
       "\n",
       "  @media (prefers-color-scheme: dark) {\n",
       "    /* Redefinition of color scheme for dark theme */\n",
       "    --sklearn-color-text-on-default-background: var(--sg-text-color, var(--theme-code-foreground, var(--jp-content-font-color1, white)));\n",
       "    --sklearn-color-background: var(--sg-background-color, var(--theme-background, var(--jp-layout-color0, #111)));\n",
       "    --sklearn-color-border-box: var(--sg-text-color, var(--theme-code-foreground, var(--jp-content-font-color1, white)));\n",
       "    --sklearn-color-icon: #878787;\n",
       "  }\n",
       "}\n",
       "\n",
       "#sk-container-id-1 {\n",
       "  color: var(--sklearn-color-text);\n",
       "}\n",
       "\n",
       "#sk-container-id-1 pre {\n",
       "  padding: 0;\n",
       "}\n",
       "\n",
       "#sk-container-id-1 input.sk-hidden--visually {\n",
       "  border: 0;\n",
       "  clip: rect(1px 1px 1px 1px);\n",
       "  clip: rect(1px, 1px, 1px, 1px);\n",
       "  height: 1px;\n",
       "  margin: -1px;\n",
       "  overflow: hidden;\n",
       "  padding: 0;\n",
       "  position: absolute;\n",
       "  width: 1px;\n",
       "}\n",
       "\n",
       "#sk-container-id-1 div.sk-dashed-wrapped {\n",
       "  border: 1px dashed var(--sklearn-color-line);\n",
       "  margin: 0 0.4em 0.5em 0.4em;\n",
       "  box-sizing: border-box;\n",
       "  padding-bottom: 0.4em;\n",
       "  background-color: var(--sklearn-color-background);\n",
       "}\n",
       "\n",
       "#sk-container-id-1 div.sk-container {\n",
       "  /* jupyter's `normalize.less` sets `[hidden] { display: none; }`\n",
       "     but bootstrap.min.css set `[hidden] { display: none !important; }`\n",
       "     so we also need the `!important` here to be able to override the\n",
       "     default hidden behavior on the sphinx rendered scikit-learn.org.\n",
       "     See: https://github.com/scikit-learn/scikit-learn/issues/21755 */\n",
       "  display: inline-block !important;\n",
       "  position: relative;\n",
       "}\n",
       "\n",
       "#sk-container-id-1 div.sk-text-repr-fallback {\n",
       "  display: none;\n",
       "}\n",
       "\n",
       "div.sk-parallel-item,\n",
       "div.sk-serial,\n",
       "div.sk-item {\n",
       "  /* draw centered vertical line to link estimators */\n",
       "  background-image: linear-gradient(var(--sklearn-color-text-on-default-background), var(--sklearn-color-text-on-default-background));\n",
       "  background-size: 2px 100%;\n",
       "  background-repeat: no-repeat;\n",
       "  background-position: center center;\n",
       "}\n",
       "\n",
       "/* Parallel-specific style estimator block */\n",
       "\n",
       "#sk-container-id-1 div.sk-parallel-item::after {\n",
       "  content: \"\";\n",
       "  width: 100%;\n",
       "  border-bottom: 2px solid var(--sklearn-color-text-on-default-background);\n",
       "  flex-grow: 1;\n",
       "}\n",
       "\n",
       "#sk-container-id-1 div.sk-parallel {\n",
       "  display: flex;\n",
       "  align-items: stretch;\n",
       "  justify-content: center;\n",
       "  background-color: var(--sklearn-color-background);\n",
       "  position: relative;\n",
       "}\n",
       "\n",
       "#sk-container-id-1 div.sk-parallel-item {\n",
       "  display: flex;\n",
       "  flex-direction: column;\n",
       "}\n",
       "\n",
       "#sk-container-id-1 div.sk-parallel-item:first-child::after {\n",
       "  align-self: flex-end;\n",
       "  width: 50%;\n",
       "}\n",
       "\n",
       "#sk-container-id-1 div.sk-parallel-item:last-child::after {\n",
       "  align-self: flex-start;\n",
       "  width: 50%;\n",
       "}\n",
       "\n",
       "#sk-container-id-1 div.sk-parallel-item:only-child::after {\n",
       "  width: 0;\n",
       "}\n",
       "\n",
       "/* Serial-specific style estimator block */\n",
       "\n",
       "#sk-container-id-1 div.sk-serial {\n",
       "  display: flex;\n",
       "  flex-direction: column;\n",
       "  align-items: center;\n",
       "  background-color: var(--sklearn-color-background);\n",
       "  padding-right: 1em;\n",
       "  padding-left: 1em;\n",
       "}\n",
       "\n",
       "\n",
       "/* Toggleable style: style used for estimator/Pipeline/ColumnTransformer box that is\n",
       "clickable and can be expanded/collapsed.\n",
       "- Pipeline and ColumnTransformer use this feature and define the default style\n",
       "- Estimators will overwrite some part of the style using the `sk-estimator` class\n",
       "*/\n",
       "\n",
       "/* Pipeline and ColumnTransformer style (default) */\n",
       "\n",
       "#sk-container-id-1 div.sk-toggleable {\n",
       "  /* Default theme specific background. It is overwritten whether we have a\n",
       "  specific estimator or a Pipeline/ColumnTransformer */\n",
       "  background-color: var(--sklearn-color-background);\n",
       "}\n",
       "\n",
       "/* Toggleable label */\n",
       "#sk-container-id-1 label.sk-toggleable__label {\n",
       "  cursor: pointer;\n",
       "  display: flex;\n",
       "  width: 100%;\n",
       "  margin-bottom: 0;\n",
       "  padding: 0.5em;\n",
       "  box-sizing: border-box;\n",
       "  text-align: center;\n",
       "  align-items: start;\n",
       "  justify-content: space-between;\n",
       "  gap: 0.5em;\n",
       "}\n",
       "\n",
       "#sk-container-id-1 label.sk-toggleable__label .caption {\n",
       "  font-size: 0.6rem;\n",
       "  font-weight: lighter;\n",
       "  color: var(--sklearn-color-text-muted);\n",
       "}\n",
       "\n",
       "#sk-container-id-1 label.sk-toggleable__label-arrow:before {\n",
       "  /* Arrow on the left of the label */\n",
       "  content: \"▸\";\n",
       "  float: left;\n",
       "  margin-right: 0.25em;\n",
       "  color: var(--sklearn-color-icon);\n",
       "}\n",
       "\n",
       "#sk-container-id-1 label.sk-toggleable__label-arrow:hover:before {\n",
       "  color: var(--sklearn-color-text);\n",
       "}\n",
       "\n",
       "/* Toggleable content - dropdown */\n",
       "\n",
       "#sk-container-id-1 div.sk-toggleable__content {\n",
       "  max-height: 0;\n",
       "  max-width: 0;\n",
       "  overflow: hidden;\n",
       "  text-align: left;\n",
       "  /* unfitted */\n",
       "  background-color: var(--sklearn-color-unfitted-level-0);\n",
       "}\n",
       "\n",
       "#sk-container-id-1 div.sk-toggleable__content.fitted {\n",
       "  /* fitted */\n",
       "  background-color: var(--sklearn-color-fitted-level-0);\n",
       "}\n",
       "\n",
       "#sk-container-id-1 div.sk-toggleable__content pre {\n",
       "  margin: 0.2em;\n",
       "  border-radius: 0.25em;\n",
       "  color: var(--sklearn-color-text);\n",
       "  /* unfitted */\n",
       "  background-color: var(--sklearn-color-unfitted-level-0);\n",
       "}\n",
       "\n",
       "#sk-container-id-1 div.sk-toggleable__content.fitted pre {\n",
       "  /* unfitted */\n",
       "  background-color: var(--sklearn-color-fitted-level-0);\n",
       "}\n",
       "\n",
       "#sk-container-id-1 input.sk-toggleable__control:checked~div.sk-toggleable__content {\n",
       "  /* Expand drop-down */\n",
       "  max-height: 200px;\n",
       "  max-width: 100%;\n",
       "  overflow: auto;\n",
       "}\n",
       "\n",
       "#sk-container-id-1 input.sk-toggleable__control:checked~label.sk-toggleable__label-arrow:before {\n",
       "  content: \"▾\";\n",
       "}\n",
       "\n",
       "/* Pipeline/ColumnTransformer-specific style */\n",
       "\n",
       "#sk-container-id-1 div.sk-label input.sk-toggleable__control:checked~label.sk-toggleable__label {\n",
       "  color: var(--sklearn-color-text);\n",
       "  background-color: var(--sklearn-color-unfitted-level-2);\n",
       "}\n",
       "\n",
       "#sk-container-id-1 div.sk-label.fitted input.sk-toggleable__control:checked~label.sk-toggleable__label {\n",
       "  background-color: var(--sklearn-color-fitted-level-2);\n",
       "}\n",
       "\n",
       "/* Estimator-specific style */\n",
       "\n",
       "/* Colorize estimator box */\n",
       "#sk-container-id-1 div.sk-estimator input.sk-toggleable__control:checked~label.sk-toggleable__label {\n",
       "  /* unfitted */\n",
       "  background-color: var(--sklearn-color-unfitted-level-2);\n",
       "}\n",
       "\n",
       "#sk-container-id-1 div.sk-estimator.fitted input.sk-toggleable__control:checked~label.sk-toggleable__label {\n",
       "  /* fitted */\n",
       "  background-color: var(--sklearn-color-fitted-level-2);\n",
       "}\n",
       "\n",
       "#sk-container-id-1 div.sk-label label.sk-toggleable__label,\n",
       "#sk-container-id-1 div.sk-label label {\n",
       "  /* The background is the default theme color */\n",
       "  color: var(--sklearn-color-text-on-default-background);\n",
       "}\n",
       "\n",
       "/* On hover, darken the color of the background */\n",
       "#sk-container-id-1 div.sk-label:hover label.sk-toggleable__label {\n",
       "  color: var(--sklearn-color-text);\n",
       "  background-color: var(--sklearn-color-unfitted-level-2);\n",
       "}\n",
       "\n",
       "/* Label box, darken color on hover, fitted */\n",
       "#sk-container-id-1 div.sk-label.fitted:hover label.sk-toggleable__label.fitted {\n",
       "  color: var(--sklearn-color-text);\n",
       "  background-color: var(--sklearn-color-fitted-level-2);\n",
       "}\n",
       "\n",
       "/* Estimator label */\n",
       "\n",
       "#sk-container-id-1 div.sk-label label {\n",
       "  font-family: monospace;\n",
       "  font-weight: bold;\n",
       "  display: inline-block;\n",
       "  line-height: 1.2em;\n",
       "}\n",
       "\n",
       "#sk-container-id-1 div.sk-label-container {\n",
       "  text-align: center;\n",
       "}\n",
       "\n",
       "/* Estimator-specific */\n",
       "#sk-container-id-1 div.sk-estimator {\n",
       "  font-family: monospace;\n",
       "  border: 1px dotted var(--sklearn-color-border-box);\n",
       "  border-radius: 0.25em;\n",
       "  box-sizing: border-box;\n",
       "  margin-bottom: 0.5em;\n",
       "  /* unfitted */\n",
       "  background-color: var(--sklearn-color-unfitted-level-0);\n",
       "}\n",
       "\n",
       "#sk-container-id-1 div.sk-estimator.fitted {\n",
       "  /* fitted */\n",
       "  background-color: var(--sklearn-color-fitted-level-0);\n",
       "}\n",
       "\n",
       "/* on hover */\n",
       "#sk-container-id-1 div.sk-estimator:hover {\n",
       "  /* unfitted */\n",
       "  background-color: var(--sklearn-color-unfitted-level-2);\n",
       "}\n",
       "\n",
       "#sk-container-id-1 div.sk-estimator.fitted:hover {\n",
       "  /* fitted */\n",
       "  background-color: var(--sklearn-color-fitted-level-2);\n",
       "}\n",
       "\n",
       "/* Specification for estimator info (e.g. \"i\" and \"?\") */\n",
       "\n",
       "/* Common style for \"i\" and \"?\" */\n",
       "\n",
       ".sk-estimator-doc-link,\n",
       "a:link.sk-estimator-doc-link,\n",
       "a:visited.sk-estimator-doc-link {\n",
       "  float: right;\n",
       "  font-size: smaller;\n",
       "  line-height: 1em;\n",
       "  font-family: monospace;\n",
       "  background-color: var(--sklearn-color-background);\n",
       "  border-radius: 1em;\n",
       "  height: 1em;\n",
       "  width: 1em;\n",
       "  text-decoration: none !important;\n",
       "  margin-left: 0.5em;\n",
       "  text-align: center;\n",
       "  /* unfitted */\n",
       "  border: var(--sklearn-color-unfitted-level-1) 1pt solid;\n",
       "  color: var(--sklearn-color-unfitted-level-1);\n",
       "}\n",
       "\n",
       ".sk-estimator-doc-link.fitted,\n",
       "a:link.sk-estimator-doc-link.fitted,\n",
       "a:visited.sk-estimator-doc-link.fitted {\n",
       "  /* fitted */\n",
       "  border: var(--sklearn-color-fitted-level-1) 1pt solid;\n",
       "  color: var(--sklearn-color-fitted-level-1);\n",
       "}\n",
       "\n",
       "/* On hover */\n",
       "div.sk-estimator:hover .sk-estimator-doc-link:hover,\n",
       ".sk-estimator-doc-link:hover,\n",
       "div.sk-label-container:hover .sk-estimator-doc-link:hover,\n",
       ".sk-estimator-doc-link:hover {\n",
       "  /* unfitted */\n",
       "  background-color: var(--sklearn-color-unfitted-level-3);\n",
       "  color: var(--sklearn-color-background);\n",
       "  text-decoration: none;\n",
       "}\n",
       "\n",
       "div.sk-estimator.fitted:hover .sk-estimator-doc-link.fitted:hover,\n",
       ".sk-estimator-doc-link.fitted:hover,\n",
       "div.sk-label-container:hover .sk-estimator-doc-link.fitted:hover,\n",
       ".sk-estimator-doc-link.fitted:hover {\n",
       "  /* fitted */\n",
       "  background-color: var(--sklearn-color-fitted-level-3);\n",
       "  color: var(--sklearn-color-background);\n",
       "  text-decoration: none;\n",
       "}\n",
       "\n",
       "/* Span, style for the box shown on hovering the info icon */\n",
       ".sk-estimator-doc-link span {\n",
       "  display: none;\n",
       "  z-index: 9999;\n",
       "  position: relative;\n",
       "  font-weight: normal;\n",
       "  right: .2ex;\n",
       "  padding: .5ex;\n",
       "  margin: .5ex;\n",
       "  width: min-content;\n",
       "  min-width: 20ex;\n",
       "  max-width: 50ex;\n",
       "  color: var(--sklearn-color-text);\n",
       "  box-shadow: 2pt 2pt 4pt #999;\n",
       "  /* unfitted */\n",
       "  background: var(--sklearn-color-unfitted-level-0);\n",
       "  border: .5pt solid var(--sklearn-color-unfitted-level-3);\n",
       "}\n",
       "\n",
       ".sk-estimator-doc-link.fitted span {\n",
       "  /* fitted */\n",
       "  background: var(--sklearn-color-fitted-level-0);\n",
       "  border: var(--sklearn-color-fitted-level-3);\n",
       "}\n",
       "\n",
       ".sk-estimator-doc-link:hover span {\n",
       "  display: block;\n",
       "}\n",
       "\n",
       "/* \"?\"-specific style due to the `<a>` HTML tag */\n",
       "\n",
       "#sk-container-id-1 a.estimator_doc_link {\n",
       "  float: right;\n",
       "  font-size: 1rem;\n",
       "  line-height: 1em;\n",
       "  font-family: monospace;\n",
       "  background-color: var(--sklearn-color-background);\n",
       "  border-radius: 1rem;\n",
       "  height: 1rem;\n",
       "  width: 1rem;\n",
       "  text-decoration: none;\n",
       "  /* unfitted */\n",
       "  color: var(--sklearn-color-unfitted-level-1);\n",
       "  border: var(--sklearn-color-unfitted-level-1) 1pt solid;\n",
       "}\n",
       "\n",
       "#sk-container-id-1 a.estimator_doc_link.fitted {\n",
       "  /* fitted */\n",
       "  border: var(--sklearn-color-fitted-level-1) 1pt solid;\n",
       "  color: var(--sklearn-color-fitted-level-1);\n",
       "}\n",
       "\n",
       "/* On hover */\n",
       "#sk-container-id-1 a.estimator_doc_link:hover {\n",
       "  /* unfitted */\n",
       "  background-color: var(--sklearn-color-unfitted-level-3);\n",
       "  color: var(--sklearn-color-background);\n",
       "  text-decoration: none;\n",
       "}\n",
       "\n",
       "#sk-container-id-1 a.estimator_doc_link.fitted:hover {\n",
       "  /* fitted */\n",
       "  background-color: var(--sklearn-color-fitted-level-3);\n",
       "}\n",
       "</style><div id=\"sk-container-id-1\" class=\"sk-top-container\"><div class=\"sk-text-repr-fallback\"><pre>StackingRegressor(estimators=[(&#x27;ada&#x27;,\n",
       "                               AdaBoostRegressor(estimator=RandomForestRegressor(n_estimators=50,\n",
       "                                                                                 n_jobs=-1,\n",
       "                                                                                 random_state=42,\n",
       "                                                                                 verbose=1),\n",
       "                                                 learning_rate=0.001,\n",
       "                                                 n_estimators=4,\n",
       "                                                 random_state=42)),\n",
       "                              (&#x27;rf&#x27;,\n",
       "                               RandomForestRegressor(n_estimators=50, n_jobs=-1,\n",
       "                                                     random_state=42,\n",
       "                                                     verbose=1)),\n",
       "                              (&#x27;xgb&#x27;,\n",
       "                               XGBRegressor(base_score=None, booster=None,\n",
       "                                            callbacks=None,\n",
       "                                            colsample_b...\n",
       "                                            importance_type=None,\n",
       "                                            interaction_constraints=None,\n",
       "                                            learning_rate=None, max_bin=None,\n",
       "                                            max_cat_threshold=None,\n",
       "                                            max_cat_to_onehot=None,\n",
       "                                            max_delta_step=None, max_depth=None,\n",
       "                                            max_leaves=None,\n",
       "                                            min_child_weight=None, missing=nan,\n",
       "                                            monotone_constraints=None,\n",
       "                                            multi_strategy=None,\n",
       "                                            n_estimators=None, n_jobs=None,\n",
       "                                            num_parallel_tree=None, ...))],\n",
       "                  final_estimator=LinearRegression(), verbose=1)</pre><b>In a Jupyter environment, please rerun this cell to show the HTML representation or trust the notebook. <br />On GitHub, the HTML representation is unable to render, please try loading this page with nbviewer.org.</b></div><div class=\"sk-container\" hidden><div class=\"sk-item sk-dashed-wrapped\"><div class=\"sk-label-container\"><div class=\"sk-label fitted sk-toggleable\"><input class=\"sk-toggleable__control sk-hidden--visually\" id=\"sk-estimator-id-1\" type=\"checkbox\" ><label for=\"sk-estimator-id-1\" class=\"sk-toggleable__label fitted sk-toggleable__label-arrow\"><div><div>StackingRegressor</div></div><div><a class=\"sk-estimator-doc-link fitted\" rel=\"noreferrer\" target=\"_blank\" href=\"https://scikit-learn.org/1.6/modules/generated/sklearn.ensemble.StackingRegressor.html\">?<span>Documentation for StackingRegressor</span></a><span class=\"sk-estimator-doc-link fitted\">i<span>Fitted</span></span></div></label><div class=\"sk-toggleable__content fitted\"><pre>StackingRegressor(estimators=[(&#x27;ada&#x27;,\n",
       "                               AdaBoostRegressor(estimator=RandomForestRegressor(n_estimators=50,\n",
       "                                                                                 n_jobs=-1,\n",
       "                                                                                 random_state=42,\n",
       "                                                                                 verbose=1),\n",
       "                                                 learning_rate=0.001,\n",
       "                                                 n_estimators=4,\n",
       "                                                 random_state=42)),\n",
       "                              (&#x27;rf&#x27;,\n",
       "                               RandomForestRegressor(n_estimators=50, n_jobs=-1,\n",
       "                                                     random_state=42,\n",
       "                                                     verbose=1)),\n",
       "                              (&#x27;xgb&#x27;,\n",
       "                               XGBRegressor(base_score=None, booster=None,\n",
       "                                            callbacks=None,\n",
       "                                            colsample_b...\n",
       "                                            importance_type=None,\n",
       "                                            interaction_constraints=None,\n",
       "                                            learning_rate=None, max_bin=None,\n",
       "                                            max_cat_threshold=None,\n",
       "                                            max_cat_to_onehot=None,\n",
       "                                            max_delta_step=None, max_depth=None,\n",
       "                                            max_leaves=None,\n",
       "                                            min_child_weight=None, missing=nan,\n",
       "                                            monotone_constraints=None,\n",
       "                                            multi_strategy=None,\n",
       "                                            n_estimators=None, n_jobs=None,\n",
       "                                            num_parallel_tree=None, ...))],\n",
       "                  final_estimator=LinearRegression(), verbose=1)</pre></div> </div></div><div class=\"sk-serial\"><div class=\"sk-item\"><div class=\"sk-parallel\"><div class=\"sk-parallel-item\"><div class=\"sk-item\"><div class=\"sk-label-container\"><div class=\"sk-label fitted sk-toggleable\"><label>ada</label></div></div><div class=\"sk-serial\"><div class=\"sk-item sk-dashed-wrapped\"><div class=\"sk-parallel\"><div class=\"sk-parallel-item\"><div class=\"sk-item\"><div class=\"sk-label-container\"><div class=\"sk-label fitted sk-toggleable\"><input class=\"sk-toggleable__control sk-hidden--visually\" id=\"sk-estimator-id-2\" type=\"checkbox\" ><label for=\"sk-estimator-id-2\" class=\"sk-toggleable__label fitted sk-toggleable__label-arrow\"><div><div>estimator: RandomForestRegressor</div></div></label><div class=\"sk-toggleable__content fitted\"><pre>RandomForestRegressor(n_estimators=50, n_jobs=-1, random_state=42, verbose=1)</pre></div> </div></div><div class=\"sk-serial\"><div class=\"sk-item\"><div class=\"sk-estimator fitted sk-toggleable\"><input class=\"sk-toggleable__control sk-hidden--visually\" id=\"sk-estimator-id-3\" type=\"checkbox\" ><label for=\"sk-estimator-id-3\" class=\"sk-toggleable__label fitted sk-toggleable__label-arrow\"><div><div>RandomForestRegressor</div></div><div><a class=\"sk-estimator-doc-link fitted\" rel=\"noreferrer\" target=\"_blank\" href=\"https://scikit-learn.org/1.6/modules/generated/sklearn.ensemble.RandomForestRegressor.html\">?<span>Documentation for RandomForestRegressor</span></a></div></label><div class=\"sk-toggleable__content fitted\"><pre>RandomForestRegressor(n_estimators=50, n_jobs=-1, random_state=42, verbose=1)</pre></div> </div></div></div></div></div></div></div></div></div></div><div class=\"sk-parallel-item\"><div class=\"sk-item\"><div class=\"sk-label-container\"><div class=\"sk-label fitted sk-toggleable\"><label>rf</label></div></div><div class=\"sk-serial\"><div class=\"sk-item\"><div class=\"sk-estimator fitted sk-toggleable\"><input class=\"sk-toggleable__control sk-hidden--visually\" id=\"sk-estimator-id-4\" type=\"checkbox\" ><label for=\"sk-estimator-id-4\" class=\"sk-toggleable__label fitted sk-toggleable__label-arrow\"><div><div>RandomForestRegressor</div></div><div><a class=\"sk-estimator-doc-link fitted\" rel=\"noreferrer\" target=\"_blank\" href=\"https://scikit-learn.org/1.6/modules/generated/sklearn.ensemble.RandomForestRegressor.html\">?<span>Documentation for RandomForestRegressor</span></a></div></label><div class=\"sk-toggleable__content fitted\"><pre>RandomForestRegressor(n_estimators=50, n_jobs=-1, random_state=42, verbose=1)</pre></div> </div></div></div></div></div><div class=\"sk-parallel-item\"><div class=\"sk-item\"><div class=\"sk-label-container\"><div class=\"sk-label fitted sk-toggleable\"><label>xgb</label></div></div><div class=\"sk-serial\"><div class=\"sk-item\"><div class=\"sk-estimator fitted sk-toggleable\"><input class=\"sk-toggleable__control sk-hidden--visually\" id=\"sk-estimator-id-5\" type=\"checkbox\" ><label for=\"sk-estimator-id-5\" class=\"sk-toggleable__label fitted sk-toggleable__label-arrow\"><div><div>XGBRegressor</div></div><div><a class=\"sk-estimator-doc-link fitted\" rel=\"noreferrer\" target=\"_blank\" href=\"https://xgboost.readthedocs.io/en/release_3.0.0/python/python_api.html#xgboost.XGBRegressor\">?<span>Documentation for XGBRegressor</span></a></div></label><div class=\"sk-toggleable__content fitted\"><pre>XGBRegressor(base_score=None, booster=None, callbacks=None,\n",
       "             colsample_bylevel=None, colsample_bynode=None,\n",
       "             colsample_bytree=None, device=None, early_stopping_rounds=None,\n",
       "             enable_categorical=False,\n",
       "             eval_metric=&lt;function mean_absolute_error at 0x0000013F5DCECD60&gt;,\n",
       "             feature_types=None, feature_weights=None, gamma=None,\n",
       "             grow_policy=None, importance_type=None,\n",
       "             interaction_constraints=None, learning_rate=None, max_bin=None,\n",
       "             max_cat_threshold=None, max_cat_to_onehot=None,\n",
       "             max_delta_step=None, max_depth=None, max_leaves=None,\n",
       "             min_child_weight=None, missing=nan, monotone_constraints=None,\n",
       "             multi_strategy=None, n_estimators=None, n_jobs=None,\n",
       "             num_parallel_tree=None, ...)</pre></div> </div></div></div></div></div></div></div><div class=\"sk-item\"><div class=\"sk-parallel\"><div class=\"sk-parallel-item\"><div class=\"sk-item\"><div class=\"sk-label-container\"><div class=\"sk-label fitted sk-toggleable\"><label>final_estimator</label></div></div><div class=\"sk-serial\"><div class=\"sk-item\"><div class=\"sk-estimator fitted sk-toggleable\"><input class=\"sk-toggleable__control sk-hidden--visually\" id=\"sk-estimator-id-6\" type=\"checkbox\" ><label for=\"sk-estimator-id-6\" class=\"sk-toggleable__label fitted sk-toggleable__label-arrow\"><div><div>LinearRegression</div></div><div><a class=\"sk-estimator-doc-link fitted\" rel=\"noreferrer\" target=\"_blank\" href=\"https://scikit-learn.org/1.6/modules/generated/sklearn.linear_model.LinearRegression.html\">?<span>Documentation for LinearRegression</span></a></div></label><div class=\"sk-toggleable__content fitted\"><pre>LinearRegression()</pre></div> </div></div></div></div></div></div></div></div></div></div></div>"
      ],
      "text/plain": [
       "StackingRegressor(estimators=[('ada',\n",
       "                               AdaBoostRegressor(estimator=RandomForestRegressor(n_estimators=50,\n",
       "                                                                                 n_jobs=-1,\n",
       "                                                                                 random_state=42,\n",
       "                                                                                 verbose=1),\n",
       "                                                 learning_rate=0.001,\n",
       "                                                 n_estimators=4,\n",
       "                                                 random_state=42)),\n",
       "                              ('rf',\n",
       "                               RandomForestRegressor(n_estimators=50, n_jobs=-1,\n",
       "                                                     random_state=42,\n",
       "                                                     verbose=1)),\n",
       "                              ('xgb',\n",
       "                               XGBRegressor(base_score=None, booster=None,\n",
       "                                            callbacks=None,\n",
       "                                            colsample_b...\n",
       "                                            importance_type=None,\n",
       "                                            interaction_constraints=None,\n",
       "                                            learning_rate=None, max_bin=None,\n",
       "                                            max_cat_threshold=None,\n",
       "                                            max_cat_to_onehot=None,\n",
       "                                            max_delta_step=None, max_depth=None,\n",
       "                                            max_leaves=None,\n",
       "                                            min_child_weight=None, missing=nan,\n",
       "                                            monotone_constraints=None,\n",
       "                                            multi_strategy=None,\n",
       "                                            n_estimators=None, n_jobs=None,\n",
       "                                            num_parallel_tree=None, ...))],\n",
       "                  final_estimator=LinearRegression(), verbose=1)"
      ]
     },
     "execution_count": 40,
     "metadata": {},
     "output_type": "execute_result"
    }
   ],
   "source": [
    "loaded_model = joblib.load('../weight/stacking_model_0.546.pkl')\n",
    "loaded_model"
   ]
  },
  {
   "cell_type": "markdown",
   "metadata": {},
   "source": [
    "## VotingRegressor"
   ]
  },
  {
   "cell_type": "code",
   "execution_count": null,
   "metadata": {},
   "outputs": [
    {
     "data": {
      "text/html": [
       "<style>#sk-container-id-3 {\n",
       "  /* Definition of color scheme common for light and dark mode */\n",
       "  --sklearn-color-text: #000;\n",
       "  --sklearn-color-text-muted: #666;\n",
       "  --sklearn-color-line: gray;\n",
       "  /* Definition of color scheme for unfitted estimators */\n",
       "  --sklearn-color-unfitted-level-0: #fff5e6;\n",
       "  --sklearn-color-unfitted-level-1: #f6e4d2;\n",
       "  --sklearn-color-unfitted-level-2: #ffe0b3;\n",
       "  --sklearn-color-unfitted-level-3: chocolate;\n",
       "  /* Definition of color scheme for fitted estimators */\n",
       "  --sklearn-color-fitted-level-0: #f0f8ff;\n",
       "  --sklearn-color-fitted-level-1: #d4ebff;\n",
       "  --sklearn-color-fitted-level-2: #b3dbfd;\n",
       "  --sklearn-color-fitted-level-3: cornflowerblue;\n",
       "\n",
       "  /* Specific color for light theme */\n",
       "  --sklearn-color-text-on-default-background: var(--sg-text-color, var(--theme-code-foreground, var(--jp-content-font-color1, black)));\n",
       "  --sklearn-color-background: var(--sg-background-color, var(--theme-background, var(--jp-layout-color0, white)));\n",
       "  --sklearn-color-border-box: var(--sg-text-color, var(--theme-code-foreground, var(--jp-content-font-color1, black)));\n",
       "  --sklearn-color-icon: #696969;\n",
       "\n",
       "  @media (prefers-color-scheme: dark) {\n",
       "    /* Redefinition of color scheme for dark theme */\n",
       "    --sklearn-color-text-on-default-background: var(--sg-text-color, var(--theme-code-foreground, var(--jp-content-font-color1, white)));\n",
       "    --sklearn-color-background: var(--sg-background-color, var(--theme-background, var(--jp-layout-color0, #111)));\n",
       "    --sklearn-color-border-box: var(--sg-text-color, var(--theme-code-foreground, var(--jp-content-font-color1, white)));\n",
       "    --sklearn-color-icon: #878787;\n",
       "  }\n",
       "}\n",
       "\n",
       "#sk-container-id-3 {\n",
       "  color: var(--sklearn-color-text);\n",
       "}\n",
       "\n",
       "#sk-container-id-3 pre {\n",
       "  padding: 0;\n",
       "}\n",
       "\n",
       "#sk-container-id-3 input.sk-hidden--visually {\n",
       "  border: 0;\n",
       "  clip: rect(1px 1px 1px 1px);\n",
       "  clip: rect(1px, 1px, 1px, 1px);\n",
       "  height: 1px;\n",
       "  margin: -1px;\n",
       "  overflow: hidden;\n",
       "  padding: 0;\n",
       "  position: absolute;\n",
       "  width: 1px;\n",
       "}\n",
       "\n",
       "#sk-container-id-3 div.sk-dashed-wrapped {\n",
       "  border: 1px dashed var(--sklearn-color-line);\n",
       "  margin: 0 0.4em 0.5em 0.4em;\n",
       "  box-sizing: border-box;\n",
       "  padding-bottom: 0.4em;\n",
       "  background-color: var(--sklearn-color-background);\n",
       "}\n",
       "\n",
       "#sk-container-id-3 div.sk-container {\n",
       "  /* jupyter's `normalize.less` sets `[hidden] { display: none; }`\n",
       "     but bootstrap.min.css set `[hidden] { display: none !important; }`\n",
       "     so we also need the `!important` here to be able to override the\n",
       "     default hidden behavior on the sphinx rendered scikit-learn.org.\n",
       "     See: https://github.com/scikit-learn/scikit-learn/issues/21755 */\n",
       "  display: inline-block !important;\n",
       "  position: relative;\n",
       "}\n",
       "\n",
       "#sk-container-id-3 div.sk-text-repr-fallback {\n",
       "  display: none;\n",
       "}\n",
       "\n",
       "div.sk-parallel-item,\n",
       "div.sk-serial,\n",
       "div.sk-item {\n",
       "  /* draw centered vertical line to link estimators */\n",
       "  background-image: linear-gradient(var(--sklearn-color-text-on-default-background), var(--sklearn-color-text-on-default-background));\n",
       "  background-size: 2px 100%;\n",
       "  background-repeat: no-repeat;\n",
       "  background-position: center center;\n",
       "}\n",
       "\n",
       "/* Parallel-specific style estimator block */\n",
       "\n",
       "#sk-container-id-3 div.sk-parallel-item::after {\n",
       "  content: \"\";\n",
       "  width: 100%;\n",
       "  border-bottom: 2px solid var(--sklearn-color-text-on-default-background);\n",
       "  flex-grow: 1;\n",
       "}\n",
       "\n",
       "#sk-container-id-3 div.sk-parallel {\n",
       "  display: flex;\n",
       "  align-items: stretch;\n",
       "  justify-content: center;\n",
       "  background-color: var(--sklearn-color-background);\n",
       "  position: relative;\n",
       "}\n",
       "\n",
       "#sk-container-id-3 div.sk-parallel-item {\n",
       "  display: flex;\n",
       "  flex-direction: column;\n",
       "}\n",
       "\n",
       "#sk-container-id-3 div.sk-parallel-item:first-child::after {\n",
       "  align-self: flex-end;\n",
       "  width: 50%;\n",
       "}\n",
       "\n",
       "#sk-container-id-3 div.sk-parallel-item:last-child::after {\n",
       "  align-self: flex-start;\n",
       "  width: 50%;\n",
       "}\n",
       "\n",
       "#sk-container-id-3 div.sk-parallel-item:only-child::after {\n",
       "  width: 0;\n",
       "}\n",
       "\n",
       "/* Serial-specific style estimator block */\n",
       "\n",
       "#sk-container-id-3 div.sk-serial {\n",
       "  display: flex;\n",
       "  flex-direction: column;\n",
       "  align-items: center;\n",
       "  background-color: var(--sklearn-color-background);\n",
       "  padding-right: 1em;\n",
       "  padding-left: 1em;\n",
       "}\n",
       "\n",
       "\n",
       "/* Toggleable style: style used for estimator/Pipeline/ColumnTransformer box that is\n",
       "clickable and can be expanded/collapsed.\n",
       "- Pipeline and ColumnTransformer use this feature and define the default style\n",
       "- Estimators will overwrite some part of the style using the `sk-estimator` class\n",
       "*/\n",
       "\n",
       "/* Pipeline and ColumnTransformer style (default) */\n",
       "\n",
       "#sk-container-id-3 div.sk-toggleable {\n",
       "  /* Default theme specific background. It is overwritten whether we have a\n",
       "  specific estimator or a Pipeline/ColumnTransformer */\n",
       "  background-color: var(--sklearn-color-background);\n",
       "}\n",
       "\n",
       "/* Toggleable label */\n",
       "#sk-container-id-3 label.sk-toggleable__label {\n",
       "  cursor: pointer;\n",
       "  display: flex;\n",
       "  width: 100%;\n",
       "  margin-bottom: 0;\n",
       "  padding: 0.5em;\n",
       "  box-sizing: border-box;\n",
       "  text-align: center;\n",
       "  align-items: start;\n",
       "  justify-content: space-between;\n",
       "  gap: 0.5em;\n",
       "}\n",
       "\n",
       "#sk-container-id-3 label.sk-toggleable__label .caption {\n",
       "  font-size: 0.6rem;\n",
       "  font-weight: lighter;\n",
       "  color: var(--sklearn-color-text-muted);\n",
       "}\n",
       "\n",
       "#sk-container-id-3 label.sk-toggleable__label-arrow:before {\n",
       "  /* Arrow on the left of the label */\n",
       "  content: \"▸\";\n",
       "  float: left;\n",
       "  margin-right: 0.25em;\n",
       "  color: var(--sklearn-color-icon);\n",
       "}\n",
       "\n",
       "#sk-container-id-3 label.sk-toggleable__label-arrow:hover:before {\n",
       "  color: var(--sklearn-color-text);\n",
       "}\n",
       "\n",
       "/* Toggleable content - dropdown */\n",
       "\n",
       "#sk-container-id-3 div.sk-toggleable__content {\n",
       "  max-height: 0;\n",
       "  max-width: 0;\n",
       "  overflow: hidden;\n",
       "  text-align: left;\n",
       "  /* unfitted */\n",
       "  background-color: var(--sklearn-color-unfitted-level-0);\n",
       "}\n",
       "\n",
       "#sk-container-id-3 div.sk-toggleable__content.fitted {\n",
       "  /* fitted */\n",
       "  background-color: var(--sklearn-color-fitted-level-0);\n",
       "}\n",
       "\n",
       "#sk-container-id-3 div.sk-toggleable__content pre {\n",
       "  margin: 0.2em;\n",
       "  border-radius: 0.25em;\n",
       "  color: var(--sklearn-color-text);\n",
       "  /* unfitted */\n",
       "  background-color: var(--sklearn-color-unfitted-level-0);\n",
       "}\n",
       "\n",
       "#sk-container-id-3 div.sk-toggleable__content.fitted pre {\n",
       "  /* unfitted */\n",
       "  background-color: var(--sklearn-color-fitted-level-0);\n",
       "}\n",
       "\n",
       "#sk-container-id-3 input.sk-toggleable__control:checked~div.sk-toggleable__content {\n",
       "  /* Expand drop-down */\n",
       "  max-height: 200px;\n",
       "  max-width: 100%;\n",
       "  overflow: auto;\n",
       "}\n",
       "\n",
       "#sk-container-id-3 input.sk-toggleable__control:checked~label.sk-toggleable__label-arrow:before {\n",
       "  content: \"▾\";\n",
       "}\n",
       "\n",
       "/* Pipeline/ColumnTransformer-specific style */\n",
       "\n",
       "#sk-container-id-3 div.sk-label input.sk-toggleable__control:checked~label.sk-toggleable__label {\n",
       "  color: var(--sklearn-color-text);\n",
       "  background-color: var(--sklearn-color-unfitted-level-2);\n",
       "}\n",
       "\n",
       "#sk-container-id-3 div.sk-label.fitted input.sk-toggleable__control:checked~label.sk-toggleable__label {\n",
       "  background-color: var(--sklearn-color-fitted-level-2);\n",
       "}\n",
       "\n",
       "/* Estimator-specific style */\n",
       "\n",
       "/* Colorize estimator box */\n",
       "#sk-container-id-3 div.sk-estimator input.sk-toggleable__control:checked~label.sk-toggleable__label {\n",
       "  /* unfitted */\n",
       "  background-color: var(--sklearn-color-unfitted-level-2);\n",
       "}\n",
       "\n",
       "#sk-container-id-3 div.sk-estimator.fitted input.sk-toggleable__control:checked~label.sk-toggleable__label {\n",
       "  /* fitted */\n",
       "  background-color: var(--sklearn-color-fitted-level-2);\n",
       "}\n",
       "\n",
       "#sk-container-id-3 div.sk-label label.sk-toggleable__label,\n",
       "#sk-container-id-3 div.sk-label label {\n",
       "  /* The background is the default theme color */\n",
       "  color: var(--sklearn-color-text-on-default-background);\n",
       "}\n",
       "\n",
       "/* On hover, darken the color of the background */\n",
       "#sk-container-id-3 div.sk-label:hover label.sk-toggleable__label {\n",
       "  color: var(--sklearn-color-text);\n",
       "  background-color: var(--sklearn-color-unfitted-level-2);\n",
       "}\n",
       "\n",
       "/* Label box, darken color on hover, fitted */\n",
       "#sk-container-id-3 div.sk-label.fitted:hover label.sk-toggleable__label.fitted {\n",
       "  color: var(--sklearn-color-text);\n",
       "  background-color: var(--sklearn-color-fitted-level-2);\n",
       "}\n",
       "\n",
       "/* Estimator label */\n",
       "\n",
       "#sk-container-id-3 div.sk-label label {\n",
       "  font-family: monospace;\n",
       "  font-weight: bold;\n",
       "  display: inline-block;\n",
       "  line-height: 1.2em;\n",
       "}\n",
       "\n",
       "#sk-container-id-3 div.sk-label-container {\n",
       "  text-align: center;\n",
       "}\n",
       "\n",
       "/* Estimator-specific */\n",
       "#sk-container-id-3 div.sk-estimator {\n",
       "  font-family: monospace;\n",
       "  border: 1px dotted var(--sklearn-color-border-box);\n",
       "  border-radius: 0.25em;\n",
       "  box-sizing: border-box;\n",
       "  margin-bottom: 0.5em;\n",
       "  /* unfitted */\n",
       "  background-color: var(--sklearn-color-unfitted-level-0);\n",
       "}\n",
       "\n",
       "#sk-container-id-3 div.sk-estimator.fitted {\n",
       "  /* fitted */\n",
       "  background-color: var(--sklearn-color-fitted-level-0);\n",
       "}\n",
       "\n",
       "/* on hover */\n",
       "#sk-container-id-3 div.sk-estimator:hover {\n",
       "  /* unfitted */\n",
       "  background-color: var(--sklearn-color-unfitted-level-2);\n",
       "}\n",
       "\n",
       "#sk-container-id-3 div.sk-estimator.fitted:hover {\n",
       "  /* fitted */\n",
       "  background-color: var(--sklearn-color-fitted-level-2);\n",
       "}\n",
       "\n",
       "/* Specification for estimator info (e.g. \"i\" and \"?\") */\n",
       "\n",
       "/* Common style for \"i\" and \"?\" */\n",
       "\n",
       ".sk-estimator-doc-link,\n",
       "a:link.sk-estimator-doc-link,\n",
       "a:visited.sk-estimator-doc-link {\n",
       "  float: right;\n",
       "  font-size: smaller;\n",
       "  line-height: 1em;\n",
       "  font-family: monospace;\n",
       "  background-color: var(--sklearn-color-background);\n",
       "  border-radius: 1em;\n",
       "  height: 1em;\n",
       "  width: 1em;\n",
       "  text-decoration: none !important;\n",
       "  margin-left: 0.5em;\n",
       "  text-align: center;\n",
       "  /* unfitted */\n",
       "  border: var(--sklearn-color-unfitted-level-1) 1pt solid;\n",
       "  color: var(--sklearn-color-unfitted-level-1);\n",
       "}\n",
       "\n",
       ".sk-estimator-doc-link.fitted,\n",
       "a:link.sk-estimator-doc-link.fitted,\n",
       "a:visited.sk-estimator-doc-link.fitted {\n",
       "  /* fitted */\n",
       "  border: var(--sklearn-color-fitted-level-1) 1pt solid;\n",
       "  color: var(--sklearn-color-fitted-level-1);\n",
       "}\n",
       "\n",
       "/* On hover */\n",
       "div.sk-estimator:hover .sk-estimator-doc-link:hover,\n",
       ".sk-estimator-doc-link:hover,\n",
       "div.sk-label-container:hover .sk-estimator-doc-link:hover,\n",
       ".sk-estimator-doc-link:hover {\n",
       "  /* unfitted */\n",
       "  background-color: var(--sklearn-color-unfitted-level-3);\n",
       "  color: var(--sklearn-color-background);\n",
       "  text-decoration: none;\n",
       "}\n",
       "\n",
       "div.sk-estimator.fitted:hover .sk-estimator-doc-link.fitted:hover,\n",
       ".sk-estimator-doc-link.fitted:hover,\n",
       "div.sk-label-container:hover .sk-estimator-doc-link.fitted:hover,\n",
       ".sk-estimator-doc-link.fitted:hover {\n",
       "  /* fitted */\n",
       "  background-color: var(--sklearn-color-fitted-level-3);\n",
       "  color: var(--sklearn-color-background);\n",
       "  text-decoration: none;\n",
       "}\n",
       "\n",
       "/* Span, style for the box shown on hovering the info icon */\n",
       ".sk-estimator-doc-link span {\n",
       "  display: none;\n",
       "  z-index: 9999;\n",
       "  position: relative;\n",
       "  font-weight: normal;\n",
       "  right: .2ex;\n",
       "  padding: .5ex;\n",
       "  margin: .5ex;\n",
       "  width: min-content;\n",
       "  min-width: 20ex;\n",
       "  max-width: 50ex;\n",
       "  color: var(--sklearn-color-text);\n",
       "  box-shadow: 2pt 2pt 4pt #999;\n",
       "  /* unfitted */\n",
       "  background: var(--sklearn-color-unfitted-level-0);\n",
       "  border: .5pt solid var(--sklearn-color-unfitted-level-3);\n",
       "}\n",
       "\n",
       ".sk-estimator-doc-link.fitted span {\n",
       "  /* fitted */\n",
       "  background: var(--sklearn-color-fitted-level-0);\n",
       "  border: var(--sklearn-color-fitted-level-3);\n",
       "}\n",
       "\n",
       ".sk-estimator-doc-link:hover span {\n",
       "  display: block;\n",
       "}\n",
       "\n",
       "/* \"?\"-specific style due to the `<a>` HTML tag */\n",
       "\n",
       "#sk-container-id-3 a.estimator_doc_link {\n",
       "  float: right;\n",
       "  font-size: 1rem;\n",
       "  line-height: 1em;\n",
       "  font-family: monospace;\n",
       "  background-color: var(--sklearn-color-background);\n",
       "  border-radius: 1rem;\n",
       "  height: 1rem;\n",
       "  width: 1rem;\n",
       "  text-decoration: none;\n",
       "  /* unfitted */\n",
       "  color: var(--sklearn-color-unfitted-level-1);\n",
       "  border: var(--sklearn-color-unfitted-level-1) 1pt solid;\n",
       "}\n",
       "\n",
       "#sk-container-id-3 a.estimator_doc_link.fitted {\n",
       "  /* fitted */\n",
       "  border: var(--sklearn-color-fitted-level-1) 1pt solid;\n",
       "  color: var(--sklearn-color-fitted-level-1);\n",
       "}\n",
       "\n",
       "/* On hover */\n",
       "#sk-container-id-3 a.estimator_doc_link:hover {\n",
       "  /* unfitted */\n",
       "  background-color: var(--sklearn-color-unfitted-level-3);\n",
       "  color: var(--sklearn-color-background);\n",
       "  text-decoration: none;\n",
       "}\n",
       "\n",
       "#sk-container-id-3 a.estimator_doc_link.fitted:hover {\n",
       "  /* fitted */\n",
       "  background-color: var(--sklearn-color-fitted-level-3);\n",
       "}\n",
       "</style><div id=\"sk-container-id-3\" class=\"sk-top-container\"><div class=\"sk-text-repr-fallback\"><pre>VotingRegressor(estimators=[(&#x27;ada&#x27;,\n",
       "                             AdaBoostRegressor(estimator=RandomForestRegressor(n_estimators=50,\n",
       "                                                                               n_jobs=-1,\n",
       "                                                                               random_state=42,\n",
       "                                                                               verbose=1),\n",
       "                                               learning_rate=0.001,\n",
       "                                               n_estimators=4,\n",
       "                                               random_state=42)),\n",
       "                            (&#x27;rf&#x27;,\n",
       "                             RandomForestRegressor(n_estimators=50, n_jobs=-1,\n",
       "                                                   random_state=42,\n",
       "                                                   verbose=1)),\n",
       "                            (&#x27;xgboost&#x27;,\n",
       "                             XGBRegressor(base_score=None, booster=None,\n",
       "                                          callbacks=None,\n",
       "                                          colsample...\n",
       "                                          feature_weights=None, gamma=None,\n",
       "                                          grow_policy=None,\n",
       "                                          importance_type=None,\n",
       "                                          interaction_constraints=None,\n",
       "                                          learning_rate=None, max_bin=None,\n",
       "                                          max_cat_threshold=None,\n",
       "                                          max_cat_to_onehot=None,\n",
       "                                          max_delta_step=None, max_depth=None,\n",
       "                                          max_leaves=None,\n",
       "                                          min_child_weight=None, missing=nan,\n",
       "                                          monotone_constraints=None,\n",
       "                                          multi_strategy=None,\n",
       "                                          n_estimators=None, n_jobs=None,\n",
       "                                          num_parallel_tree=None, ...))],\n",
       "                n_jobs=-1)</pre><b>In a Jupyter environment, please rerun this cell to show the HTML representation or trust the notebook. <br />On GitHub, the HTML representation is unable to render, please try loading this page with nbviewer.org.</b></div><div class=\"sk-container\" hidden><div class=\"sk-item sk-dashed-wrapped\"><div class=\"sk-label-container\"><div class=\"sk-label fitted sk-toggleable\"><input class=\"sk-toggleable__control sk-hidden--visually\" id=\"sk-estimator-id-12\" type=\"checkbox\" ><label for=\"sk-estimator-id-12\" class=\"sk-toggleable__label fitted sk-toggleable__label-arrow\"><div><div>VotingRegressor</div></div><div><a class=\"sk-estimator-doc-link fitted\" rel=\"noreferrer\" target=\"_blank\" href=\"https://scikit-learn.org/1.6/modules/generated/sklearn.ensemble.VotingRegressor.html\">?<span>Documentation for VotingRegressor</span></a><span class=\"sk-estimator-doc-link fitted\">i<span>Fitted</span></span></div></label><div class=\"sk-toggleable__content fitted\"><pre>VotingRegressor(estimators=[(&#x27;ada&#x27;,\n",
       "                             AdaBoostRegressor(estimator=RandomForestRegressor(n_estimators=50,\n",
       "                                                                               n_jobs=-1,\n",
       "                                                                               random_state=42,\n",
       "                                                                               verbose=1),\n",
       "                                               learning_rate=0.001,\n",
       "                                               n_estimators=4,\n",
       "                                               random_state=42)),\n",
       "                            (&#x27;rf&#x27;,\n",
       "                             RandomForestRegressor(n_estimators=50, n_jobs=-1,\n",
       "                                                   random_state=42,\n",
       "                                                   verbose=1)),\n",
       "                            (&#x27;xgboost&#x27;,\n",
       "                             XGBRegressor(base_score=None, booster=None,\n",
       "                                          callbacks=None,\n",
       "                                          colsample...\n",
       "                                          feature_weights=None, gamma=None,\n",
       "                                          grow_policy=None,\n",
       "                                          importance_type=None,\n",
       "                                          interaction_constraints=None,\n",
       "                                          learning_rate=None, max_bin=None,\n",
       "                                          max_cat_threshold=None,\n",
       "                                          max_cat_to_onehot=None,\n",
       "                                          max_delta_step=None, max_depth=None,\n",
       "                                          max_leaves=None,\n",
       "                                          min_child_weight=None, missing=nan,\n",
       "                                          monotone_constraints=None,\n",
       "                                          multi_strategy=None,\n",
       "                                          n_estimators=None, n_jobs=None,\n",
       "                                          num_parallel_tree=None, ...))],\n",
       "                n_jobs=-1)</pre></div> </div></div><div class=\"sk-parallel\"><div class=\"sk-parallel-item\"><div class=\"sk-item\"><div class=\"sk-label-container\"><div class=\"sk-label fitted sk-toggleable\"><label>ada</label></div></div><div class=\"sk-serial\"><div class=\"sk-item sk-dashed-wrapped\"><div class=\"sk-parallel\"><div class=\"sk-parallel-item\"><div class=\"sk-item\"><div class=\"sk-label-container\"><div class=\"sk-label fitted sk-toggleable\"><input class=\"sk-toggleable__control sk-hidden--visually\" id=\"sk-estimator-id-13\" type=\"checkbox\" ><label for=\"sk-estimator-id-13\" class=\"sk-toggleable__label fitted sk-toggleable__label-arrow\"><div><div>estimator: RandomForestRegressor</div></div></label><div class=\"sk-toggleable__content fitted\"><pre>RandomForestRegressor(n_estimators=50, n_jobs=-1, random_state=42, verbose=1)</pre></div> </div></div><div class=\"sk-serial\"><div class=\"sk-item\"><div class=\"sk-estimator fitted sk-toggleable\"><input class=\"sk-toggleable__control sk-hidden--visually\" id=\"sk-estimator-id-14\" type=\"checkbox\" ><label for=\"sk-estimator-id-14\" class=\"sk-toggleable__label fitted sk-toggleable__label-arrow\"><div><div>RandomForestRegressor</div></div><div><a class=\"sk-estimator-doc-link fitted\" rel=\"noreferrer\" target=\"_blank\" href=\"https://scikit-learn.org/1.6/modules/generated/sklearn.ensemble.RandomForestRegressor.html\">?<span>Documentation for RandomForestRegressor</span></a></div></label><div class=\"sk-toggleable__content fitted\"><pre>RandomForestRegressor(n_estimators=50, n_jobs=-1, random_state=42, verbose=1)</pre></div> </div></div></div></div></div></div></div></div></div></div><div class=\"sk-parallel-item\"><div class=\"sk-item\"><div class=\"sk-label-container\"><div class=\"sk-label fitted sk-toggleable\"><label>rf</label></div></div><div class=\"sk-serial\"><div class=\"sk-item\"><div class=\"sk-estimator fitted sk-toggleable\"><input class=\"sk-toggleable__control sk-hidden--visually\" id=\"sk-estimator-id-15\" type=\"checkbox\" ><label for=\"sk-estimator-id-15\" class=\"sk-toggleable__label fitted sk-toggleable__label-arrow\"><div><div>RandomForestRegressor</div></div><div><a class=\"sk-estimator-doc-link fitted\" rel=\"noreferrer\" target=\"_blank\" href=\"https://scikit-learn.org/1.6/modules/generated/sklearn.ensemble.RandomForestRegressor.html\">?<span>Documentation for RandomForestRegressor</span></a></div></label><div class=\"sk-toggleable__content fitted\"><pre>RandomForestRegressor(n_estimators=50, n_jobs=-1, random_state=42, verbose=1)</pre></div> </div></div></div></div></div><div class=\"sk-parallel-item\"><div class=\"sk-item\"><div class=\"sk-label-container\"><div class=\"sk-label fitted sk-toggleable\"><label>xgboost</label></div></div><div class=\"sk-serial\"><div class=\"sk-item\"><div class=\"sk-estimator fitted sk-toggleable\"><input class=\"sk-toggleable__control sk-hidden--visually\" id=\"sk-estimator-id-16\" type=\"checkbox\" ><label for=\"sk-estimator-id-16\" class=\"sk-toggleable__label fitted sk-toggleable__label-arrow\"><div><div>XGBRegressor</div></div><div><a class=\"sk-estimator-doc-link fitted\" rel=\"noreferrer\" target=\"_blank\" href=\"https://xgboost.readthedocs.io/en/release_3.0.0/python/python_api.html#xgboost.XGBRegressor\">?<span>Documentation for XGBRegressor</span></a></div></label><div class=\"sk-toggleable__content fitted\"><pre>XGBRegressor(base_score=None, booster=None, callbacks=None,\n",
       "             colsample_bylevel=None, colsample_bynode=None,\n",
       "             colsample_bytree=None, device=None, early_stopping_rounds=None,\n",
       "             enable_categorical=False,\n",
       "             eval_metric=&lt;function mean_absolute_error at 0x0000013F5DCECD60&gt;,\n",
       "             feature_types=None, feature_weights=None, gamma=None,\n",
       "             grow_policy=None, importance_type=None,\n",
       "             interaction_constraints=None, learning_rate=None, max_bin=None,\n",
       "             max_cat_threshold=None, max_cat_to_onehot=None,\n",
       "             max_delta_step=None, max_depth=None, max_leaves=None,\n",
       "             min_child_weight=None, missing=nan, monotone_constraints=None,\n",
       "             multi_strategy=None, n_estimators=None, n_jobs=None,\n",
       "             num_parallel_tree=None, ...)</pre></div> </div></div></div></div></div></div></div></div></div>"
      ],
      "text/plain": [
       "VotingRegressor(estimators=[('ada',\n",
       "                             AdaBoostRegressor(estimator=RandomForestRegressor(n_estimators=50,\n",
       "                                                                               n_jobs=-1,\n",
       "                                                                               random_state=42,\n",
       "                                                                               verbose=1),\n",
       "                                               learning_rate=0.001,\n",
       "                                               n_estimators=4,\n",
       "                                               random_state=42)),\n",
       "                            ('rf',\n",
       "                             RandomForestRegressor(n_estimators=50, n_jobs=-1,\n",
       "                                                   random_state=42,\n",
       "                                                   verbose=1)),\n",
       "                            ('xgboost',\n",
       "                             XGBRegressor(base_score=None, booster=None,\n",
       "                                          callbacks=None,\n",
       "                                          colsample...\n",
       "                                          feature_weights=None, gamma=None,\n",
       "                                          grow_policy=None,\n",
       "                                          importance_type=None,\n",
       "                                          interaction_constraints=None,\n",
       "                                          learning_rate=None, max_bin=None,\n",
       "                                          max_cat_threshold=None,\n",
       "                                          max_cat_to_onehot=None,\n",
       "                                          max_delta_step=None, max_depth=None,\n",
       "                                          max_leaves=None,\n",
       "                                          min_child_weight=None, missing=nan,\n",
       "                                          monotone_constraints=None,\n",
       "                                          multi_strategy=None,\n",
       "                                          n_estimators=None, n_jobs=None,\n",
       "                                          num_parallel_tree=None, ...))],\n",
       "                n_jobs=-1)"
      ]
     },
     "execution_count": 47,
     "metadata": {},
     "output_type": "execute_result"
    }
   ],
   "source": [
    "from sklearn.ensemble import VotingRegressor\n",
    "\n",
    "xgboost = XGBRegressor(\n",
    "    tree_method=\"hist\",\n",
    "    eval_metric=mean_absolute_error,\n",
    ")\n",
    "\n",
    "ada = AdaBoostRegressor(random_state=42, learning_rate=0.001, n_estimators=4, \n",
    "                          estimator=RandomForestRegressor(n_estimators=50, random_state=42, verbose=1, n_jobs=-1))\n",
    "\n",
    "rf = RandomForestRegressor(n_estimators=50, random_state=42, verbose=1, n_jobs=-1)\n",
    "\n",
    "er = VotingRegressor([('ada', ada), ('rf', rf), ('xgboost', xgboost)], n_jobs=-1)\n",
    "\n",
    "er.fit(X_train, y_train)"
   ]
  },
  {
   "cell_type": "code",
   "execution_count": 48,
   "metadata": {},
   "outputs": [
    {
     "name": "stderr",
     "output_type": "stream",
     "text": [
      "[Parallel(n_jobs=16)]: Using backend ThreadingBackend with 16 concurrent workers.\n",
      "[Parallel(n_jobs=16)]: Done  18 tasks      | elapsed:    0.2s\n",
      "[Parallel(n_jobs=16)]: Done  50 out of  50 | elapsed:    0.5s finished\n",
      "[Parallel(n_jobs=16)]: Using backend ThreadingBackend with 16 concurrent workers.\n",
      "[Parallel(n_jobs=16)]: Done  18 tasks      | elapsed:    0.2s\n",
      "[Parallel(n_jobs=16)]: Done  50 out of  50 | elapsed:    0.4s finished\n",
      "[Parallel(n_jobs=16)]: Using backend ThreadingBackend with 16 concurrent workers.\n",
      "[Parallel(n_jobs=16)]: Done  18 tasks      | elapsed:    0.2s\n",
      "[Parallel(n_jobs=16)]: Done  50 out of  50 | elapsed:    0.5s finished\n",
      "[Parallel(n_jobs=16)]: Using backend ThreadingBackend with 16 concurrent workers.\n",
      "[Parallel(n_jobs=16)]: Done  18 tasks      | elapsed:    0.2s\n",
      "[Parallel(n_jobs=16)]: Done  50 out of  50 | elapsed:    0.4s finished\n",
      "[Parallel(n_jobs=16)]: Using backend ThreadingBackend with 16 concurrent workers.\n",
      "[Parallel(n_jobs=16)]: Done  18 tasks      | elapsed:    0.2s\n"
     ]
    },
    {
     "name": "stdout",
     "output_type": "stream",
     "text": [
      "MAE: 0.5514425473709493\n"
     ]
    },
    {
     "name": "stderr",
     "output_type": "stream",
     "text": [
      "[Parallel(n_jobs=16)]: Done  50 out of  50 | elapsed:    0.5s finished\n"
     ]
    }
   ],
   "source": [
    "y_pred = er.predict(X_test)\n",
    "mae = mean_absolute_error(y_test, y_pred)\n",
    "print(f\"MAE: {mae}\")"
   ]
  },
  {
   "cell_type": "markdown",
   "metadata": {},
   "source": [
    "## NeuralNetwork (baseline)"
   ]
  },
  {
   "cell_type": "code",
   "execution_count": null,
   "metadata": {},
   "outputs": [
    {
     "name": "stdout",
     "output_type": "stream",
     "text": [
      "WARNING:tensorflow:From d:\\github\\RECSYS\\.venv\\Lib\\site-packages\\keras\\src\\backend.py:873: The name tf.get_default_graph is deprecated. Please use tf.compat.v1.get_default_graph instead.\n",
      "\n",
      "Model: \"sequential\"\n",
      "_________________________________________________________________\n",
      " Layer (type)                Output Shape              Param #   \n",
      "=================================================================\n",
      " dense (Dense)               (None, 184)               150512    \n",
      "                                                                 \n",
      " dropout (Dropout)           (None, 184)               0         \n",
      "                                                                 \n",
      " dense_1 (Dense)             (None, 78)                14430     \n",
      "                                                                 \n",
      " dropout_1 (Dropout)         (None, 78)                0         \n",
      "                                                                 \n",
      " dense_2 (Dense)             (None, 32)                2528      \n",
      "                                                                 \n",
      " dense_3 (Dense)             (None, 1)                 33        \n",
      "                                                                 \n",
      "=================================================================\n",
      "Total params: 167503 (654.31 KB)\n",
      "Trainable params: 167503 (654.31 KB)\n",
      "Non-trainable params: 0 (0.00 Byte)\n",
      "_________________________________________________________________\n"
     ]
    }
   ],
   "source": [
    "from tensorflow.keras.models import Sequential\n",
    "from tensorflow.keras.layers import Dense, Dropout\n",
    "from tensorflow.keras.optimizers import Adam\n",
    "\n",
    "tf.random.set_seed(42)\n",
    "\n",
    "# [I 2025-04-16 16:53:27,772] Trial 1 finished with value: 0.40228334069252014 and parameters: {'n_units1': 184, 'dropout1': 0.3787372836263776, 'n_units2': 78, \n",
    "# 'dropout2': 0.14736679626439325, 'learning_rate': 0.00034032526493336896, 'batch_size': 16}. Best is trial 1 with value: 0.40228334069252014.\n",
    "\n",
    "\n",
    "# Definir la arquitectura del modelo\n",
    "input_dim = X_train.shape[1]  # 199 características\n",
    "model = Sequential()\n",
    "model.add(Dense(184, input_dim=input_dim, activation='relu'))\n",
    "model.add(Dropout(0.3787372836263776))\n",
    "model.add(Dense(78, activation='relu'))\n",
    "model.add(Dropout(0.14736679626439325))\n",
    "model.add(Dense(32, activation='relu'))\n",
    "model.add(Dense(1, activation='linear'))  # Capa de salida para regresión\n",
    "\n",
    "# Compilar el modelo con Adam y error cuadrático medio\n",
    "model.compile(optimizer=Adam(learning_rate=0.00034032526493336896),\n",
    "              loss='mean_squared_error',\n",
    "              metrics=['mae'])\n",
    "\n",
    "model.summary()"
   ]
  },
  {
   "cell_type": "code",
   "execution_count": null,
   "metadata": {},
   "outputs": [
    {
     "name": "stdout",
     "output_type": "stream",
     "text": [
      "Epoch 1/10\n",
      "WARNING:tensorflow:From d:\\github\\RECSYS\\.venv\\Lib\\site-packages\\keras\\src\\utils\\tf_utils.py:492: The name tf.ragged.RaggedTensorValue is deprecated. Please use tf.compat.v1.ragged.RaggedTensorValue instead.\n",
      "\n",
      "WARNING:tensorflow:From d:\\github\\RECSYS\\.venv\\Lib\\site-packages\\keras\\src\\engine\\base_layer_utils.py:384: The name tf.executing_eagerly_outside_functions is deprecated. Please use tf.compat.v1.executing_eagerly_outside_functions instead.\n",
      "\n",
      "48390/48390 [==============================] - 109s 2ms/step - loss: 0.4629 - mae: 0.4860 - val_loss: 0.3445 - val_mae: 0.4024\n",
      "Epoch 2/10\n",
      "48390/48390 [==============================] - 105s 2ms/step - loss: 0.3598 - mae: 0.4203 - val_loss: 0.3350 - val_mae: 0.3914\n",
      "Epoch 3/10\n",
      "48390/48390 [==============================] - 107s 2ms/step - loss: 0.3462 - mae: 0.4106 - val_loss: 0.3249 - val_mae: 0.3869\n",
      "Epoch 4/10\n",
      "48390/48390 [==============================] - 106s 2ms/step - loss: 0.3379 - mae: 0.4054 - val_loss: 0.3178 - val_mae: 0.3878\n",
      "Epoch 5/10\n",
      "48390/48390 [==============================] - 106s 2ms/step - loss: 0.3320 - mae: 0.4006 - val_loss: 0.3153 - val_mae: 0.3849\n",
      "Epoch 6/10\n",
      "48390/48390 [==============================] - 106s 2ms/step - loss: 0.3273 - mae: 0.3969 - val_loss: 0.3182 - val_mae: 0.3876\n",
      "Epoch 7/10\n",
      "48390/48390 [==============================] - 106s 2ms/step - loss: 0.3225 - mae: 0.3936 - val_loss: 0.3097 - val_mae: 0.3778\n",
      "Epoch 8/10\n",
      "48390/48390 [==============================] - 107s 2ms/step - loss: 0.3192 - mae: 0.3918 - val_loss: 0.3114 - val_mae: 0.3779\n",
      "Epoch 9/10\n",
      "48390/48390 [==============================] - 129s 3ms/step - loss: 0.3161 - mae: 0.3896 - val_loss: 0.3120 - val_mae: 0.3889\n",
      "Epoch 10/10\n",
      "48390/48390 [==============================] - 116s 2ms/step - loss: 0.3133 - mae: 0.3883 - val_loss: 0.3073 - val_mae: 0.3940\n",
      "6049/6049 [==============================] - 6s 1ms/step - loss: 0.3073 - mae: 0.3940\n",
      "Test Loss: 0.3073485195636749\n",
      "Test MAE: 0.39396780729293823\n"
     ]
    }
   ],
   "source": [
    "history = model.fit(X_train, y_train, \n",
    "                    validation_data=(X_test, y_test),\n",
    "                    epochs=10, \n",
    "                    batch_size=16)\n",
    "\n",
    "# Evaluar el modelo en el conjunto de test\n",
    "loss, mae = model.evaluate(X_test, y_test)\n",
    "print(\"Test Loss:\", loss)\n",
    "print(\"Test MAE:\", mae)"
   ]
  },
  {
   "cell_type": "markdown",
   "metadata": {},
   "source": [
    "## Neural Network (2)"
   ]
  },
  {
   "cell_type": "code",
   "execution_count": null,
   "metadata": {},
   "outputs": [],
   "source": [
    "from tensorflow.keras.models import Model\n",
    "from tensorflow.keras.layers import (\n",
    "    Input, Dense, Dropout, BatchNormalization, LeakyReLU, Add\n",
    ")\n",
    "from tensorflow.keras.optimizers import Adam\n",
    "from tensorflow.keras.regularizers import l2\n",
    "from tensorflow.keras.callbacks import ReduceLROnPlateau, EarlyStopping\n",
    "\n",
    "input_dim = X_train.shape[1]\n",
    "\n",
    "# --- Bloque residual denso  ---\n",
    "def dense_res_block(x, units, l2_reg=1e-4, dropout_rate=0.2):\n",
    "    shortcut = x\n",
    "    x = Dense(units, kernel_regularizer=l2(l2_reg), use_bias=False)(x)\n",
    "    x = BatchNormalization()(x)\n",
    "    x = LeakyReLU()(x)\n",
    "    x = Dropout(dropout_rate)(x)\n",
    "    # Si cambia la dimensión, proyectamos shortcut\n",
    "    if shortcut.shape[-1] != units:\n",
    "        shortcut = Dense(units, kernel_regularizer=l2(l2_reg), use_bias=False)(shortcut)\n",
    "    x = Add()([x, shortcut])\n",
    "    return x\n",
    "\n",
    "# --- Definición del modelo ---\n",
    "inp = Input(shape=(input_dim,))\n",
    "x = BatchNormalization()(inp)\n",
    "\n",
    "# Primer bloque denso\n",
    "x = Dense(256, kernel_regularizer=l2(1e-4), use_bias=False)(x)\n",
    "x = BatchNormalization()(x)\n",
    "x = LeakyReLU()(x)\n",
    "x = Dropout(0.2)(x)\n",
    "\n",
    "# Dos bloques residuales\n",
    "x = dense_res_block(x, units=128, l2_reg=1e-4, dropout_rate=0.15)\n",
    "x = dense_res_block(x, units=64,  l2_reg=1e-4, dropout_rate=0.15)\n",
    "\n",
    "# Cabeza final\n",
    "x = Dense(32, kernel_regularizer=l2(1e-4))(x)\n",
    "x = LeakyReLU()(x)\n",
    "outputs = Dense(1, activation='linear')(x)\n",
    "\n",
    "model = Model(inp, outputs)\n",
    "model.compile(\n",
    "    optimizer=Adam(learning_rate=3e-4),\n",
    "    loss='mean_squared_error',\n",
    "    metrics=['mae']\n",
    ")\n",
    "\n",
    "model.summary()"
   ]
  },
  {
   "cell_type": "code",
   "execution_count": null,
   "metadata": {},
   "outputs": [],
   "source": [
    "# --- Callbacks para entrenamiento ---\n",
    "callbacks = [\n",
    "    ReduceLROnPlateau(monitor='val_mae', factor=0.5, patience=5, min_lr=1e-6),\n",
    "    EarlyStopping(monitor='val_mae', patience=10, restore_best_weights=True)\n",
    "]\n",
    "\n",
    "# --- Entrenamiento ---\n",
    "history = model.fit(\n",
    "    X_train, y_train,\n",
    "    validation_data=(X_test, y_test),\n",
    "    epochs=50,\n",
    "    batch_size=32,\n",
    "    callbacks=callbacks\n",
    ")"
   ]
  },
  {
   "cell_type": "markdown",
   "metadata": {},
   "source": [
    "## CNN"
   ]
  },
  {
   "cell_type": "code",
   "execution_count": 11,
   "metadata": {},
   "outputs": [
    {
     "name": "stdout",
     "output_type": "stream",
     "text": [
      "Model: \"sequential\"\n",
      "_________________________________________________________________\n",
      " Layer (type)                Output Shape              Param #   \n",
      "=================================================================\n",
      " reshape (Reshape)           (None, 817, 1)            0         \n",
      "                                                                 \n",
      " conv1d (Conv1D)             (None, 817, 64)           256       \n",
      "                                                                 \n",
      " dropout (Dropout)           (None, 817, 64)           0         \n",
      "                                                                 \n",
      " conv1d_1 (Conv1D)           (None, 817, 32)           6176      \n",
      "                                                                 \n",
      " dropout_1 (Dropout)         (None, 817, 32)           0         \n",
      "                                                                 \n",
      " global_max_pooling1d (Glob  (None, 32)                0         \n",
      " alMaxPooling1D)                                                 \n",
      "                                                                 \n",
      " dense (Dense)               (None, 32)                1056      \n",
      "                                                                 \n",
      " dropout_2 (Dropout)         (None, 32)                0         \n",
      "                                                                 \n",
      " dense_1 (Dense)             (None, 1)                 33        \n",
      "                                                                 \n",
      "=================================================================\n",
      "Total params: 7521 (29.38 KB)\n",
      "Trainable params: 7521 (29.38 KB)\n",
      "Non-trainable params: 0 (0.00 Byte)\n",
      "_________________________________________________________________\n"
     ]
    }
   ],
   "source": [
    "from tensorflow.keras.models import Sequential\n",
    "from tensorflow.keras.layers import Reshape, Conv1D, GlobalMaxPooling1D, Dense, Dropout\n",
    "from tensorflow.keras.optimizers import Adam\n",
    "import tensorflow as tf\n",
    "\n",
    "tf.random.set_seed(42)\n",
    "\n",
    "# Número de características\n",
    "input_dim = X_train.shape[1]  # 199\n",
    "\n",
    "model = Sequential([\n",
    "    # 1) reshape explícito: (batch, 199) → (batch, 199, 1)\n",
    "    Reshape((input_dim, 1), input_shape=(input_dim,)),\n",
    "    \n",
    "    # 2) capas Conv1D\n",
    "    Conv1D(filters=64, kernel_size=3, activation='relu', padding='same'),\n",
    "    Dropout(0.3),\n",
    "    Conv1D(filters=32, kernel_size=3, activation='relu', padding='same'),\n",
    "    Dropout(0.2),\n",
    "    \n",
    "    # 3) pooling global\n",
    "    GlobalMaxPooling1D(),\n",
    "    \n",
    "    # 4) densas finales para regresión\n",
    "    Dense(32, activation='relu'),\n",
    "    Dropout(0.1),\n",
    "    Dense(1, activation='linear'),\n",
    "])\n",
    "\n",
    "model.compile(\n",
    "    optimizer=Adam(learning_rate=0.00034),\n",
    "    loss='mean_squared_error',\n",
    "    metrics=['mae']\n",
    ")\n",
    "\n",
    "model.summary()"
   ]
  },
  {
   "cell_type": "code",
   "execution_count": null,
   "metadata": {},
   "outputs": [],
   "source": [
    "history = model.fit(X_train, y_train, \n",
    "                    validation_data=(X_test, y_test),\n",
    "                    epochs=10, \n",
    "                    batch_size=16)\n",
    "\n",
    "# Evaluar el modelo en el conjunto de test\n",
    "loss, mae = model.evaluate(X_test, y_test)\n",
    "print(\"Test Loss:\", loss)\n",
    "print(\"Test MAE:\", mae)"
   ]
  },
  {
   "cell_type": "markdown",
   "metadata": {},
   "source": [
    "## Merlin Models"
   ]
  },
  {
   "cell_type": "code",
   "execution_count": 24,
   "metadata": {},
   "outputs": [
    {
     "name": "stdout",
     "output_type": "stream",
     "text": [
      "Collecting merlin-models\n",
      "  Downloading merlin-models-23.12.0.tar.gz (485 kB)\n",
      "  Installing build dependencies ... \u001b[?25ldone\n",
      "\u001b[?25h  Getting requirements to build wheel ... \u001b[?25ldone\n",
      "\u001b[?25h  Preparing metadata (pyproject.toml) ... \u001b[?25ldone\n",
      "\u001b[?25hCollecting merlin-core>=23.4.0 (from merlin-models)\n",
      "  Downloading merlin-core-23.8.0.tar.gz (142 kB)\n",
      "  Installing build dependencies ... \u001b[?25ldone\n",
      "\u001b[?25h  Getting requirements to build wheel ... \u001b[?25ldone\n",
      "\u001b[?25h  Preparing metadata (pyproject.toml) ... \u001b[?25ldone\n",
      "\u001b[?25hCollecting merlin-dataloader>=23.4.0 (from merlin-models)\n",
      "  Downloading merlin-dataloader-23.8.0.tar.gz (46 kB)\n",
      "  Installing build dependencies ... \u001b[?25ldone\n",
      "\u001b[?25h  Getting requirements to build wheel ... \u001b[?25ldone\n",
      "\u001b[?25h  Preparing metadata (pyproject.toml) ... \u001b[?25ldone\n",
      "\u001b[?25hCollecting dask>=2022.11.1 (from merlin-core>=23.4.0->merlin-models)\n",
      "  Downloading dask-2025.3.0-py3-none-any.whl.metadata (3.8 kB)\n",
      "Collecting dask-cuda>=22.12.0 (from merlin-core>=23.4.0->merlin-models)\n",
      "  Downloading dask_cuda-25.4.0-py3-none-any.whl.metadata (2.3 kB)\n",
      "Collecting distributed>=2022.11.1 (from merlin-core>=23.4.0->merlin-models)\n",
      "  Downloading distributed-2025.3.0-py3-none-any.whl.metadata (3.4 kB)\n",
      "Collecting fsspec>=2022.7.1 (from merlin-core>=23.4.0->merlin-models)\n",
      "  Downloading fsspec-2025.3.2-py3-none-any.whl.metadata (11 kB)\n",
      "Requirement already satisfied: numpy>=1.22.0 in /usr/local/lib/python3.11/dist-packages (from merlin-core>=23.4.0->merlin-models) (1.26.2)\n",
      "Collecting pandas<1.6.0dev0,>=1.2.0 (from merlin-core>=23.4.0->merlin-models)\n",
      "  Downloading pandas-1.5.3-cp311-cp311-manylinux_2_17_x86_64.manylinux2014_x86_64.whl.metadata (11 kB)\n",
      "Collecting numba>=0.54 (from merlin-core>=23.4.0->merlin-models)\n",
      "  Downloading numba-0.61.2-cp311-cp311-manylinux2014_x86_64.manylinux_2_17_x86_64.whl.metadata (2.8 kB)\n",
      "Collecting pyarrow>=5.0.0 (from merlin-core>=23.4.0->merlin-models)\n",
      "  Downloading pyarrow-19.0.1-cp311-cp311-manylinux_2_28_x86_64.whl.metadata (3.3 kB)\n",
      "Requirement already satisfied: protobuf>=3.0.0 in /usr/local/lib/python3.11/dist-packages (from merlin-core>=23.4.0->merlin-models) (4.23.4)\n",
      "Requirement already satisfied: tqdm>=4.0 in /usr/local/lib/python3.11/dist-packages (from merlin-core>=23.4.0->merlin-models) (4.67.1)\n",
      "Collecting tensorflow-metadata>=1.2.0 (from merlin-core>=23.4.0->merlin-models)\n",
      "  Downloading tensorflow_metadata-1.17.1-py3-none-any.whl.metadata (2.6 kB)\n",
      "Collecting betterproto<2.0.0 (from merlin-core>=23.4.0->merlin-models)\n",
      "  Downloading betterproto-1.2.5.tar.gz (26 kB)\n",
      "  Installing build dependencies ... \u001b[?25ldone\n",
      "\u001b[?25h  Getting requirements to build wheel ... \u001b[?25ldone\n",
      "\u001b[?25h  Preparing metadata (pyproject.toml) ... \u001b[?25ldone\n",
      "\u001b[?25hRequirement already satisfied: packaging in /usr/local/lib/python3.11/dist-packages (from merlin-core>=23.4.0->merlin-models) (23.2)\n",
      "Collecting npy-append-array (from merlin-core>=23.4.0->merlin-models)\n",
      "  Downloading npy_append_array-0.9.16-py3-none-any.whl.metadata (4.1 kB)\n",
      "Collecting pynvml<11.5,>=11.0.0 (from merlin-core>=23.4.0->merlin-models)\n",
      "  Downloading pynvml-11.4.1-py3-none-any.whl.metadata (7.7 kB)\n",
      "Collecting grpclib (from betterproto<2.0.0->merlin-core>=23.4.0->merlin-models)\n",
      "  Downloading grpclib-0.4.7.tar.gz (61 kB)\n",
      "  Installing build dependencies ... \u001b[?25ldone\n",
      "\u001b[?25h  Getting requirements to build wheel ... \u001b[?25ldone\n",
      "\u001b[?25h  Preparing metadata (pyproject.toml) ... \u001b[?25ldone\n",
      "\u001b[?25hCollecting stringcase (from betterproto<2.0.0->merlin-core>=23.4.0->merlin-models)\n",
      "  Downloading stringcase-1.2.0.tar.gz (3.0 kB)\n",
      "  Preparing metadata (setup.py) ... \u001b[?25ldone\n",
      "\u001b[?25hCollecting click>=8.1 (from dask>=2022.11.1->merlin-core>=23.4.0->merlin-models)\n",
      "  Downloading click-8.1.8-py3-none-any.whl.metadata (2.3 kB)\n",
      "Collecting cloudpickle>=3.0.0 (from dask>=2022.11.1->merlin-core>=23.4.0->merlin-models)\n",
      "  Downloading cloudpickle-3.1.1-py3-none-any.whl.metadata (7.1 kB)\n",
      "Collecting partd>=1.4.0 (from dask>=2022.11.1->merlin-core>=23.4.0->merlin-models)\n",
      "  Downloading partd-1.4.2-py3-none-any.whl.metadata (4.6 kB)\n",
      "Requirement already satisfied: pyyaml>=5.3.1 in /usr/local/lib/python3.11/dist-packages (from dask>=2022.11.1->merlin-core>=23.4.0->merlin-models) (6.0.2)\n",
      "Collecting toolz>=0.10.0 (from dask>=2022.11.1->merlin-core>=23.4.0->merlin-models)\n",
      "  Downloading toolz-1.0.0-py3-none-any.whl.metadata (5.1 kB)\n",
      "Collecting importlib_metadata>=4.13.0 (from dask>=2022.11.1->merlin-core>=23.4.0->merlin-models)\n",
      "  Downloading importlib_metadata-8.6.1-py3-none-any.whl.metadata (4.7 kB)\n",
      "Collecting numba>=0.54 (from merlin-core>=23.4.0->merlin-models)\n",
      "  Downloading numba-0.60.0-cp311-cp311-manylinux2014_x86_64.manylinux_2_17_x86_64.whl.metadata (2.7 kB)\n",
      "INFO: pip is looking at multiple versions of dask-cuda to determine which version is compatible with other requirements. This could take a while.\n",
      "Collecting dask-cuda>=22.12.0 (from merlin-core>=23.4.0->merlin-models)\n",
      "  Downloading dask_cuda-25.2.0-py3-none-any.whl.metadata (2.3 kB)\n",
      "  Downloading dask_cuda-24.12.0-py3-none-any.whl.metadata (2.6 kB)\n",
      "Collecting rapids-dask-dependency==24.12.* (from dask-cuda>=22.12.0->merlin-core>=23.4.0->merlin-models)\n",
      "  Downloading rapids_dask_dependency-24.12.0-py3-none-any.whl.metadata (3.7 kB)\n",
      "Collecting zict>=2.0.0 (from dask-cuda>=22.12.0->merlin-core>=23.4.0->merlin-models)\n",
      "  Downloading zict-3.0.0-py2.py3-none-any.whl.metadata (899 bytes)\n",
      "Collecting dask>=2022.11.1 (from merlin-core>=23.4.0->merlin-models)\n",
      "  Downloading dask-2024.11.2-py3-none-any.whl.metadata (3.7 kB)\n",
      "Collecting distributed>=2022.11.1 (from merlin-core>=23.4.0->merlin-models)\n",
      "  Downloading distributed-2024.11.2-py3-none-any.whl.metadata (3.3 kB)\n",
      "Collecting dask-expr==1.1.19 (from rapids-dask-dependency==24.12.*->dask-cuda>=22.12.0->merlin-core>=23.4.0->merlin-models)\n",
      "  Downloading dask_expr-1.1.19-py3-none-any.whl.metadata (2.6 kB)\n",
      "Requirement already satisfied: jinja2>=2.10.3 in /usr/local/lib/python3.11/dist-packages (from distributed>=2022.11.1->merlin-core>=23.4.0->merlin-models) (3.1.6)\n",
      "Collecting locket>=1.0.0 (from distributed>=2022.11.1->merlin-core>=23.4.0->merlin-models)\n",
      "  Downloading locket-1.0.0-py2.py3-none-any.whl.metadata (2.8 kB)\n",
      "Collecting msgpack>=1.0.2 (from distributed>=2022.11.1->merlin-core>=23.4.0->merlin-models)\n",
      "  Downloading msgpack-1.1.0-cp311-cp311-manylinux_2_17_x86_64.manylinux2014_x86_64.whl.metadata (8.4 kB)\n",
      "Requirement already satisfied: psutil>=5.8.0 in /usr/local/lib/python3.11/dist-packages (from distributed>=2022.11.1->merlin-core>=23.4.0->merlin-models) (7.0.0)\n",
      "Collecting sortedcontainers>=2.0.5 (from distributed>=2022.11.1->merlin-core>=23.4.0->merlin-models)\n",
      "  Downloading sortedcontainers-2.4.0-py2.py3-none-any.whl.metadata (10 kB)\n",
      "Collecting tblib>=1.6.0 (from distributed>=2022.11.1->merlin-core>=23.4.0->merlin-models)\n",
      "  Downloading tblib-3.1.0-py3-none-any.whl.metadata (25 kB)\n",
      "Requirement already satisfied: tornado>=6.2.0 in /usr/local/lib/python3.11/dist-packages (from distributed>=2022.11.1->merlin-core>=23.4.0->merlin-models) (6.4.2)\n",
      "Requirement already satisfied: urllib3>=1.26.5 in /usr/local/lib/python3.11/dist-packages (from distributed>=2022.11.1->merlin-core>=23.4.0->merlin-models) (2.1.0)\n",
      "INFO: pip is looking at multiple versions of dask-expr to determine which version is compatible with other requirements. This could take a while.\n",
      "Collecting dask-cuda>=22.12.0 (from merlin-core>=23.4.0->merlin-models)\n",
      "  Downloading dask_cuda-24.10.0-py3-none-any.whl.metadata (2.6 kB)\n",
      "Collecting rapids-dask-dependency==24.10.* (from dask-cuda>=22.12.0->merlin-core>=23.4.0->merlin-models)\n",
      "  Downloading rapids_dask_dependency-24.10.0-py3-none-any.whl.metadata (3.7 kB)\n",
      "Collecting dask>=2022.11.1 (from merlin-core>=23.4.0->merlin-models)\n",
      "  Downloading dask-2024.9.0-py3-none-any.whl.metadata (3.7 kB)\n",
      "Collecting distributed>=2022.11.1 (from merlin-core>=23.4.0->merlin-models)\n",
      "  Downloading distributed-2024.9.0-py3-none-any.whl.metadata (3.3 kB)\n",
      "Collecting dask-expr==1.1.14 (from rapids-dask-dependency==24.10.*->dask-cuda>=22.12.0->merlin-core>=23.4.0->merlin-models)\n",
      "  Downloading dask_expr-1.1.14-py3-none-any.whl.metadata (2.5 kB)\n",
      "Collecting dask-cuda>=22.12.0 (from merlin-core>=23.4.0->merlin-models)\n",
      "  Downloading dask_cuda-24.8.2-py3-none-any.whl.metadata (2.5 kB)\n",
      "Collecting rapids-dask-dependency==24.8.* (from dask-cuda>=22.12.0->merlin-core>=23.4.0->merlin-models)\n",
      "  Downloading rapids_dask_dependency-24.8.0-py3-none-any.whl.metadata (3.7 kB)\n",
      "Collecting dask>=2022.11.1 (from merlin-core>=23.4.0->merlin-models)\n",
      "  Downloading dask-2024.7.1-py3-none-any.whl.metadata (3.8 kB)\n",
      "Collecting distributed>=2022.11.1 (from merlin-core>=23.4.0->merlin-models)\n",
      "  Downloading distributed-2024.7.1-py3-none-any.whl.metadata (3.4 kB)\n",
      "Collecting dask-expr (from rapids-dask-dependency==24.8.*->dask-cuda>=22.12.0->merlin-core>=23.4.0->merlin-models)\n",
      "  Downloading dask_expr-2.0.0-py3-none-any.whl.metadata (2.3 kB)\n",
      "Requirement already satisfied: python-dateutil>=2.8.1 in /usr/local/lib/python3.11/dist-packages (from pandas<1.6.0dev0,>=1.2.0->merlin-core>=23.4.0->merlin-models) (2.9.0.post0)\n",
      "Requirement already satisfied: pytz>=2020.1 in /usr/local/lib/python3.11/dist-packages (from pandas<1.6.0dev0,>=1.2.0->merlin-core>=23.4.0->merlin-models) (2025.2)\n",
      "  Downloading dask_expr-1.1.21-py3-none-any.whl.metadata (2.6 kB)\n",
      "  Downloading dask_expr-1.1.20-py3-none-any.whl.metadata (2.6 kB)\n",
      "  Downloading dask_expr-1.1.18-py3-none-any.whl.metadata (2.6 kB)\n",
      "  Downloading dask_expr-1.1.16-py3-none-any.whl.metadata (2.5 kB)\n",
      "INFO: pip is still looking at multiple versions of dask-expr to determine which version is compatible with other requirements. This could take a while.\n",
      "  Downloading dask_expr-1.1.15-py3-none-any.whl.metadata (2.5 kB)\n",
      "  Downloading dask_expr-1.1.13-py3-none-any.whl.metadata (2.5 kB)\n",
      "  Downloading dask_expr-1.1.12-py3-none-any.whl.metadata (2.5 kB)\n",
      "  Downloading dask_expr-1.1.11-py3-none-any.whl.metadata (2.5 kB)\n",
      "INFO: This is taking longer than usual. You might need to provide the dependency resolver with stricter constraints to reduce runtime. See https://pip.pypa.io/warnings/backtracking for guidance. If you want to abort this run, press Ctrl + C.\n",
      "  Downloading dask_expr-1.1.10-py3-none-any.whl.metadata (2.5 kB)\n",
      "  Downloading dask_expr-1.1.9-py3-none-any.whl.metadata (2.5 kB)\n",
      "  Downloading dask_expr-1.1.8-py3-none-any.whl.metadata (2.5 kB)\n",
      "  Downloading dask_expr-1.1.7-py3-none-any.whl.metadata (2.5 kB)\n",
      "  Downloading dask_expr-1.1.6-py3-none-any.whl.metadata (2.5 kB)\n",
      "  Downloading dask_expr-1.1.5-py3-none-any.whl.metadata (2.5 kB)\n",
      "  Downloading dask_expr-1.1.4-py3-none-any.whl.metadata (2.5 kB)\n",
      "  Downloading dask_expr-1.1.3-py3-none-any.whl.metadata (2.4 kB)\n",
      "  Downloading dask_expr-1.1.2-py3-none-any.whl.metadata (2.4 kB)\n",
      "  Downloading dask_expr-1.1.1-py3-none-any.whl.metadata (2.4 kB)\n",
      "  Downloading dask_expr-1.1.0-py3-none-any.whl.metadata (2.4 kB)\n",
      "  Downloading dask_expr-1.0.14-py3-none-any.whl.metadata (2.4 kB)\n",
      "  Downloading dask_expr-1.0.13-py3-none-any.whl.metadata (2.4 kB)\n",
      "  Downloading dask_expr-1.0.12-py3-none-any.whl.metadata (2.4 kB)\n",
      "  Downloading dask_expr-1.0.11-py3-none-any.whl.metadata (2.4 kB)\n",
      "  Downloading dask_expr-1.0.10-py3-none-any.whl.metadata (2.4 kB)\n",
      "  Downloading dask_expr-1.0.9-py3-none-any.whl.metadata (2.4 kB)\n",
      "  Downloading dask_expr-1.0.7-py3-none-any.whl.metadata (2.4 kB)\n",
      "  Downloading dask_expr-1.0.6-py3-none-any.whl.metadata (2.4 kB)\n",
      "  Downloading dask_expr-1.0.5-py3-none-any.whl.metadata (2.4 kB)\n",
      "  Downloading dask_expr-1.0.4-py3-none-any.whl.metadata (2.4 kB)\n",
      "  Downloading dask_expr-1.0.3-py3-none-any.whl.metadata (2.4 kB)\n",
      "  Downloading dask_expr-1.0.2-py3-none-any.whl.metadata (2.4 kB)\n",
      "  Downloading dask_expr-1.0.1-py3-none-any.whl.metadata (2.4 kB)\n",
      "  Downloading dask_expr-1.0-py3-none-any.whl.metadata (2.4 kB)\n",
      "  Downloading dask_expr-0.5.3-py3-none-any.whl.metadata (2.5 kB)\n",
      "  Downloading dask_expr-0.5.2-py3-none-any.whl.metadata (2.5 kB)\n",
      "  Downloading dask_expr-0.5.1-py3-none-any.whl.metadata (2.5 kB)\n",
      "  Downloading dask_expr-0.4.2-py3-none-any.whl.metadata (2.5 kB)\n",
      "  Downloading dask_expr-0.4.1-py3-none-any.whl.metadata (2.5 kB)\n",
      "  Downloading dask_expr-0.4.0-py3-none-any.whl.metadata (2.5 kB)\n",
      "  Downloading dask_expr-0.3.5-py3-none-any.whl.metadata (6.3 kB)\n",
      "  Downloading dask_expr-0.3.4-py3-none-any.whl.metadata (6.3 kB)\n",
      "  Downloading dask_expr-0.3.3-py3-none-any.whl.metadata (6.3 kB)\n",
      "  Downloading dask_expr-0.3.2-py3-none-any.whl.metadata (6.3 kB)\n",
      "  Downloading dask_expr-0.3.1-py3-none-any.whl.metadata (6.3 kB)\n",
      "  Downloading dask_expr-0.3.0-py3-none-any.whl.metadata (6.3 kB)\n",
      "  Downloading dask_expr-0.2.9-py3-none-any.whl.metadata (6.2 kB)\n",
      "  Downloading dask_expr-0.2.8-py3-none-any.whl.metadata (5.8 kB)\n",
      "  Downloading dask_expr-0.2.7-py3-none-any.whl.metadata (5.6 kB)\n",
      "  Downloading dask_expr-0.2.6-py3-none-any.whl.metadata (5.5 kB)\n",
      "  Downloading dask_expr-0.2.5-py3-none-any.whl.metadata (5.5 kB)\n",
      "  Downloading dask_expr-0.2.4-py3-none-any.whl.metadata (5.4 kB)\n",
      "  Downloading dask_expr-0.2.3-py3-none-any.whl.metadata (5.3 kB)\n",
      "  Downloading dask_expr-0.2.2-py3-none-any.whl.metadata (5.1 kB)\n",
      "  Downloading dask_expr-0.2.1-py3-none-any.whl.metadata (4.9 kB)\n",
      "  Downloading dask_expr-0.2.0-py3-none-any.whl.metadata (4.9 kB)\n",
      "  Downloading dask_expr-0.1.12-py3-none-any.whl.metadata (4.9 kB)\n",
      "  Downloading dask_expr-0.1.11-py3-none-any.whl.metadata (4.7 kB)\n",
      "  Downloading dask_expr-0.1.10-py3-none-any.whl.metadata (4.7 kB)\n",
      "  Downloading dask_expr-0.1.9-py3-none-any.whl.metadata (4.7 kB)\n",
      "  Downloading dask_expr-0.1.8-py3-none-any.whl.metadata (4.7 kB)\n",
      "  Downloading dask_expr-0.1.7-py3-none-any.whl.metadata (4.7 kB)\n",
      "  Downloading dask_expr-0.1.6-py3-none-any.whl.metadata (4.7 kB)\n",
      "  Downloading dask_expr-0.1.5-py3-none-any.whl.metadata (4.6 kB)\n",
      "  Downloading dask_expr-0.1.4-py3-none-any.whl.metadata (4.6 kB)\n",
      "  Downloading dask_expr-0.1.3-py3-none-any.whl.metadata (4.6 kB)\n",
      "  Downloading dask_expr-0.1.2-py3-none-any.whl.metadata (4.6 kB)\n",
      "  Downloading dask_expr-0.1.1-py3-none-any.whl.metadata (4.5 kB)\n",
      "  Downloading dask_expr-0.1.0-py3-none-any.whl.metadata (2.0 kB)\n",
      "INFO: pip is still looking at multiple versions of dask-cuda to determine which version is compatible with other requirements. This could take a while.\n",
      "Collecting dask-cuda>=22.12.0 (from merlin-core>=23.4.0->merlin-models)\n",
      "  Downloading dask_cuda-24.6.0-py3-none-any.whl.metadata (2.6 kB)\n",
      "Collecting rapids-dask-dependency==24.6.* (from dask-cuda>=22.12.0->merlin-core>=23.4.0->merlin-models)\n",
      "  Downloading rapids_dask_dependency-24.6.0-py3-none-any.whl.metadata (3.7 kB)\n",
      "Collecting dask>=2022.11.1 (from merlin-core>=23.4.0->merlin-models)\n",
      "  Downloading dask-2024.5.1-py3-none-any.whl.metadata (3.8 kB)\n",
      "Collecting distributed>=2022.11.1 (from merlin-core>=23.4.0->merlin-models)\n",
      "  Downloading distributed-2024.5.1-py3-none-any.whl.metadata (3.4 kB)\n",
      "Collecting dask-cuda>=22.12.0 (from merlin-core>=23.4.0->merlin-models)\n",
      "  Downloading dask_cuda-24.4.0-py3-none-any.whl.metadata (2.6 kB)\n",
      "Collecting rapids-dask-dependency==24.4.* (from dask-cuda>=22.12.0->merlin-core>=23.4.0->merlin-models)\n",
      "  Downloading rapids_dask_dependency-24.4.1-py3-none-any.whl.metadata (3.7 kB)\n",
      "Collecting dask>=2022.11.1 (from merlin-core>=23.4.0->merlin-models)\n",
      "  Downloading dask-2024.1.1-py3-none-any.whl.metadata (3.7 kB)\n",
      "Collecting distributed>=2022.11.1 (from merlin-core>=23.4.0->merlin-models)\n",
      "  Downloading distributed-2024.1.1-py3-none-any.whl.metadata (3.4 kB)\n",
      "Collecting rapids-dask-dependency==24.4.* (from dask-cuda>=22.12.0->merlin-core>=23.4.0->merlin-models)\n",
      "  Downloading rapids_dask_dependency-24.4.0.tar.gz (2.0 kB)\n",
      "  Installing build dependencies ... \u001b[?25ldone\n",
      "\u001b[?25h  Getting requirements to build wheel ... \u001b[?25ldone\n",
      "\u001b[?25h  Preparing metadata (pyproject.toml) ... \u001b[?25ldone\n",
      "\u001b[?25hCollecting dask-cuda>=22.12.0 (from merlin-core>=23.4.0->merlin-models)\n",
      "  Downloading dask_cuda-24.2.0-py3-none-any.whl.metadata (2.5 kB)\n",
      "Collecting rapids-dask-dependency==24.2.* (from dask-cuda>=22.12.0->merlin-core>=23.4.0->merlin-models)\n",
      "  Downloading rapids_dask_dependency-24.2.0-py3-none-any.whl.metadata (2.8 kB)\n",
      "Collecting llvmlite<0.45,>=0.44.0dev0 (from numba>=0.54->merlin-core>=23.4.0->merlin-models)\n",
      "  Downloading llvmlite-0.44.0-cp311-cp311-manylinux_2_17_x86_64.manylinux2014_x86_64.whl.metadata (4.8 kB)\n",
      "Requirement already satisfied: absl-py<3.0.0,>=0.9 in /usr/local/lib/python3.11/dist-packages (from tensorflow-metadata>=1.2.0->merlin-core>=23.4.0->merlin-models) (2.0.0)\n",
      "Collecting googleapis-common-protos<2,>=1.56.4 (from tensorflow-metadata>=1.2.0->merlin-core>=23.4.0->merlin-models)\n",
      "  Downloading googleapis_common_protos-1.70.0-py3-none-any.whl.metadata (9.3 kB)\n",
      "Collecting protobuf>=3.0.0 (from merlin-core>=23.4.0->merlin-models)\n",
      "  Downloading protobuf-5.29.4-cp38-abi3-manylinux2014_x86_64.whl.metadata (592 bytes)\n",
      "Collecting zipp>=3.20 (from importlib_metadata>=4.13.0->dask>=2022.11.1->merlin-core>=23.4.0->merlin-models)\n",
      "  Downloading zipp-3.21.0-py3-none-any.whl.metadata (3.7 kB)\n",
      "Requirement already satisfied: MarkupSafe>=2.0 in /usr/local/lib/python3.11/dist-packages (from jinja2>=2.10.3->distributed>=2022.11.1->merlin-core>=23.4.0->merlin-models) (2.1.3)\n",
      "Requirement already satisfied: six>=1.5 in /usr/lib/python3/dist-packages (from python-dateutil>=2.8.1->pandas<1.6.0dev0,>=1.2.0->merlin-core>=23.4.0->merlin-models) (1.16.0)\n",
      "Collecting h2<5,>=3.1.0 (from grpclib->betterproto<2.0.0->merlin-core>=23.4.0->merlin-models)\n",
      "  Downloading h2-4.2.0-py3-none-any.whl.metadata (5.1 kB)\n",
      "Collecting multidict (from grpclib->betterproto<2.0.0->merlin-core>=23.4.0->merlin-models)\n",
      "  Downloading multidict-6.4.3-cp311-cp311-manylinux_2_17_x86_64.manylinux2014_x86_64.whl.metadata (5.3 kB)\n",
      "Collecting hyperframe<7,>=6.1 (from h2<5,>=3.1.0->grpclib->betterproto<2.0.0->merlin-core>=23.4.0->merlin-models)\n",
      "  Downloading hyperframe-6.1.0-py3-none-any.whl.metadata (4.3 kB)\n",
      "Collecting hpack<5,>=4.1 (from h2<5,>=3.1.0->grpclib->betterproto<2.0.0->merlin-core>=23.4.0->merlin-models)\n",
      "  Downloading hpack-4.1.0-py3-none-any.whl.metadata (4.6 kB)\n",
      "Downloading dask_cuda-24.2.0-py3-none-any.whl (126 kB)\n",
      "Downloading rapids_dask_dependency-24.2.0-py3-none-any.whl (6.4 kB)\n",
      "Downloading dask-2024.1.1-py3-none-any.whl (1.2 MB)\n",
      "\u001b[2K   \u001b[90m━━━━━━━━━━━━━━━━━━━━━━━━━━━━━━━━━━━━━━━━\u001b[0m \u001b[32m1.2/1.2 MB\u001b[0m \u001b[31m3.7 MB/s\u001b[0m eta \u001b[36m0:00:00\u001b[0mta \u001b[36m0:00:01\u001b[0m\n",
      "\u001b[?25hDownloading distributed-2024.1.1-py3-none-any.whl (1.0 MB)\n",
      "\u001b[2K   \u001b[90m━━━━━━━━━━━━━━━━━━━━━━━━━━━━━━━━━━━━━━━━\u001b[0m \u001b[32m1.0/1.0 MB\u001b[0m \u001b[31m2.4 MB/s\u001b[0m eta \u001b[36m0:00:00\u001b[0mta \u001b[36m0:00:01\u001b[0m\n",
      "\u001b[?25hDownloading pandas-1.5.3-cp311-cp311-manylinux_2_17_x86_64.manylinux2014_x86_64.whl (12.0 MB)\n",
      "\u001b[2K   \u001b[90m━━━━━━━━━━━━━━━━━━━━━━━━━━━━━━━━━━━━━━━━\u001b[0m \u001b[32m12.0/12.0 MB\u001b[0m \u001b[31m13.7 MB/s\u001b[0m eta \u001b[36m0:00:00\u001b[0m00:01\u001b[0m0:01\u001b[0m\n",
      "\u001b[?25hDownloading fsspec-2025.3.2-py3-none-any.whl (194 kB)\n",
      "Downloading numba-0.61.2-cp311-cp311-manylinux2014_x86_64.manylinux_2_17_x86_64.whl (3.8 MB)\n",
      "\u001b[2K   \u001b[90m━━━━━━━━━━━━━━━━━━━━━━━━━━━━━━━━━━━━━━━━\u001b[0m \u001b[32m3.8/3.8 MB\u001b[0m \u001b[31m11.8 MB/s\u001b[0m eta \u001b[36m0:00:00\u001b[0ma \u001b[36m0:00:01\u001b[0m\n",
      "\u001b[?25hDownloading pyarrow-19.0.1-cp311-cp311-manylinux_2_28_x86_64.whl (42.1 MB)\n",
      "\u001b[2K   \u001b[90m━━━━━━━━━━━━━━━━━━━━━━━━━━━━━━━━━━━━━━━━\u001b[0m \u001b[32m42.1/42.1 MB\u001b[0m \u001b[31m21.9 MB/s\u001b[0m eta \u001b[36m0:00:00\u001b[0m00:01\u001b[0m00:01\u001b[0m\n",
      "\u001b[?25hDownloading pynvml-11.4.1-py3-none-any.whl (46 kB)\n",
      "Downloading tensorflow_metadata-1.17.1-py3-none-any.whl (31 kB)\n",
      "Downloading protobuf-5.29.4-cp38-abi3-manylinux2014_x86_64.whl (319 kB)\n",
      "Downloading npy_append_array-0.9.16-py3-none-any.whl (9.0 kB)\n",
      "Downloading click-8.1.8-py3-none-any.whl (98 kB)\n",
      "Downloading cloudpickle-3.1.1-py3-none-any.whl (20 kB)\n",
      "Downloading googleapis_common_protos-1.70.0-py3-none-any.whl (294 kB)\n",
      "Downloading importlib_metadata-8.6.1-py3-none-any.whl (26 kB)\n",
      "Downloading llvmlite-0.44.0-cp311-cp311-manylinux_2_17_x86_64.manylinux2014_x86_64.whl (42.4 MB)\n",
      "\u001b[2K   \u001b[90m━━━━━━━━━━━━━━━━━━━━━━━━━━━━━━━━━━━━━━━━\u001b[0m \u001b[32m42.4/42.4 MB\u001b[0m \u001b[31m8.6 MB/s\u001b[0m eta \u001b[36m0:00:00\u001b[0m:00:01\u001b[0m00:01\u001b[0m\n",
      "\u001b[?25hDownloading locket-1.0.0-py2.py3-none-any.whl (4.4 kB)\n",
      "Downloading msgpack-1.1.0-cp311-cp311-manylinux_2_17_x86_64.manylinux2014_x86_64.whl (403 kB)\n",
      "Downloading partd-1.4.2-py3-none-any.whl (18 kB)\n",
      "Downloading sortedcontainers-2.4.0-py2.py3-none-any.whl (29 kB)\n",
      "Downloading tblib-3.1.0-py3-none-any.whl (12 kB)\n",
      "Downloading toolz-1.0.0-py3-none-any.whl (56 kB)\n",
      "Downloading zict-3.0.0-py2.py3-none-any.whl (43 kB)\n",
      "Downloading h2-4.2.0-py3-none-any.whl (60 kB)\n",
      "Downloading zipp-3.21.0-py3-none-any.whl (9.6 kB)\n",
      "Downloading multidict-6.4.3-cp311-cp311-manylinux_2_17_x86_64.manylinux2014_x86_64.whl (223 kB)\n",
      "Downloading hpack-4.1.0-py3-none-any.whl (34 kB)\n",
      "Downloading hyperframe-6.1.0-py3-none-any.whl (13 kB)\n",
      "Building wheels for collected packages: merlin-models, merlin-core, merlin-dataloader, betterproto, grpclib, stringcase\n",
      "  Building wheel for merlin-models (pyproject.toml) ... \u001b[?25ldone\n",
      "\u001b[?25h  Created wheel for merlin-models: filename=merlin_models-23.12.0-py3-none-any.whl size=449770 sha256=31266559b83b2d121cf72b9f0b4765c38bccc9576c7f2faad8242da42860d2bc\n",
      "  Stored in directory: /root/.cache/pip/wheels/f3/b4/5a/383b59d1310ec4e5bb1c91ab95caf709f12e42f9a26e6db475\n",
      "  Building wheel for merlin-core (pyproject.toml) ... \u001b[?25ldone\n",
      "\u001b[?25h  Created wheel for merlin-core: filename=merlin_core-23.8.0-py3-none-any.whl size=175366 sha256=17927e340624ff2cce4e3347eb2ec914d7f574e2782c4591d576331aa19b91ad\n",
      "  Stored in directory: /root/.cache/pip/wheels/85/92/ff/74621d8aee745d1efc311ba01f3b09db3bf632e78d11389926\n",
      "  Building wheel for merlin-dataloader (pyproject.toml) ... \u001b[?25ldone\n",
      "\u001b[?25h  Created wheel for merlin-dataloader: filename=merlin_dataloader-23.8.0-py3-none-any.whl size=35593 sha256=4065f5afc497b7a22127cfab1cbf7473443db74e859ec15b4f160d6301775c2d\n",
      "  Stored in directory: /root/.cache/pip/wheels/25/ee/6a/2864475e5aa38823a5fd37232cfc7871c1fb542a2bb4553b16\n",
      "  Building wheel for betterproto (pyproject.toml) ... \u001b[?25ldone\n",
      "\u001b[?25h  Created wheel for betterproto: filename=betterproto-1.2.5-py3-none-any.whl size=22053 sha256=e86f1105b9fbec333a9568595c1ef7804fab27e30ee883be95fe7071bcab1510\n",
      "  Stored in directory: /root/.cache/pip/wheels/5d/7b/33/2e113dd046b060e8b833f8dc973a0ac7fa1ee974209520c6be\n",
      "  Building wheel for grpclib (pyproject.toml) ... \u001b[?25ldone\n",
      "\u001b[?25h  Created wheel for grpclib: filename=grpclib-0.4.7-py3-none-any.whl size=76261 sha256=b47d9ef0077e199e53a6bdc010a21e6a4071d3adb21849ad4462341dc4136810\n",
      "  Stored in directory: /root/.cache/pip/wheels/1a/6e/f8/47a179a8cf84417e94206ee7bdee3cc4219a011e6ca1973eb0\n",
      "  Building wheel for stringcase (setup.py) ... \u001b[?25ldone\n",
      "\u001b[?25h  Created wheel for stringcase: filename=stringcase-1.2.0-py3-none-any.whl size=3569 sha256=32c6b6eee0d7e9472c6626c598c5fa2f84a5f02c5c27c850ee44cef4117eac1a\n",
      "  Stored in directory: /root/.cache/pip/wheels/b4/33/6d/d0820be98063da218c3206fbad2381cd2db3fbb1a0f0d254b5\n",
      "Successfully built merlin-models merlin-core merlin-dataloader betterproto grpclib stringcase\n",
      "Installing collected packages: stringcase, sortedcontainers, zipp, zict, toolz, tblib, pynvml, pyarrow, protobuf, npy-append-array, multidict, msgpack, locket, llvmlite, hyperframe, hpack, fsspec, cloudpickle, click, partd, pandas, numba, importlib_metadata, h2, googleapis-common-protos, tensorflow-metadata, grpclib, dask, distributed, betterproto, rapids-dask-dependency, dask-cuda, merlin-core, merlin-dataloader, merlin-models\n",
      "  Attempting uninstall: zipp\n",
      "    Found existing installation: zipp 1.0.0\n",
      "    Uninstalling zipp-1.0.0:\n",
      "      Successfully uninstalled zipp-1.0.0\n",
      "  Attempting uninstall: protobuf\n",
      "    Found existing installation: protobuf 4.23.4\n",
      "    Uninstalling protobuf-4.23.4:\n",
      "      Successfully uninstalled protobuf-4.23.4\n",
      "  Attempting uninstall: pandas\n",
      "    Found existing installation: pandas 2.2.3\n",
      "    Uninstalling pandas-2.2.3:\n",
      "      Successfully uninstalled pandas-2.2.3\n",
      "  Attempting uninstall: importlib_metadata\n",
      "    Found existing installation: importlib-metadata 4.6.4\n",
      "    Uninstalling importlib-metadata-4.6.4:\n",
      "      Successfully uninstalled importlib-metadata-4.6.4\n",
      "\u001b[31mERROR: pip's dependency resolver does not currently take into account all the packages that are installed. This behaviour is the source of the following dependency conflicts.\n",
      "tensorboard 2.15.1 requires protobuf<4.24,>=3.19.6, but you have protobuf 5.29.4 which is incompatible.\n",
      "tensorflow 2.15.0 requires keras<2.16,>=2.15.0, but you have keras 3.9.2 which is incompatible.\n",
      "tensorflow 2.15.0 requires protobuf!=4.21.0,!=4.21.1,!=4.21.2,!=4.21.3,!=4.21.4,!=4.21.5,<5.0.0dev,>=3.20.3, but you have protobuf 5.29.4 which is incompatible.\u001b[0m\u001b[31m\n",
      "\u001b[0mSuccessfully installed betterproto-1.2.5 click-8.1.8 cloudpickle-3.1.1 dask-2024.1.1 dask-cuda-24.2.0 distributed-2024.1.1 fsspec-2025.3.2 googleapis-common-protos-1.70.0 grpclib-0.4.7 h2-4.2.0 hpack-4.1.0 hyperframe-6.1.0 importlib_metadata-8.6.1 llvmlite-0.44.0 locket-1.0.0 merlin-core-23.8.0 merlin-dataloader-23.8.0 merlin-models-23.12.0 msgpack-1.1.0 multidict-6.4.3 npy-append-array-0.9.16 numba-0.61.2 pandas-1.5.3 partd-1.4.2 protobuf-5.29.4 pyarrow-19.0.1 pynvml-11.4.1 rapids-dask-dependency-24.2.0 sortedcontainers-2.4.0 stringcase-1.2.0 tblib-3.1.0 tensorflow-metadata-1.17.1 toolz-1.0.0 zict-3.0.0 zipp-3.21.0\n",
      "\u001b[33mWARNING: Running pip as the 'root' user can result in broken permissions and conflicting behaviour with the system package manager, possibly rendering your system unusable. It is recommended to use a virtual environment instead: https://pip.pypa.io/warnings/venv. Use the --root-user-action option if you know what you are doing and want to suppress this warning.\u001b[0m\u001b[33m\n",
      "\u001b[0m"
     ]
    }
   ],
   "source": [
    "!pip install merlin-models"
   ]
  },
  {
   "cell_type": "code",
   "execution_count": 25,
   "metadata": {},
   "outputs": [
    {
     "ename": "ImportError",
     "evalue": "cannot import name 'to_dlpack' from 'tensorflow.python' (/usr/local/lib/python3.11/dist-packages/tensorflow/python/__init__.py)",
     "output_type": "error",
     "traceback": [
      "\u001b[31m---------------------------------------------------------------------------\u001b[39m",
      "\u001b[31mImportError\u001b[39m                               Traceback (most recent call last)",
      "\u001b[36mCell\u001b[39m\u001b[36m \u001b[39m\u001b[32mIn[25]\u001b[39m\u001b[32m, line 2\u001b[39m\n\u001b[32m      1\u001b[39m \u001b[38;5;28;01mimport\u001b[39;00m\u001b[38;5;250m \u001b[39m\u001b[34;01mpandas\u001b[39;00m\u001b[38;5;250m \u001b[39m\u001b[38;5;28;01mas\u001b[39;00m\u001b[38;5;250m \u001b[39m\u001b[34;01mpd\u001b[39;00m\n\u001b[32m----> \u001b[39m\u001b[32m2\u001b[39m \u001b[38;5;28;01mimport\u001b[39;00m\u001b[38;5;250m \u001b[39m\u001b[34;01mmerlin\u001b[39;00m\u001b[34;01m.\u001b[39;00m\u001b[34;01mmodels\u001b[39;00m\u001b[34;01m.\u001b[39;00m\u001b[34;01mtf\u001b[39;00m\u001b[38;5;250m \u001b[39m\u001b[38;5;28;01mas\u001b[39;00m\u001b[38;5;250m \u001b[39m\u001b[34;01mmm\u001b[39;00m\n\u001b[32m      3\u001b[39m \u001b[38;5;28;01mfrom\u001b[39;00m\u001b[38;5;250m \u001b[39m\u001b[34;01mmerlin\u001b[39;00m\u001b[34;01m.\u001b[39;00m\u001b[34;01mio\u001b[39;00m\u001b[34;01m.\u001b[39;00m\u001b[34;01mdataset\u001b[39;00m\u001b[38;5;250m \u001b[39m\u001b[38;5;28;01mimport\u001b[39;00m Dataset\n\u001b[32m      5\u001b[39m \u001b[38;5;66;03m# 1) Crear DataFrames a partir de tus arrays\u001b[39;00m\n",
      "\u001b[36mFile \u001b[39m\u001b[32m/usr/local/lib/python3.11/dist-packages/merlin/models/tf/__init__.py:21\u001b[39m\n\u001b[32m      1\u001b[39m \u001b[38;5;66;03m#\u001b[39;00m\n\u001b[32m      2\u001b[39m \u001b[38;5;66;03m# Copyright (c) 2021, NVIDIA CORPORATION.\u001b[39;00m\n\u001b[32m      3\u001b[39m \u001b[38;5;66;03m#\u001b[39;00m\n\u001b[32m   (...)\u001b[39m\u001b[32m     18\u001b[39m \n\u001b[32m     19\u001b[39m \u001b[38;5;66;03m# Must happen before any importing of tensorflow to curtail mem usage\u001b[39;00m\n\u001b[32m     20\u001b[39m \u001b[38;5;28;01mfrom\u001b[39;00m\u001b[38;5;250m \u001b[39m\u001b[34;01mmerlin\u001b[39;00m\u001b[34;01m.\u001b[39;00m\u001b[34;01mdataloader\u001b[39;00m\u001b[34;01m.\u001b[39;00m\u001b[34;01mtf_utils\u001b[39;00m\u001b[38;5;250m \u001b[39m\u001b[38;5;28;01mimport\u001b[39;00m configure_tensorflow\n\u001b[32m---> \u001b[39m\u001b[32m21\u001b[39m \u001b[38;5;28;01mfrom\u001b[39;00m\u001b[38;5;250m \u001b[39m\u001b[34;01mmerlin\u001b[39;00m\u001b[34;01m.\u001b[39;00m\u001b[34;01mmodels\u001b[39;00m\u001b[34;01m.\u001b[39;00m\u001b[34;01mtf\u001b[39;00m\u001b[34;01m.\u001b[39;00m\u001b[34;01mcore\u001b[39;00m\u001b[34;01m.\u001b[39;00m\u001b[34;01mindex\u001b[39;00m\u001b[38;5;250m \u001b[39m\u001b[38;5;28;01mimport\u001b[39;00m IndexBlock, TopKIndexBlock\n\u001b[32m     22\u001b[39m \u001b[38;5;28;01mfrom\u001b[39;00m\u001b[38;5;250m \u001b[39m\u001b[34;01mmerlin\u001b[39;00m\u001b[34;01m.\u001b[39;00m\u001b[34;01mmodels\u001b[39;00m\u001b[34;01m.\u001b[39;00m\u001b[34;01mtf\u001b[39;00m\u001b[34;01m.\u001b[39;00m\u001b[34;01mcore\u001b[39;00m\u001b[34;01m.\u001b[39;00m\u001b[34;01mtabular\u001b[39;00m\u001b[38;5;250m \u001b[39m\u001b[38;5;28;01mimport\u001b[39;00m AsTabular, Filter, TabularBlock\n\u001b[32m     24\u001b[39m configure_tensorflow()\n",
      "\u001b[36mFile \u001b[39m\u001b[32m/usr/local/lib/python3.11/dist-packages/merlin/models/tf/core/index.py:20\u001b[39m\n\u001b[32m     18\u001b[39m \u001b[38;5;28;01mimport\u001b[39;00m\u001b[38;5;250m \u001b[39m\u001b[34;01mnumpy\u001b[39;00m\u001b[38;5;250m \u001b[39m\u001b[38;5;28;01mas\u001b[39;00m\u001b[38;5;250m \u001b[39m\u001b[34;01mnp\u001b[39;00m\n\u001b[32m     19\u001b[39m \u001b[38;5;28;01mimport\u001b[39;00m\u001b[38;5;250m \u001b[39m\u001b[34;01mtensorflow\u001b[39;00m\u001b[38;5;250m \u001b[39m\u001b[38;5;28;01mas\u001b[39;00m\u001b[38;5;250m \u001b[39m\u001b[34;01mtf\u001b[39;00m\n\u001b[32m---> \u001b[39m\u001b[32m20\u001b[39m \u001b[38;5;28;01mfrom\u001b[39;00m\u001b[38;5;250m \u001b[39m\u001b[34;01mtensorflow\u001b[39;00m\u001b[34;01m.\u001b[39;00m\u001b[34;01mpython\u001b[39;00m\u001b[38;5;250m \u001b[39m\u001b[38;5;28;01mimport\u001b[39;00m to_dlpack\n\u001b[32m     22\u001b[39m \u001b[38;5;28;01mimport\u001b[39;00m\u001b[38;5;250m \u001b[39m\u001b[34;01mmerlin\u001b[39;00m\u001b[34;01m.\u001b[39;00m\u001b[34;01mio\u001b[39;00m\n\u001b[32m     23\u001b[39m \u001b[38;5;28;01mfrom\u001b[39;00m\u001b[38;5;250m \u001b[39m\u001b[34;01mmerlin\u001b[39;00m\u001b[34;01m.\u001b[39;00m\u001b[34;01mcore\u001b[39;00m\u001b[34;01m.\u001b[39;00m\u001b[34;01mdispatch\u001b[39;00m\u001b[38;5;250m \u001b[39m\u001b[38;5;28;01mimport\u001b[39;00m DataFrameType\n",
      "\u001b[31mImportError\u001b[39m: cannot import name 'to_dlpack' from 'tensorflow.python' (/usr/local/lib/python3.11/dist-packages/tensorflow/python/__init__.py)"
     ]
    }
   ],
   "source": [
    "import pandas as pd\n",
    "import merlin.models.tf as mm\n",
    "from merlin.io.dataset import Dataset\n",
    "\n",
    "# 1) Crear DataFrames a partir de tus arrays\n",
    "feature_cols = [f\"f_{i}\" for i in range(X_train.shape[1])]\n",
    "train_df = pd.DataFrame(X_train, columns=feature_cols)\n",
    "train_df[\"target\"] = y_train  # tu columna de clase: valores en {0,1,2,3,4} o {1–5}\n",
    "valid_df = pd.DataFrame(X_test, columns=feature_cols)\n",
    "valid_df[\"target\"] = y_test\n",
    "\n",
    "# 2) Envolverlos en Dataset de Merlin\n",
    "train = Dataset(train_df)\n",
    "valid = Dataset(valid_df)\n",
    "\n",
    "# 3) Definir el modelo DLRM para clasificación de 5 clases\n",
    "model = mm.DLRMModel(\n",
    "    train.schema,\n",
    "    embedding_dim=64,\n",
    "    bottom_block=mm.MLPBlock([128, 64]),\n",
    "    top_block=mm.MLPBlock([128, 64, 32]),\n",
    "    prediction_tasks=mm.MultiClassClassificationTask(\n",
    "        target_name=\"target\"   # la columna que contiene tus etiquetas\n",
    "    )\n",
    ")\n",
    "\n",
    "# 4) Compilar, entrenar y evaluar\n",
    "model.compile(optimizer=\"adagrad\", run_eagerly=False)\n",
    "\n",
    "model.fit(\n",
    "    train,\n",
    "    validation_data=valid,\n",
    "    batch_size=1024,\n",
    "    epochs=20,\n",
    ")\n",
    "\n",
    "metrics = model.evaluate(valid, batch_size=1024, return_dict=True)\n",
    "print(metrics)"
   ]
  },
  {
   "cell_type": "markdown",
   "metadata": {},
   "source": [
    "## Transformer (baseline)"
   ]
  },
  {
   "cell_type": "code",
   "execution_count": 7,
   "metadata": {},
   "outputs": [
    {
     "name": "stdout",
     "output_type": "stream",
     "text": [
      "Model: \"model\"\n",
      "__________________________________________________________________________________________________\n",
      " Layer (type)                   Output Shape         Param #     Connected to                     \n",
      "==================================================================================================\n",
      " input_1 (InputLayer)           [(None, 199)]        0           []                               \n",
      "                                                                                                  \n",
      " dense (Dense)                  (None, 128)          25600       ['input_1[0][0]']                \n",
      "                                                                                                  \n",
      " tf.expand_dims (TFOpLambda)    (None, 1, 128)       0           ['dense[0][0]']                  \n",
      "                                                                                                  \n",
      " multi_head_attention (MultiHea  (None, 1, 128)      66048       ['tf.expand_dims[0][0]',         \n",
      " dAttention)                                                      'tf.expand_dims[0][0]']         \n",
      "                                                                                                  \n",
      " dropout (Dropout)              (None, 1, 128)       0           ['multi_head_attention[0][0]']   \n",
      "                                                                                                  \n",
      " tf.compat.v1.squeeze (TFOpLamb  (None, 128)         0           ['dropout[0][0]']                \n",
      " da)                                                                                              \n",
      "                                                                                                  \n",
      " add (Add)                      (None, 128)          0           ['dense[0][0]',                  \n",
      "                                                                  'tf.compat.v1.squeeze[0][0]']   \n",
      "                                                                                                  \n",
      " layer_normalization (LayerNorm  (None, 128)         256         ['add[0][0]']                    \n",
      " alization)                                                                                       \n",
      "                                                                                                  \n",
      " dense_1 (Dense)                (None, 64)           8256        ['layer_normalization[0][0]']    \n",
      "                                                                                                  \n",
      " dropout_1 (Dropout)            (None, 64)           0           ['dense_1[0][0]']                \n",
      "                                                                                                  \n",
      " dense_2 (Dense)                (None, 32)           2080        ['dropout_1[0][0]']              \n",
      "                                                                                                  \n",
      " dense_3 (Dense)                (None, 1)            33          ['dense_2[0][0]']                \n",
      "                                                                                                  \n",
      "==================================================================================================\n",
      "Total params: 102,273\n",
      "Trainable params: 102,273\n",
      "Non-trainable params: 0\n",
      "__________________________________________________________________________________________________\n"
     ]
    }
   ],
   "source": [
    "from tensorflow.keras.activations import gelu\n",
    "from tensorflow.keras.models import Model\n",
    "from tensorflow.keras.layers import Input, Dense, Dropout, MultiHeadAttention, LayerNormalization, Add\n",
    "from tensorflow.keras.optimizers import Adam\n",
    "import tensorflow as tf\n",
    "\n",
    "# Define the input layer\n",
    "input_dim = X_train.shape[1]  # 199 features\n",
    "inputs = Input(shape=(input_dim,))\n",
    "\n",
    "# Add a dense layer to expand dimensions for attention\n",
    "dense_proj = Dense(128, activation=gelu)(inputs)\n",
    "\n",
    "# Add a sequence length dimension for MultiHeadAttention\n",
    "dense_proj_expanded = tf.expand_dims(dense_proj, axis=1)\n",
    "\n",
    "# Add multi-head attention\n",
    "attention_output = MultiHeadAttention(num_heads=2, key_dim=64)(dense_proj_expanded, dense_proj_expanded)\n",
    "attention_output = Dropout(0.3)(attention_output)\n",
    "\n",
    "# Remove the sequence length dimension after attention\n",
    "attention_output = tf.squeeze(attention_output, axis=1)\n",
    "\n",
    "# Add residual connection and layer normalization\n",
    "attention_output = Add()([dense_proj, attention_output])\n",
    "attention_output = LayerNormalization()(attention_output)\n",
    "\n",
    "# Add a feed-forward network\n",
    "ffn_output = Dense(64, activation=gelu)(attention_output)\n",
    "ffn_output = Dropout(0.3)(ffn_output)\n",
    "ffn_output = Dense(32, activation=gelu)(ffn_output)\n",
    "\n",
    "# Output layer for regression\n",
    "outputs = Dense(1, activation='linear')(ffn_output)\n",
    "\n",
    "# Define the model\n",
    "model = Model(inputs=inputs, outputs=outputs)\n",
    "\n",
    "# Compile the model with Adam optimizer and mean squared error loss\n",
    "model.compile(optimizer=Adam(learning_rate=0.001),\n",
    "              loss='mean_squared_error',\n",
    "              metrics=['mae'])\n",
    "\n",
    "model.summary()"
   ]
  },
  {
   "cell_type": "code",
   "execution_count": 8,
   "metadata": {},
   "outputs": [
    {
     "name": "stdout",
     "output_type": "stream",
     "text": [
      "Epoch 1/5\n",
      "24195/24195 [==============================] - 137s 5ms/step - loss: 0.5696 - mae: 0.5328 - val_loss: 0.6855 - val_mae: 0.6671\n",
      "Epoch 2/5\n",
      "24195/24195 [==============================] - 136s 6ms/step - loss: 0.4939 - mae: 0.4856 - val_loss: 0.5557 - val_mae: 0.5939\n",
      "Epoch 3/5\n",
      "24195/24195 [==============================] - 138s 6ms/step - loss: 0.4777 - mae: 0.4752 - val_loss: 0.6000 - val_mae: 0.6167\n",
      "Epoch 4/5\n",
      "24195/24195 [==============================] - 137s 6ms/step - loss: 0.4681 - mae: 0.4694 - val_loss: 0.5552 - val_mae: 0.5866\n",
      "Epoch 5/5\n",
      "24195/24195 [==============================] - 136s 6ms/step - loss: 0.4607 - mae: 0.4654 - val_loss: 0.5631 - val_mae: 0.5948\n",
      "6049/6049 [==============================] - 16s 3ms/step - loss: 0.5631 - mae: 0.5948\n",
      "Test Loss: 0.5631492137908936\n",
      "Test MAE: 0.5948130488395691\n"
     ]
    }
   ],
   "source": [
    "tf.keras.backend.clear_session()\n",
    "history = model.fit(X_train, y_train, \n",
    "                    validation_data=(X_test, y_test),\n",
    "                    epochs=5, \n",
    "                    batch_size=32)\n",
    "\n",
    "# Evaluar el modelo en el conjunto de test\n",
    "tf.keras.backend.clear_session()\n",
    "loss, mae = model.evaluate(X_test, y_test, batch_size=32)\n",
    "print(\"Test Loss:\", loss)\n",
    "print(\"Test MAE:\", mae)"
   ]
  },
  {
   "cell_type": "code",
   "execution_count": 7,
   "metadata": {},
   "outputs": [
    {
     "name": "stdout",
     "output_type": "stream",
     "text": [
      "Model: \"model\"\n",
      "__________________________________________________________________________________________________\n",
      " Layer (type)                   Output Shape         Param #     Connected to                     \n",
      "==================================================================================================\n",
      " input_1 (InputLayer)           [(None, 199)]        0           []                               \n",
      "                                                                                                  \n",
      " dense (Dense)                  (None, 128)          25600       ['input_1[0][0]']                \n",
      "                                                                                                  \n",
      " tf.expand_dims (TFOpLambda)    (None, 1, 128)       0           ['dense[0][0]']                  \n",
      "                                                                                                  \n",
      " multi_head_attention (MultiHea  (None, 1, 128)      66048       ['tf.expand_dims[0][0]',         \n",
      " dAttention)                                                      'tf.expand_dims[0][0]']         \n",
      "                                                                                                  \n",
      " dropout (Dropout)              (None, 1, 128)       0           ['multi_head_attention[0][0]']   \n",
      "                                                                                                  \n",
      " tf.compat.v1.squeeze (TFOpLamb  (None, 128)         0           ['dropout[0][0]']                \n",
      " da)                                                                                              \n",
      "                                                                                                  \n",
      " add (Add)                      (None, 128)          0           ['dense[0][0]',                  \n",
      "                                                                  'tf.compat.v1.squeeze[0][0]']   \n",
      "                                                                                                  \n",
      " layer_normalization (LayerNorm  (None, 128)         256         ['add[0][0]']                    \n",
      " alization)                                                                                       \n",
      "                                                                                                  \n",
      " dense_1 (Dense)                (None, 64)           8256        ['layer_normalization[0][0]']    \n",
      "                                                                                                  \n",
      " dropout_1 (Dropout)            (None, 64)           0           ['dense_1[0][0]']                \n",
      "                                                                                                  \n",
      " dense_2 (Dense)                (None, 32)           2080        ['dropout_1[0][0]']              \n",
      "                                                                                                  \n",
      " dense_3 (Dense)                (None, 1)            33          ['dense_2[0][0]']                \n",
      "                                                                                                  \n",
      "==================================================================================================\n",
      "Total params: 102,273\n",
      "Trainable params: 102,273\n",
      "Non-trainable params: 0\n",
      "__________________________________________________________________________________________________\n"
     ]
    }
   ],
   "source": [
    "from tensorflow.keras.activations import gelu\n",
    "from tensorflow.keras.models import Model\n",
    "from tensorflow.keras.layers import Input, Dense, Dropout, MultiHeadAttention, LayerNormalization, Add\n",
    "from tensorflow.keras.optimizers import Adam\n",
    "import tensorflow as tf\n",
    "\n",
    "# Define the input layer\n",
    "input_dim = X_train.shape[1]  # 199 features\n",
    "inputs = Input(shape=(input_dim,))\n",
    "\n",
    "# Add a dense layer to expand dimensions for attention\n",
    "dense_proj = Dense(128, activation=gelu)(inputs)\n",
    "\n",
    "# Add a sequence length dimension for MultiHeadAttention\n",
    "dense_proj_expanded = tf.expand_dims(dense_proj, axis=1)\n",
    "\n",
    "# Add multi-head attention\n",
    "attention_output = MultiHeadAttention(num_heads=2, key_dim=64)(dense_proj_expanded, dense_proj_expanded)\n",
    "attention_output = Dropout(0.3)(attention_output)\n",
    "\n",
    "# Remove the sequence length dimension after attention\n",
    "attention_output = tf.squeeze(attention_output, axis=1)\n",
    "\n",
    "# Add residual connection and layer normalization\n",
    "attention_output = Add()([dense_proj, attention_output])\n",
    "attention_output = LayerNormalization()(attention_output)\n",
    "\n",
    "# Add a feed-forward network\n",
    "ffn_output = Dense(64, activation=gelu)(attention_output)\n",
    "ffn_output = Dropout(0.3)(ffn_output)\n",
    "ffn_output = Dense(32, activation=gelu)(ffn_output)\n",
    "\n",
    "# Output layer for regression\n",
    "outputs = Dense(1, activation='linear')(ffn_output)\n",
    "\n",
    "# Define the model\n",
    "model = Model(inputs=inputs, outputs=outputs)\n",
    "\n",
    "# Compile with a learning rate scheduler\n",
    "lr_schedule = tf.keras.optimizers.schedules.ExponentialDecay(\n",
    "    initial_learning_rate=0.00001,\n",
    "    decay_steps=10_000,\n",
    "    decay_rate=0.9\n",
    ")\n",
    "model.compile(optimizer=Adam(learning_rate=lr_schedule),\n",
    "              loss='mean_squared_error',\n",
    "              metrics=['mae'])\n",
    "\n",
    "model.summary()"
   ]
  },
  {
   "cell_type": "code",
   "execution_count": 92,
   "metadata": {},
   "outputs": [],
   "source": [
    "tf.keras.backend.clear_session()"
   ]
  },
  {
   "cell_type": "code",
   "execution_count": 8,
   "metadata": {},
   "outputs": [
    {
     "name": "stdout",
     "output_type": "stream",
     "text": [
      "Epoch 1/5\n",
      "24195/24195 [==============================] - 151s 6ms/step - loss: 1.4134 - mae: 0.9141 - val_loss: 1.0696 - val_mae: 0.8681\n",
      "Epoch 2/5\n",
      "24195/24195 [==============================] - 151s 6ms/step - loss: 0.8220 - mae: 0.6943 - val_loss: 1.1538 - val_mae: 0.9090\n",
      "Epoch 3/5\n",
      "24195/24195 [==============================] - 147s 6ms/step - loss: 0.7149 - mae: 0.6390 - val_loss: 1.2018 - val_mae: 0.9358\n",
      "Epoch 4/5\n",
      "24195/24195 [==============================] - 147s 6ms/step - loss: 0.6684 - mae: 0.6129 - val_loss: 1.2520 - val_mae: 0.9589\n",
      "Epoch 5/5\n",
      "24195/24195 [==============================] - 153s 6ms/step - loss: 0.6425 - mae: 0.5976 - val_loss: 1.2611 - val_mae: 0.9629\n",
      "6049/6049 [==============================] - 14s 2ms/step - loss: 1.2611 - mae: 0.9629\n",
      "Test Loss: 1.2610799074172974\n",
      "Test MAE: 0.9628550410270691\n"
     ]
    }
   ],
   "source": [
    "history = model.fit(X_train, y_train, \n",
    "                    validation_data=(X_test, y_test),\n",
    "                    epochs=5, \n",
    "                    batch_size=32)\n",
    "\n",
    "# Evaluar el modelo en el conjunto de test\n",
    "loss, mae = model.evaluate(X_test, y_test, batch_size=32)\n",
    "print(\"Test Loss:\", loss)\n",
    "print(\"Test MAE:\", mae)"
   ]
  },
  {
   "cell_type": "markdown",
   "metadata": {},
   "source": [
    "## Transfomer + regularization"
   ]
  },
  {
   "cell_type": "code",
   "execution_count": null,
   "metadata": {},
   "outputs": [
    {
     "name": "stdout",
     "output_type": "stream",
     "text": [
      "Model: \"model\"\n",
      "__________________________________________________________________________________________________\n",
      " Layer (type)                   Output Shape         Param #     Connected to                     \n",
      "==================================================================================================\n",
      " input_1 (InputLayer)           [(None, 199)]        0           []                               \n",
      "                                                                                                  \n",
      " dense (Dense)                  (None, 128)          25600       ['input_1[0][0]']                \n",
      "                                                                                                  \n",
      " tf.expand_dims (TFOpLambda)    (None, 1, 128)       0           ['dense[0][0]']                  \n",
      "                                                                                                  \n",
      " multi_head_attention (MultiHea  (None, 1, 128)      131968      ['tf.expand_dims[0][0]',         \n",
      " dAttention)                                                      'tf.expand_dims[0][0]']         \n",
      "                                                                                                  \n",
      " dropout (Dropout)              (None, 1, 128)       0           ['multi_head_attention[0][0]']   \n",
      "                                                                                                  \n",
      " tf.compat.v1.squeeze (TFOpLamb  (None, 128)         0           ['dropout[0][0]']                \n",
      " da)                                                                                              \n",
      "                                                                                                  \n",
      " add (Add)                      (None, 128)          0           ['dense[0][0]',                  \n",
      "                                                                  'tf.compat.v1.squeeze[0][0]']   \n",
      "                                                                                                  \n",
      " layer_normalization (LayerNorm  (None, 128)         256         ['add[0][0]']                    \n",
      " alization)                                                                                       \n",
      "                                                                                                  \n",
      " dense_1 (Dense)                (None, 64)           8256        ['layer_normalization[0][0]']    \n",
      "                                                                                                  \n",
      " dropout_1 (Dropout)            (None, 64)           0           ['dense_1[0][0]']                \n",
      "                                                                                                  \n",
      " dense_2 (Dense)                (None, 32)           2080        ['dropout_1[0][0]']              \n",
      "                                                                                                  \n",
      " dense_3 (Dense)                (None, 1)            33          ['dense_2[0][0]']                \n",
      "                                                                                                  \n",
      "==================================================================================================\n",
      "Total params: 168,193\n",
      "Trainable params: 168,193\n",
      "Non-trainable params: 0\n",
      "__________________________________________________________________________________________________\n"
     ]
    }
   ],
   "source": [
    "from tensorflow.keras.models import Sequential\n",
    "from tensorflow.keras.layers import Dense, Dropout\n",
    "from tensorflow.keras.optimizers import Adam\n",
    "from tensorflow.keras.layers import Input, Dense, Dropout, MultiHeadAttention, LayerNormalization, Add\n",
    "from tensorflow.keras.models import Model\n",
    "from tensorflow.keras.activations import gelu\n",
    "\n",
    "# Adding a Transformer-based architecture with regularization to reduce overfitting\n",
    "tf.keras.backend.clear_session()\n",
    "\n",
    "# Define the input layer\n",
    "input_dim = X_train.shape[1]  # 199 features\n",
    "inputs = Input(shape=(input_dim,))\n",
    "\n",
    "# Add a dense layer to expand dimensions for attention\n",
    "dense_proj = Dense(128, activation=gelu, kernel_regularizer=tf.keras.regularizers.l2(0.01))(inputs)\n",
    "\n",
    "# Add a sequence length dimension for MultiHeadAttention\n",
    "dense_proj_expanded = tf.expand_dims(dense_proj, axis=1)\n",
    "\n",
    "# Add multi-head attention with dropout\n",
    "attention_output = MultiHeadAttention(num_heads=4, key_dim=64)(dense_proj_expanded, dense_proj_expanded)\n",
    "attention_output = Dropout(0.4)(attention_output)\n",
    "\n",
    "# Remove the sequence length dimension after attention\n",
    "attention_output = tf.squeeze(attention_output, axis=1)\n",
    "\n",
    "# Add residual connection and layer normalization\n",
    "attention_output = Add()([dense_proj, attention_output])\n",
    "attention_output = LayerNormalization()(attention_output)\n",
    "\n",
    "# Add a feed-forward network with regularization\n",
    "ffn_output = Dense(64, activation=gelu, kernel_regularizer=tf.keras.regularizers.l2(0.01))(attention_output)\n",
    "ffn_output = Dropout(0.4)(ffn_output)\n",
    "ffn_output = Dense(32, activation=gelu, kernel_regularizer=tf.keras.regularizers.l2(0.01))(ffn_output)\n",
    "\n",
    "# Output layer for regression\n",
    "outputs = Dense(1, activation='linear')(ffn_output)\n",
    "\n",
    "# Define the model\n",
    "model = Model(inputs=inputs, outputs=outputs)\n",
    "\n",
    "# Compilar el modelo con Adam y error cuadrático medio\n",
    "model.compile(optimizer=Adam(learning_rate=0.001),\n",
    "              loss='mean_squared_error',\n",
    "              metrics=['mae'])\n",
    "\n",
    "model.summary()"
   ]
  },
  {
   "cell_type": "code",
   "execution_count": 10,
   "metadata": {},
   "outputs": [
    {
     "name": "stdout",
     "output_type": "stream",
     "text": [
      "Epoch 1/5\n",
      "24195/24195 [==============================] - 145s 6ms/step - loss: 0.8266 - mae: 0.5915 - val_loss: 0.6719 - val_mae: 0.5746\n",
      "Epoch 2/5\n",
      "24195/24195 [==============================] - 152s 6ms/step - loss: 0.6705 - mae: 0.5515 - val_loss: 0.6660 - val_mae: 0.5097\n",
      "Epoch 3/5\n",
      "24195/24195 [==============================] - 151s 6ms/step - loss: 0.6576 - mae: 0.5410 - val_loss: 0.6757 - val_mae: 0.5698\n",
      "Epoch 4/5\n",
      "24195/24195 [==============================] - 156s 6ms/step - loss: 0.6475 - mae: 0.5365 - val_loss: 0.6443 - val_mae: 0.5389\n",
      "Epoch 5/5\n",
      "24195/24195 [==============================] - 150s 6ms/step - loss: 0.6352 - mae: 0.5326 - val_loss: 0.6222 - val_mae: 0.5416\n",
      "6049/6049 [==============================] - 17s 3ms/step - loss: 0.6222 - mae: 0.5416\n",
      "Test Loss: 0.6222161650657654\n",
      "Test MAE: 0.5416368842124939\n"
     ]
    }
   ],
   "source": [
    "tf.keras.backend.clear_session()\n",
    "history = model.fit(X_train, y_train, \n",
    "                    validation_data=(X_test, y_test),\n",
    "                    epochs=5, \n",
    "                    batch_size=32)\n",
    "\n",
    "# Evaluar el modelo en el conjunto de test\n",
    "loss, mae = model.evaluate(X_test, y_test, batch_size=32)\n",
    "print(\"Test Loss:\", loss)\n",
    "print(\"Test MAE:\", mae)"
   ]
  },
  {
   "cell_type": "code",
   "execution_count": null,
   "metadata": {},
   "outputs": [
    {
     "name": "stdout",
     "output_type": "stream",
     "text": [
      "Model: \"model\"\n",
      "__________________________________________________________________________________________________\n",
      " Layer (type)                   Output Shape         Param #     Connected to                     \n",
      "==================================================================================================\n",
      " input_1 (InputLayer)           [(None, 199)]        0           []                               \n",
      "                                                                                                  \n",
      " dense (Dense)                  (None, 128)          25600       ['input_1[0][0]']                \n",
      "                                                                                                  \n",
      " tf.expand_dims (TFOpLambda)    (None, 1, 128)       0           ['dense[0][0]']                  \n",
      "                                                                                                  \n",
      " multi_head_attention (MultiHea  (None, 1, 128)      66048       ['tf.expand_dims[0][0]',         \n",
      " dAttention)                                                      'tf.expand_dims[0][0]']         \n",
      "                                                                                                  \n",
      " dropout (Dropout)              (None, 1, 128)       0           ['multi_head_attention[0][0]']   \n",
      "                                                                                                  \n",
      " tf.compat.v1.squeeze (TFOpLamb  (None, 128)         0           ['dropout[0][0]']                \n",
      " da)                                                                                              \n",
      "                                                                                                  \n",
      " add (Add)                      (None, 128)          0           ['dense[0][0]',                  \n",
      "                                                                  'tf.compat.v1.squeeze[0][0]']   \n",
      "                                                                                                  \n",
      " layer_normalization (LayerNorm  (None, 128)         256         ['add[0][0]']                    \n",
      " alization)                                                                                       \n",
      "                                                                                                  \n",
      " dense_1 (Dense)                (None, 64)           8256        ['layer_normalization[0][0]']    \n",
      "                                                                                                  \n",
      " dropout_1 (Dropout)            (None, 64)           0           ['dense_1[0][0]']                \n",
      "                                                                                                  \n",
      " dense_2 (Dense)                (None, 32)           2080        ['dropout_1[0][0]']              \n",
      "                                                                                                  \n",
      " dense_3 (Dense)                (None, 1)            33          ['dense_2[0][0]']                \n",
      "                                                                                                  \n",
      "==================================================================================================\n",
      "Total params: 102,273\n",
      "Trainable params: 102,273\n",
      "Non-trainable params: 0\n",
      "__________________________________________________________________________________________________\n"
     ]
    }
   ],
   "source": [
    "from tensorflow.keras.models import Sequential\n",
    "from tensorflow.keras.layers import Dense, Dropout\n",
    "from tensorflow.keras.optimizers import Adam\n",
    "from tensorflow.keras.layers import Input, Dense, Dropout, MultiHeadAttention, LayerNormalization, Add\n",
    "from tensorflow.keras.models import Model\n",
    "from tensorflow.keras.activations import gelu\n",
    "\n",
    "# Adding a Transformer-based architecture with regularization to reduce overfitting\n",
    "\n",
    "# Define the input layer\n",
    "input_dim = X_train.shape[1]  # 199 features\n",
    "inputs = Input(shape=(input_dim,))\n",
    "\n",
    "# Add a dense layer to expand dimensions for attention\n",
    "dense_proj = Dense(128, activation=gelu, kernel_regularizer=tf.keras.regularizers.l2(0.01))(inputs)\n",
    "\n",
    "# Add a sequence length dimension for MultiHeadAttention\n",
    "dense_proj_expanded = tf.expand_dims(dense_proj, axis=1)\n",
    "\n",
    "# Increase the number of attention heads and key dimensions\n",
    "attention_output = MultiHeadAttention(num_heads=8, key_dim=128)(dense_proj_expanded, dense_proj_expanded)\n",
    "attention_output = Dropout(0.3)(attention_output)\n",
    "\n",
    "# Add another feed-forward layer\n",
    "ffn_output = Dense(128, activation=gelu, kernel_regularizer=tf.keras.regularizers.l2(0.01))(attention_output)\n",
    "ffn_output = Dropout(0.3)(ffn_output)\n",
    "ffn_output = Dense(64, activation=gelu, kernel_regularizer=tf.keras.regularizers.l2(0.01))(ffn_output)\n",
    "ffn_output = Dropout(0.3)(ffn_output)\n",
    "ffn_output = Dense(32, activation=gelu, kernel_regularizer=tf.keras.regularizers.l2(0.01))(ffn_output)\n",
    "\n",
    "# Compile with a learning rate scheduler\n",
    "lr_schedule = tf.keras.optimizers.schedules.ExponentialDecay(\n",
    "    initial_learning_rate=0.0001,\n",
    "    decay_steps=10_000,\n",
    "    decay_rate=0.9\n",
    ")\n",
    "model.compile(optimizer=Adam(learning_rate=lr_schedule),\n",
    "              loss='mean_squared_error',\n",
    "              metrics=['mae'])\n",
    "\n",
    "model.summary()"
   ]
  },
  {
   "cell_type": "code",
   "execution_count": 10,
   "metadata": {},
   "outputs": [
    {
     "name": "stdout",
     "output_type": "stream",
     "text": [
      "Epoch 1/5\n",
      "24195/24195 [==============================] - 139s 6ms/step - loss: 0.4349 - mae: 0.4485 - val_loss: 0.5664 - val_mae: 0.5999\n",
      "Epoch 2/5\n",
      "24195/24195 [==============================] - 134s 6ms/step - loss: 0.4304 - mae: 0.4450 - val_loss: 0.5556 - val_mae: 0.5931\n",
      "Epoch 3/5\n",
      "24195/24195 [==============================] - 138s 6ms/step - loss: 0.4284 - mae: 0.4435 - val_loss: 0.5624 - val_mae: 0.5982\n",
      "Epoch 4/5\n",
      "24195/24195 [==============================] - 137s 6ms/step - loss: 0.4270 - mae: 0.4426 - val_loss: 0.5599 - val_mae: 0.5968\n",
      "Epoch 5/5\n",
      "24195/24195 [==============================] - 150s 6ms/step - loss: 0.4259 - mae: 0.4421 - val_loss: 0.5614 - val_mae: 0.5976\n",
      "6049/6049 [==============================] - 14s 2ms/step - loss: 0.5614 - mae: 0.5976\n",
      "Test Loss: 0.5614352226257324\n",
      "Test MAE: 0.5976006388664246\n"
     ]
    }
   ],
   "source": [
    "tf.keras.backend.clear_session()\n",
    "history = model.fit(X_train, y_train, \n",
    "                    validation_data=(X_test, y_test),\n",
    "                    epochs=5, \n",
    "                    batch_size=32)\n",
    "\n",
    "# Evaluar el modelo en el conjunto de test\n",
    "loss, mae = model.evaluate(X_test, y_test, batch_size=32)\n",
    "print(\"Test Loss:\", loss)\n",
    "print(\"Test MAE:\", mae)"
   ]
  },
  {
   "cell_type": "code",
   "execution_count": 8,
   "metadata": {},
   "outputs": [
    {
     "name": "stdout",
     "output_type": "stream",
     "text": [
      "Model: \"model\"\n",
      "__________________________________________________________________________________________________\n",
      " Layer (type)                   Output Shape         Param #     Connected to                     \n",
      "==================================================================================================\n",
      " input_2 (InputLayer)           [(None, 199)]        0           []                               \n",
      "                                                                                                  \n",
      " dense (Dense)                  (None, 128)          25600       ['input_2[0][0]']                \n",
      "                                                                                                  \n",
      " tf.expand_dims (TFOpLambda)    (None, 1, 128)       0           ['dense[0][0]']                  \n",
      "                                                                                                  \n",
      " multi_head_attention (MultiHea  (None, 1, 128)      527488      ['tf.expand_dims[0][0]',         \n",
      " dAttention)                                                      'tf.expand_dims[0][0]']         \n",
      "                                                                                                  \n",
      " dropout (Dropout)              (None, 1, 128)       0           ['multi_head_attention[0][0]']   \n",
      "                                                                                                  \n",
      " dense_1 (Dense)                (None, 1, 128)       16512       ['dropout[0][0]']                \n",
      "                                                                                                  \n",
      " dropout_1 (Dropout)            (None, 1, 128)       0           ['dense_1[0][0]']                \n",
      "                                                                                                  \n",
      " dense_2 (Dense)                (None, 1, 64)        8256        ['dropout_1[0][0]']              \n",
      "                                                                                                  \n",
      " dropout_2 (Dropout)            (None, 1, 64)        0           ['dense_2[0][0]']                \n",
      "                                                                                                  \n",
      " dense_3 (Dense)                (None, 1, 32)        2080        ['dropout_2[0][0]']              \n",
      "                                                                                                  \n",
      " dense_4 (Dense)                (None, 1, 1)         33          ['dense_3[0][0]']                \n",
      "                                                                                                  \n",
      "==================================================================================================\n",
      "Total params: 579,969\n",
      "Trainable params: 579,969\n",
      "Non-trainable params: 0\n",
      "__________________________________________________________________________________________________\n"
     ]
    }
   ],
   "source": [
    "from tensorflow.keras.models import Sequential\n",
    "from tensorflow.keras.layers import Dense, Dropout\n",
    "from tensorflow.keras.optimizers import Adam\n",
    "from tensorflow.keras.layers import Input, Dense, Dropout, MultiHeadAttention, LayerNormalization, Add\n",
    "from tensorflow.keras.models import Model\n",
    "from tensorflow.keras.activations import gelu\n",
    "import tensorflow as tf\n",
    "# Adding a Transformer-based architecture with regularization to reduce overfitting\n",
    "\n",
    "# Define the input layer\n",
    "input_dim = X_train.shape[1]  # 199 features\n",
    "inputs = Input(shape=(input_dim,))\n",
    "\n",
    "# Add a dense layer to expand dimensions for attention\n",
    "dense_proj = Dense(128, activation=gelu, kernel_regularizer=tf.keras.regularizers.l2(0.01))(inputs)\n",
    "\n",
    "# Add a sequence length dimension for MultiHeadAttention\n",
    "dense_proj_expanded = tf.expand_dims(dense_proj, axis=1)\n",
    "\n",
    "# Increase the number of attention heads and key dimensions\n",
    "attention_output = MultiHeadAttention(num_heads=8, key_dim=128)(dense_proj_expanded, dense_proj_expanded)\n",
    "attention_output = Dropout(0.3)(attention_output)\n",
    "\n",
    "# Add another feed-forward layer\n",
    "ffn_output = Dense(128, activation=gelu, kernel_regularizer=tf.keras.regularizers.l2(0.01))(attention_output)\n",
    "ffn_output = Dropout(0.3)(ffn_output)\n",
    "ffn_output = Dense(64, activation=gelu, kernel_regularizer=tf.keras.regularizers.l2(0.01))(ffn_output)\n",
    "ffn_output = Dropout(0.3)(ffn_output)\n",
    "ffn_output = Dense(32, activation=gelu, kernel_regularizer=tf.keras.regularizers.l2(0.01))(ffn_output)\n",
    "\n",
    "\n",
    "# Output layer for regression\n",
    "outputs = Dense(1, activation='linear')(ffn_output)\n",
    "\n",
    "# Define the model\n",
    "model = Model(inputs=inputs, outputs=outputs)\n",
    "\n",
    "# Compile with a learning rate scheduler\n",
    "lr_schedule = tf.keras.optimizers.schedules.ExponentialDecay(\n",
    "    initial_learning_rate=0.00001,\n",
    "    decay_steps=10_000,\n",
    "    decay_rate=0.9\n",
    ")\n",
    "model.compile(optimizer=Adam(learning_rate=lr_schedule),\n",
    "              loss='mean_squared_error',\n",
    "              metrics=['mae'])\n",
    "\n",
    "model.summary()"
   ]
  },
  {
   "cell_type": "code",
   "execution_count": 9,
   "metadata": {},
   "outputs": [
    {
     "name": "stdout",
     "output_type": "stream",
     "text": [
      "Epoch 1/5\n",
      "24195/24195 [==============================] - 192s 8ms/step - loss: 4.1024 - mae: 1.0146 - val_loss: 2.3403 - val_mae: 0.7784\n",
      "Epoch 2/5\n",
      "24195/24195 [==============================] - 183s 8ms/step - loss: 1.9737 - mae: 0.7322 - val_loss: 1.5796 - val_mae: 0.6801\n",
      "Epoch 3/5\n",
      "24195/24195 [==============================] - 186s 8ms/step - loss: 1.4835 - mae: 0.6572 - val_loss: 1.3079 - val_mae: 0.6516\n",
      "Epoch 4/5\n",
      "24195/24195 [==============================] - 185s 8ms/step - loss: 1.2816 - mae: 0.6272 - val_loss: 1.1824 - val_mae: 0.6433\n",
      "Epoch 5/5\n",
      "24195/24195 [==============================] - 189s 8ms/step - loss: 1.1759 - mae: 0.6114 - val_loss: 1.1126 - val_mae: 0.6382\n",
      "6049/6049 [==============================] - 27s 4ms/step - loss: 1.1126 - mae: 0.6382\n",
      "Test Loss: 1.112573266029358\n",
      "Test MAE: 0.6381887197494507\n"
     ]
    }
   ],
   "source": [
    "tf.keras.backend.clear_session()\n",
    "history = model.fit(X_train, y_train, \n",
    "                    validation_data=(X_test, y_test),\n",
    "                    epochs=5, \n",
    "                    batch_size=32)\n",
    "\n",
    "# Evaluar el modelo en el conjunto de test\n",
    "loss, mae = model.evaluate(X_test, y_test, batch_size=32)\n",
    "print(\"Test Loss:\", loss)\n",
    "print(\"Test MAE:\", mae)"
   ]
  },
  {
   "cell_type": "code",
   "execution_count": 10,
   "metadata": {},
   "outputs": [
    {
     "name": "stdout",
     "output_type": "stream",
     "text": [
      "Model: \"model\"\n",
      "__________________________________________________________________________________________________\n",
      " Layer (type)                   Output Shape         Param #     Connected to                     \n",
      "==================================================================================================\n",
      " input_1 (InputLayer)           [(None, 199)]        0           []                               \n",
      "                                                                                                  \n",
      " dense (Dense)                  (None, 128)          25600       ['input_1[0][0]']                \n",
      "                                                                                                  \n",
      " tf.expand_dims (TFOpLambda)    (None, 1, 128)       0           ['dense[0][0]']                  \n",
      "                                                                                                  \n",
      " multi_head_attention (MultiHea  (None, 1, 128)      131968      ['tf.expand_dims[0][0]',         \n",
      " dAttention)                                                      'tf.expand_dims[0][0]']         \n",
      "                                                                                                  \n",
      " dropout (Dropout)              (None, 1, 128)       0           ['multi_head_attention[0][0]']   \n",
      "                                                                                                  \n",
      " dense_1 (Dense)                (None, 1, 64)        8256        ['dropout[0][0]']                \n",
      "                                                                                                  \n",
      " dropout_1 (Dropout)            (None, 1, 64)        0           ['dense_1[0][0]']                \n",
      "                                                                                                  \n",
      " dense_2 (Dense)                (None, 1, 32)        2080        ['dropout_1[0][0]']              \n",
      "                                                                                                  \n",
      " dropout_2 (Dropout)            (None, 1, 32)        0           ['dense_2[0][0]']                \n",
      "                                                                                                  \n",
      " dense_3 (Dense)                (None, 1, 16)        528         ['dropout_2[0][0]']              \n",
      "                                                                                                  \n",
      " dense_4 (Dense)                (None, 1, 1)         17          ['dense_3[0][0]']                \n",
      "                                                                                                  \n",
      "==================================================================================================\n",
      "Total params: 168,449\n",
      "Trainable params: 168,449\n",
      "Non-trainable params: 0\n",
      "__________________________________________________________________________________________________\n"
     ]
    }
   ],
   "source": [
    "from tensorflow.keras.models import Sequential\n",
    "from tensorflow.keras.layers import Dense, Dropout\n",
    "from tensorflow.keras.optimizers import Adam\n",
    "from tensorflow.keras.layers import Input, Dense, Dropout, MultiHeadAttention, LayerNormalization, Add\n",
    "from tensorflow.keras.models import Model\n",
    "from tensorflow.keras.activations import gelu\n",
    "import tensorflow as tf\n",
    "\n",
    "# Adding a Transformer-based architecture with regularization to reduce overfitting\n",
    "\n",
    "# Define the input layer\n",
    "input_dim = X_train.shape[1]  # 199 features\n",
    "inputs = Input(shape=(input_dim,))\n",
    "\n",
    "# Add a dense layer to expand dimensions for attention\n",
    "dense_proj = Dense(128, activation=gelu, kernel_regularizer=tf.keras.regularizers.l2(0.01))(inputs)\n",
    "\n",
    "# Add a sequence length dimension for MultiHeadAttention\n",
    "dense_proj_expanded = tf.expand_dims(dense_proj, axis=1)\n",
    "\n",
    "# Increase the number of attention heads and key dimensions\n",
    "attention_output = MultiHeadAttention(num_heads=4, key_dim=64)(dense_proj_expanded, dense_proj_expanded)\n",
    "attention_output = Dropout(0.3)(attention_output)\n",
    "\n",
    "# Add another feed-forward layer\n",
    "ffn_output = Dense(64, activation=gelu, kernel_regularizer=tf.keras.regularizers.l2(0.01))(attention_output)\n",
    "ffn_output = Dropout(0.3)(ffn_output)\n",
    "ffn_output = Dense(32, activation=gelu, kernel_regularizer=tf.keras.regularizers.l2(0.01))(ffn_output)\n",
    "ffn_output = Dropout(0.3)(ffn_output)\n",
    "ffn_output = Dense(16, activation=gelu, kernel_regularizer=tf.keras.regularizers.l2(0.01))(ffn_output)\n",
    "\n",
    "# Output layer for regression\n",
    "outputs = Dense(1, activation='linear')(ffn_output)\n",
    "\n",
    "# Define the model\n",
    "model = Model(inputs=inputs, outputs=outputs)\n",
    "\n",
    "# Compile with a learning rate scheduler\n",
    "lr_schedule = tf.keras.optimizers.schedules.ExponentialDecay(\n",
    "    initial_learning_rate=0.0001,\n",
    "    decay_steps=10_000,\n",
    "    decay_rate=0.9\n",
    ")\n",
    "model.compile(optimizer=Adam(learning_rate=lr_schedule),\n",
    "              loss='mean_squared_error',\n",
    "              metrics=['mae'])\n",
    "\n",
    "model.summary()"
   ]
  },
  {
   "cell_type": "code",
   "execution_count": 11,
   "metadata": {},
   "outputs": [
    {
     "name": "stdout",
     "output_type": "stream",
     "text": [
      "Epoch 1/5\n",
      "24195/24195 [==============================] - 192s 8ms/step - loss: 1.4597 - mae: 0.6956 - val_loss: 0.7645 - val_mae: 0.5805\n",
      "Epoch 2/5\n",
      "24195/24195 [==============================] - 188s 8ms/step - loss: 0.7176 - mae: 0.5529 - val_loss: 0.6536 - val_mae: 0.5384\n",
      "Epoch 3/5\n",
      "24195/24195 [==============================] - 188s 8ms/step - loss: 0.6584 - mae: 0.5360 - val_loss: 0.6446 - val_mae: 0.5365\n",
      "Epoch 4/5\n",
      "24195/24195 [==============================] - 186s 8ms/step - loss: 0.6323 - mae: 0.5276 - val_loss: 0.6071 - val_mae: 0.5204\n",
      "Epoch 5/5\n",
      "24195/24195 [==============================] - 187s 8ms/step - loss: 0.6155 - mae: 0.5195 - val_loss: 0.5896 - val_mae: 0.5050\n",
      "6049/6049 [==============================] - 26s 4ms/step - loss: 0.5896 - mae: 0.5050\n",
      "Test Loss: 0.589614748954773\n",
      "Test MAE: 0.5050389170646667\n"
     ]
    }
   ],
   "source": [
    "tf.keras.backend.clear_session()\n",
    "history = model.fit(X_train, y_train, \n",
    "                    validation_data=(X_test, y_test),\n",
    "                    epochs=5, \n",
    "                    batch_size=32)\n",
    "\n",
    "# Evaluar el modelo en el conjunto de test\n",
    "loss, mae = model.evaluate(X_test, y_test, batch_size=32)\n",
    "print(\"Test Loss:\", loss)\n",
    "print(\"Test MAE:\", mae)"
   ]
  },
  {
   "cell_type": "code",
   "execution_count": null,
   "metadata": {},
   "outputs": [
    {
     "name": "stdout",
     "output_type": "stream",
     "text": [
      "Model: \"model_2\"\n",
      "__________________________________________________________________________________________________\n",
      " Layer (type)                   Output Shape         Param #     Connected to                     \n",
      "==================================================================================================\n",
      " input_3 (InputLayer)           [(None, 199)]        0           []                               \n",
      "                                                                                                  \n",
      " dense_8 (Dense)                (None, 128)          25600       ['input_3[0][0]']                \n",
      "                                                                                                  \n",
      " layer_normalization_8 (LayerNo  (None, 128)         256         ['dense_8[0][0]']                \n",
      " rmalization)                                                                                     \n",
      "                                                                                                  \n",
      " tf.expand_dims_4 (TFOpLambda)  (None, 1, 128)       0           ['layer_normalization_8[0][0]']  \n",
      "                                                                                                  \n",
      " multi_head_attention_4 (MultiH  (None, 1, 128)      131968      ['tf.expand_dims_4[0][0]',       \n",
      " eadAttention)                                                    'tf.expand_dims_4[0][0]']       \n",
      "                                                                                                  \n",
      " dropout_6 (Dropout)            (None, 1, 128)       0           ['multi_head_attention_4[0][0]'] \n",
      "                                                                                                  \n",
      " tf.compat.v1.squeeze_4 (TFOpLa  (None, 128)         0           ['dropout_6[0][0]']              \n",
      " mbda)                                                                                            \n",
      "                                                                                                  \n",
      " add_4 (Add)                    (None, 128)          0           ['layer_normalization_8[0][0]',  \n",
      "                                                                  'tf.compat.v1.squeeze_4[0][0]'] \n",
      "                                                                                                  \n",
      " layer_normalization_9 (LayerNo  (None, 128)         256         ['add_4[0][0]']                  \n",
      " rmalization)                                                                                     \n",
      "                                                                                                  \n",
      " tf.expand_dims_5 (TFOpLambda)  (None, 1, 128)       0           ['layer_normalization_9[0][0]']  \n",
      "                                                                                                  \n",
      " multi_head_attention_5 (MultiH  (None, 1, 128)      66048       ['tf.expand_dims_5[0][0]',       \n",
      " eadAttention)                                                    'tf.expand_dims_5[0][0]']       \n",
      "                                                                                                  \n",
      " dropout_7 (Dropout)            (None, 1, 128)       0           ['multi_head_attention_5[0][0]'] \n",
      "                                                                                                  \n",
      " tf.compat.v1.squeeze_5 (TFOpLa  (None, 128)         0           ['dropout_7[0][0]']              \n",
      " mbda)                                                                                            \n",
      "                                                                                                  \n",
      " add_5 (Add)                    (None, 128)          0           ['layer_normalization_9[0][0]',  \n",
      "                                                                  'tf.compat.v1.squeeze_5[0][0]'] \n",
      "                                                                                                  \n",
      " layer_normalization_10 (LayerN  (None, 128)         256         ['add_5[0][0]']                  \n",
      " ormalization)                                                                                    \n",
      "                                                                                                  \n",
      " dense_9 (Dense)                (None, 128)          16512       ['layer_normalization_10[0][0]'] \n",
      "                                                                                                  \n",
      " layer_normalization_11 (LayerN  (None, 128)         256         ['dense_9[0][0]']                \n",
      " ormalization)                                                                                    \n",
      "                                                                                                  \n",
      " dropout_8 (Dropout)            (None, 128)          0           ['layer_normalization_11[0][0]'] \n",
      "                                                                                                  \n",
      " dense_10 (Dense)               (None, 32)           4128        ['dropout_8[0][0]']              \n",
      "                                                                                                  \n",
      " dense_11 (Dense)               (None, 1)            33          ['dense_10[0][0]']               \n",
      "                                                                                                  \n",
      "==================================================================================================\n",
      "Total params: 245,313\n",
      "Trainable params: 245,313\n",
      "Non-trainable params: 0\n",
      "__________________________________________________________________________________________________\n"
     ]
    }
   ],
   "source": [
    "from tensorflow.keras.models import Model\n",
    "from tensorflow.keras.layers import Input, Dense, Dropout, MultiHeadAttention, LayerNormalization, Add\n",
    "from tensorflow.keras.optimizers import Adam\n",
    "from tensorflow.keras.activations import gelu\n",
    "import tensorflow as tf\n",
    "\n",
    "# Adding a Transformer-based architecture with reduced heads and additional attention layer\n",
    "\n",
    "# Define the input layer\n",
    "input_dim = X_train.shape[1]  # 199 features\n",
    "inputs = Input(shape=(input_dim,))\n",
    "\n",
    "# Add a dense layer to expand dimensions for attention\n",
    "dense_proj = Dense(128, activation=gelu, kernel_regularizer=tf.keras.regularizers.l2(0.02))(inputs)\n",
    "dense_proj = LayerNormalization()(dense_proj)  # Add layer normalization\n",
    "\n",
    "# Add a sequence length dimension for MultiHeadAttention\n",
    "dense_proj_expanded = tf.expand_dims(dense_proj, axis=1)\n",
    "\n",
    "# First MultiHeadAttention layer with reduced heads\n",
    "attention_output_1 = MultiHeadAttention(num_heads=4, key_dim=64)(dense_proj_expanded, dense_proj_expanded)\n",
    "attention_output_1 = Dropout(0.4)(attention_output_1)\n",
    "\n",
    "# Remove the sequence length dimension after attention\n",
    "attention_output_1 = tf.squeeze(attention_output_1, axis=1)\n",
    "\n",
    "# Add residual connection and layer normalization\n",
    "attention_output_1 = Add()([dense_proj, attention_output_1])\n",
    "attention_output_1 = LayerNormalization()(attention_output_1)\n",
    "\n",
    "# Second MultiHeadAttention layer\n",
    "attention_output_2 = tf.expand_dims(attention_output_1, axis=1)\n",
    "attention_output_2 = MultiHeadAttention(num_heads=2, key_dim=64)(attention_output_2, attention_output_2)\n",
    "attention_output_2 = Dropout(0.4)(attention_output_2)\n",
    "\n",
    "# Remove the sequence length dimension after attention\n",
    "attention_output_2 = tf.squeeze(attention_output_2, axis=1)\n",
    "\n",
    "# Add residual connection and layer normalization\n",
    "attention_output_2 = Add()([attention_output_1, attention_output_2])\n",
    "attention_output_2 = LayerNormalization()(attention_output_2)\n",
    "\n",
    "# Add a feed-forward network with increased regularization\n",
    "ffn_output = Dense(128, activation=gelu, kernel_regularizer=tf.keras.regularizers.l2(0.02))(attention_output_2)\n",
    "ffn_output = LayerNormalization()(ffn_output)  # Add layer normalization\n",
    "ffn_output = Dropout(0.4)(ffn_output)\n",
    "ffn_output = Dense(32, activation=gelu, kernel_regularizer=tf.keras.regularizers.l2(0.02))(ffn_output)\n",
    "\n",
    "# Output layer for regression\n",
    "outputs = Dense(1, activation='linear')(ffn_output)\n",
    "\n",
    "# Define the model\n",
    "model = Model(inputs=inputs, outputs=outputs)\n",
    "\n",
    "# Compile with a learning rate scheduler\n",
    "lr_schedule = tf.keras.optimizers.schedules.ExponentialDecay(\n",
    "    initial_learning_rate=0.0005,\n",
    "    decay_steps=10_000,\n",
    "    decay_rate=0.9\n",
    ")\n",
    "model.compile(optimizer=Adam(learning_rate=lr_schedule),\n",
    "              loss='mean_squared_error',\n",
    "              metrics=['mae'])\n",
    "\n",
    "model.summary()"
   ]
  },
  {
   "cell_type": "code",
   "execution_count": 7,
   "metadata": {},
   "outputs": [],
   "source": [
    "import tensorflow as tf\n",
    "\n",
    "tf.keras.backend.clear_session()\n",
    "# Move X_train and y_train to GPU\n",
    "X_train_gpu = tf.convert_to_tensor(X_train)\n",
    "y_train_gpu = tf.convert_to_tensor(y_train)\n",
    "X_test_gpu = tf.convert_to_tensor(X_test)\n",
    "y_test_gpu = tf.convert_to_tensor(y_test)"
   ]
  },
  {
   "cell_type": "code",
   "execution_count": 14,
   "metadata": {},
   "outputs": [
    {
     "name": "stdout",
     "output_type": "stream",
     "text": [
      "Epoch 1/5\n",
      "24195/24195 [==============================] - 295s 12ms/step - loss: 0.8559 - mae: 0.5746 - val_loss: 0.6462 - val_mae: 0.6017\n",
      "Epoch 2/5\n",
      "24195/24195 [==============================] - 294s 12ms/step - loss: 0.5945 - mae: 0.5228 - val_loss: 0.7473 - val_mae: 0.6842\n",
      "Epoch 3/5\n",
      "24195/24195 [==============================] - 292s 12ms/step - loss: 0.5685 - mae: 0.5083 - val_loss: 0.7389 - val_mae: 0.6843\n",
      "Epoch 4/5\n",
      "24195/24195 [==============================] - 294s 12ms/step - loss: 0.5511 - mae: 0.4997 - val_loss: 0.6352 - val_mae: 0.6276\n",
      "Epoch 5/5\n",
      "24195/24195 [==============================] - 294s 12ms/step - loss: 0.5388 - mae: 0.4937 - val_loss: 0.6664 - val_mae: 0.6512\n",
      "6049/6049 [==============================] - 39s 6ms/step - loss: 0.6664 - mae: 0.6512\n",
      "Test Loss: 0.6663885116577148\n",
      "Test MAE: 0.6511966586112976\n"
     ]
    }
   ],
   "source": [
    "history = model.fit(X_train_gpu, y_train_gpu, \n",
    "                    validation_data=(X_test, y_test),\n",
    "                    epochs=5, \n",
    "                    batch_size=32)\n",
    "\n",
    "# Evaluar el modelo en el conjunto de test\n",
    "loss, mae = model.evaluate(X_test_gpu, y_test_gpu, batch_size=32)\n",
    "print(\"Test Loss:\", loss)\n",
    "print(\"Test MAE:\", mae)"
   ]
  },
  {
   "cell_type": "code",
   "execution_count": 15,
   "metadata": {},
   "outputs": [
    {
     "name": "stdout",
     "output_type": "stream",
     "text": [
      "Model: \"model\"\n",
      "__________________________________________________________________________________________________\n",
      " Layer (type)                   Output Shape         Param #     Connected to                     \n",
      "==================================================================================================\n",
      " input_1 (InputLayer)           [(None, 199)]        0           []                               \n",
      "                                                                                                  \n",
      " dense (Dense)                  (None, 128)          25600       ['input_1[0][0]']                \n",
      "                                                                                                  \n",
      " tf.expand_dims (TFOpLambda)    (None, 1, 128)       0           ['dense[0][0]']                  \n",
      "                                                                                                  \n",
      " multi_head_attention (MultiHea  (None, 1, 128)      527488      ['tf.expand_dims[0][0]',         \n",
      " dAttention)                                                      'tf.expand_dims[0][0]']         \n",
      "                                                                                                  \n",
      " dropout (Dropout)              (None, 1, 128)       0           ['multi_head_attention[0][0]']   \n",
      "                                                                                                  \n",
      " tf.compat.v1.squeeze (TFOpLamb  (None, 128)         0           ['dropout[0][0]']                \n",
      " da)                                                                                              \n",
      "                                                                                                  \n",
      " add (Add)                      (None, 128)          0           ['dense[0][0]',                  \n",
      "                                                                  'tf.compat.v1.squeeze[0][0]']   \n",
      "                                                                                                  \n",
      " layer_normalization (LayerNorm  (None, 128)         256         ['add[0][0]']                    \n",
      " alization)                                                                                       \n",
      "                                                                                                  \n",
      " dense_1 (Dense)                (None, 128)          16512       ['layer_normalization[0][0]']    \n",
      "                                                                                                  \n",
      " dropout_1 (Dropout)            (None, 128)          0           ['dense_1[0][0]']                \n",
      "                                                                                                  \n",
      " dense_2 (Dense)                (None, 64)           8256        ['dropout_1[0][0]']              \n",
      "                                                                                                  \n",
      " dropout_2 (Dropout)            (None, 64)           0           ['dense_2[0][0]']                \n",
      "                                                                                                  \n",
      " dense_3 (Dense)                (None, 32)           2080        ['dropout_2[0][0]']              \n",
      "                                                                                                  \n",
      " dropout_3 (Dropout)            (None, 32)           0           ['dense_3[0][0]']                \n",
      "                                                                                                  \n",
      " dense_4 (Dense)                (None, 16)           528         ['dropout_3[0][0]']              \n",
      "                                                                                                  \n",
      " dense_5 (Dense)                (None, 1)            17          ['dense_4[0][0]']                \n",
      "                                                                                                  \n",
      "==================================================================================================\n",
      "Total params: 580,737\n",
      "Trainable params: 580,737\n",
      "Non-trainable params: 0\n",
      "__________________________________________________________________________________________________\n"
     ]
    }
   ],
   "source": [
    "from tensorflow.keras.models import Sequential\n",
    "from tensorflow.keras.layers import Dense, Dropout\n",
    "from tensorflow.keras.optimizers import Adam\n",
    "from tensorflow.keras.layers import Input, Dense, Dropout, MultiHeadAttention, LayerNormalization, Add\n",
    "from tensorflow.keras.models import Model\n",
    "from tensorflow.keras.activations import gelu\n",
    "\n",
    "# Adding a Transformer-based architecture with regularization to reduce overfitting\n",
    "tf.keras.backend.clear_session()\n",
    "\n",
    "# Define the input layer\n",
    "input_dim = X_train.shape[1]  # 199 features\n",
    "inputs = Input(shape=(input_dim,))\n",
    "\n",
    "# Add a dense layer to expand dimensions for attention\n",
    "dense_proj = Dense(128, activation=gelu, kernel_regularizer=tf.keras.regularizers.l2(0.01))(inputs)\n",
    "\n",
    "# Add a sequence length dimension for MultiHeadAttention\n",
    "dense_proj_expanded = tf.expand_dims(dense_proj, axis=1)\n",
    "\n",
    "# Add multi-head attention with dropout\n",
    "attention_output = MultiHeadAttention(num_heads=8, key_dim=128)(dense_proj_expanded, dense_proj_expanded)\n",
    "attention_output = Dropout(0.4)(attention_output)\n",
    "\n",
    "# Remove the sequence length dimension after attention\n",
    "attention_output = tf.squeeze(attention_output, axis=1)\n",
    "\n",
    "# Add residual connection and layer normalization\n",
    "attention_output = Add()([dense_proj, attention_output])\n",
    "attention_output = LayerNormalization()(attention_output)\n",
    "\n",
    "# Add a feed-forward network with regularization\n",
    "ffn_output = Dense(128, activation=gelu, kernel_regularizer=tf.keras.regularizers.l2(0.01))(attention_output)\n",
    "ffn_output = Dropout(0.4)(ffn_output)\n",
    "ffn_output = Dense(64, activation=gelu, kernel_regularizer=tf.keras.regularizers.l2(0.01))(ffn_output)\n",
    "ffn_output = Dropout(0.4)(ffn_output)\n",
    "ffn_output = Dense(32, activation=gelu, kernel_regularizer=tf.keras.regularizers.l2(0.01))(ffn_output)\n",
    "ffn_output = Dropout(0.4)(ffn_output)\n",
    "ffn_output = Dense(16, activation=gelu, kernel_regularizer=tf.keras.regularizers.l2(0.01))(ffn_output)\n",
    "\n",
    "# Output layer for regression\n",
    "outputs = Dense(1, activation='linear')(ffn_output)\n",
    "\n",
    "# Define the model\n",
    "model = Model(inputs=inputs, outputs=outputs)\n",
    "\n",
    "lr_schedule = tf.keras.optimizers.schedules.ExponentialDecay(\n",
    "    initial_learning_rate=0.0005,\n",
    "    decay_steps=10_000,\n",
    "    decay_rate=0.9\n",
    ")\n",
    "# Compilar el modelo con Adam y error cuadrático medio\n",
    "model.compile(optimizer=Adam(learning_rate=lr_schedule),\n",
    "              loss='mean_squared_error',\n",
    "              metrics=['mae'])\n",
    "\n",
    "model.summary()"
   ]
  },
  {
   "cell_type": "code",
   "execution_count": 16,
   "metadata": {},
   "outputs": [
    {
     "name": "stdout",
     "output_type": "stream",
     "text": [
      "Epoch 1/5\n",
      "24195/24195 [==============================] - 189s 8ms/step - loss: 1.0712 - mae: 0.6150 - val_loss: 0.6572 - val_mae: 0.5111\n",
      "Epoch 2/5\n",
      "24195/24195 [==============================] - 207s 9ms/step - loss: 0.6676 - mae: 0.5377 - val_loss: 0.6273 - val_mae: 0.4997\n",
      "Epoch 3/5\n",
      "24195/24195 [==============================] - 201s 8ms/step - loss: 0.6311 - mae: 0.5249 - val_loss: 0.5901 - val_mae: 0.4936\n",
      "Epoch 4/5\n",
      "24195/24195 [==============================] - 217s 9ms/step - loss: 0.6102 - mae: 0.5186 - val_loss: 0.6033 - val_mae: 0.4826\n",
      "Epoch 5/5\n",
      "24195/24195 [==============================] - 219s 9ms/step - loss: 0.5952 - mae: 0.5136 - val_loss: 0.5736 - val_mae: 0.4678\n",
      "6049/6049 [==============================] - 21s 3ms/step - loss: 0.5736 - mae: 0.4678\n",
      "Test Loss: 0.5736496448516846\n",
      "Test MAE: 0.46783918142318726\n"
     ]
    }
   ],
   "source": [
    "history = model.fit(X_train_gpu, y_train_gpu, \n",
    "                    validation_data=(X_test, y_test),\n",
    "                    epochs=5, \n",
    "                    batch_size=32)\n",
    "\n",
    "# Evaluar el modelo en el conjunto de test\n",
    "loss, mae = model.evaluate(X_test_gpu, y_test_gpu, batch_size=32)\n",
    "print(\"Test Loss:\", loss)\n",
    "print(\"Test MAE:\", mae)"
   ]
  },
  {
   "cell_type": "code",
   "execution_count": null,
   "metadata": {},
   "outputs": [
    {
     "data": {
      "text/html": [
       "<pre style=\"white-space:pre;overflow-x:auto;line-height:normal;font-family:Menlo,'DejaVu Sans Mono',consolas,'Courier New',monospace\"><span style=\"font-weight: bold\">Model: \"functional\"</span>\n",
       "</pre>\n"
      ],
      "text/plain": [
       "\u001b[1mModel: \"functional\"\u001b[0m\n"
      ]
     },
     "metadata": {},
     "output_type": "display_data"
    },
    {
     "data": {
      "text/html": [
       "<pre style=\"white-space:pre;overflow-x:auto;line-height:normal;font-family:Menlo,'DejaVu Sans Mono',consolas,'Courier New',monospace\">┏━━━━━━━━━━━━━━━━━━━━━┳━━━━━━━━━━━━━━━━━━━┳━━━━━━━━━━━━┳━━━━━━━━━━━━━━━━━━━┓\n",
       "┃<span style=\"font-weight: bold\"> Layer (type)        </span>┃<span style=\"font-weight: bold\"> Output Shape      </span>┃<span style=\"font-weight: bold\">    Param # </span>┃<span style=\"font-weight: bold\"> Connected to      </span>┃\n",
       "┡━━━━━━━━━━━━━━━━━━━━━╇━━━━━━━━━━━━━━━━━━━╇━━━━━━━━━━━━╇━━━━━━━━━━━━━━━━━━━┩\n",
       "│ input_layer         │ (<span style=\"color: #00d7ff; text-decoration-color: #00d7ff\">None</span>, <span style=\"color: #00af00; text-decoration-color: #00af00\">199</span>)       │          <span style=\"color: #00af00; text-decoration-color: #00af00\">0</span> │ -                 │\n",
       "│ (<span style=\"color: #0087ff; text-decoration-color: #0087ff\">InputLayer</span>)        │                   │            │                   │\n",
       "├─────────────────────┼───────────────────┼────────────┼───────────────────┤\n",
       "│ dense (<span style=\"color: #0087ff; text-decoration-color: #0087ff\">Dense</span>)       │ (<span style=\"color: #00d7ff; text-decoration-color: #00d7ff\">None</span>, <span style=\"color: #00af00; text-decoration-color: #00af00\">256</span>)       │     <span style=\"color: #00af00; text-decoration-color: #00af00\">51,200</span> │ input_layer[<span style=\"color: #00af00; text-decoration-color: #00af00\">0</span>][<span style=\"color: #00af00; text-decoration-color: #00af00\">0</span>] │\n",
       "├─────────────────────┼───────────────────┼────────────┼───────────────────┤\n",
       "│ layer_normalization │ (<span style=\"color: #00d7ff; text-decoration-color: #00d7ff\">None</span>, <span style=\"color: #00af00; text-decoration-color: #00af00\">256</span>)       │        <span style=\"color: #00af00; text-decoration-color: #00af00\">512</span> │ dense[<span style=\"color: #00af00; text-decoration-color: #00af00\">0</span>][<span style=\"color: #00af00; text-decoration-color: #00af00\">0</span>]       │\n",
       "│ (<span style=\"color: #0087ff; text-decoration-color: #0087ff\">LayerNormalizatio…</span> │                   │            │                   │\n",
       "├─────────────────────┼───────────────────┼────────────┼───────────────────┤\n",
       "│ lambda (<span style=\"color: #0087ff; text-decoration-color: #0087ff\">Lambda</span>)     │ (<span style=\"color: #00d7ff; text-decoration-color: #00d7ff\">None</span>, <span style=\"color: #00af00; text-decoration-color: #00af00\">1</span>, <span style=\"color: #00af00; text-decoration-color: #00af00\">256</span>)    │          <span style=\"color: #00af00; text-decoration-color: #00af00\">0</span> │ layer_normalizat… │\n",
       "├─────────────────────┼───────────────────┼────────────┼───────────────────┤\n",
       "│ multi_head_attenti… │ (<span style=\"color: #00d7ff; text-decoration-color: #00d7ff\">None</span>, <span style=\"color: #00af00; text-decoration-color: #00af00\">1</span>, <span style=\"color: #00af00; text-decoration-color: #00af00\">256</span>)    │  <span style=\"color: #00af00; text-decoration-color: #00af00\">1,051,904</span> │ lambda[<span style=\"color: #00af00; text-decoration-color: #00af00\">0</span>][<span style=\"color: #00af00; text-decoration-color: #00af00\">0</span>],     │\n",
       "│ (<span style=\"color: #0087ff; text-decoration-color: #0087ff\">MultiHeadAttentio…</span> │                   │            │ lambda[<span style=\"color: #00af00; text-decoration-color: #00af00\">0</span>][<span style=\"color: #00af00; text-decoration-color: #00af00\">0</span>]      │\n",
       "├─────────────────────┼───────────────────┼────────────┼───────────────────┤\n",
       "│ dropout_1 (<span style=\"color: #0087ff; text-decoration-color: #0087ff\">Dropout</span>) │ (<span style=\"color: #00d7ff; text-decoration-color: #00d7ff\">None</span>, <span style=\"color: #00af00; text-decoration-color: #00af00\">1</span>, <span style=\"color: #00af00; text-decoration-color: #00af00\">256</span>)    │          <span style=\"color: #00af00; text-decoration-color: #00af00\">0</span> │ multi_head_atten… │\n",
       "├─────────────────────┼───────────────────┼────────────┼───────────────────┤\n",
       "│ add (<span style=\"color: #0087ff; text-decoration-color: #0087ff\">Add</span>)           │ (<span style=\"color: #00d7ff; text-decoration-color: #00d7ff\">None</span>, <span style=\"color: #00af00; text-decoration-color: #00af00\">1</span>, <span style=\"color: #00af00; text-decoration-color: #00af00\">256</span>)    │          <span style=\"color: #00af00; text-decoration-color: #00af00\">0</span> │ layer_normalizat… │\n",
       "│                     │                   │            │ dropout_1[<span style=\"color: #00af00; text-decoration-color: #00af00\">0</span>][<span style=\"color: #00af00; text-decoration-color: #00af00\">0</span>]   │\n",
       "├─────────────────────┼───────────────────┼────────────┼───────────────────┤\n",
       "│ layer_normalizatio… │ (<span style=\"color: #00d7ff; text-decoration-color: #00d7ff\">None</span>, <span style=\"color: #00af00; text-decoration-color: #00af00\">1</span>, <span style=\"color: #00af00; text-decoration-color: #00af00\">256</span>)    │        <span style=\"color: #00af00; text-decoration-color: #00af00\">512</span> │ add[<span style=\"color: #00af00; text-decoration-color: #00af00\">0</span>][<span style=\"color: #00af00; text-decoration-color: #00af00\">0</span>]         │\n",
       "│ (<span style=\"color: #0087ff; text-decoration-color: #0087ff\">LayerNormalizatio…</span> │                   │            │                   │\n",
       "├─────────────────────┼───────────────────┼────────────┼───────────────────┤\n",
       "│ dense_1 (<span style=\"color: #0087ff; text-decoration-color: #0087ff\">Dense</span>)     │ (<span style=\"color: #00d7ff; text-decoration-color: #00d7ff\">None</span>, <span style=\"color: #00af00; text-decoration-color: #00af00\">1</span>, <span style=\"color: #00af00; text-decoration-color: #00af00\">256</span>)    │     <span style=\"color: #00af00; text-decoration-color: #00af00\">65,792</span> │ layer_normalizat… │\n",
       "├─────────────────────┼───────────────────┼────────────┼───────────────────┤\n",
       "│ dropout_2 (<span style=\"color: #0087ff; text-decoration-color: #0087ff\">Dropout</span>) │ (<span style=\"color: #00d7ff; text-decoration-color: #00d7ff\">None</span>, <span style=\"color: #00af00; text-decoration-color: #00af00\">1</span>, <span style=\"color: #00af00; text-decoration-color: #00af00\">256</span>)    │          <span style=\"color: #00af00; text-decoration-color: #00af00\">0</span> │ dense_1[<span style=\"color: #00af00; text-decoration-color: #00af00\">0</span>][<span style=\"color: #00af00; text-decoration-color: #00af00\">0</span>]     │\n",
       "├─────────────────────┼───────────────────┼────────────┼───────────────────┤\n",
       "│ add_1 (<span style=\"color: #0087ff; text-decoration-color: #0087ff\">Add</span>)         │ (<span style=\"color: #00d7ff; text-decoration-color: #00d7ff\">None</span>, <span style=\"color: #00af00; text-decoration-color: #00af00\">1</span>, <span style=\"color: #00af00; text-decoration-color: #00af00\">256</span>)    │          <span style=\"color: #00af00; text-decoration-color: #00af00\">0</span> │ layer_normalizat… │\n",
       "│                     │                   │            │ dropout_2[<span style=\"color: #00af00; text-decoration-color: #00af00\">0</span>][<span style=\"color: #00af00; text-decoration-color: #00af00\">0</span>]   │\n",
       "├─────────────────────┼───────────────────┼────────────┼───────────────────┤\n",
       "│ layer_normalizatio… │ (<span style=\"color: #00d7ff; text-decoration-color: #00d7ff\">None</span>, <span style=\"color: #00af00; text-decoration-color: #00af00\">1</span>, <span style=\"color: #00af00; text-decoration-color: #00af00\">256</span>)    │        <span style=\"color: #00af00; text-decoration-color: #00af00\">512</span> │ add_1[<span style=\"color: #00af00; text-decoration-color: #00af00\">0</span>][<span style=\"color: #00af00; text-decoration-color: #00af00\">0</span>]       │\n",
       "│ (<span style=\"color: #0087ff; text-decoration-color: #0087ff\">LayerNormalizatio…</span> │                   │            │                   │\n",
       "├─────────────────────┼───────────────────┼────────────┼───────────────────┤\n",
       "│ dense_2 (<span style=\"color: #0087ff; text-decoration-color: #0087ff\">Dense</span>)     │ (<span style=\"color: #00d7ff; text-decoration-color: #00d7ff\">None</span>, <span style=\"color: #00af00; text-decoration-color: #00af00\">1</span>, <span style=\"color: #00af00; text-decoration-color: #00af00\">256</span>)    │     <span style=\"color: #00af00; text-decoration-color: #00af00\">65,792</span> │ layer_normalizat… │\n",
       "├─────────────────────┼───────────────────┼────────────┼───────────────────┤\n",
       "│ dropout_3 (<span style=\"color: #0087ff; text-decoration-color: #0087ff\">Dropout</span>) │ (<span style=\"color: #00d7ff; text-decoration-color: #00d7ff\">None</span>, <span style=\"color: #00af00; text-decoration-color: #00af00\">1</span>, <span style=\"color: #00af00; text-decoration-color: #00af00\">256</span>)    │          <span style=\"color: #00af00; text-decoration-color: #00af00\">0</span> │ dense_2[<span style=\"color: #00af00; text-decoration-color: #00af00\">0</span>][<span style=\"color: #00af00; text-decoration-color: #00af00\">0</span>]     │\n",
       "├─────────────────────┼───────────────────┼────────────┼───────────────────┤\n",
       "│ dense_3 (<span style=\"color: #0087ff; text-decoration-color: #0087ff\">Dense</span>)     │ (<span style=\"color: #00d7ff; text-decoration-color: #00d7ff\">None</span>, <span style=\"color: #00af00; text-decoration-color: #00af00\">1</span>, <span style=\"color: #00af00; text-decoration-color: #00af00\">128</span>)    │     <span style=\"color: #00af00; text-decoration-color: #00af00\">32,896</span> │ dropout_3[<span style=\"color: #00af00; text-decoration-color: #00af00\">0</span>][<span style=\"color: #00af00; text-decoration-color: #00af00\">0</span>]   │\n",
       "├─────────────────────┼───────────────────┼────────────┼───────────────────┤\n",
       "│ dropout_4 (<span style=\"color: #0087ff; text-decoration-color: #0087ff\">Dropout</span>) │ (<span style=\"color: #00d7ff; text-decoration-color: #00d7ff\">None</span>, <span style=\"color: #00af00; text-decoration-color: #00af00\">1</span>, <span style=\"color: #00af00; text-decoration-color: #00af00\">128</span>)    │          <span style=\"color: #00af00; text-decoration-color: #00af00\">0</span> │ dense_3[<span style=\"color: #00af00; text-decoration-color: #00af00\">0</span>][<span style=\"color: #00af00; text-decoration-color: #00af00\">0</span>]     │\n",
       "├─────────────────────┼───────────────────┼────────────┼───────────────────┤\n",
       "│ dense_4 (<span style=\"color: #0087ff; text-decoration-color: #0087ff\">Dense</span>)     │ (<span style=\"color: #00d7ff; text-decoration-color: #00d7ff\">None</span>, <span style=\"color: #00af00; text-decoration-color: #00af00\">1</span>, <span style=\"color: #00af00; text-decoration-color: #00af00\">64</span>)     │      <span style=\"color: #00af00; text-decoration-color: #00af00\">8,256</span> │ dropout_4[<span style=\"color: #00af00; text-decoration-color: #00af00\">0</span>][<span style=\"color: #00af00; text-decoration-color: #00af00\">0</span>]   │\n",
       "├─────────────────────┼───────────────────┼────────────┼───────────────────┤\n",
       "│ dropout_5 (<span style=\"color: #0087ff; text-decoration-color: #0087ff\">Dropout</span>) │ (<span style=\"color: #00d7ff; text-decoration-color: #00d7ff\">None</span>, <span style=\"color: #00af00; text-decoration-color: #00af00\">1</span>, <span style=\"color: #00af00; text-decoration-color: #00af00\">64</span>)     │          <span style=\"color: #00af00; text-decoration-color: #00af00\">0</span> │ dense_4[<span style=\"color: #00af00; text-decoration-color: #00af00\">0</span>][<span style=\"color: #00af00; text-decoration-color: #00af00\">0</span>]     │\n",
       "├─────────────────────┼───────────────────┼────────────┼───────────────────┤\n",
       "│ dense_5 (<span style=\"color: #0087ff; text-decoration-color: #0087ff\">Dense</span>)     │ (<span style=\"color: #00d7ff; text-decoration-color: #00d7ff\">None</span>, <span style=\"color: #00af00; text-decoration-color: #00af00\">1</span>, <span style=\"color: #00af00; text-decoration-color: #00af00\">32</span>)     │      <span style=\"color: #00af00; text-decoration-color: #00af00\">2,080</span> │ dropout_5[<span style=\"color: #00af00; text-decoration-color: #00af00\">0</span>][<span style=\"color: #00af00; text-decoration-color: #00af00\">0</span>]   │\n",
       "├─────────────────────┼───────────────────┼────────────┼───────────────────┤\n",
       "│ dense_6 (<span style=\"color: #0087ff; text-decoration-color: #0087ff\">Dense</span>)     │ (<span style=\"color: #00d7ff; text-decoration-color: #00d7ff\">None</span>, <span style=\"color: #00af00; text-decoration-color: #00af00\">1</span>, <span style=\"color: #00af00; text-decoration-color: #00af00\">1</span>)      │         <span style=\"color: #00af00; text-decoration-color: #00af00\">33</span> │ dense_5[<span style=\"color: #00af00; text-decoration-color: #00af00\">0</span>][<span style=\"color: #00af00; text-decoration-color: #00af00\">0</span>]     │\n",
       "└─────────────────────┴───────────────────┴────────────┴───────────────────┘\n",
       "</pre>\n"
      ],
      "text/plain": [
       "┏━━━━━━━━━━━━━━━━━━━━━┳━━━━━━━━━━━━━━━━━━━┳━━━━━━━━━━━━┳━━━━━━━━━━━━━━━━━━━┓\n",
       "┃\u001b[1m \u001b[0m\u001b[1mLayer (type)       \u001b[0m\u001b[1m \u001b[0m┃\u001b[1m \u001b[0m\u001b[1mOutput Shape     \u001b[0m\u001b[1m \u001b[0m┃\u001b[1m \u001b[0m\u001b[1m   Param #\u001b[0m\u001b[1m \u001b[0m┃\u001b[1m \u001b[0m\u001b[1mConnected to     \u001b[0m\u001b[1m \u001b[0m┃\n",
       "┡━━━━━━━━━━━━━━━━━━━━━╇━━━━━━━━━━━━━━━━━━━╇━━━━━━━━━━━━╇━━━━━━━━━━━━━━━━━━━┩\n",
       "│ input_layer         │ (\u001b[38;5;45mNone\u001b[0m, \u001b[38;5;34m199\u001b[0m)       │          \u001b[38;5;34m0\u001b[0m │ -                 │\n",
       "│ (\u001b[38;5;33mInputLayer\u001b[0m)        │                   │            │                   │\n",
       "├─────────────────────┼───────────────────┼────────────┼───────────────────┤\n",
       "│ dense (\u001b[38;5;33mDense\u001b[0m)       │ (\u001b[38;5;45mNone\u001b[0m, \u001b[38;5;34m256\u001b[0m)       │     \u001b[38;5;34m51,200\u001b[0m │ input_layer[\u001b[38;5;34m0\u001b[0m][\u001b[38;5;34m0\u001b[0m] │\n",
       "├─────────────────────┼───────────────────┼────────────┼───────────────────┤\n",
       "│ layer_normalization │ (\u001b[38;5;45mNone\u001b[0m, \u001b[38;5;34m256\u001b[0m)       │        \u001b[38;5;34m512\u001b[0m │ dense[\u001b[38;5;34m0\u001b[0m][\u001b[38;5;34m0\u001b[0m]       │\n",
       "│ (\u001b[38;5;33mLayerNormalizatio…\u001b[0m │                   │            │                   │\n",
       "├─────────────────────┼───────────────────┼────────────┼───────────────────┤\n",
       "│ lambda (\u001b[38;5;33mLambda\u001b[0m)     │ (\u001b[38;5;45mNone\u001b[0m, \u001b[38;5;34m1\u001b[0m, \u001b[38;5;34m256\u001b[0m)    │          \u001b[38;5;34m0\u001b[0m │ layer_normalizat… │\n",
       "├─────────────────────┼───────────────────┼────────────┼───────────────────┤\n",
       "│ multi_head_attenti… │ (\u001b[38;5;45mNone\u001b[0m, \u001b[38;5;34m1\u001b[0m, \u001b[38;5;34m256\u001b[0m)    │  \u001b[38;5;34m1,051,904\u001b[0m │ lambda[\u001b[38;5;34m0\u001b[0m][\u001b[38;5;34m0\u001b[0m],     │\n",
       "│ (\u001b[38;5;33mMultiHeadAttentio…\u001b[0m │                   │            │ lambda[\u001b[38;5;34m0\u001b[0m][\u001b[38;5;34m0\u001b[0m]      │\n",
       "├─────────────────────┼───────────────────┼────────────┼───────────────────┤\n",
       "│ dropout_1 (\u001b[38;5;33mDropout\u001b[0m) │ (\u001b[38;5;45mNone\u001b[0m, \u001b[38;5;34m1\u001b[0m, \u001b[38;5;34m256\u001b[0m)    │          \u001b[38;5;34m0\u001b[0m │ multi_head_atten… │\n",
       "├─────────────────────┼───────────────────┼────────────┼───────────────────┤\n",
       "│ add (\u001b[38;5;33mAdd\u001b[0m)           │ (\u001b[38;5;45mNone\u001b[0m, \u001b[38;5;34m1\u001b[0m, \u001b[38;5;34m256\u001b[0m)    │          \u001b[38;5;34m0\u001b[0m │ layer_normalizat… │\n",
       "│                     │                   │            │ dropout_1[\u001b[38;5;34m0\u001b[0m][\u001b[38;5;34m0\u001b[0m]   │\n",
       "├─────────────────────┼───────────────────┼────────────┼───────────────────┤\n",
       "│ layer_normalizatio… │ (\u001b[38;5;45mNone\u001b[0m, \u001b[38;5;34m1\u001b[0m, \u001b[38;5;34m256\u001b[0m)    │        \u001b[38;5;34m512\u001b[0m │ add[\u001b[38;5;34m0\u001b[0m][\u001b[38;5;34m0\u001b[0m]         │\n",
       "│ (\u001b[38;5;33mLayerNormalizatio…\u001b[0m │                   │            │                   │\n",
       "├─────────────────────┼───────────────────┼────────────┼───────────────────┤\n",
       "│ dense_1 (\u001b[38;5;33mDense\u001b[0m)     │ (\u001b[38;5;45mNone\u001b[0m, \u001b[38;5;34m1\u001b[0m, \u001b[38;5;34m256\u001b[0m)    │     \u001b[38;5;34m65,792\u001b[0m │ layer_normalizat… │\n",
       "├─────────────────────┼───────────────────┼────────────┼───────────────────┤\n",
       "│ dropout_2 (\u001b[38;5;33mDropout\u001b[0m) │ (\u001b[38;5;45mNone\u001b[0m, \u001b[38;5;34m1\u001b[0m, \u001b[38;5;34m256\u001b[0m)    │          \u001b[38;5;34m0\u001b[0m │ dense_1[\u001b[38;5;34m0\u001b[0m][\u001b[38;5;34m0\u001b[0m]     │\n",
       "├─────────────────────┼───────────────────┼────────────┼───────────────────┤\n",
       "│ add_1 (\u001b[38;5;33mAdd\u001b[0m)         │ (\u001b[38;5;45mNone\u001b[0m, \u001b[38;5;34m1\u001b[0m, \u001b[38;5;34m256\u001b[0m)    │          \u001b[38;5;34m0\u001b[0m │ layer_normalizat… │\n",
       "│                     │                   │            │ dropout_2[\u001b[38;5;34m0\u001b[0m][\u001b[38;5;34m0\u001b[0m]   │\n",
       "├─────────────────────┼───────────────────┼────────────┼───────────────────┤\n",
       "│ layer_normalizatio… │ (\u001b[38;5;45mNone\u001b[0m, \u001b[38;5;34m1\u001b[0m, \u001b[38;5;34m256\u001b[0m)    │        \u001b[38;5;34m512\u001b[0m │ add_1[\u001b[38;5;34m0\u001b[0m][\u001b[38;5;34m0\u001b[0m]       │\n",
       "│ (\u001b[38;5;33mLayerNormalizatio…\u001b[0m │                   │            │                   │\n",
       "├─────────────────────┼───────────────────┼────────────┼───────────────────┤\n",
       "│ dense_2 (\u001b[38;5;33mDense\u001b[0m)     │ (\u001b[38;5;45mNone\u001b[0m, \u001b[38;5;34m1\u001b[0m, \u001b[38;5;34m256\u001b[0m)    │     \u001b[38;5;34m65,792\u001b[0m │ layer_normalizat… │\n",
       "├─────────────────────┼───────────────────┼────────────┼───────────────────┤\n",
       "│ dropout_3 (\u001b[38;5;33mDropout\u001b[0m) │ (\u001b[38;5;45mNone\u001b[0m, \u001b[38;5;34m1\u001b[0m, \u001b[38;5;34m256\u001b[0m)    │          \u001b[38;5;34m0\u001b[0m │ dense_2[\u001b[38;5;34m0\u001b[0m][\u001b[38;5;34m0\u001b[0m]     │\n",
       "├─────────────────────┼───────────────────┼────────────┼───────────────────┤\n",
       "│ dense_3 (\u001b[38;5;33mDense\u001b[0m)     │ (\u001b[38;5;45mNone\u001b[0m, \u001b[38;5;34m1\u001b[0m, \u001b[38;5;34m128\u001b[0m)    │     \u001b[38;5;34m32,896\u001b[0m │ dropout_3[\u001b[38;5;34m0\u001b[0m][\u001b[38;5;34m0\u001b[0m]   │\n",
       "├─────────────────────┼───────────────────┼────────────┼───────────────────┤\n",
       "│ dropout_4 (\u001b[38;5;33mDropout\u001b[0m) │ (\u001b[38;5;45mNone\u001b[0m, \u001b[38;5;34m1\u001b[0m, \u001b[38;5;34m128\u001b[0m)    │          \u001b[38;5;34m0\u001b[0m │ dense_3[\u001b[38;5;34m0\u001b[0m][\u001b[38;5;34m0\u001b[0m]     │\n",
       "├─────────────────────┼───────────────────┼────────────┼───────────────────┤\n",
       "│ dense_4 (\u001b[38;5;33mDense\u001b[0m)     │ (\u001b[38;5;45mNone\u001b[0m, \u001b[38;5;34m1\u001b[0m, \u001b[38;5;34m64\u001b[0m)     │      \u001b[38;5;34m8,256\u001b[0m │ dropout_4[\u001b[38;5;34m0\u001b[0m][\u001b[38;5;34m0\u001b[0m]   │\n",
       "├─────────────────────┼───────────────────┼────────────┼───────────────────┤\n",
       "│ dropout_5 (\u001b[38;5;33mDropout\u001b[0m) │ (\u001b[38;5;45mNone\u001b[0m, \u001b[38;5;34m1\u001b[0m, \u001b[38;5;34m64\u001b[0m)     │          \u001b[38;5;34m0\u001b[0m │ dense_4[\u001b[38;5;34m0\u001b[0m][\u001b[38;5;34m0\u001b[0m]     │\n",
       "├─────────────────────┼───────────────────┼────────────┼───────────────────┤\n",
       "│ dense_5 (\u001b[38;5;33mDense\u001b[0m)     │ (\u001b[38;5;45mNone\u001b[0m, \u001b[38;5;34m1\u001b[0m, \u001b[38;5;34m32\u001b[0m)     │      \u001b[38;5;34m2,080\u001b[0m │ dropout_5[\u001b[38;5;34m0\u001b[0m][\u001b[38;5;34m0\u001b[0m]   │\n",
       "├─────────────────────┼───────────────────┼────────────┼───────────────────┤\n",
       "│ dense_6 (\u001b[38;5;33mDense\u001b[0m)     │ (\u001b[38;5;45mNone\u001b[0m, \u001b[38;5;34m1\u001b[0m, \u001b[38;5;34m1\u001b[0m)      │         \u001b[38;5;34m33\u001b[0m │ dense_5[\u001b[38;5;34m0\u001b[0m][\u001b[38;5;34m0\u001b[0m]     │\n",
       "└─────────────────────┴───────────────────┴────────────┴───────────────────┘\n"
      ]
     },
     "metadata": {},
     "output_type": "display_data"
    },
    {
     "data": {
      "text/html": [
       "<pre style=\"white-space:pre;overflow-x:auto;line-height:normal;font-family:Menlo,'DejaVu Sans Mono',consolas,'Courier New',monospace\"><span style=\"font-weight: bold\"> Total params: </span><span style=\"color: #00af00; text-decoration-color: #00af00\">1,279,489</span> (4.88 MB)\n",
       "</pre>\n"
      ],
      "text/plain": [
       "\u001b[1m Total params: \u001b[0m\u001b[38;5;34m1,279,489\u001b[0m (4.88 MB)\n"
      ]
     },
     "metadata": {},
     "output_type": "display_data"
    },
    {
     "data": {
      "text/html": [
       "<pre style=\"white-space:pre;overflow-x:auto;line-height:normal;font-family:Menlo,'DejaVu Sans Mono',consolas,'Courier New',monospace\"><span style=\"font-weight: bold\"> Trainable params: </span><span style=\"color: #00af00; text-decoration-color: #00af00\">1,279,489</span> (4.88 MB)\n",
       "</pre>\n"
      ],
      "text/plain": [
       "\u001b[1m Trainable params: \u001b[0m\u001b[38;5;34m1,279,489\u001b[0m (4.88 MB)\n"
      ]
     },
     "metadata": {},
     "output_type": "display_data"
    },
    {
     "data": {
      "text/html": [
       "<pre style=\"white-space:pre;overflow-x:auto;line-height:normal;font-family:Menlo,'DejaVu Sans Mono',consolas,'Courier New',monospace\"><span style=\"font-weight: bold\"> Non-trainable params: </span><span style=\"color: #00af00; text-decoration-color: #00af00\">0</span> (0.00 B)\n",
       "</pre>\n"
      ],
      "text/plain": [
       "\u001b[1m Non-trainable params: \u001b[0m\u001b[38;5;34m0\u001b[0m (0.00 B)\n"
      ]
     },
     "metadata": {},
     "output_type": "display_data"
    }
   ],
   "source": [
    "from tensorflow.keras.models import Model\n",
    "from tensorflow.keras.layers import Input, Dense, Dropout, MultiHeadAttention, LayerNormalization, Add\n",
    "from tensorflow.keras.optimizers import Adam\n",
    "from tensorflow.keras.activations import gelu\n",
    "import tensorflow as tf\n",
    "\n",
    "# Clear previous session\n",
    "tf.keras.backend.clear_session()\n",
    "\n",
    "# Define the input layer\n",
    "input_dim = X_train.shape[1]  # 199 features\n",
    "inputs = Input(shape=(input_dim,))\n",
    "\n",
    "# Add a dense layer to expand dimensions for attention\n",
    "dense_proj = Dense(256, activation=gelu, kernel_regularizer=tf.keras.regularizers.l2(0.01))(inputs)\n",
    "dense_proj = LayerNormalization()(dense_proj)\n",
    "\n",
    "# Add a sequence length dimension for MultiHeadAttention\n",
    "from tensorflow.keras.layers import Lambda\n",
    "dense_proj_expanded = Lambda(lambda x: tf.expand_dims(x, axis=1))(dense_proj)\n",
    "\n",
    "# Add multiple MultiHeadAttention layers with dropout\n",
    "attention_output_1 = MultiHeadAttention(num_heads=8, key_dim=128)(dense_proj_expanded, dense_proj_expanded)\n",
    "attention_output_1 = Dropout(0.4)(attention_output_1)\n",
    "# attention_output_1 = tf.squeeze(attention_output_1, axis=1)\n",
    "attention_output_1 = Add()([dense_proj, attention_output_1])\n",
    "attention_output_1 = LayerNormalization()(attention_output_1)\n",
    "\n",
    "attention_output_2 = Dense(256, activation=gelu, kernel_regularizer=tf.keras.regularizers.l2(0.01))(attention_output_1)\n",
    "attention_output_2 = Dropout(0.4)(attention_output_2)\n",
    "attention_output_2 = Add()([attention_output_1, attention_output_2])\n",
    "attention_output_2 = LayerNormalization()(attention_output_2)\n",
    "\n",
    "# Add a deeper feed-forward network with regularization\n",
    "ffn_output = Dense(256, activation=gelu, kernel_regularizer=tf.keras.regularizers.l2(0.01))(attention_output_2)\n",
    "ffn_output = Dropout(0.4)(ffn_output)\n",
    "ffn_output = Dense(128, activation=gelu, kernel_regularizer=tf.keras.regularizers.l2(0.01))(ffn_output)\n",
    "ffn_output = Dropout(0.4)(ffn_output)\n",
    "ffn_output = Dense(64, activation=gelu, kernel_regularizer=tf.keras.regularizers.l2(0.01))(ffn_output)\n",
    "ffn_output = Dropout(0.4)(ffn_output)\n",
    "ffn_output = Dense(32, activation=gelu, kernel_regularizer=tf.keras.regularizers.l2(0.01))(ffn_output)\n",
    "\n",
    "# Output layer for regression\n",
    "outputs = Dense(1, activation='linear')(ffn_output)\n",
    "\n",
    "# Define the model\n",
    "model = Model(inputs=inputs, outputs=outputs)\n",
    "\n",
    "# Compile with a learning rate scheduler\n",
    "lr_schedule = tf.keras.optimizers.schedules.ExponentialDecay(\n",
    "    initial_learning_rate=0.0005,\n",
    "    decay_steps=10_000,\n",
    "    decay_rate=0.9\n",
    ")\n",
    "model.compile(optimizer=Adam(learning_rate=lr_schedule),\n",
    "              loss='mean_squared_error',\n",
    "              metrics=['mae'])\n",
    "\n",
    "model.summary()"
   ]
  },
  {
   "cell_type": "code",
   "execution_count": null,
   "metadata": {},
   "outputs": [
    {
     "name": "stdout",
     "output_type": "stream",
     "text": [
      "Epoch 1/5\n",
      "\u001b[1m24195/24195\u001b[0m \u001b[32m━━━━━━━━━━━━━━━━━━━━\u001b[0m\u001b[37m\u001b[0m \u001b[1m0s\u001b[0m 5ms/step - loss: 2.3703 - mae: 0.6537\n",
      "Epoch 1: saving model to /content/drive/MyDrive/Colab Notebooks/training_1/cp.weights.h5\n",
      "\u001b[1m24195/24195\u001b[0m \u001b[32m━━━━━━━━━━━━━━━━━━━━\u001b[0m\u001b[37m\u001b[0m \u001b[1m155s\u001b[0m 6ms/step - loss: 2.3702 - mae: 0.6537 - val_loss: 0.5644 - val_mae: 0.5416\n",
      "Epoch 2/5\n",
      "\u001b[1m24186/24195\u001b[0m \u001b[32m━━━━━━━━━━━━━━━━━━━\u001b[0m\u001b[37m━\u001b[0m \u001b[1m0s\u001b[0m 5ms/step - loss: 0.5562 - mae: 0.5009\n",
      "Epoch 2: saving model to /content/drive/MyDrive/Colab Notebooks/training_1/cp.weights.h5\n",
      "\u001b[1m24195/24195\u001b[0m \u001b[32m━━━━━━━━━━━━━━━━━━━━\u001b[0m\u001b[37m\u001b[0m \u001b[1m137s\u001b[0m 6ms/step - loss: 0.5562 - mae: 0.5009 - val_loss: 0.5178 - val_mae: 0.4793\n",
      "Epoch 3/5\n",
      "\u001b[1m24187/24195\u001b[0m \u001b[32m━━━━━━━━━━━━━━━━━━━\u001b[0m\u001b[37m━\u001b[0m \u001b[1m0s\u001b[0m 5ms/step - loss: 0.5246 - mae: 0.4865\n",
      "Epoch 3: saving model to /content/drive/MyDrive/Colab Notebooks/training_1/cp.weights.h5\n",
      "\u001b[1m24195/24195\u001b[0m \u001b[32m━━━━━━━━━━━━━━━━━━━━\u001b[0m\u001b[37m\u001b[0m \u001b[1m143s\u001b[0m 6ms/step - loss: 0.5246 - mae: 0.4865 - val_loss: 0.4941 - val_mae: 0.4855\n",
      "Epoch 4/5\n",
      "\u001b[1m24185/24195\u001b[0m \u001b[32m━━━━━━━━━━━━━━━━━━━\u001b[0m\u001b[37m━\u001b[0m \u001b[1m0s\u001b[0m 6ms/step - loss: 0.5090 - mae: 0.4804\n",
      "Epoch 4: saving model to /content/drive/MyDrive/Colab Notebooks/training_1/cp.weights.h5\n",
      "\u001b[1m24195/24195\u001b[0m \u001b[32m━━━━━━━━━━━━━━━━━━━━\u001b[0m\u001b[37m\u001b[0m \u001b[1m160s\u001b[0m 6ms/step - loss: 0.5090 - mae: 0.4804 - val_loss: 0.4906 - val_mae: 0.4289\n",
      "Epoch 5/5\n",
      "\u001b[1m24188/24195\u001b[0m \u001b[32m━━━━━━━━━━━━━━━━━━━\u001b[0m\u001b[37m━\u001b[0m \u001b[1m0s\u001b[0m 5ms/step - loss: 0.4971 - mae: 0.4762\n",
      "Epoch 5: saving model to /content/drive/MyDrive/Colab Notebooks/training_1/cp.weights.h5\n",
      "\u001b[1m24195/24195\u001b[0m \u001b[32m━━━━━━━━━━━━━━━━━━━━\u001b[0m\u001b[37m\u001b[0m \u001b[1m180s\u001b[0m 6ms/step - loss: 0.4971 - mae: 0.4762 - val_loss: 0.5073 - val_mae: 0.4337\n",
      "\u001b[1m6049/6049\u001b[0m \u001b[32m━━━━━━━━━━━━━━━━━━━━\u001b[0m\u001b[37m\u001b[0m \u001b[1m16s\u001b[0m 3ms/step - loss: 0.5083 - mae: 0.4340\n",
      "Test Loss: 0.5073384642601013\n",
      "Test MAE: 0.43373414874076843\n"
     ]
    }
   ],
   "source": [
    "import os\n",
    "\n",
    "checkpoint_path = \"/content/drive/MyDrive/Colab Notebooks/training_1/cp.weights.h5\"\n",
    "checkpoint_dir = os.path.dirname(checkpoint_path)\n",
    "\n",
    "cp_callback = tf.keras.callbacks.ModelCheckpoint(\n",
    "    filepath=checkpoint_path,\n",
    "    save_weights_only=True,\n",
    "    verbose=1\n",
    ")\n",
    "\n",
    "history = model.fit(X_train, y_train,\n",
    "                    validation_data=(X_test, y_test),\n",
    "                    epochs=5,\n",
    "                    batch_size=32,\n",
    "                    callbacks=[cp_callback])\n",
    "\n",
    "# Evaluar el modelo en el conjunto de test\n",
    "loss, mae = model.evaluate(X_test, y_test, batch_size=32)\n",
    "print(\"Test Loss:\", loss)\n",
    "print(\"Test MAE:\", mae)"
   ]
  },
  {
   "cell_type": "markdown",
   "metadata": {},
   "source": [
    "## Pruebas ensemble casero"
   ]
  },
  {
   "cell_type": "code",
   "execution_count": null,
   "metadata": {},
   "outputs": [
    {
     "name": "stdout",
     "output_type": "stream",
     "text": [
      "Archivo combinado exportado como 'combined_stars.csv'\n"
     ]
    }
   ],
   "source": [
    "# Cargar los dos CSV\n",
    "df_x = pd.read_csv(r'D:\\github\\RECSYS\\Practica 2\\out\\Ensemble_NN_Trans_predictions_all_0_DL.csv')\n",
    "df_y = pd.read_csv(r'D:\\github\\RECSYS\\Practica 2\\out\\NN_predictions_all_0_DL_Sin_Reduc.csv')\n",
    "\n",
    "# Asegurarse de que ambos DataFrames estén alineados por 'review_id'\n",
    "df_x = df_x.set_index('review_id')\n",
    "df_y = df_y.set_index('review_id')\n",
    "\n",
    "# Verificar que ambos tengan las mismas filas\n",
    "if not df_x.index.equals(df_y.index):\n",
    "    raise ValueError(\"Los archivos CSV no tienen los mismos 'review_id'.\")\n",
    "\n",
    "# Generar un nuevo DataFrame con la ponderación de las columnas 'stars'\n",
    "weight_x = 0.6  # Peso para el primer CSV\n",
    "weight_y = 0.4  # Peso para el segundo CSV\n",
    "\n",
    "df_combined = pd.DataFrame({\n",
    "    'review_id': df_x.index,\n",
    "    'stars': (df_x['stars'] * weight_x + df_y['stars'] * weight_y).round(0).astype(float)\n",
    "})\n",
    "\n",
    "# Guardar el nuevo DataFrame en un archivo CSV\n",
    "df_combined.to_csv('combined_stars.csv', index=False)\n",
    "print(\"Archivo combinado exportado como 'combined_stars.csv'\")"
   ]
  },
  {
   "cell_type": "code",
   "execution_count": null,
   "metadata": {},
   "outputs": [],
   "source": [
    "import numpy as np\n",
    "\n",
    "# 1) Entrena cada modelo individual\n",
    "models = [\n",
    "    XGBRegressor(tree_method=\"hist\", eval_metric='mae', random_state=42),\n",
    "    AdaBoostRegressor(random_state=42, learning_rate=0.001, n_estimators=4,\n",
    "               estimator=RandomForestRegressor(n_estimators=50, random_state=42, verbose=1, n_jobs=-1)),\n",
    "    # tu wrapper de Keras u otro modelo,\n",
    "    lgbm_reg = LGBMRegressor(\n",
    "    objective='regression',\n",
    "    boosting_type='gbdt',\n",
    "    learning_rate=0.1,\n",
    "    n_estimators=1000,\n",
    "    num_leaves=31,\n",
    "    random_state=42\n",
    "    )\n",
    "]\n",
    "for m in models:\n",
    "    m.fit(X_train, y_train)\n",
    "\n",
    "# 2) Predice con cada uno\n",
    "preds = [m.predict(X_test) for m in models]\n",
    "\n",
    "# 3) Media aritmética simple\n",
    "y_pred_avg = np.mean(preds, axis=0)\n",
    "\n",
    "# 4) Evalúa\n",
    "from sklearn.metrics import mean_absolute_error\n",
    "mae = mean_absolute_error(y_test, y_pred_avg)\n",
    "print(f\"MAE (average ensemble): {mae:.4f}\")"
   ]
  },
  {
   "cell_type": "code",
   "execution_count": null,
   "metadata": {},
   "outputs": [],
   "source": [
    "weights = [0.4, 0.1, 0.3, 0.2]  # suma 1.0\n",
    "y_pred_w = np.average(preds, axis=0, weights=weights)\n",
    "print(\"MAE (weighted):\", mean_absolute_error(y_test, y_pred_w))"
   ]
  },
  {
   "cell_type": "markdown",
   "metadata": {},
   "source": [
    "# Test models"
   ]
  },
  {
   "cell_type": "code",
   "execution_count": 2,
   "metadata": {},
   "outputs": [
    {
     "ename": "KeyboardInterrupt",
     "evalue": "",
     "output_type": "error",
     "traceback": [
      "\u001b[31m---------------------------------------------------------------------------\u001b[39m",
      "\u001b[31mKeyboardInterrupt\u001b[39m                         Traceback (most recent call last)",
      "\u001b[36mCell\u001b[39m\u001b[36m \u001b[39m\u001b[32mIn[2]\u001b[39m\u001b[32m, line 1\u001b[39m\n\u001b[32m----> \u001b[39m\u001b[32m1\u001b[39m \u001b[38;5;28;01mimport\u001b[39;00m\u001b[38;5;250m \u001b[39m\u001b[34;01mtensorflow\u001b[39;00m\u001b[38;5;250m \u001b[39m\u001b[38;5;28;01mas\u001b[39;00m\u001b[38;5;250m \u001b[39m\u001b[34;01mtf\u001b[39;00m\n\u001b[32m      2\u001b[39m \u001b[38;5;28;01mimport\u001b[39;00m\u001b[38;5;250m \u001b[39m\u001b[34;01mpandas\u001b[39;00m\u001b[38;5;250m \u001b[39m\u001b[38;5;28;01mas\u001b[39;00m\u001b[38;5;250m \u001b[39m\u001b[34;01mpd\u001b[39;00m\n\u001b[32m      3\u001b[39m \u001b[38;5;28;01mimport\u001b[39;00m\u001b[38;5;250m \u001b[39m\u001b[34;01mnumpy\u001b[39;00m\u001b[38;5;250m \u001b[39m\u001b[38;5;28;01mas\u001b[39;00m\u001b[38;5;250m \u001b[39m\u001b[34;01mnp\u001b[39;00m\n",
      "\u001b[36mFile \u001b[39m\u001b[32md:\\github\\RECSYS\\.venv\\Lib\\site-packages\\tensorflow\\__init__.py:48\u001b[39m\n\u001b[32m     45\u001b[39m \u001b[38;5;28;01mfrom\u001b[39;00m\u001b[38;5;250m \u001b[39m\u001b[34;01mtensorflow\u001b[39;00m\u001b[34;01m.\u001b[39;00m\u001b[34;01mpython\u001b[39;00m\u001b[38;5;250m \u001b[39m\u001b[38;5;28;01mimport\u001b[39;00m tf2 \u001b[38;5;28;01mas\u001b[39;00m _tf2\n\u001b[32m     46\u001b[39m _tf2.enable()\n\u001b[32m---> \u001b[39m\u001b[32m48\u001b[39m \u001b[38;5;28;01mfrom\u001b[39;00m\u001b[38;5;250m \u001b[39m\u001b[34;01mtensorflow\u001b[39;00m\u001b[34;01m.\u001b[39;00m\u001b[34;01m_api\u001b[39;00m\u001b[34;01m.\u001b[39;00m\u001b[34;01mv2\u001b[39;00m\u001b[38;5;250m \u001b[39m\u001b[38;5;28;01mimport\u001b[39;00m __internal__\n\u001b[32m     49\u001b[39m \u001b[38;5;28;01mfrom\u001b[39;00m\u001b[38;5;250m \u001b[39m\u001b[34;01mtensorflow\u001b[39;00m\u001b[34;01m.\u001b[39;00m\u001b[34;01m_api\u001b[39;00m\u001b[34;01m.\u001b[39;00m\u001b[34;01mv2\u001b[39;00m\u001b[38;5;250m \u001b[39m\u001b[38;5;28;01mimport\u001b[39;00m __operators__\n\u001b[32m     50\u001b[39m \u001b[38;5;28;01mfrom\u001b[39;00m\u001b[38;5;250m \u001b[39m\u001b[34;01mtensorflow\u001b[39;00m\u001b[34;01m.\u001b[39;00m\u001b[34;01m_api\u001b[39;00m\u001b[34;01m.\u001b[39;00m\u001b[34;01mv2\u001b[39;00m\u001b[38;5;250m \u001b[39m\u001b[38;5;28;01mimport\u001b[39;00m audio\n",
      "\u001b[36mFile \u001b[39m\u001b[32md:\\github\\RECSYS\\.venv\\Lib\\site-packages\\tensorflow\\_api\\v2\\__internal__\\__init__.py:11\u001b[39m\n\u001b[32m      9\u001b[39m \u001b[38;5;28;01mfrom\u001b[39;00m\u001b[38;5;250m \u001b[39m\u001b[34;01mtensorflow\u001b[39;00m\u001b[34;01m.\u001b[39;00m\u001b[34;01m_api\u001b[39;00m\u001b[34;01m.\u001b[39;00m\u001b[34;01mv2\u001b[39;00m\u001b[34;01m.\u001b[39;00m\u001b[34;01m__internal__\u001b[39;00m\u001b[38;5;250m \u001b[39m\u001b[38;5;28;01mimport\u001b[39;00m decorator\n\u001b[32m     10\u001b[39m \u001b[38;5;28;01mfrom\u001b[39;00m\u001b[38;5;250m \u001b[39m\u001b[34;01mtensorflow\u001b[39;00m\u001b[34;01m.\u001b[39;00m\u001b[34;01m_api\u001b[39;00m\u001b[34;01m.\u001b[39;00m\u001b[34;01mv2\u001b[39;00m\u001b[34;01m.\u001b[39;00m\u001b[34;01m__internal__\u001b[39;00m\u001b[38;5;250m \u001b[39m\u001b[38;5;28;01mimport\u001b[39;00m dispatch\n\u001b[32m---> \u001b[39m\u001b[32m11\u001b[39m \u001b[38;5;28;01mfrom\u001b[39;00m\u001b[38;5;250m \u001b[39m\u001b[34;01mtensorflow\u001b[39;00m\u001b[34;01m.\u001b[39;00m\u001b[34;01m_api\u001b[39;00m\u001b[34;01m.\u001b[39;00m\u001b[34;01mv2\u001b[39;00m\u001b[34;01m.\u001b[39;00m\u001b[34;01m__internal__\u001b[39;00m\u001b[38;5;250m \u001b[39m\u001b[38;5;28;01mimport\u001b[39;00m distribute\n\u001b[32m     12\u001b[39m \u001b[38;5;28;01mfrom\u001b[39;00m\u001b[38;5;250m \u001b[39m\u001b[34;01mtensorflow\u001b[39;00m\u001b[34;01m.\u001b[39;00m\u001b[34;01m_api\u001b[39;00m\u001b[34;01m.\u001b[39;00m\u001b[34;01mv2\u001b[39;00m\u001b[34;01m.\u001b[39;00m\u001b[34;01m__internal__\u001b[39;00m\u001b[38;5;250m \u001b[39m\u001b[38;5;28;01mimport\u001b[39;00m eager_context\n\u001b[32m     13\u001b[39m \u001b[38;5;28;01mfrom\u001b[39;00m\u001b[38;5;250m \u001b[39m\u001b[34;01mtensorflow\u001b[39;00m\u001b[34;01m.\u001b[39;00m\u001b[34;01m_api\u001b[39;00m\u001b[34;01m.\u001b[39;00m\u001b[34;01mv2\u001b[39;00m\u001b[34;01m.\u001b[39;00m\u001b[34;01m__internal__\u001b[39;00m\u001b[38;5;250m \u001b[39m\u001b[38;5;28;01mimport\u001b[39;00m feature_column\n",
      "\u001b[36mFile \u001b[39m\u001b[32md:\\github\\RECSYS\\.venv\\Lib\\site-packages\\tensorflow\\_api\\v2\\__internal__\\distribute\\__init__.py:8\u001b[39m\n\u001b[32m      3\u001b[39m \u001b[33;03m\"\"\"Public API for tf._api.v2.__internal__.distribute namespace\u001b[39;00m\n\u001b[32m      4\u001b[39m \u001b[33;03m\"\"\"\u001b[39;00m\n\u001b[32m      6\u001b[39m \u001b[38;5;28;01mimport\u001b[39;00m\u001b[38;5;250m \u001b[39m\u001b[34;01msys\u001b[39;00m\u001b[38;5;250m \u001b[39m\u001b[38;5;28;01mas\u001b[39;00m\u001b[38;5;250m \u001b[39m\u001b[34;01m_sys\u001b[39;00m\n\u001b[32m----> \u001b[39m\u001b[32m8\u001b[39m \u001b[38;5;28;01mfrom\u001b[39;00m\u001b[38;5;250m \u001b[39m\u001b[34;01mtensorflow\u001b[39;00m\u001b[34;01m.\u001b[39;00m\u001b[34;01m_api\u001b[39;00m\u001b[34;01m.\u001b[39;00m\u001b[34;01mv2\u001b[39;00m\u001b[34;01m.\u001b[39;00m\u001b[34;01m__internal__\u001b[39;00m\u001b[34;01m.\u001b[39;00m\u001b[34;01mdistribute\u001b[39;00m\u001b[38;5;250m \u001b[39m\u001b[38;5;28;01mimport\u001b[39;00m combinations\n\u001b[32m      9\u001b[39m \u001b[38;5;28;01mfrom\u001b[39;00m\u001b[38;5;250m \u001b[39m\u001b[34;01mtensorflow\u001b[39;00m\u001b[34;01m.\u001b[39;00m\u001b[34;01m_api\u001b[39;00m\u001b[34;01m.\u001b[39;00m\u001b[34;01mv2\u001b[39;00m\u001b[34;01m.\u001b[39;00m\u001b[34;01m__internal__\u001b[39;00m\u001b[34;01m.\u001b[39;00m\u001b[34;01mdistribute\u001b[39;00m\u001b[38;5;250m \u001b[39m\u001b[38;5;28;01mimport\u001b[39;00m interim\n\u001b[32m     10\u001b[39m \u001b[38;5;28;01mfrom\u001b[39;00m\u001b[38;5;250m \u001b[39m\u001b[34;01mtensorflow\u001b[39;00m\u001b[34;01m.\u001b[39;00m\u001b[34;01m_api\u001b[39;00m\u001b[34;01m.\u001b[39;00m\u001b[34;01mv2\u001b[39;00m\u001b[34;01m.\u001b[39;00m\u001b[34;01m__internal__\u001b[39;00m\u001b[34;01m.\u001b[39;00m\u001b[34;01mdistribute\u001b[39;00m\u001b[38;5;250m \u001b[39m\u001b[38;5;28;01mimport\u001b[39;00m multi_process_runner\n",
      "\u001b[36mFile \u001b[39m\u001b[32md:\\github\\RECSYS\\.venv\\Lib\\site-packages\\tensorflow\\_api\\v2\\__internal__\\distribute\\combinations\\__init__.py:8\u001b[39m\n\u001b[32m      3\u001b[39m \u001b[33;03m\"\"\"Public API for tf._api.v2.__internal__.distribute.combinations namespace\u001b[39;00m\n\u001b[32m      4\u001b[39m \u001b[33;03m\"\"\"\u001b[39;00m\n\u001b[32m      6\u001b[39m \u001b[38;5;28;01mimport\u001b[39;00m\u001b[38;5;250m \u001b[39m\u001b[34;01msys\u001b[39;00m\u001b[38;5;250m \u001b[39m\u001b[38;5;28;01mas\u001b[39;00m\u001b[38;5;250m \u001b[39m\u001b[34;01m_sys\u001b[39;00m\n\u001b[32m----> \u001b[39m\u001b[32m8\u001b[39m \u001b[38;5;28;01mfrom\u001b[39;00m\u001b[38;5;250m \u001b[39m\u001b[34;01mtensorflow\u001b[39;00m\u001b[34;01m.\u001b[39;00m\u001b[34;01mpython\u001b[39;00m\u001b[34;01m.\u001b[39;00m\u001b[34;01mdistribute\u001b[39;00m\u001b[34;01m.\u001b[39;00m\u001b[34;01mcombinations\u001b[39;00m\u001b[38;5;250m \u001b[39m\u001b[38;5;28;01mimport\u001b[39;00m env \u001b[38;5;66;03m# line: 456\u001b[39;00m\n\u001b[32m      9\u001b[39m \u001b[38;5;28;01mfrom\u001b[39;00m\u001b[38;5;250m \u001b[39m\u001b[34;01mtensorflow\u001b[39;00m\u001b[34;01m.\u001b[39;00m\u001b[34;01mpython\u001b[39;00m\u001b[34;01m.\u001b[39;00m\u001b[34;01mdistribute\u001b[39;00m\u001b[34;01m.\u001b[39;00m\u001b[34;01mcombinations\u001b[39;00m\u001b[38;5;250m \u001b[39m\u001b[38;5;28;01mimport\u001b[39;00m generate \u001b[38;5;66;03m# line: 365\u001b[39;00m\n\u001b[32m     10\u001b[39m \u001b[38;5;28;01mfrom\u001b[39;00m\u001b[38;5;250m \u001b[39m\u001b[34;01mtensorflow\u001b[39;00m\u001b[34;01m.\u001b[39;00m\u001b[34;01mpython\u001b[39;00m\u001b[34;01m.\u001b[39;00m\u001b[34;01mdistribute\u001b[39;00m\u001b[34;01m.\u001b[39;00m\u001b[34;01mcombinations\u001b[39;00m\u001b[38;5;250m \u001b[39m\u001b[38;5;28;01mimport\u001b[39;00m in_main_process \u001b[38;5;66;03m# line: 418\u001b[39;00m\n",
      "\u001b[36mFile \u001b[39m\u001b[32md:\\github\\RECSYS\\.venv\\Lib\\site-packages\\tensorflow\\python\\distribute\\combinations.py:33\u001b[39m\n\u001b[32m     29\u001b[39m \u001b[38;5;28;01mimport\u001b[39;00m\u001b[38;5;250m \u001b[39m\u001b[34;01msix\u001b[39;00m\n\u001b[32m     32\u001b[39m \u001b[38;5;28;01mfrom\u001b[39;00m\u001b[38;5;250m \u001b[39m\u001b[34;01mtensorflow\u001b[39;00m\u001b[34;01m.\u001b[39;00m\u001b[34;01mpython\u001b[39;00m\u001b[34;01m.\u001b[39;00m\u001b[34;01mclient\u001b[39;00m\u001b[38;5;250m \u001b[39m\u001b[38;5;28;01mimport\u001b[39;00m session\n\u001b[32m---> \u001b[39m\u001b[32m33\u001b[39m \u001b[38;5;28;01mfrom\u001b[39;00m\u001b[38;5;250m \u001b[39m\u001b[34;01mtensorflow\u001b[39;00m\u001b[34;01m.\u001b[39;00m\u001b[34;01mpython\u001b[39;00m\u001b[34;01m.\u001b[39;00m\u001b[34;01mdistribute\u001b[39;00m\u001b[38;5;250m \u001b[39m\u001b[38;5;28;01mimport\u001b[39;00m collective_all_reduce_strategy\n\u001b[32m     34\u001b[39m \u001b[38;5;28;01mfrom\u001b[39;00m\u001b[38;5;250m \u001b[39m\u001b[34;01mtensorflow\u001b[39;00m\u001b[34;01m.\u001b[39;00m\u001b[34;01mpython\u001b[39;00m\u001b[34;01m.\u001b[39;00m\u001b[34;01mdistribute\u001b[39;00m\u001b[38;5;250m \u001b[39m\u001b[38;5;28;01mimport\u001b[39;00m distribute_lib\n\u001b[32m     35\u001b[39m \u001b[38;5;28;01mfrom\u001b[39;00m\u001b[38;5;250m \u001b[39m\u001b[34;01mtensorflow\u001b[39;00m\u001b[34;01m.\u001b[39;00m\u001b[34;01mpython\u001b[39;00m\u001b[34;01m.\u001b[39;00m\u001b[34;01mdistribute\u001b[39;00m\u001b[38;5;250m \u001b[39m\u001b[38;5;28;01mimport\u001b[39;00m multi_process_runner\n",
      "\u001b[36mFile \u001b[39m\u001b[32md:\\github\\RECSYS\\.venv\\Lib\\site-packages\\tensorflow\\python\\distribute\\collective_all_reduce_strategy.py:25\u001b[39m\n\u001b[32m     23\u001b[39m \u001b[38;5;28;01mfrom\u001b[39;00m\u001b[38;5;250m \u001b[39m\u001b[34;01mtensorflow\u001b[39;00m\u001b[34;01m.\u001b[39;00m\u001b[34;01mcore\u001b[39;00m\u001b[34;01m.\u001b[39;00m\u001b[34;01mprotobuf\u001b[39;00m\u001b[38;5;250m \u001b[39m\u001b[38;5;28;01mimport\u001b[39;00m tensorflow_server_pb2\n\u001b[32m     24\u001b[39m \u001b[38;5;28;01mfrom\u001b[39;00m\u001b[38;5;250m \u001b[39m\u001b[34;01mtensorflow\u001b[39;00m\u001b[34;01m.\u001b[39;00m\u001b[34;01mpython\u001b[39;00m\u001b[34;01m.\u001b[39;00m\u001b[34;01mdistribute\u001b[39;00m\u001b[38;5;250m \u001b[39m\u001b[38;5;28;01mimport\u001b[39;00m collective_util\n\u001b[32m---> \u001b[39m\u001b[32m25\u001b[39m \u001b[38;5;28;01mfrom\u001b[39;00m\u001b[38;5;250m \u001b[39m\u001b[34;01mtensorflow\u001b[39;00m\u001b[34;01m.\u001b[39;00m\u001b[34;01mpython\u001b[39;00m\u001b[34;01m.\u001b[39;00m\u001b[34;01mdistribute\u001b[39;00m\u001b[38;5;250m \u001b[39m\u001b[38;5;28;01mimport\u001b[39;00m cross_device_ops \u001b[38;5;28;01mas\u001b[39;00m cross_device_ops_lib\n\u001b[32m     26\u001b[39m \u001b[38;5;28;01mfrom\u001b[39;00m\u001b[38;5;250m \u001b[39m\u001b[34;01mtensorflow\u001b[39;00m\u001b[34;01m.\u001b[39;00m\u001b[34;01mpython\u001b[39;00m\u001b[34;01m.\u001b[39;00m\u001b[34;01mdistribute\u001b[39;00m\u001b[38;5;250m \u001b[39m\u001b[38;5;28;01mimport\u001b[39;00m cross_device_utils\n\u001b[32m     27\u001b[39m \u001b[38;5;28;01mfrom\u001b[39;00m\u001b[38;5;250m \u001b[39m\u001b[34;01mtensorflow\u001b[39;00m\u001b[34;01m.\u001b[39;00m\u001b[34;01mpython\u001b[39;00m\u001b[34;01m.\u001b[39;00m\u001b[34;01mdistribute\u001b[39;00m\u001b[38;5;250m \u001b[39m\u001b[38;5;28;01mimport\u001b[39;00m device_util\n",
      "\u001b[36mFile \u001b[39m\u001b[32md:\\github\\RECSYS\\.venv\\Lib\\site-packages\\tensorflow\\python\\distribute\\cross_device_ops.py:28\u001b[39m\n\u001b[32m     26\u001b[39m \u001b[38;5;28;01mfrom\u001b[39;00m\u001b[38;5;250m \u001b[39m\u001b[34;01mtensorflow\u001b[39;00m\u001b[34;01m.\u001b[39;00m\u001b[34;01mpython\u001b[39;00m\u001b[34;01m.\u001b[39;00m\u001b[34;01mclient\u001b[39;00m\u001b[38;5;250m \u001b[39m\u001b[38;5;28;01mimport\u001b[39;00m device_lib\n\u001b[32m     27\u001b[39m \u001b[38;5;28;01mfrom\u001b[39;00m\u001b[38;5;250m \u001b[39m\u001b[34;01mtensorflow\u001b[39;00m\u001b[34;01m.\u001b[39;00m\u001b[34;01mpython\u001b[39;00m\u001b[34;01m.\u001b[39;00m\u001b[34;01mdistribute\u001b[39;00m\u001b[38;5;250m \u001b[39m\u001b[38;5;28;01mimport\u001b[39;00m collective_util\n\u001b[32m---> \u001b[39m\u001b[32m28\u001b[39m \u001b[38;5;28;01mfrom\u001b[39;00m\u001b[38;5;250m \u001b[39m\u001b[34;01mtensorflow\u001b[39;00m\u001b[34;01m.\u001b[39;00m\u001b[34;01mpython\u001b[39;00m\u001b[34;01m.\u001b[39;00m\u001b[34;01mdistribute\u001b[39;00m\u001b[38;5;250m \u001b[39m\u001b[38;5;28;01mimport\u001b[39;00m cross_device_utils\n\u001b[32m     29\u001b[39m \u001b[38;5;28;01mfrom\u001b[39;00m\u001b[38;5;250m \u001b[39m\u001b[34;01mtensorflow\u001b[39;00m\u001b[34;01m.\u001b[39;00m\u001b[34;01mpython\u001b[39;00m\u001b[34;01m.\u001b[39;00m\u001b[34;01mdistribute\u001b[39;00m\u001b[38;5;250m \u001b[39m\u001b[38;5;28;01mimport\u001b[39;00m device_util\n\u001b[32m     30\u001b[39m \u001b[38;5;28;01mfrom\u001b[39;00m\u001b[38;5;250m \u001b[39m\u001b[34;01mtensorflow\u001b[39;00m\u001b[34;01m.\u001b[39;00m\u001b[34;01mpython\u001b[39;00m\u001b[34;01m.\u001b[39;00m\u001b[34;01mdistribute\u001b[39;00m\u001b[38;5;250m \u001b[39m\u001b[38;5;28;01mimport\u001b[39;00m distribute_utils\n",
      "\u001b[36mFile \u001b[39m\u001b[32md:\\github\\RECSYS\\.venv\\Lib\\site-packages\\tensorflow\\python\\distribute\\cross_device_utils.py:22\u001b[39m\n\u001b[32m     19\u001b[39m \u001b[38;5;28;01mfrom\u001b[39;00m\u001b[38;5;250m \u001b[39m\u001b[34;01mtyping\u001b[39;00m\u001b[38;5;250m \u001b[39m\u001b[38;5;28;01mimport\u001b[39;00m Callable, List, Optional, Union\n\u001b[32m     21\u001b[39m \u001b[38;5;28;01mfrom\u001b[39;00m\u001b[38;5;250m \u001b[39m\u001b[34;01mtensorflow\u001b[39;00m\u001b[34;01m.\u001b[39;00m\u001b[34;01mpython\u001b[39;00m\u001b[34;01m.\u001b[39;00m\u001b[34;01mdistribute\u001b[39;00m\u001b[38;5;250m \u001b[39m\u001b[38;5;28;01mimport\u001b[39;00m collective_util\n\u001b[32m---> \u001b[39m\u001b[32m22\u001b[39m \u001b[38;5;28;01mfrom\u001b[39;00m\u001b[38;5;250m \u001b[39m\u001b[34;01mtensorflow\u001b[39;00m\u001b[34;01m.\u001b[39;00m\u001b[34;01mpython\u001b[39;00m\u001b[34;01m.\u001b[39;00m\u001b[34;01mdistribute\u001b[39;00m\u001b[38;5;250m \u001b[39m\u001b[38;5;28;01mimport\u001b[39;00m values \u001b[38;5;28;01mas\u001b[39;00m value_lib\n\u001b[32m     23\u001b[39m \u001b[38;5;28;01mfrom\u001b[39;00m\u001b[38;5;250m \u001b[39m\u001b[34;01mtensorflow\u001b[39;00m\u001b[34;01m.\u001b[39;00m\u001b[34;01mpython\u001b[39;00m\u001b[34;01m.\u001b[39;00m\u001b[34;01meager\u001b[39;00m\u001b[38;5;250m \u001b[39m\u001b[38;5;28;01mimport\u001b[39;00m backprop_util\n\u001b[32m     24\u001b[39m \u001b[38;5;28;01mfrom\u001b[39;00m\u001b[38;5;250m \u001b[39m\u001b[34;01mtensorflow\u001b[39;00m\u001b[34;01m.\u001b[39;00m\u001b[34;01mpython\u001b[39;00m\u001b[34;01m.\u001b[39;00m\u001b[34;01meager\u001b[39;00m\u001b[38;5;250m \u001b[39m\u001b[38;5;28;01mimport\u001b[39;00m context\n",
      "\u001b[36mFile \u001b[39m\u001b[32md:\\github\\RECSYS\\.venv\\Lib\\site-packages\\tensorflow\\python\\distribute\\values.py:23\u001b[39m\n\u001b[32m     21\u001b[39m \u001b[38;5;28;01mfrom\u001b[39;00m\u001b[38;5;250m \u001b[39m\u001b[34;01mtensorflow\u001b[39;00m\u001b[34;01m.\u001b[39;00m\u001b[34;01mcore\u001b[39;00m\u001b[34;01m.\u001b[39;00m\u001b[34;01mprotobuf\u001b[39;00m\u001b[38;5;250m \u001b[39m\u001b[38;5;28;01mimport\u001b[39;00m struct_pb2\n\u001b[32m     22\u001b[39m \u001b[38;5;28;01mfrom\u001b[39;00m\u001b[38;5;250m \u001b[39m\u001b[34;01mtensorflow\u001b[39;00m\u001b[34;01m.\u001b[39;00m\u001b[34;01mpython\u001b[39;00m\u001b[34;01m.\u001b[39;00m\u001b[34;01mdistribute\u001b[39;00m\u001b[38;5;250m \u001b[39m\u001b[38;5;28;01mimport\u001b[39;00m device_util\n\u001b[32m---> \u001b[39m\u001b[32m23\u001b[39m \u001b[38;5;28;01mfrom\u001b[39;00m\u001b[38;5;250m \u001b[39m\u001b[34;01mtensorflow\u001b[39;00m\u001b[34;01m.\u001b[39;00m\u001b[34;01mpython\u001b[39;00m\u001b[34;01m.\u001b[39;00m\u001b[34;01mdistribute\u001b[39;00m\u001b[38;5;250m \u001b[39m\u001b[38;5;28;01mimport\u001b[39;00m distribute_lib\n\u001b[32m     24\u001b[39m \u001b[38;5;28;01mfrom\u001b[39;00m\u001b[38;5;250m \u001b[39m\u001b[34;01mtensorflow\u001b[39;00m\u001b[34;01m.\u001b[39;00m\u001b[34;01mpython\u001b[39;00m\u001b[34;01m.\u001b[39;00m\u001b[34;01mdistribute\u001b[39;00m\u001b[38;5;250m \u001b[39m\u001b[38;5;28;01mimport\u001b[39;00m packed_distributed_variable \u001b[38;5;28;01mas\u001b[39;00m packed\n\u001b[32m     25\u001b[39m \u001b[38;5;28;01mfrom\u001b[39;00m\u001b[38;5;250m \u001b[39m\u001b[34;01mtensorflow\u001b[39;00m\u001b[34;01m.\u001b[39;00m\u001b[34;01mpython\u001b[39;00m\u001b[34;01m.\u001b[39;00m\u001b[34;01mdistribute\u001b[39;00m\u001b[38;5;250m \u001b[39m\u001b[38;5;28;01mimport\u001b[39;00m reduce_util\n",
      "\u001b[36mFile \u001b[39m\u001b[32md:\\github\\RECSYS\\.venv\\Lib\\site-packages\\tensorflow\\python\\distribute\\distribute_lib.py:206\u001b[39m\n\u001b[32m    204\u001b[39m \u001b[38;5;28;01mfrom\u001b[39;00m\u001b[38;5;250m \u001b[39m\u001b[34;01mtensorflow\u001b[39;00m\u001b[34;01m.\u001b[39;00m\u001b[34;01mpython\u001b[39;00m\u001b[34;01m.\u001b[39;00m\u001b[34;01mautograph\u001b[39;00m\u001b[34;01m.\u001b[39;00m\u001b[34;01mcore\u001b[39;00m\u001b[38;5;250m \u001b[39m\u001b[38;5;28;01mimport\u001b[39;00m ag_ctx \u001b[38;5;28;01mas\u001b[39;00m autograph_ctx\n\u001b[32m    205\u001b[39m \u001b[38;5;28;01mfrom\u001b[39;00m\u001b[38;5;250m \u001b[39m\u001b[34;01mtensorflow\u001b[39;00m\u001b[34;01m.\u001b[39;00m\u001b[34;01mpython\u001b[39;00m\u001b[34;01m.\u001b[39;00m\u001b[34;01mautograph\u001b[39;00m\u001b[34;01m.\u001b[39;00m\u001b[34;01mimpl\u001b[39;00m\u001b[38;5;250m \u001b[39m\u001b[38;5;28;01mimport\u001b[39;00m api \u001b[38;5;28;01mas\u001b[39;00m autograph\n\u001b[32m--> \u001b[39m\u001b[32m206\u001b[39m \u001b[38;5;28;01mfrom\u001b[39;00m\u001b[38;5;250m \u001b[39m\u001b[34;01mtensorflow\u001b[39;00m\u001b[34;01m.\u001b[39;00m\u001b[34;01mpython\u001b[39;00m\u001b[34;01m.\u001b[39;00m\u001b[34;01mdata\u001b[39;00m\u001b[34;01m.\u001b[39;00m\u001b[34;01mops\u001b[39;00m\u001b[38;5;250m \u001b[39m\u001b[38;5;28;01mimport\u001b[39;00m dataset_ops\n\u001b[32m    207\u001b[39m \u001b[38;5;28;01mfrom\u001b[39;00m\u001b[38;5;250m \u001b[39m\u001b[34;01mtensorflow\u001b[39;00m\u001b[34;01m.\u001b[39;00m\u001b[34;01mpython\u001b[39;00m\u001b[34;01m.\u001b[39;00m\u001b[34;01mdistribute\u001b[39;00m\u001b[38;5;250m \u001b[39m\u001b[38;5;28;01mimport\u001b[39;00m collective_util\n\u001b[32m    208\u001b[39m \u001b[38;5;28;01mfrom\u001b[39;00m\u001b[38;5;250m \u001b[39m\u001b[34;01mtensorflow\u001b[39;00m\u001b[34;01m.\u001b[39;00m\u001b[34;01mpython\u001b[39;00m\u001b[34;01m.\u001b[39;00m\u001b[34;01mdistribute\u001b[39;00m\u001b[38;5;250m \u001b[39m\u001b[38;5;28;01mimport\u001b[39;00m device_util\n",
      "\u001b[36mFile \u001b[39m\u001b[32md:\\github\\RECSYS\\.venv\\Lib\\site-packages\\tensorflow\\python\\data\\__init__.py:21\u001b[39m\n\u001b[32m     15\u001b[39m \u001b[33;03m\"\"\"`tf.data.Dataset` API for input pipelines.\u001b[39;00m\n\u001b[32m     16\u001b[39m \n\u001b[32m     17\u001b[39m \u001b[33;03mSee [Importing Data](https://tensorflow.org/guide/data) for an overview.\u001b[39;00m\n\u001b[32m     18\u001b[39m \u001b[33;03m\"\"\"\u001b[39;00m\n\u001b[32m     20\u001b[39m \u001b[38;5;66;03m# pylint: disable=unused-import\u001b[39;00m\n\u001b[32m---> \u001b[39m\u001b[32m21\u001b[39m \u001b[38;5;28;01mfrom\u001b[39;00m\u001b[38;5;250m \u001b[39m\u001b[34;01mtensorflow\u001b[39;00m\u001b[34;01m.\u001b[39;00m\u001b[34;01mpython\u001b[39;00m\u001b[34;01m.\u001b[39;00m\u001b[34;01mdata\u001b[39;00m\u001b[38;5;250m \u001b[39m\u001b[38;5;28;01mimport\u001b[39;00m experimental\n\u001b[32m     22\u001b[39m \u001b[38;5;28;01mfrom\u001b[39;00m\u001b[38;5;250m \u001b[39m\u001b[34;01mtensorflow\u001b[39;00m\u001b[34;01m.\u001b[39;00m\u001b[34;01mpython\u001b[39;00m\u001b[34;01m.\u001b[39;00m\u001b[34;01mdata\u001b[39;00m\u001b[34;01m.\u001b[39;00m\u001b[34;01mops\u001b[39;00m\u001b[34;01m.\u001b[39;00m\u001b[34;01mdataset_ops\u001b[39;00m\u001b[38;5;250m \u001b[39m\u001b[38;5;28;01mimport\u001b[39;00m AUTOTUNE\n\u001b[32m     23\u001b[39m \u001b[38;5;28;01mfrom\u001b[39;00m\u001b[38;5;250m \u001b[39m\u001b[34;01mtensorflow\u001b[39;00m\u001b[34;01m.\u001b[39;00m\u001b[34;01mpython\u001b[39;00m\u001b[34;01m.\u001b[39;00m\u001b[34;01mdata\u001b[39;00m\u001b[34;01m.\u001b[39;00m\u001b[34;01mops\u001b[39;00m\u001b[34;01m.\u001b[39;00m\u001b[34;01mdataset_ops\u001b[39;00m\u001b[38;5;250m \u001b[39m\u001b[38;5;28;01mimport\u001b[39;00m Dataset\n",
      "\u001b[36mFile \u001b[39m\u001b[32md:\\github\\RECSYS\\.venv\\Lib\\site-packages\\tensorflow\\python\\data\\experimental\\__init__.py:98\u001b[39m\n\u001b[32m     15\u001b[39m \u001b[33;03m\"\"\"Experimental API for building input pipelines.\u001b[39;00m\n\u001b[32m     16\u001b[39m \n\u001b[32m     17\u001b[39m \u001b[33;03mThis module contains experimental `Dataset` sources and transformations that can\u001b[39;00m\n\u001b[32m   (...)\u001b[39m\u001b[32m     94\u001b[39m \u001b[33;03m@@UNKNOWN_CARDINALITY\u001b[39;00m\n\u001b[32m     95\u001b[39m \u001b[33;03m\"\"\"\u001b[39;00m\n\u001b[32m     97\u001b[39m \u001b[38;5;66;03m# pylint: disable=unused-import\u001b[39;00m\n\u001b[32m---> \u001b[39m\u001b[32m98\u001b[39m \u001b[38;5;28;01mfrom\u001b[39;00m\u001b[38;5;250m \u001b[39m\u001b[34;01mtensorflow\u001b[39;00m\u001b[34;01m.\u001b[39;00m\u001b[34;01mpython\u001b[39;00m\u001b[34;01m.\u001b[39;00m\u001b[34;01mdata\u001b[39;00m\u001b[34;01m.\u001b[39;00m\u001b[34;01mexperimental\u001b[39;00m\u001b[38;5;250m \u001b[39m\u001b[38;5;28;01mimport\u001b[39;00m service\n\u001b[32m     99\u001b[39m \u001b[38;5;28;01mfrom\u001b[39;00m\u001b[38;5;250m \u001b[39m\u001b[34;01mtensorflow\u001b[39;00m\u001b[34;01m.\u001b[39;00m\u001b[34;01mpython\u001b[39;00m\u001b[34;01m.\u001b[39;00m\u001b[34;01mdata\u001b[39;00m\u001b[34;01m.\u001b[39;00m\u001b[34;01mexperimental\u001b[39;00m\u001b[34;01m.\u001b[39;00m\u001b[34;01mops\u001b[39;00m\u001b[34;01m.\u001b[39;00m\u001b[34;01mbatching\u001b[39;00m\u001b[38;5;250m \u001b[39m\u001b[38;5;28;01mimport\u001b[39;00m dense_to_ragged_batch\n\u001b[32m    100\u001b[39m \u001b[38;5;28;01mfrom\u001b[39;00m\u001b[38;5;250m \u001b[39m\u001b[34;01mtensorflow\u001b[39;00m\u001b[34;01m.\u001b[39;00m\u001b[34;01mpython\u001b[39;00m\u001b[34;01m.\u001b[39;00m\u001b[34;01mdata\u001b[39;00m\u001b[34;01m.\u001b[39;00m\u001b[34;01mexperimental\u001b[39;00m\u001b[34;01m.\u001b[39;00m\u001b[34;01mops\u001b[39;00m\u001b[34;01m.\u001b[39;00m\u001b[34;01mbatching\u001b[39;00m\u001b[38;5;250m \u001b[39m\u001b[38;5;28;01mimport\u001b[39;00m dense_to_sparse_batch\n",
      "\u001b[36mFile \u001b[39m\u001b[32md:\\github\\RECSYS\\.venv\\Lib\\site-packages\\tensorflow\\python\\data\\experimental\\service\\__init__.py:419\u001b[39m\n\u001b[32m      1\u001b[39m \u001b[38;5;66;03m# Copyright 2020 The TensorFlow Authors. All Rights Reserved.\u001b[39;00m\n\u001b[32m      2\u001b[39m \u001b[38;5;66;03m#\u001b[39;00m\n\u001b[32m      3\u001b[39m \u001b[38;5;66;03m# Licensed under the Apache License, Version 2.0 (the \"License\");\u001b[39;00m\n\u001b[32m   (...)\u001b[39m\u001b[32m     13\u001b[39m \u001b[38;5;66;03m# limitations under the License.\u001b[39;00m\n\u001b[32m     14\u001b[39m \u001b[38;5;66;03m# ==============================================================================\u001b[39;00m\n\u001b[32m     15\u001b[39m \u001b[33;03m\"\"\"API for using the tf.data service.\u001b[39;00m\n\u001b[32m     16\u001b[39m \n\u001b[32m     17\u001b[39m \u001b[33;03mThis module contains:\u001b[39;00m\n\u001b[32m   (...)\u001b[39m\u001b[32m    416\u001b[39m \u001b[33;03m  job of ParameterServerStrategy).\u001b[39;00m\n\u001b[32m    417\u001b[39m \u001b[33;03m\"\"\"\u001b[39;00m\n\u001b[32m--> \u001b[39m\u001b[32m419\u001b[39m \u001b[38;5;28;01mfrom\u001b[39;00m\u001b[38;5;250m \u001b[39m\u001b[34;01mtensorflow\u001b[39;00m\u001b[34;01m.\u001b[39;00m\u001b[34;01mpython\u001b[39;00m\u001b[34;01m.\u001b[39;00m\u001b[34;01mdata\u001b[39;00m\u001b[34;01m.\u001b[39;00m\u001b[34;01mexperimental\u001b[39;00m\u001b[34;01m.\u001b[39;00m\u001b[34;01mops\u001b[39;00m\u001b[34;01m.\u001b[39;00m\u001b[34;01mdata_service_ops\u001b[39;00m\u001b[38;5;250m \u001b[39m\u001b[38;5;28;01mimport\u001b[39;00m distribute\n\u001b[32m    420\u001b[39m \u001b[38;5;28;01mfrom\u001b[39;00m\u001b[38;5;250m \u001b[39m\u001b[34;01mtensorflow\u001b[39;00m\u001b[34;01m.\u001b[39;00m\u001b[34;01mpython\u001b[39;00m\u001b[34;01m.\u001b[39;00m\u001b[34;01mdata\u001b[39;00m\u001b[34;01m.\u001b[39;00m\u001b[34;01mexperimental\u001b[39;00m\u001b[34;01m.\u001b[39;00m\u001b[34;01mops\u001b[39;00m\u001b[34;01m.\u001b[39;00m\u001b[34;01mdata_service_ops\u001b[39;00m\u001b[38;5;250m \u001b[39m\u001b[38;5;28;01mimport\u001b[39;00m from_dataset_id\n\u001b[32m    421\u001b[39m \u001b[38;5;28;01mfrom\u001b[39;00m\u001b[38;5;250m \u001b[39m\u001b[34;01mtensorflow\u001b[39;00m\u001b[34;01m.\u001b[39;00m\u001b[34;01mpython\u001b[39;00m\u001b[34;01m.\u001b[39;00m\u001b[34;01mdata\u001b[39;00m\u001b[34;01m.\u001b[39;00m\u001b[34;01mexperimental\u001b[39;00m\u001b[34;01m.\u001b[39;00m\u001b[34;01mops\u001b[39;00m\u001b[34;01m.\u001b[39;00m\u001b[34;01mdata_service_ops\u001b[39;00m\u001b[38;5;250m \u001b[39m\u001b[38;5;28;01mimport\u001b[39;00m register_dataset\n",
      "\u001b[36mFile \u001b[39m\u001b[32md:\\github\\RECSYS\\.venv\\Lib\\site-packages\\tensorflow\\python\\data\\experimental\\ops\\data_service_ops.py:22\u001b[39m\n\u001b[32m     20\u001b[39m \u001b[38;5;28;01mfrom\u001b[39;00m\u001b[38;5;250m \u001b[39m\u001b[34;01mtensorflow\u001b[39;00m\u001b[34;01m.\u001b[39;00m\u001b[34;01mcore\u001b[39;00m\u001b[34;01m.\u001b[39;00m\u001b[34;01mprotobuf\u001b[39;00m\u001b[38;5;250m \u001b[39m\u001b[38;5;28;01mimport\u001b[39;00m data_service_pb2\n\u001b[32m     21\u001b[39m \u001b[38;5;28;01mfrom\u001b[39;00m\u001b[38;5;250m \u001b[39m\u001b[34;01mtensorflow\u001b[39;00m\u001b[34;01m.\u001b[39;00m\u001b[34;01mpython\u001b[39;00m\u001b[38;5;250m \u001b[39m\u001b[38;5;28;01mimport\u001b[39;00m tf2\n\u001b[32m---> \u001b[39m\u001b[32m22\u001b[39m \u001b[38;5;28;01mfrom\u001b[39;00m\u001b[38;5;250m \u001b[39m\u001b[34;01mtensorflow\u001b[39;00m\u001b[34;01m.\u001b[39;00m\u001b[34;01mpython\u001b[39;00m\u001b[34;01m.\u001b[39;00m\u001b[34;01mdata\u001b[39;00m\u001b[34;01m.\u001b[39;00m\u001b[34;01mexperimental\u001b[39;00m\u001b[34;01m.\u001b[39;00m\u001b[34;01mops\u001b[39;00m\u001b[38;5;250m \u001b[39m\u001b[38;5;28;01mimport\u001b[39;00m compression_ops\n\u001b[32m     23\u001b[39m \u001b[38;5;28;01mfrom\u001b[39;00m\u001b[38;5;250m \u001b[39m\u001b[34;01mtensorflow\u001b[39;00m\u001b[34;01m.\u001b[39;00m\u001b[34;01mpython\u001b[39;00m\u001b[34;01m.\u001b[39;00m\u001b[34;01mdata\u001b[39;00m\u001b[34;01m.\u001b[39;00m\u001b[34;01mexperimental\u001b[39;00m\u001b[34;01m.\u001b[39;00m\u001b[34;01mservice\u001b[39;00m\u001b[38;5;250m \u001b[39m\u001b[38;5;28;01mimport\u001b[39;00m _pywrap_server_lib\n\u001b[32m     24\u001b[39m \u001b[38;5;28;01mfrom\u001b[39;00m\u001b[38;5;250m \u001b[39m\u001b[34;01mtensorflow\u001b[39;00m\u001b[34;01m.\u001b[39;00m\u001b[34;01mpython\u001b[39;00m\u001b[34;01m.\u001b[39;00m\u001b[34;01mdata\u001b[39;00m\u001b[34;01m.\u001b[39;00m\u001b[34;01mexperimental\u001b[39;00m\u001b[34;01m.\u001b[39;00m\u001b[34;01mservice\u001b[39;00m\u001b[38;5;250m \u001b[39m\u001b[38;5;28;01mimport\u001b[39;00m _pywrap_utils\n",
      "\u001b[36mFile \u001b[39m\u001b[32md:\\github\\RECSYS\\.venv\\Lib\\site-packages\\tensorflow\\python\\data\\experimental\\ops\\compression_ops.py:16\u001b[39m\n\u001b[32m      1\u001b[39m \u001b[38;5;66;03m# Copyright 2020 The TensorFlow Authors. All Rights Reserved.\u001b[39;00m\n\u001b[32m      2\u001b[39m \u001b[38;5;66;03m#\u001b[39;00m\n\u001b[32m      3\u001b[39m \u001b[38;5;66;03m# Licensed under the Apache License, Version 2.0 (the \"License\");\u001b[39;00m\n\u001b[32m   (...)\u001b[39m\u001b[32m     13\u001b[39m \u001b[38;5;66;03m# limitations under the License.\u001b[39;00m\n\u001b[32m     14\u001b[39m \u001b[38;5;66;03m# ==============================================================================\u001b[39;00m\n\u001b[32m     15\u001b[39m \u001b[33;03m\"\"\"Ops for compressing and uncompressing dataset elements.\"\"\"\u001b[39;00m\n\u001b[32m---> \u001b[39m\u001b[32m16\u001b[39m \u001b[38;5;28;01mfrom\u001b[39;00m\u001b[38;5;250m \u001b[39m\u001b[34;01mtensorflow\u001b[39;00m\u001b[34;01m.\u001b[39;00m\u001b[34;01mpython\u001b[39;00m\u001b[34;01m.\u001b[39;00m\u001b[34;01mdata\u001b[39;00m\u001b[34;01m.\u001b[39;00m\u001b[34;01mutil\u001b[39;00m\u001b[38;5;250m \u001b[39m\u001b[38;5;28;01mimport\u001b[39;00m structure\n\u001b[32m     17\u001b[39m \u001b[38;5;28;01mfrom\u001b[39;00m\u001b[38;5;250m \u001b[39m\u001b[34;01mtensorflow\u001b[39;00m\u001b[34;01m.\u001b[39;00m\u001b[34;01mpython\u001b[39;00m\u001b[34;01m.\u001b[39;00m\u001b[34;01mops\u001b[39;00m\u001b[38;5;250m \u001b[39m\u001b[38;5;28;01mimport\u001b[39;00m gen_experimental_dataset_ops \u001b[38;5;28;01mas\u001b[39;00m ged_ops\n\u001b[32m     20\u001b[39m \u001b[38;5;28;01mdef\u001b[39;00m\u001b[38;5;250m \u001b[39m\u001b[34mcompress\u001b[39m(element):\n",
      "\u001b[36mFile \u001b[39m\u001b[32md:\\github\\RECSYS\\.venv\\Lib\\site-packages\\tensorflow\\python\\data\\util\\structure.py:32\u001b[39m\n\u001b[32m     30\u001b[39m \u001b[38;5;28;01mfrom\u001b[39;00m\u001b[38;5;250m \u001b[39m\u001b[34;01mtensorflow\u001b[39;00m\u001b[34;01m.\u001b[39;00m\u001b[34;01mpython\u001b[39;00m\u001b[34;01m.\u001b[39;00m\u001b[34;01mops\u001b[39;00m\u001b[38;5;250m \u001b[39m\u001b[38;5;28;01mimport\u001b[39;00m resource_variable_ops\n\u001b[32m     31\u001b[39m \u001b[38;5;28;01mfrom\u001b[39;00m\u001b[38;5;250m \u001b[39m\u001b[34;01mtensorflow\u001b[39;00m\u001b[34;01m.\u001b[39;00m\u001b[34;01mpython\u001b[39;00m\u001b[34;01m.\u001b[39;00m\u001b[34;01mops\u001b[39;00m\u001b[38;5;250m \u001b[39m\u001b[38;5;28;01mimport\u001b[39;00m tensor_array_ops\n\u001b[32m---> \u001b[39m\u001b[32m32\u001b[39m \u001b[38;5;28;01mfrom\u001b[39;00m\u001b[38;5;250m \u001b[39m\u001b[34;01mtensorflow\u001b[39;00m\u001b[34;01m.\u001b[39;00m\u001b[34;01mpython\u001b[39;00m\u001b[34;01m.\u001b[39;00m\u001b[34;01mops\u001b[39;00m\u001b[34;01m.\u001b[39;00m\u001b[34;01mragged\u001b[39;00m\u001b[38;5;250m \u001b[39m\u001b[38;5;28;01mimport\u001b[39;00m ragged_tensor\n\u001b[32m     33\u001b[39m \u001b[38;5;28;01mfrom\u001b[39;00m\u001b[38;5;250m \u001b[39m\u001b[34;01mtensorflow\u001b[39;00m\u001b[34;01m.\u001b[39;00m\u001b[34;01mpython\u001b[39;00m\u001b[34;01m.\u001b[39;00m\u001b[34;01mplatform\u001b[39;00m\u001b[38;5;250m \u001b[39m\u001b[38;5;28;01mimport\u001b[39;00m tf_logging \u001b[38;5;28;01mas\u001b[39;00m logging\n\u001b[32m     34\u001b[39m \u001b[38;5;28;01mfrom\u001b[39;00m\u001b[38;5;250m \u001b[39m\u001b[34;01mtensorflow\u001b[39;00m\u001b[34;01m.\u001b[39;00m\u001b[34;01mpython\u001b[39;00m\u001b[34;01m.\u001b[39;00m\u001b[34;01mtypes\u001b[39;00m\u001b[38;5;250m \u001b[39m\u001b[38;5;28;01mimport\u001b[39;00m internal\n",
      "\u001b[36mFile \u001b[39m\u001b[32md:\\github\\RECSYS\\.venv\\Lib\\site-packages\\tensorflow\\python\\ops\\ragged\\ragged_tensor.py:3149\u001b[39m\n\u001b[32m   3144\u001b[39m RaggedOrDense = typing.Union[Ragged, core_types.TensorLike]\n\u001b[32m   3146\u001b[39m \u001b[38;5;66;03m# RaggedTensor must import ragged_ops to ensure that all dispatched ragged ops\u001b[39;00m\n\u001b[32m   3147\u001b[39m \u001b[38;5;66;03m# are registered. Ragged ops import RaggedTensor, so import at bottom of the\u001b[39;00m\n\u001b[32m   3148\u001b[39m \u001b[38;5;66;03m# file to avoid a partially-initialized module error.\u001b[39;00m\n\u001b[32m-> \u001b[39m\u001b[32m3149\u001b[39m \u001b[38;5;28;01mfrom\u001b[39;00m\u001b[38;5;250m \u001b[39m\u001b[34;01mtensorflow\u001b[39;00m\u001b[34;01m.\u001b[39;00m\u001b[34;01mpython\u001b[39;00m\u001b[34;01m.\u001b[39;00m\u001b[34;01mops\u001b[39;00m\u001b[34;01m.\u001b[39;00m\u001b[34;01mragged\u001b[39;00m\u001b[38;5;250m \u001b[39m\u001b[38;5;28;01mimport\u001b[39;00m ragged_ops  \u001b[38;5;66;03m# pylint: disable=unused-import, g-bad-import-order, g-import-not-at-top\u001b[39;00m\n",
      "\u001b[36mFile \u001b[39m\u001b[32md:\\github\\RECSYS\\.venv\\Lib\\site-packages\\tensorflow\\python\\ops\\ragged\\ragged_ops.py:41\u001b[39m\n\u001b[32m     39\u001b[39m \u001b[38;5;28;01mfrom\u001b[39;00m\u001b[38;5;250m \u001b[39m\u001b[34;01mtensorflow\u001b[39;00m\u001b[34;01m.\u001b[39;00m\u001b[34;01mpython\u001b[39;00m\u001b[34;01m.\u001b[39;00m\u001b[34;01mops\u001b[39;00m\u001b[34;01m.\u001b[39;00m\u001b[34;01mragged\u001b[39;00m\u001b[38;5;250m \u001b[39m\u001b[38;5;28;01mimport\u001b[39;00m ragged_gather_ops\n\u001b[32m     40\u001b[39m \u001b[38;5;28;01mfrom\u001b[39;00m\u001b[38;5;250m \u001b[39m\u001b[34;01mtensorflow\u001b[39;00m\u001b[34;01m.\u001b[39;00m\u001b[34;01mpython\u001b[39;00m\u001b[34;01m.\u001b[39;00m\u001b[34;01mops\u001b[39;00m\u001b[34;01m.\u001b[39;00m\u001b[34;01mragged\u001b[39;00m\u001b[38;5;250m \u001b[39m\u001b[38;5;28;01mimport\u001b[39;00m ragged_getitem\n\u001b[32m---> \u001b[39m\u001b[32m41\u001b[39m \u001b[38;5;28;01mfrom\u001b[39;00m\u001b[38;5;250m \u001b[39m\u001b[34;01mtensorflow\u001b[39;00m\u001b[34;01m.\u001b[39;00m\u001b[34;01mpython\u001b[39;00m\u001b[34;01m.\u001b[39;00m\u001b[34;01mops\u001b[39;00m\u001b[34;01m.\u001b[39;00m\u001b[34;01mragged\u001b[39;00m\u001b[38;5;250m \u001b[39m\u001b[38;5;28;01mimport\u001b[39;00m ragged_image_ops\n\u001b[32m     42\u001b[39m \u001b[38;5;28;01mfrom\u001b[39;00m\u001b[38;5;250m \u001b[39m\u001b[34;01mtensorflow\u001b[39;00m\u001b[34;01m.\u001b[39;00m\u001b[34;01mpython\u001b[39;00m\u001b[34;01m.\u001b[39;00m\u001b[34;01mops\u001b[39;00m\u001b[34;01m.\u001b[39;00m\u001b[34;01mragged\u001b[39;00m\u001b[38;5;250m \u001b[39m\u001b[38;5;28;01mimport\u001b[39;00m ragged_map_ops\n\u001b[32m     43\u001b[39m \u001b[38;5;28;01mfrom\u001b[39;00m\u001b[38;5;250m \u001b[39m\u001b[34;01mtensorflow\u001b[39;00m\u001b[34;01m.\u001b[39;00m\u001b[34;01mpython\u001b[39;00m\u001b[34;01m.\u001b[39;00m\u001b[34;01mops\u001b[39;00m\u001b[34;01m.\u001b[39;00m\u001b[34;01mragged\u001b[39;00m\u001b[38;5;250m \u001b[39m\u001b[38;5;28;01mimport\u001b[39;00m ragged_math_ops\n",
      "\u001b[36mFile \u001b[39m\u001b[32md:\\github\\RECSYS\\.venv\\Lib\\site-packages\\tensorflow\\python\\ops\\ragged\\ragged_image_ops.py:24\u001b[39m\n\u001b[32m     22\u001b[39m \u001b[38;5;28;01mfrom\u001b[39;00m\u001b[38;5;250m \u001b[39m\u001b[34;01mtensorflow\u001b[39;00m\u001b[34;01m.\u001b[39;00m\u001b[34;01mpython\u001b[39;00m\u001b[34;01m.\u001b[39;00m\u001b[34;01mops\u001b[39;00m\u001b[38;5;250m \u001b[39m\u001b[38;5;28;01mimport\u001b[39;00m array_ops\n\u001b[32m     23\u001b[39m \u001b[38;5;28;01mfrom\u001b[39;00m\u001b[38;5;250m \u001b[39m\u001b[34;01mtensorflow\u001b[39;00m\u001b[34;01m.\u001b[39;00m\u001b[34;01mpython\u001b[39;00m\u001b[34;01m.\u001b[39;00m\u001b[34;01mops\u001b[39;00m\u001b[38;5;250m \u001b[39m\u001b[38;5;28;01mimport\u001b[39;00m cond\n\u001b[32m---> \u001b[39m\u001b[32m24\u001b[39m \u001b[38;5;28;01mfrom\u001b[39;00m\u001b[38;5;250m \u001b[39m\u001b[34;01mtensorflow\u001b[39;00m\u001b[34;01m.\u001b[39;00m\u001b[34;01mpython\u001b[39;00m\u001b[34;01m.\u001b[39;00m\u001b[34;01mops\u001b[39;00m\u001b[38;5;250m \u001b[39m\u001b[38;5;28;01mimport\u001b[39;00m image_ops\n\u001b[32m     25\u001b[39m \u001b[38;5;28;01mfrom\u001b[39;00m\u001b[38;5;250m \u001b[39m\u001b[34;01mtensorflow\u001b[39;00m\u001b[34;01m.\u001b[39;00m\u001b[34;01mpython\u001b[39;00m\u001b[34;01m.\u001b[39;00m\u001b[34;01mops\u001b[39;00m\u001b[38;5;250m \u001b[39m\u001b[38;5;28;01mimport\u001b[39;00m map_fn\n\u001b[32m     26\u001b[39m \u001b[38;5;28;01mfrom\u001b[39;00m\u001b[38;5;250m \u001b[39m\u001b[34;01mtensorflow\u001b[39;00m\u001b[34;01m.\u001b[39;00m\u001b[34;01mpython\u001b[39;00m\u001b[34;01m.\u001b[39;00m\u001b[34;01mops\u001b[39;00m\u001b[38;5;250m \u001b[39m\u001b[38;5;28;01mimport\u001b[39;00m math_ops\n",
      "\u001b[36mFile \u001b[39m\u001b[32md:\\github\\RECSYS\\.venv\\Lib\\site-packages\\tensorflow\\python\\ops\\image_ops.py:159\u001b[39m\n\u001b[32m    156\u001b[39m \u001b[38;5;66;03m# go/tf-wildcard-import\u001b[39;00m\n\u001b[32m    157\u001b[39m \u001b[38;5;66;03m# pylint: disable=wildcard-import\u001b[39;00m\n\u001b[32m    158\u001b[39m \u001b[38;5;28;01mfrom\u001b[39;00m\u001b[38;5;250m \u001b[39m\u001b[34;01mtensorflow\u001b[39;00m\u001b[34;01m.\u001b[39;00m\u001b[34;01mpython\u001b[39;00m\u001b[34;01m.\u001b[39;00m\u001b[34;01mops\u001b[39;00m\u001b[34;01m.\u001b[39;00m\u001b[34;01mgen_image_ops\u001b[39;00m\u001b[38;5;250m \u001b[39m\u001b[38;5;28;01mimport\u001b[39;00m *\n\u001b[32m--> \u001b[39m\u001b[32m159\u001b[39m \u001b[38;5;28;01mfrom\u001b[39;00m\u001b[38;5;250m \u001b[39m\u001b[34;01mtensorflow\u001b[39;00m\u001b[34;01m.\u001b[39;00m\u001b[34;01mpython\u001b[39;00m\u001b[34;01m.\u001b[39;00m\u001b[34;01mops\u001b[39;00m\u001b[34;01m.\u001b[39;00m\u001b[34;01mimage_ops_impl\u001b[39;00m\u001b[38;5;250m \u001b[39m\u001b[38;5;28;01mimport\u001b[39;00m *\n\u001b[32m    160\u001b[39m \u001b[38;5;66;03m# pylint: enable=wildcard-import\u001b[39;00m\n\u001b[32m    161\u001b[39m \n\u001b[32m    162\u001b[39m \u001b[38;5;66;03m# TODO(drpng): remove these once internal use has discontinued.\u001b[39;00m\n\u001b[32m    163\u001b[39m \u001b[38;5;66;03m# pylint: disable=unused-import\u001b[39;00m\n\u001b[32m    164\u001b[39m \u001b[38;5;28;01mfrom\u001b[39;00m\u001b[38;5;250m \u001b[39m\u001b[34;01mtensorflow\u001b[39;00m\u001b[34;01m.\u001b[39;00m\u001b[34;01mpython\u001b[39;00m\u001b[34;01m.\u001b[39;00m\u001b[34;01mops\u001b[39;00m\u001b[34;01m.\u001b[39;00m\u001b[34;01mimage_ops_impl\u001b[39;00m\u001b[38;5;250m \u001b[39m\u001b[38;5;28;01mimport\u001b[39;00m _Check3DImage\n",
      "\u001b[36mFile \u001b[39m\u001b[32md:\\github\\RECSYS\\.venv\\Lib\\site-packages\\tensorflow\\python\\ops\\image_ops_impl.py:39\u001b[39m\n\u001b[32m     37\u001b[39m \u001b[38;5;28;01mfrom\u001b[39;00m\u001b[38;5;250m \u001b[39m\u001b[34;01mtensorflow\u001b[39;00m\u001b[34;01m.\u001b[39;00m\u001b[34;01mpython\u001b[39;00m\u001b[34;01m.\u001b[39;00m\u001b[34;01mops\u001b[39;00m\u001b[38;5;250m \u001b[39m\u001b[38;5;28;01mimport\u001b[39;00m gen_image_ops\n\u001b[32m     38\u001b[39m \u001b[38;5;28;01mfrom\u001b[39;00m\u001b[38;5;250m \u001b[39m\u001b[34;01mtensorflow\u001b[39;00m\u001b[34;01m.\u001b[39;00m\u001b[34;01mpython\u001b[39;00m\u001b[34;01m.\u001b[39;00m\u001b[34;01mops\u001b[39;00m\u001b[38;5;250m \u001b[39m\u001b[38;5;28;01mimport\u001b[39;00m math_ops\n\u001b[32m---> \u001b[39m\u001b[32m39\u001b[39m \u001b[38;5;28;01mfrom\u001b[39;00m\u001b[38;5;250m \u001b[39m\u001b[34;01mtensorflow\u001b[39;00m\u001b[34;01m.\u001b[39;00m\u001b[34;01mpython\u001b[39;00m\u001b[34;01m.\u001b[39;00m\u001b[34;01mops\u001b[39;00m\u001b[38;5;250m \u001b[39m\u001b[38;5;28;01mimport\u001b[39;00m nn_impl\n\u001b[32m     40\u001b[39m \u001b[38;5;28;01mfrom\u001b[39;00m\u001b[38;5;250m \u001b[39m\u001b[34;01mtensorflow\u001b[39;00m\u001b[34;01m.\u001b[39;00m\u001b[34;01mpython\u001b[39;00m\u001b[34;01m.\u001b[39;00m\u001b[34;01mops\u001b[39;00m\u001b[38;5;250m \u001b[39m\u001b[38;5;28;01mimport\u001b[39;00m nn_ops\n\u001b[32m     41\u001b[39m \u001b[38;5;28;01mfrom\u001b[39;00m\u001b[38;5;250m \u001b[39m\u001b[34;01mtensorflow\u001b[39;00m\u001b[34;01m.\u001b[39;00m\u001b[34;01mpython\u001b[39;00m\u001b[34;01m.\u001b[39;00m\u001b[34;01mops\u001b[39;00m\u001b[38;5;250m \u001b[39m\u001b[38;5;28;01mimport\u001b[39;00m random_ops\n",
      "\u001b[36mFile \u001b[39m\u001b[32md:\\github\\RECSYS\\.venv\\Lib\\site-packages\\tensorflow\\python\\ops\\nn_impl.py:26\u001b[39m\n\u001b[32m     24\u001b[39m \u001b[38;5;28;01mfrom\u001b[39;00m\u001b[38;5;250m \u001b[39m\u001b[34;01mtensorflow\u001b[39;00m\u001b[34;01m.\u001b[39;00m\u001b[34;01mpython\u001b[39;00m\u001b[34;01m.\u001b[39;00m\u001b[34;01mops\u001b[39;00m\u001b[38;5;250m \u001b[39m\u001b[38;5;28;01mimport\u001b[39;00m candidate_sampling_ops\n\u001b[32m     25\u001b[39m \u001b[38;5;28;01mfrom\u001b[39;00m\u001b[38;5;250m \u001b[39m\u001b[34;01mtensorflow\u001b[39;00m\u001b[34;01m.\u001b[39;00m\u001b[34;01mpython\u001b[39;00m\u001b[34;01m.\u001b[39;00m\u001b[34;01mops\u001b[39;00m\u001b[38;5;250m \u001b[39m\u001b[38;5;28;01mimport\u001b[39;00m cond \u001b[38;5;28;01mas\u001b[39;00m tf_cond\n\u001b[32m---> \u001b[39m\u001b[32m26\u001b[39m \u001b[38;5;28;01mfrom\u001b[39;00m\u001b[38;5;250m \u001b[39m\u001b[34;01mtensorflow\u001b[39;00m\u001b[34;01m.\u001b[39;00m\u001b[34;01mpython\u001b[39;00m\u001b[34;01m.\u001b[39;00m\u001b[34;01mops\u001b[39;00m\u001b[38;5;250m \u001b[39m\u001b[38;5;28;01mimport\u001b[39;00m ctc_ops  \u001b[38;5;66;03m# pylint: disable=unused-import\u001b[39;00m\n\u001b[32m     27\u001b[39m \u001b[38;5;28;01mfrom\u001b[39;00m\u001b[38;5;250m \u001b[39m\u001b[34;01mtensorflow\u001b[39;00m\u001b[34;01m.\u001b[39;00m\u001b[34;01mpython\u001b[39;00m\u001b[34;01m.\u001b[39;00m\u001b[34;01mops\u001b[39;00m\u001b[38;5;250m \u001b[39m\u001b[38;5;28;01mimport\u001b[39;00m custom_gradient\n\u001b[32m     28\u001b[39m \u001b[38;5;28;01mfrom\u001b[39;00m\u001b[38;5;250m \u001b[39m\u001b[34;01mtensorflow\u001b[39;00m\u001b[34;01m.\u001b[39;00m\u001b[34;01mpython\u001b[39;00m\u001b[34;01m.\u001b[39;00m\u001b[34;01mops\u001b[39;00m\u001b[38;5;250m \u001b[39m\u001b[38;5;28;01mimport\u001b[39;00m embedding_ops\n",
      "\u001b[36mFile \u001b[39m\u001b[32md:\\github\\RECSYS\\.venv\\Lib\\site-packages\\tensorflow\\python\\ops\\ctc_ops.py:35\u001b[39m\n\u001b[32m     33\u001b[39m \u001b[38;5;28;01mfrom\u001b[39;00m\u001b[38;5;250m \u001b[39m\u001b[34;01mtensorflow\u001b[39;00m\u001b[34;01m.\u001b[39;00m\u001b[34;01mpython\u001b[39;00m\u001b[34;01m.\u001b[39;00m\u001b[34;01mops\u001b[39;00m\u001b[38;5;250m \u001b[39m\u001b[38;5;28;01mimport\u001b[39;00m array_ops\n\u001b[32m     34\u001b[39m \u001b[38;5;28;01mfrom\u001b[39;00m\u001b[38;5;250m \u001b[39m\u001b[34;01mtensorflow\u001b[39;00m\u001b[34;01m.\u001b[39;00m\u001b[34;01mpython\u001b[39;00m\u001b[34;01m.\u001b[39;00m\u001b[34;01mops\u001b[39;00m\u001b[38;5;250m \u001b[39m\u001b[38;5;28;01mimport\u001b[39;00m array_ops_stack\n\u001b[32m---> \u001b[39m\u001b[32m35\u001b[39m \u001b[38;5;28;01mfrom\u001b[39;00m\u001b[38;5;250m \u001b[39m\u001b[34;01mtensorflow\u001b[39;00m\u001b[34;01m.\u001b[39;00m\u001b[34;01mpython\u001b[39;00m\u001b[34;01m.\u001b[39;00m\u001b[34;01mops\u001b[39;00m\u001b[38;5;250m \u001b[39m\u001b[38;5;28;01mimport\u001b[39;00m custom_gradient\n\u001b[32m     36\u001b[39m \u001b[38;5;28;01mfrom\u001b[39;00m\u001b[38;5;250m \u001b[39m\u001b[34;01mtensorflow\u001b[39;00m\u001b[34;01m.\u001b[39;00m\u001b[34;01mpython\u001b[39;00m\u001b[34;01m.\u001b[39;00m\u001b[34;01mops\u001b[39;00m\u001b[38;5;250m \u001b[39m\u001b[38;5;28;01mimport\u001b[39;00m functional_ops\n\u001b[32m     37\u001b[39m \u001b[38;5;28;01mfrom\u001b[39;00m\u001b[38;5;250m \u001b[39m\u001b[34;01mtensorflow\u001b[39;00m\u001b[34;01m.\u001b[39;00m\u001b[34;01mpython\u001b[39;00m\u001b[34;01m.\u001b[39;00m\u001b[34;01mops\u001b[39;00m\u001b[38;5;250m \u001b[39m\u001b[38;5;28;01mimport\u001b[39;00m gen_array_ops\n",
      "\u001b[36mFile \u001b[39m\u001b[32md:\\github\\RECSYS\\.venv\\Lib\\site-packages\\tensorflow\\python\\ops\\custom_gradient.py:17\u001b[39m\n\u001b[32m      1\u001b[39m \u001b[38;5;66;03m# Copyright 2017 The TensorFlow Authors. All Rights Reserved.\u001b[39;00m\n\u001b[32m      2\u001b[39m \u001b[38;5;66;03m#\u001b[39;00m\n\u001b[32m      3\u001b[39m \u001b[38;5;66;03m# Licensed under the Apache License, Version 2.0 (the \"License\");\u001b[39;00m\n\u001b[32m   (...)\u001b[39m\u001b[32m     13\u001b[39m \u001b[38;5;66;03m# limitations under the License.\u001b[39;00m\n\u001b[32m     14\u001b[39m \u001b[38;5;66;03m# ==============================================================================\u001b[39;00m\n\u001b[32m     15\u001b[39m \u001b[33;03m\"\"\"Decorator to overrides the gradient for a function.\"\"\"\u001b[39;00m\n\u001b[32m---> \u001b[39m\u001b[32m17\u001b[39m \u001b[38;5;28;01mfrom\u001b[39;00m\u001b[38;5;250m \u001b[39m\u001b[34;01mtensorflow\u001b[39;00m\u001b[34;01m.\u001b[39;00m\u001b[34;01mpython\u001b[39;00m\u001b[34;01m.\u001b[39;00m\u001b[34;01meager\u001b[39;00m\u001b[38;5;250m \u001b[39m\u001b[38;5;28;01mimport\u001b[39;00m backprop\n\u001b[32m     18\u001b[39m \u001b[38;5;28;01mfrom\u001b[39;00m\u001b[38;5;250m \u001b[39m\u001b[34;01mtensorflow\u001b[39;00m\u001b[34;01m.\u001b[39;00m\u001b[34;01mpython\u001b[39;00m\u001b[34;01m.\u001b[39;00m\u001b[34;01meager\u001b[39;00m\u001b[38;5;250m \u001b[39m\u001b[38;5;28;01mimport\u001b[39;00m context\n\u001b[32m     19\u001b[39m \u001b[38;5;28;01mfrom\u001b[39;00m\u001b[38;5;250m \u001b[39m\u001b[34;01mtensorflow\u001b[39;00m\u001b[34;01m.\u001b[39;00m\u001b[34;01mpython\u001b[39;00m\u001b[34;01m.\u001b[39;00m\u001b[34;01meager\u001b[39;00m\u001b[38;5;250m \u001b[39m\u001b[38;5;28;01mimport\u001b[39;00m record\n",
      "\u001b[36mFile \u001b[39m\u001b[32md:\\github\\RECSYS\\.venv\\Lib\\site-packages\\tensorflow\\python\\eager\\backprop.py:45\u001b[39m\n\u001b[32m     43\u001b[39m \u001b[38;5;28;01mfrom\u001b[39;00m\u001b[38;5;250m \u001b[39m\u001b[34;01mtensorflow\u001b[39;00m\u001b[34;01m.\u001b[39;00m\u001b[34;01mpython\u001b[39;00m\u001b[34;01m.\u001b[39;00m\u001b[34;01mops\u001b[39;00m\u001b[38;5;250m \u001b[39m\u001b[38;5;28;01mimport\u001b[39;00m gen_array_ops\n\u001b[32m     44\u001b[39m \u001b[38;5;28;01mfrom\u001b[39;00m\u001b[38;5;250m \u001b[39m\u001b[34;01mtensorflow\u001b[39;00m\u001b[34;01m.\u001b[39;00m\u001b[34;01mpython\u001b[39;00m\u001b[34;01m.\u001b[39;00m\u001b[34;01mops\u001b[39;00m\u001b[38;5;250m \u001b[39m\u001b[38;5;28;01mimport\u001b[39;00m gen_math_ops\n\u001b[32m---> \u001b[39m\u001b[32m45\u001b[39m \u001b[38;5;28;01mfrom\u001b[39;00m\u001b[38;5;250m \u001b[39m\u001b[34;01mtensorflow\u001b[39;00m\u001b[34;01m.\u001b[39;00m\u001b[34;01mpython\u001b[39;00m\u001b[34;01m.\u001b[39;00m\u001b[34;01mops\u001b[39;00m\u001b[38;5;250m \u001b[39m\u001b[38;5;28;01mimport\u001b[39;00m gradients_impl  \u001b[38;5;66;03m# pylint: disable=unused-import\u001b[39;00m\n\u001b[32m     46\u001b[39m \u001b[38;5;28;01mfrom\u001b[39;00m\u001b[38;5;250m \u001b[39m\u001b[34;01mtensorflow\u001b[39;00m\u001b[34;01m.\u001b[39;00m\u001b[34;01mpython\u001b[39;00m\u001b[34;01m.\u001b[39;00m\u001b[34;01mops\u001b[39;00m\u001b[38;5;250m \u001b[39m\u001b[38;5;28;01mimport\u001b[39;00m resource_variable_ops\n\u001b[32m     47\u001b[39m \u001b[38;5;28;01mfrom\u001b[39;00m\u001b[38;5;250m \u001b[39m\u001b[34;01mtensorflow\u001b[39;00m\u001b[34;01m.\u001b[39;00m\u001b[34;01mpython\u001b[39;00m\u001b[34;01m.\u001b[39;00m\u001b[34;01mops\u001b[39;00m\u001b[34;01m.\u001b[39;00m\u001b[34;01mparallel_for\u001b[39;00m\u001b[38;5;250m \u001b[39m\u001b[38;5;28;01mimport\u001b[39;00m control_flow_ops \u001b[38;5;28;01mas\u001b[39;00m pfor_ops\n",
      "\u001b[36mFile \u001b[39m\u001b[32md:\\github\\RECSYS\\.venv\\Lib\\site-packages\\tensorflow\\python\\ops\\gradients_impl.py:35\u001b[39m\n\u001b[32m     33\u001b[39m \u001b[38;5;28;01mfrom\u001b[39;00m\u001b[38;5;250m \u001b[39m\u001b[34;01mtensorflow\u001b[39;00m\u001b[34;01m.\u001b[39;00m\u001b[34;01mpython\u001b[39;00m\u001b[34;01m.\u001b[39;00m\u001b[34;01mops\u001b[39;00m\u001b[38;5;250m \u001b[39m\u001b[38;5;28;01mimport\u001b[39;00m nccl_ops  \u001b[38;5;66;03m# pylint: disable=unused-import\u001b[39;00m\n\u001b[32m     34\u001b[39m \u001b[38;5;28;01mfrom\u001b[39;00m\u001b[38;5;250m \u001b[39m\u001b[34;01mtensorflow\u001b[39;00m\u001b[34;01m.\u001b[39;00m\u001b[34;01mpython\u001b[39;00m\u001b[34;01m.\u001b[39;00m\u001b[34;01mops\u001b[39;00m\u001b[38;5;250m \u001b[39m\u001b[38;5;28;01mimport\u001b[39;00m optional_grad  \u001b[38;5;66;03m# pylint: disable=unused-import\u001b[39;00m\n\u001b[32m---> \u001b[39m\u001b[32m35\u001b[39m \u001b[38;5;28;01mfrom\u001b[39;00m\u001b[38;5;250m \u001b[39m\u001b[34;01mtensorflow\u001b[39;00m\u001b[34;01m.\u001b[39;00m\u001b[34;01mpython\u001b[39;00m\u001b[34;01m.\u001b[39;00m\u001b[34;01mops\u001b[39;00m\u001b[38;5;250m \u001b[39m\u001b[38;5;28;01mimport\u001b[39;00m proto_ops  \u001b[38;5;66;03m# pylint: disable=unused-import\u001b[39;00m\n\u001b[32m     36\u001b[39m \u001b[38;5;28;01mfrom\u001b[39;00m\u001b[38;5;250m \u001b[39m\u001b[34;01mtensorflow\u001b[39;00m\u001b[34;01m.\u001b[39;00m\u001b[34;01mpython\u001b[39;00m\u001b[34;01m.\u001b[39;00m\u001b[34;01mops\u001b[39;00m\u001b[38;5;250m \u001b[39m\u001b[38;5;28;01mimport\u001b[39;00m random_grad  \u001b[38;5;66;03m# pylint: disable=unused-import\u001b[39;00m\n\u001b[32m     37\u001b[39m \u001b[38;5;28;01mfrom\u001b[39;00m\u001b[38;5;250m \u001b[39m\u001b[34;01mtensorflow\u001b[39;00m\u001b[34;01m.\u001b[39;00m\u001b[34;01mpython\u001b[39;00m\u001b[34;01m.\u001b[39;00m\u001b[34;01mops\u001b[39;00m\u001b[38;5;250m \u001b[39m\u001b[38;5;28;01mimport\u001b[39;00m rnn_grad  \u001b[38;5;66;03m# pylint: disable=unused-import\u001b[39;00m\n",
      "\u001b[36mFile \u001b[39m\u001b[32md:\\github\\RECSYS\\.venv\\Lib\\site-packages\\tensorflow\\python\\ops\\proto_ops.py:21\u001b[39m\n\u001b[32m     19\u001b[39m \u001b[38;5;28;01mfrom\u001b[39;00m\u001b[38;5;250m \u001b[39m\u001b[34;01mtensorflow\u001b[39;00m\u001b[34;01m.\u001b[39;00m\u001b[34;01mpython\u001b[39;00m\u001b[34;01m.\u001b[39;00m\u001b[34;01mframework\u001b[39;00m\u001b[38;5;250m \u001b[39m\u001b[38;5;28;01mimport\u001b[39;00m ops\n\u001b[32m     20\u001b[39m \u001b[38;5;28;01mfrom\u001b[39;00m\u001b[38;5;250m \u001b[39m\u001b[34;01mtensorflow\u001b[39;00m\u001b[34;01m.\u001b[39;00m\u001b[34;01mpython\u001b[39;00m\u001b[34;01m.\u001b[39;00m\u001b[34;01mops\u001b[39;00m\u001b[34;01m.\u001b[39;00m\u001b[34;01mgen_decode_proto_ops\u001b[39;00m\u001b[38;5;250m \u001b[39m\u001b[38;5;28;01mimport\u001b[39;00m decode_proto_v2 \u001b[38;5;28;01mas\u001b[39;00m decode_proto\n\u001b[32m---> \u001b[39m\u001b[32m21\u001b[39m \u001b[38;5;28;01mfrom\u001b[39;00m\u001b[38;5;250m \u001b[39m\u001b[34;01mtensorflow\u001b[39;00m\u001b[34;01m.\u001b[39;00m\u001b[34;01mpython\u001b[39;00m\u001b[34;01m.\u001b[39;00m\u001b[34;01mops\u001b[39;00m\u001b[34;01m.\u001b[39;00m\u001b[34;01mgen_encode_proto_ops\u001b[39;00m\u001b[38;5;250m \u001b[39m\u001b[38;5;28;01mimport\u001b[39;00m encode_proto\n\u001b[32m     22\u001b[39m \u001b[38;5;66;03m# pylint: enable=unused-import\u001b[39;00m\n\u001b[32m     24\u001b[39m ops.NotDifferentiable(\u001b[33m\"\u001b[39m\u001b[33mDecodeProtoV2\u001b[39m\u001b[33m\"\u001b[39m)\n",
      "\u001b[36mFile \u001b[39m\u001b[32m<frozen importlib._bootstrap>:1178\u001b[39m, in \u001b[36m_find_and_load\u001b[39m\u001b[34m(name, import_)\u001b[39m\n",
      "\u001b[36mFile \u001b[39m\u001b[32m<frozen importlib._bootstrap>:1149\u001b[39m, in \u001b[36m_find_and_load_unlocked\u001b[39m\u001b[34m(name, import_)\u001b[39m\n",
      "\u001b[36mFile \u001b[39m\u001b[32m<frozen importlib._bootstrap>:690\u001b[39m, in \u001b[36m_load_unlocked\u001b[39m\u001b[34m(spec)\u001b[39m\n",
      "\u001b[36mFile \u001b[39m\u001b[32m<frozen importlib._bootstrap_external>:936\u001b[39m, in \u001b[36mexec_module\u001b[39m\u001b[34m(self, module)\u001b[39m\n",
      "\u001b[36mFile \u001b[39m\u001b[32m<frozen importlib._bootstrap_external>:1032\u001b[39m, in \u001b[36mget_code\u001b[39m\u001b[34m(self, fullname)\u001b[39m\n",
      "\u001b[36mFile \u001b[39m\u001b[32m<frozen importlib._bootstrap_external>:1130\u001b[39m, in \u001b[36mget_data\u001b[39m\u001b[34m(self, path)\u001b[39m\n",
      "\u001b[31mKeyboardInterrupt\u001b[39m: "
     ]
    }
   ],
   "source": [
    "import tensorflow as tf\n",
    "import pandas as pd\n",
    "import numpy as np"
   ]
  },
  {
   "cell_type": "code",
   "execution_count": 11,
   "metadata": {},
   "outputs": [
    {
     "data": {
      "text/plain": [
       "<keras.src.engine.functional.Functional at 0x2b1fba3f610>"
      ]
     },
     "execution_count": 11,
     "metadata": {},
     "output_type": "execute_result"
    }
   ],
   "source": [
    "trans = tf.keras.models.load_model(filepath=r'D:\\github\\RECSYS\\Practica 2\\weight\\transformer_saved_model')\n",
    "trans"
   ]
  },
  {
   "cell_type": "code",
   "execution_count": 12,
   "metadata": {},
   "outputs": [
    {
     "data": {
      "text/html": [
       "<div>\n",
       "<style scoped>\n",
       "    .dataframe tbody tr th:only-of-type {\n",
       "        vertical-align: middle;\n",
       "    }\n",
       "\n",
       "    .dataframe tbody tr th {\n",
       "        vertical-align: top;\n",
       "    }\n",
       "\n",
       "    .dataframe thead th {\n",
       "        text-align: right;\n",
       "    }\n",
       "</style>\n",
       "<table border=\"1\" class=\"dataframe\">\n",
       "  <thead>\n",
       "    <tr style=\"text-align: right;\">\n",
       "      <th></th>\n",
       "      <th>review_id</th>\n",
       "      <th>useful</th>\n",
       "      <th>funny</th>\n",
       "      <th>cool</th>\n",
       "      <th>text</th>\n",
       "      <th>stars_neg</th>\n",
       "      <th>review_count_neg</th>\n",
       "      <th>is_open_neg</th>\n",
       "      <th>distancia_ref_neg</th>\n",
       "      <th>state_AZ_neg</th>\n",
       "      <th>...</th>\n",
       "      <th>funny_user</th>\n",
       "      <th>cool_user</th>\n",
       "      <th>fans_user</th>\n",
       "      <th>average_stars_user</th>\n",
       "      <th>antiguedad_anios_user</th>\n",
       "      <th>reviews_por_anio_user</th>\n",
       "      <th>num_friends_user</th>\n",
       "      <th>influencia_social_user</th>\n",
       "      <th>num_elite_years_user</th>\n",
       "      <th>compliment_user</th>\n",
       "    </tr>\n",
       "  </thead>\n",
       "  <tbody>\n",
       "    <tr>\n",
       "      <th>403628</th>\n",
       "      <td>EhGt3u8D9K1F90PjRD31HQ</td>\n",
       "      <td>0.266410</td>\n",
       "      <td>-0.150312</td>\n",
       "      <td>-0.251644</td>\n",
       "      <td>Very happy with the service here at Keith's! H...</td>\n",
       "      <td>0.930844</td>\n",
       "      <td>-0.264343</td>\n",
       "      <td>1</td>\n",
       "      <td>0.030301</td>\n",
       "      <td>0</td>\n",
       "      <td>...</td>\n",
       "      <td>0.214792</td>\n",
       "      <td>0.100727</td>\n",
       "      <td>0.434233</td>\n",
       "      <td>0.255839</td>\n",
       "      <td>1.569321</td>\n",
       "      <td>1.307456</td>\n",
       "      <td>0.136980</td>\n",
       "      <td>0.182405</td>\n",
       "      <td>-0.241889</td>\n",
       "      <td>0.078702</td>\n",
       "    </tr>\n",
       "    <tr>\n",
       "      <th>322664</th>\n",
       "      <td>cmz4KDov4tJ3SaMbJ0inoQ</td>\n",
       "      <td>-0.391093</td>\n",
       "      <td>-0.150312</td>\n",
       "      <td>-0.251644</td>\n",
       "      <td>Wow, nuggets overpriced. Next time I will go t...</td>\n",
       "      <td>0.419666</td>\n",
       "      <td>0.290124</td>\n",
       "      <td>1</td>\n",
       "      <td>-0.129773</td>\n",
       "      <td>0</td>\n",
       "      <td>...</td>\n",
       "      <td>-0.024444</td>\n",
       "      <td>-0.041938</td>\n",
       "      <td>-0.057150</td>\n",
       "      <td>-1.217187</td>\n",
       "      <td>-0.227149</td>\n",
       "      <td>0.129114</td>\n",
       "      <td>-0.303692</td>\n",
       "      <td>-0.286792</td>\n",
       "      <td>-0.241889</td>\n",
       "      <td>-0.033875</td>\n",
       "    </tr>\n",
       "    <tr>\n",
       "      <th>18123</th>\n",
       "      <td>8_u9j4ral9-NF7zMr1pvrw</td>\n",
       "      <td>-0.062341</td>\n",
       "      <td>-0.150312</td>\n",
       "      <td>-0.251644</td>\n",
       "      <td>When I worked in Cool Springs, this was my go-...</td>\n",
       "      <td>0.419666</td>\n",
       "      <td>0.020812</td>\n",
       "      <td>1</td>\n",
       "      <td>-1.337030</td>\n",
       "      <td>0</td>\n",
       "      <td>...</td>\n",
       "      <td>1.005864</td>\n",
       "      <td>0.724607</td>\n",
       "      <td>1.662689</td>\n",
       "      <td>0.045407</td>\n",
       "      <td>2.055604</td>\n",
       "      <td>3.930038</td>\n",
       "      <td>0.831039</td>\n",
       "      <td>1.065892</td>\n",
       "      <td>5.320449</td>\n",
       "      <td>0.380118</td>\n",
       "    </tr>\n",
       "    <tr>\n",
       "      <th>318998</th>\n",
       "      <td>Cef-h2Yk4sqKCE0QBmc2fw</td>\n",
       "      <td>0.266410</td>\n",
       "      <td>-0.150312</td>\n",
       "      <td>-0.251644</td>\n",
       "      <td>I highly recommend this place!! Lenny is great...</td>\n",
       "      <td>1.442022</td>\n",
       "      <td>0.361413</td>\n",
       "      <td>1</td>\n",
       "      <td>1.979742</td>\n",
       "      <td>0</td>\n",
       "      <td>...</td>\n",
       "      <td>-0.051557</td>\n",
       "      <td>-0.049864</td>\n",
       "      <td>-0.057150</td>\n",
       "      <td>-0.126765</td>\n",
       "      <td>-0.531636</td>\n",
       "      <td>-0.222025</td>\n",
       "      <td>-0.342251</td>\n",
       "      <td>-0.321732</td>\n",
       "      <td>-0.241889</td>\n",
       "      <td>-0.035085</td>\n",
       "    </tr>\n",
       "    <tr>\n",
       "      <th>411189</th>\n",
       "      <td>RJs_PeRi2LEeNa4RqTCxmg</td>\n",
       "      <td>-0.391093</td>\n",
       "      <td>-0.150312</td>\n",
       "      <td>-0.251644</td>\n",
       "      <td>I so want this place to do well. It's got a go...</td>\n",
       "      <td>0.419666</td>\n",
       "      <td>0.369334</td>\n",
       "      <td>0</td>\n",
       "      <td>0.049385</td>\n",
       "      <td>0</td>\n",
       "      <td>...</td>\n",
       "      <td>-0.051557</td>\n",
       "      <td>-0.053261</td>\n",
       "      <td>-0.092248</td>\n",
       "      <td>-0.461544</td>\n",
       "      <td>1.392898</td>\n",
       "      <td>-0.308700</td>\n",
       "      <td>-0.342251</td>\n",
       "      <td>-0.326723</td>\n",
       "      <td>-0.241889</td>\n",
       "      <td>-0.035085</td>\n",
       "    </tr>\n",
       "  </tbody>\n",
       "</table>\n",
       "<p>5 rows × 51 columns</p>\n",
       "</div>"
      ],
      "text/plain": [
       "                     review_id    useful     funny      cool  \\\n",
       "403628  EhGt3u8D9K1F90PjRD31HQ  0.266410 -0.150312 -0.251644   \n",
       "322664  cmz4KDov4tJ3SaMbJ0inoQ -0.391093 -0.150312 -0.251644   \n",
       "18123   8_u9j4ral9-NF7zMr1pvrw -0.062341 -0.150312 -0.251644   \n",
       "318998  Cef-h2Yk4sqKCE0QBmc2fw  0.266410 -0.150312 -0.251644   \n",
       "411189  RJs_PeRi2LEeNa4RqTCxmg -0.391093 -0.150312 -0.251644   \n",
       "\n",
       "                                                     text  stars_neg  \\\n",
       "403628  Very happy with the service here at Keith's! H...   0.930844   \n",
       "322664  Wow, nuggets overpriced. Next time I will go t...   0.419666   \n",
       "18123   When I worked in Cool Springs, this was my go-...   0.419666   \n",
       "318998  I highly recommend this place!! Lenny is great...   1.442022   \n",
       "411189  I so want this place to do well. It's got a go...   0.419666   \n",
       "\n",
       "        review_count_neg  is_open_neg  distancia_ref_neg  state_AZ_neg  ...  \\\n",
       "403628         -0.264343            1           0.030301             0  ...   \n",
       "322664          0.290124            1          -0.129773             0  ...   \n",
       "18123           0.020812            1          -1.337030             0  ...   \n",
       "318998          0.361413            1           1.979742             0  ...   \n",
       "411189          0.369334            0           0.049385             0  ...   \n",
       "\n",
       "        funny_user  cool_user  fans_user  average_stars_user  \\\n",
       "403628    0.214792   0.100727   0.434233            0.255839   \n",
       "322664   -0.024444  -0.041938  -0.057150           -1.217187   \n",
       "18123     1.005864   0.724607   1.662689            0.045407   \n",
       "318998   -0.051557  -0.049864  -0.057150           -0.126765   \n",
       "411189   -0.051557  -0.053261  -0.092248           -0.461544   \n",
       "\n",
       "        antiguedad_anios_user  reviews_por_anio_user  num_friends_user  \\\n",
       "403628               1.569321               1.307456          0.136980   \n",
       "322664              -0.227149               0.129114         -0.303692   \n",
       "18123                2.055604               3.930038          0.831039   \n",
       "318998              -0.531636              -0.222025         -0.342251   \n",
       "411189               1.392898              -0.308700         -0.342251   \n",
       "\n",
       "        influencia_social_user  num_elite_years_user  compliment_user  \n",
       "403628                0.182405             -0.241889         0.078702  \n",
       "322664               -0.286792             -0.241889        -0.033875  \n",
       "18123                 1.065892              5.320449         0.380118  \n",
       "318998               -0.321732             -0.241889        -0.035085  \n",
       "411189               -0.326723             -0.241889        -0.035085  \n",
       "\n",
       "[5 rows x 51 columns]"
      ]
     },
     "execution_count": 12,
     "metadata": {},
     "output_type": "execute_result"
    }
   ],
   "source": [
    "df_test = pd.read_csv(r'D:\\github\\RECSYS\\Practica 2\\data\\test_reviews_merged_all_more_prueba.csv')\n",
    "df_test.sample(5)"
   ]
  },
  {
   "cell_type": "code",
   "execution_count": 13,
   "metadata": {},
   "outputs": [
    {
     "data": {
      "text/html": [
       "<div>\n",
       "<style scoped>\n",
       "    .dataframe tbody tr th:only-of-type {\n",
       "        vertical-align: middle;\n",
       "    }\n",
       "\n",
       "    .dataframe tbody tr th {\n",
       "        vertical-align: top;\n",
       "    }\n",
       "\n",
       "    .dataframe thead th {\n",
       "        text-align: right;\n",
       "    }\n",
       "</style>\n",
       "<table border=\"1\" class=\"dataframe\">\n",
       "  <thead>\n",
       "    <tr style=\"text-align: right;\">\n",
       "      <th></th>\n",
       "      <th>useful</th>\n",
       "      <th>funny</th>\n",
       "      <th>cool</th>\n",
       "      <th>stars_neg</th>\n",
       "      <th>review_count_neg</th>\n",
       "      <th>is_open_neg</th>\n",
       "      <th>distancia_ref_neg</th>\n",
       "      <th>state_AZ_neg</th>\n",
       "      <th>state_FL_neg</th>\n",
       "      <th>state_IN_neg</th>\n",
       "      <th>...</th>\n",
       "      <th>funny_user</th>\n",
       "      <th>cool_user</th>\n",
       "      <th>fans_user</th>\n",
       "      <th>average_stars_user</th>\n",
       "      <th>antiguedad_anios_user</th>\n",
       "      <th>reviews_por_anio_user</th>\n",
       "      <th>num_friends_user</th>\n",
       "      <th>influencia_social_user</th>\n",
       "      <th>num_elite_years_user</th>\n",
       "      <th>compliment_user</th>\n",
       "    </tr>\n",
       "  </thead>\n",
       "  <tbody>\n",
       "    <tr>\n",
       "      <th>236977</th>\n",
       "      <td>-0.391093</td>\n",
       "      <td>0.300774</td>\n",
       "      <td>-0.251644</td>\n",
       "      <td>0.419666</td>\n",
       "      <td>0.955485</td>\n",
       "      <td>1</td>\n",
       "      <td>0.021202</td>\n",
       "      <td>0</td>\n",
       "      <td>0</td>\n",
       "      <td>0</td>\n",
       "      <td>...</td>\n",
       "      <td>0.013834</td>\n",
       "      <td>0.014675</td>\n",
       "      <td>0.188542</td>\n",
       "      <td>0.121927</td>\n",
       "      <td>1.961571</td>\n",
       "      <td>0.916518</td>\n",
       "      <td>0.026812</td>\n",
       "      <td>0.067601</td>\n",
       "      <td>1.148696</td>\n",
       "      <td>-0.014507</td>\n",
       "    </tr>\n",
       "    <tr>\n",
       "      <th>218810</th>\n",
       "      <td>-0.391093</td>\n",
       "      <td>-0.150312</td>\n",
       "      <td>-0.251644</td>\n",
       "      <td>0.419666</td>\n",
       "      <td>3.783267</td>\n",
       "      <td>1</td>\n",
       "      <td>-1.352899</td>\n",
       "      <td>0</td>\n",
       "      <td>0</td>\n",
       "      <td>0</td>\n",
       "      <td>...</td>\n",
       "      <td>-0.040393</td>\n",
       "      <td>-0.048732</td>\n",
       "      <td>-0.022051</td>\n",
       "      <td>-1.073711</td>\n",
       "      <td>1.437676</td>\n",
       "      <td>-0.241125</td>\n",
       "      <td>-0.044797</td>\n",
       "      <td>-0.047202</td>\n",
       "      <td>-0.241889</td>\n",
       "      <td>-0.031454</td>\n",
       "    </tr>\n",
       "    <tr>\n",
       "      <th>189405</th>\n",
       "      <td>-0.062341</td>\n",
       "      <td>-0.150312</td>\n",
       "      <td>0.255613</td>\n",
       "      <td>0.930844</td>\n",
       "      <td>1.549557</td>\n",
       "      <td>1</td>\n",
       "      <td>-1.082434</td>\n",
       "      <td>0</td>\n",
       "      <td>0</td>\n",
       "      <td>1</td>\n",
       "      <td>...</td>\n",
       "      <td>-0.048367</td>\n",
       "      <td>-0.038542</td>\n",
       "      <td>-0.022051</td>\n",
       "      <td>0.437576</td>\n",
       "      <td>0.950497</td>\n",
       "      <td>-0.187862</td>\n",
       "      <td>-0.226575</td>\n",
       "      <td>-0.211920</td>\n",
       "      <td>-0.241889</td>\n",
       "      <td>-0.033875</td>\n",
       "    </tr>\n",
       "    <tr>\n",
       "      <th>180711</th>\n",
       "      <td>-0.391093</td>\n",
       "      <td>-0.150312</td>\n",
       "      <td>-0.251644</td>\n",
       "      <td>0.930844</td>\n",
       "      <td>2.294127</td>\n",
       "      <td>1</td>\n",
       "      <td>-1.069237</td>\n",
       "      <td>0</td>\n",
       "      <td>0</td>\n",
       "      <td>1</td>\n",
       "      <td>...</td>\n",
       "      <td>-0.051557</td>\n",
       "      <td>-0.053261</td>\n",
       "      <td>-0.092248</td>\n",
       "      <td>1.260175</td>\n",
       "      <td>-0.190432</td>\n",
       "      <td>-0.335567</td>\n",
       "      <td>1.260695</td>\n",
       "      <td>1.125790</td>\n",
       "      <td>-0.241889</td>\n",
       "      <td>-0.035085</td>\n",
       "    </tr>\n",
       "    <tr>\n",
       "      <th>216614</th>\n",
       "      <td>-0.391093</td>\n",
       "      <td>-0.150312</td>\n",
       "      <td>-0.251644</td>\n",
       "      <td>0.419666</td>\n",
       "      <td>1.502031</td>\n",
       "      <td>0</td>\n",
       "      <td>0.049087</td>\n",
       "      <td>0</td>\n",
       "      <td>0</td>\n",
       "      <td>0</td>\n",
       "      <td>...</td>\n",
       "      <td>0.085604</td>\n",
       "      <td>0.005617</td>\n",
       "      <td>0.188542</td>\n",
       "      <td>-0.432849</td>\n",
       "      <td>1.539768</td>\n",
       "      <td>0.865981</td>\n",
       "      <td>-0.309201</td>\n",
       "      <td>-0.256843</td>\n",
       "      <td>-0.241889</td>\n",
       "      <td>0.003651</td>\n",
       "    </tr>\n",
       "  </tbody>\n",
       "</table>\n",
       "<p>5 rows × 49 columns</p>\n",
       "</div>"
      ],
      "text/plain": [
       "          useful     funny      cool  stars_neg  review_count_neg  \\\n",
       "236977 -0.391093  0.300774 -0.251644   0.419666          0.955485   \n",
       "218810 -0.391093 -0.150312 -0.251644   0.419666          3.783267   \n",
       "189405 -0.062341 -0.150312  0.255613   0.930844          1.549557   \n",
       "180711 -0.391093 -0.150312 -0.251644   0.930844          2.294127   \n",
       "216614 -0.391093 -0.150312 -0.251644   0.419666          1.502031   \n",
       "\n",
       "        is_open_neg  distancia_ref_neg  state_AZ_neg  state_FL_neg  \\\n",
       "236977            1           0.021202             0             0   \n",
       "218810            1          -1.352899             0             0   \n",
       "189405            1          -1.082434             0             0   \n",
       "180711            1          -1.069237             0             0   \n",
       "216614            0           0.049087             0             0   \n",
       "\n",
       "        state_IN_neg  ...  funny_user  cool_user  fans_user  \\\n",
       "236977             0  ...    0.013834   0.014675   0.188542   \n",
       "218810             0  ...   -0.040393  -0.048732  -0.022051   \n",
       "189405             1  ...   -0.048367  -0.038542  -0.022051   \n",
       "180711             1  ...   -0.051557  -0.053261  -0.092248   \n",
       "216614             0  ...    0.085604   0.005617   0.188542   \n",
       "\n",
       "        average_stars_user  antiguedad_anios_user  reviews_por_anio_user  \\\n",
       "236977            0.121927               1.961571               0.916518   \n",
       "218810           -1.073711               1.437676              -0.241125   \n",
       "189405            0.437576               0.950497              -0.187862   \n",
       "180711            1.260175              -0.190432              -0.335567   \n",
       "216614           -0.432849               1.539768               0.865981   \n",
       "\n",
       "        num_friends_user  influencia_social_user  num_elite_years_user  \\\n",
       "236977          0.026812                0.067601              1.148696   \n",
       "218810         -0.044797               -0.047202             -0.241889   \n",
       "189405         -0.226575               -0.211920             -0.241889   \n",
       "180711          1.260695                1.125790             -0.241889   \n",
       "216614         -0.309201               -0.256843             -0.241889   \n",
       "\n",
       "        compliment_user  \n",
       "236977        -0.014507  \n",
       "218810        -0.031454  \n",
       "189405        -0.033875  \n",
       "180711        -0.035085  \n",
       "216614         0.003651  \n",
       "\n",
       "[5 rows x 49 columns]"
      ]
     },
     "execution_count": 13,
     "metadata": {},
     "output_type": "execute_result"
    }
   ],
   "source": [
    "Y_numeric = df_test.copy()\n",
    "\n",
    "Y_numeric = Y_numeric.drop(columns=[\"text\", \"review_id\"])\n",
    "\n",
    "Y_numeric.sample(5)"
   ]
  },
  {
   "cell_type": "code",
   "execution_count": 11,
   "metadata": {},
   "outputs": [
    {
     "ename": "NameError",
     "evalue": "name 'Y_numeric' is not defined",
     "output_type": "error",
     "traceback": [
      "\u001b[31m---------------------------------------------------------------------------\u001b[39m",
      "\u001b[31mNameError\u001b[39m                                 Traceback (most recent call last)",
      "\u001b[36mCell\u001b[39m\u001b[36m \u001b[39m\u001b[32mIn[11]\u001b[39m\u001b[32m, line 6\u001b[39m\n\u001b[32m      1\u001b[39m Y_text = np.load(\u001b[33mr\u001b[39m\u001b[33m'\u001b[39m\u001b[33mD:\u001b[39m\u001b[33m\\\u001b[39m\u001b[33mgithub\u001b[39m\u001b[33m\\\u001b[39m\u001b[33mRECSYS\u001b[39m\u001b[33m\\\u001b[39m\u001b[33mPractica 2\u001b[39m\u001b[33m\\\u001b[39m\u001b[33mweight\u001b[39m\u001b[33m\\\u001b[39m\u001b[33membeddings_text_test_DL_all-mpnet-base-v2.npy\u001b[39m\u001b[33m'\u001b[39m)\n\u001b[32m      3\u001b[39m \u001b[38;5;66;03m# svd = TruncatedSVD(n_components=150, n_iter=20, n_oversamples=4, random_state=42)\u001b[39;00m\n\u001b[32m      4\u001b[39m \u001b[38;5;66;03m# Y_text_test_svd = svd.fit_transform(Y_text)\u001b[39;00m\n\u001b[32m----> \u001b[39m\u001b[32m6\u001b[39m X_test = np.hstack([\u001b[43mY_numeric\u001b[49m.values, Y_text])\n\u001b[32m      8\u001b[39m \u001b[38;5;66;03m# np.save(\"X_test.npy\", X_test)\u001b[39;00m\n\u001b[32m      9\u001b[39m predictions = model.predict(X_test)\n",
      "\u001b[31mNameError\u001b[39m: name 'Y_numeric' is not defined"
     ]
    }
   ],
   "source": [
    "Y_text = np.load(r'D:\\github\\RECSYS\\Practica 2\\weight\\embeddings_text_test_DL_all-mpnet-base-v2.npy')\n",
    "\n",
    "# svd = TruncatedSVD(n_components=150, n_iter=20, n_oversamples=4, random_state=42)\n",
    "# Y_text_test_svd = svd.fit_transform(Y_text)\n",
    "\n",
    "X_test = np.hstack([Y_numeric.values, Y_text])\n",
    "\n",
    "# np.save(\"X_test.npy\", X_test)\n",
    "predictions = model.predict(X_test)"
   ]
  },
  {
   "cell_type": "markdown",
   "metadata": {},
   "source": [
    "## CSV"
   ]
  },
  {
   "cell_type": "code",
   "execution_count": null,
   "metadata": {},
   "outputs": [],
   "source": [
    "# Crear el DataFrame con el formato requerido: review_id, stars\n",
    "df_output = pd.DataFrame({\n",
    "    'review_id': df_test['review_id'],\n",
    "    'stars': predictions.round(0)\n",
    "})\n",
    "\n",
    "# Exportar el CSV con las predicciones\n",
    "df_output.to_csv('stacking_model_model_predictions_all_0_DL.csv', index=False)\n",
    "print(\"Predicciones exportadas a 'xgboost_model_predictions_all_0_DL.csv'\")"
   ]
  },
  {
   "cell_type": "code",
   "execution_count": null,
   "metadata": {},
   "outputs": [
    {
     "name": "stdout",
     "output_type": "stream",
     "text": [
      "Predicciones exportadas a 'Trans_predictions_all_1_DL_Sin_Reduc.csv'\n"
     ]
    }
   ],
   "source": [
    "# Crear el DataFrame con el formato requerido: review_id, stars\n",
    "df_output = pd.DataFrame({\n",
    "    'review_id': df_test['review_id'],\n",
    "    'stars': predictions.squeeze().round(4)  # Asegúrate de que sea un número entero\n",
    "})\n",
    "\n",
    "# Exportar el CSV con las predicciones\n",
    "df_output.to_csv('NN_predictions_all_1_DL_Sin_Reduc_without_round.csv', index=False)\n",
    "print(\"Predicciones exportadas a 'NN_predictions_all_1_DL_Sin_Reduc_without_round.csv'\")"
   ]
  },
  {
   "cell_type": "markdown",
   "metadata": {},
   "source": [
    "# Hiperparámetros"
   ]
  },
  {
   "cell_type": "markdown",
   "metadata": {},
   "source": [
    "## Reduccion dimensional (TruncatedSVD)"
   ]
  },
  {
   "cell_type": "code",
   "execution_count": null,
   "metadata": {},
   "outputs": [],
   "source": [
    "def objective(trial):\n",
    "    # Sugerencias para TruncatedSVD\n",
    "    n_components = trial.suggest_int('n_components', 20, 200, step=5)\n",
    "    n_iter = trial.suggest_int('n_iter', 5, 20, step=5)\n",
    "    n_oversamples = trial.suggest_int('n_oversamples', 2, 8, step = 1)\n",
    "\n",
    "    print(f\"Trial {trial.number} - n_components: {n_components}, n_iter: {n_iter}, n_oversamples: {n_oversamples}\")\n",
    "\n",
    "    # Cargamos los embeddings precomputados\n",
    "    X_text = np.load(\"../weight/embeddings_text_train_DL_all-mpnet-base-v2.npy\")\n",
    "\n",
    "    # Creamos el TruncatedSVD con los hiperparámetros sugeridos\n",
    "    svd = TruncatedSVD(\n",
    "        n_components=n_components,\n",
    "        n_iter=n_iter,\n",
    "        n_oversamples=n_oversamples,\n",
    "        random_state=42\n",
    "    )\n",
    "    X_text_reduced = svd.fit_transform(X_text)\n",
    "    \n",
    "    # Combinamos con otras características numéricas\n",
    "    X_final = np.hstack([X_numeric.values, X_text_reduced])\n",
    "    \n",
    "    y = df_train[\"stars\"]\n",
    "    X_train, X_test, y_train, y_test = train_test_split(X_final, y, test_size=0.2, random_state=42)\n",
    "\n",
    "    # Entrenamos el modelo XGBoost\n",
    "    reg = XGBRegressor(\n",
    "        tree_method=\"hist\",\n",
    "        eval_metric=mean_absolute_error,\n",
    "        random_state=42,\n",
    "    )\n",
    "    reg.fit(X_train, y_train, verbose=False)\n",
    "    y_pred = reg.predict(X_test)\n",
    "    mae = mean_absolute_error(y_test, y_pred)\n",
    "    \n",
    "    print(f\"Trial {trial.number} - MAE: {mae}\\n\")\n",
    "    return mae"
   ]
  },
  {
   "cell_type": "code",
   "execution_count": 11,
   "metadata": {},
   "outputs": [
    {
     "name": "stderr",
     "output_type": "stream",
     "text": [
      "[I 2025-04-13 13:12:27,242] A new study created in memory with name: no-name-e863853c-c69d-4051-906a-1e949f57f575\n"
     ]
    },
    {
     "name": "stdout",
     "output_type": "stream",
     "text": [
      "Trial 0 - n_components: 125, n_iter: 10, n_oversamples: 8\n",
      "[13:13:20] INFO: C:\\actions-runner\\_work\\xgboost\\xgboost\\src\\data\\iterative_dmatrix.cc:53: Finished constructing the `IterativeDMatrix`: (774227, 134, 103746418).\n",
      "Trial 0 - MAE: 0.5198457555800627\n",
      "\n"
     ]
    },
    {
     "name": "stderr",
     "output_type": "stream",
     "text": [
      "[I 2025-04-13 13:13:28,864] Trial 0 finished with value: 0.5198457555800627 and parameters: {'n_components': 125, 'n_iter': 10, 'n_oversamples': 8}. Best is trial 0 with value: 0.5198457555800627.\n"
     ]
    },
    {
     "name": "stdout",
     "output_type": "stream",
     "text": [
      "Trial 1 - n_components: 115, n_iter: 15, n_oversamples: 5\n",
      "[13:14:29] INFO: C:\\actions-runner\\_work\\xgboost\\xgboost\\src\\data\\iterative_dmatrix.cc:53: Finished constructing the `IterativeDMatrix`: (774227, 124, 96004148).\n"
     ]
    },
    {
     "name": "stderr",
     "output_type": "stream",
     "text": [
      "[I 2025-04-13 13:14:35,923] Trial 1 finished with value: 0.5209107322448631 and parameters: {'n_components': 115, 'n_iter': 15, 'n_oversamples': 5}. Best is trial 0 with value: 0.5198457555800627.\n"
     ]
    },
    {
     "name": "stdout",
     "output_type": "stream",
     "text": [
      "Trial 1 - MAE: 0.5209107322448631\n",
      "\n",
      "Trial 2 - n_components: 40, n_iter: 15, n_oversamples: 8\n",
      "[13:15:04] INFO: C:\\actions-runner\\_work\\xgboost\\xgboost\\src\\data\\iterative_dmatrix.cc:53: Finished constructing the `IterativeDMatrix`: (774227, 49, 37937123).\n"
     ]
    },
    {
     "name": "stderr",
     "output_type": "stream",
     "text": [
      "[I 2025-04-13 13:15:07,440] Trial 2 finished with value: 0.5232984505177074 and parameters: {'n_components': 40, 'n_iter': 15, 'n_oversamples': 8}. Best is trial 0 with value: 0.5198457555800627.\n"
     ]
    },
    {
     "name": "stdout",
     "output_type": "stream",
     "text": [
      "Trial 2 - MAE: 0.5232984505177074\n",
      "\n",
      "Trial 3 - n_components: 90, n_iter: 5, n_oversamples: 7\n",
      "[13:15:33] INFO: C:\\actions-runner\\_work\\xgboost\\xgboost\\src\\data\\iterative_dmatrix.cc:53: Finished constructing the `IterativeDMatrix`: (774227, 99, 76648473).\n",
      "Trial 3 - MAE: 0.5205579754880189\n",
      "\n"
     ]
    },
    {
     "name": "stderr",
     "output_type": "stream",
     "text": [
      "[I 2025-04-13 13:15:38,380] Trial 3 finished with value: 0.5205579754880189 and parameters: {'n_components': 90, 'n_iter': 5, 'n_oversamples': 7}. Best is trial 0 with value: 0.5198457555800627.\n"
     ]
    },
    {
     "name": "stdout",
     "output_type": "stream",
     "text": [
      "Trial 4 - n_components: 120, n_iter: 20, n_oversamples: 6\n",
      "[13:16:56] INFO: C:\\actions-runner\\_work\\xgboost\\xgboost\\src\\data\\iterative_dmatrix.cc:53: Finished constructing the `IterativeDMatrix`: (774227, 129, 99875283).\n",
      "Trial 4 - MAE: 0.5206016598283508\n",
      "\n"
     ]
    },
    {
     "name": "stderr",
     "output_type": "stream",
     "text": [
      "[I 2025-04-13 13:17:03,250] Trial 4 finished with value: 0.5206016598283508 and parameters: {'n_components': 120, 'n_iter': 20, 'n_oversamples': 6}. Best is trial 0 with value: 0.5198457555800627.\n"
     ]
    },
    {
     "name": "stdout",
     "output_type": "stream",
     "text": [
      "Trial 5 - n_components: 150, n_iter: 20, n_oversamples: 4\n",
      "[13:18:44] INFO: C:\\actions-runner\\_work\\xgboost\\xgboost\\src\\data\\iterative_dmatrix.cc:53: Finished constructing the `IterativeDMatrix`: (774227, 159, 123102093).\n",
      "Trial 5 - MAE: 0.5184367227010693\n",
      "\n"
     ]
    },
    {
     "name": "stderr",
     "output_type": "stream",
     "text": [
      "[I 2025-04-13 13:18:53,768] Trial 5 finished with value: 0.5184367227010693 and parameters: {'n_components': 150, 'n_iter': 20, 'n_oversamples': 4}. Best is trial 5 with value: 0.5184367227010693.\n"
     ]
    },
    {
     "name": "stdout",
     "output_type": "stream",
     "text": [
      "Trial 6 - n_components: 85, n_iter: 10, n_oversamples: 2\n",
      "[13:19:30] INFO: C:\\actions-runner\\_work\\xgboost\\xgboost\\src\\data\\iterative_dmatrix.cc:53: Finished constructing the `IterativeDMatrix`: (774227, 94, 72777338).\n",
      "Trial 6 - MAE: 0.5214788320188524\n",
      "\n"
     ]
    },
    {
     "name": "stderr",
     "output_type": "stream",
     "text": [
      "[I 2025-04-13 13:19:35,275] Trial 6 finished with value: 0.5214788320188524 and parameters: {'n_components': 85, 'n_iter': 10, 'n_oversamples': 2}. Best is trial 5 with value: 0.5184367227010693.\n"
     ]
    },
    {
     "name": "stdout",
     "output_type": "stream",
     "text": [
      "Trial 7 - n_components: 140, n_iter: 5, n_oversamples: 2\n",
      "[13:20:12] INFO: C:\\actions-runner\\_work\\xgboost\\xgboost\\src\\data\\iterative_dmatrix.cc:53: Finished constructing the `IterativeDMatrix`: (774227, 149, 115359823).\n",
      "Trial 7 - MAE: 0.5199901741814075\n",
      "\n"
     ]
    },
    {
     "name": "stderr",
     "output_type": "stream",
     "text": [
      "[I 2025-04-13 13:20:21,543] Trial 7 finished with value: 0.5199901741814075 and parameters: {'n_components': 140, 'n_iter': 5, 'n_oversamples': 2}. Best is trial 5 with value: 0.5184367227010693.\n"
     ]
    },
    {
     "name": "stdout",
     "output_type": "stream",
     "text": [
      "Trial 8 - n_components: 20, n_iter: 20, n_oversamples: 8\n",
      "[13:20:45] INFO: C:\\actions-runner\\_work\\xgboost\\xgboost\\src\\data\\iterative_dmatrix.cc:53: Finished constructing the `IterativeDMatrix`: (774227, 29, 22452583).\n"
     ]
    },
    {
     "name": "stderr",
     "output_type": "stream",
     "text": [
      "[I 2025-04-13 13:20:47,344] Trial 8 finished with value: 0.5311643746126996 and parameters: {'n_components': 20, 'n_iter': 20, 'n_oversamples': 8}. Best is trial 5 with value: 0.5184367227010693.\n"
     ]
    },
    {
     "name": "stdout",
     "output_type": "stream",
     "text": [
      "Trial 8 - MAE: 0.5311643746126996\n",
      "\n",
      "Trial 9 - n_components: 30, n_iter: 10, n_oversamples: 7\n",
      "[13:21:06] INFO: C:\\actions-runner\\_work\\xgboost\\xgboost\\src\\data\\iterative_dmatrix.cc:53: Finished constructing the `IterativeDMatrix`: (774227, 39, 30194853).\n"
     ]
    },
    {
     "name": "stderr",
     "output_type": "stream",
     "text": [
      "[I 2025-04-13 13:21:09,272] Trial 9 finished with value: 0.5252013537181056 and parameters: {'n_components': 30, 'n_iter': 10, 'n_oversamples': 7}. Best is trial 5 with value: 0.5184367227010693.\n"
     ]
    },
    {
     "name": "stdout",
     "output_type": "stream",
     "text": [
      "Trial 9 - MAE: 0.5252013537181056\n",
      "\n",
      "Trial 10 - n_components: 200, n_iter: 20, n_oversamples: 4\n",
      "[13:23:10] INFO: C:\\actions-runner\\_work\\xgboost\\xgboost\\src\\data\\iterative_dmatrix.cc:53: Finished constructing the `IterativeDMatrix`: (774227, 209, 161813443).\n",
      "Trial 10 - MAE: 0.5198603234565662\n",
      "\n"
     ]
    },
    {
     "name": "stderr",
     "output_type": "stream",
     "text": [
      "[I 2025-04-13 13:23:22,403] Trial 10 finished with value: 0.5198603234565662 and parameters: {'n_components': 200, 'n_iter': 20, 'n_oversamples': 4}. Best is trial 5 with value: 0.5184367227010693.\n"
     ]
    },
    {
     "name": "stdout",
     "output_type": "stream",
     "text": [
      "Trial 11 - n_components: 155, n_iter: 10, n_oversamples: 4\n",
      "[13:24:23] INFO: C:\\actions-runner\\_work\\xgboost\\xgboost\\src\\data\\iterative_dmatrix.cc:53: Finished constructing the `IterativeDMatrix`: (774227, 164, 126973228).\n",
      "Trial 11 - MAE: 0.5203944753399932\n",
      "\n"
     ]
    },
    {
     "name": "stderr",
     "output_type": "stream",
     "text": [
      "[I 2025-04-13 13:24:32,944] Trial 11 finished with value: 0.5203944753399932 and parameters: {'n_components': 155, 'n_iter': 10, 'n_oversamples': 4}. Best is trial 5 with value: 0.5184367227010693.\n"
     ]
    },
    {
     "name": "stdout",
     "output_type": "stream",
     "text": [
      "Trial 12 - n_components: 175, n_iter: 15, n_oversamples: 4\n",
      "[13:26:01] INFO: C:\\actions-runner\\_work\\xgboost\\xgboost\\src\\data\\iterative_dmatrix.cc:53: Finished constructing the `IterativeDMatrix`: (774227, 184, 142457768).\n",
      "Trial 12 - MAE: 0.5194179733133866\n",
      "\n"
     ]
    },
    {
     "name": "stderr",
     "output_type": "stream",
     "text": [
      "[I 2025-04-13 13:26:12,525] Trial 12 finished with value: 0.5194179733133866 and parameters: {'n_components': 175, 'n_iter': 15, 'n_oversamples': 4}. Best is trial 5 with value: 0.5184367227010693.\n"
     ]
    },
    {
     "name": "stdout",
     "output_type": "stream",
     "text": [
      "Trial 13 - n_components: 180, n_iter: 15, n_oversamples: 4\n",
      "[13:27:43] INFO: C:\\actions-runner\\_work\\xgboost\\xgboost\\src\\data\\iterative_dmatrix.cc:53: Finished constructing the `IterativeDMatrix`: (774227, 189, 146328903).\n",
      "Trial 13 - MAE: 0.51935621429236\n",
      "\n"
     ]
    },
    {
     "name": "stderr",
     "output_type": "stream",
     "text": [
      "[I 2025-04-13 13:27:53,557] Trial 13 finished with value: 0.51935621429236 and parameters: {'n_components': 180, 'n_iter': 15, 'n_oversamples': 4}. Best is trial 5 with value: 0.5184367227010693.\n"
     ]
    },
    {
     "name": "stdout",
     "output_type": "stream",
     "text": [
      "Trial 14 - n_components: 180, n_iter: 20, n_oversamples: 3\n",
      "[13:29:47] INFO: C:\\actions-runner\\_work\\xgboost\\xgboost\\src\\data\\iterative_dmatrix.cc:53: Finished constructing the `IterativeDMatrix`: (774227, 189, 146328903).\n",
      "Trial 14 - MAE: 0.520653715922718\n",
      "\n"
     ]
    },
    {
     "name": "stderr",
     "output_type": "stream",
     "text": [
      "[I 2025-04-13 13:29:59,136] Trial 14 finished with value: 0.520653715922718 and parameters: {'n_components': 180, 'n_iter': 20, 'n_oversamples': 3}. Best is trial 5 with value: 0.5184367227010693.\n"
     ]
    },
    {
     "name": "stdout",
     "output_type": "stream",
     "text": [
      "Trial 15 - n_components: 160, n_iter: 15, n_oversamples: 5\n",
      "[13:31:21] INFO: C:\\actions-runner\\_work\\xgboost\\xgboost\\src\\data\\iterative_dmatrix.cc:53: Finished constructing the `IterativeDMatrix`: (774227, 169, 130844363).\n",
      "Trial 15 - MAE: 0.5199506574970512\n",
      "\n"
     ]
    },
    {
     "name": "stderr",
     "output_type": "stream",
     "text": [
      "[I 2025-04-13 13:31:31,310] Trial 15 finished with value: 0.5199506574970512 and parameters: {'n_components': 160, 'n_iter': 15, 'n_oversamples': 5}. Best is trial 5 with value: 0.5184367227010693.\n"
     ]
    },
    {
     "name": "stdout",
     "output_type": "stream",
     "text": [
      "Trial 16 - n_components: 200, n_iter: 20, n_oversamples: 3\n",
      "[13:33:30] INFO: C:\\actions-runner\\_work\\xgboost\\xgboost\\src\\data\\iterative_dmatrix.cc:53: Finished constructing the `IterativeDMatrix`: (774227, 209, 161813443).\n",
      "Trial 16 - MAE: 0.5201960408847971\n",
      "\n"
     ]
    },
    {
     "name": "stderr",
     "output_type": "stream",
     "text": [
      "[I 2025-04-13 13:33:41,512] Trial 16 finished with value: 0.5201960408847971 and parameters: {'n_components': 200, 'n_iter': 20, 'n_oversamples': 3}. Best is trial 5 with value: 0.5184367227010693.\n"
     ]
    },
    {
     "name": "stdout",
     "output_type": "stream",
     "text": [
      "Trial 17 - n_components: 145, n_iter: 15, n_oversamples: 3\n",
      "[13:34:59] INFO: C:\\actions-runner\\_work\\xgboost\\xgboost\\src\\data\\iterative_dmatrix.cc:53: Finished constructing the `IterativeDMatrix`: (774227, 154, 119230958).\n",
      "Trial 17 - MAE: 0.5195469334314903\n",
      "\n"
     ]
    },
    {
     "name": "stderr",
     "output_type": "stream",
     "text": [
      "[I 2025-04-13 13:35:07,963] Trial 17 finished with value: 0.5195469334314903 and parameters: {'n_components': 145, 'n_iter': 15, 'n_oversamples': 3}. Best is trial 5 with value: 0.5184367227010693.\n"
     ]
    },
    {
     "name": "stdout",
     "output_type": "stream",
     "text": [
      "Trial 18 - n_components: 170, n_iter: 20, n_oversamples: 6\n",
      "[13:36:56] INFO: C:\\actions-runner\\_work\\xgboost\\xgboost\\src\\data\\iterative_dmatrix.cc:53: Finished constructing the `IterativeDMatrix`: (774227, 179, 138586633).\n",
      "Trial 18 - MAE: 0.5203429024028773\n",
      "\n"
     ]
    },
    {
     "name": "stderr",
     "output_type": "stream",
     "text": [
      "[I 2025-04-13 13:37:06,198] Trial 18 finished with value: 0.5203429024028773 and parameters: {'n_components': 170, 'n_iter': 20, 'n_oversamples': 6}. Best is trial 5 with value: 0.5184367227010693.\n"
     ]
    },
    {
     "name": "stdout",
     "output_type": "stream",
     "text": [
      "Trial 19 - n_components: 85, n_iter: 15, n_oversamples: 4\n",
      "[13:37:55] INFO: C:\\actions-runner\\_work\\xgboost\\xgboost\\src\\data\\iterative_dmatrix.cc:53: Finished constructing the `IterativeDMatrix`: (774227, 94, 72777338).\n",
      "Trial 19 - MAE: 0.5216007416682241\n",
      "\n"
     ]
    },
    {
     "name": "stderr",
     "output_type": "stream",
     "text": [
      "[I 2025-04-13 13:38:00,768] Trial 19 finished with value: 0.5216007416682241 and parameters: {'n_components': 85, 'n_iter': 15, 'n_oversamples': 4}. Best is trial 5 with value: 0.5184367227010693.\n"
     ]
    },
    {
     "name": "stdout",
     "output_type": "stream",
     "text": [
      "Trial 20 - n_components: 185, n_iter: 20, n_oversamples: 5\n",
      "[13:39:55] INFO: C:\\actions-runner\\_work\\xgboost\\xgboost\\src\\data\\iterative_dmatrix.cc:53: Finished constructing the `IterativeDMatrix`: (774227, 194, 150200038).\n",
      "Trial 20 - MAE: 0.5198920885675646\n",
      "\n"
     ]
    },
    {
     "name": "stderr",
     "output_type": "stream",
     "text": [
      "[I 2025-04-13 13:40:05,894] Trial 20 finished with value: 0.5198920885675646 and parameters: {'n_components': 185, 'n_iter': 20, 'n_oversamples': 5}. Best is trial 5 with value: 0.5184367227010693.\n"
     ]
    },
    {
     "name": "stdout",
     "output_type": "stream",
     "text": [
      "Trial 21 - n_components: 180, n_iter: 15, n_oversamples: 4\n",
      "[13:41:37] INFO: C:\\actions-runner\\_work\\xgboost\\xgboost\\src\\data\\iterative_dmatrix.cc:53: Finished constructing the `IterativeDMatrix`: (774227, 189, 146328903).\n",
      "Trial 21 - MAE: 0.51935621429236\n",
      "\n"
     ]
    },
    {
     "name": "stderr",
     "output_type": "stream",
     "text": [
      "[I 2025-04-13 13:41:46,852] Trial 21 finished with value: 0.51935621429236 and parameters: {'n_components': 180, 'n_iter': 15, 'n_oversamples': 4}. Best is trial 5 with value: 0.5184367227010693.\n"
     ]
    },
    {
     "name": "stdout",
     "output_type": "stream",
     "text": [
      "Trial 22 - n_components: 140, n_iter: 15, n_oversamples: 3\n",
      "[13:43:02] INFO: C:\\actions-runner\\_work\\xgboost\\xgboost\\src\\data\\iterative_dmatrix.cc:53: Finished constructing the `IterativeDMatrix`: (774227, 149, 115359823).\n",
      "Trial 22 - MAE: 0.5204974959620662\n",
      "\n"
     ]
    },
    {
     "name": "stderr",
     "output_type": "stream",
     "text": [
      "[I 2025-04-13 13:43:10,590] Trial 22 finished with value: 0.5204974959620662 and parameters: {'n_components': 140, 'n_iter': 15, 'n_oversamples': 3}. Best is trial 5 with value: 0.5184367227010693.\n"
     ]
    },
    {
     "name": "stdout",
     "output_type": "stream",
     "text": [
      "Trial 23 - n_components: 190, n_iter: 15, n_oversamples: 5\n",
      "[13:44:42] INFO: C:\\actions-runner\\_work\\xgboost\\xgboost\\src\\data\\iterative_dmatrix.cc:53: Finished constructing the `IterativeDMatrix`: (774227, 199, 154071173).\n"
     ]
    },
    {
     "name": "stderr",
     "output_type": "stream",
     "text": [
      "[I 2025-04-13 13:44:53,538] Trial 23 finished with value: 0.5198881933739525 and parameters: {'n_components': 190, 'n_iter': 15, 'n_oversamples': 5}. Best is trial 5 with value: 0.5184367227010693.\n"
     ]
    },
    {
     "name": "stdout",
     "output_type": "stream",
     "text": [
      "Trial 23 - MAE: 0.5198881933739525\n",
      "\n",
      "Trial 24 - n_components: 160, n_iter: 10, n_oversamples: 4\n",
      "[13:45:54] INFO: C:\\actions-runner\\_work\\xgboost\\xgboost\\src\\data\\iterative_dmatrix.cc:53: Finished constructing the `IterativeDMatrix`: (774227, 169, 130844363).\n",
      "Trial 24 - MAE: 0.5198766873973832\n",
      "\n"
     ]
    },
    {
     "name": "stderr",
     "output_type": "stream",
     "text": [
      "[I 2025-04-13 13:46:03,622] Trial 24 finished with value: 0.5198766873973832 and parameters: {'n_components': 160, 'n_iter': 10, 'n_oversamples': 4}. Best is trial 5 with value: 0.5184367227010693.\n"
     ]
    },
    {
     "name": "stdout",
     "output_type": "stream",
     "text": [
      "Trial 25 - n_components: 170, n_iter: 15, n_oversamples: 6\n",
      "[13:47:29] INFO: C:\\actions-runner\\_work\\xgboost\\xgboost\\src\\data\\iterative_dmatrix.cc:53: Finished constructing the `IterativeDMatrix`: (774227, 179, 138586633).\n",
      "Trial 25 - MAE: 0.5195551463098208\n",
      "\n"
     ]
    },
    {
     "name": "stderr",
     "output_type": "stream",
     "text": [
      "[I 2025-04-13 13:47:38,859] Trial 25 finished with value: 0.5195551463098208 and parameters: {'n_components': 170, 'n_iter': 15, 'n_oversamples': 6}. Best is trial 5 with value: 0.5184367227010693.\n"
     ]
    },
    {
     "name": "stdout",
     "output_type": "stream",
     "text": [
      "Trial 26 - n_components: 130, n_iter: 20, n_oversamples: 3\n",
      "[13:49:10] INFO: C:\\actions-runner\\_work\\xgboost\\xgboost\\src\\data\\iterative_dmatrix.cc:53: Finished constructing the `IterativeDMatrix`: (774227, 139, 107617553).\n",
      "Trial 26 - MAE: 0.5192138864666965\n",
      "\n"
     ]
    },
    {
     "name": "stderr",
     "output_type": "stream",
     "text": [
      "[I 2025-04-13 13:49:17,657] Trial 26 finished with value: 0.5192138864666965 and parameters: {'n_components': 130, 'n_iter': 20, 'n_oversamples': 3}. Best is trial 5 with value: 0.5184367227010693.\n"
     ]
    },
    {
     "name": "stdout",
     "output_type": "stream",
     "text": [
      "Trial 27 - n_components: 105, n_iter: 20, n_oversamples: 2\n",
      "[13:50:26] INFO: C:\\actions-runner\\_work\\xgboost\\xgboost\\src\\data\\iterative_dmatrix.cc:53: Finished constructing the `IterativeDMatrix`: (774227, 114, 88261878).\n",
      "Trial 27 - MAE: 0.5212342733067544\n",
      "\n"
     ]
    },
    {
     "name": "stderr",
     "output_type": "stream",
     "text": [
      "[I 2025-04-13 13:50:32,939] Trial 27 finished with value: 0.5212342733067544 and parameters: {'n_components': 105, 'n_iter': 20, 'n_oversamples': 2}. Best is trial 5 with value: 0.5184367227010693.\n"
     ]
    },
    {
     "name": "stdout",
     "output_type": "stream",
     "text": [
      "Trial 28 - n_components: 140, n_iter: 20, n_oversamples: 3\n",
      "[13:52:08] INFO: C:\\actions-runner\\_work\\xgboost\\xgboost\\src\\data\\iterative_dmatrix.cc:53: Finished constructing the `IterativeDMatrix`: (774227, 149, 115359823).\n",
      "Trial 28 - MAE: 0.5195847145778667\n",
      "\n"
     ]
    },
    {
     "name": "stderr",
     "output_type": "stream",
     "text": [
      "[I 2025-04-13 13:52:16,493] Trial 28 finished with value: 0.5195847145778667 and parameters: {'n_components': 140, 'n_iter': 20, 'n_oversamples': 3}. Best is trial 5 with value: 0.5184367227010693.\n"
     ]
    },
    {
     "name": "stdout",
     "output_type": "stream",
     "text": [
      "Trial 29 - n_components: 130, n_iter: 20, n_oversamples: 3\n",
      "[13:53:48] INFO: C:\\actions-runner\\_work\\xgboost\\xgboost\\src\\data\\iterative_dmatrix.cc:53: Finished constructing the `IterativeDMatrix`: (774227, 139, 107617553).\n",
      "Trial 29 - MAE: 0.5192138864666965\n",
      "\n"
     ]
    },
    {
     "name": "stderr",
     "output_type": "stream",
     "text": [
      "[I 2025-04-13 13:53:56,539] Trial 29 finished with value: 0.5192138864666965 and parameters: {'n_components': 130, 'n_iter': 20, 'n_oversamples': 3}. Best is trial 5 with value: 0.5184367227010693.\n"
     ]
    },
    {
     "name": "stdout",
     "output_type": "stream",
     "text": [
      "Mejores hiperparámetros encontrados: {'n_components': 150, 'n_iter': 20, 'n_oversamples': 4}\n",
      "Mejor MAE: 0.5184367227010693\n"
     ]
    }
   ],
   "source": [
    "# Creamos y ejecutamos el estudio de Optuna\n",
    "study = optuna.create_study(direction='minimize')\n",
    "study.optimize(objective, n_trials=30)\n",
    "\n",
    "print(\"Mejores hiperparámetros encontrados:\", study.best_trial.params)\n",
    "print(\"Mejor MAE:\", study.best_value)"
   ]
  },
  {
   "cell_type": "markdown",
   "metadata": {},
   "source": [
    "## Reduccion dimensional (PCA)"
   ]
  },
  {
   "cell_type": "code",
   "execution_count": null,
   "metadata": {},
   "outputs": [],
   "source": [
    "def objective(trial):\n",
    "    n_components = trial.suggest_int('n_components', 20, 200, step=5)\n",
    "\n",
    "    print(f\"Trial {trial.number} - max_componets: {n_components}\")\n",
    "\n",
    "    X_text = np.load(\"../weight/embeddings_text_train_DL_all-mpnet-base-v2.npy\")\n",
    "\n",
    "    svd = PCA(n_components=n_components, random_state=42)\n",
    "    X_text_reduced = svd.fit_transform(X_text)  \n",
    "    \n",
    "    X_final = np.hstack([X_numeric.values, X_text_reduced])\n",
    "    \n",
    "    y = df_train[\"stars\"]\n",
    "    \n",
    "    X_train, X_test, y_train, y_test = train_test_split(X_final, y, test_size=0.2, random_state=42)\n",
    "\n",
    "    # Entrenamos el modelo XGBoost\n",
    "    reg = XGBRegressor(\n",
    "        tree_method=\"hist\",\n",
    "        eval_metric=mean_absolute_error,\n",
    "        random_state=42,\n",
    "    )\n",
    "    reg.fit(X_train, y_train, verbose=False)\n",
    "    y_pred = reg.predict(X_test)\n",
    "    mae = mean_absolute_error(y_test, y_pred)\n",
    "    \n",
    "    # Imprimimos el MAE obtenido para esta prueba\n",
    "    print(f\"Trial {trial.number} - MAE: {mae}\\n\")\n",
    "    return mae"
   ]
  },
  {
   "cell_type": "markdown",
   "metadata": {},
   "source": [
    "## XGBoost"
   ]
  },
  {
   "cell_type": "code",
   "execution_count": 35,
   "metadata": {},
   "outputs": [
    {
     "name": "stderr",
     "output_type": "stream",
     "text": [
      "[I 2025-04-13 17:30:59,386] A new study created in memory with name: no-name-c35bc967-1f54-4831-9a1d-eb5dd20ecce7\n"
     ]
    },
    {
     "name": "stdout",
     "output_type": "stream",
     "text": [
      "Trial 0 parameters: {'booster': 'gbtree', 'tree_method': 'hist', 'grow_policy': 'depthwise', 'eta': 0.05011492737137264, 'gamma': 6.7875345789727515, 'max_depth': 5, 'min_child_weight': 2.985288188657927, 'max_delta_step': 0.8120372013412991, 'subsample': 0.4019356632484379, 'reg_lambda': 0.00852567099520477, 'alpha': 2.0282623475373343, 'scale_pos_weight': 4.418004912122489, 'max_leaves': 3, 'max_bin': 500, 'random_state': 42, 'eval_metric': 'mae', 'device': 'cuda'}\n"
     ]
    },
    {
     "name": "stderr",
     "output_type": "stream",
     "text": [
      "[I 2025-04-13 17:31:06,144] Trial 0 finished with value: 0.7812142846968104 and parameters: {'booster_idx': 1, 'tree_method_idx': 2, 'grow_policy_idx': 1, 'eta': 0.05011492737137264, 'gamma': 6.7875345789727515, 'max_depth': 5, 'min_child_weight': 2.985288188657927, 'max_delta_step': 0.8120372013412991, 'subsample': 0.4019356632484379, 'lambda': 0.00852567099520477, 'alpha': 2.0282623475373343, 'scale_pos_weight': 4.418004912122489, 'max_leaves': 3, 'max_bin': 500}. Best is trial 0 with value: 0.7812142846968104.\n"
     ]
    },
    {
     "name": "stdout",
     "output_type": "stream",
     "text": [
      "Trial 0 - MAE: 0.7812142846968104\n",
      "\n",
      "Trial 1 parameters: {'booster': 'gbtree', 'tree_method': 'auto', 'grow_policy': 'depthwise', 'eta': 0.1651613589789469, 'gamma': 4.879083371462409, 'max_depth': 3, 'min_child_weight': 2.3834085610483386, 'max_delta_step': 1.320883813843332, 'subsample': 0.9200176257999957, 'reg_lambda': 0.009227867220793355, 'alpha': 0.6149223137348641, 'scale_pos_weight': 4.58589918293612, 'max_leaves': 8, 'max_bin': 325, 'random_state': 42, 'eval_metric': 'mae', 'device': 'cuda'}\n"
     ]
    },
    {
     "name": "stderr",
     "output_type": "stream",
     "text": [
      "[I 2025-04-13 17:31:11,631] Trial 1 finished with value: 0.6192486519362881 and parameters: {'booster_idx': 1, 'tree_method_idx': 1, 'grow_policy_idx': 1, 'eta': 0.1651613589789469, 'gamma': 4.879083371462409, 'max_depth': 3, 'min_child_weight': 2.3834085610483386, 'max_delta_step': 1.320883813843332, 'subsample': 0.9200176257999957, 'lambda': 0.009227867220793355, 'alpha': 0.6149223137348641, 'scale_pos_weight': 4.58589918293612, 'max_leaves': 8, 'max_bin': 325}. Best is trial 1 with value: 0.6192486519362881.\n"
     ]
    },
    {
     "name": "stdout",
     "output_type": "stream",
     "text": [
      "Trial 1 - MAE: 0.6192486519362881\n",
      "\n",
      "Trial 2 parameters: {'booster': 'gblinear', 'tree_method': 'hist', 'grow_policy': 'depthwise', 'eta': 0.001310902118372966, 'gamma': 8.254150062609254, 'max_depth': 9, 'min_child_weight': 3.754504416540589, 'max_delta_step': 0.3651726128320565, 'subsample': 0.663288042277599, 'reg_lambda': 8.723776460355904, 'alpha': 0.0013121925079363195, 'scale_pos_weight': 3.567859754756229, 'max_leaves': 3, 'max_bin': 300, 'random_state': 42, 'eval_metric': 'mae', 'device': 'cuda'}\n"
     ]
    },
    {
     "name": "stderr",
     "output_type": "stream",
     "text": [
      "[I 2025-04-13 17:31:29,305] Trial 2 finished with value: 1.502969913110621 and parameters: {'booster_idx': 2, 'tree_method_idx': 2, 'grow_policy_idx': 1, 'eta': 0.001310902118372966, 'gamma': 8.254150062609254, 'max_depth': 9, 'min_child_weight': 3.754504416540589, 'max_delta_step': 0.3651726128320565, 'subsample': 0.663288042277599, 'lambda': 8.723776460355904, 'alpha': 0.0013121925079363195, 'scale_pos_weight': 3.567859754756229, 'max_leaves': 3, 'max_bin': 300}. Best is trial 1 with value: 0.6192486519362881.\n"
     ]
    },
    {
     "name": "stdout",
     "output_type": "stream",
     "text": [
      "Trial 2 - MAE: 1.502969913110621\n",
      "\n",
      "Trial 3 parameters: {'booster': 'dart', 'tree_method': 'auto', 'grow_policy': 'lossguide', 'eta': 0.0040928229121896635, 'gamma': 7.17672138005855, 'max_depth': 8, 'min_child_weight': 1.7918370514734798, 'max_delta_step': 1.983936878636829, 'subsample': 0.3288384313726671, 'reg_lambda': 5.822321645444622, 'alpha': 1.9263640357738476, 'scale_pos_weight': 2.9753061279033393, 'max_leaves': 7, 'max_bin': 200, 'random_state': 42, 'eval_metric': 'mae', 'device': 'cuda'}\n"
     ]
    },
    {
     "name": "stderr",
     "output_type": "stream",
     "text": [
      "[I 2025-04-13 17:31:38,451] Trial 3 finished with value: 1.2345594350363034 and parameters: {'booster_idx': 3, 'tree_method_idx': 1, 'grow_policy_idx': 2, 'eta': 0.0040928229121896635, 'gamma': 7.17672138005855, 'max_depth': 8, 'min_child_weight': 1.7918370514734798, 'max_delta_step': 1.983936878636829, 'subsample': 0.3288384313726671, 'lambda': 5.822321645444622, 'alpha': 1.9263640357738476, 'scale_pos_weight': 2.9753061279033393, 'max_leaves': 7, 'max_bin': 200}. Best is trial 1 with value: 0.6192486519362881.\n"
     ]
    },
    {
     "name": "stdout",
     "output_type": "stream",
     "text": [
      "Trial 3 - MAE: 1.2345594350363034\n",
      "\n",
      "Trial 4 parameters: {'booster': 'dart', 'tree_method': 'auto', 'grow_policy': 'depthwise', 'eta': 0.03898584779620995, 'gamma': 8.146454347357263, 'max_depth': 12, 'min_child_weight': 2.706164063955516, 'max_delta_step': 3.3861327228632354, 'subsample': 0.6220276783266541, 'reg_lambda': 0.005075528497833993, 'alpha': 0.23970716116611304, 'scale_pos_weight': 3.1303176145208407, 'max_leaves': 7, 'max_bin': 450, 'random_state': 42, 'eval_metric': 'mae', 'device': 'cuda'}\n"
     ]
    },
    {
     "name": "stderr",
     "output_type": "stream",
     "text": [
      "[I 2025-04-13 17:31:47,639] Trial 4 finished with value: 0.687556717079549 and parameters: {'booster_idx': 3, 'tree_method_idx': 1, 'grow_policy_idx': 1, 'eta': 0.03898584779620995, 'gamma': 8.146454347357263, 'max_depth': 12, 'min_child_weight': 2.706164063955516, 'max_delta_step': 3.3861327228632354, 'subsample': 0.6220276783266541, 'lambda': 0.005075528497833993, 'alpha': 0.23970716116611304, 'scale_pos_weight': 3.1303176145208407, 'max_leaves': 7, 'max_bin': 450}. Best is trial 1 with value: 0.6192486519362881.\n"
     ]
    },
    {
     "name": "stdout",
     "output_type": "stream",
     "text": [
      "Trial 4 - MAE: 0.687556717079549\n",
      "\n",
      "Trial 5 parameters: {'booster': 'gblinear', 'tree_method': 'auto', 'grow_policy': 'depthwise', 'eta': 0.1659558872414235, 'gamma': 4.088009564212067, 'max_depth': 9, 'min_child_weight': 2.6390851732552356, 'max_delta_step': 3.0578983259294894, 'subsample': 0.8634764591674853, 'reg_lambda': 0.001302566331100152, 'alpha': 0.20190070619165246, 'scale_pos_weight': 3.1728729038741603, 'max_leaves': 6, 'max_bin': 400, 'random_state': 42, 'eval_metric': 'mae', 'device': 'cuda'}\n"
     ]
    },
    {
     "name": "stderr",
     "output_type": "stream",
     "text": [
      "[I 2025-04-13 17:32:02,038] Trial 5 finished with value: 1.2040645385337023 and parameters: {'booster_idx': 2, 'tree_method_idx': 1, 'grow_policy_idx': 1, 'eta': 0.1659558872414235, 'gamma': 4.088009564212067, 'max_depth': 9, 'min_child_weight': 2.6390851732552356, 'max_delta_step': 3.0578983259294894, 'subsample': 0.8634764591674853, 'lambda': 0.001302566331100152, 'alpha': 0.20190070619165246, 'scale_pos_weight': 3.1728729038741603, 'max_leaves': 6, 'max_bin': 400}. Best is trial 1 with value: 0.6192486519362881.\n"
     ]
    },
    {
     "name": "stdout",
     "output_type": "stream",
     "text": [
      "Trial 5 - MAE: 1.2040645385337023\n",
      "\n",
      "Trial 6 parameters: {'booster': 'gblinear', 'tree_method': 'auto', 'grow_policy': 'depthwise', 'eta': 0.03611638534730193, 'gamma': 1.5323038573959946, 'max_depth': 5, 'min_child_weight': 1.24873141127207, 'max_delta_step': 4.696323898918822, 'subsample': 0.7622444580809713, 'reg_lambda': 0.02271936170197666, 'alpha': 0.05895185072527283, 'scale_pos_weight': 1.6137130741089114, 'max_leaves': 2, 'max_bin': 150, 'random_state': 42, 'eval_metric': 'mae', 'device': 'cuda'}\n"
     ]
    },
    {
     "name": "stderr",
     "output_type": "stream",
     "text": [
      "[I 2025-04-13 17:32:17,341] Trial 6 finished with value: 1.0208611916997121 and parameters: {'booster_idx': 2, 'tree_method_idx': 1, 'grow_policy_idx': 1, 'eta': 0.03611638534730193, 'gamma': 1.5323038573959946, 'max_depth': 5, 'min_child_weight': 1.24873141127207, 'max_delta_step': 4.696323898918822, 'subsample': 0.7622444580809713, 'lambda': 0.02271936170197666, 'alpha': 0.05895185072527283, 'scale_pos_weight': 1.6137130741089114, 'max_leaves': 2, 'max_bin': 150}. Best is trial 1 with value: 0.6192486519362881.\n"
     ]
    },
    {
     "name": "stdout",
     "output_type": "stream",
     "text": [
      "Trial 6 - MAE: 1.0208611916997121\n",
      "\n",
      "Trial 7 parameters: {'booster': 'gbtree', 'tree_method': 'hist', 'grow_policy': 'depthwise', 'eta': 0.20480717701902235, 'gamma': 4.826673450647476, 'max_depth': 8, 'min_child_weight': 3.969321774574563, 'max_delta_step': 0.4905325603431432, 'subsample': 0.5023461553908228, 'reg_lambda': 0.03315823805178815, 'alpha': 0.005922078476922153, 'scale_pos_weight': 2.8752364587584474, 'max_leaves': 4, 'max_bin': 475, 'random_state': 42, 'eval_metric': 'mae', 'device': 'cuda'}\n"
     ]
    },
    {
     "name": "stderr",
     "output_type": "stream",
     "text": [
      "[I 2025-04-13 17:32:22,838] Trial 7 finished with value: 0.6314413003989207 and parameters: {'booster_idx': 1, 'tree_method_idx': 2, 'grow_policy_idx': 1, 'eta': 0.20480717701902235, 'gamma': 4.826673450647476, 'max_depth': 8, 'min_child_weight': 3.969321774574563, 'max_delta_step': 0.4905325603431432, 'subsample': 0.5023461553908228, 'lambda': 0.03315823805178815, 'alpha': 0.005922078476922153, 'scale_pos_weight': 2.8752364587584474, 'max_leaves': 4, 'max_bin': 475}. Best is trial 1 with value: 0.6192486519362881.\n"
     ]
    },
    {
     "name": "stdout",
     "output_type": "stream",
     "text": [
      "Trial 7 - MAE: 0.6314413003989207\n",
      "\n",
      "Trial 8 parameters: {'booster': 'gbtree', 'tree_method': 'hist', 'grow_policy': 'depthwise', 'eta': 0.05582517444520969, 'gamma': 5.197356423256299, 'max_depth': 7, 'min_child_weight': 1.6594867242314404, 'max_delta_step': 2.194464050001793, 'subsample': 0.8367620244482732, 'reg_lambda': 0.6619961053281248, 'alpha': 0.011227880729555889, 'scale_pos_weight': 0.8329189414788141, 'max_leaves': 4, 'max_bin': 175, 'random_state': 42, 'eval_metric': 'mae', 'device': 'cuda'}\n"
     ]
    },
    {
     "name": "stderr",
     "output_type": "stream",
     "text": [
      "[I 2025-04-13 17:32:27,867] Trial 8 finished with value: 0.6875592211792045 and parameters: {'booster_idx': 1, 'tree_method_idx': 2, 'grow_policy_idx': 1, 'eta': 0.05582517444520969, 'gamma': 5.197356423256299, 'max_depth': 7, 'min_child_weight': 1.6594867242314404, 'max_delta_step': 2.194464050001793, 'subsample': 0.8367620244482732, 'lambda': 0.6619961053281248, 'alpha': 0.011227880729555889, 'scale_pos_weight': 0.8329189414788141, 'max_leaves': 4, 'max_bin': 175}. Best is trial 1 with value: 0.6192486519362881.\n"
     ]
    },
    {
     "name": "stdout",
     "output_type": "stream",
     "text": [
      "Trial 8 - MAE: 0.6875592211792045\n",
      "\n",
      "Trial 9 parameters: {'booster': 'gbtree', 'tree_method': 'auto', 'grow_policy': 'depthwise', 'eta': 0.0895637501333738, 'gamma': 7.06392348578904, 'max_depth': 12, 'min_child_weight': 1.3122406871060943, 'max_delta_step': 0.35082314114086355, 'subsample': 0.5662839846294438, 'reg_lambda': 0.011594887931409758, 'alpha': 0.5262503417946327, 'scale_pos_weight': 0.856828654107651, 'max_leaves': 4, 'max_bin': 200, 'random_state': 42, 'eval_metric': 'mae', 'device': 'cuda'}\n"
     ]
    },
    {
     "name": "stderr",
     "output_type": "stream",
     "text": [
      "[I 2025-04-13 17:32:32,946] Trial 9 finished with value: 0.6483468767793003 and parameters: {'booster_idx': 1, 'tree_method_idx': 1, 'grow_policy_idx': 1, 'eta': 0.0895637501333738, 'gamma': 7.06392348578904, 'max_depth': 12, 'min_child_weight': 1.3122406871060943, 'max_delta_step': 0.35082314114086355, 'subsample': 0.5662839846294438, 'lambda': 0.011594887931409758, 'alpha': 0.5262503417946327, 'scale_pos_weight': 0.856828654107651, 'max_leaves': 4, 'max_bin': 200}. Best is trial 1 with value: 0.6192486519362881.\n"
     ]
    },
    {
     "name": "stdout",
     "output_type": "stream",
     "text": [
      "Trial 9 - MAE: 0.6483468767793003\n",
      "\n",
      "Trial 10 parameters: {'booster': 'gbtree', 'tree_method': 'auto', 'grow_policy': 'lossguide', 'eta': 0.6448020208332684, 'gamma': 0.29521436096587816, 'max_depth': 3, 'min_child_weight': 4.804838599135661, 'max_delta_step': 1.4547985480505778, 'subsample': 0.9833574975565023, 'reg_lambda': 0.25750355533568237, 'alpha': 6.9288297827216825, 'scale_pos_weight': 4.781906135173216, 'max_leaves': 10, 'max_bin': 300, 'random_state': 42, 'eval_metric': 'mae', 'device': 'cuda'}\n"
     ]
    },
    {
     "name": "stderr",
     "output_type": "stream",
     "text": [
      "[I 2025-04-13 17:32:38,505] Trial 10 finished with value: 0.6337372203947264 and parameters: {'booster_idx': 1, 'tree_method_idx': 1, 'grow_policy_idx': 2, 'eta': 0.6448020208332684, 'gamma': 0.29521436096587816, 'max_depth': 3, 'min_child_weight': 4.804838599135661, 'max_delta_step': 1.4547985480505778, 'subsample': 0.9833574975565023, 'lambda': 0.25750355533568237, 'alpha': 6.9288297827216825, 'scale_pos_weight': 4.781906135173216, 'max_leaves': 10, 'max_bin': 300}. Best is trial 1 with value: 0.6192486519362881.\n"
     ]
    },
    {
     "name": "stdout",
     "output_type": "stream",
     "text": [
      "Trial 10 - MAE: 0.6337372203947264\n",
      "\n",
      "Trial 11 parameters: {'booster': 'gbtree', 'tree_method': 'hist', 'grow_policy': 'lossguide', 'eta': 0.4063037617945095, 'gamma': 3.660572881957914, 'max_depth': 3, 'min_child_weight': 4.022008564590988, 'max_delta_step': 1.2531764873601647, 'subsample': 0.49242587288019357, 'reg_lambda': 0.059626888006485135, 'alpha': 0.01558789432911522, 'scale_pos_weight': 2.095860668201529, 'max_leaves': 9, 'max_bin': 375, 'random_state': 42, 'eval_metric': 'mae', 'device': 'cuda'}\n"
     ]
    },
    {
     "name": "stderr",
     "output_type": "stream",
     "text": [
      "[I 2025-04-13 17:32:44,045] Trial 11 finished with value: 0.5811094830624298 and parameters: {'booster_idx': 1, 'tree_method_idx': 2, 'grow_policy_idx': 2, 'eta': 0.4063037617945095, 'gamma': 3.660572881957914, 'max_depth': 3, 'min_child_weight': 4.022008564590988, 'max_delta_step': 1.2531764873601647, 'subsample': 0.49242587288019357, 'lambda': 0.059626888006485135, 'alpha': 0.01558789432911522, 'scale_pos_weight': 2.095860668201529, 'max_leaves': 9, 'max_bin': 375}. Best is trial 11 with value: 0.5811094830624298.\n"
     ]
    },
    {
     "name": "stdout",
     "output_type": "stream",
     "text": [
      "Trial 11 - MAE: 0.5811094830624298\n",
      "\n",
      "Trial 12 parameters: {'booster': 'gbtree', 'tree_method': 'hist', 'grow_policy': 'lossguide', 'eta': 0.6610372545520468, 'gamma': 2.8947642335882176, 'max_depth': 3, 'min_child_weight': 4.076141711635884, 'max_delta_step': 1.3237018001506826, 'subsample': 0.23329808544993635, 'reg_lambda': 0.20468452675026097, 'alpha': 0.035949332067592016, 'scale_pos_weight': 1.8682945738100654, 'max_leaves': 10, 'max_bin': 350, 'random_state': 42, 'eval_metric': 'mae', 'device': 'cuda'}\n"
     ]
    },
    {
     "name": "stderr",
     "output_type": "stream",
     "text": [
      "[I 2025-04-13 17:32:49,661] Trial 12 finished with value: 0.5933645716888959 and parameters: {'booster_idx': 1, 'tree_method_idx': 2, 'grow_policy_idx': 2, 'eta': 0.6610372545520468, 'gamma': 2.8947642335882176, 'max_depth': 3, 'min_child_weight': 4.076141711635884, 'max_delta_step': 1.3237018001506826, 'subsample': 0.23329808544993635, 'lambda': 0.20468452675026097, 'alpha': 0.035949332067592016, 'scale_pos_weight': 1.8682945738100654, 'max_leaves': 10, 'max_bin': 350}. Best is trial 11 with value: 0.5811094830624298.\n"
     ]
    },
    {
     "name": "stdout",
     "output_type": "stream",
     "text": [
      "Trial 12 - MAE: 0.5933645716888959\n",
      "\n",
      "Trial 13 parameters: {'booster': 'gblinear', 'tree_method': 'hist', 'grow_policy': 'lossguide', 'eta': 0.6619245168080955, 'gamma': 2.455433302857913, 'max_depth': 5, 'min_child_weight': 3.9064970347614634, 'max_delta_step': 1.4143645995700214, 'subsample': 0.2533254808443201, 'reg_lambda': 0.10707054540129321, 'alpha': 0.014883260536645196, 'scale_pos_weight': 2.0224576698059122, 'max_leaves': 10, 'max_bin': 400, 'random_state': 42, 'eval_metric': 'mae', 'device': 'cuda'}\n"
     ]
    },
    {
     "name": "stderr",
     "output_type": "stream",
     "text": [
      "[I 2025-04-13 17:33:05,536] Trial 13 finished with value: 0.8378723954059538 and parameters: {'booster_idx': 2, 'tree_method_idx': 2, 'grow_policy_idx': 2, 'eta': 0.6619245168080955, 'gamma': 2.455433302857913, 'max_depth': 5, 'min_child_weight': 3.9064970347614634, 'max_delta_step': 1.4143645995700214, 'subsample': 0.2533254808443201, 'lambda': 0.10707054540129321, 'alpha': 0.014883260536645196, 'scale_pos_weight': 2.0224576698059122, 'max_leaves': 10, 'max_bin': 400}. Best is trial 11 with value: 0.5811094830624298.\n"
     ]
    },
    {
     "name": "stdout",
     "output_type": "stream",
     "text": [
      "Trial 13 - MAE: 0.8378723954059538\n",
      "\n",
      "Trial 14 parameters: {'booster': 'gbtree', 'tree_method': 'hist', 'grow_policy': 'lossguide', 'eta': 0.006685853450665489, 'gamma': 2.883582220103697, 'max_depth': 3, 'min_child_weight': 4.811667166395756, 'max_delta_step': 2.7681443958235166, 'subsample': 0.23507393275039778, 'reg_lambda': 1.5392586688891199, 'alpha': 0.05292302846875271, 'scale_pos_weight': 1.993658566062881, 'max_leaves': 9, 'max_bin': 375, 'random_state': 42, 'eval_metric': 'mae', 'device': 'cuda'}\n"
     ]
    },
    {
     "name": "stderr",
     "output_type": "stream",
     "text": [
      "[I 2025-04-13 17:33:11,278] Trial 14 finished with value: 1.0458032277823042 and parameters: {'booster_idx': 1, 'tree_method_idx': 2, 'grow_policy_idx': 2, 'eta': 0.006685853450665489, 'gamma': 2.883582220103697, 'max_depth': 3, 'min_child_weight': 4.811667166395756, 'max_delta_step': 2.7681443958235166, 'subsample': 0.23507393275039778, 'lambda': 1.5392586688891199, 'alpha': 0.05292302846875271, 'scale_pos_weight': 1.993658566062881, 'max_leaves': 9, 'max_bin': 375}. Best is trial 11 with value: 0.5811094830624298.\n"
     ]
    },
    {
     "name": "stdout",
     "output_type": "stream",
     "text": [
      "Trial 14 - MAE: 1.0458032277823042\n",
      "\n",
      "Trial 15 parameters: {'booster': 'gblinear', 'tree_method': 'hist', 'grow_policy': 'lossguide', 'eta': 0.35433977157659285, 'gamma': 3.199841647770017, 'max_depth': 6, 'min_child_weight': 3.4944323590203092, 'max_delta_step': 3.701474500318452, 'subsample': 0.42888252950982764, 'reg_lambda': 0.09460676040682502, 'alpha': 0.002541633765130359, 'scale_pos_weight': 1.520216551913293, 'max_leaves': 9, 'max_bin': 250, 'random_state': 42, 'eval_metric': 'mae', 'device': 'cuda'}\n"
     ]
    },
    {
     "name": "stderr",
     "output_type": "stream",
     "text": [
      "[I 2025-04-13 17:33:28,185] Trial 15 finished with value: 0.8567063529248932 and parameters: {'booster_idx': 2, 'tree_method_idx': 2, 'grow_policy_idx': 2, 'eta': 0.35433977157659285, 'gamma': 3.199841647770017, 'max_depth': 6, 'min_child_weight': 3.4944323590203092, 'max_delta_step': 3.701474500318452, 'subsample': 0.42888252950982764, 'lambda': 0.09460676040682502, 'alpha': 0.002541633765130359, 'scale_pos_weight': 1.520216551913293, 'max_leaves': 9, 'max_bin': 250}. Best is trial 11 with value: 0.5811094830624298.\n"
     ]
    },
    {
     "name": "stdout",
     "output_type": "stream",
     "text": [
      "Trial 15 - MAE: 0.8567063529248932\n",
      "\n",
      "Trial 16 parameters: {'booster': 'gbtree', 'tree_method': 'hist', 'grow_policy': 'lossguide', 'eta': 0.01570037711903529, 'gamma': 1.3473590660094645, 'max_depth': 4, 'min_child_weight': 4.354652688746014, 'max_delta_step': 1.0431343921665135, 'subsample': 0.35291895573604737, 'reg_lambda': 0.3953834429641605, 'alpha': 0.027518224310371136, 'scale_pos_weight': 2.3743142698825586, 'max_leaves': 8, 'max_bin': 375, 'random_state': 42, 'eval_metric': 'mae', 'device': 'cuda'}\n"
     ]
    },
    {
     "name": "stderr",
     "output_type": "stream",
     "text": [
      "[I 2025-04-13 17:33:34,694] Trial 16 finished with value: 0.8359349652002124 and parameters: {'booster_idx': 1, 'tree_method_idx': 2, 'grow_policy_idx': 2, 'eta': 0.01570037711903529, 'gamma': 1.3473590660094645, 'max_depth': 4, 'min_child_weight': 4.354652688746014, 'max_delta_step': 1.0431343921665135, 'subsample': 0.35291895573604737, 'lambda': 0.3953834429641605, 'alpha': 0.027518224310371136, 'scale_pos_weight': 2.3743142698825586, 'max_leaves': 8, 'max_bin': 375}. Best is trial 11 with value: 0.5811094830624298.\n"
     ]
    },
    {
     "name": "stdout",
     "output_type": "stream",
     "text": [
      "Trial 16 - MAE: 0.8359349652002124\n",
      "\n",
      "Trial 17 parameters: {'booster': 'dart', 'tree_method': 'hist', 'grow_policy': 'lossguide', 'eta': 0.3148548782667223, 'gamma': 5.87975249144353, 'max_depth': 4, 'min_child_weight': 3.3299085063246054, 'max_delta_step': 0.015218070535069739, 'subsample': 0.2049892566063758, 'reg_lambda': 0.07682251497263223, 'alpha': 0.004698145278797241, 'scale_pos_weight': 1.3340133870246498, 'max_leaves': 10, 'max_bin': 525, 'random_state': 42, 'eval_metric': 'mae', 'device': 'cuda'}\n"
     ]
    },
    {
     "name": "stderr",
     "output_type": "stream",
     "text": [
      "[I 2025-04-13 17:33:44,971] Trial 17 finished with value: 0.5619603850814958 and parameters: {'booster_idx': 3, 'tree_method_idx': 2, 'grow_policy_idx': 2, 'eta': 0.3148548782667223, 'gamma': 5.87975249144353, 'max_depth': 4, 'min_child_weight': 3.3299085063246054, 'max_delta_step': 0.015218070535069739, 'subsample': 0.2049892566063758, 'lambda': 0.07682251497263223, 'alpha': 0.004698145278797241, 'scale_pos_weight': 1.3340133870246498, 'max_leaves': 10, 'max_bin': 525}. Best is trial 17 with value: 0.5619603850814958.\n"
     ]
    },
    {
     "name": "stdout",
     "output_type": "stream",
     "text": [
      "Trial 17 - MAE: 0.5619603850814958\n",
      "\n",
      "Trial 18 parameters: {'booster': 'dart', 'tree_method': 'hist', 'grow_policy': 'lossguide', 'eta': 0.309178382392958, 'gamma': 5.843553214024269, 'max_depth': 6, 'min_child_weight': 3.2721332400962213, 'max_delta_step': 0.13819435283572412, 'subsample': 0.49397397262659015, 'reg_lambda': 0.05048576881089408, 'alpha': 0.0034006241737586317, 'scale_pos_weight': 1.2734864014872378, 'max_leaves': 6, 'max_bin': 525, 'random_state': 42, 'eval_metric': 'mae', 'device': 'cuda'}\n"
     ]
    },
    {
     "name": "stderr",
     "output_type": "stream",
     "text": [
      "[I 2025-04-13 17:33:54,753] Trial 18 finished with value: 0.572674169763022 and parameters: {'booster_idx': 3, 'tree_method_idx': 2, 'grow_policy_idx': 2, 'eta': 0.309178382392958, 'gamma': 5.843553214024269, 'max_depth': 6, 'min_child_weight': 3.2721332400962213, 'max_delta_step': 0.13819435283572412, 'subsample': 0.49397397262659015, 'lambda': 0.05048576881089408, 'alpha': 0.0034006241737586317, 'scale_pos_weight': 1.2734864014872378, 'max_leaves': 6, 'max_bin': 525}. Best is trial 17 with value: 0.5619603850814958.\n"
     ]
    },
    {
     "name": "stdout",
     "output_type": "stream",
     "text": [
      "Trial 18 - MAE: 0.572674169763022\n",
      "\n",
      "Trial 19 parameters: {'booster': 'dart', 'tree_method': 'hist', 'grow_policy': 'lossguide', 'eta': 0.015128595808884628, 'gamma': 6.100177247918385, 'max_depth': 6, 'min_child_weight': 3.449927580321655, 'max_delta_step': 0.13847649888842015, 'subsample': 0.71226655518469, 'reg_lambda': 0.0018336166003641494, 'alpha': 0.003567581129919868, 'scale_pos_weight': 1.1570418963830407, 'max_leaves': 1, 'max_bin': 525, 'random_state': 42, 'eval_metric': 'mae', 'device': 'cuda'}\n"
     ]
    },
    {
     "name": "stderr",
     "output_type": "stream",
     "text": [
      "[I 2025-04-13 17:34:02,107] Trial 19 finished with value: 1.2817749066694957 and parameters: {'booster_idx': 3, 'tree_method_idx': 2, 'grow_policy_idx': 2, 'eta': 0.015128595808884628, 'gamma': 6.100177247918385, 'max_depth': 6, 'min_child_weight': 3.449927580321655, 'max_delta_step': 0.13847649888842015, 'subsample': 0.71226655518469, 'lambda': 0.0018336166003641494, 'alpha': 0.003567581129919868, 'scale_pos_weight': 1.1570418963830407, 'max_leaves': 1, 'max_bin': 525}. Best is trial 17 with value: 0.5619603850814958.\n"
     ]
    },
    {
     "name": "stdout",
     "output_type": "stream",
     "text": [
      "Trial 19 - MAE: 1.2817749066694957\n",
      "\n",
      "Trial 20 parameters: {'booster': 'dart', 'tree_method': 'hist', 'grow_policy': 'lossguide', 'eta': 0.25803110354157394, 'gamma': 5.98451923014989, 'max_depth': 6, 'min_child_weight': 3.226833602661933, 'max_delta_step': 4.305534295788558, 'subsample': 0.5335795313104099, 'reg_lambda': 1.4037425153718721, 'alpha': 0.0011953616163867897, 'scale_pos_weight': 0.5448714729294997, 'max_leaves': 6, 'max_bin': 450, 'random_state': 42, 'eval_metric': 'mae', 'device': 'cuda'}\n"
     ]
    },
    {
     "name": "stderr",
     "output_type": "stream",
     "text": [
      "[I 2025-04-13 17:34:11,783] Trial 20 finished with value: 0.5801458121092794 and parameters: {'booster_idx': 3, 'tree_method_idx': 2, 'grow_policy_idx': 2, 'eta': 0.25803110354157394, 'gamma': 5.98451923014989, 'max_depth': 6, 'min_child_weight': 3.226833602661933, 'max_delta_step': 4.305534295788558, 'subsample': 0.5335795313104099, 'lambda': 1.4037425153718721, 'alpha': 0.0011953616163867897, 'scale_pos_weight': 0.5448714729294997, 'max_leaves': 6, 'max_bin': 450}. Best is trial 17 with value: 0.5619603850814958.\n"
     ]
    },
    {
     "name": "stdout",
     "output_type": "stream",
     "text": [
      "Trial 20 - MAE: 0.5801458121092794\n",
      "\n",
      "Trial 21 parameters: {'booster': 'dart', 'tree_method': 'hist', 'grow_policy': 'lossguide', 'eta': 0.1035846954881589, 'gamma': 9.838304038532858, 'max_depth': 6, 'min_child_weight': 3.2663874373244113, 'max_delta_step': 4.948661827682427, 'subsample': 0.5460833536729844, 'reg_lambda': 2.100360049341005, 'alpha': 0.0010377704855843203, 'scale_pos_weight': 0.508707722358958, 'max_leaves': 5, 'max_bin': 450, 'random_state': 42, 'eval_metric': 'mae', 'device': 'cuda'}\n"
     ]
    },
    {
     "name": "stderr",
     "output_type": "stream",
     "text": [
      "[I 2025-04-13 17:34:20,886] Trial 21 finished with value: 0.619865976727653 and parameters: {'booster_idx': 3, 'tree_method_idx': 2, 'grow_policy_idx': 2, 'eta': 0.1035846954881589, 'gamma': 9.838304038532858, 'max_depth': 6, 'min_child_weight': 3.2663874373244113, 'max_delta_step': 4.948661827682427, 'subsample': 0.5460833536729844, 'lambda': 2.100360049341005, 'alpha': 0.0010377704855843203, 'scale_pos_weight': 0.508707722358958, 'max_leaves': 5, 'max_bin': 450}. Best is trial 17 with value: 0.5619603850814958.\n"
     ]
    },
    {
     "name": "stdout",
     "output_type": "stream",
     "text": [
      "Trial 21 - MAE: 0.619865976727653\n",
      "\n",
      "Trial 22 parameters: {'booster': 'dart', 'tree_method': 'hist', 'grow_policy': 'lossguide', 'eta': 0.27817308870336777, 'gamma': 5.537703376738328, 'max_depth': 7, 'min_child_weight': 3.0428114515517097, 'max_delta_step': 4.13854766729151, 'subsample': 0.46027646592029564, 'reg_lambda': 0.9433917990187002, 'alpha': 0.0026850368265402924, 'scale_pos_weight': 1.1337802599271434, 'max_leaves': 6, 'max_bin': 525, 'random_state': 42, 'eval_metric': 'mae', 'device': 'cuda'}\n"
     ]
    },
    {
     "name": "stderr",
     "output_type": "stream",
     "text": [
      "[I 2025-04-13 17:34:30,562] Trial 22 finished with value: 0.5727013567325586 and parameters: {'booster_idx': 3, 'tree_method_idx': 2, 'grow_policy_idx': 2, 'eta': 0.27817308870336777, 'gamma': 5.537703376738328, 'max_depth': 7, 'min_child_weight': 3.0428114515517097, 'max_delta_step': 4.13854766729151, 'subsample': 0.46027646592029564, 'lambda': 0.9433917990187002, 'alpha': 0.0026850368265402924, 'scale_pos_weight': 1.1337802599271434, 'max_leaves': 6, 'max_bin': 525}. Best is trial 17 with value: 0.5619603850814958.\n"
     ]
    },
    {
     "name": "stdout",
     "output_type": "stream",
     "text": [
      "Trial 22 - MAE: 0.5727013567325586\n",
      "\n",
      "Trial 23 parameters: {'booster': 'dart', 'tree_method': 'hist', 'grow_policy': 'lossguide', 'eta': 0.10352300804741277, 'gamma': 5.894920706008531, 'max_depth': 7, 'min_child_weight': 2.153819918642574, 'max_delta_step': 4.086704943628586, 'subsample': 0.317253674374779, 'reg_lambda': 0.037049729655873255, 'alpha': 0.005580310450473198, 'scale_pos_weight': 1.2140838784580201, 'max_leaves': 5, 'max_bin': 525, 'random_state': 42, 'eval_metric': 'mae', 'device': 'cuda'}\n"
     ]
    },
    {
     "name": "stderr",
     "output_type": "stream",
     "text": [
      "[I 2025-04-13 17:34:39,814] Trial 23 finished with value: 0.6076259406272979 and parameters: {'booster_idx': 3, 'tree_method_idx': 2, 'grow_policy_idx': 2, 'eta': 0.10352300804741277, 'gamma': 5.894920706008531, 'max_depth': 7, 'min_child_weight': 2.153819918642574, 'max_delta_step': 4.086704943628586, 'subsample': 0.317253674374779, 'lambda': 0.037049729655873255, 'alpha': 0.005580310450473198, 'scale_pos_weight': 1.2140838784580201, 'max_leaves': 5, 'max_bin': 525}. Best is trial 17 with value: 0.5619603850814958.\n"
     ]
    },
    {
     "name": "stdout",
     "output_type": "stream",
     "text": [
      "Trial 23 - MAE: 0.6076259406272979\n",
      "\n",
      "Trial 24 parameters: {'booster': 'dart', 'tree_method': 'hist', 'grow_policy': 'lossguide', 'eta': 0.3471608258557165, 'gamma': 8.316824687595933, 'max_depth': 10, 'min_child_weight': 2.9240981284980805, 'max_delta_step': 1.920689846538514, 'subsample': 0.4364886183026843, 'reg_lambda': 0.12093780995836323, 'alpha': 0.0024877683157719294, 'scale_pos_weight': 1.3671331298866074, 'max_leaves': 7, 'max_bin': 500, 'random_state': 42, 'eval_metric': 'mae', 'device': 'cuda'}\n"
     ]
    },
    {
     "name": "stderr",
     "output_type": "stream",
     "text": [
      "[I 2025-04-13 17:34:49,865] Trial 24 finished with value: 0.5671951386798251 and parameters: {'booster_idx': 3, 'tree_method_idx': 2, 'grow_policy_idx': 2, 'eta': 0.3471608258557165, 'gamma': 8.316824687595933, 'max_depth': 10, 'min_child_weight': 2.9240981284980805, 'max_delta_step': 1.920689846538514, 'subsample': 0.4364886183026843, 'lambda': 0.12093780995836323, 'alpha': 0.0024877683157719294, 'scale_pos_weight': 1.3671331298866074, 'max_leaves': 7, 'max_bin': 500}. Best is trial 17 with value: 0.5619603850814958.\n"
     ]
    },
    {
     "name": "stdout",
     "output_type": "stream",
     "text": [
      "Trial 24 - MAE: 0.5671951386798251\n",
      "\n",
      "Trial 25 parameters: {'booster': 'dart', 'tree_method': 'hist', 'grow_policy': 'lossguide', 'eta': 0.42584453582803106, 'gamma': 9.625038737976038, 'max_depth': 11, 'min_child_weight': 2.7499326355560147, 'max_delta_step': 1.9011078483562451, 'subsample': 0.3820490624826307, 'reg_lambda': 0.14521855616074103, 'alpha': 0.006600266494506176, 'scale_pos_weight': 1.3881188890142855, 'max_leaves': 7, 'max_bin': 475, 'random_state': 42, 'eval_metric': 'mae', 'device': 'cuda'}\n"
     ]
    },
    {
     "name": "stderr",
     "output_type": "stream",
     "text": [
      "[I 2025-04-13 17:34:59,809] Trial 25 finished with value: 0.5639439151988341 and parameters: {'booster_idx': 3, 'tree_method_idx': 2, 'grow_policy_idx': 2, 'eta': 0.42584453582803106, 'gamma': 9.625038737976038, 'max_depth': 11, 'min_child_weight': 2.7499326355560147, 'max_delta_step': 1.9011078483562451, 'subsample': 0.3820490624826307, 'lambda': 0.14521855616074103, 'alpha': 0.006600266494506176, 'scale_pos_weight': 1.3881188890142855, 'max_leaves': 7, 'max_bin': 475}. Best is trial 17 with value: 0.5619603850814958.\n"
     ]
    },
    {
     "name": "stdout",
     "output_type": "stream",
     "text": [
      "Trial 25 - MAE: 0.5639439151988341\n",
      "\n",
      "Trial 26 parameters: {'booster': 'dart', 'tree_method': 'hist', 'grow_policy': 'lossguide', 'eta': 0.45810853250544487, 'gamma': 9.90716892241845, 'max_depth': 11, 'min_child_weight': 2.685861087191065, 'max_delta_step': 1.8878549478210096, 'subsample': 0.38050539640093034, 'reg_lambda': 0.13633347810293453, 'alpha': 0.00895270973087117, 'scale_pos_weight': 2.485917380194277, 'max_leaves': 8, 'max_bin': 475, 'random_state': 42, 'eval_metric': 'mae', 'device': 'cuda'}\n"
     ]
    },
    {
     "name": "stderr",
     "output_type": "stream",
     "text": [
      "[I 2025-04-13 17:35:10,017] Trial 26 finished with value: 0.5759801087010572 and parameters: {'booster_idx': 3, 'tree_method_idx': 2, 'grow_policy_idx': 2, 'eta': 0.45810853250544487, 'gamma': 9.90716892241845, 'max_depth': 11, 'min_child_weight': 2.685861087191065, 'max_delta_step': 1.8878549478210096, 'subsample': 0.38050539640093034, 'lambda': 0.13633347810293453, 'alpha': 0.00895270973087117, 'scale_pos_weight': 2.485917380194277, 'max_leaves': 8, 'max_bin': 475}. Best is trial 17 with value: 0.5619603850814958.\n"
     ]
    },
    {
     "name": "stdout",
     "output_type": "stream",
     "text": [
      "Trial 26 - MAE: 0.5759801087010572\n",
      "\n",
      "Trial 27 parameters: {'booster': 'dart', 'tree_method': 'hist', 'grow_policy': 'lossguide', 'eta': 0.13434745992842337, 'gamma': 9.183804959835822, 'max_depth': 10, 'min_child_weight': 2.308113260329729, 'max_delta_step': 2.5103378495645683, 'subsample': 0.2982957412504098, 'reg_lambda': 0.45809159824691936, 'alpha': 0.02509780486955146, 'scale_pos_weight': 1.5560951648596122, 'max_leaves': 7, 'max_bin': 425, 'random_state': 42, 'eval_metric': 'mae', 'device': 'cuda'}\n"
     ]
    },
    {
     "name": "stderr",
     "output_type": "stream",
     "text": [
      "[I 2025-04-13 17:35:19,648] Trial 27 finished with value: 0.5839280184615241 and parameters: {'booster_idx': 3, 'tree_method_idx': 2, 'grow_policy_idx': 2, 'eta': 0.13434745992842337, 'gamma': 9.183804959835822, 'max_depth': 10, 'min_child_weight': 2.308113260329729, 'max_delta_step': 2.5103378495645683, 'subsample': 0.2982957412504098, 'lambda': 0.45809159824691936, 'alpha': 0.02509780486955146, 'scale_pos_weight': 1.5560951648596122, 'max_leaves': 7, 'max_bin': 425}. Best is trial 17 with value: 0.5619603850814958.\n"
     ]
    },
    {
     "name": "stdout",
     "output_type": "stream",
     "text": [
      "Trial 27 - MAE: 0.5839280184615241\n",
      "\n",
      "Trial 28 parameters: {'booster': 'dart', 'tree_method': 'hist', 'grow_policy': 'lossguide', 'eta': 0.07678871515966797, 'gamma': 8.42963572599063, 'max_depth': 11, 'min_child_weight': 1.9876777980017688, 'max_delta_step': 1.8995035204479553, 'subsample': 0.293826551656601, 'reg_lambda': 0.0190089331911408, 'alpha': 0.006133786464966616, 'scale_pos_weight': 3.893646916886862, 'max_leaves': 8, 'max_bin': 475, 'random_state': 42, 'eval_metric': 'mae', 'device': 'cuda'}\n"
     ]
    },
    {
     "name": "stderr",
     "output_type": "stream",
     "text": [
      "[I 2025-04-13 17:35:29,698] Trial 28 finished with value: 0.6238938416357173 and parameters: {'booster_idx': 3, 'tree_method_idx': 2, 'grow_policy_idx': 2, 'eta': 0.07678871515966797, 'gamma': 8.42963572599063, 'max_depth': 11, 'min_child_weight': 1.9876777980017688, 'max_delta_step': 1.8995035204479553, 'subsample': 0.293826551656601, 'lambda': 0.0190089331911408, 'alpha': 0.006133786464966616, 'scale_pos_weight': 3.893646916886862, 'max_leaves': 8, 'max_bin': 475}. Best is trial 17 with value: 0.5619603850814958.\n"
     ]
    },
    {
     "name": "stdout",
     "output_type": "stream",
     "text": [
      "Trial 28 - MAE: 0.6238938416357173\n",
      "\n",
      "Trial 29 parameters: {'booster': 'gblinear', 'tree_method': 'hist', 'grow_policy': 'lossguide', 'eta': 0.02033594452715292, 'gamma': 7.623901192842202, 'max_depth': 10, 'min_child_weight': 2.8617136477445375, 'max_delta_step': 0.7628939382675759, 'subsample': 0.43010137995157416, 'reg_lambda': 0.20486688352615753, 'alpha': 0.0020773851632399257, 'scale_pos_weight': 2.418337022285497, 'max_leaves': 7, 'max_bin': 500, 'random_state': 42, 'eval_metric': 'mae', 'device': 'cuda'}\n"
     ]
    },
    {
     "name": "stderr",
     "output_type": "stream",
     "text": [
      "[I 2025-04-13 17:35:47,200] Trial 29 finished with value: 1.1667602832800283 and parameters: {'booster_idx': 2, 'tree_method_idx': 2, 'grow_policy_idx': 2, 'eta': 0.02033594452715292, 'gamma': 7.623901192842202, 'max_depth': 10, 'min_child_weight': 2.8617136477445375, 'max_delta_step': 0.7628939382675759, 'subsample': 0.43010137995157416, 'lambda': 0.20486688352615753, 'alpha': 0.0020773851632399257, 'scale_pos_weight': 2.418337022285497, 'max_leaves': 7, 'max_bin': 500}. Best is trial 17 with value: 0.5619603850814958.\n"
     ]
    },
    {
     "name": "stdout",
     "output_type": "stream",
     "text": [
      "Trial 29 - MAE: 1.1667602832800283\n",
      "\n",
      "Trial 30 parameters: {'booster': 'dart', 'tree_method': 'hist', 'grow_policy': 'lossguide', 'eta': 0.43697313051805636, 'gamma': 9.017141280244802, 'max_depth': 11, 'min_child_weight': 2.921477577920251, 'max_delta_step': 2.4114555943210667, 'subsample': 0.20722945046039806, 'reg_lambda': 0.06996433760907075, 'alpha': 0.006636731620391438, 'scale_pos_weight': 0.9029033421668025, 'max_leaves': 9, 'max_bin': 500, 'random_state': 42, 'eval_metric': 'mae', 'device': 'cuda'}\n"
     ]
    },
    {
     "name": "stderr",
     "output_type": "stream",
     "text": [
      "[I 2025-04-13 17:35:57,704] Trial 30 finished with value: 0.5565985031229783 and parameters: {'booster_idx': 3, 'tree_method_idx': 2, 'grow_policy_idx': 2, 'eta': 0.43697313051805636, 'gamma': 9.017141280244802, 'max_depth': 11, 'min_child_weight': 2.921477577920251, 'max_delta_step': 2.4114555943210667, 'subsample': 0.20722945046039806, 'lambda': 0.06996433760907075, 'alpha': 0.006636731620391438, 'scale_pos_weight': 0.9029033421668025, 'max_leaves': 9, 'max_bin': 500}. Best is trial 30 with value: 0.5565985031229783.\n"
     ]
    },
    {
     "name": "stdout",
     "output_type": "stream",
     "text": [
      "Trial 30 - MAE: 0.5565985031229783\n",
      "\n",
      "Trial 31 parameters: {'booster': 'dart', 'tree_method': 'hist', 'grow_policy': 'lossguide', 'eta': 0.4683508702031366, 'gamma': 9.13537932867153, 'max_depth': 11, 'min_child_weight': 2.964874097804888, 'max_delta_step': 2.3488204029939537, 'subsample': 0.20938442015679867, 'reg_lambda': 0.05619467167230524, 'alpha': 0.005600741636980599, 'scale_pos_weight': 0.8903992997365414, 'max_leaves': 9, 'max_bin': 500, 'random_state': 42, 'eval_metric': 'mae', 'device': 'cuda'}\n"
     ]
    },
    {
     "name": "stderr",
     "output_type": "stream",
     "text": [
      "[I 2025-04-13 17:36:08,437] Trial 31 finished with value: 0.5555651717061151 and parameters: {'booster_idx': 3, 'tree_method_idx': 2, 'grow_policy_idx': 2, 'eta': 0.4683508702031366, 'gamma': 9.13537932867153, 'max_depth': 11, 'min_child_weight': 2.964874097804888, 'max_delta_step': 2.3488204029939537, 'subsample': 0.20938442015679867, 'lambda': 0.05619467167230524, 'alpha': 0.005600741636980599, 'scale_pos_weight': 0.8903992997365414, 'max_leaves': 9, 'max_bin': 500}. Best is trial 31 with value: 0.5555651717061151.\n"
     ]
    },
    {
     "name": "stdout",
     "output_type": "stream",
     "text": [
      "Trial 31 - MAE: 0.5555651717061151\n",
      "\n",
      "Trial 32 parameters: {'booster': 'dart', 'tree_method': 'hist', 'grow_policy': 'lossguide', 'eta': 0.19321725323270877, 'gamma': 9.119309158776426, 'max_depth': 11, 'min_child_weight': 2.528978692254059, 'max_delta_step': 2.4967139836131187, 'subsample': 0.20538154507403986, 'reg_lambda': 0.07546733111380306, 'alpha': 0.008775289526325716, 'scale_pos_weight': 0.8803604940246216, 'max_leaves': 9, 'max_bin': 500, 'random_state': 42, 'eval_metric': 'mae', 'device': 'cuda'}\n"
     ]
    },
    {
     "name": "stderr",
     "output_type": "stream",
     "text": [
      "[I 2025-04-13 17:36:18,722] Trial 32 finished with value: 0.5630465357804774 and parameters: {'booster_idx': 3, 'tree_method_idx': 2, 'grow_policy_idx': 2, 'eta': 0.19321725323270877, 'gamma': 9.119309158776426, 'max_depth': 11, 'min_child_weight': 2.528978692254059, 'max_delta_step': 2.4967139836131187, 'subsample': 0.20538154507403986, 'lambda': 0.07546733111380306, 'alpha': 0.008775289526325716, 'scale_pos_weight': 0.8803604940246216, 'max_leaves': 9, 'max_bin': 500}. Best is trial 31 with value: 0.5555651717061151.\n"
     ]
    },
    {
     "name": "stdout",
     "output_type": "stream",
     "text": [
      "Trial 32 - MAE: 0.5630465357804774\n",
      "\n",
      "Trial 33 parameters: {'booster': 'dart', 'tree_method': 'hist', 'grow_policy': 'lossguide', 'eta': 0.18040188012559819, 'gamma': 9.128681633918934, 'max_depth': 12, 'min_child_weight': 2.4246756564677985, 'max_delta_step': 2.988553829321173, 'subsample': 0.20373125946892331, 'reg_lambda': 0.06177235825488812, 'alpha': 0.015690168913167, 'scale_pos_weight': 0.8641178295564298, 'max_leaves': 9, 'max_bin': 500, 'random_state': 42, 'eval_metric': 'mae', 'device': 'cuda'}\n"
     ]
    },
    {
     "name": "stderr",
     "output_type": "stream",
     "text": [
      "[I 2025-04-13 17:36:29,415] Trial 33 finished with value: 0.5648106704136052 and parameters: {'booster_idx': 3, 'tree_method_idx': 2, 'grow_policy_idx': 2, 'eta': 0.18040188012559819, 'gamma': 9.128681633918934, 'max_depth': 12, 'min_child_weight': 2.4246756564677985, 'max_delta_step': 2.988553829321173, 'subsample': 0.20373125946892331, 'lambda': 0.06177235825488812, 'alpha': 0.015690168913167, 'scale_pos_weight': 0.8641178295564298, 'max_leaves': 9, 'max_bin': 500}. Best is trial 31 with value: 0.5555651717061151.\n"
     ]
    },
    {
     "name": "stdout",
     "output_type": "stream",
     "text": [
      "Trial 33 - MAE: 0.5648106704136052\n",
      "\n",
      "Trial 34 parameters: {'booster': 'dart', 'tree_method': 'hist', 'grow_policy': 'lossguide', 'eta': 0.21038796922709652, 'gamma': 8.920024185318235, 'max_depth': 9, 'min_child_weight': 3.5521720936259715, 'max_delta_step': 2.5976459455507834, 'subsample': 0.2054423199725387, 'reg_lambda': 0.0179079271955279, 'alpha': 0.004560648239796072, 'scale_pos_weight': 0.7996437683321578, 'max_leaves': 10, 'max_bin': 425, 'random_state': 42, 'eval_metric': 'mae', 'device': 'cuda'}\n"
     ]
    },
    {
     "name": "stderr",
     "output_type": "stream",
     "text": [
      "[I 2025-04-13 17:36:39,798] Trial 34 finished with value: 0.5583904512988324 and parameters: {'booster_idx': 3, 'tree_method_idx': 2, 'grow_policy_idx': 2, 'eta': 0.21038796922709652, 'gamma': 8.920024185318235, 'max_depth': 9, 'min_child_weight': 3.5521720936259715, 'max_delta_step': 2.5976459455507834, 'subsample': 0.2054423199725387, 'lambda': 0.0179079271955279, 'alpha': 0.004560648239796072, 'scale_pos_weight': 0.7996437683321578, 'max_leaves': 10, 'max_bin': 425}. Best is trial 31 with value: 0.5555651717061151.\n"
     ]
    },
    {
     "name": "stdout",
     "output_type": "stream",
     "text": [
      "Trial 34 - MAE: 0.5583904512988324\n",
      "\n",
      "Trial 35 parameters: {'booster': 'dart', 'tree_method': 'hist', 'grow_policy': 'lossguide', 'eta': 0.4801396368451121, 'gamma': 7.849272203327718, 'max_depth': 9, 'min_child_weight': 3.6280555106601216, 'max_delta_step': 3.3747606915980244, 'subsample': 0.2708733882849284, 'reg_lambda': 0.006524327529212628, 'alpha': 0.11310514252691665, 'scale_pos_weight': 0.6506202352266641, 'max_leaves': 10, 'max_bin': 425, 'random_state': 42, 'eval_metric': 'mae', 'device': 'cuda'}\n"
     ]
    },
    {
     "name": "stderr",
     "output_type": "stream",
     "text": [
      "[I 2025-04-13 17:36:50,195] Trial 35 finished with value: 0.557409178873161 and parameters: {'booster_idx': 3, 'tree_method_idx': 2, 'grow_policy_idx': 2, 'eta': 0.4801396368451121, 'gamma': 7.849272203327718, 'max_depth': 9, 'min_child_weight': 3.6280555106601216, 'max_delta_step': 3.3747606915980244, 'subsample': 0.2708733882849284, 'lambda': 0.006524327529212628, 'alpha': 0.11310514252691665, 'scale_pos_weight': 0.6506202352266641, 'max_leaves': 10, 'max_bin': 425}. Best is trial 31 with value: 0.5555651717061151.\n"
     ]
    },
    {
     "name": "stdout",
     "output_type": "stream",
     "text": [
      "Trial 35 - MAE: 0.557409178873161\n",
      "\n",
      "Trial 36 parameters: {'booster': 'gblinear', 'tree_method': 'hist', 'grow_policy': 'lossguide', 'eta': 0.0016426183833396898, 'gamma': 7.690138099176684, 'max_depth': 9, 'min_child_weight': 3.618128491619903, 'max_delta_step': 3.41624980682957, 'subsample': 0.27574364140824414, 'reg_lambda': 0.006153937941625648, 'alpha': 0.14409845733608717, 'scale_pos_weight': 0.6544279137015798, 'max_leaves': 10, 'max_bin': 425, 'random_state': 42, 'eval_metric': 'mae', 'device': 'cuda'}\n"
     ]
    },
    {
     "name": "stderr",
     "output_type": "stream",
     "text": [
      "[I 2025-04-13 17:37:04,316] Trial 36 finished with value: 1.192568258878607 and parameters: {'booster_idx': 2, 'tree_method_idx': 2, 'grow_policy_idx': 2, 'eta': 0.0016426183833396898, 'gamma': 7.690138099176684, 'max_depth': 9, 'min_child_weight': 3.618128491619903, 'max_delta_step': 3.41624980682957, 'subsample': 0.27574364140824414, 'lambda': 0.006153937941625648, 'alpha': 0.14409845733608717, 'scale_pos_weight': 0.6544279137015798, 'max_leaves': 10, 'max_bin': 425}. Best is trial 31 with value: 0.5555651717061151.\n"
     ]
    },
    {
     "name": "stdout",
     "output_type": "stream",
     "text": [
      "Trial 36 - MAE: 1.192568258878607\n",
      "\n",
      "Trial 37 parameters: {'booster': 'gblinear', 'tree_method': 'auto', 'grow_policy': 'lossguide', 'eta': 0.4834923661615938, 'gamma': 6.556971785277454, 'max_depth': 9, 'min_child_weight': 4.321929415952583, 'max_delta_step': 2.3221440912981324, 'subsample': 0.33847210499460634, 'reg_lambda': 0.004007558807889425, 'alpha': 0.703853127513752, 'scale_pos_weight': 0.9867852513898219, 'max_leaves': 8, 'max_bin': 425, 'random_state': 42, 'eval_metric': 'mae', 'device': 'cuda'}\n"
     ]
    },
    {
     "name": "stderr",
     "output_type": "stream",
     "text": [
      "[I 2025-04-13 17:37:17,547] Trial 37 finished with value: 1.2388367103016606 and parameters: {'booster_idx': 2, 'tree_method_idx': 1, 'grow_policy_idx': 2, 'eta': 0.4834923661615938, 'gamma': 6.556971785277454, 'max_depth': 9, 'min_child_weight': 4.321929415952583, 'max_delta_step': 2.3221440912981324, 'subsample': 0.33847210499460634, 'lambda': 0.004007558807889425, 'alpha': 0.703853127513752, 'scale_pos_weight': 0.9867852513898219, 'max_leaves': 8, 'max_bin': 425}. Best is trial 31 with value: 0.5555651717061151.\n"
     ]
    },
    {
     "name": "stdout",
     "output_type": "stream",
     "text": [
      "Trial 37 - MAE: 1.2388367103016606\n",
      "\n",
      "Trial 38 parameters: {'booster': 'dart', 'tree_method': 'hist', 'grow_policy': 'lossguide', 'eta': 0.12839760661636843, 'gamma': 8.719457037129636, 'max_depth': 8, 'min_child_weight': 3.7261750474666204, 'max_delta_step': 3.2515709735131693, 'subsample': 0.29605669701310827, 'reg_lambda': 0.011164799889512184, 'alpha': 0.06906013779489475, 'scale_pos_weight': 4.133191990905218, 'max_leaves': 9, 'max_bin': 325, 'random_state': 42, 'eval_metric': 'mae', 'device': 'cuda'}\n"
     ]
    },
    {
     "name": "stderr",
     "output_type": "stream",
     "text": [
      "[I 2025-04-13 17:37:27,615] Trial 38 finished with value: 0.6061601864384208 and parameters: {'booster_idx': 3, 'tree_method_idx': 2, 'grow_policy_idx': 2, 'eta': 0.12839760661636843, 'gamma': 8.719457037129636, 'max_depth': 8, 'min_child_weight': 3.7261750474666204, 'max_delta_step': 3.2515709735131693, 'subsample': 0.29605669701310827, 'lambda': 0.011164799889512184, 'alpha': 0.06906013779489475, 'scale_pos_weight': 4.133191990905218, 'max_leaves': 9, 'max_bin': 325}. Best is trial 31 with value: 0.5555651717061151.\n"
     ]
    },
    {
     "name": "stdout",
     "output_type": "stream",
     "text": [
      "Trial 38 - MAE: 0.6061601864384208\n",
      "\n",
      "Trial 39 parameters: {'booster': 'gblinear', 'tree_method': 'hist', 'grow_policy': 'depthwise', 'eta': 0.056912846207751375, 'gamma': 7.638521513104648, 'max_depth': 10, 'min_child_weight': 3.067944950230093, 'max_delta_step': 2.735006220385767, 'subsample': 0.252523862737148, 'reg_lambda': 0.016519975416170892, 'alpha': 0.3883859888050196, 'scale_pos_weight': 1.7209683062755394, 'max_leaves': 10, 'max_bin': 400, 'random_state': 42, 'eval_metric': 'mae', 'device': 'cuda'}\n"
     ]
    },
    {
     "name": "stderr",
     "output_type": "stream",
     "text": [
      "[I 2025-04-13 17:37:41,076] Trial 39 finished with value: 1.268978264550125 and parameters: {'booster_idx': 2, 'tree_method_idx': 2, 'grow_policy_idx': 1, 'eta': 0.056912846207751375, 'gamma': 7.638521513104648, 'max_depth': 10, 'min_child_weight': 3.067944950230093, 'max_delta_step': 2.735006220385767, 'subsample': 0.252523862737148, 'lambda': 0.016519975416170892, 'alpha': 0.3883859888050196, 'scale_pos_weight': 1.7209683062755394, 'max_leaves': 10, 'max_bin': 400}. Best is trial 31 with value: 0.5555651717061151.\n"
     ]
    },
    {
     "name": "stdout",
     "output_type": "stream",
     "text": [
      "Trial 39 - MAE: 1.268978264550125\n",
      "\n",
      "Trial 40 parameters: {'booster': 'dart', 'tree_method': 'auto', 'grow_policy': 'lossguide', 'eta': 0.2312360468337834, 'gamma': 8.845936859570683, 'max_depth': 9, 'min_child_weight': 4.355462575346778, 'max_delta_step': 2.8831472748765026, 'subsample': 0.6166901983418396, 'reg_lambda': 0.003485213699766903, 'alpha': 0.12170868299118642, 'scale_pos_weight': 3.5052679132446896, 'max_leaves': 8, 'max_bin': 450, 'random_state': 42, 'eval_metric': 'mae', 'device': 'cuda'}\n"
     ]
    },
    {
     "name": "stderr",
     "output_type": "stream",
     "text": [
      "[I 2025-04-13 17:37:51,185] Trial 40 finished with value: 0.5901780717162086 and parameters: {'booster_idx': 3, 'tree_method_idx': 1, 'grow_policy_idx': 2, 'eta': 0.2312360468337834, 'gamma': 8.845936859570683, 'max_depth': 9, 'min_child_weight': 4.355462575346778, 'max_delta_step': 2.8831472748765026, 'subsample': 0.6166901983418396, 'lambda': 0.003485213699766903, 'alpha': 0.12170868299118642, 'scale_pos_weight': 3.5052679132446896, 'max_leaves': 8, 'max_bin': 450}. Best is trial 31 with value: 0.5555651717061151.\n"
     ]
    },
    {
     "name": "stdout",
     "output_type": "stream",
     "text": [
      "Trial 40 - MAE: 0.5901780717162086\n",
      "\n",
      "Trial 41 parameters: {'booster': 'dart', 'tree_method': 'hist', 'grow_policy': 'lossguide', 'eta': 0.5168917893700847, 'gamma': 7.926802120399228, 'max_depth': 8, 'min_child_weight': 3.4908792429593225, 'max_delta_step': 3.541292103474987, 'subsample': 0.21064175204149685, 'reg_lambda': 0.02983172935811021, 'alpha': 0.0036955246260930398, 'scale_pos_weight': 0.6907659078408259, 'max_leaves': 10, 'max_bin': 475, 'random_state': 42, 'eval_metric': 'mae', 'device': 'cuda'}\n"
     ]
    },
    {
     "name": "stderr",
     "output_type": "stream",
     "text": [
      "[I 2025-04-13 17:38:01,685] Trial 41 finished with value: 0.55597168016736 and parameters: {'booster_idx': 3, 'tree_method_idx': 2, 'grow_policy_idx': 2, 'eta': 0.5168917893700847, 'gamma': 7.926802120399228, 'max_depth': 8, 'min_child_weight': 3.4908792429593225, 'max_delta_step': 3.541292103474987, 'subsample': 0.21064175204149685, 'lambda': 0.02983172935811021, 'alpha': 0.0036955246260930398, 'scale_pos_weight': 0.6907659078408259, 'max_leaves': 10, 'max_bin': 475}. Best is trial 31 with value: 0.5555651717061151.\n"
     ]
    },
    {
     "name": "stdout",
     "output_type": "stream",
     "text": [
      "Trial 41 - MAE: 0.55597168016736\n",
      "\n",
      "Trial 42 parameters: {'booster': 'dart', 'tree_method': 'hist', 'grow_policy': 'lossguide', 'eta': 0.5093217501803059, 'gamma': 7.803431551315232, 'max_depth': 8, 'min_child_weight': 3.601196888702367, 'max_delta_step': 3.678495258959278, 'subsample': 0.2672442967318309, 'reg_lambda': 0.03171285509969452, 'alpha': 0.0017024361324676214, 'scale_pos_weight': 0.688398052798091, 'max_leaves': 10, 'max_bin': 450, 'random_state': 42, 'eval_metric': 'mae', 'device': 'cuda'}\n"
     ]
    },
    {
     "name": "stderr",
     "output_type": "stream",
     "text": [
      "[I 2025-04-13 17:38:12,249] Trial 42 finished with value: 0.5563031998890223 and parameters: {'booster_idx': 3, 'tree_method_idx': 2, 'grow_policy_idx': 2, 'eta': 0.5093217501803059, 'gamma': 7.803431551315232, 'max_depth': 8, 'min_child_weight': 3.601196888702367, 'max_delta_step': 3.678495258959278, 'subsample': 0.2672442967318309, 'lambda': 0.03171285509969452, 'alpha': 0.0017024361324676214, 'scale_pos_weight': 0.688398052798091, 'max_leaves': 10, 'max_bin': 450}. Best is trial 31 with value: 0.5555651717061151.\n"
     ]
    },
    {
     "name": "stdout",
     "output_type": "stream",
     "text": [
      "Trial 42 - MAE: 0.5563031998890223\n",
      "\n",
      "Trial 43 parameters: {'booster': 'dart', 'tree_method': 'hist', 'grow_policy': 'lossguide', 'eta': 0.48088575870787803, 'gamma': 6.696528395341616, 'max_depth': 8, 'min_child_weight': 3.7585275190818135, 'max_delta_step': 3.6511388307208503, 'subsample': 0.2703178389563614, 'reg_lambda': 0.0304761611847522, 'alpha': 0.001690969146069203, 'scale_pos_weight': 0.6340290323501998, 'max_leaves': 9, 'max_bin': 450, 'random_state': 42, 'eval_metric': 'mae', 'device': 'cuda'}\n"
     ]
    },
    {
     "name": "stderr",
     "output_type": "stream",
     "text": [
      "[I 2025-04-13 17:38:23,102] Trial 43 finished with value: 0.5593464985432529 and parameters: {'booster_idx': 3, 'tree_method_idx': 2, 'grow_policy_idx': 2, 'eta': 0.48088575870787803, 'gamma': 6.696528395341616, 'max_depth': 8, 'min_child_weight': 3.7585275190818135, 'max_delta_step': 3.6511388307208503, 'subsample': 0.2703178389563614, 'lambda': 0.0304761611847522, 'alpha': 0.001690969146069203, 'scale_pos_weight': 0.6340290323501998, 'max_leaves': 9, 'max_bin': 450}. Best is trial 31 with value: 0.5555651717061151.\n"
     ]
    },
    {
     "name": "stdout",
     "output_type": "stream",
     "text": [
      "Trial 43 - MAE: 0.5593464985432529\n",
      "\n",
      "Trial 44 parameters: {'booster': 'dart', 'tree_method': 'hist', 'grow_policy': 'lossguide', 'eta': 0.5561397050536767, 'gamma': 8.003468639439552, 'max_depth': 8, 'min_child_weight': 3.0100307250184493, 'max_delta_step': 3.7901965565974773, 'subsample': 0.35485349563833096, 'reg_lambda': 0.007318533439510573, 'alpha': 1.1270266080002238, 'scale_pos_weight': 1.035587199558171, 'max_leaves': 10, 'max_bin': 475, 'random_state': 42, 'eval_metric': 'mae', 'device': 'cuda'}\n"
     ]
    },
    {
     "name": "stderr",
     "output_type": "stream",
     "text": [
      "[I 2025-04-13 17:38:33,921] Trial 44 finished with value: 0.5573553041866297 and parameters: {'booster_idx': 3, 'tree_method_idx': 2, 'grow_policy_idx': 2, 'eta': 0.5561397050536767, 'gamma': 8.003468639439552, 'max_depth': 8, 'min_child_weight': 3.0100307250184493, 'max_delta_step': 3.7901965565974773, 'subsample': 0.35485349563833096, 'lambda': 0.007318533439510573, 'alpha': 1.1270266080002238, 'scale_pos_weight': 1.035587199558171, 'max_leaves': 10, 'max_bin': 475}. Best is trial 31 with value: 0.5555651717061151.\n"
     ]
    },
    {
     "name": "stdout",
     "output_type": "stream",
     "text": [
      "Trial 44 - MAE: 0.5573553041866297\n",
      "\n",
      "Trial 45 parameters: {'booster': 'dart', 'tree_method': 'hist', 'grow_policy': 'depthwise', 'eta': 0.6000025487119575, 'gamma': 6.947883446602015, 'max_depth': 8, 'min_child_weight': 3.10943190455439, 'max_delta_step': 3.8964808738833785, 'subsample': 0.3361474424900363, 'reg_lambda': 0.03135049403966535, 'alpha': 5.563744796081672, 'scale_pos_weight': 1.0052360207835642, 'max_leaves': 9, 'max_bin': 475, 'random_state': 42, 'eval_metric': 'mae', 'device': 'cuda'}\n"
     ]
    },
    {
     "name": "stderr",
     "output_type": "stream",
     "text": [
      "[I 2025-04-13 17:38:44,085] Trial 45 finished with value: 0.5749561723508384 and parameters: {'booster_idx': 3, 'tree_method_idx': 2, 'grow_policy_idx': 1, 'eta': 0.6000025487119575, 'gamma': 6.947883446602015, 'max_depth': 8, 'min_child_weight': 3.10943190455439, 'max_delta_step': 3.8964808738833785, 'subsample': 0.3361474424900363, 'lambda': 0.03135049403966535, 'alpha': 5.563744796081672, 'scale_pos_weight': 1.0052360207835642, 'max_leaves': 9, 'max_bin': 475}. Best is trial 31 with value: 0.5555651717061151.\n"
     ]
    },
    {
     "name": "stdout",
     "output_type": "stream",
     "text": [
      "Trial 45 - MAE: 0.5749561723508384\n",
      "\n",
      "Trial 46 parameters: {'booster': 'dart', 'tree_method': 'hist', 'grow_policy': 'lossguide', 'eta': 0.6616166133337631, 'gamma': 8.174251503351105, 'max_depth': 7, 'min_child_weight': 2.9360950456505646, 'max_delta_step': 4.479916350771376, 'subsample': 0.24589072065951514, 'reg_lambda': 0.0025508704220877556, 'alpha': 1.613041614920373, 'scale_pos_weight': 1.0738728088646197, 'max_leaves': 10, 'max_bin': 475, 'random_state': 42, 'eval_metric': 'mae', 'device': 'cuda'}\n"
     ]
    },
    {
     "name": "stderr",
     "output_type": "stream",
     "text": [
      "[I 2025-04-13 17:38:54,656] Trial 46 finished with value: 0.5641093769706725 and parameters: {'booster_idx': 3, 'tree_method_idx': 2, 'grow_policy_idx': 2, 'eta': 0.6616166133337631, 'gamma': 8.174251503351105, 'max_depth': 7, 'min_child_weight': 2.9360950456505646, 'max_delta_step': 4.479916350771376, 'subsample': 0.24589072065951514, 'lambda': 0.0025508704220877556, 'alpha': 1.613041614920373, 'scale_pos_weight': 1.0738728088646197, 'max_leaves': 10, 'max_bin': 475}. Best is trial 31 with value: 0.5555651717061151.\n"
     ]
    },
    {
     "name": "stdout",
     "output_type": "stream",
     "text": [
      "Trial 46 - MAE: 0.5641093769706725\n",
      "\n",
      "Trial 47 parameters: {'booster': 'dart', 'tree_method': 'hist', 'grow_policy': 'lossguide', 'eta': 0.15555962938289822, 'gamma': 7.261015967481775, 'max_depth': 12, 'min_child_weight': 2.5333393487708515, 'max_delta_step': 3.1605755076554756, 'subsample': 0.3812378629932963, 'reg_lambda': 0.00878101955622705, 'alpha': 3.1100570530547915, 'scale_pos_weight': 1.7451536759609714, 'max_leaves': 9, 'max_bin': 500, 'random_state': 42, 'eval_metric': 'mae', 'device': 'cuda'}\n"
     ]
    },
    {
     "name": "stderr",
     "output_type": "stream",
     "text": [
      "[I 2025-04-13 17:39:05,195] Trial 47 finished with value: 0.5729028190500409 and parameters: {'booster_idx': 3, 'tree_method_idx': 2, 'grow_policy_idx': 2, 'eta': 0.15555962938289822, 'gamma': 7.261015967481775, 'max_depth': 12, 'min_child_weight': 2.5333393487708515, 'max_delta_step': 3.1605755076554756, 'subsample': 0.3812378629932963, 'lambda': 0.00878101955622705, 'alpha': 3.1100570530547915, 'scale_pos_weight': 1.7451536759609714, 'max_leaves': 9, 'max_bin': 500}. Best is trial 31 with value: 0.5555651717061151.\n"
     ]
    },
    {
     "name": "stdout",
     "output_type": "stream",
     "text": [
      "Trial 47 - MAE: 0.5729028190500409\n",
      "\n",
      "Trial 48 parameters: {'booster': 'dart', 'tree_method': 'auto', 'grow_policy': 'lossguide', 'eta': 0.3643361749893445, 'gamma': 4.476074881424697, 'max_depth': 10, 'min_child_weight': 4.183481721963621, 'max_delta_step': 2.1654055787278876, 'subsample': 0.3201911621578763, 'reg_lambda': 0.04307741724394544, 'alpha': 0.001669182136395539, 'scale_pos_weight': 0.7783109317063281, 'max_leaves': 10, 'max_bin': 125, 'random_state': 42, 'eval_metric': 'mae', 'device': 'cuda'}\n"
     ]
    },
    {
     "name": "stderr",
     "output_type": "stream",
     "text": [
      "[I 2025-04-13 17:39:14,659] Trial 48 finished with value: 0.5510180655574383 and parameters: {'booster_idx': 3, 'tree_method_idx': 1, 'grow_policy_idx': 2, 'eta': 0.3643361749893445, 'gamma': 4.476074881424697, 'max_depth': 10, 'min_child_weight': 4.183481721963621, 'max_delta_step': 2.1654055787278876, 'subsample': 0.3201911621578763, 'lambda': 0.04307741724394544, 'alpha': 0.001669182136395539, 'scale_pos_weight': 0.7783109317063281, 'max_leaves': 10, 'max_bin': 125}. Best is trial 48 with value: 0.5510180655574383.\n"
     ]
    },
    {
     "name": "stdout",
     "output_type": "stream",
     "text": [
      "Trial 48 - MAE: 0.5510180655574383\n",
      "\n",
      "Trial 49 parameters: {'booster': 'gblinear', 'tree_method': 'auto', 'grow_policy': 'depthwise', 'eta': 0.36185446482049666, 'gamma': 4.116187809329235, 'max_depth': 10, 'min_child_weight': 3.906707802360432, 'max_delta_step': 2.1991353670695855, 'subsample': 0.3145359085263105, 'reg_lambda': 0.04469610192485205, 'alpha': 0.001588843963096302, 'scale_pos_weight': 4.992366051482232, 'max_leaves': 3, 'max_bin': 250, 'random_state': 42, 'eval_metric': 'mae', 'device': 'cuda'}\n"
     ]
    },
    {
     "name": "stderr",
     "output_type": "stream",
     "text": [
      "[I 2025-04-13 17:39:32,554] Trial 49 finished with value: 0.8295924595353401 and parameters: {'booster_idx': 2, 'tree_method_idx': 1, 'grow_policy_idx': 1, 'eta': 0.36185446482049666, 'gamma': 4.116187809329235, 'max_depth': 10, 'min_child_weight': 3.906707802360432, 'max_delta_step': 2.1991353670695855, 'subsample': 0.3145359085263105, 'lambda': 0.04469610192485205, 'alpha': 0.001588843963096302, 'scale_pos_weight': 4.992366051482232, 'max_leaves': 3, 'max_bin': 250}. Best is trial 48 with value: 0.5510180655574383.\n"
     ]
    },
    {
     "name": "stdout",
     "output_type": "stream",
     "text": [
      "Trial 49 - MAE: 0.8295924595353401\n",
      "\n",
      "Trial 50 parameters: {'booster': 'dart', 'tree_method': 'auto', 'grow_policy': 'lossguide', 'eta': 0.005270871005189134, 'gamma': 4.637268744374419, 'max_depth': 11, 'min_child_weight': 4.148004408044949, 'max_delta_step': 2.1711956028334822, 'subsample': 0.23242901639593103, 'reg_lambda': 0.022917313787343085, 'alpha': 0.0016713287503679947, 'scale_pos_weight': 0.657982968043009, 'max_leaves': 10, 'max_bin': 125, 'random_state': 42, 'eval_metric': 'mae', 'device': 'cuda'}\n"
     ]
    },
    {
     "name": "stderr",
     "output_type": "stream",
     "text": [
      "[I 2025-04-13 17:39:41,829] Trial 50 finished with value: 1.006725570177359 and parameters: {'booster_idx': 3, 'tree_method_idx': 1, 'grow_policy_idx': 2, 'eta': 0.005270871005189134, 'gamma': 4.637268744374419, 'max_depth': 11, 'min_child_weight': 4.148004408044949, 'max_delta_step': 2.1711956028334822, 'subsample': 0.23242901639593103, 'lambda': 0.022917313787343085, 'alpha': 0.0016713287503679947, 'scale_pos_weight': 0.657982968043009, 'max_leaves': 10, 'max_bin': 125}. Best is trial 48 with value: 0.5510180655574383.\n"
     ]
    },
    {
     "name": "stdout",
     "output_type": "stream",
     "text": [
      "Trial 50 - MAE: 1.006725570177359\n",
      "\n",
      "Trial 51 parameters: {'booster': 'dart', 'tree_method': 'auto', 'grow_policy': 'lossguide', 'eta': 0.5442082508038459, 'gamma': 8.440466321919486, 'max_depth': 8, 'min_child_weight': 4.961367927608407, 'max_delta_step': 1.7094926394982464, 'subsample': 0.3604087546500052, 'reg_lambda': 0.014663620444465626, 'alpha': 0.001038457356002509, 'scale_pos_weight': 0.8408167041784678, 'max_leaves': 10, 'max_bin': 250, 'random_state': 42, 'eval_metric': 'mae', 'device': 'cuda'}\n"
     ]
    },
    {
     "name": "stderr",
     "output_type": "stream",
     "text": [
      "[I 2025-04-13 17:39:51,810] Trial 51 finished with value: 0.5548995843682596 and parameters: {'booster_idx': 3, 'tree_method_idx': 1, 'grow_policy_idx': 2, 'eta': 0.5442082508038459, 'gamma': 8.440466321919486, 'max_depth': 8, 'min_child_weight': 4.961367927608407, 'max_delta_step': 1.7094926394982464, 'subsample': 0.3604087546500052, 'lambda': 0.014663620444465626, 'alpha': 0.001038457356002509, 'scale_pos_weight': 0.8408167041784678, 'max_leaves': 10, 'max_bin': 250}. Best is trial 48 with value: 0.5510180655574383.\n"
     ]
    },
    {
     "name": "stdout",
     "output_type": "stream",
     "text": [
      "Trial 51 - MAE: 0.5548995843682596\n",
      "\n",
      "Trial 52 parameters: {'booster': 'dart', 'tree_method': 'auto', 'grow_policy': 'lossguide', 'eta': 0.26471383121773456, 'gamma': 9.420162194489789, 'max_depth': 10, 'min_child_weight': 4.704338099041351, 'max_delta_step': 1.6447057328524142, 'subsample': 0.23792676079121286, 'reg_lambda': 0.014398794017465357, 'alpha': 0.0034571657598207483, 'scale_pos_weight': 0.7875904589893293, 'max_leaves': 9, 'max_bin': 225, 'random_state': 42, 'eval_metric': 'mae', 'device': 'cuda'}\n"
     ]
    },
    {
     "name": "stderr",
     "output_type": "stream",
     "text": [
      "[I 2025-04-13 17:40:01,545] Trial 52 finished with value: 0.556263017073497 and parameters: {'booster_idx': 3, 'tree_method_idx': 1, 'grow_policy_idx': 2, 'eta': 0.26471383121773456, 'gamma': 9.420162194489789, 'max_depth': 10, 'min_child_weight': 4.704338099041351, 'max_delta_step': 1.6447057328524142, 'subsample': 0.23792676079121286, 'lambda': 0.014398794017465357, 'alpha': 0.0034571657598207483, 'scale_pos_weight': 0.7875904589893293, 'max_leaves': 9, 'max_bin': 225}. Best is trial 48 with value: 0.5510180655574383.\n"
     ]
    },
    {
     "name": "stdout",
     "output_type": "stream",
     "text": [
      "Trial 52 - MAE: 0.556263017073497\n",
      "\n",
      "Trial 53 parameters: {'booster': 'dart', 'tree_method': 'auto', 'grow_policy': 'lossguide', 'eta': 0.23640189315562457, 'gamma': 9.51964314871774, 'max_depth': 10, 'min_child_weight': 4.973845883711965, 'max_delta_step': 1.701072487503233, 'subsample': 0.24166443911977822, 'reg_lambda': 0.012030196042849191, 'alpha': 0.0010290354376837937, 'scale_pos_weight': 0.7462809816666796, 'max_leaves': 10, 'max_bin': 225, 'random_state': 42, 'eval_metric': 'mae', 'device': 'cuda'}\n"
     ]
    },
    {
     "name": "stderr",
     "output_type": "stream",
     "text": [
      "[I 2025-04-13 17:40:11,290] Trial 53 finished with value: 0.5570131986232664 and parameters: {'booster_idx': 3, 'tree_method_idx': 1, 'grow_policy_idx': 2, 'eta': 0.23640189315562457, 'gamma': 9.51964314871774, 'max_depth': 10, 'min_child_weight': 4.973845883711965, 'max_delta_step': 1.701072487503233, 'subsample': 0.24166443911977822, 'lambda': 0.012030196042849191, 'alpha': 0.0010290354376837937, 'scale_pos_weight': 0.7462809816666796, 'max_leaves': 10, 'max_bin': 225}. Best is trial 48 with value: 0.5510180655574383.\n"
     ]
    },
    {
     "name": "stdout",
     "output_type": "stream",
     "text": [
      "Trial 53 - MAE: 0.5570131986232664\n",
      "\n",
      "Trial 54 parameters: {'booster': 'dart', 'tree_method': 'auto', 'grow_policy': 'lossguide', 'eta': 0.34199728731083445, 'gamma': 8.609980447057112, 'max_depth': 8, 'min_child_weight': 4.64440434045486, 'max_delta_step': 1.7406353011802778, 'subsample': 0.8104985726639402, 'reg_lambda': 0.025470943772302107, 'alpha': 0.0032648555325622518, 'scale_pos_weight': 0.5154574608307797, 'max_leaves': 9, 'max_bin': 175, 'random_state': 42, 'eval_metric': 'mae', 'device': 'cuda'}\n"
     ]
    },
    {
     "name": "stderr",
     "output_type": "stream",
     "text": [
      "[I 2025-04-13 17:40:20,839] Trial 54 finished with value: 0.5627650692714239 and parameters: {'booster_idx': 3, 'tree_method_idx': 1, 'grow_policy_idx': 2, 'eta': 0.34199728731083445, 'gamma': 8.609980447057112, 'max_depth': 8, 'min_child_weight': 4.64440434045486, 'max_delta_step': 1.7406353011802778, 'subsample': 0.8104985726639402, 'lambda': 0.025470943772302107, 'alpha': 0.0032648555325622518, 'scale_pos_weight': 0.5154574608307797, 'max_leaves': 9, 'max_bin': 175}. Best is trial 48 with value: 0.5510180655574383.\n"
     ]
    },
    {
     "name": "stdout",
     "output_type": "stream",
     "text": [
      "Trial 54 - MAE: 0.5627650692714239\n",
      "\n",
      "Trial 55 parameters: {'booster': 'dart', 'tree_method': 'auto', 'grow_policy': 'lossguide', 'eta': 0.27050901336697686, 'gamma': 9.506802694340932, 'max_depth': 7, 'min_child_weight': 4.658609335082872, 'max_delta_step': 1.1052177755633807, 'subsample': 0.6519752509060416, 'reg_lambda': 0.013087010290760197, 'alpha': 0.0020100258761619923, 'scale_pos_weight': 1.4222479581479752, 'max_leaves': 8, 'max_bin': 125, 'random_state': 42, 'eval_metric': 'mae', 'device': 'cuda'}\n"
     ]
    },
    {
     "name": "stderr",
     "output_type": "stream",
     "text": [
      "[I 2025-04-13 17:40:30,036] Trial 55 finished with value: 0.5636268171087528 and parameters: {'booster_idx': 3, 'tree_method_idx': 1, 'grow_policy_idx': 2, 'eta': 0.27050901336697686, 'gamma': 9.506802694340932, 'max_depth': 7, 'min_child_weight': 4.658609335082872, 'max_delta_step': 1.1052177755633807, 'subsample': 0.6519752509060416, 'lambda': 0.013087010290760197, 'alpha': 0.0020100258761619923, 'scale_pos_weight': 1.4222479581479752, 'max_leaves': 8, 'max_bin': 125}. Best is trial 48 with value: 0.5510180655574383.\n"
     ]
    },
    {
     "name": "stdout",
     "output_type": "stream",
     "text": [
      "Trial 55 - MAE: 0.5636268171087528\n",
      "\n",
      "Trial 56 parameters: {'booster': 'dart', 'tree_method': 'auto', 'grow_policy': 'lossguide', 'eta': 0.6924243964328697, 'gamma': 4.486871362081016, 'max_depth': 8, 'min_child_weight': 4.527402459941097, 'max_delta_step': 1.5830201763340317, 'subsample': 0.277503134918252, 'reg_lambda': 0.04766001641759504, 'alpha': 0.003786779415356959, 'scale_pos_weight': 0.8198562759489987, 'max_leaves': 10, 'max_bin': 275, 'random_state': 42, 'eval_metric': 'mae', 'device': 'cuda'}\n"
     ]
    },
    {
     "name": "stderr",
     "output_type": "stream",
     "text": [
      "[I 2025-04-13 17:40:40,339] Trial 56 finished with value: 0.5632152516087706 and parameters: {'booster_idx': 3, 'tree_method_idx': 1, 'grow_policy_idx': 2, 'eta': 0.6924243964328697, 'gamma': 4.486871362081016, 'max_depth': 8, 'min_child_weight': 4.527402459941097, 'max_delta_step': 1.5830201763340317, 'subsample': 0.277503134918252, 'lambda': 0.04766001641759504, 'alpha': 0.003786779415356959, 'scale_pos_weight': 0.8198562759489987, 'max_leaves': 10, 'max_bin': 275}. Best is trial 48 with value: 0.5510180655574383.\n"
     ]
    },
    {
     "name": "stdout",
     "output_type": "stream",
     "text": [
      "Trial 56 - MAE: 0.5632152516087706\n",
      "\n",
      "Trial 57 parameters: {'booster': 'dart', 'tree_method': 'auto', 'grow_policy': 'lossguide', 'eta': 0.009507387276326612, 'gamma': 5.332456530859478, 'max_depth': 9, 'min_child_weight': 4.957728338496876, 'max_delta_step': 2.1329729615725013, 'subsample': 0.9336114115845939, 'reg_lambda': 0.03660813266739519, 'alpha': 0.0014427146476405027, 'scale_pos_weight': 1.2082694347363059, 'max_leaves': 2, 'max_bin': 200, 'random_state': 42, 'eval_metric': 'mae', 'device': 'cuda'}\n"
     ]
    },
    {
     "name": "stderr",
     "output_type": "stream",
     "text": [
      "[I 2025-04-13 17:40:47,873] Trial 57 finished with value: 1.0924024649718367 and parameters: {'booster_idx': 3, 'tree_method_idx': 1, 'grow_policy_idx': 2, 'eta': 0.009507387276326612, 'gamma': 5.332456530859478, 'max_depth': 9, 'min_child_weight': 4.957728338496876, 'max_delta_step': 2.1329729615725013, 'subsample': 0.9336114115845939, 'lambda': 0.03660813266739519, 'alpha': 0.0014427146476405027, 'scale_pos_weight': 1.2082694347363059, 'max_leaves': 2, 'max_bin': 200}. Best is trial 48 with value: 0.5510180655574383.\n"
     ]
    },
    {
     "name": "stdout",
     "output_type": "stream",
     "text": [
      "Trial 57 - MAE: 1.0924024649718367\n",
      "\n",
      "Trial 58 parameters: {'booster': 'dart', 'tree_method': 'auto', 'grow_policy': 'lossguide', 'eta': 0.5533469870860483, 'gamma': 7.3381440397217315, 'max_depth': 10, 'min_child_weight': 4.205749431545199, 'max_delta_step': 1.4767938157231828, 'subsample': 0.4069129094895956, 'reg_lambda': 0.01611754416636387, 'alpha': 0.002428317837697066, 'scale_pos_weight': 1.0484195908234137, 'max_leaves': 10, 'max_bin': 175, 'random_state': 42, 'eval_metric': 'mae', 'device': 'cuda'}\n"
     ]
    },
    {
     "name": "stderr",
     "output_type": "stream",
     "text": [
      "[I 2025-04-13 17:40:57,945] Trial 58 finished with value: 0.5559169740548783 and parameters: {'booster_idx': 3, 'tree_method_idx': 1, 'grow_policy_idx': 2, 'eta': 0.5533469870860483, 'gamma': 7.3381440397217315, 'max_depth': 10, 'min_child_weight': 4.205749431545199, 'max_delta_step': 1.4767938157231828, 'subsample': 0.4069129094895956, 'lambda': 0.01611754416636387, 'alpha': 0.002428317837697066, 'scale_pos_weight': 1.0484195908234137, 'max_leaves': 10, 'max_bin': 175}. Best is trial 48 with value: 0.5510180655574383.\n"
     ]
    },
    {
     "name": "stdout",
     "output_type": "stream",
     "text": [
      "Trial 58 - MAE: 0.5559169740548783\n",
      "\n",
      "Trial 59 parameters: {'booster': 'dart', 'tree_method': 'auto', 'grow_policy': 'lossguide', 'eta': 0.3019284167391672, 'gamma': 9.993898691196936, 'max_depth': 10, 'min_child_weight': 4.199617919574131, 'max_delta_step': 0.7938082844974472, 'subsample': 0.4076605805370447, 'reg_lambda': 0.0010077019595628584, 'alpha': 0.010345735786434865, 'scale_pos_weight': 1.1015415246569127, 'max_leaves': 9, 'max_bin': 150, 'random_state': 42, 'eval_metric': 'mae', 'device': 'cuda'}\n"
     ]
    },
    {
     "name": "stderr",
     "output_type": "stream",
     "text": [
      "[I 2025-04-13 17:41:07,718] Trial 59 finished with value: 0.5571633828126445 and parameters: {'booster_idx': 3, 'tree_method_idx': 1, 'grow_policy_idx': 2, 'eta': 0.3019284167391672, 'gamma': 9.993898691196936, 'max_depth': 10, 'min_child_weight': 4.199617919574131, 'max_delta_step': 0.7938082844974472, 'subsample': 0.4076605805370447, 'lambda': 0.0010077019595628584, 'alpha': 0.010345735786434865, 'scale_pos_weight': 1.1015415246569127, 'max_leaves': 9, 'max_bin': 150}. Best is trial 48 with value: 0.5510180655574383.\n"
     ]
    },
    {
     "name": "stdout",
     "output_type": "stream",
     "text": [
      "Trial 59 - MAE: 0.5571633828126445\n",
      "\n",
      "Trial 60 parameters: {'booster': 'gblinear', 'tree_method': 'auto', 'grow_policy': 'lossguide', 'eta': 0.041263597182038654, 'gamma': 7.283374322693231, 'max_depth': 12, 'min_child_weight': 4.543209073534838, 'max_delta_step': 1.4910965891847712, 'subsample': 0.3659424078567025, 'reg_lambda': 0.014910646169488909, 'alpha': 0.003028035302288249, 'scale_pos_weight': 1.564443460451203, 'max_leaves': 8, 'max_bin': 175, 'random_state': 42, 'eval_metric': 'mae', 'device': 'cuda'}\n"
     ]
    },
    {
     "name": "stderr",
     "output_type": "stream",
     "text": [
      "[I 2025-04-13 17:41:24,812] Trial 60 finished with value: 0.7919355311805387 and parameters: {'booster_idx': 2, 'tree_method_idx': 1, 'grow_policy_idx': 2, 'eta': 0.041263597182038654, 'gamma': 7.283374322693231, 'max_depth': 12, 'min_child_weight': 4.543209073534838, 'max_delta_step': 1.4910965891847712, 'subsample': 0.3659424078567025, 'lambda': 0.014910646169488909, 'alpha': 0.003028035302288249, 'scale_pos_weight': 1.564443460451203, 'max_leaves': 8, 'max_bin': 175}. Best is trial 48 with value: 0.5510180655574383.\n"
     ]
    },
    {
     "name": "stdout",
     "output_type": "stream",
     "text": [
      "Trial 60 - MAE: 0.7919355311805387\n",
      "\n",
      "Trial 61 parameters: {'booster': 'dart', 'tree_method': 'auto', 'grow_policy': 'lossguide', 'eta': 0.5464024883658578, 'gamma': 8.447940602359466, 'max_depth': 9, 'min_child_weight': 4.727683035012316, 'max_delta_step': 1.24736338583581, 'subsample': 0.3192955738588218, 'reg_lambda': 0.02322876621204782, 'alpha': 0.0022174896757078204, 'scale_pos_weight': 0.7539232269033176, 'max_leaves': 10, 'max_bin': 225, 'random_state': 42, 'eval_metric': 'mae', 'device': 'cuda'}\n"
     ]
    },
    {
     "name": "stderr",
     "output_type": "stream",
     "text": [
      "[I 2025-04-13 17:41:35,017] Trial 61 finished with value: 0.5553126433388357 and parameters: {'booster_idx': 3, 'tree_method_idx': 1, 'grow_policy_idx': 2, 'eta': 0.5464024883658578, 'gamma': 8.447940602359466, 'max_depth': 9, 'min_child_weight': 4.727683035012316, 'max_delta_step': 1.24736338583581, 'subsample': 0.3192955738588218, 'lambda': 0.02322876621204782, 'alpha': 0.0022174896757078204, 'scale_pos_weight': 0.7539232269033176, 'max_leaves': 10, 'max_bin': 225}. Best is trial 48 with value: 0.5510180655574383.\n"
     ]
    },
    {
     "name": "stdout",
     "output_type": "stream",
     "text": [
      "Trial 61 - MAE: 0.5553126433388357\n",
      "\n",
      "Trial 62 parameters: {'booster': 'dart', 'tree_method': 'auto', 'grow_policy': 'lossguide', 'eta': 0.40837142010075217, 'gamma': 8.523482110528638, 'max_depth': 10, 'min_child_weight': 4.84130782321084, 'max_delta_step': 1.202572020634498, 'subsample': 0.3165870688859584, 'reg_lambda': 0.009186647859312391, 'alpha': 0.002377906506320316, 'scale_pos_weight': 0.9571188849997192, 'max_leaves': 10, 'max_bin': 225, 'random_state': 42, 'eval_metric': 'mae', 'device': 'cuda'}\n"
     ]
    },
    {
     "name": "stderr",
     "output_type": "stream",
     "text": [
      "[I 2025-04-13 17:41:44,863] Trial 62 finished with value: 0.5536826768942804 and parameters: {'booster_idx': 3, 'tree_method_idx': 1, 'grow_policy_idx': 2, 'eta': 0.40837142010075217, 'gamma': 8.523482110528638, 'max_depth': 10, 'min_child_weight': 4.84130782321084, 'max_delta_step': 1.202572020634498, 'subsample': 0.3165870688859584, 'lambda': 0.009186647859312391, 'alpha': 0.002377906506320316, 'scale_pos_weight': 0.9571188849997192, 'max_leaves': 10, 'max_bin': 225}. Best is trial 48 with value: 0.5510180655574383.\n"
     ]
    },
    {
     "name": "stdout",
     "output_type": "stream",
     "text": [
      "Trial 62 - MAE: 0.5536826768942804\n",
      "\n",
      "Trial 63 parameters: {'booster': 'dart', 'tree_method': 'auto', 'grow_policy': 'lossguide', 'eta': 0.5594414867335165, 'gamma': 8.396664208157125, 'max_depth': 9, 'min_child_weight': 4.817584817452978, 'max_delta_step': 1.0220072920529104, 'subsample': 0.4148011840120907, 'reg_lambda': 0.00890892374595059, 'alpha': 0.0012897171352199577, 'scale_pos_weight': 1.244603747115831, 'max_leaves': 10, 'max_bin': 150, 'random_state': 42, 'eval_metric': 'mae', 'device': 'cuda'}\n"
     ]
    },
    {
     "name": "stderr",
     "output_type": "stream",
     "text": [
      "[I 2025-04-13 17:41:54,445] Trial 63 finished with value: 0.5561786700250505 and parameters: {'booster_idx': 3, 'tree_method_idx': 1, 'grow_policy_idx': 2, 'eta': 0.5594414867335165, 'gamma': 8.396664208157125, 'max_depth': 9, 'min_child_weight': 4.817584817452978, 'max_delta_step': 1.0220072920529104, 'subsample': 0.4148011840120907, 'lambda': 0.00890892374595059, 'alpha': 0.0012897171352199577, 'scale_pos_weight': 1.244603747115831, 'max_leaves': 10, 'max_bin': 150}. Best is trial 48 with value: 0.5510180655574383.\n"
     ]
    },
    {
     "name": "stdout",
     "output_type": "stream",
     "text": [
      "Trial 63 - MAE: 0.5561786700250505\n",
      "\n",
      "Trial 64 parameters: {'booster': 'dart', 'tree_method': 'auto', 'grow_policy': 'lossguide', 'eta': 0.3893526014858374, 'gamma': 6.498270512433199, 'max_depth': 9, 'min_child_weight': 4.48659538887973, 'max_delta_step': 1.2786089744616103, 'subsample': 0.4604869880936102, 'reg_lambda': 0.022644177803428256, 'alpha': 0.0024710245172363822, 'scale_pos_weight': 0.9744310774050358, 'max_leaves': 10, 'max_bin': 225, 'random_state': 42, 'eval_metric': 'mae', 'device': 'cuda'}\n"
     ]
    },
    {
     "name": "stderr",
     "output_type": "stream",
     "text": [
      "[I 2025-04-13 17:42:04,542] Trial 64 finished with value: 0.5524951621667535 and parameters: {'booster_idx': 3, 'tree_method_idx': 1, 'grow_policy_idx': 2, 'eta': 0.3893526014858374, 'gamma': 6.498270512433199, 'max_depth': 9, 'min_child_weight': 4.48659538887973, 'max_delta_step': 1.2786089744616103, 'subsample': 0.4604869880936102, 'lambda': 0.022644177803428256, 'alpha': 0.0024710245172363822, 'scale_pos_weight': 0.9744310774050358, 'max_leaves': 10, 'max_bin': 225}. Best is trial 48 with value: 0.5510180655574383.\n"
     ]
    },
    {
     "name": "stdout",
     "output_type": "stream",
     "text": [
      "Trial 64 - MAE: 0.5524951621667535\n",
      "\n",
      "Trial 65 parameters: {'booster': 'dart', 'tree_method': 'auto', 'grow_policy': 'lossguide', 'eta': 0.37505917678271683, 'gamma': 6.56860664508117, 'max_depth': 10, 'min_child_weight': 4.513881025130031, 'max_delta_step': 1.2482617903490785, 'subsample': 0.46535164183105127, 'reg_lambda': 0.004769614646959476, 'alpha': 0.0024735573059775796, 'scale_pos_weight': 0.9657948025746773, 'max_leaves': 10, 'max_bin': 275, 'random_state': 42, 'eval_metric': 'mae', 'device': 'cuda'}\n"
     ]
    },
    {
     "name": "stderr",
     "output_type": "stream",
     "text": [
      "[I 2025-04-13 17:42:14,800] Trial 65 finished with value: 0.5524149404656924 and parameters: {'booster_idx': 3, 'tree_method_idx': 1, 'grow_policy_idx': 2, 'eta': 0.37505917678271683, 'gamma': 6.56860664508117, 'max_depth': 10, 'min_child_weight': 4.513881025130031, 'max_delta_step': 1.2482617903490785, 'subsample': 0.46535164183105127, 'lambda': 0.004769614646959476, 'alpha': 0.0024735573059775796, 'scale_pos_weight': 0.9657948025746773, 'max_leaves': 10, 'max_bin': 275}. Best is trial 48 with value: 0.5510180655574383.\n"
     ]
    },
    {
     "name": "stdout",
     "output_type": "stream",
     "text": [
      "Trial 65 - MAE: 0.5524149404656924\n",
      "\n",
      "Trial 66 parameters: {'booster': 'dart', 'tree_method': 'auto', 'grow_policy': 'lossguide', 'eta': 0.36122981406128846, 'gamma': 6.314733660188152, 'max_depth': 11, 'min_child_weight': 4.48088091103666, 'max_delta_step': 1.1099401045279556, 'subsample': 0.48592286631890275, 'reg_lambda': 0.00471787931275645, 'alpha': 0.0022342337384497002, 'scale_pos_weight': 1.4430598405047337, 'max_leaves': 10, 'max_bin': 300, 'random_state': 42, 'eval_metric': 'mae', 'device': 'cuda'}\n"
     ]
    },
    {
     "name": "stderr",
     "output_type": "stream",
     "text": [
      "[I 2025-04-13 17:42:25,015] Trial 66 finished with value: 0.5552019250651117 and parameters: {'booster_idx': 3, 'tree_method_idx': 1, 'grow_policy_idx': 2, 'eta': 0.36122981406128846, 'gamma': 6.314733660188152, 'max_depth': 11, 'min_child_weight': 4.48088091103666, 'max_delta_step': 1.1099401045279556, 'subsample': 0.48592286631890275, 'lambda': 0.00471787931275645, 'alpha': 0.0022342337384497002, 'scale_pos_weight': 1.4430598405047337, 'max_leaves': 10, 'max_bin': 300}. Best is trial 48 with value: 0.5510180655574383.\n"
     ]
    },
    {
     "name": "stdout",
     "output_type": "stream",
     "text": [
      "Trial 66 - MAE: 0.5552019250651117\n",
      "\n",
      "Trial 67 parameters: {'booster': 'dart', 'tree_method': 'auto', 'grow_policy': 'lossguide', 'eta': 0.3669189346272069, 'gamma': 6.285565659847471, 'max_depth': 9, 'min_child_weight': 4.447720350046751, 'max_delta_step': 0.5822557818639587, 'subsample': 0.4813889833713354, 'reg_lambda': 0.0049840382246738235, 'alpha': 0.002085754543780157, 'scale_pos_weight': 1.4264836557871234, 'max_leaves': 10, 'max_bin': 300, 'random_state': 42, 'eval_metric': 'mae', 'device': 'cuda'}\n"
     ]
    },
    {
     "name": "stderr",
     "output_type": "stream",
     "text": [
      "[I 2025-04-13 17:42:35,448] Trial 67 finished with value: 0.5565813185439923 and parameters: {'booster_idx': 3, 'tree_method_idx': 1, 'grow_policy_idx': 2, 'eta': 0.3669189346272069, 'gamma': 6.285565659847471, 'max_depth': 9, 'min_child_weight': 4.447720350046751, 'max_delta_step': 0.5822557818639587, 'subsample': 0.4813889833713354, 'lambda': 0.0049840382246738235, 'alpha': 0.002085754543780157, 'scale_pos_weight': 1.4264836557871234, 'max_leaves': 10, 'max_bin': 300}. Best is trial 48 with value: 0.5510180655574383.\n"
     ]
    },
    {
     "name": "stdout",
     "output_type": "stream",
     "text": [
      "Trial 67 - MAE: 0.5565813185439923\n",
      "\n",
      "Trial 68 parameters: {'booster': 'dart', 'tree_method': 'auto', 'grow_policy': 'lossguide', 'eta': 0.1408491188495067, 'gamma': 5.0538107141292175, 'max_depth': 10, 'min_child_weight': 4.783752617904101, 'max_delta_step': 1.190311387326289, 'subsample': 0.5271118262264362, 'reg_lambda': 0.0020337312448926014, 'alpha': 0.0011622910454287187, 'scale_pos_weight': 1.3008788151089403, 'max_leaves': 10, 'max_bin': 275, 'random_state': 42, 'eval_metric': 'mae', 'device': 'cuda'}\n"
     ]
    },
    {
     "name": "stderr",
     "output_type": "stream",
     "text": [
      "[I 2025-04-13 17:42:45,429] Trial 68 finished with value: 0.568114803554243 and parameters: {'booster_idx': 3, 'tree_method_idx': 1, 'grow_policy_idx': 2, 'eta': 0.1408491188495067, 'gamma': 5.0538107141292175, 'max_depth': 10, 'min_child_weight': 4.783752617904101, 'max_delta_step': 1.190311387326289, 'subsample': 0.5271118262264362, 'lambda': 0.0020337312448926014, 'alpha': 0.0011622910454287187, 'scale_pos_weight': 1.3008788151089403, 'max_leaves': 10, 'max_bin': 275}. Best is trial 48 with value: 0.5510180655574383.\n"
     ]
    },
    {
     "name": "stdout",
     "output_type": "stream",
     "text": [
      "Trial 68 - MAE: 0.568114803554243\n",
      "\n",
      "Trial 69 parameters: {'booster': 'dart', 'tree_method': 'auto', 'grow_policy': 'lossguide', 'eta': 0.39943529012732987, 'gamma': 5.5444105484079085, 'max_depth': 11, 'min_child_weight': 4.86288534213762, 'max_delta_step': 0.9392447288460325, 'subsample': 0.46147981470299587, 'reg_lambda': 0.004131898285468718, 'alpha': 0.004607572865358116, 'scale_pos_weight': 2.126138148306106, 'max_leaves': 10, 'max_bin': 250, 'random_state': 42, 'eval_metric': 'mae', 'device': 'cuda'}\n"
     ]
    },
    {
     "name": "stderr",
     "output_type": "stream",
     "text": [
      "[I 2025-04-13 17:42:55,275] Trial 69 finished with value: 0.5620498849986547 and parameters: {'booster_idx': 3, 'tree_method_idx': 1, 'grow_policy_idx': 2, 'eta': 0.39943529012732987, 'gamma': 5.5444105484079085, 'max_depth': 11, 'min_child_weight': 4.86288534213762, 'max_delta_step': 0.9392447288460325, 'subsample': 0.46147981470299587, 'lambda': 0.004131898285468718, 'alpha': 0.004607572865358116, 'scale_pos_weight': 2.126138148306106, 'max_leaves': 10, 'max_bin': 250}. Best is trial 48 with value: 0.5510180655574383.\n"
     ]
    },
    {
     "name": "stdout",
     "output_type": "stream",
     "text": [
      "Trial 69 - MAE: 0.5620498849986547\n",
      "\n",
      "Trial 70 parameters: {'booster': 'dart', 'tree_method': 'auto', 'grow_policy': 'lossguide', 'eta': 0.18749284606252883, 'gamma': 6.361116444566122, 'max_depth': 9, 'min_child_weight': 4.571859393955682, 'max_delta_step': 1.2907906629654835, 'subsample': 0.5627342772769955, 'reg_lambda': 0.002800407821977231, 'alpha': 0.0024918006957825576, 'scale_pos_weight': 2.8218614550589085, 'max_leaves': 9, 'max_bin': 325, 'random_state': 42, 'eval_metric': 'mae', 'device': 'cuda'}\n"
     ]
    },
    {
     "name": "stderr",
     "output_type": "stream",
     "text": [
      "[I 2025-04-13 17:43:05,424] Trial 70 finished with value: 0.5784712033645337 and parameters: {'booster_idx': 3, 'tree_method_idx': 1, 'grow_policy_idx': 2, 'eta': 0.18749284606252883, 'gamma': 6.361116444566122, 'max_depth': 9, 'min_child_weight': 4.571859393955682, 'max_delta_step': 1.2907906629654835, 'subsample': 0.5627342772769955, 'lambda': 0.002800407821977231, 'alpha': 0.0024918006957825576, 'scale_pos_weight': 2.8218614550589085, 'max_leaves': 9, 'max_bin': 325}. Best is trial 48 with value: 0.5510180655574383.\n"
     ]
    },
    {
     "name": "stdout",
     "output_type": "stream",
     "text": [
      "Trial 70 - MAE: 0.5784712033645337\n",
      "\n",
      "Trial 71 parameters: {'booster': 'dart', 'tree_method': 'auto', 'grow_policy': 'lossguide', 'eta': 0.33022037199137294, 'gamma': 4.102716308577936, 'max_depth': 11, 'min_child_weight': 4.450275346928713, 'max_delta_step': 1.3552858912832213, 'subsample': 0.45217772383598825, 'reg_lambda': 0.02190621705388699, 'alpha': 0.007560509514313495, 'scale_pos_weight': 0.9411414990960312, 'max_leaves': 10, 'max_bin': 275, 'random_state': 42, 'eval_metric': 'mae', 'device': 'cuda'}\n"
     ]
    },
    {
     "name": "stderr",
     "output_type": "stream",
     "text": [
      "[I 2025-04-13 17:43:15,738] Trial 71 finished with value: 0.5533100415454244 and parameters: {'booster_idx': 3, 'tree_method_idx': 1, 'grow_policy_idx': 2, 'eta': 0.33022037199137294, 'gamma': 4.102716308577936, 'max_depth': 11, 'min_child_weight': 4.450275346928713, 'max_delta_step': 1.3552858912832213, 'subsample': 0.45217772383598825, 'lambda': 0.02190621705388699, 'alpha': 0.007560509514313495, 'scale_pos_weight': 0.9411414990960312, 'max_leaves': 10, 'max_bin': 275}. Best is trial 48 with value: 0.5510180655574383.\n"
     ]
    },
    {
     "name": "stdout",
     "output_type": "stream",
     "text": [
      "Trial 71 - MAE: 0.5533100415454244\n",
      "\n",
      "Trial 72 parameters: {'booster': 'dart', 'tree_method': 'auto', 'grow_policy': 'lossguide', 'eta': 0.38829737798892405, 'gamma': 3.8340531572215255, 'max_depth': 11, 'min_child_weight': 4.362453213431352, 'max_delta_step': 0.6446521490159434, 'subsample': 0.45410516813654506, 'reg_lambda': 5.038064270024472, 'alpha': 0.0010027415146656288, 'scale_pos_weight': 0.938021373456792, 'max_leaves': 10, 'max_bin': 275, 'random_state': 42, 'eval_metric': 'mae', 'device': 'cuda'}\n"
     ]
    },
    {
     "name": "stderr",
     "output_type": "stream",
     "text": [
      "[I 2025-04-13 17:43:26,270] Trial 72 finished with value: 0.5531343994753538 and parameters: {'booster_idx': 3, 'tree_method_idx': 1, 'grow_policy_idx': 2, 'eta': 0.38829737798892405, 'gamma': 3.8340531572215255, 'max_depth': 11, 'min_child_weight': 4.362453213431352, 'max_delta_step': 0.6446521490159434, 'subsample': 0.45410516813654506, 'lambda': 5.038064270024472, 'alpha': 0.0010027415146656288, 'scale_pos_weight': 0.938021373456792, 'max_leaves': 10, 'max_bin': 275}. Best is trial 48 with value: 0.5510180655574383.\n"
     ]
    },
    {
     "name": "stdout",
     "output_type": "stream",
     "text": [
      "Trial 72 - MAE: 0.5531343994753538\n",
      "\n",
      "Trial 73 parameters: {'booster': 'dart', 'tree_method': 'auto', 'grow_policy': 'lossguide', 'eta': 0.39040500691068575, 'gamma': 3.2789462563724587, 'max_depth': 11, 'min_child_weight': 4.406764626151812, 'max_delta_step': 0.6326077265036947, 'subsample': 0.5144157814490263, 'reg_lambda': 0.005593683617182838, 'alpha': 0.001008454991621173, 'scale_pos_weight': 0.9618856645220778, 'max_leaves': 10, 'max_bin': 275, 'random_state': 42, 'eval_metric': 'mae', 'device': 'cuda'}\n"
     ]
    },
    {
     "name": "stderr",
     "output_type": "stream",
     "text": [
      "[I 2025-04-13 17:43:36,726] Trial 73 finished with value: 0.5527617283419229 and parameters: {'booster_idx': 3, 'tree_method_idx': 1, 'grow_policy_idx': 2, 'eta': 0.39040500691068575, 'gamma': 3.2789462563724587, 'max_depth': 11, 'min_child_weight': 4.406764626151812, 'max_delta_step': 0.6326077265036947, 'subsample': 0.5144157814490263, 'lambda': 0.005593683617182838, 'alpha': 0.001008454991621173, 'scale_pos_weight': 0.9618856645220778, 'max_leaves': 10, 'max_bin': 275}. Best is trial 48 with value: 0.5510180655574383.\n"
     ]
    },
    {
     "name": "stdout",
     "output_type": "stream",
     "text": [
      "Trial 73 - MAE: 0.5527617283419229\n",
      "\n",
      "Trial 74 parameters: {'booster': 'dart', 'tree_method': 'auto', 'grow_policy': 'lossguide', 'eta': 0.2798572425467114, 'gamma': 3.7437522185014265, 'max_depth': 12, 'min_child_weight': 4.320004096688533, 'max_delta_step': 0.5663982017946689, 'subsample': 0.4502924354840309, 'reg_lambda': 3.406964758225134, 'alpha': 0.0010218495488430786, 'scale_pos_weight': 0.948484282354042, 'max_leaves': 9, 'max_bin': 275, 'random_state': 42, 'eval_metric': 'mae', 'device': 'cuda'}\n"
     ]
    },
    {
     "name": "stderr",
     "output_type": "stream",
     "text": [
      "[I 2025-04-13 17:43:46,757] Trial 74 finished with value: 0.5553120865596609 and parameters: {'booster_idx': 3, 'tree_method_idx': 1, 'grow_policy_idx': 2, 'eta': 0.2798572425467114, 'gamma': 3.7437522185014265, 'max_depth': 12, 'min_child_weight': 4.320004096688533, 'max_delta_step': 0.5663982017946689, 'subsample': 0.4502924354840309, 'lambda': 3.406964758225134, 'alpha': 0.0010218495488430786, 'scale_pos_weight': 0.948484282354042, 'max_leaves': 9, 'max_bin': 275}. Best is trial 48 with value: 0.5510180655574383.\n"
     ]
    },
    {
     "name": "stdout",
     "output_type": "stream",
     "text": [
      "Trial 74 - MAE: 0.5553120865596609\n",
      "\n",
      "Trial 75 parameters: {'booster': 'dart', 'tree_method': 'auto', 'grow_policy': 'lossguide', 'eta': 0.22441850082180548, 'gamma': 2.1404117890576635, 'max_depth': 11, 'min_child_weight': 4.027533041103309, 'max_delta_step': 0.3329478100082612, 'subsample': 0.5200293638637257, 'reg_lambda': 0.009881763654599597, 'alpha': 0.0013113264606816775, 'scale_pos_weight': 1.1636859413639322, 'max_leaves': 10, 'max_bin': 250, 'random_state': 42, 'eval_metric': 'mae', 'device': 'cuda'}\n"
     ]
    },
    {
     "name": "stderr",
     "output_type": "stream",
     "text": [
      "[I 2025-04-13 17:43:56,758] Trial 75 finished with value: 0.5567698422305977 and parameters: {'booster_idx': 3, 'tree_method_idx': 1, 'grow_policy_idx': 2, 'eta': 0.22441850082180548, 'gamma': 2.1404117890576635, 'max_depth': 11, 'min_child_weight': 4.027533041103309, 'max_delta_step': 0.3329478100082612, 'subsample': 0.5200293638637257, 'lambda': 0.009881763654599597, 'alpha': 0.0013113264606816775, 'scale_pos_weight': 1.1636859413639322, 'max_leaves': 10, 'max_bin': 250}. Best is trial 48 with value: 0.5510180655574383.\n"
     ]
    },
    {
     "name": "stdout",
     "output_type": "stream",
     "text": [
      "Trial 75 - MAE: 0.5567698422305977\n",
      "\n",
      "Trial 76 parameters: {'booster': 'dart', 'tree_method': 'auto', 'grow_policy': 'lossguide', 'eta': 0.40341607041004346, 'gamma': 3.0632777392022073, 'max_depth': 11, 'min_child_weight': 4.896698962594377, 'max_delta_step': 0.8981781764992216, 'subsample': 0.5871976150497584, 'reg_lambda': 9.296250916908184, 'alpha': 0.0013582044372721285, 'scale_pos_weight': 0.5408306124155493, 'max_leaves': 10, 'max_bin': 275, 'random_state': 42, 'eval_metric': 'mae', 'device': 'cuda'}\n"
     ]
    },
    {
     "name": "stderr",
     "output_type": "stream",
     "text": [
      "[I 2025-04-13 17:44:07,189] Trial 76 finished with value: 0.5535333212485395 and parameters: {'booster_idx': 3, 'tree_method_idx': 1, 'grow_policy_idx': 2, 'eta': 0.40341607041004346, 'gamma': 3.0632777392022073, 'max_depth': 11, 'min_child_weight': 4.896698962594377, 'max_delta_step': 0.8981781764992216, 'subsample': 0.5871976150497584, 'lambda': 9.296250916908184, 'alpha': 0.0013582044372721285, 'scale_pos_weight': 0.5408306124155493, 'max_leaves': 10, 'max_bin': 275}. Best is trial 48 with value: 0.5510180655574383.\n"
     ]
    },
    {
     "name": "stdout",
     "output_type": "stream",
     "text": [
      "Trial 76 - MAE: 0.5535333212485395\n",
      "\n",
      "Trial 77 parameters: {'booster': 'dart', 'tree_method': 'auto', 'grow_policy': 'lossguide', 'eta': 0.3273288115552629, 'gamma': 3.356252655440694, 'max_depth': 11, 'min_child_weight': 4.45761964295283, 'max_delta_step': 0.9150796380636911, 'subsample': 0.5809810515654766, 'reg_lambda': 7.837355406446359, 'alpha': 0.0017148623460481378, 'scale_pos_weight': 0.5368834647089548, 'max_leaves': 9, 'max_bin': 350, 'random_state': 42, 'eval_metric': 'mae', 'device': 'cuda'}\n"
     ]
    },
    {
     "name": "stderr",
     "output_type": "stream",
     "text": [
      "[I 2025-04-13 17:44:17,159] Trial 77 finished with value: 0.5594374509204265 and parameters: {'booster_idx': 3, 'tree_method_idx': 1, 'grow_policy_idx': 2, 'eta': 0.3273288115552629, 'gamma': 3.356252655440694, 'max_depth': 11, 'min_child_weight': 4.45761964295283, 'max_delta_step': 0.9150796380636911, 'subsample': 0.5809810515654766, 'lambda': 7.837355406446359, 'alpha': 0.0017148623460481378, 'scale_pos_weight': 0.5368834647089548, 'max_leaves': 9, 'max_bin': 350}. Best is trial 48 with value: 0.5510180655574383.\n"
     ]
    },
    {
     "name": "stdout",
     "output_type": "stream",
     "text": [
      "Trial 77 - MAE: 0.5594374509204265\n",
      "\n",
      "Trial 78 parameters: {'booster': 'dart', 'tree_method': 'auto', 'grow_policy': 'lossguide', 'eta': 0.4022064127016397, 'gamma': 2.7198838110809342, 'max_depth': 12, 'min_child_weight': 4.286558494832484, 'max_delta_step': 0.7140267651920573, 'subsample': 0.6348571709267032, 'reg_lambda': 3.7836752719699818, 'alpha': 0.0014383788012489736, 'scale_pos_weight': 3.0862369284049467, 'max_leaves': 9, 'max_bin': 275, 'random_state': 42, 'eval_metric': 'mae', 'device': 'cuda'}\n"
     ]
    },
    {
     "name": "stderr",
     "output_type": "stream",
     "text": [
      "[I 2025-04-13 17:44:27,154] Trial 78 finished with value: 0.5777584857279775 and parameters: {'booster_idx': 3, 'tree_method_idx': 1, 'grow_policy_idx': 2, 'eta': 0.4022064127016397, 'gamma': 2.7198838110809342, 'max_depth': 12, 'min_child_weight': 4.286558494832484, 'max_delta_step': 0.7140267651920573, 'subsample': 0.6348571709267032, 'lambda': 3.7836752719699818, 'alpha': 0.0014383788012489736, 'scale_pos_weight': 3.0862369284049467, 'max_leaves': 9, 'max_bin': 275}. Best is trial 48 with value: 0.5510180655574383.\n"
     ]
    },
    {
     "name": "stdout",
     "output_type": "stream",
     "text": [
      "Trial 78 - MAE: 0.5777584857279775\n",
      "\n",
      "Trial 79 parameters: {'booster': 'dart', 'tree_method': 'auto', 'grow_policy': 'lossguide', 'eta': 0.0031007942947666625, 'gamma': 4.044649666673418, 'max_depth': 11, 'min_child_weight': 4.614082234574266, 'max_delta_step': 0.3206544855773229, 'subsample': 0.7009149939070773, 'reg_lambda': 9.502939593990392, 'alpha': 0.0069711245402294345, 'scale_pos_weight': 1.7027256658750802, 'max_leaves': 10, 'max_bin': 225, 'random_state': 42, 'eval_metric': 'mae', 'device': 'cuda'}\n"
     ]
    },
    {
     "name": "stderr",
     "output_type": "stream",
     "text": [
      "[I 2025-04-13 17:44:36,957] Trial 79 finished with value: 1.1620791813145193 and parameters: {'booster_idx': 3, 'tree_method_idx': 1, 'grow_policy_idx': 2, 'eta': 0.0031007942947666625, 'gamma': 4.044649666673418, 'max_depth': 11, 'min_child_weight': 4.614082234574266, 'max_delta_step': 0.3206544855773229, 'subsample': 0.7009149939070773, 'lambda': 9.502939593990392, 'alpha': 0.0069711245402294345, 'scale_pos_weight': 1.7027256658750802, 'max_leaves': 10, 'max_bin': 225}. Best is trial 48 with value: 0.5510180655574383.\n"
     ]
    },
    {
     "name": "stdout",
     "output_type": "stream",
     "text": [
      "Trial 79 - MAE: 1.1620791813145193\n",
      "\n",
      "Trial 80 parameters: {'booster': 'dart', 'tree_method': 'auto', 'grow_policy': 'lossguide', 'eta': 0.2983790228590665, 'gamma': 3.311697254500599, 'max_depth': 10, 'min_child_weight': 1.449804762016111, 'max_delta_step': 0.6272785614453497, 'subsample': 0.5868973357078249, 'reg_lambda': 6.337053129295165, 'alpha': 0.020706076231035, 'scale_pos_weight': 1.0036194250949408, 'max_leaves': 10, 'max_bin': 300, 'random_state': 42, 'eval_metric': 'mae', 'device': 'cuda'}\n"
     ]
    },
    {
     "name": "stderr",
     "output_type": "stream",
     "text": [
      "[I 2025-04-13 17:44:47,084] Trial 80 finished with value: 0.5537726438673347 and parameters: {'booster_idx': 3, 'tree_method_idx': 1, 'grow_policy_idx': 2, 'eta': 0.2983790228590665, 'gamma': 3.311697254500599, 'max_depth': 10, 'min_child_weight': 1.449804762016111, 'max_delta_step': 0.6272785614453497, 'subsample': 0.5868973357078249, 'lambda': 6.337053129295165, 'alpha': 0.020706076231035, 'scale_pos_weight': 1.0036194250949408, 'max_leaves': 10, 'max_bin': 300}. Best is trial 48 with value: 0.5510180655574383.\n"
     ]
    },
    {
     "name": "stdout",
     "output_type": "stream",
     "text": [
      "Trial 80 - MAE: 0.5537726438673347\n",
      "\n",
      "Trial 81 parameters: {'booster': 'dart', 'tree_method': 'auto', 'grow_policy': 'lossguide', 'eta': 0.3039558689212401, 'gamma': 3.3651367447474936, 'max_depth': 10, 'min_child_weight': 1.3416729462347525, 'max_delta_step': 0.48290803451789244, 'subsample': 0.5079993543023075, 'reg_lambda': 5.823333523770085, 'alpha': 0.020120270283480856, 'scale_pos_weight': 0.9255543714692088, 'max_leaves': 10, 'max_bin': 300, 'random_state': 42, 'eval_metric': 'mae', 'device': 'cuda'}\n"
     ]
    },
    {
     "name": "stderr",
     "output_type": "stream",
     "text": [
      "[I 2025-04-13 17:44:57,656] Trial 81 finished with value: 0.5519164829232686 and parameters: {'booster_idx': 3, 'tree_method_idx': 1, 'grow_policy_idx': 2, 'eta': 0.3039558689212401, 'gamma': 3.3651367447474936, 'max_depth': 10, 'min_child_weight': 1.3416729462347525, 'max_delta_step': 0.48290803451789244, 'subsample': 0.5079993543023075, 'lambda': 5.823333523770085, 'alpha': 0.020120270283480856, 'scale_pos_weight': 0.9255543714692088, 'max_leaves': 10, 'max_bin': 300}. Best is trial 48 with value: 0.5510180655574383.\n"
     ]
    },
    {
     "name": "stdout",
     "output_type": "stream",
     "text": [
      "Trial 81 - MAE: 0.5519164829232686\n",
      "\n",
      "Trial 82 parameters: {'booster': 'dart', 'tree_method': 'auto', 'grow_policy': 'lossguide', 'eta': 0.21340712847609206, 'gamma': 4.271723541148098, 'max_depth': 10, 'min_child_weight': 4.406940842923686, 'max_delta_step': 0.14716128180340066, 'subsample': 0.5048515398991806, 'reg_lambda': 3.2663590839827554, 'alpha': 0.035493771770619596, 'scale_pos_weight': 0.5936275140194684, 'max_leaves': 10, 'max_bin': 325, 'random_state': 42, 'eval_metric': 'mae', 'device': 'cuda'}\n"
     ]
    },
    {
     "name": "stderr",
     "output_type": "stream",
     "text": [
      "[I 2025-04-13 17:45:07,963] Trial 82 finished with value: 0.5617404286604567 and parameters: {'booster_idx': 3, 'tree_method_idx': 1, 'grow_policy_idx': 2, 'eta': 0.21340712847609206, 'gamma': 4.271723541148098, 'max_depth': 10, 'min_child_weight': 4.406940842923686, 'max_delta_step': 0.14716128180340066, 'subsample': 0.5048515398991806, 'lambda': 3.2663590839827554, 'alpha': 0.035493771770619596, 'scale_pos_weight': 0.5936275140194684, 'max_leaves': 10, 'max_bin': 325}. Best is trial 48 with value: 0.5510180655574383.\n"
     ]
    },
    {
     "name": "stdout",
     "output_type": "stream",
     "text": [
      "Trial 82 - MAE: 0.5617404286604567\n",
      "\n",
      "Trial 83 parameters: {'booster': 'dart', 'tree_method': 'auto', 'grow_policy': 'lossguide', 'eta': 0.16569266592171936, 'gamma': 3.655584504736004, 'max_depth': 11, 'min_child_weight': 4.113023969988056, 'max_delta_step': 0.8845549623747284, 'subsample': 0.5521874407129125, 'reg_lambda': 4.995443810914724, 'alpha': 0.012101312205453938, 'scale_pos_weight': 0.9307511413308673, 'max_leaves': 10, 'max_bin': 275, 'random_state': 42, 'eval_metric': 'mae', 'device': 'cuda'}\n"
     ]
    },
    {
     "name": "stderr",
     "output_type": "stream",
     "text": [
      "[I 2025-04-13 17:45:17,918] Trial 83 finished with value: 0.5638448807581183 and parameters: {'booster_idx': 3, 'tree_method_idx': 1, 'grow_policy_idx': 2, 'eta': 0.16569266592171936, 'gamma': 3.655584504736004, 'max_depth': 11, 'min_child_weight': 4.113023969988056, 'max_delta_step': 0.8845549623747284, 'subsample': 0.5521874407129125, 'lambda': 4.995443810914724, 'alpha': 0.012101312205453938, 'scale_pos_weight': 0.9307511413308673, 'max_leaves': 10, 'max_bin': 275}. Best is trial 48 with value: 0.5510180655574383.\n"
     ]
    },
    {
     "name": "stdout",
     "output_type": "stream",
     "text": [
      "Trial 83 - MAE: 0.5638448807581183\n",
      "\n",
      "Trial 84 parameters: {'booster': 'dart', 'tree_method': 'auto', 'grow_policy': 'lossguide', 'eta': 0.4230802152297331, 'gamma': 2.2117367293807186, 'max_depth': 10, 'min_child_weight': 1.8350004170072705, 'max_delta_step': 0.4037296925143191, 'subsample': 0.47440463206478367, 'reg_lambda': 1.886026857815936, 'alpha': 0.0045416884446649935, 'scale_pos_weight': 1.0786104996451678, 'max_leaves': 9, 'max_bin': 300, 'random_state': 42, 'eval_metric': 'mae', 'device': 'cuda'}\n"
     ]
    },
    {
     "name": "stderr",
     "output_type": "stream",
     "text": [
      "[I 2025-04-13 17:45:28,290] Trial 84 finished with value: 0.5578270362502555 and parameters: {'booster_idx': 3, 'tree_method_idx': 1, 'grow_policy_idx': 2, 'eta': 0.4230802152297331, 'gamma': 2.2117367293807186, 'max_depth': 10, 'min_child_weight': 1.8350004170072705, 'max_delta_step': 0.4037296925143191, 'subsample': 0.47440463206478367, 'lambda': 1.886026857815936, 'alpha': 0.0045416884446649935, 'scale_pos_weight': 1.0786104996451678, 'max_leaves': 9, 'max_bin': 300}. Best is trial 48 with value: 0.5510180655574383.\n"
     ]
    },
    {
     "name": "stdout",
     "output_type": "stream",
     "text": [
      "Trial 84 - MAE: 0.5578270362502555\n",
      "\n",
      "Trial 85 parameters: {'booster': 'dart', 'tree_method': 'auto', 'grow_policy': 'lossguide', 'eta': 0.2563795682478563, 'gamma': 3.055582157963012, 'max_depth': 11, 'min_child_weight': 1.031238576097988, 'max_delta_step': 0.49449598017503343, 'subsample': 0.43769948515089907, 'reg_lambda': 7.001399832643657, 'alpha': 0.0028247312199997953, 'scale_pos_weight': 1.3030435129880265, 'max_leaves': 10, 'max_bin': 200, 'random_state': 42, 'eval_metric': 'mae', 'device': 'cuda'}\n"
     ]
    },
    {
     "name": "stderr",
     "output_type": "stream",
     "text": [
      "[I 2025-04-13 17:45:38,179] Trial 85 finished with value: 0.5567793886134846 and parameters: {'booster_idx': 3, 'tree_method_idx': 1, 'grow_policy_idx': 2, 'eta': 0.2563795682478563, 'gamma': 3.055582157963012, 'max_depth': 11, 'min_child_weight': 1.031238576097988, 'max_delta_step': 0.49449598017503343, 'subsample': 0.43769948515089907, 'lambda': 7.001399832643657, 'alpha': 0.0028247312199997953, 'scale_pos_weight': 1.3030435129880265, 'max_leaves': 10, 'max_bin': 200}. Best is trial 48 with value: 0.5510180655574383.\n"
     ]
    },
    {
     "name": "stdout",
     "output_type": "stream",
     "text": [
      "Trial 85 - MAE: 0.5567793886134846\n",
      "\n",
      "Trial 86 parameters: {'booster': 'dart', 'tree_method': 'auto', 'grow_policy': 'lossguide', 'eta': 0.42218247600564146, 'gamma': 3.7731772041370752, 'max_depth': 10, 'min_child_weight': 3.9480380158660955, 'max_delta_step': 1.4040332309334245, 'subsample': 0.5159627462359411, 'reg_lambda': 5.487137073669072, 'alpha': 0.0019801344780154212, 'scale_pos_weight': 1.1679079285572447, 'max_leaves': 10, 'max_bin': 350, 'random_state': 42, 'eval_metric': 'mae', 'device': 'cuda'}\n"
     ]
    },
    {
     "name": "stderr",
     "output_type": "stream",
     "text": [
      "[I 2025-04-13 17:45:48,399] Trial 86 finished with value: 0.5553251657686299 and parameters: {'booster_idx': 3, 'tree_method_idx': 1, 'grow_policy_idx': 2, 'eta': 0.42218247600564146, 'gamma': 3.7731772041370752, 'max_depth': 10, 'min_child_weight': 3.9480380158660955, 'max_delta_step': 1.4040332309334245, 'subsample': 0.5159627462359411, 'lambda': 5.487137073669072, 'alpha': 0.0019801344780154212, 'scale_pos_weight': 1.1679079285572447, 'max_leaves': 10, 'max_bin': 350}. Best is trial 48 with value: 0.5510180655574383.\n"
     ]
    },
    {
     "name": "stdout",
     "output_type": "stream",
     "text": [
      "Trial 86 - MAE: 0.5553251657686299\n",
      "\n",
      "Trial 87 parameters: {'booster': 'dart', 'tree_method': 'auto', 'grow_policy': 'lossguide', 'eta': 0.07225707401998165, 'gamma': 3.514888887519446, 'max_depth': 12, 'min_child_weight': 4.732741007501961, 'max_delta_step': 0.7226721837981631, 'subsample': 0.46107536390287507, 'reg_lambda': 0.9329387437634583, 'alpha': 0.0013234180985427376, 'scale_pos_weight': 0.7473892825471797, 'max_leaves': 9, 'max_bin': 275, 'random_state': 42, 'eval_metric': 'mae', 'device': 'cuda'}\n"
     ]
    },
    {
     "name": "stderr",
     "output_type": "stream",
     "text": [
      "[I 2025-04-13 17:45:58,613] Trial 87 finished with value: 0.6002183486299363 and parameters: {'booster_idx': 3, 'tree_method_idx': 1, 'grow_policy_idx': 2, 'eta': 0.07225707401998165, 'gamma': 3.514888887519446, 'max_depth': 12, 'min_child_weight': 4.732741007501961, 'max_delta_step': 0.7226721837981631, 'subsample': 0.46107536390287507, 'lambda': 0.9329387437634583, 'alpha': 0.0013234180985427376, 'scale_pos_weight': 0.7473892825471797, 'max_leaves': 9, 'max_bin': 275}. Best is trial 48 with value: 0.5510180655574383.\n"
     ]
    },
    {
     "name": "stdout",
     "output_type": "stream",
     "text": [
      "Trial 87 - MAE: 0.6002183486299363\n",
      "\n",
      "Trial 88 parameters: {'booster': 'dart', 'tree_method': 'auto', 'grow_policy': 'lossguide', 'eta': 0.3224274354126478, 'gamma': 2.5427932537895557, 'max_depth': 11, 'min_child_weight': 4.873659068082719, 'max_delta_step': 1.0344389838170904, 'subsample': 0.5425614134019451, 'reg_lambda': 2.5838921947804407, 'alpha': 0.062408461563131824, 'scale_pos_weight': 0.9813608526822528, 'max_leaves': 9, 'max_bin': 250, 'random_state': 42, 'eval_metric': 'mae', 'device': 'cuda'}\n"
     ]
    },
    {
     "name": "stderr",
     "output_type": "stream",
     "text": [
      "[I 2025-04-13 17:46:08,542] Trial 88 finished with value: 0.5557989853113204 and parameters: {'booster_idx': 3, 'tree_method_idx': 1, 'grow_policy_idx': 2, 'eta': 0.3224274354126478, 'gamma': 2.5427932537895557, 'max_depth': 11, 'min_child_weight': 4.873659068082719, 'max_delta_step': 1.0344389838170904, 'subsample': 0.5425614134019451, 'lambda': 2.5838921947804407, 'alpha': 0.062408461563131824, 'scale_pos_weight': 0.9813608526822528, 'max_leaves': 9, 'max_bin': 250}. Best is trial 48 with value: 0.5510180655574383.\n"
     ]
    },
    {
     "name": "stdout",
     "output_type": "stream",
     "text": [
      "Trial 88 - MAE: 0.5557989853113204\n",
      "\n",
      "Trial 89 parameters: {'booster': 'dart', 'tree_method': 'auto', 'grow_policy': 'depthwise', 'eta': 0.1018361614148712, 'gamma': 4.766908138259362, 'max_depth': 10, 'min_child_weight': 4.242114555555183, 'max_delta_step': 0.02311006738207233, 'subsample': 0.6047250053695437, 'reg_lambda': 0.006658550676321264, 'alpha': 0.008815963391605983, 'scale_pos_weight': 0.889916095425809, 'max_leaves': 10, 'max_bin': 300, 'random_state': 42, 'eval_metric': 'mae', 'device': 'cuda'}\n"
     ]
    },
    {
     "name": "stderr",
     "output_type": "stream",
     "text": [
      "[I 2025-04-13 17:46:18,112] Trial 89 finished with value: 0.5879793788042912 and parameters: {'booster_idx': 3, 'tree_method_idx': 1, 'grow_policy_idx': 1, 'eta': 0.1018361614148712, 'gamma': 4.766908138259362, 'max_depth': 10, 'min_child_weight': 4.242114555555183, 'max_delta_step': 0.02311006738207233, 'subsample': 0.6047250053695437, 'lambda': 0.006658550676321264, 'alpha': 0.008815963391605983, 'scale_pos_weight': 0.889916095425809, 'max_leaves': 10, 'max_bin': 300}. Best is trial 48 with value: 0.5510180655574383.\n"
     ]
    },
    {
     "name": "stdout",
     "output_type": "stream",
     "text": [
      "Trial 89 - MAE: 0.5879793788042912\n",
      "\n",
      "Trial 90 parameters: {'booster': 'dart', 'tree_method': 'auto', 'grow_policy': 'lossguide', 'eta': 0.6971082060281377, 'gamma': 4.049957830322283, 'max_depth': 11, 'min_child_weight': 4.6026732253864635, 'max_delta_step': 1.3800078679082006, 'subsample': 0.4992738051400094, 'reg_lambda': 4.644839470026038, 'alpha': 0.018479210531678843, 'scale_pos_weight': 3.4227943667038634, 'max_leaves': 10, 'max_bin': 325, 'random_state': 42, 'eval_metric': 'mae', 'device': 'cuda'}\n"
     ]
    },
    {
     "name": "stderr",
     "output_type": "stream",
     "text": [
      "[I 2025-04-13 17:46:28,755] Trial 90 finished with value: 0.5928324510768126 and parameters: {'booster_idx': 3, 'tree_method_idx': 1, 'grow_policy_idx': 2, 'eta': 0.6971082060281377, 'gamma': 4.049957830322283, 'max_depth': 11, 'min_child_weight': 4.6026732253864635, 'max_delta_step': 1.3800078679082006, 'subsample': 0.4992738051400094, 'lambda': 4.644839470026038, 'alpha': 0.018479210531678843, 'scale_pos_weight': 3.4227943667038634, 'max_leaves': 10, 'max_bin': 325}. Best is trial 48 with value: 0.5510180655574383.\n"
     ]
    },
    {
     "name": "stdout",
     "output_type": "stream",
     "text": [
      "Trial 90 - MAE: 0.5928324510768126\n",
      "\n",
      "Trial 91 parameters: {'booster': 'dart', 'tree_method': 'auto', 'grow_policy': 'lossguide', 'eta': 0.3061937465682834, 'gamma': 3.189373579200913, 'max_depth': 10, 'min_child_weight': 1.4874943745793805, 'max_delta_step': 0.6297833884913601, 'subsample': 0.5762709542662248, 'reg_lambda': 9.919994344523197, 'alpha': 0.02038940857029547, 'scale_pos_weight': 0.505534205218812, 'max_leaves': 10, 'max_bin': 300, 'random_state': 42, 'eval_metric': 'mae', 'device': 'cuda'}\n"
     ]
    },
    {
     "name": "stderr",
     "output_type": "stream",
     "text": [
      "[I 2025-04-13 17:46:39,225] Trial 91 finished with value: 0.5557053424573821 and parameters: {'booster_idx': 3, 'tree_method_idx': 1, 'grow_policy_idx': 2, 'eta': 0.3061937465682834, 'gamma': 3.189373579200913, 'max_depth': 10, 'min_child_weight': 1.4874943745793805, 'max_delta_step': 0.6297833884913601, 'subsample': 0.5762709542662248, 'lambda': 9.919994344523197, 'alpha': 0.02038940857029547, 'scale_pos_weight': 0.505534205218812, 'max_leaves': 10, 'max_bin': 300}. Best is trial 48 with value: 0.5510180655574383.\n"
     ]
    },
    {
     "name": "stdout",
     "output_type": "stream",
     "text": [
      "Trial 91 - MAE: 0.5557053424573821\n",
      "\n",
      "Trial 92 parameters: {'booster': 'dart', 'tree_method': 'auto', 'grow_policy': 'lossguide', 'eta': 0.3807009953256927, 'gamma': 2.9179695410667525, 'max_depth': 10, 'min_child_weight': 1.328818015337315, 'max_delta_step': 0.8996403088736102, 'subsample': 0.4299516986376535, 'reg_lambda': 6.975707816556122, 'alpha': 0.03598078041747011, 'scale_pos_weight': 0.947881581715804, 'max_leaves': 10, 'max_bin': 275, 'random_state': 42, 'eval_metric': 'mae', 'device': 'cuda'}\n"
     ]
    },
    {
     "name": "stderr",
     "output_type": "stream",
     "text": [
      "[I 2025-04-13 17:46:49,419] Trial 92 finished with value: 0.5529933380297867 and parameters: {'booster_idx': 3, 'tree_method_idx': 1, 'grow_policy_idx': 2, 'eta': 0.3807009953256927, 'gamma': 2.9179695410667525, 'max_depth': 10, 'min_child_weight': 1.328818015337315, 'max_delta_step': 0.8996403088736102, 'subsample': 0.4299516986376535, 'lambda': 6.975707816556122, 'alpha': 0.03598078041747011, 'scale_pos_weight': 0.947881581715804, 'max_leaves': 10, 'max_bin': 275}. Best is trial 48 with value: 0.5510180655574383.\n"
     ]
    },
    {
     "name": "stdout",
     "output_type": "stream",
     "text": [
      "Trial 92 - MAE: 0.5529933380297867\n",
      "\n",
      "Trial 93 parameters: {'booster': 'dart', 'tree_method': 'auto', 'grow_policy': 'lossguide', 'eta': 0.37892507628202315, 'gamma': 2.786501116666753, 'max_depth': 11, 'min_child_weight': 1.1110022758301623, 'max_delta_step': 0.8498332701458191, 'subsample': 0.4286569854663119, 'reg_lambda': 4.270486451284158, 'alpha': 0.03929316724199428, 'scale_pos_weight': 2.6555770934187146, 'max_leaves': 10, 'max_bin': 250, 'random_state': 42, 'eval_metric': 'mae', 'device': 'cuda'}\n"
     ]
    },
    {
     "name": "stderr",
     "output_type": "stream",
     "text": [
      "[I 2025-04-13 17:46:59,674] Trial 93 finished with value: 0.5690986972644869 and parameters: {'booster_idx': 3, 'tree_method_idx': 1, 'grow_policy_idx': 2, 'eta': 0.37892507628202315, 'gamma': 2.786501116666753, 'max_depth': 11, 'min_child_weight': 1.1110022758301623, 'max_delta_step': 0.8498332701458191, 'subsample': 0.4286569854663119, 'lambda': 4.270486451284158, 'alpha': 0.03929316724199428, 'scale_pos_weight': 2.6555770934187146, 'max_leaves': 10, 'max_bin': 250}. Best is trial 48 with value: 0.5510180655574383.\n"
     ]
    },
    {
     "name": "stdout",
     "output_type": "stream",
     "text": [
      "Trial 93 - MAE: 0.5690986972644869\n",
      "\n",
      "Trial 94 parameters: {'booster': 'dart', 'tree_method': 'auto', 'grow_policy': 'lossguide', 'eta': 0.027256647821608825, 'gamma': 2.0020451574144698, 'max_depth': 10, 'min_child_weight': 1.296481047374204, 'max_delta_step': 1.1914635642975797, 'subsample': 0.47208026938456776, 'reg_lambda': 6.733067207406112, 'alpha': 0.04366496738930974, 'scale_pos_weight': 0.631042246802012, 'max_leaves': 9, 'max_bin': 275, 'random_state': 42, 'eval_metric': 'mae', 'device': 'cuda'}\n"
     ]
    },
    {
     "name": "stderr",
     "output_type": "stream",
     "text": [
      "[I 2025-04-13 17:47:09,569] Trial 94 finished with value: 0.7015086644988837 and parameters: {'booster_idx': 3, 'tree_method_idx': 1, 'grow_policy_idx': 2, 'eta': 0.027256647821608825, 'gamma': 2.0020451574144698, 'max_depth': 10, 'min_child_weight': 1.296481047374204, 'max_delta_step': 1.1914635642975797, 'subsample': 0.47208026938456776, 'lambda': 6.733067207406112, 'alpha': 0.04366496738930974, 'scale_pos_weight': 0.631042246802012, 'max_leaves': 9, 'max_bin': 275}. Best is trial 48 with value: 0.5510180655574383.\n"
     ]
    },
    {
     "name": "stdout",
     "output_type": "stream",
     "text": [
      "Trial 94 - MAE: 0.7015086644988837\n",
      "\n",
      "Trial 95 parameters: {'booster': 'dart', 'tree_method': 'auto', 'grow_policy': 'lossguide', 'eta': 0.4533719773212938, 'gamma': 3.0136248998969077, 'max_depth': 10, 'min_child_weight': 4.393050191496761, 'max_delta_step': 0.4609884431854735, 'subsample': 0.3959163644444424, 'reg_lambda': 0.09453005284882643, 'alpha': 0.01404925644332034, 'scale_pos_weight': 0.7488658650181861, 'max_leaves': 5, 'max_bin': 225, 'random_state': 42, 'eval_metric': 'mae', 'device': 'cuda'}\n"
     ]
    },
    {
     "name": "stderr",
     "output_type": "stream",
     "text": [
      "[I 2025-04-13 17:47:18,493] Trial 95 finished with value: 0.5780808816147052 and parameters: {'booster_idx': 3, 'tree_method_idx': 1, 'grow_policy_idx': 2, 'eta': 0.4533719773212938, 'gamma': 3.0136248998969077, 'max_depth': 10, 'min_child_weight': 4.393050191496761, 'max_delta_step': 0.4609884431854735, 'subsample': 0.3959163644444424, 'lambda': 0.09453005284882643, 'alpha': 0.01404925644332034, 'scale_pos_weight': 0.7488658650181861, 'max_leaves': 5, 'max_bin': 225}. Best is trial 48 with value: 0.5510180655574383.\n"
     ]
    },
    {
     "name": "stdout",
     "output_type": "stream",
     "text": [
      "Trial 95 - MAE: 0.5780808816147052\n",
      "\n",
      "Trial 96 parameters: {'booster': 'dart', 'tree_method': 'auto', 'grow_policy': 'lossguide', 'eta': 0.23149793611368027, 'gamma': 4.470888872200246, 'max_depth': 12, 'min_child_weight': 1.5481259512895604, 'max_delta_step': 0.20176564064958108, 'subsample': 0.4350990238596807, 'reg_lambda': 2.5170140366775122, 'alpha': 0.07740916301388329, 'scale_pos_weight': 0.8655831664175019, 'max_leaves': 10, 'max_bin': 275, 'random_state': 42, 'eval_metric': 'mae', 'device': 'cuda'}\n"
     ]
    },
    {
     "name": "stderr",
     "output_type": "stream",
     "text": [
      "[I 2025-04-13 17:47:28,989] Trial 96 finished with value: 0.555960368970659 and parameters: {'booster_idx': 3, 'tree_method_idx': 1, 'grow_policy_idx': 2, 'eta': 0.23149793611368027, 'gamma': 4.470888872200246, 'max_depth': 12, 'min_child_weight': 1.5481259512895604, 'max_delta_step': 0.20176564064958108, 'subsample': 0.4350990238596807, 'lambda': 2.5170140366775122, 'alpha': 0.07740916301388329, 'scale_pos_weight': 0.8655831664175019, 'max_leaves': 10, 'max_bin': 275}. Best is trial 48 with value: 0.5510180655574383.\n"
     ]
    },
    {
     "name": "stdout",
     "output_type": "stream",
     "text": [
      "Trial 96 - MAE: 0.555960368970659\n",
      "\n",
      "Trial 97 parameters: {'booster': 'dart', 'tree_method': 'auto', 'grow_policy': 'lossguide', 'eta': 0.1867722251903254, 'gamma': 1.8450797379988284, 'max_depth': 11, 'min_child_weight': 1.7538678719956167, 'max_delta_step': 0.9863246495553133, 'subsample': 0.5051619236320803, 'reg_lambda': 8.208455558027286, 'alpha': 0.024784691438649833, 'scale_pos_weight': 1.070494539550691, 'max_leaves': 10, 'max_bin': 250, 'random_state': 42, 'eval_metric': 'mae', 'device': 'cuda'}\n"
     ]
    },
    {
     "name": "stderr",
     "output_type": "stream",
     "text": [
      "[I 2025-04-13 17:47:39,064] Trial 97 finished with value: 0.5598088260652094 and parameters: {'booster_idx': 3, 'tree_method_idx': 1, 'grow_policy_idx': 2, 'eta': 0.1867722251903254, 'gamma': 1.8450797379988284, 'max_depth': 11, 'min_child_weight': 1.7538678719956167, 'max_delta_step': 0.9863246495553133, 'subsample': 0.5051619236320803, 'lambda': 8.208455558027286, 'alpha': 0.024784691438649833, 'scale_pos_weight': 1.070494539550691, 'max_leaves': 10, 'max_bin': 250}. Best is trial 48 with value: 0.5510180655574383.\n"
     ]
    },
    {
     "name": "stdout",
     "output_type": "stream",
     "text": [
      "Trial 97 - MAE: 0.5598088260652094\n",
      "\n",
      "Trial 98 parameters: {'booster': 'dart', 'tree_method': 'auto', 'grow_policy': 'lossguide', 'eta': 0.6264215350532952, 'gamma': 0.5559928260220488, 'max_depth': 10, 'min_child_weight': 2.1730496790323897, 'max_delta_step': 1.1188827552105134, 'subsample': 0.4489067735172644, 'reg_lambda': 0.00563868585838251, 'alpha': 0.0039059878507019543, 'scale_pos_weight': 1.20964210926267, 'max_leaves': 9, 'max_bin': 200, 'random_state': 42, 'eval_metric': 'mae', 'device': 'cuda'}\n"
     ]
    },
    {
     "name": "stderr",
     "output_type": "stream",
     "text": [
      "[I 2025-04-13 17:47:48,750] Trial 98 finished with value: 0.5619213529815719 and parameters: {'booster_idx': 3, 'tree_method_idx': 1, 'grow_policy_idx': 2, 'eta': 0.6264215350532952, 'gamma': 0.5559928260220488, 'max_depth': 10, 'min_child_weight': 2.1730496790323897, 'max_delta_step': 1.1188827552105134, 'subsample': 0.4489067735172644, 'lambda': 0.00563868585838251, 'alpha': 0.0039059878507019543, 'scale_pos_weight': 1.20964210926267, 'max_leaves': 9, 'max_bin': 200}. Best is trial 48 with value: 0.5510180655574383.\n"
     ]
    },
    {
     "name": "stdout",
     "output_type": "stream",
     "text": [
      "Trial 98 - MAE: 0.5619213529815719\n",
      "\n",
      "Trial 99 parameters: {'booster': 'dart', 'tree_method': 'auto', 'grow_policy': 'lossguide', 'eta': 0.47673662358834784, 'gamma': 3.9227945512066, 'max_depth': 9, 'min_child_weight': 1.1723676104723468, 'max_delta_step': 0.79382138207546, 'subsample': 0.39390643893640637, 'reg_lambda': 0.018645628651085416, 'alpha': 0.0017272556396875078, 'scale_pos_weight': 0.9653744204689994, 'max_leaves': 10, 'max_bin': 325, 'random_state': 42, 'eval_metric': 'mae', 'device': 'cuda'}\n"
     ]
    },
    {
     "name": "stderr",
     "output_type": "stream",
     "text": [
      "[I 2025-04-13 17:47:59,423] Trial 99 finished with value: 0.5545213223094734 and parameters: {'booster_idx': 3, 'tree_method_idx': 1, 'grow_policy_idx': 2, 'eta': 0.47673662358834784, 'gamma': 3.9227945512066, 'max_depth': 9, 'min_child_weight': 1.1723676104723468, 'max_delta_step': 0.79382138207546, 'subsample': 0.39390643893640637, 'lambda': 0.018645628651085416, 'alpha': 0.0017272556396875078, 'scale_pos_weight': 0.9653744204689994, 'max_leaves': 10, 'max_bin': 325}. Best is trial 48 with value: 0.5510180655574383.\n"
     ]
    },
    {
     "name": "stdout",
     "output_type": "stream",
     "text": [
      "Trial 99 - MAE: 0.5545213223094734\n",
      "\n",
      "Trial 100 parameters: {'booster': 'gbtree', 'tree_method': 'auto', 'grow_policy': 'lossguide', 'eta': 0.25619166713362823, 'gamma': 3.5152287039107413, 'max_depth': 11, 'min_child_weight': 3.7888133336003733, 'max_delta_step': 0.2454663721651284, 'subsample': 0.5353829684277689, 'reg_lambda': 0.0030836703823800917, 'alpha': 0.002825442805811489, 'scale_pos_weight': 0.706469476469, 'max_leaves': 1, 'max_bin': 300, 'random_state': 42, 'eval_metric': 'mae', 'device': 'cuda'}\n"
     ]
    },
    {
     "name": "stderr",
     "output_type": "stream",
     "text": [
      "[I 2025-04-13 17:48:04,333] Trial 100 finished with value: 1.2144846072137565 and parameters: {'booster_idx': 1, 'tree_method_idx': 1, 'grow_policy_idx': 2, 'eta': 0.25619166713362823, 'gamma': 3.5152287039107413, 'max_depth': 11, 'min_child_weight': 3.7888133336003733, 'max_delta_step': 0.2454663721651284, 'subsample': 0.5353829684277689, 'lambda': 0.0030836703823800917, 'alpha': 0.002825442805811489, 'scale_pos_weight': 0.706469476469, 'max_leaves': 1, 'max_bin': 300}. Best is trial 48 with value: 0.5510180655574383.\n"
     ]
    },
    {
     "name": "stdout",
     "output_type": "stream",
     "text": [
      "Trial 100 - MAE: 1.2144846072137565\n",
      "\n",
      "Trial 101 parameters: {'booster': 'dart', 'tree_method': 'auto', 'grow_policy': 'lossguide', 'eta': 0.29594241147785, 'gamma': 4.331499564491813, 'max_depth': 10, 'min_child_weight': 1.565424948800825, 'max_delta_step': 0.6751895717872782, 'subsample': 0.5851287695426052, 'reg_lambda': 5.237499485257771, 'alpha': 0.03283205890956142, 'scale_pos_weight': 0.9984525740869914, 'max_leaves': 10, 'max_bin': 300, 'random_state': 42, 'eval_metric': 'mae', 'device': 'cuda'}\n"
     ]
    },
    {
     "name": "stderr",
     "output_type": "stream",
     "text": [
      "[I 2025-04-13 17:48:14,824] Trial 101 finished with value: 0.5533020535751716 and parameters: {'booster_idx': 3, 'tree_method_idx': 1, 'grow_policy_idx': 2, 'eta': 0.29594241147785, 'gamma': 4.331499564491813, 'max_depth': 10, 'min_child_weight': 1.565424948800825, 'max_delta_step': 0.6751895717872782, 'subsample': 0.5851287695426052, 'lambda': 5.237499485257771, 'alpha': 0.03283205890956142, 'scale_pos_weight': 0.9984525740869914, 'max_leaves': 10, 'max_bin': 300}. Best is trial 48 with value: 0.5510180655574383.\n"
     ]
    },
    {
     "name": "stdout",
     "output_type": "stream",
     "text": [
      "Trial 101 - MAE: 0.5533020535751716\n",
      "\n",
      "Trial 102 parameters: {'booster': 'dart', 'tree_method': 'auto', 'grow_policy': 'lossguide', 'eta': 0.35477974808726614, 'gamma': 4.222197900474627, 'max_depth': 10, 'min_child_weight': 1.6353386640627967, 'max_delta_step': 0.6958727068081172, 'subsample': 0.41828493225220664, 'reg_lambda': 5.77198424206746, 'alpha': 0.028552571276012795, 'scale_pos_weight': 0.8317790306805579, 'max_leaves': 10, 'max_bin': 275, 'random_state': 42, 'eval_metric': 'mae', 'device': 'cuda'}\n"
     ]
    },
    {
     "name": "stderr",
     "output_type": "stream",
     "text": [
      "[I 2025-04-13 17:48:26,084] Trial 102 finished with value: 0.5518975221324115 and parameters: {'booster_idx': 3, 'tree_method_idx': 1, 'grow_policy_idx': 2, 'eta': 0.35477974808726614, 'gamma': 4.222197900474627, 'max_depth': 10, 'min_child_weight': 1.6353386640627967, 'max_delta_step': 0.6958727068081172, 'subsample': 0.41828493225220664, 'lambda': 5.77198424206746, 'alpha': 0.028552571276012795, 'scale_pos_weight': 0.8317790306805579, 'max_leaves': 10, 'max_bin': 275}. Best is trial 48 with value: 0.5510180655574383.\n"
     ]
    },
    {
     "name": "stdout",
     "output_type": "stream",
     "text": [
      "Trial 102 - MAE: 0.5518975221324115\n",
      "\n",
      "Trial 103 parameters: {'booster': 'dart', 'tree_method': 'auto', 'grow_policy': 'lossguide', 'eta': 0.3382189497939857, 'gamma': 4.456958826868051, 'max_depth': 10, 'min_child_weight': 1.346161985801305, 'max_delta_step': 0.6743133120324074, 'subsample': 0.4198166692252785, 'reg_lambda': 5.5252987665021145, 'alpha': 0.04783609486800615, 'scale_pos_weight': 0.8141330046097034, 'max_leaves': 10, 'max_bin': 275, 'random_state': 42, 'eval_metric': 'mae', 'device': 'cuda'}\n"
     ]
    },
    {
     "name": "stderr",
     "output_type": "stream",
     "text": [
      "[I 2025-04-13 17:48:36,907] Trial 103 finished with value: 0.5532218378580535 and parameters: {'booster_idx': 3, 'tree_method_idx': 1, 'grow_policy_idx': 2, 'eta': 0.3382189497939857, 'gamma': 4.456958826868051, 'max_depth': 10, 'min_child_weight': 1.346161985801305, 'max_delta_step': 0.6743133120324074, 'subsample': 0.4198166692252785, 'lambda': 5.5252987665021145, 'alpha': 0.04783609486800615, 'scale_pos_weight': 0.8141330046097034, 'max_leaves': 10, 'max_bin': 275}. Best is trial 48 with value: 0.5510180655574383.\n"
     ]
    },
    {
     "name": "stdout",
     "output_type": "stream",
     "text": [
      "Trial 103 - MAE: 0.5532218378580535\n",
      "\n",
      "Trial 104 parameters: {'booster': 'dart', 'tree_method': 'auto', 'grow_policy': 'lossguide', 'eta': 0.3334806923215096, 'gamma': 4.3650348855584555, 'max_depth': 10, 'min_child_weight': 1.4063442954979357, 'max_delta_step': 0.6576451345104145, 'subsample': 0.418638363885227, 'reg_lambda': 5.920600826368863, 'alpha': 0.05201451353651395, 'scale_pos_weight': 0.8084127118231721, 'max_leaves': 10, 'max_bin': 300, 'random_state': 42, 'eval_metric': 'mae', 'device': 'cuda'}\n"
     ]
    },
    {
     "name": "stderr",
     "output_type": "stream",
     "text": [
      "[I 2025-04-13 17:48:47,078] Trial 104 finished with value: 0.5535464318698811 and parameters: {'booster_idx': 3, 'tree_method_idx': 1, 'grow_policy_idx': 2, 'eta': 0.3334806923215096, 'gamma': 4.3650348855584555, 'max_depth': 10, 'min_child_weight': 1.4063442954979357, 'max_delta_step': 0.6576451345104145, 'subsample': 0.418638363885227, 'lambda': 5.920600826368863, 'alpha': 0.05201451353651395, 'scale_pos_weight': 0.8084127118231721, 'max_leaves': 10, 'max_bin': 300}. Best is trial 48 with value: 0.5510180655574383.\n"
     ]
    },
    {
     "name": "stdout",
     "output_type": "stream",
     "text": [
      "Trial 104 - MAE: 0.5535464318698811\n",
      "\n",
      "Trial 105 parameters: {'booster': 'dart', 'tree_method': 'auto', 'grow_policy': 'lossguide', 'eta': 0.2801699746163419, 'gamma': 4.929568687942927, 'max_depth': 9, 'min_child_weight': 1.2165423781231304, 'max_delta_step': 0.5195041740409708, 'subsample': 0.3743334493917538, 'reg_lambda': 2.453114306527591, 'alpha': 0.031948621195640285, 'scale_pos_weight': 1.3456344310925563, 'max_leaves': 10, 'max_bin': 275, 'random_state': 42, 'eval_metric': 'mae', 'device': 'cuda'}\n"
     ]
    },
    {
     "name": "stderr",
     "output_type": "stream",
     "text": [
      "[I 2025-04-13 17:48:57,758] Trial 105 finished with value: 0.5559315953166191 and parameters: {'booster_idx': 3, 'tree_method_idx': 1, 'grow_policy_idx': 2, 'eta': 0.2801699746163419, 'gamma': 4.929568687942927, 'max_depth': 9, 'min_child_weight': 1.2165423781231304, 'max_delta_step': 0.5195041740409708, 'subsample': 0.3743334493917538, 'lambda': 2.453114306527591, 'alpha': 0.031948621195640285, 'scale_pos_weight': 1.3456344310925563, 'max_leaves': 10, 'max_bin': 275}. Best is trial 48 with value: 0.5510180655574383.\n"
     ]
    },
    {
     "name": "stdout",
     "output_type": "stream",
     "text": [
      "Trial 105 - MAE: 0.5559315953166191\n",
      "\n",
      "Trial 106 parameters: {'booster': 'dart', 'tree_method': 'auto', 'grow_policy': 'lossguide', 'eta': 0.3645978019869498, 'gamma': 5.345389653195357, 'max_depth': 10, 'min_child_weight': 1.6064579278602698, 'max_delta_step': 0.4102983992676541, 'subsample': 0.4883888932498718, 'reg_lambda': 4.443935329321323, 'alpha': 0.03007577488045495, 'scale_pos_weight': 1.156032278081994, 'max_leaves': 9, 'max_bin': 325, 'random_state': 42, 'eval_metric': 'mae', 'device': 'cuda'}\n"
     ]
    },
    {
     "name": "stderr",
     "output_type": "stream",
     "text": [
      "[I 2025-04-13 17:49:08,439] Trial 106 finished with value: 0.5589087160862377 and parameters: {'booster_idx': 3, 'tree_method_idx': 1, 'grow_policy_idx': 2, 'eta': 0.3645978019869498, 'gamma': 5.345389653195357, 'max_depth': 10, 'min_child_weight': 1.6064579278602698, 'max_delta_step': 0.4102983992676541, 'subsample': 0.4883888932498718, 'lambda': 4.443935329321323, 'alpha': 0.03007577488045495, 'scale_pos_weight': 1.156032278081994, 'max_leaves': 9, 'max_bin': 325}. Best is trial 48 with value: 0.5510180655574383.\n"
     ]
    },
    {
     "name": "stdout",
     "output_type": "stream",
     "text": [
      "Trial 106 - MAE: 0.5589087160862377\n",
      "\n",
      "Trial 107 parameters: {'booster': 'dart', 'tree_method': 'auto', 'grow_policy': 'lossguide', 'eta': 0.12151216066738614, 'gamma': 4.6759248805997595, 'max_depth': 9, 'min_child_weight': 1.3133687013779902, 'max_delta_step': 0.6766567010307628, 'subsample': 0.44747224658973633, 'reg_lambda': 3.276553258597143, 'alpha': 0.02530890058467164, 'scale_pos_weight': 1.093411688351377, 'max_leaves': 10, 'max_bin': 350, 'random_state': 42, 'eval_metric': 'mae', 'device': 'cuda'}\n"
     ]
    },
    {
     "name": "stderr",
     "output_type": "stream",
     "text": [
      "[I 2025-04-13 17:49:18,908] Trial 107 finished with value: 0.5709426611488654 and parameters: {'booster_idx': 3, 'tree_method_idx': 1, 'grow_policy_idx': 2, 'eta': 0.12151216066738614, 'gamma': 4.6759248805997595, 'max_depth': 9, 'min_child_weight': 1.3133687013779902, 'max_delta_step': 0.6766567010307628, 'subsample': 0.44747224658973633, 'lambda': 3.276553258597143, 'alpha': 0.02530890058467164, 'scale_pos_weight': 1.093411688351377, 'max_leaves': 10, 'max_bin': 350}. Best is trial 48 with value: 0.5510180655574383.\n"
     ]
    },
    {
     "name": "stdout",
     "output_type": "stream",
     "text": [
      "Trial 107 - MAE: 0.5709426611488654\n",
      "\n",
      "Trial 108 parameters: {'booster': 'dart', 'tree_method': 'auto', 'grow_policy': 'lossguide', 'eta': 0.25313966663400667, 'gamma': 4.221013125582414, 'max_depth': 10, 'min_child_weight': 1.7047111234648393, 'max_delta_step': 1.5603215421905898, 'subsample': 0.46780717313616316, 'reg_lambda': 7.497262195193798, 'alpha': 0.08078783932764247, 'scale_pos_weight': 0.8579067150737761, 'max_leaves': 9, 'max_bin': 250, 'random_state': 42, 'eval_metric': 'mae', 'device': 'cuda'}\n"
     ]
    },
    {
     "name": "stderr",
     "output_type": "stream",
     "text": [
      "[I 2025-04-13 17:49:29,152] Trial 108 finished with value: 0.5590473066688239 and parameters: {'booster_idx': 3, 'tree_method_idx': 1, 'grow_policy_idx': 2, 'eta': 0.25313966663400667, 'gamma': 4.221013125582414, 'max_depth': 10, 'min_child_weight': 1.7047111234648393, 'max_delta_step': 1.5603215421905898, 'subsample': 0.46780717313616316, 'lambda': 7.497262195193798, 'alpha': 0.08078783932764247, 'scale_pos_weight': 0.8579067150737761, 'max_leaves': 9, 'max_bin': 250}. Best is trial 48 with value: 0.5510180655574383.\n"
     ]
    },
    {
     "name": "stdout",
     "output_type": "stream",
     "text": [
      "Trial 108 - MAE: 0.5590473066688239\n",
      "\n",
      "Trial 109 parameters: {'booster': 'dart', 'tree_method': 'auto', 'grow_policy': 'lossguide', 'eta': 0.19374792408343, 'gamma': 4.5372524856905985, 'max_depth': 10, 'min_child_weight': 1.3808837086172296, 'max_delta_step': 0.7801850941737412, 'subsample': 0.34948920954300655, 'reg_lambda': 1.6823861632186439, 'alpha': 0.045417148161165384, 'scale_pos_weight': 1.4934182121669446, 'max_leaves': 10, 'max_bin': 275, 'random_state': 42, 'eval_metric': 'mae', 'device': 'cuda'}\n"
     ]
    },
    {
     "name": "stderr",
     "output_type": "stream",
     "text": [
      "[I 2025-04-13 17:49:39,850] Trial 109 finished with value: 0.5606644667776096 and parameters: {'booster_idx': 3, 'tree_method_idx': 1, 'grow_policy_idx': 2, 'eta': 0.19374792408343, 'gamma': 4.5372524856905985, 'max_depth': 10, 'min_child_weight': 1.3808837086172296, 'max_delta_step': 0.7801850941737412, 'subsample': 0.34948920954300655, 'lambda': 1.6823861632186439, 'alpha': 0.045417148161165384, 'scale_pos_weight': 1.4934182121669446, 'max_leaves': 10, 'max_bin': 275}. Best is trial 48 with value: 0.5510180655574383.\n"
     ]
    },
    {
     "name": "stdout",
     "output_type": "stream",
     "text": [
      "Trial 109 - MAE: 0.5606644667776096\n",
      "\n",
      "Trial 110 parameters: {'booster': 'dart', 'tree_method': 'auto', 'grow_policy': 'lossguide', 'eta': 0.15247482240350674, 'gamma': 3.8678749919908086, 'max_depth': 11, 'min_child_weight': 1.887322735154737, 'max_delta_step': 0.2902631559628294, 'subsample': 0.42215750729048723, 'reg_lambda': 0.042215456125907776, 'alpha': 0.016547500688668663, 'scale_pos_weight': 1.241333504920798, 'max_leaves': 10, 'max_bin': 300, 'random_state': 42, 'eval_metric': 'mae', 'device': 'cuda'}\n"
     ]
    },
    {
     "name": "stderr",
     "output_type": "stream",
     "text": [
      "[I 2025-04-13 17:49:50,216] Trial 110 finished with value: 0.5647848118956763 and parameters: {'booster_idx': 3, 'tree_method_idx': 1, 'grow_policy_idx': 2, 'eta': 0.15247482240350674, 'gamma': 3.8678749919908086, 'max_depth': 11, 'min_child_weight': 1.887322735154737, 'max_delta_step': 0.2902631559628294, 'subsample': 0.42215750729048723, 'lambda': 0.042215456125907776, 'alpha': 0.016547500688668663, 'scale_pos_weight': 1.241333504920798, 'max_leaves': 10, 'max_bin': 300}. Best is trial 48 with value: 0.5510180655574383.\n"
     ]
    },
    {
     "name": "stdout",
     "output_type": "stream",
     "text": [
      "Trial 110 - MAE: 0.5647848118956763\n",
      "\n",
      "Trial 111 parameters: {'booster': 'dart', 'tree_method': 'auto', 'grow_policy': 'lossguide', 'eta': 0.4458510824210944, 'gamma': 4.983205296361738, 'max_depth': 11, 'min_child_weight': 1.3374583142210656, 'max_delta_step': 0.8336621220353272, 'subsample': 0.5556375949675458, 'reg_lambda': 5.692623588753038, 'alpha': 0.09002784181167596, 'scale_pos_weight': 0.5832872282266743, 'max_leaves': 10, 'max_bin': 275, 'random_state': 42, 'eval_metric': 'mae', 'device': 'cuda'}\n"
     ]
    },
    {
     "name": "stderr",
     "output_type": "stream",
     "text": [
      "[I 2025-04-13 17:50:00,830] Trial 111 finished with value: 0.5554539679088975 and parameters: {'booster_idx': 3, 'tree_method_idx': 1, 'grow_policy_idx': 2, 'eta': 0.4458510824210944, 'gamma': 4.983205296361738, 'max_depth': 11, 'min_child_weight': 1.3374583142210656, 'max_delta_step': 0.8336621220353272, 'subsample': 0.5556375949675458, 'lambda': 5.692623588753038, 'alpha': 0.09002784181167596, 'scale_pos_weight': 0.5832872282266743, 'max_leaves': 10, 'max_bin': 275}. Best is trial 48 with value: 0.5510180655574383.\n"
     ]
    },
    {
     "name": "stdout",
     "output_type": "stream",
     "text": [
      "Trial 111 - MAE: 0.5554539679088975\n",
      "\n",
      "Trial 112 parameters: {'booster': 'dart', 'tree_method': 'auto', 'grow_policy': 'lossguide', 'eta': 0.5166622730311655, 'gamma': 3.535029792021829, 'max_depth': 10, 'min_child_weight': 1.5999869622257359, 'max_delta_step': 0.96173502146928, 'subsample': 0.5177631718208512, 'reg_lambda': 9.091573197756762, 'alpha': 0.05343324094672008, 'scale_pos_weight': 0.6648658570359707, 'max_leaves': 10, 'max_bin': 275, 'random_state': 42, 'eval_metric': 'mae', 'device': 'cuda'}\n"
     ]
    },
    {
     "name": "stderr",
     "output_type": "stream",
     "text": [
      "[I 2025-04-13 17:50:11,278] Trial 112 finished with value: 0.5563796588300662 and parameters: {'booster_idx': 3, 'tree_method_idx': 1, 'grow_policy_idx': 2, 'eta': 0.5166622730311655, 'gamma': 3.535029792021829, 'max_depth': 10, 'min_child_weight': 1.5999869622257359, 'max_delta_step': 0.96173502146928, 'subsample': 0.5177631718208512, 'lambda': 9.091573197756762, 'alpha': 0.05343324094672008, 'scale_pos_weight': 0.6648658570359707, 'max_leaves': 10, 'max_bin': 275}. Best is trial 48 with value: 0.5510180655574383.\n"
     ]
    },
    {
     "name": "stdout",
     "output_type": "stream",
     "text": [
      "Trial 112 - MAE: 0.5563796588300662\n",
      "\n",
      "Trial 113 parameters: {'booster': 'dart', 'tree_method': 'auto', 'grow_policy': 'lossguide', 'eta': 0.5996924370724469, 'gamma': 2.605605513017318, 'max_depth': 11, 'min_child_weight': 1.1244636643864556, 'max_delta_step': 0.5216346148535524, 'subsample': 0.6753861479298044, 'reg_lambda': 3.7215122849239157, 'alpha': 0.14761169689127726, 'scale_pos_weight': 0.7853425235075877, 'max_leaves': 10, 'max_bin': 250, 'random_state': 42, 'eval_metric': 'mae', 'device': 'cuda'}\n"
     ]
    },
    {
     "name": "stderr",
     "output_type": "stream",
     "text": [
      "[I 2025-04-13 17:50:21,261] Trial 113 finished with value: 0.5530082363324144 and parameters: {'booster_idx': 3, 'tree_method_idx': 1, 'grow_policy_idx': 2, 'eta': 0.5996924370724469, 'gamma': 2.605605513017318, 'max_depth': 11, 'min_child_weight': 1.1244636643864556, 'max_delta_step': 0.5216346148535524, 'subsample': 0.6753861479298044, 'lambda': 3.7215122849239157, 'alpha': 0.14761169689127726, 'scale_pos_weight': 0.7853425235075877, 'max_leaves': 10, 'max_bin': 250}. Best is trial 48 with value: 0.5510180655574383.\n"
     ]
    },
    {
     "name": "stdout",
     "output_type": "stream",
     "text": [
      "Trial 113 - MAE: 0.5530082363324144\n",
      "\n",
      "Trial 114 parameters: {'booster': 'dart', 'tree_method': 'auto', 'grow_policy': 'lossguide', 'eta': 0.32684783396917516, 'gamma': 2.6755422257106365, 'max_depth': 4, 'min_child_weight': 1.0784652881624233, 'max_delta_step': 0.5041148115156717, 'subsample': 0.6737554043924552, 'reg_lambda': 4.185678323711867, 'alpha': 0.1404358110285049, 'scale_pos_weight': 0.7843321198691969, 'max_leaves': 10, 'max_bin': 250, 'random_state': 42, 'eval_metric': 'mae', 'device': 'cuda'}\n"
     ]
    },
    {
     "name": "stderr",
     "output_type": "stream",
     "text": [
      "[I 2025-04-13 17:50:31,114] Trial 114 finished with value: 0.5583785420952206 and parameters: {'booster_idx': 3, 'tree_method_idx': 1, 'grow_policy_idx': 2, 'eta': 0.32684783396917516, 'gamma': 2.6755422257106365, 'max_depth': 4, 'min_child_weight': 1.0784652881624233, 'max_delta_step': 0.5041148115156717, 'subsample': 0.6737554043924552, 'lambda': 4.185678323711867, 'alpha': 0.1404358110285049, 'scale_pos_weight': 0.7843321198691969, 'max_leaves': 10, 'max_bin': 250}. Best is trial 48 with value: 0.5510180655574383.\n"
     ]
    },
    {
     "name": "stdout",
     "output_type": "stream",
     "text": [
      "Trial 114 - MAE: 0.5583785420952206\n",
      "\n",
      "Trial 115 parameters: {'booster': 'dart', 'tree_method': 'auto', 'grow_policy': 'lossguide', 'eta': 0.6029009173407612, 'gamma': 5.652289818798823, 'max_depth': 10, 'min_child_weight': 1.1823889237771952, 'max_delta_step': 1.7911871341537031, 'subsample': 0.7618645829309885, 'reg_lambda': 2.956120411261797, 'alpha': 0.022603406435170725, 'scale_pos_weight': 4.448123933550865, 'max_leaves': 4, 'max_bin': 300, 'random_state': 42, 'eval_metric': 'mae', 'device': 'cuda'}\n"
     ]
    },
    {
     "name": "stderr",
     "output_type": "stream",
     "text": [
      "[I 2025-04-13 17:50:39,821] Trial 115 finished with value: 0.6393777614393736 and parameters: {'booster_idx': 3, 'tree_method_idx': 1, 'grow_policy_idx': 2, 'eta': 0.6029009173407612, 'gamma': 5.652289818798823, 'max_depth': 10, 'min_child_weight': 1.1823889237771952, 'max_delta_step': 1.7911871341537031, 'subsample': 0.7618645829309885, 'lambda': 2.956120411261797, 'alpha': 0.022603406435170725, 'scale_pos_weight': 4.448123933550865, 'max_leaves': 4, 'max_bin': 300}. Best is trial 48 with value: 0.5510180655574383.\n"
     ]
    },
    {
     "name": "stdout",
     "output_type": "stream",
     "text": [
      "Trial 115 - MAE: 0.6393777614393736\n",
      "\n",
      "Trial 116 parameters: {'booster': 'dart', 'tree_method': 'auto', 'grow_policy': 'lossguide', 'eta': 0.5969987507761613, 'gamma': 4.202271741326838, 'max_depth': 9, 'min_child_weight': 1.5008241784354477, 'max_delta_step': 0.5758254202407169, 'subsample': 0.3869082400876044, 'reg_lambda': 0.18078184971999964, 'alpha': 0.2338379588488191, 'scale_pos_weight': 1.0137702838888685, 'max_leaves': 10, 'max_bin': 250, 'random_state': 42, 'eval_metric': 'mae', 'device': 'cuda'}\n"
     ]
    },
    {
     "name": "stderr",
     "output_type": "stream",
     "text": [
      "[I 2025-04-13 17:50:49,610] Trial 116 finished with value: 0.5574161142888456 and parameters: {'booster_idx': 3, 'tree_method_idx': 1, 'grow_policy_idx': 2, 'eta': 0.5969987507761613, 'gamma': 4.202271741326838, 'max_depth': 9, 'min_child_weight': 1.5008241784354477, 'max_delta_step': 0.5758254202407169, 'subsample': 0.3869082400876044, 'lambda': 0.18078184971999964, 'alpha': 0.2338379588488191, 'scale_pos_weight': 1.0137702838888685, 'max_leaves': 10, 'max_bin': 250}. Best is trial 48 with value: 0.5510180655574383.\n"
     ]
    },
    {
     "name": "stdout",
     "output_type": "stream",
     "text": [
      "Trial 116 - MAE: 0.5574161142888456\n",
      "\n",
      "Trial 117 parameters: {'booster': 'dart', 'tree_method': 'auto', 'grow_policy': 'lossguide', 'eta': 0.49063486326715733, 'gamma': 2.4344056303323818, 'max_depth': 11, 'min_child_weight': 1.2512780315196044, 'max_delta_step': 0.4233424200095852, 'subsample': 0.44913367943092447, 'reg_lambda': 4.031287824676311, 'alpha': 0.3423454338785805, 'scale_pos_weight': 0.9145964867861067, 'max_leaves': 10, 'max_bin': 225, 'random_state': 42, 'eval_metric': 'mae', 'device': 'cuda'}\n"
     ]
    },
    {
     "name": "stderr",
     "output_type": "stream",
     "text": [
      "[I 2025-04-13 17:50:59,554] Trial 117 finished with value: 0.5552803450589471 and parameters: {'booster_idx': 3, 'tree_method_idx': 1, 'grow_policy_idx': 2, 'eta': 0.49063486326715733, 'gamma': 2.4344056303323818, 'max_depth': 11, 'min_child_weight': 1.2512780315196044, 'max_delta_step': 0.4233424200095852, 'subsample': 0.44913367943092447, 'lambda': 4.031287824676311, 'alpha': 0.3423454338785805, 'scale_pos_weight': 0.9145964867861067, 'max_leaves': 10, 'max_bin': 225}. Best is trial 48 with value: 0.5510180655574383.\n"
     ]
    },
    {
     "name": "stdout",
     "output_type": "stream",
     "text": [
      "Trial 117 - MAE: 0.5552803450589471\n",
      "\n",
      "Trial 118 parameters: {'booster': 'dart', 'tree_method': 'auto', 'grow_policy': 'lossguide', 'eta': 0.30046700729461134, 'gamma': 3.3731483687518984, 'max_depth': 10, 'min_child_weight': 1.395752689551737, 'max_delta_step': 0.7218309544815986, 'subsample': 0.6320740200134534, 'reg_lambda': 0.32584895040896017, 'alpha': 0.030127670917988025, 'scale_pos_weight': 1.1193994618500256, 'max_leaves': 9, 'max_bin': 300, 'random_state': 42, 'eval_metric': 'mae', 'device': 'cuda'}\n"
     ]
    },
    {
     "name": "stderr",
     "output_type": "stream",
     "text": [
      "[I 2025-04-13 17:51:09,493] Trial 118 finished with value: 0.5554277447609394 and parameters: {'booster_idx': 3, 'tree_method_idx': 1, 'grow_policy_idx': 2, 'eta': 0.30046700729461134, 'gamma': 3.3731483687518984, 'max_depth': 10, 'min_child_weight': 1.395752689551737, 'max_delta_step': 0.7218309544815986, 'subsample': 0.6320740200134534, 'lambda': 0.32584895040896017, 'alpha': 0.030127670917988025, 'scale_pos_weight': 1.1193994618500256, 'max_leaves': 9, 'max_bin': 300}. Best is trial 48 with value: 0.5510180655574383.\n"
     ]
    },
    {
     "name": "stdout",
     "output_type": "stream",
     "text": [
      "Trial 118 - MAE: 0.5554277447609394\n",
      "\n",
      "Trial 119 parameters: {'booster': 'gblinear', 'tree_method': 'auto', 'grow_policy': 'lossguide', 'eta': 0.2121186842717998, 'gamma': 6.809980039587432, 'max_depth': 12, 'min_child_weight': 1.6505661220890961, 'max_delta_step': 1.3160355876616607, 'subsample': 0.7594541711551679, 'reg_lambda': 1.1375279585427085, 'alpha': 0.18128913826694057, 'scale_pos_weight': 0.7161974861685074, 'max_leaves': 10, 'max_bin': 275, 'random_state': 42, 'eval_metric': 'mae', 'device': 'cuda'}\n"
     ]
    },
    {
     "name": "stderr",
     "output_type": "stream",
     "text": [
      "[I 2025-04-13 17:51:23,264] Trial 119 finished with value: 1.123238024663348 and parameters: {'booster_idx': 2, 'tree_method_idx': 1, 'grow_policy_idx': 2, 'eta': 0.2121186842717998, 'gamma': 6.809980039587432, 'max_depth': 12, 'min_child_weight': 1.6505661220890961, 'max_delta_step': 1.3160355876616607, 'subsample': 0.7594541711551679, 'lambda': 1.1375279585427085, 'alpha': 0.18128913826694057, 'scale_pos_weight': 0.7161974861685074, 'max_leaves': 10, 'max_bin': 275}. Best is trial 48 with value: 0.5510180655574383.\n"
     ]
    },
    {
     "name": "stdout",
     "output_type": "stream",
     "text": [
      "Trial 119 - MAE: 1.123238024663348\n",
      "\n",
      "Trial 120 parameters: {'booster': 'dart', 'tree_method': 'auto', 'grow_policy': 'lossguide', 'eta': 0.0011094574806781014, 'gamma': 3.9753203208740446, 'max_depth': 11, 'min_child_weight': 1.0260511678866153, 'max_delta_step': 0.3327699640797913, 'subsample': 0.48197097824487134, 'reg_lambda': 5.134192631306559, 'alpha': 0.10269151763976976, 'scale_pos_weight': 0.8351977075263636, 'max_leaves': 10, 'max_bin': 250, 'random_state': 42, 'eval_metric': 'mae', 'device': 'cuda'}\n"
     ]
    },
    {
     "name": "stderr",
     "output_type": "stream",
     "text": [
      "[I 2025-04-13 17:51:32,710] Trial 120 finished with value: 1.1740004512678943 and parameters: {'booster_idx': 3, 'tree_method_idx': 1, 'grow_policy_idx': 2, 'eta': 0.0011094574806781014, 'gamma': 3.9753203208740446, 'max_depth': 11, 'min_child_weight': 1.0260511678866153, 'max_delta_step': 0.3327699640797913, 'subsample': 0.48197097824487134, 'lambda': 5.134192631306559, 'alpha': 0.10269151763976976, 'scale_pos_weight': 0.8351977075263636, 'max_leaves': 10, 'max_bin': 250}. Best is trial 48 with value: 0.5510180655574383.\n"
     ]
    },
    {
     "name": "stdout",
     "output_type": "stream",
     "text": [
      "Trial 120 - MAE: 1.1740004512678943\n",
      "\n",
      "Trial 121 parameters: {'booster': 'dart', 'tree_method': 'auto', 'grow_policy': 'lossguide', 'eta': 0.3813208158639403, 'gamma': 2.979371752892907, 'max_depth': 11, 'min_child_weight': 4.495232703334405, 'max_delta_step': 1.0772791570353613, 'subsample': 0.6675162752709157, 'reg_lambda': 6.909704382291194, 'alpha': 0.0011630166815928564, 'scale_pos_weight': 0.6201527466946042, 'max_leaves': 10, 'max_bin': 275, 'random_state': 42, 'eval_metric': 'mae', 'device': 'cuda'}\n"
     ]
    },
    {
     "name": "stderr",
     "output_type": "stream",
     "text": [
      "[I 2025-04-13 17:51:42,950] Trial 121 finished with value: 0.5538520979987301 and parameters: {'booster_idx': 3, 'tree_method_idx': 1, 'grow_policy_idx': 2, 'eta': 0.3813208158639403, 'gamma': 2.979371752892907, 'max_depth': 11, 'min_child_weight': 4.495232703334405, 'max_delta_step': 1.0772791570353613, 'subsample': 0.6675162752709157, 'lambda': 6.909704382291194, 'alpha': 0.0011630166815928564, 'scale_pos_weight': 0.6201527466946042, 'max_leaves': 10, 'max_bin': 275}. Best is trial 48 with value: 0.5510180655574383.\n"
     ]
    },
    {
     "name": "stdout",
     "output_type": "stream",
     "text": [
      "Trial 121 - MAE: 0.5538520979987301\n",
      "\n",
      "Trial 122 parameters: {'booster': 'dart', 'tree_method': 'auto', 'grow_policy': 'lossguide', 'eta': 0.40282745430254646, 'gamma': 5.21117580500076, 'max_depth': 11, 'min_child_weight': 4.157334902373413, 'max_delta_step': 0.8484556765822944, 'subsample': 0.5911553234563176, 'reg_lambda': 8.346751778746613, 'alpha': 0.0014953284630554204, 'scale_pos_weight': 0.9168232303842876, 'max_leaves': 10, 'max_bin': 275, 'random_state': 42, 'eval_metric': 'mae', 'device': 'cuda'}\n"
     ]
    },
    {
     "name": "stderr",
     "output_type": "stream",
     "text": [
      "[I 2025-04-13 17:51:52,901] Trial 122 finished with value: 0.5539263013340923 and parameters: {'booster_idx': 3, 'tree_method_idx': 1, 'grow_policy_idx': 2, 'eta': 0.40282745430254646, 'gamma': 5.21117580500076, 'max_depth': 11, 'min_child_weight': 4.157334902373413, 'max_delta_step': 0.8484556765822944, 'subsample': 0.5911553234563176, 'lambda': 8.346751778746613, 'alpha': 0.0014953284630554204, 'scale_pos_weight': 0.9168232303842876, 'max_leaves': 10, 'max_bin': 275}. Best is trial 48 with value: 0.5510180655574383.\n"
     ]
    },
    {
     "name": "stdout",
     "output_type": "stream",
     "text": [
      "Trial 122 - MAE: 0.5539263013340923\n",
      "\n",
      "Trial 123 parameters: {'booster': 'dart', 'tree_method': 'auto', 'grow_policy': 'lossguide', 'eta': 0.3484336909479533, 'gamma': 3.0854432625372628, 'max_depth': 10, 'min_child_weight': 4.257091944435859, 'max_delta_step': 0.6282627608787552, 'subsample': 0.610173872715515, 'reg_lambda': 5.761769887723043, 'alpha': 0.0372575815462528, 'scale_pos_weight': 0.558452456563993, 'max_leaves': 10, 'max_bin': 300, 'random_state': 42, 'eval_metric': 'mae', 'device': 'cuda'}\n"
     ]
    },
    {
     "name": "stderr",
     "output_type": "stream",
     "text": [
      "[I 2025-04-13 17:52:03,232] Trial 123 finished with value: 0.5561289002898905 and parameters: {'booster_idx': 3, 'tree_method_idx': 1, 'grow_policy_idx': 2, 'eta': 0.3484336909479533, 'gamma': 3.0854432625372628, 'max_depth': 10, 'min_child_weight': 4.257091944435859, 'max_delta_step': 0.6282627608787552, 'subsample': 0.610173872715515, 'lambda': 5.761769887723043, 'alpha': 0.0372575815462528, 'scale_pos_weight': 0.558452456563993, 'max_leaves': 10, 'max_bin': 300}. Best is trial 48 with value: 0.5510180655574383.\n"
     ]
    },
    {
     "name": "stdout",
     "output_type": "stream",
     "text": [
      "Trial 123 - MAE: 0.5561289002898905\n",
      "\n",
      "Trial 124 parameters: {'booster': 'dart', 'tree_method': 'auto', 'grow_policy': 'lossguide', 'eta': 0.2920140747305749, 'gamma': 3.656975548727028, 'max_depth': 11, 'min_child_weight': 4.046006297504282, 'max_delta_step': 0.9108253485961519, 'subsample': 0.5725800675606022, 'reg_lambda': 0.026719017509623175, 'alpha': 0.012658670702251696, 'scale_pos_weight': 1.0183087302861702, 'max_leaves': 9, 'max_bin': 250, 'random_state': 42, 'eval_metric': 'mae', 'device': 'cuda'}\n"
     ]
    },
    {
     "name": "stderr",
     "output_type": "stream",
     "text": [
      "[I 2025-04-13 17:52:12,872] Trial 124 finished with value: 0.556598174845111 and parameters: {'booster_idx': 3, 'tree_method_idx': 1, 'grow_policy_idx': 2, 'eta': 0.2920140747305749, 'gamma': 3.656975548727028, 'max_depth': 11, 'min_child_weight': 4.046006297504282, 'max_delta_step': 0.9108253485961519, 'subsample': 0.5725800675606022, 'lambda': 0.026719017509623175, 'alpha': 0.012658670702251696, 'scale_pos_weight': 1.0183087302861702, 'max_leaves': 9, 'max_bin': 250}. Best is trial 48 with value: 0.5510180655574383.\n"
     ]
    },
    {
     "name": "stdout",
     "output_type": "stream",
     "text": [
      "Trial 124 - MAE: 0.556598174845111\n",
      "\n",
      "Trial 125 parameters: {'booster': 'dart', 'tree_method': 'auto', 'grow_policy': 'lossguide', 'eta': 0.43532939559005696, 'gamma': 2.3978049712448897, 'max_depth': 11, 'min_child_weight': 4.370712601740488, 'max_delta_step': 2.0475855286343867, 'subsample': 0.7179900493059359, 'reg_lambda': 3.8105641127189767, 'alpha': 0.001997229665399868, 'scale_pos_weight': 0.7385721581328951, 'max_leaves': 10, 'max_bin': 275, 'random_state': 42, 'eval_metric': 'mae', 'device': 'cuda'}\n"
     ]
    },
    {
     "name": "stderr",
     "output_type": "stream",
     "text": [
      "[I 2025-04-13 17:52:23,141] Trial 125 finished with value: 0.5537861074776352 and parameters: {'booster_idx': 3, 'tree_method_idx': 1, 'grow_policy_idx': 2, 'eta': 0.43532939559005696, 'gamma': 2.3978049712448897, 'max_depth': 11, 'min_child_weight': 4.370712601740488, 'max_delta_step': 2.0475855286343867, 'subsample': 0.7179900493059359, 'lambda': 3.8105641127189767, 'alpha': 0.001997229665399868, 'scale_pos_weight': 0.7385721581328951, 'max_leaves': 10, 'max_bin': 275}. Best is trial 48 with value: 0.5510180655574383.\n"
     ]
    },
    {
     "name": "stdout",
     "output_type": "stream",
     "text": [
      "Trial 125 - MAE: 0.5537861074776352\n",
      "\n",
      "Trial 126 parameters: {'booster': 'dart', 'tree_method': 'auto', 'grow_policy': 'lossguide', 'eta': 0.5237041638070747, 'gamma': 3.2795019617950087, 'max_depth': 10, 'min_child_weight': 1.1446373704899107, 'max_delta_step': 0.06060852828543806, 'subsample': 0.4998681415594492, 'reg_lambda': 0.001791278909022399, 'alpha': 0.007440641251763206, 'scale_pos_weight': 0.8417946611087679, 'max_leaves': 10, 'max_bin': 275, 'random_state': 42, 'eval_metric': 'mae', 'device': 'cuda'}\n"
     ]
    },
    {
     "name": "stderr",
     "output_type": "stream",
     "text": [
      "[I 2025-04-13 17:52:33,855] Trial 126 finished with value: 0.5551607938580562 and parameters: {'booster_idx': 3, 'tree_method_idx': 1, 'grow_policy_idx': 2, 'eta': 0.5237041638070747, 'gamma': 3.2795019617950087, 'max_depth': 10, 'min_child_weight': 1.1446373704899107, 'max_delta_step': 0.06060852828543806, 'subsample': 0.4998681415594492, 'lambda': 0.001791278909022399, 'alpha': 0.007440641251763206, 'scale_pos_weight': 0.8417946611087679, 'max_leaves': 10, 'max_bin': 275}. Best is trial 48 with value: 0.5510180655574383.\n"
     ]
    },
    {
     "name": "stdout",
     "output_type": "stream",
     "text": [
      "Trial 126 - MAE: 0.5551607938580562\n",
      "\n",
      "Trial 127 parameters: {'booster': 'dart', 'tree_method': 'auto', 'grow_policy': 'depthwise', 'eta': 0.2422475406859991, 'gamma': 4.311689561013062, 'max_depth': 12, 'min_child_weight': 4.683777397533205, 'max_delta_step': 0.987773431098976, 'subsample': 0.4086931032285115, 'reg_lambda': 4.853978130573899, 'alpha': 0.001282419250099084, 'scale_pos_weight': 3.908520627552856, 'max_leaves': 10, 'max_bin': 300, 'random_state': 42, 'eval_metric': 'mae', 'device': 'cuda'}\n"
     ]
    },
    {
     "name": "stderr",
     "output_type": "stream",
     "text": [
      "[I 2025-04-13 17:52:43,960] Trial 127 finished with value: 0.5968663929799951 and parameters: {'booster_idx': 3, 'tree_method_idx': 1, 'grow_policy_idx': 1, 'eta': 0.2422475406859991, 'gamma': 4.311689561013062, 'max_depth': 12, 'min_child_weight': 4.683777397533205, 'max_delta_step': 0.987773431098976, 'subsample': 0.4086931032285115, 'lambda': 4.853978130573899, 'alpha': 0.001282419250099084, 'scale_pos_weight': 3.908520627552856, 'max_leaves': 10, 'max_bin': 300}. Best is trial 48 with value: 0.5510180655574383.\n"
     ]
    },
    {
     "name": "stdout",
     "output_type": "stream",
     "text": [
      "Trial 127 - MAE: 0.5968663929799951\n",
      "\n",
      "Trial 128 parameters: {'booster': 'dart', 'tree_method': 'auto', 'grow_policy': 'lossguide', 'eta': 0.34334463752475963, 'gamma': 4.787679259667636, 'max_depth': 10, 'min_child_weight': 2.806541490700199, 'max_delta_step': 1.1636313635745807, 'subsample': 0.5370570659356328, 'reg_lambda': 0.05941045951985607, 'alpha': 0.005296402088564452, 'scale_pos_weight': 0.9452547880166785, 'max_leaves': 10, 'max_bin': 325, 'random_state': 42, 'eval_metric': 'mae', 'device': 'cuda'}\n"
     ]
    },
    {
     "name": "stderr",
     "output_type": "stream",
     "text": [
      "[I 2025-04-13 17:52:54,265] Trial 128 finished with value: 0.5533954981389176 and parameters: {'booster_idx': 3, 'tree_method_idx': 1, 'grow_policy_idx': 2, 'eta': 0.34334463752475963, 'gamma': 4.787679259667636, 'max_depth': 10, 'min_child_weight': 2.806541490700199, 'max_delta_step': 1.1636313635745807, 'subsample': 0.5370570659356328, 'lambda': 0.05941045951985607, 'alpha': 0.005296402088564452, 'scale_pos_weight': 0.9452547880166785, 'max_leaves': 10, 'max_bin': 325}. Best is trial 48 with value: 0.5510180655574383.\n"
     ]
    },
    {
     "name": "stdout",
     "output_type": "stream",
     "text": [
      "Trial 128 - MAE: 0.5533954981389176\n",
      "\n",
      "Trial 129 parameters: {'booster': 'dart', 'tree_method': 'auto', 'grow_policy': 'lossguide', 'eta': 0.34401047647029936, 'gamma': 4.580398364886314, 'max_depth': 9, 'min_child_weight': 1.2762888407597743, 'max_delta_step': 1.173883574466295, 'subsample': 0.5326121709339451, 'reg_lambda': 0.05127284540555831, 'alpha': 0.005005192851845885, 'scale_pos_weight': 1.2824945267995145, 'max_leaves': 9, 'max_bin': 325, 'random_state': 42, 'eval_metric': 'mae', 'device': 'cuda'}\n"
     ]
    },
    {
     "name": "stderr",
     "output_type": "stream",
     "text": [
      "[I 2025-04-13 17:53:04,474] Trial 129 finished with value: 0.555912436145934 and parameters: {'booster_idx': 3, 'tree_method_idx': 1, 'grow_policy_idx': 2, 'eta': 0.34401047647029936, 'gamma': 4.580398364886314, 'max_depth': 9, 'min_child_weight': 1.2762888407597743, 'max_delta_step': 1.173883574466295, 'subsample': 0.5326121709339451, 'lambda': 0.05127284540555831, 'alpha': 0.005005192851845885, 'scale_pos_weight': 1.2824945267995145, 'max_leaves': 9, 'max_bin': 325}. Best is trial 48 with value: 0.5510180655574383.\n"
     ]
    },
    {
     "name": "stdout",
     "output_type": "stream",
     "text": [
      "Trial 129 - MAE: 0.555912436145934\n",
      "\n",
      "Trial 130 parameters: {'booster': 'dart', 'tree_method': 'auto', 'grow_policy': 'lossguide', 'eta': 0.28049830808540127, 'gamma': 4.798917740464067, 'max_depth': 10, 'min_child_weight': 3.1718355027382876, 'max_delta_step': 1.3066230778672874, 'subsample': 0.45866957543782194, 'reg_lambda': 0.03718366575572518, 'alpha': 0.010320180996687255, 'scale_pos_weight': 1.1174952746882574, 'max_leaves': 10, 'max_bin': 325, 'random_state': 42, 'eval_metric': 'mae', 'device': 'cuda'}\n"
     ]
    },
    {
     "name": "stderr",
     "output_type": "stream",
     "text": [
      "[I 2025-04-13 17:53:14,649] Trial 130 finished with value: 0.5532594210961506 and parameters: {'booster_idx': 3, 'tree_method_idx': 1, 'grow_policy_idx': 2, 'eta': 0.28049830808540127, 'gamma': 4.798917740464067, 'max_depth': 10, 'min_child_weight': 3.1718355027382876, 'max_delta_step': 1.3066230778672874, 'subsample': 0.45866957543782194, 'lambda': 0.03718366575572518, 'alpha': 0.010320180996687255, 'scale_pos_weight': 1.1174952746882574, 'max_leaves': 10, 'max_bin': 325}. Best is trial 48 with value: 0.5510180655574383.\n"
     ]
    },
    {
     "name": "stdout",
     "output_type": "stream",
     "text": [
      "Trial 130 - MAE: 0.5532594210961506\n",
      "\n",
      "Trial 131 parameters: {'booster': 'dart', 'tree_method': 'auto', 'grow_policy': 'lossguide', 'eta': 0.2730999074515973, 'gamma': 4.788606518051416, 'max_depth': 10, 'min_child_weight': 2.6046518289583402, 'max_delta_step': 1.3716583071286548, 'subsample': 0.4720692402762274, 'reg_lambda': 0.08016653845665514, 'alpha': 0.005940426697738279, 'scale_pos_weight': 1.04610567679266, 'max_leaves': 10, 'max_bin': 325, 'random_state': 42, 'eval_metric': 'mae', 'device': 'cuda'}\n"
     ]
    },
    {
     "name": "stderr",
     "output_type": "stream",
     "text": [
      "[I 2025-04-13 17:53:24,969] Trial 131 finished with value: 0.5545462868098513 and parameters: {'booster_idx': 3, 'tree_method_idx': 1, 'grow_policy_idx': 2, 'eta': 0.2730999074515973, 'gamma': 4.788606518051416, 'max_depth': 10, 'min_child_weight': 2.6046518289583402, 'max_delta_step': 1.3716583071286548, 'subsample': 0.4720692402762274, 'lambda': 0.08016653845665514, 'alpha': 0.005940426697738279, 'scale_pos_weight': 1.04610567679266, 'max_leaves': 10, 'max_bin': 325}. Best is trial 48 with value: 0.5510180655574383.\n"
     ]
    },
    {
     "name": "stdout",
     "output_type": "stream",
     "text": [
      "Trial 131 - MAE: 0.5545462868098513\n",
      "\n",
      "Trial 132 parameters: {'booster': 'dart', 'tree_method': 'auto', 'grow_policy': 'lossguide', 'eta': 0.3199506703432585, 'gamma': 5.140077461899394, 'max_depth': 10, 'min_child_weight': 2.7681482357314127, 'max_delta_step': 1.5020533975213852, 'subsample': 0.4579671862769455, 'reg_lambda': 0.061613316935695, 'alpha': 0.010234948638195365, 'scale_pos_weight': 0.9425463407742338, 'max_leaves': 10, 'max_bin': 325, 'random_state': 42, 'eval_metric': 'mae', 'device': 'cuda'}\n"
     ]
    },
    {
     "name": "stderr",
     "output_type": "stream",
     "text": [
      "[I 2025-04-13 17:53:35,357] Trial 132 finished with value: 0.5533418125782028 and parameters: {'booster_idx': 3, 'tree_method_idx': 1, 'grow_policy_idx': 2, 'eta': 0.3199506703432585, 'gamma': 5.140077461899394, 'max_depth': 10, 'min_child_weight': 2.7681482357314127, 'max_delta_step': 1.5020533975213852, 'subsample': 0.4579671862769455, 'lambda': 0.061613316935695, 'alpha': 0.010234948638195365, 'scale_pos_weight': 0.9425463407742338, 'max_leaves': 10, 'max_bin': 325}. Best is trial 48 with value: 0.5510180655574383.\n"
     ]
    },
    {
     "name": "stdout",
     "output_type": "stream",
     "text": [
      "Trial 132 - MAE: 0.5533418125782028\n",
      "\n",
      "Trial 133 parameters: {'booster': 'dart', 'tree_method': 'auto', 'grow_policy': 'lossguide', 'eta': 0.4677799223719167, 'gamma': 6.5296154338926495, 'max_depth': 10, 'min_child_weight': 1.9887232025764878, 'max_delta_step': 1.8193162639517348, 'subsample': 0.4367510271027676, 'reg_lambda': 0.036461902152696624, 'alpha': 0.01883887539796487, 'scale_pos_weight': 1.1603241810799552, 'max_leaves': 10, 'max_bin': 375, 'random_state': 42, 'eval_metric': 'mae', 'device': 'cuda'}\n"
     ]
    },
    {
     "name": "stderr",
     "output_type": "stream",
     "text": [
      "[I 2025-04-13 17:53:45,668] Trial 133 finished with value: 0.5554624893763914 and parameters: {'booster_idx': 3, 'tree_method_idx': 1, 'grow_policy_idx': 2, 'eta': 0.4677799223719167, 'gamma': 6.5296154338926495, 'max_depth': 10, 'min_child_weight': 1.9887232025764878, 'max_delta_step': 1.8193162639517348, 'subsample': 0.4367510271027676, 'lambda': 0.036461902152696624, 'alpha': 0.01883887539796487, 'scale_pos_weight': 1.1603241810799552, 'max_leaves': 10, 'max_bin': 375}. Best is trial 48 with value: 0.5510180655574383.\n"
     ]
    },
    {
     "name": "stdout",
     "output_type": "stream",
     "text": [
      "Trial 133 - MAE: 0.5554624893763914\n",
      "\n",
      "Trial 134 parameters: {'booster': 'dart', 'tree_method': 'auto', 'grow_policy': 'lossguide', 'eta': 0.218951398783787, 'gamma': 6.0794509940508, 'max_depth': 10, 'min_child_weight': 1.5319735403389165, 'max_delta_step': 1.5195438966883095, 'subsample': 0.4595213181882872, 'reg_lambda': 0.020422775667933962, 'alpha': 0.008405810998229062, 'scale_pos_weight': 0.7867241186762037, 'max_leaves': 10, 'max_bin': 350, 'random_state': 42, 'eval_metric': 'mae', 'device': 'cuda'}\n"
     ]
    },
    {
     "name": "stderr",
     "output_type": "stream",
     "text": [
      "[I 2025-04-13 17:53:55,938] Trial 134 finished with value: 0.558844798671857 and parameters: {'booster_idx': 3, 'tree_method_idx': 1, 'grow_policy_idx': 2, 'eta': 0.218951398783787, 'gamma': 6.0794509940508, 'max_depth': 10, 'min_child_weight': 1.5319735403389165, 'max_delta_step': 1.5195438966883095, 'subsample': 0.4595213181882872, 'lambda': 0.020422775667933962, 'alpha': 0.008405810998229062, 'scale_pos_weight': 0.7867241186762037, 'max_leaves': 10, 'max_bin': 350}. Best is trial 48 with value: 0.5510180655574383.\n"
     ]
    },
    {
     "name": "stdout",
     "output_type": "stream",
     "text": [
      "Trial 134 - MAE: 0.558844798671857\n",
      "\n",
      "Trial 135 parameters: {'booster': 'dart', 'tree_method': 'auto', 'grow_policy': 'lossguide', 'eta': 0.2985885285649832, 'gamma': 3.842666406506477, 'max_depth': 9, 'min_child_weight': 2.3322772631454907, 'max_delta_step': 1.2841800675862236, 'subsample': 0.4860297449837218, 'reg_lambda': 0.06531979264015574, 'alpha': 0.01599350640296815, 'scale_pos_weight': 0.9756974730015054, 'max_leaves': 10, 'max_bin': 300, 'random_state': 42, 'eval_metric': 'mae', 'device': 'cuda'}\n"
     ]
    },
    {
     "name": "stderr",
     "output_type": "stream",
     "text": [
      "[I 2025-04-13 17:54:06,345] Trial 135 finished with value: 0.55276678451502 and parameters: {'booster_idx': 3, 'tree_method_idx': 1, 'grow_policy_idx': 2, 'eta': 0.2985885285649832, 'gamma': 3.842666406506477, 'max_depth': 9, 'min_child_weight': 2.3322772631454907, 'max_delta_step': 1.2841800675862236, 'subsample': 0.4860297449837218, 'lambda': 0.06531979264015574, 'alpha': 0.01599350640296815, 'scale_pos_weight': 0.9756974730015054, 'max_leaves': 10, 'max_bin': 300}. Best is trial 48 with value: 0.5510180655574383.\n"
     ]
    },
    {
     "name": "stdout",
     "output_type": "stream",
     "text": [
      "Trial 135 - MAE: 0.55276678451502\n",
      "\n",
      "Trial 136 parameters: {'booster': 'dart', 'tree_method': 'auto', 'grow_policy': 'lossguide', 'eta': 0.011136075551096388, 'gamma': 3.893106907933857, 'max_depth': 9, 'min_child_weight': 2.109419052199405, 'max_delta_step': 0.5557263495229285, 'subsample': 0.48945004427944644, 'reg_lambda': 0.04611952197124903, 'alpha': 0.016985497033837744, 'scale_pos_weight': 1.079263779719687, 'max_leaves': 10, 'max_bin': 300, 'random_state': 42, 'eval_metric': 'mae', 'device': 'cuda'}\n"
     ]
    },
    {
     "name": "stderr",
     "output_type": "stream",
     "text": [
      "[I 2025-04-13 17:54:16,144] Trial 136 finished with value: 0.8721367263671753 and parameters: {'booster_idx': 3, 'tree_method_idx': 1, 'grow_policy_idx': 2, 'eta': 0.011136075551096388, 'gamma': 3.893106907933857, 'max_depth': 9, 'min_child_weight': 2.109419052199405, 'max_delta_step': 0.5557263495229285, 'subsample': 0.48945004427944644, 'lambda': 0.04611952197124903, 'alpha': 0.016985497033837744, 'scale_pos_weight': 1.079263779719687, 'max_leaves': 10, 'max_bin': 300}. Best is trial 48 with value: 0.5510180655574383.\n"
     ]
    },
    {
     "name": "stdout",
     "output_type": "stream",
     "text": [
      "Trial 136 - MAE: 0.8721367263671753\n",
      "\n",
      "Trial 137 parameters: {'booster': 'dart', 'tree_method': 'auto', 'grow_policy': 'lossguide', 'eta': 0.2821198235813486, 'gamma': 4.120542324762922, 'max_depth': 9, 'min_child_weight': 2.36553712417272, 'max_delta_step': 1.2730780082785111, 'subsample': 0.5107368030203707, 'reg_lambda': 0.12727537846694073, 'alpha': 0.026597342417609672, 'scale_pos_weight': 0.8843716343637933, 'max_leaves': 6, 'max_bin': 300, 'random_state': 42, 'eval_metric': 'mae', 'device': 'cuda'}\n"
     ]
    },
    {
     "name": "stderr",
     "output_type": "stream",
     "text": [
      "[I 2025-04-13 17:54:25,502] Trial 137 finished with value: 0.572312824724766 and parameters: {'booster_idx': 3, 'tree_method_idx': 1, 'grow_policy_idx': 2, 'eta': 0.2821198235813486, 'gamma': 4.120542324762922, 'max_depth': 9, 'min_child_weight': 2.36553712417272, 'max_delta_step': 1.2730780082785111, 'subsample': 0.5107368030203707, 'lambda': 0.12727537846694073, 'alpha': 0.026597342417609672, 'scale_pos_weight': 0.8843716343637933, 'max_leaves': 6, 'max_bin': 300}. Best is trial 48 with value: 0.5510180655574383.\n"
     ]
    },
    {
     "name": "stdout",
     "output_type": "stream",
     "text": [
      "Trial 137 - MAE: 0.572312824724766\n",
      "\n",
      "Trial 138 parameters: {'booster': 'dart', 'tree_method': 'auto', 'grow_policy': 'lossguide', 'eta': 0.3722798918873748, 'gamma': 4.381742630645546, 'max_depth': 10, 'min_child_weight': 4.541097956751832, 'max_delta_step': 0.7448254876773545, 'subsample': 0.42676088119872835, 'reg_lambda': 0.0729441943593376, 'alpha': 0.013371839857769111, 'scale_pos_weight': 1.2095480022575766, 'max_leaves': 9, 'max_bin': 125, 'random_state': 42, 'eval_metric': 'mae', 'device': 'cuda'}\n"
     ]
    },
    {
     "name": "stderr",
     "output_type": "stream",
     "text": [
      "[I 2025-04-13 17:54:35,157] Trial 138 finished with value: 0.5579385869573821 and parameters: {'booster_idx': 3, 'tree_method_idx': 1, 'grow_policy_idx': 2, 'eta': 0.3722798918873748, 'gamma': 4.381742630645546, 'max_depth': 10, 'min_child_weight': 4.541097956751832, 'max_delta_step': 0.7448254876773545, 'subsample': 0.42676088119872835, 'lambda': 0.0729441943593376, 'alpha': 0.013371839857769111, 'scale_pos_weight': 1.2095480022575766, 'max_leaves': 9, 'max_bin': 125}. Best is trial 48 with value: 0.5510180655574383.\n"
     ]
    },
    {
     "name": "stdout",
     "output_type": "stream",
     "text": [
      "Trial 138 - MAE: 0.5579385869573821\n",
      "\n",
      "Trial 139 parameters: {'booster': 'dart', 'tree_method': 'auto', 'grow_policy': 'lossguide', 'eta': 0.23631929112242492, 'gamma': 3.605363501733566, 'max_depth': 9, 'min_child_weight': 4.324644266845578, 'max_delta_step': 1.0231124755939265, 'subsample': 0.4058437129625093, 'reg_lambda': 0.10699997533119959, 'alpha': 0.06661856900421605, 'scale_pos_weight': 1.3612690331059345, 'max_leaves': 10, 'max_bin': 250, 'random_state': 42, 'eval_metric': 'mae', 'device': 'cuda'}\n"
     ]
    },
    {
     "name": "stderr",
     "output_type": "stream",
     "text": [
      "[I 2025-04-13 17:54:45,137] Trial 139 finished with value: 0.5550941765205306 and parameters: {'booster_idx': 3, 'tree_method_idx': 1, 'grow_policy_idx': 2, 'eta': 0.23631929112242492, 'gamma': 3.605363501733566, 'max_depth': 9, 'min_child_weight': 4.324644266845578, 'max_delta_step': 1.0231124755939265, 'subsample': 0.4058437129625093, 'lambda': 0.10699997533119959, 'alpha': 0.06661856900421605, 'scale_pos_weight': 1.3612690331059345, 'max_leaves': 10, 'max_bin': 250}. Best is trial 48 with value: 0.5510180655574383.\n"
     ]
    },
    {
     "name": "stdout",
     "output_type": "stream",
     "text": [
      "Trial 139 - MAE: 0.5550941765205306\n",
      "\n",
      "Trial 140 parameters: {'booster': 'dart', 'tree_method': 'auto', 'grow_policy': 'lossguide', 'eta': 0.5711737328365837, 'gamma': 5.733836826409384, 'max_depth': 9, 'min_child_weight': 1.3960353202708713, 'max_delta_step': 1.6390008146111994, 'subsample': 0.4807123253404393, 'reg_lambda': 0.0277843256373916, 'alpha': 0.04465664607545035, 'scale_pos_weight': 1.0100652819248968, 'max_leaves': 2, 'max_bin': 275, 'random_state': 42, 'eval_metric': 'mae', 'device': 'cuda'}\n"
     ]
    },
    {
     "name": "stderr",
     "output_type": "stream",
     "text": [
      "[I 2025-04-13 17:54:52,978] Trial 140 finished with value: 0.6488237035915213 and parameters: {'booster_idx': 3, 'tree_method_idx': 1, 'grow_policy_idx': 2, 'eta': 0.5711737328365837, 'gamma': 5.733836826409384, 'max_depth': 9, 'min_child_weight': 1.3960353202708713, 'max_delta_step': 1.6390008146111994, 'subsample': 0.4807123253404393, 'lambda': 0.0277843256373916, 'alpha': 0.04465664607545035, 'scale_pos_weight': 1.0100652819248968, 'max_leaves': 2, 'max_bin': 275}. Best is trial 48 with value: 0.5510180655574383.\n"
     ]
    },
    {
     "name": "stdout",
     "output_type": "stream",
     "text": [
      "Trial 140 - MAE: 0.6488237035915213\n",
      "\n",
      "Trial 141 parameters: {'booster': 'dart', 'tree_method': 'auto', 'grow_policy': 'lossguide', 'eta': 0.30851646322853077, 'gamma': 7.025596323546969, 'max_depth': 10, 'min_child_weight': 3.2237118235202553, 'max_delta_step': 1.4455300765520824, 'subsample': 0.4505142140116184, 'reg_lambda': 0.08805640162051143, 'alpha': 0.009065789145811522, 'scale_pos_weight': 0.9322206977123202, 'max_leaves': 10, 'max_bin': 325, 'random_state': 42, 'eval_metric': 'mae', 'device': 'cuda'}\n"
     ]
    },
    {
     "name": "stderr",
     "output_type": "stream",
     "text": [
      "[I 2025-04-13 17:55:03,461] Trial 141 finished with value: 0.5532386058697024 and parameters: {'booster_idx': 3, 'tree_method_idx': 1, 'grow_policy_idx': 2, 'eta': 0.30851646322853077, 'gamma': 7.025596323546969, 'max_depth': 10, 'min_child_weight': 3.2237118235202553, 'max_delta_step': 1.4455300765520824, 'subsample': 0.4505142140116184, 'lambda': 0.08805640162051143, 'alpha': 0.009065789145811522, 'scale_pos_weight': 0.9322206977123202, 'max_leaves': 10, 'max_bin': 325}. Best is trial 48 with value: 0.5510180655574383.\n"
     ]
    },
    {
     "name": "stdout",
     "output_type": "stream",
     "text": [
      "Trial 141 - MAE: 0.5532386058697024\n",
      "\n",
      "Trial 142 parameters: {'booster': 'dart', 'tree_method': 'auto', 'grow_policy': 'lossguide', 'eta': 0.40904652734087216, 'gamma': 3.787660710575451, 'max_depth': 10, 'min_child_weight': 3.444879839383945, 'max_delta_step': 1.4456774776040096, 'subsample': 0.44348941579188716, 'reg_lambda': 0.08528055102805014, 'alpha': 0.022286380235327263, 'scale_pos_weight': 0.6865144029579282, 'max_leaves': 10, 'max_bin': 300, 'random_state': 42, 'eval_metric': 'mae', 'device': 'cuda'}\n"
     ]
    },
    {
     "name": "stderr",
     "output_type": "stream",
     "text": [
      "[I 2025-04-13 17:55:13,668] Trial 142 finished with value: 0.5543295488004479 and parameters: {'booster_idx': 3, 'tree_method_idx': 1, 'grow_policy_idx': 2, 'eta': 0.40904652734087216, 'gamma': 3.787660710575451, 'max_depth': 10, 'min_child_weight': 3.444879839383945, 'max_delta_step': 1.4456774776040096, 'subsample': 0.44348941579188716, 'lambda': 0.08528055102805014, 'alpha': 0.022286380235327263, 'scale_pos_weight': 0.6865144029579282, 'max_leaves': 10, 'max_bin': 300}. Best is trial 48 with value: 0.5510180655574383.\n"
     ]
    },
    {
     "name": "stdout",
     "output_type": "stream",
     "text": [
      "Trial 142 - MAE: 0.5543295488004479\n",
      "\n",
      "Trial 143 parameters: {'booster': 'dart', 'tree_method': 'auto', 'grow_policy': 'lossguide', 'eta': 0.29291084948247054, 'gamma': 6.992629243606146, 'max_depth': 10, 'min_child_weight': 3.2777271074765952, 'max_delta_step': 0.4760405742511305, 'subsample': 0.4203534099512829, 'reg_lambda': 0.04076970499388737, 'alpha': 0.01665165498296854, 'scale_pos_weight': 0.8104170654346028, 'max_leaves': 10, 'max_bin': 300, 'random_state': 42, 'eval_metric': 'mae', 'device': 'cuda'}\n"
     ]
    },
    {
     "name": "stderr",
     "output_type": "stream",
     "text": [
      "[I 2025-04-13 17:55:23,925] Trial 143 finished with value: 0.555955378325364 and parameters: {'booster_idx': 3, 'tree_method_idx': 1, 'grow_policy_idx': 2, 'eta': 0.29291084948247054, 'gamma': 6.992629243606146, 'max_depth': 10, 'min_child_weight': 3.2777271074765952, 'max_delta_step': 0.4760405742511305, 'subsample': 0.4203534099512829, 'lambda': 0.04076970499388737, 'alpha': 0.01665165498296854, 'scale_pos_weight': 0.8104170654346028, 'max_leaves': 10, 'max_bin': 300}. Best is trial 48 with value: 0.5510180655574383.\n"
     ]
    },
    {
     "name": "stdout",
     "output_type": "stream",
     "text": [
      "Trial 143 - MAE: 0.555955378325364\n",
      "\n",
      "Trial 144 parameters: {'booster': 'dart', 'tree_method': 'auto', 'grow_policy': 'lossguide', 'eta': 0.26274047810230955, 'gamma': 7.134237724946281, 'max_depth': 11, 'min_child_weight': 3.1715747678878574, 'max_delta_step': 1.304785297898772, 'subsample': 0.49560520254577745, 'reg_lambda': 0.03425793080201618, 'alpha': 0.010696950681971082, 'scale_pos_weight': 2.256758551432605, 'max_leaves': 10, 'max_bin': 275, 'random_state': 42, 'eval_metric': 'mae', 'device': 'cuda'}\n"
     ]
    },
    {
     "name": "stderr",
     "output_type": "stream",
     "text": [
      "[I 2025-04-13 17:55:34,320] Trial 144 finished with value: 0.5636163580158035 and parameters: {'booster_idx': 3, 'tree_method_idx': 1, 'grow_policy_idx': 2, 'eta': 0.26274047810230955, 'gamma': 7.134237724946281, 'max_depth': 11, 'min_child_weight': 3.1715747678878574, 'max_delta_step': 1.304785297898772, 'subsample': 0.49560520254577745, 'lambda': 0.03425793080201618, 'alpha': 0.010696950681971082, 'scale_pos_weight': 2.256758551432605, 'max_leaves': 10, 'max_bin': 275}. Best is trial 48 with value: 0.5510180655574383.\n"
     ]
    },
    {
     "name": "stdout",
     "output_type": "stream",
     "text": [
      "Trial 144 - MAE: 0.5636163580158035\n",
      "\n",
      "Trial 145 parameters: {'booster': 'dart', 'tree_method': 'auto', 'grow_policy': 'lossguide', 'eta': 0.1716005833330779, 'gamma': 7.498155191373862, 'max_depth': 10, 'min_child_weight': 1.231858184223613, 'max_delta_step': 1.0930272171567794, 'subsample': 0.47293347097747857, 'reg_lambda': 0.004132891211236102, 'alpha': 0.03464705856676954, 'scale_pos_weight': 1.146267454981198, 'max_leaves': 10, 'max_bin': 325, 'random_state': 42, 'eval_metric': 'mae', 'device': 'cuda'}\n"
     ]
    },
    {
     "name": "stderr",
     "output_type": "stream",
     "text": [
      "[I 2025-04-13 17:55:44,422] Trial 145 finished with value: 0.5615944291104984 and parameters: {'booster_idx': 3, 'tree_method_idx': 1, 'grow_policy_idx': 2, 'eta': 0.1716005833330779, 'gamma': 7.498155191373862, 'max_depth': 10, 'min_child_weight': 1.231858184223613, 'max_delta_step': 1.0930272171567794, 'subsample': 0.47293347097747857, 'lambda': 0.004132891211236102, 'alpha': 0.03464705856676954, 'scale_pos_weight': 1.146267454981198, 'max_leaves': 10, 'max_bin': 325}. Best is trial 48 with value: 0.5510180655574383.\n"
     ]
    },
    {
     "name": "stdout",
     "output_type": "stream",
     "text": [
      "Trial 145 - MAE: 0.5615944291104984\n",
      "\n",
      "Trial 146 parameters: {'booster': 'dart', 'tree_method': 'auto', 'grow_policy': 'lossguide', 'eta': 0.44121785414218784, 'gamma': 2.837618043770221, 'max_depth': 10, 'min_child_weight': 3.360188152238426, 'max_delta_step': 1.6304668508648894, 'subsample': 0.45542166595108124, 'reg_lambda': 0.007330019893319208, 'alpha': 0.014459506337561004, 'scale_pos_weight': 0.9148984869672021, 'max_leaves': 10, 'max_bin': 275, 'random_state': 42, 'eval_metric': 'mae', 'device': 'cuda'}\n"
     ]
    },
    {
     "name": "stderr",
     "output_type": "stream",
     "text": [
      "[I 2025-04-13 17:55:54,540] Trial 146 finished with value: 0.5515038375678227 and parameters: {'booster_idx': 3, 'tree_method_idx': 1, 'grow_policy_idx': 2, 'eta': 0.44121785414218784, 'gamma': 2.837618043770221, 'max_depth': 10, 'min_child_weight': 3.360188152238426, 'max_delta_step': 1.6304668508648894, 'subsample': 0.45542166595108124, 'lambda': 0.007330019893319208, 'alpha': 0.014459506337561004, 'scale_pos_weight': 0.9148984869672021, 'max_leaves': 10, 'max_bin': 275}. Best is trial 48 with value: 0.5510180655574383.\n"
     ]
    },
    {
     "name": "stdout",
     "output_type": "stream",
     "text": [
      "Trial 146 - MAE: 0.5515038375678227\n",
      "\n",
      "Trial 147 parameters: {'booster': 'dart', 'tree_method': 'auto', 'grow_policy': 'lossguide', 'eta': 0.48597872318409174, 'gamma': 1.6998378054256404, 'max_depth': 10, 'min_child_weight': 3.2706472903226422, 'max_delta_step': 2.2842577501011654, 'subsample': 0.39110563976194046, 'reg_lambda': 0.007869395786010376, 'alpha': 0.013988136141839884, 'scale_pos_weight': 1.0191773230449637, 'max_leaves': 10, 'max_bin': 250, 'random_state': 42, 'eval_metric': 'mae', 'device': 'cuda'}\n"
     ]
    },
    {
     "name": "stderr",
     "output_type": "stream",
     "text": [
      "[I 2025-04-13 17:56:04,705] Trial 147 finished with value: 0.5552795390729066 and parameters: {'booster_idx': 3, 'tree_method_idx': 1, 'grow_policy_idx': 2, 'eta': 0.48597872318409174, 'gamma': 1.6998378054256404, 'max_depth': 10, 'min_child_weight': 3.2706472903226422, 'max_delta_step': 2.2842577501011654, 'subsample': 0.39110563976194046, 'lambda': 0.007869395786010376, 'alpha': 0.013988136141839884, 'scale_pos_weight': 1.0191773230449637, 'max_leaves': 10, 'max_bin': 250}. Best is trial 48 with value: 0.5510180655574383.\n"
     ]
    },
    {
     "name": "stdout",
     "output_type": "stream",
     "text": [
      "Trial 147 - MAE: 0.5552795390729066\n",
      "\n",
      "Trial 148 parameters: {'booster': 'dart', 'tree_method': 'auto', 'grow_policy': 'lossguide', 'eta': 0.39098040654401084, 'gamma': 2.908766022130336, 'max_depth': 10, 'min_child_weight': 3.159760039079446, 'max_delta_step': 1.9800256013030602, 'subsample': 0.43465926169870894, 'reg_lambda': 0.0022747723173120404, 'alpha': 0.028300824290573078, 'scale_pos_weight': 0.8663760466488757, 'max_leaves': 10, 'max_bin': 350, 'random_state': 42, 'eval_metric': 'mae', 'device': 'cuda'}\n"
     ]
    },
    {
     "name": "stderr",
     "output_type": "stream",
     "text": [
      "[I 2025-04-13 17:56:14,941] Trial 148 finished with value: 0.5533780541442943 and parameters: {'booster_idx': 3, 'tree_method_idx': 1, 'grow_policy_idx': 2, 'eta': 0.39098040654401084, 'gamma': 2.908766022130336, 'max_depth': 10, 'min_child_weight': 3.159760039079446, 'max_delta_step': 1.9800256013030602, 'subsample': 0.43465926169870894, 'lambda': 0.0022747723173120404, 'alpha': 0.028300824290573078, 'scale_pos_weight': 0.8663760466488757, 'max_leaves': 10, 'max_bin': 350}. Best is trial 48 with value: 0.5510180655574383.\n"
     ]
    },
    {
     "name": "stdout",
     "output_type": "stream",
     "text": [
      "Trial 148 - MAE: 0.5533780541442943\n",
      "\n",
      "Trial 149 parameters: {'booster': 'dart', 'tree_method': 'auto', 'grow_policy': 'lossguide', 'eta': 0.6978616172735282, 'gamma': 3.4085041945673398, 'max_depth': 10, 'min_child_weight': 2.9952440237667948, 'max_delta_step': 1.6101361674411607, 'subsample': 0.5204106487667995, 'reg_lambda': 0.005732451605775987, 'alpha': 0.019941803754716006, 'scale_pos_weight': 0.7220988026499975, 'max_leaves': 9, 'max_bin': 300, 'random_state': 42, 'eval_metric': 'mae', 'device': 'cuda'}\n"
     ]
    },
    {
     "name": "stderr",
     "output_type": "stream",
     "text": [
      "[I 2025-04-13 17:56:24,906] Trial 149 finished with value: 0.5602497096914192 and parameters: {'booster_idx': 3, 'tree_method_idx': 1, 'grow_policy_idx': 2, 'eta': 0.6978616172735282, 'gamma': 3.4085041945673398, 'max_depth': 10, 'min_child_weight': 2.9952440237667948, 'max_delta_step': 1.6101361674411607, 'subsample': 0.5204106487667995, 'lambda': 0.005732451605775987, 'alpha': 0.019941803754716006, 'scale_pos_weight': 0.7220988026499975, 'max_leaves': 9, 'max_bin': 300}. Best is trial 48 with value: 0.5510180655574383.\n"
     ]
    },
    {
     "name": "stdout",
     "output_type": "stream",
     "text": [
      "Trial 149 - MAE: 0.5602497096914192\n",
      "\n",
      "Trial 150 parameters: {'booster': 'dart', 'tree_method': 'auto', 'grow_policy': 'lossguide', 'eta': 0.42840693000119484, 'gamma': 3.2165699605137874, 'max_depth': 9, 'min_child_weight': 2.9050752610888537, 'max_delta_step': 0.6484434398585418, 'subsample': 0.372936738854133, 'reg_lambda': 0.16906186022587844, 'alpha': 0.010126946928668551, 'scale_pos_weight': 0.6306945428263573, 'max_leaves': 10, 'max_bin': 275, 'random_state': 42, 'eval_metric': 'mae', 'device': 'cuda'}\n"
     ]
    },
    {
     "name": "stderr",
     "output_type": "stream",
     "text": [
      "[I 2025-04-13 17:56:35,359] Trial 150 finished with value: 0.5539389352985857 and parameters: {'booster_idx': 3, 'tree_method_idx': 1, 'grow_policy_idx': 2, 'eta': 0.42840693000119484, 'gamma': 3.2165699605137874, 'max_depth': 9, 'min_child_weight': 2.9050752610888537, 'max_delta_step': 0.6484434398585418, 'subsample': 0.372936738854133, 'lambda': 0.16906186022587844, 'alpha': 0.010126946928668551, 'scale_pos_weight': 0.6306945428263573, 'max_leaves': 10, 'max_bin': 275}. Best is trial 48 with value: 0.5510180655574383.\n"
     ]
    },
    {
     "name": "stdout",
     "output_type": "stream",
     "text": [
      "Trial 150 - MAE: 0.5539389352985857\n",
      "\n",
      "Trial 151 parameters: {'booster': 'dart', 'tree_method': 'auto', 'grow_policy': 'lossguide', 'eta': 0.31364145193753, 'gamma': 4.517064185262672, 'max_depth': 11, 'min_child_weight': 4.452767864178938, 'max_delta_step': 1.4007972106219373, 'subsample': 0.4623443861610134, 'reg_lambda': 5.707313262674287, 'alpha': 0.008408234187675494, 'scale_pos_weight': 0.94803203038203, 'max_leaves': 10, 'max_bin': 150, 'random_state': 42, 'eval_metric': 'mae', 'device': 'cuda'}\n"
     ]
    },
    {
     "name": "stderr",
     "output_type": "stream",
     "text": [
      "[I 2025-04-13 17:56:45,136] Trial 151 finished with value: 0.553843995545005 and parameters: {'booster_idx': 3, 'tree_method_idx': 1, 'grow_policy_idx': 2, 'eta': 0.31364145193753, 'gamma': 4.517064185262672, 'max_depth': 11, 'min_child_weight': 4.452767864178938, 'max_delta_step': 1.4007972106219373, 'subsample': 0.4623443861610134, 'lambda': 5.707313262674287, 'alpha': 0.008408234187675494, 'scale_pos_weight': 0.94803203038203, 'max_leaves': 10, 'max_bin': 150}. Best is trial 48 with value: 0.5510180655574383.\n"
     ]
    },
    {
     "name": "stdout",
     "output_type": "stream",
     "text": [
      "Trial 151 - MAE: 0.553843995545005\n",
      "\n",
      "Trial 152 parameters: {'booster': 'dart', 'tree_method': 'auto', 'grow_policy': 'lossguide', 'eta': 0.3508342402679227, 'gamma': 2.6661474978890745, 'max_depth': 10, 'min_child_weight': 3.3531746302207055, 'max_delta_step': 1.2614000730467303, 'subsample': 0.45039445468178985, 'reg_lambda': 0.5525712061371225, 'alpha': 0.0010255514589044157, 'scale_pos_weight': 0.7857116278145057, 'max_leaves': 10, 'max_bin': 275, 'random_state': 42, 'eval_metric': 'mae', 'device': 'cuda'}\n"
     ]
    },
    {
     "name": "stderr",
     "output_type": "stream",
     "text": [
      "[I 2025-04-13 17:56:55,363] Trial 152 finished with value: 0.5511146284188467 and parameters: {'booster_idx': 3, 'tree_method_idx': 1, 'grow_policy_idx': 2, 'eta': 0.3508342402679227, 'gamma': 2.6661474978890745, 'max_depth': 10, 'min_child_weight': 3.3531746302207055, 'max_delta_step': 1.2614000730467303, 'subsample': 0.45039445468178985, 'lambda': 0.5525712061371225, 'alpha': 0.0010255514589044157, 'scale_pos_weight': 0.7857116278145057, 'max_leaves': 10, 'max_bin': 275}. Best is trial 48 with value: 0.5510180655574383.\n"
     ]
    },
    {
     "name": "stdout",
     "output_type": "stream",
     "text": [
      "Trial 152 - MAE: 0.5511146284188467\n",
      "\n",
      "Trial 153 parameters: {'booster': 'dart', 'tree_method': 'auto', 'grow_policy': 'lossguide', 'eta': 0.3703042236868291, 'gamma': 2.720603878323596, 'max_depth': 10, 'min_child_weight': 3.3748370695315546, 'max_delta_step': 1.2884554934657402, 'subsample': 0.4168389866878206, 'reg_lambda': 2.869895432875449, 'alpha': 0.0010687106970362714, 'scale_pos_weight': 0.8040649358715924, 'max_leaves': 10, 'max_bin': 275, 'random_state': 42, 'eval_metric': 'mae', 'device': 'cuda'}\n"
     ]
    },
    {
     "name": "stderr",
     "output_type": "stream",
     "text": [
      "[I 2025-04-13 17:57:05,700] Trial 153 finished with value: 0.5506376406321496 and parameters: {'booster_idx': 3, 'tree_method_idx': 1, 'grow_policy_idx': 2, 'eta': 0.3703042236868291, 'gamma': 2.720603878323596, 'max_depth': 10, 'min_child_weight': 3.3748370695315546, 'max_delta_step': 1.2884554934657402, 'subsample': 0.4168389866878206, 'lambda': 2.869895432875449, 'alpha': 0.0010687106970362714, 'scale_pos_weight': 0.8040649358715924, 'max_leaves': 10, 'max_bin': 275}. Best is trial 153 with value: 0.5506376406321496.\n"
     ]
    },
    {
     "name": "stdout",
     "output_type": "stream",
     "text": [
      "Trial 153 - MAE: 0.5506376406321496\n",
      "\n",
      "Trial 154 parameters: {'booster': 'dart', 'tree_method': 'auto', 'grow_policy': 'lossguide', 'eta': 0.5198517247581105, 'gamma': 2.607220392538494, 'max_depth': 10, 'min_child_weight': 3.3564939404510987, 'max_delta_step': 1.2212157155455245, 'subsample': 0.416070041151085, 'reg_lambda': 0.2777310460171527, 'alpha': 0.0011708732599583608, 'scale_pos_weight': 0.8358064810705885, 'max_leaves': 10, 'max_bin': 250, 'random_state': 42, 'eval_metric': 'mae', 'device': 'cuda'}\n"
     ]
    },
    {
     "name": "stderr",
     "output_type": "stream",
     "text": [
      "[I 2025-04-13 17:57:15,624] Trial 154 finished with value: 0.5557695343002088 and parameters: {'booster_idx': 3, 'tree_method_idx': 1, 'grow_policy_idx': 2, 'eta': 0.5198517247581105, 'gamma': 2.607220392538494, 'max_depth': 10, 'min_child_weight': 3.3564939404510987, 'max_delta_step': 1.2212157155455245, 'subsample': 0.416070041151085, 'lambda': 0.2777310460171527, 'alpha': 0.0011708732599583608, 'scale_pos_weight': 0.8358064810705885, 'max_leaves': 10, 'max_bin': 250}. Best is trial 153 with value: 0.5506376406321496.\n"
     ]
    },
    {
     "name": "stdout",
     "output_type": "stream",
     "text": [
      "Trial 154 - MAE: 0.5557695343002088\n",
      "\n",
      "Trial 155 parameters: {'booster': 'dart', 'tree_method': 'auto', 'grow_policy': 'lossguide', 'eta': 0.36372524550046414, 'gamma': 2.2953149985092773, 'max_depth': 10, 'min_child_weight': 3.3394443600419534, 'max_delta_step': 1.2772254583136018, 'subsample': 0.4413037722840719, 'reg_lambda': 0.45871102149152215, 'alpha': 0.0016745212872139163, 'scale_pos_weight': 0.7712433607017998, 'max_leaves': 10, 'max_bin': 275, 'random_state': 42, 'eval_metric': 'mae', 'device': 'cuda'}\n"
     ]
    },
    {
     "name": "stderr",
     "output_type": "stream",
     "text": [
      "[I 2025-04-13 17:57:25,988] Trial 155 finished with value: 0.5526034959094552 and parameters: {'booster_idx': 3, 'tree_method_idx': 1, 'grow_policy_idx': 2, 'eta': 0.36372524550046414, 'gamma': 2.2953149985092773, 'max_depth': 10, 'min_child_weight': 3.3394443600419534, 'max_delta_step': 1.2772254583136018, 'subsample': 0.4413037722840719, 'lambda': 0.45871102149152215, 'alpha': 0.0016745212872139163, 'scale_pos_weight': 0.7712433607017998, 'max_leaves': 10, 'max_bin': 275}. Best is trial 153 with value: 0.5506376406321496.\n"
     ]
    },
    {
     "name": "stdout",
     "output_type": "stream",
     "text": [
      "Trial 155 - MAE: 0.5526034959094552\n",
      "\n",
      "Trial 156 parameters: {'booster': 'dart', 'tree_method': 'auto', 'grow_policy': 'lossguide', 'eta': 0.4537048505914206, 'gamma': 2.7936462980629444, 'max_depth': 10, 'min_child_weight': 3.4168430321777663, 'max_delta_step': 2.595308923825662, 'subsample': 0.44165978786880983, 'reg_lambda': 2.062507999037179, 'alpha': 0.0010380250080490993, 'scale_pos_weight': 0.7270562753590161, 'max_leaves': 10, 'max_bin': 275, 'random_state': 42, 'eval_metric': 'mae', 'device': 'cuda'}\n"
     ]
    },
    {
     "name": "stderr",
     "output_type": "stream",
     "text": [
      "[I 2025-04-13 17:57:36,461] Trial 156 finished with value: 0.5548419367325993 and parameters: {'booster_idx': 3, 'tree_method_idx': 1, 'grow_policy_idx': 2, 'eta': 0.4537048505914206, 'gamma': 2.7936462980629444, 'max_depth': 10, 'min_child_weight': 3.4168430321777663, 'max_delta_step': 2.595308923825662, 'subsample': 0.44165978786880983, 'lambda': 2.062507999037179, 'alpha': 0.0010380250080490993, 'scale_pos_weight': 0.7270562753590161, 'max_leaves': 10, 'max_bin': 275}. Best is trial 153 with value: 0.5506376406321496.\n"
     ]
    },
    {
     "name": "stdout",
     "output_type": "stream",
     "text": [
      "Trial 156 - MAE: 0.5548419367325993\n",
      "\n",
      "Trial 157 parameters: {'booster': 'dart', 'tree_method': 'auto', 'grow_policy': 'lossguide', 'eta': 0.37705230565435244, 'gamma': 2.257310074286921, 'max_depth': 10, 'min_child_weight': 3.3437954949317668, 'max_delta_step': 1.4558456379721698, 'subsample': 0.4093390357140444, 'reg_lambda': 0.5632499777774083, 'alpha': 0.0016633570713970845, 'scale_pos_weight': 0.7640175087136618, 'max_leaves': 10, 'max_bin': 275, 'random_state': 42, 'eval_metric': 'mae', 'device': 'cuda'}\n"
     ]
    },
    {
     "name": "stderr",
     "output_type": "stream",
     "text": [
      "[I 2025-04-13 17:57:46,537] Trial 157 finished with value: 0.5528920065170558 and parameters: {'booster_idx': 3, 'tree_method_idx': 1, 'grow_policy_idx': 2, 'eta': 0.37705230565435244, 'gamma': 2.257310074286921, 'max_depth': 10, 'min_child_weight': 3.3437954949317668, 'max_delta_step': 1.4558456379721698, 'subsample': 0.4093390357140444, 'lambda': 0.5632499777774083, 'alpha': 0.0016633570713970845, 'scale_pos_weight': 0.7640175087136618, 'max_leaves': 10, 'max_bin': 275}. Best is trial 153 with value: 0.5506376406321496.\n"
     ]
    },
    {
     "name": "stdout",
     "output_type": "stream",
     "text": [
      "Trial 157 - MAE: 0.5528920065170558\n",
      "\n",
      "Trial 158 parameters: {'booster': 'dart', 'tree_method': 'auto', 'grow_policy': 'lossguide', 'eta': 0.3911140037468354, 'gamma': 2.2130070613087134, 'max_depth': 9, 'min_child_weight': 3.68406111974079, 'max_delta_step': 1.2336288057386364, 'subsample': 0.41066503171287727, 'reg_lambda': 0.8395988850187925, 'alpha': 0.0016560280229951938, 'scale_pos_weight': 0.6359566692596679, 'max_leaves': 10, 'max_bin': 275, 'random_state': 42, 'eval_metric': 'mae', 'device': 'cuda'}\n"
     ]
    },
    {
     "name": "stderr",
     "output_type": "stream",
     "text": [
      "[I 2025-04-13 17:57:56,682] Trial 158 finished with value: 0.5544632658665386 and parameters: {'booster_idx': 3, 'tree_method_idx': 1, 'grow_policy_idx': 2, 'eta': 0.3911140037468354, 'gamma': 2.2130070613087134, 'max_depth': 9, 'min_child_weight': 3.68406111974079, 'max_delta_step': 1.2336288057386364, 'subsample': 0.41066503171287727, 'lambda': 0.8395988850187925, 'alpha': 0.0016560280229951938, 'scale_pos_weight': 0.6359566692596679, 'max_leaves': 10, 'max_bin': 275}. Best is trial 153 with value: 0.5506376406321496.\n"
     ]
    },
    {
     "name": "stdout",
     "output_type": "stream",
     "text": [
      "Trial 158 - MAE: 0.5544632658665386\n",
      "\n",
      "Trial 159 parameters: {'booster': 'gbtree', 'tree_method': 'auto', 'grow_policy': 'lossguide', 'eta': 0.6098462297062602, 'gamma': 2.346924175588939, 'max_depth': 10, 'min_child_weight': 3.356710323485389, 'max_delta_step': 1.5778929712754697, 'subsample': 0.4299264301219489, 'reg_lambda': 0.49757435756038915, 'alpha': 0.0019350034002170802, 'scale_pos_weight': 0.7708428796100939, 'max_leaves': 9, 'max_bin': 250, 'random_state': 42, 'eval_metric': 'mae', 'device': 'cuda'}\n"
     ]
    },
    {
     "name": "stderr",
     "output_type": "stream",
     "text": [
      "[I 2025-04-13 17:58:02,775] Trial 159 finished with value: 0.5588812835405341 and parameters: {'booster_idx': 1, 'tree_method_idx': 1, 'grow_policy_idx': 2, 'eta': 0.6098462297062602, 'gamma': 2.346924175588939, 'max_depth': 10, 'min_child_weight': 3.356710323485389, 'max_delta_step': 1.5778929712754697, 'subsample': 0.4299264301219489, 'lambda': 0.49757435756038915, 'alpha': 0.0019350034002170802, 'scale_pos_weight': 0.7708428796100939, 'max_leaves': 9, 'max_bin': 250}. Best is trial 153 with value: 0.5506376406321496.\n"
     ]
    },
    {
     "name": "stdout",
     "output_type": "stream",
     "text": [
      "Trial 159 - MAE: 0.5588812835405341\n",
      "\n",
      "Trial 160 parameters: {'booster': 'gblinear', 'tree_method': 'auto', 'grow_policy': 'lossguide', 'eta': 0.3602263335181994, 'gamma': 2.0127650831702306, 'max_depth': 10, 'min_child_weight': 3.553829529377238, 'max_delta_step': 1.7180293776108653, 'subsample': 0.3713166541283177, 'reg_lambda': 2.804374254944228, 'alpha': 0.0014792937049393157, 'scale_pos_weight': 0.5016914778096971, 'max_leaves': 10, 'max_bin': 250, 'random_state': 42, 'eval_metric': 'mae', 'device': 'cuda'}\n"
     ]
    },
    {
     "name": "stderr",
     "output_type": "stream",
     "text": [
      "[I 2025-04-13 17:58:20,181] Trial 160 finished with value: 1.1033291006437835 and parameters: {'booster_idx': 2, 'tree_method_idx': 1, 'grow_policy_idx': 2, 'eta': 0.3602263335181994, 'gamma': 2.0127650831702306, 'max_depth': 10, 'min_child_weight': 3.553829529377238, 'max_delta_step': 1.7180293776108653, 'subsample': 0.3713166541283177, 'lambda': 2.804374254944228, 'alpha': 0.0014792937049393157, 'scale_pos_weight': 0.5016914778096971, 'max_leaves': 10, 'max_bin': 250}. Best is trial 153 with value: 0.5506376406321496.\n"
     ]
    },
    {
     "name": "stdout",
     "output_type": "stream",
     "text": [
      "Trial 160 - MAE: 1.1033291006437835\n",
      "\n",
      "Trial 161 parameters: {'booster': 'dart', 'tree_method': 'auto', 'grow_policy': 'lossguide', 'eta': 0.4792363668360549, 'gamma': 2.5275850421811263, 'max_depth': 10, 'min_child_weight': 3.411294243172419, 'max_delta_step': 1.4382647627138667, 'subsample': 0.3970867717667948, 'reg_lambda': 0.11520723910034145, 'alpha': 0.0011280409533608981, 'scale_pos_weight': 0.8943810803721856, 'max_leaves': 10, 'max_bin': 275, 'random_state': 42, 'eval_metric': 'mae', 'device': 'cuda'}\n"
     ]
    },
    {
     "name": "stderr",
     "output_type": "stream",
     "text": [
      "[I 2025-04-13 17:58:30,321] Trial 161 finished with value: 0.5553161574233337 and parameters: {'booster_idx': 3, 'tree_method_idx': 1, 'grow_policy_idx': 2, 'eta': 0.4792363668360549, 'gamma': 2.5275850421811263, 'max_depth': 10, 'min_child_weight': 3.411294243172419, 'max_delta_step': 1.4382647627138667, 'subsample': 0.3970867717667948, 'lambda': 0.11520723910034145, 'alpha': 0.0011280409533608981, 'scale_pos_weight': 0.8943810803721856, 'max_leaves': 10, 'max_bin': 275}. Best is trial 153 with value: 0.5506376406321496.\n"
     ]
    },
    {
     "name": "stdout",
     "output_type": "stream",
     "text": [
      "Trial 161 - MAE: 0.5553161574233337\n",
      "\n",
      "Trial 162 parameters: {'booster': 'dart', 'tree_method': 'auto', 'grow_policy': 'lossguide', 'eta': 0.35804941739436535, 'gamma': 2.700190884986616, 'max_depth': 10, 'min_child_weight': 3.3187015556602244, 'max_delta_step': 1.0987974504745268, 'subsample': 0.4834560727121368, 'reg_lambda': 0.40430320947971005, 'alpha': 0.001847403275179903, 'scale_pos_weight': 0.8097152118297751, 'max_leaves': 10, 'max_bin': 275, 'random_state': 42, 'eval_metric': 'mae', 'device': 'cuda'}\n"
     ]
    },
    {
     "name": "stderr",
     "output_type": "stream",
     "text": [
      "[I 2025-04-13 17:58:40,545] Trial 162 finished with value: 0.5518683403854445 and parameters: {'booster_idx': 3, 'tree_method_idx': 1, 'grow_policy_idx': 2, 'eta': 0.35804941739436535, 'gamma': 2.700190884986616, 'max_depth': 10, 'min_child_weight': 3.3187015556602244, 'max_delta_step': 1.0987974504745268, 'subsample': 0.4834560727121368, 'lambda': 0.40430320947971005, 'alpha': 0.001847403275179903, 'scale_pos_weight': 0.8097152118297751, 'max_leaves': 10, 'max_bin': 275}. Best is trial 153 with value: 0.5506376406321496.\n"
     ]
    },
    {
     "name": "stdout",
     "output_type": "stream",
     "text": [
      "Trial 162 - MAE: 0.5518683403854445\n",
      "\n",
      "Trial 163 parameters: {'booster': 'dart', 'tree_method': 'auto', 'grow_policy': 'lossguide', 'eta': 0.36588863639044866, 'gamma': 1.443786772835956, 'max_depth': 10, 'min_child_weight': 3.541015836529346, 'max_delta_step': 1.0792797931293316, 'subsample': 0.48540283633604464, 'reg_lambda': 0.5890675042322903, 'alpha': 0.0025223640447025446, 'scale_pos_weight': 0.7826889322829803, 'max_leaves': 10, 'max_bin': 275, 'random_state': 42, 'eval_metric': 'mae', 'device': 'cuda'}\n"
     ]
    },
    {
     "name": "stderr",
     "output_type": "stream",
     "text": [
      "[I 2025-04-13 17:58:50,605] Trial 163 finished with value: 0.5524703865382324 and parameters: {'booster_idx': 3, 'tree_method_idx': 1, 'grow_policy_idx': 2, 'eta': 0.36588863639044866, 'gamma': 1.443786772835956, 'max_depth': 10, 'min_child_weight': 3.541015836529346, 'max_delta_step': 1.0792797931293316, 'subsample': 0.48540283633604464, 'lambda': 0.5890675042322903, 'alpha': 0.0025223640447025446, 'scale_pos_weight': 0.7826889322829803, 'max_leaves': 10, 'max_bin': 275}. Best is trial 153 with value: 0.5506376406321496.\n"
     ]
    },
    {
     "name": "stdout",
     "output_type": "stream",
     "text": [
      "Trial 163 - MAE: 0.5524703865382324\n",
      "\n",
      "Trial 164 parameters: {'booster': 'dart', 'tree_method': 'auto', 'grow_policy': 'lossguide', 'eta': 0.4256752962334138, 'gamma': 1.0657102450701916, 'max_depth': 10, 'min_child_weight': 3.4764528726167905, 'max_delta_step': 1.0663773707768327, 'subsample': 0.4869247693917023, 'reg_lambda': 0.5910569912560028, 'alpha': 0.0025901424967953186, 'scale_pos_weight': 0.6350577178821342, 'max_leaves': 10, 'max_bin': 275, 'random_state': 42, 'eval_metric': 'mae', 'device': 'cuda'}\n"
     ]
    },
    {
     "name": "stderr",
     "output_type": "stream",
     "text": [
      "[I 2025-04-13 17:59:00,828] Trial 164 finished with value: 0.554973250647203 and parameters: {'booster_idx': 3, 'tree_method_idx': 1, 'grow_policy_idx': 2, 'eta': 0.4256752962334138, 'gamma': 1.0657102450701916, 'max_depth': 10, 'min_child_weight': 3.4764528726167905, 'max_delta_step': 1.0663773707768327, 'subsample': 0.4869247693917023, 'lambda': 0.5910569912560028, 'alpha': 0.0025901424967953186, 'scale_pos_weight': 0.6350577178821342, 'max_leaves': 10, 'max_bin': 275}. Best is trial 153 with value: 0.5506376406321496.\n"
     ]
    },
    {
     "name": "stdout",
     "output_type": "stream",
     "text": [
      "Trial 164 - MAE: 0.554973250647203\n",
      "\n",
      "Trial 165 parameters: {'booster': 'dart', 'tree_method': 'auto', 'grow_policy': 'lossguide', 'eta': 0.5123811816329595, 'gamma': 2.8475524887297214, 'max_depth': 9, 'min_child_weight': 3.0745223786948626, 'max_delta_step': 1.114766073922144, 'subsample': 0.5062662767891893, 'reg_lambda': 0.4239722044228239, 'alpha': 0.0010009548430080536, 'scale_pos_weight': 0.7215855787362029, 'max_leaves': 10, 'max_bin': 275, 'random_state': 42, 'eval_metric': 'mae', 'device': 'cuda'}\n"
     ]
    },
    {
     "name": "stderr",
     "output_type": "stream",
     "text": [
      "[I 2025-04-13 17:59:11,134] Trial 165 finished with value: 0.5555187070203632 and parameters: {'booster_idx': 3, 'tree_method_idx': 1, 'grow_policy_idx': 2, 'eta': 0.5123811816329595, 'gamma': 2.8475524887297214, 'max_depth': 9, 'min_child_weight': 3.0745223786948626, 'max_delta_step': 1.114766073922144, 'subsample': 0.5062662767891893, 'lambda': 0.4239722044228239, 'alpha': 0.0010009548430080536, 'scale_pos_weight': 0.7215855787362029, 'max_leaves': 10, 'max_bin': 275}. Best is trial 153 with value: 0.5506376406321496.\n"
     ]
    },
    {
     "name": "stdout",
     "output_type": "stream",
     "text": [
      "Trial 165 - MAE: 0.5555187070203632\n",
      "\n",
      "Trial 166 parameters: {'booster': 'dart', 'tree_method': 'auto', 'grow_policy': 'lossguide', 'eta': 0.3746715494828578, 'gamma': 1.6024453982175442, 'max_depth': 10, 'min_child_weight': 3.5328111248960017, 'max_delta_step': 0.9307230089654789, 'subsample': 0.4756899657150112, 'reg_lambda': 0.3851500193186428, 'alpha': 0.0017634779236964816, 'scale_pos_weight': 0.7979423500205273, 'max_leaves': 10, 'max_bin': 250, 'random_state': 42, 'eval_metric': 'mae', 'device': 'cuda'}\n"
     ]
    },
    {
     "name": "stderr",
     "output_type": "stream",
     "text": [
      "[I 2025-04-13 17:59:20,912] Trial 166 finished with value: 0.5524626097831447 and parameters: {'booster_idx': 3, 'tree_method_idx': 1, 'grow_policy_idx': 2, 'eta': 0.3746715494828578, 'gamma': 1.6024453982175442, 'max_depth': 10, 'min_child_weight': 3.5328111248960017, 'max_delta_step': 0.9307230089654789, 'subsample': 0.4756899657150112, 'lambda': 0.3851500193186428, 'alpha': 0.0017634779236964816, 'scale_pos_weight': 0.7979423500205273, 'max_leaves': 10, 'max_bin': 250}. Best is trial 153 with value: 0.5506376406321496.\n"
     ]
    },
    {
     "name": "stdout",
     "output_type": "stream",
     "text": [
      "Trial 166 - MAE: 0.5524626097831447\n",
      "\n",
      "Trial 167 parameters: {'booster': 'dart', 'tree_method': 'auto', 'grow_policy': 'lossguide', 'eta': 0.3559091817759707, 'gamma': 1.5720847580135948, 'max_depth': 10, 'min_child_weight': 3.831897980723409, 'max_delta_step': 0.9182597839609846, 'subsample': 0.4750741723595103, 'reg_lambda': 0.3518048539264881, 'alpha': 0.002282125162359503, 'scale_pos_weight': 0.7945839873075715, 'max_leaves': 10, 'max_bin': 225, 'random_state': 42, 'eval_metric': 'mae', 'device': 'cuda'}\n"
     ]
    },
    {
     "name": "stderr",
     "output_type": "stream",
     "text": [
      "[I 2025-04-13 17:59:30,659] Trial 167 finished with value: 0.5525234467259151 and parameters: {'booster_idx': 3, 'tree_method_idx': 1, 'grow_policy_idx': 2, 'eta': 0.3559091817759707, 'gamma': 1.5720847580135948, 'max_depth': 10, 'min_child_weight': 3.831897980723409, 'max_delta_step': 0.9182597839609846, 'subsample': 0.4750741723595103, 'lambda': 0.3518048539264881, 'alpha': 0.002282125162359503, 'scale_pos_weight': 0.7945839873075715, 'max_leaves': 10, 'max_bin': 225}. Best is trial 153 with value: 0.5506376406321496.\n"
     ]
    },
    {
     "name": "stdout",
     "output_type": "stream",
     "text": [
      "Trial 167 - MAE: 0.5525234467259151\n",
      "\n",
      "Trial 168 parameters: {'booster': 'dart', 'tree_method': 'auto', 'grow_policy': 'lossguide', 'eta': 0.3616428878464795, 'gamma': 1.4921859129973853, 'max_depth': 10, 'min_child_weight': 3.5538042776191756, 'max_delta_step': 0.9339501341738214, 'subsample': 0.47761128600428077, 'reg_lambda': 0.3434277071692456, 'alpha': 0.0029767056696102688, 'scale_pos_weight': 0.672059458611611, 'max_leaves': 10, 'max_bin': 225, 'random_state': 42, 'eval_metric': 'mae', 'device': 'cuda'}\n"
     ]
    },
    {
     "name": "stderr",
     "output_type": "stream",
     "text": [
      "[I 2025-04-13 17:59:40,436] Trial 168 finished with value: 0.5520970145523286 and parameters: {'booster_idx': 3, 'tree_method_idx': 1, 'grow_policy_idx': 2, 'eta': 0.3616428878464795, 'gamma': 1.4921859129973853, 'max_depth': 10, 'min_child_weight': 3.5538042776191756, 'max_delta_step': 0.9339501341738214, 'subsample': 0.47761128600428077, 'lambda': 0.3434277071692456, 'alpha': 0.0029767056696102688, 'scale_pos_weight': 0.672059458611611, 'max_leaves': 10, 'max_bin': 225}. Best is trial 153 with value: 0.5506376406321496.\n"
     ]
    },
    {
     "name": "stdout",
     "output_type": "stream",
     "text": [
      "Trial 168 - MAE: 0.5520970145523286\n",
      "\n",
      "Trial 169 parameters: {'booster': 'dart', 'tree_method': 'auto', 'grow_policy': 'lossguide', 'eta': 0.0017759250653298147, 'gamma': 1.2149290619272417, 'max_depth': 10, 'min_child_weight': 3.8583488895194775, 'max_delta_step': 0.9723039772668318, 'subsample': 0.47654657520537735, 'reg_lambda': 0.7093535778090254, 'alpha': 0.002282630042411685, 'scale_pos_weight': 0.6065274230930414, 'max_leaves': 10, 'max_bin': 225, 'random_state': 42, 'eval_metric': 'mae', 'device': 'cuda'}\n"
     ]
    },
    {
     "name": "stderr",
     "output_type": "stream",
     "text": [
      "[I 2025-04-13 17:59:49,780] Trial 169 finished with value: 1.1172035749862574 and parameters: {'booster_idx': 3, 'tree_method_idx': 1, 'grow_policy_idx': 2, 'eta': 0.0017759250653298147, 'gamma': 1.2149290619272417, 'max_depth': 10, 'min_child_weight': 3.8583488895194775, 'max_delta_step': 0.9723039772668318, 'subsample': 0.47654657520537735, 'lambda': 0.7093535778090254, 'alpha': 0.002282630042411685, 'scale_pos_weight': 0.6065274230930414, 'max_leaves': 10, 'max_bin': 225}. Best is trial 153 with value: 0.5506376406321496.\n"
     ]
    },
    {
     "name": "stdout",
     "output_type": "stream",
     "text": [
      "Trial 169 - MAE: 1.1172035749862574\n",
      "\n",
      "Trial 170 parameters: {'booster': 'dart', 'tree_method': 'auto', 'grow_policy': 'lossguide', 'eta': 0.3394549204295655, 'gamma': 1.429181819907931, 'max_depth': 10, 'min_child_weight': 3.5926107352709544, 'max_delta_step': 1.189778892012702, 'subsample': 0.4990611949014467, 'reg_lambda': 0.34485014306932255, 'alpha': 0.003104604033524955, 'scale_pos_weight': 0.6757305705779755, 'max_leaves': 10, 'max_bin': 225, 'random_state': 42, 'eval_metric': 'mae', 'device': 'cuda'}\n"
     ]
    },
    {
     "name": "stderr",
     "output_type": "stream",
     "text": [
      "[I 2025-04-13 17:59:59,638] Trial 170 finished with value: 0.5538292305901581 and parameters: {'booster_idx': 3, 'tree_method_idx': 1, 'grow_policy_idx': 2, 'eta': 0.3394549204295655, 'gamma': 1.429181819907931, 'max_depth': 10, 'min_child_weight': 3.5926107352709544, 'max_delta_step': 1.189778892012702, 'subsample': 0.4990611949014467, 'lambda': 0.34485014306932255, 'alpha': 0.003104604033524955, 'scale_pos_weight': 0.6757305705779755, 'max_leaves': 10, 'max_bin': 225}. Best is trial 153 with value: 0.5506376406321496.\n"
     ]
    },
    {
     "name": "stdout",
     "output_type": "stream",
     "text": [
      "Trial 170 - MAE: 0.5538292305901581\n",
      "\n",
      "Trial 171 parameters: {'booster': 'dart', 'tree_method': 'auto', 'grow_policy': 'lossguide', 'eta': 0.3735435170080408, 'gamma': 1.7832933055313958, 'max_depth': 10, 'min_child_weight': 3.5337599670353192, 'max_delta_step': 0.920551737033769, 'subsample': 0.4705805928123575, 'reg_lambda': 0.5810416708397768, 'alpha': 0.0017524579694128373, 'scale_pos_weight': 0.8505169571563894, 'max_leaves': 10, 'max_bin': 225, 'random_state': 42, 'eval_metric': 'mae', 'device': 'cuda'}\n"
     ]
    },
    {
     "name": "stderr",
     "output_type": "stream",
     "text": [
      "[I 2025-04-13 18:00:09,580] Trial 171 finished with value: 0.5525678095039844 and parameters: {'booster_idx': 3, 'tree_method_idx': 1, 'grow_policy_idx': 2, 'eta': 0.3735435170080408, 'gamma': 1.7832933055313958, 'max_depth': 10, 'min_child_weight': 3.5337599670353192, 'max_delta_step': 0.920551737033769, 'subsample': 0.4705805928123575, 'lambda': 0.5810416708397768, 'alpha': 0.0017524579694128373, 'scale_pos_weight': 0.8505169571563894, 'max_leaves': 10, 'max_bin': 225}. Best is trial 153 with value: 0.5506376406321496.\n"
     ]
    },
    {
     "name": "stdout",
     "output_type": "stream",
     "text": [
      "Trial 171 - MAE: 0.5525678095039844\n",
      "\n",
      "Trial 172 parameters: {'booster': 'dart', 'tree_method': 'auto', 'grow_policy': 'lossguide', 'eta': 0.366410595544639, 'gamma': 1.6333392171721206, 'max_depth': 10, 'min_child_weight': 3.549613139480231, 'max_delta_step': 1.018733351570492, 'subsample': 0.4688355199564672, 'reg_lambda': 0.5427463100357007, 'alpha': 0.0017942531193152562, 'scale_pos_weight': 0.8101975302937539, 'max_leaves': 10, 'max_bin': 200, 'random_state': 42, 'eval_metric': 'mae', 'device': 'cuda'}\n"
     ]
    },
    {
     "name": "stderr",
     "output_type": "stream",
     "text": [
      "[I 2025-04-13 18:00:19,338] Trial 172 finished with value: 0.5521078047144463 and parameters: {'booster_idx': 3, 'tree_method_idx': 1, 'grow_policy_idx': 2, 'eta': 0.366410595544639, 'gamma': 1.6333392171721206, 'max_depth': 10, 'min_child_weight': 3.549613139480231, 'max_delta_step': 1.018733351570492, 'subsample': 0.4688355199564672, 'lambda': 0.5427463100357007, 'alpha': 0.0017942531193152562, 'scale_pos_weight': 0.8101975302937539, 'max_leaves': 10, 'max_bin': 200}. Best is trial 153 with value: 0.5506376406321496.\n"
     ]
    },
    {
     "name": "stdout",
     "output_type": "stream",
     "text": [
      "Trial 172 - MAE: 0.5521078047144463\n",
      "\n",
      "Trial 173 parameters: {'booster': 'dart', 'tree_method': 'auto', 'grow_policy': 'lossguide', 'eta': 0.25110377369157816, 'gamma': 1.599146154239245, 'max_depth': 10, 'min_child_weight': 3.537334211553911, 'max_delta_step': 0.8468499848314929, 'subsample': 0.47553187827849125, 'reg_lambda': 0.2314334561308918, 'alpha': 0.0018999912752202448, 'scale_pos_weight': 0.8513427443109001, 'max_leaves': 10, 'max_bin': 225, 'random_state': 42, 'eval_metric': 'mae', 'device': 'cuda'}\n"
     ]
    },
    {
     "name": "stderr",
     "output_type": "stream",
     "text": [
      "[I 2025-04-13 18:00:29,338] Trial 173 finished with value: 0.5571717436890835 and parameters: {'booster_idx': 3, 'tree_method_idx': 1, 'grow_policy_idx': 2, 'eta': 0.25110377369157816, 'gamma': 1.599146154239245, 'max_depth': 10, 'min_child_weight': 3.537334211553911, 'max_delta_step': 0.8468499848314929, 'subsample': 0.47553187827849125, 'lambda': 0.2314334561308918, 'alpha': 0.0018999912752202448, 'scale_pos_weight': 0.8513427443109001, 'max_leaves': 10, 'max_bin': 225}. Best is trial 153 with value: 0.5506376406321496.\n"
     ]
    },
    {
     "name": "stdout",
     "output_type": "stream",
     "text": [
      "Trial 173 - MAE: 0.5571717436890835\n",
      "\n",
      "Trial 174 parameters: {'booster': 'dart', 'tree_method': 'auto', 'grow_policy': 'lossguide', 'eta': 0.43115898565687844, 'gamma': 0.7084594898983156, 'max_depth': 10, 'min_child_weight': 3.691207038753509, 'max_delta_step': 1.0020683308499838, 'subsample': 0.48973172266040194, 'reg_lambda': 0.34999070290411627, 'alpha': 0.003739881968264597, 'scale_pos_weight': 0.5834572689187472, 'max_leaves': 10, 'max_bin': 200, 'random_state': 42, 'eval_metric': 'mae', 'device': 'cuda'}\n"
     ]
    },
    {
     "name": "stderr",
     "output_type": "stream",
     "text": [
      "[I 2025-04-13 18:00:39,298] Trial 174 finished with value: 0.5544467629892879 and parameters: {'booster_idx': 3, 'tree_method_idx': 1, 'grow_policy_idx': 2, 'eta': 0.43115898565687844, 'gamma': 0.7084594898983156, 'max_depth': 10, 'min_child_weight': 3.691207038753509, 'max_delta_step': 1.0020683308499838, 'subsample': 0.48973172266040194, 'lambda': 0.34999070290411627, 'alpha': 0.003739881968264597, 'scale_pos_weight': 0.5834572689187472, 'max_leaves': 10, 'max_bin': 200}. Best is trial 153 with value: 0.5506376406321496.\n"
     ]
    },
    {
     "name": "stdout",
     "output_type": "stream",
     "text": [
      "Trial 174 - MAE: 0.5544467629892879\n",
      "\n",
      "Trial 175 parameters: {'booster': 'dart', 'tree_method': 'auto', 'grow_policy': 'lossguide', 'eta': 0.34635445413283666, 'gamma': 1.7669071280856559, 'max_depth': 10, 'min_child_weight': 3.6323481204081, 'max_delta_step': 1.081689380488207, 'subsample': 0.5202563328937555, 'reg_lambda': 0.7142274614844086, 'alpha': 0.0027155115459717924, 'scale_pos_weight': 0.815607556696809, 'max_leaves': 10, 'max_bin': 200, 'random_state': 42, 'eval_metric': 'mae', 'device': 'cuda'}\n"
     ]
    },
    {
     "name": "stderr",
     "output_type": "stream",
     "text": [
      "[I 2025-04-13 18:00:48,996] Trial 175 finished with value: 0.5528019739297816 and parameters: {'booster_idx': 3, 'tree_method_idx': 1, 'grow_policy_idx': 2, 'eta': 0.34635445413283666, 'gamma': 1.7669071280856559, 'max_depth': 10, 'min_child_weight': 3.6323481204081, 'max_delta_step': 1.081689380488207, 'subsample': 0.5202563328937555, 'lambda': 0.7142274614844086, 'alpha': 0.0027155115459717924, 'scale_pos_weight': 0.815607556696809, 'max_leaves': 10, 'max_bin': 200}. Best is trial 153 with value: 0.5506376406321496.\n"
     ]
    },
    {
     "name": "stdout",
     "output_type": "stream",
     "text": [
      "Trial 175 - MAE: 0.5528019739297816\n",
      "\n",
      "Trial 176 parameters: {'booster': 'dart', 'tree_method': 'auto', 'grow_policy': 'lossguide', 'eta': 0.31066072429641395, 'gamma': 1.004817094763234, 'max_depth': 10, 'min_child_weight': 3.83029749351662, 'max_delta_step': 0.9158736424639502, 'subsample': 0.46102949236822105, 'reg_lambda': 1.2386908732679769, 'alpha': 0.0014212427514856427, 'scale_pos_weight': 0.7054277833122907, 'max_leaves': 10, 'max_bin': 225, 'random_state': 42, 'eval_metric': 'mae', 'device': 'cuda'}\n"
     ]
    },
    {
     "name": "stderr",
     "output_type": "stream",
     "text": [
      "[I 2025-04-13 18:00:59,101] Trial 176 finished with value: 0.558201404507234 and parameters: {'booster_idx': 3, 'tree_method_idx': 1, 'grow_policy_idx': 2, 'eta': 0.31066072429641395, 'gamma': 1.004817094763234, 'max_depth': 10, 'min_child_weight': 3.83029749351662, 'max_delta_step': 0.9158736424639502, 'subsample': 0.46102949236822105, 'lambda': 1.2386908732679769, 'alpha': 0.0014212427514856427, 'scale_pos_weight': 0.7054277833122907, 'max_leaves': 10, 'max_bin': 225}. Best is trial 153 with value: 0.5506376406321496.\n"
     ]
    },
    {
     "name": "stdout",
     "output_type": "stream",
     "text": [
      "Trial 176 - MAE: 0.558201404507234\n",
      "\n",
      "Trial 177 parameters: {'booster': 'dart', 'tree_method': 'auto', 'grow_policy': 'lossguide', 'eta': 0.4451257111704985, 'gamma': 1.472002107154724, 'max_depth': 10, 'min_child_weight': 3.5094881813747767, 'max_delta_step': 1.2745513616373096, 'subsample': 0.4687046585304008, 'reg_lambda': 0.4837773253138498, 'alpha': 0.0023247326491685804, 'scale_pos_weight': 0.886173767442859, 'max_leaves': 9, 'max_bin': 200, 'random_state': 42, 'eval_metric': 'mae', 'device': 'cuda'}\n"
     ]
    },
    {
     "name": "stderr",
     "output_type": "stream",
     "text": [
      "[I 2025-04-13 18:01:08,853] Trial 177 finished with value: 0.5552897828832657 and parameters: {'booster_idx': 3, 'tree_method_idx': 1, 'grow_policy_idx': 2, 'eta': 0.4451257111704985, 'gamma': 1.472002107154724, 'max_depth': 10, 'min_child_weight': 3.5094881813747767, 'max_delta_step': 1.2745513616373096, 'subsample': 0.4687046585304008, 'lambda': 0.4837773253138498, 'alpha': 0.0023247326491685804, 'scale_pos_weight': 0.886173767442859, 'max_leaves': 9, 'max_bin': 200}. Best is trial 153 with value: 0.5506376406321496.\n"
     ]
    },
    {
     "name": "stdout",
     "output_type": "stream",
     "text": [
      "Trial 177 - MAE: 0.5552897828832657\n",
      "\n",
      "Trial 178 parameters: {'booster': 'dart', 'tree_method': 'auto', 'grow_policy': 'depthwise', 'eta': 0.37782030909906905, 'gamma': 1.8767528252590895, 'max_depth': 9, 'min_child_weight': 3.6587141044617097, 'max_delta_step': 1.150436264938961, 'subsample': 0.5025187473229284, 'reg_lambda': 0.2767773905124865, 'alpha': 0.0019214399678530501, 'scale_pos_weight': 1.0484204172763267, 'max_leaves': 7, 'max_bin': 225, 'random_state': 42, 'eval_metric': 'mae', 'device': 'cuda'}\n"
     ]
    },
    {
     "name": "stderr",
     "output_type": "stream",
     "text": [
      "[I 2025-04-13 18:01:17,734] Trial 178 finished with value: 0.5738772281871083 and parameters: {'booster_idx': 3, 'tree_method_idx': 1, 'grow_policy_idx': 1, 'eta': 0.37782030909906905, 'gamma': 1.8767528252590895, 'max_depth': 9, 'min_child_weight': 3.6587141044617097, 'max_delta_step': 1.150436264938961, 'subsample': 0.5025187473229284, 'lambda': 0.2767773905124865, 'alpha': 0.0019214399678530501, 'scale_pos_weight': 1.0484204172763267, 'max_leaves': 7, 'max_bin': 225}. Best is trial 153 with value: 0.5506376406321496.\n"
     ]
    },
    {
     "name": "stdout",
     "output_type": "stream",
     "text": [
      "Trial 178 - MAE: 0.5738772281871083\n",
      "\n",
      "Trial 179 parameters: {'booster': 'dart', 'tree_method': 'auto', 'grow_policy': 'lossguide', 'eta': 0.26465199385034677, 'gamma': 1.2729254958484042, 'max_depth': 10, 'min_child_weight': 3.3958146890685796, 'max_delta_step': 0.8184531748721445, 'subsample': 0.4861213983045223, 'reg_lambda': 0.39906667009843616, 'alpha': 0.0030814846973159396, 'scale_pos_weight': 1.8825179746317313, 'max_leaves': 10, 'max_bin': 175, 'random_state': 42, 'eval_metric': 'mae', 'device': 'cuda'}\n"
     ]
    },
    {
     "name": "stderr",
     "output_type": "stream",
     "text": [
      "[I 2025-04-13 18:01:27,794] Trial 179 finished with value: 0.5596421839314139 and parameters: {'booster_idx': 3, 'tree_method_idx': 1, 'grow_policy_idx': 2, 'eta': 0.26465199385034677, 'gamma': 1.2729254958484042, 'max_depth': 10, 'min_child_weight': 3.3958146890685796, 'max_delta_step': 0.8184531748721445, 'subsample': 0.4861213983045223, 'lambda': 0.39906667009843616, 'alpha': 0.0030814846973159396, 'scale_pos_weight': 1.8825179746317313, 'max_leaves': 10, 'max_bin': 175}. Best is trial 153 with value: 0.5506376406321496.\n"
     ]
    },
    {
     "name": "stdout",
     "output_type": "stream",
     "text": [
      "Trial 179 - MAE: 0.5596421839314139\n",
      "\n",
      "Trial 180 parameters: {'booster': 'dart', 'tree_method': 'auto', 'grow_policy': 'lossguide', 'eta': 0.3341549397466003, 'gamma': 2.033956528158882, 'max_depth': 10, 'min_child_weight': 3.5205891696699174, 'max_delta_step': 0.9869265537382139, 'subsample': 0.5139488505240299, 'reg_lambda': 0.5743341538197858, 'alpha': 0.0015779690865884302, 'scale_pos_weight': 0.7727330932349651, 'max_leaves': 10, 'max_bin': 225, 'random_state': 42, 'eval_metric': 'mae', 'device': 'cuda'}\n"
     ]
    },
    {
     "name": "stderr",
     "output_type": "stream",
     "text": [
      "[I 2025-04-13 18:01:37,924] Trial 180 finished with value: 0.5551128969812316 and parameters: {'booster_idx': 3, 'tree_method_idx': 1, 'grow_policy_idx': 2, 'eta': 0.3341549397466003, 'gamma': 2.033956528158882, 'max_depth': 10, 'min_child_weight': 3.5205891696699174, 'max_delta_step': 0.9869265537382139, 'subsample': 0.5139488505240299, 'lambda': 0.5743341538197858, 'alpha': 0.0015779690865884302, 'scale_pos_weight': 0.7727330932349651, 'max_leaves': 10, 'max_bin': 225}. Best is trial 153 with value: 0.5506376406321496.\n"
     ]
    },
    {
     "name": "stdout",
     "output_type": "stream",
     "text": [
      "Trial 180 - MAE: 0.5551128969812316\n",
      "\n",
      "Trial 181 parameters: {'booster': 'dart', 'tree_method': 'auto', 'grow_policy': 'lossguide', 'eta': 0.3553129882847277, 'gamma': 1.770665901393967, 'max_depth': 10, 'min_child_weight': 3.751259514209255, 'max_delta_step': 1.078055188619289, 'subsample': 0.5202995719235807, 'reg_lambda': 0.7647535327708572, 'alpha': 0.0026594193225070555, 'scale_pos_weight': 0.8401363579699904, 'max_leaves': 10, 'max_bin': 200, 'random_state': 42, 'eval_metric': 'mae', 'device': 'cuda'}\n"
     ]
    },
    {
     "name": "stderr",
     "output_type": "stream",
     "text": [
      "[I 2025-04-13 18:01:47,515] Trial 181 finished with value: 0.551602452936457 and parameters: {'booster_idx': 3, 'tree_method_idx': 1, 'grow_policy_idx': 2, 'eta': 0.3553129882847277, 'gamma': 1.770665901393967, 'max_depth': 10, 'min_child_weight': 3.751259514209255, 'max_delta_step': 1.078055188619289, 'subsample': 0.5202995719235807, 'lambda': 0.7647535327708572, 'alpha': 0.0026594193225070555, 'scale_pos_weight': 0.8401363579699904, 'max_leaves': 10, 'max_bin': 200}. Best is trial 153 with value: 0.5506376406321496.\n"
     ]
    },
    {
     "name": "stdout",
     "output_type": "stream",
     "text": [
      "Trial 181 - MAE: 0.551602452936457\n",
      "\n",
      "Trial 182 parameters: {'booster': 'dart', 'tree_method': 'auto', 'grow_policy': 'lossguide', 'eta': 0.41337089092612767, 'gamma': 1.527492308154906, 'max_depth': 10, 'min_child_weight': 3.3057679607708974, 'max_delta_step': 1.0983923567959633, 'subsample': 0.530348877078827, 'reg_lambda': 0.7843712740472881, 'alpha': 0.002262682371982466, 'scale_pos_weight': 0.8514743896726171, 'max_leaves': 10, 'max_bin': 175, 'random_state': 42, 'eval_metric': 'mae', 'device': 'cuda'}\n"
     ]
    },
    {
     "name": "stderr",
     "output_type": "stream",
     "text": [
      "[I 2025-04-13 18:01:57,316] Trial 182 finished with value: 0.5509602716551044 and parameters: {'booster_idx': 3, 'tree_method_idx': 1, 'grow_policy_idx': 2, 'eta': 0.41337089092612767, 'gamma': 1.527492308154906, 'max_depth': 10, 'min_child_weight': 3.3057679607708974, 'max_delta_step': 1.0983923567959633, 'subsample': 0.530348877078827, 'lambda': 0.7843712740472881, 'alpha': 0.002262682371982466, 'scale_pos_weight': 0.8514743896726171, 'max_leaves': 10, 'max_bin': 175}. Best is trial 153 with value: 0.5506376406321496.\n"
     ]
    },
    {
     "name": "stdout",
     "output_type": "stream",
     "text": [
      "Trial 182 - MAE: 0.5509602716551044\n",
      "\n",
      "Trial 183 parameters: {'booster': 'dart', 'tree_method': 'auto', 'grow_policy': 'lossguide', 'eta': 0.41960461277759065, 'gamma': 1.6972857903464553, 'max_depth': 10, 'min_child_weight': 3.3126016425184788, 'max_delta_step': 1.1086644457137873, 'subsample': 0.5420956545984925, 'reg_lambda': 0.7938669358028189, 'alpha': 0.002308069529156866, 'scale_pos_weight': 0.6907285792562546, 'max_leaves': 10, 'max_bin': 175, 'random_state': 42, 'eval_metric': 'mae', 'device': 'cuda'}\n"
     ]
    },
    {
     "name": "stderr",
     "output_type": "stream",
     "text": [
      "[I 2025-04-13 18:02:07,297] Trial 183 finished with value: 0.5559368442279183 and parameters: {'booster_idx': 3, 'tree_method_idx': 1, 'grow_policy_idx': 2, 'eta': 0.41960461277759065, 'gamma': 1.6972857903464553, 'max_depth': 10, 'min_child_weight': 3.3126016425184788, 'max_delta_step': 1.1086644457137873, 'subsample': 0.5420956545984925, 'lambda': 0.7938669358028189, 'alpha': 0.002308069529156866, 'scale_pos_weight': 0.6907285792562546, 'max_leaves': 10, 'max_bin': 175}. Best is trial 153 with value: 0.5506376406321496.\n"
     ]
    },
    {
     "name": "stdout",
     "output_type": "stream",
     "text": [
      "Trial 183 - MAE: 0.5559368442279183\n",
      "\n",
      "Trial 184 parameters: {'booster': 'dart', 'tree_method': 'auto', 'grow_policy': 'lossguide', 'eta': 0.48573300800574293, 'gamma': 1.5214254003980563, 'max_depth': 10, 'min_child_weight': 3.7579325760220126, 'max_delta_step': 0.9146110433867771, 'subsample': 0.46823255262854147, 'reg_lambda': 0.4959283157552041, 'alpha': 0.003904017914376654, 'scale_pos_weight': 0.859658454260681, 'max_leaves': 10, 'max_bin': 200, 'random_state': 42, 'eval_metric': 'mae', 'device': 'cuda'}\n"
     ]
    },
    {
     "name": "stderr",
     "output_type": "stream",
     "text": [
      "[I 2025-04-13 18:02:17,132] Trial 184 finished with value: 0.5542514575781641 and parameters: {'booster_idx': 3, 'tree_method_idx': 1, 'grow_policy_idx': 2, 'eta': 0.48573300800574293, 'gamma': 1.5214254003980563, 'max_depth': 10, 'min_child_weight': 3.7579325760220126, 'max_delta_step': 0.9146110433867771, 'subsample': 0.46823255262854147, 'lambda': 0.4959283157552041, 'alpha': 0.003904017914376654, 'scale_pos_weight': 0.859658454260681, 'max_leaves': 10, 'max_bin': 200}. Best is trial 153 with value: 0.5506376406321496.\n"
     ]
    },
    {
     "name": "stdout",
     "output_type": "stream",
     "text": [
      "Trial 184 - MAE: 0.5542514575781641\n",
      "\n",
      "Trial 185 parameters: {'booster': 'dart', 'tree_method': 'auto', 'grow_policy': 'lossguide', 'eta': 0.3622957307503402, 'gamma': 1.1429172165322825, 'max_depth': 10, 'min_child_weight': 3.9593284920543654, 'max_delta_step': 0.7649672184794325, 'subsample': 0.5532012465393301, 'reg_lambda': 0.9907507737469364, 'alpha': 0.0013354470319850873, 'scale_pos_weight': 0.7890481437465678, 'max_leaves': 10, 'max_bin': 200, 'random_state': 42, 'eval_metric': 'mae', 'device': 'cuda'}\n"
     ]
    },
    {
     "name": "stderr",
     "output_type": "stream",
     "text": [
      "[I 2025-04-13 18:02:27,047] Trial 185 finished with value: 0.5504509945257705 and parameters: {'booster_idx': 3, 'tree_method_idx': 1, 'grow_policy_idx': 2, 'eta': 0.3622957307503402, 'gamma': 1.1429172165322825, 'max_depth': 10, 'min_child_weight': 3.9593284920543654, 'max_delta_step': 0.7649672184794325, 'subsample': 0.5532012465393301, 'lambda': 0.9907507737469364, 'alpha': 0.0013354470319850873, 'scale_pos_weight': 0.7890481437465678, 'max_leaves': 10, 'max_bin': 200}. Best is trial 185 with value: 0.5504509945257705.\n"
     ]
    },
    {
     "name": "stdout",
     "output_type": "stream",
     "text": [
      "Trial 185 - MAE: 0.5504509945257705\n",
      "\n",
      "Trial 186 parameters: {'booster': 'dart', 'tree_method': 'auto', 'grow_policy': 'lossguide', 'eta': 0.35588588369094204, 'gamma': 0.9053457557122238, 'max_depth': 10, 'min_child_weight': 3.59449698165465, 'max_delta_step': 1.0198564752097221, 'subsample': 0.5586895333360313, 'reg_lambda': 0.9739801328755099, 'alpha': 0.0018659320320565957, 'scale_pos_weight': 0.5060567796091819, 'max_leaves': 10, 'max_bin': 200, 'random_state': 42, 'eval_metric': 'mae', 'device': 'cuda'}\n"
     ]
    },
    {
     "name": "stderr",
     "output_type": "stream",
     "text": [
      "[I 2025-04-13 18:02:37,079] Trial 186 finished with value: 0.5560979118129152 and parameters: {'booster_idx': 3, 'tree_method_idx': 1, 'grow_policy_idx': 2, 'eta': 0.35588588369094204, 'gamma': 0.9053457557122238, 'max_depth': 10, 'min_child_weight': 3.59449698165465, 'max_delta_step': 1.0198564752097221, 'subsample': 0.5586895333360313, 'lambda': 0.9739801328755099, 'alpha': 0.0018659320320565957, 'scale_pos_weight': 0.5060567796091819, 'max_leaves': 10, 'max_bin': 200}. Best is trial 185 with value: 0.5504509945257705.\n"
     ]
    },
    {
     "name": "stdout",
     "output_type": "stream",
     "text": [
      "Trial 186 - MAE: 0.5560979118129152\n",
      "\n",
      "Trial 187 parameters: {'booster': 'dart', 'tree_method': 'auto', 'grow_policy': 'lossguide', 'eta': 0.4309292379990315, 'gamma': 1.1919593881690163, 'max_depth': 10, 'min_child_weight': 3.9487169790280268, 'max_delta_step': 0.7863589840698777, 'subsample': 0.5270198562035959, 'reg_lambda': 0.6561605442597176, 'alpha': 0.0030595715276907705, 'scale_pos_weight': 0.772092103729411, 'max_leaves': 10, 'max_bin': 200, 'random_state': 42, 'eval_metric': 'mae', 'device': 'cuda'}\n"
     ]
    },
    {
     "name": "stderr",
     "output_type": "stream",
     "text": [
      "[I 2025-04-13 18:02:46,882] Trial 187 finished with value: 0.5520159599219742 and parameters: {'booster_idx': 3, 'tree_method_idx': 1, 'grow_policy_idx': 2, 'eta': 0.4309292379990315, 'gamma': 1.1919593881690163, 'max_depth': 10, 'min_child_weight': 3.9487169790280268, 'max_delta_step': 0.7863589840698777, 'subsample': 0.5270198562035959, 'lambda': 0.6561605442597176, 'alpha': 0.0030595715276907705, 'scale_pos_weight': 0.772092103729411, 'max_leaves': 10, 'max_bin': 200}. Best is trial 185 with value: 0.5504509945257705.\n"
     ]
    },
    {
     "name": "stdout",
     "output_type": "stream",
     "text": [
      "Trial 187 - MAE: 0.5520159599219742\n",
      "\n",
      "Trial 188 parameters: {'booster': 'dart', 'tree_method': 'auto', 'grow_policy': 'lossguide', 'eta': 0.5324193949071998, 'gamma': 0.3419634825669754, 'max_depth': 10, 'min_child_weight': 3.978129042909539, 'max_delta_step': 0.8165737256422931, 'subsample': 0.5365219244732072, 'reg_lambda': 0.6335653226042173, 'alpha': 0.002788233967239265, 'scale_pos_weight': 0.6298289949689568, 'max_leaves': 10, 'max_bin': 150, 'random_state': 42, 'eval_metric': 'mae', 'device': 'cuda'}\n"
     ]
    },
    {
     "name": "stderr",
     "output_type": "stream",
     "text": [
      "[I 2025-04-13 18:02:56,711] Trial 188 finished with value: 0.5548735039419856 and parameters: {'booster_idx': 3, 'tree_method_idx': 1, 'grow_policy_idx': 2, 'eta': 0.5324193949071998, 'gamma': 0.3419634825669754, 'max_depth': 10, 'min_child_weight': 3.978129042909539, 'max_delta_step': 0.8165737256422931, 'subsample': 0.5365219244732072, 'lambda': 0.6335653226042173, 'alpha': 0.002788233967239265, 'scale_pos_weight': 0.6298289949689568, 'max_leaves': 10, 'max_bin': 150}. Best is trial 185 with value: 0.5504509945257705.\n"
     ]
    },
    {
     "name": "stdout",
     "output_type": "stream",
     "text": [
      "Trial 188 - MAE: 0.5548735039419856\n",
      "\n",
      "Trial 189 parameters: {'booster': 'dart', 'tree_method': 'auto', 'grow_policy': 'lossguide', 'eta': 0.44747282140377237, 'gamma': 1.1685083028631698, 'max_depth': 10, 'min_child_weight': 3.8919329094424198, 'max_delta_step': 0.7487334133194128, 'subsample': 0.5318838197732978, 'reg_lambda': 1.4445514512430042, 'alpha': 0.0032323157228787793, 'scale_pos_weight': 0.8647607745214113, 'max_leaves': 10, 'max_bin': 200, 'random_state': 42, 'eval_metric': 'mae', 'device': 'cuda'}\n"
     ]
    },
    {
     "name": "stderr",
     "output_type": "stream",
     "text": [
      "[I 2025-04-13 18:03:06,772] Trial 189 finished with value: 0.551105619072762 and parameters: {'booster_idx': 3, 'tree_method_idx': 1, 'grow_policy_idx': 2, 'eta': 0.44747282140377237, 'gamma': 1.1685083028631698, 'max_depth': 10, 'min_child_weight': 3.8919329094424198, 'max_delta_step': 0.7487334133194128, 'subsample': 0.5318838197732978, 'lambda': 1.4445514512430042, 'alpha': 0.0032323157228787793, 'scale_pos_weight': 0.8647607745214113, 'max_leaves': 10, 'max_bin': 200}. Best is trial 185 with value: 0.5504509945257705.\n"
     ]
    },
    {
     "name": "stdout",
     "output_type": "stream",
     "text": [
      "Trial 189 - MAE: 0.551105619072762\n",
      "\n",
      "Trial 190 parameters: {'booster': 'dart', 'tree_method': 'auto', 'grow_policy': 'lossguide', 'eta': 0.45297315860855414, 'gamma': 1.209436841331624, 'max_depth': 10, 'min_child_weight': 3.810798597221548, 'max_delta_step': 0.7976175910803323, 'subsample': 0.5514341045964033, 'reg_lambda': 1.0472298025842066, 'alpha': 0.003387471271315245, 'scale_pos_weight': 0.6916735640074293, 'max_leaves': 10, 'max_bin': 175, 'random_state': 42, 'eval_metric': 'mae', 'device': 'cuda'}\n"
     ]
    },
    {
     "name": "stderr",
     "output_type": "stream",
     "text": [
      "[I 2025-04-13 18:03:16,442] Trial 190 finished with value: 0.5535743739004874 and parameters: {'booster_idx': 3, 'tree_method_idx': 1, 'grow_policy_idx': 2, 'eta': 0.45297315860855414, 'gamma': 1.209436841331624, 'max_depth': 10, 'min_child_weight': 3.810798597221548, 'max_delta_step': 0.7976175910803323, 'subsample': 0.5514341045964033, 'lambda': 1.0472298025842066, 'alpha': 0.003387471271315245, 'scale_pos_weight': 0.6916735640074293, 'max_leaves': 10, 'max_bin': 175}. Best is trial 185 with value: 0.5504509945257705.\n"
     ]
    },
    {
     "name": "stdout",
     "output_type": "stream",
     "text": [
      "Trial 190 - MAE: 0.5535743739004874\n",
      "\n",
      "Trial 191 parameters: {'booster': 'dart', 'tree_method': 'auto', 'grow_policy': 'lossguide', 'eta': 0.3983559574288441, 'gamma': 0.8701167412992932, 'max_depth': 10, 'min_child_weight': 3.890543582454012, 'max_delta_step': 0.7435646147662467, 'subsample': 0.5282404142993967, 'reg_lambda': 1.2592852536900516, 'alpha': 0.0022179413775368566, 'scale_pos_weight': 0.8759496704946491, 'max_leaves': 10, 'max_bin': 200, 'random_state': 42, 'eval_metric': 'mae', 'device': 'cuda'}\n"
     ]
    },
    {
     "name": "stderr",
     "output_type": "stream",
     "text": [
      "[I 2025-04-13 18:03:26,328] Trial 191 finished with value: 0.552868828723927 and parameters: {'booster_idx': 3, 'tree_method_idx': 1, 'grow_policy_idx': 2, 'eta': 0.3983559574288441, 'gamma': 0.8701167412992932, 'max_depth': 10, 'min_child_weight': 3.890543582454012, 'max_delta_step': 0.7435646147662467, 'subsample': 0.5282404142993967, 'lambda': 1.2592852536900516, 'alpha': 0.0022179413775368566, 'scale_pos_weight': 0.8759496704946491, 'max_leaves': 10, 'max_bin': 200}. Best is trial 185 with value: 0.5504509945257705.\n"
     ]
    },
    {
     "name": "stdout",
     "output_type": "stream",
     "text": [
      "Trial 191 - MAE: 0.552868828723927\n",
      "\n",
      "Trial 192 parameters: {'booster': 'dart', 'tree_method': 'auto', 'grow_policy': 'lossguide', 'eta': 0.45691407063312195, 'gamma': 1.249146184686964, 'max_depth': 10, 'min_child_weight': 3.736386916802769, 'max_delta_step': 0.9091571273957619, 'subsample': 0.5104507669483976, 'reg_lambda': 1.5834304679429787, 'alpha': 0.004418547660119965, 'scale_pos_weight': 0.787328993384751, 'max_leaves': 10, 'max_bin': 200, 'random_state': 42, 'eval_metric': 'mae', 'device': 'cuda'}\n"
     ]
    },
    {
     "name": "stderr",
     "output_type": "stream",
     "text": [
      "[I 2025-04-13 18:03:36,314] Trial 192 finished with value: 0.5528498414450991 and parameters: {'booster_idx': 3, 'tree_method_idx': 1, 'grow_policy_idx': 2, 'eta': 0.45691407063312195, 'gamma': 1.249146184686964, 'max_depth': 10, 'min_child_weight': 3.736386916802769, 'max_delta_step': 0.9091571273957619, 'subsample': 0.5104507669483976, 'lambda': 1.5834304679429787, 'alpha': 0.004418547660119965, 'scale_pos_weight': 0.787328993384751, 'max_leaves': 10, 'max_bin': 200}. Best is trial 185 with value: 0.5504509945257705.\n"
     ]
    },
    {
     "name": "stdout",
     "output_type": "stream",
     "text": [
      "Trial 192 - MAE: 0.5528498414450991\n",
      "\n",
      "Trial 193 parameters: {'booster': 'dart', 'tree_method': 'auto', 'grow_policy': 'lossguide', 'eta': 0.3193595483637909, 'gamma': 1.493257607468638, 'max_depth': 10, 'min_child_weight': 3.9530978670099137, 'max_delta_step': 1.0356671571482203, 'subsample': 0.5300118772840452, 'reg_lambda': 0.7245965414858903, 'alpha': 0.002670164769189589, 'scale_pos_weight': 0.8358621426879088, 'max_leaves': 10, 'max_bin': 175, 'random_state': 42, 'eval_metric': 'mae', 'device': 'cuda'}\n"
     ]
    },
    {
     "name": "stderr",
     "output_type": "stream",
     "text": [
      "[I 2025-04-13 18:03:46,072] Trial 193 finished with value: 0.5550542443043733 and parameters: {'booster_idx': 3, 'tree_method_idx': 1, 'grow_policy_idx': 2, 'eta': 0.3193595483637909, 'gamma': 1.493257607468638, 'max_depth': 10, 'min_child_weight': 3.9530978670099137, 'max_delta_step': 1.0356671571482203, 'subsample': 0.5300118772840452, 'lambda': 0.7245965414858903, 'alpha': 0.002670164769189589, 'scale_pos_weight': 0.8358621426879088, 'max_leaves': 10, 'max_bin': 175}. Best is trial 185 with value: 0.5504509945257705.\n"
     ]
    },
    {
     "name": "stdout",
     "output_type": "stream",
     "text": [
      "Trial 193 - MAE: 0.5550542443043733\n",
      "\n",
      "Trial 194 parameters: {'booster': 'dart', 'tree_method': 'auto', 'grow_policy': 'lossguide', 'eta': 0.5462044541542096, 'gamma': 1.8605615188027609, 'max_depth': 10, 'min_child_weight': 4.092028313785395, 'max_delta_step': 0.9119629077961187, 'subsample': 0.5650378403457077, 'reg_lambda': 0.8260661519363759, 'alpha': 0.001351724273240711, 'scale_pos_weight': 0.9228576098297543, 'max_leaves': 10, 'max_bin': 200, 'random_state': 42, 'eval_metric': 'mae', 'device': 'cuda'}\n"
     ]
    },
    {
     "name": "stderr",
     "output_type": "stream",
     "text": [
      "[I 2025-04-13 18:03:55,993] Trial 194 finished with value: 0.5537155920451904 and parameters: {'booster_idx': 3, 'tree_method_idx': 1, 'grow_policy_idx': 2, 'eta': 0.5462044541542096, 'gamma': 1.8605615188027609, 'max_depth': 10, 'min_child_weight': 4.092028313785395, 'max_delta_step': 0.9119629077961187, 'subsample': 0.5650378403457077, 'lambda': 0.8260661519363759, 'alpha': 0.001351724273240711, 'scale_pos_weight': 0.9228576098297543, 'max_leaves': 10, 'max_bin': 200}. Best is trial 185 with value: 0.5504509945257705.\n"
     ]
    },
    {
     "name": "stdout",
     "output_type": "stream",
     "text": [
      "Trial 194 - MAE: 0.5537155920451904\n",
      "\n",
      "Trial 195 parameters: {'booster': 'dart', 'tree_method': 'auto', 'grow_policy': 'lossguide', 'eta': 0.40448442826208975, 'gamma': 1.3680889642484673, 'max_depth': 10, 'min_child_weight': 3.487073997245159, 'max_delta_step': 1.1552559291635303, 'subsample': 0.4895443707670217, 'reg_lambda': 0.6276965035230686, 'alpha': 0.003102719771089034, 'scale_pos_weight': 1.0281832914951283, 'max_leaves': 10, 'max_bin': 225, 'random_state': 42, 'eval_metric': 'mae', 'device': 'cuda'}\n"
     ]
    },
    {
     "name": "stderr",
     "output_type": "stream",
     "text": [
      "[I 2025-04-13 18:04:05,921] Trial 195 finished with value: 0.5530825740929373 and parameters: {'booster_idx': 3, 'tree_method_idx': 1, 'grow_policy_idx': 2, 'eta': 0.40448442826208975, 'gamma': 1.3680889642484673, 'max_depth': 10, 'min_child_weight': 3.487073997245159, 'max_delta_step': 1.1552559291635303, 'subsample': 0.4895443707670217, 'lambda': 0.6276965035230686, 'alpha': 0.003102719771089034, 'scale_pos_weight': 1.0281832914951283, 'max_leaves': 10, 'max_bin': 225}. Best is trial 185 with value: 0.5504509945257705.\n"
     ]
    },
    {
     "name": "stdout",
     "output_type": "stream",
     "text": [
      "Trial 195 - MAE: 0.5530825740929373\n",
      "\n",
      "Trial 196 parameters: {'booster': 'dart', 'tree_method': 'auto', 'grow_policy': 'lossguide', 'eta': 0.3460008694048903, 'gamma': 1.0795610437635954, 'max_depth': 10, 'min_child_weight': 3.8994187173270545, 'max_delta_step': 0.7176168682913258, 'subsample': 0.5017260958769164, 'reg_lambda': 0.3970986321388589, 'alpha': 0.0020273878931652005, 'scale_pos_weight': 0.7282912821811541, 'max_leaves': 10, 'max_bin': 200, 'random_state': 42, 'eval_metric': 'mae', 'device': 'cuda'}\n"
     ]
    },
    {
     "name": "stderr",
     "output_type": "stream",
     "text": [
      "[I 2025-04-13 18:04:15,757] Trial 196 finished with value: 0.5533834035965116 and parameters: {'booster_idx': 3, 'tree_method_idx': 1, 'grow_policy_idx': 2, 'eta': 0.3460008694048903, 'gamma': 1.0795610437635954, 'max_depth': 10, 'min_child_weight': 3.8994187173270545, 'max_delta_step': 0.7176168682913258, 'subsample': 0.5017260958769164, 'lambda': 0.3970986321388589, 'alpha': 0.0020273878931652005, 'scale_pos_weight': 0.7282912821811541, 'max_leaves': 10, 'max_bin': 200}. Best is trial 185 with value: 0.5504509945257705.\n"
     ]
    },
    {
     "name": "stdout",
     "output_type": "stream",
     "text": [
      "Trial 196 - MAE: 0.5533834035965116\n",
      "\n",
      "Trial 197 parameters: {'booster': 'dart', 'tree_method': 'auto', 'grow_policy': 'lossguide', 'eta': 0.279529790886847, 'gamma': 0.7372287506280426, 'max_depth': 10, 'min_child_weight': 4.0098076548579, 'max_delta_step': 1.0655827478430315, 'subsample': 0.5238796075786847, 'reg_lambda': 0.5490506107126777, 'alpha': 0.0025737550258592276, 'scale_pos_weight': 0.583665883710694, 'max_leaves': 10, 'max_bin': 200, 'random_state': 42, 'eval_metric': 'mae', 'device': 'cuda'}\n"
     ]
    },
    {
     "name": "stderr",
     "output_type": "stream",
     "text": [
      "[I 2025-04-13 18:04:25,601] Trial 197 finished with value: 0.5589232314255519 and parameters: {'booster_idx': 3, 'tree_method_idx': 1, 'grow_policy_idx': 2, 'eta': 0.279529790886847, 'gamma': 0.7372287506280426, 'max_depth': 10, 'min_child_weight': 4.0098076548579, 'max_delta_step': 1.0655827478430315, 'subsample': 0.5238796075786847, 'lambda': 0.5490506107126777, 'alpha': 0.0025737550258592276, 'scale_pos_weight': 0.583665883710694, 'max_leaves': 10, 'max_bin': 200}. Best is trial 185 with value: 0.5504509945257705.\n"
     ]
    },
    {
     "name": "stdout",
     "output_type": "stream",
     "text": [
      "Trial 197 - MAE: 0.5589232314255519\n",
      "\n",
      "Trial 198 parameters: {'booster': 'dart', 'tree_method': 'auto', 'grow_policy': 'lossguide', 'eta': 0.48162544176575534, 'gamma': 1.7122870601822482, 'max_depth': 10, 'min_child_weight': 3.759772196973377, 'max_delta_step': 0.8351351966615533, 'subsample': 0.5455687510004499, 'reg_lambda': 0.3105280952793921, 'alpha': 0.0012506091838387708, 'scale_pos_weight': 0.8170580114742781, 'max_leaves': 10, 'max_bin': 225, 'random_state': 42, 'eval_metric': 'mae', 'device': 'cuda'}\n"
     ]
    },
    {
     "name": "stderr",
     "output_type": "stream",
     "text": [
      "[I 2025-04-13 18:04:35,609] Trial 198 finished with value: 0.5529264301921207 and parameters: {'booster_idx': 3, 'tree_method_idx': 1, 'grow_policy_idx': 2, 'eta': 0.48162544176575534, 'gamma': 1.7122870601822482, 'max_depth': 10, 'min_child_weight': 3.759772196973377, 'max_delta_step': 0.8351351966615533, 'subsample': 0.5455687510004499, 'lambda': 0.3105280952793921, 'alpha': 0.0012506091838387708, 'scale_pos_weight': 0.8170580114742781, 'max_leaves': 10, 'max_bin': 225}. Best is trial 185 with value: 0.5504509945257705.\n"
     ]
    },
    {
     "name": "stdout",
     "output_type": "stream",
     "text": [
      "Trial 198 - MAE: 0.5529264301921207\n",
      "\n",
      "Trial 199 parameters: {'booster': 'dart', 'tree_method': 'auto', 'grow_policy': 'lossguide', 'eta': 0.39285118374075123, 'gamma': 1.3650359843534772, 'max_depth': 10, 'min_child_weight': 3.6831195450964977, 'max_delta_step': 1.1796722247974185, 'subsample': 0.47458939473087614, 'reg_lambda': 0.9212671754006351, 'alpha': 0.0021932415684789656, 'scale_pos_weight': 0.9566356574558517, 'max_leaves': 9, 'max_bin': 175, 'random_state': 42, 'eval_metric': 'mae', 'device': 'cuda'}\n"
     ]
    },
    {
     "name": "stderr",
     "output_type": "stream",
     "text": [
      "[I 2025-04-13 18:04:45,126] Trial 199 finished with value: 0.5565803776903026 and parameters: {'booster_idx': 3, 'tree_method_idx': 1, 'grow_policy_idx': 2, 'eta': 0.39285118374075123, 'gamma': 1.3650359843534772, 'max_depth': 10, 'min_child_weight': 3.6831195450964977, 'max_delta_step': 1.1796722247974185, 'subsample': 0.47458939473087614, 'lambda': 0.9212671754006351, 'alpha': 0.0021932415684789656, 'scale_pos_weight': 0.9566356574558517, 'max_leaves': 9, 'max_bin': 175}. Best is trial 185 with value: 0.5504509945257705.\n"
     ]
    },
    {
     "name": "stdout",
     "output_type": "stream",
     "text": [
      "Trial 199 - MAE: 0.5565803776903026\n",
      "\n",
      "Trial 200 parameters: {'booster': 'dart', 'tree_method': 'auto', 'grow_policy': 'lossguide', 'eta': 0.30505381009049715, 'gamma': 1.9654719940608092, 'max_depth': 5, 'min_child_weight': 3.5923145515930415, 'max_delta_step': 1.0126596281894538, 'subsample': 0.45130846969918587, 'reg_lambda': 0.38152955516665005, 'alpha': 0.001634829454238323, 'scale_pos_weight': 0.6656182843230882, 'max_leaves': 10, 'max_bin': 225, 'random_state': 42, 'eval_metric': 'mae', 'device': 'cuda'}\n"
     ]
    },
    {
     "name": "stderr",
     "output_type": "stream",
     "text": [
      "[I 2025-04-13 18:04:54,961] Trial 200 finished with value: 0.5567824054063739 and parameters: {'booster_idx': 3, 'tree_method_idx': 1, 'grow_policy_idx': 2, 'eta': 0.30505381009049715, 'gamma': 1.9654719940608092, 'max_depth': 5, 'min_child_weight': 3.5923145515930415, 'max_delta_step': 1.0126596281894538, 'subsample': 0.45130846969918587, 'lambda': 0.38152955516665005, 'alpha': 0.001634829454238323, 'scale_pos_weight': 0.6656182843230882, 'max_leaves': 10, 'max_bin': 225}. Best is trial 185 with value: 0.5504509945257705.\n"
     ]
    },
    {
     "name": "stdout",
     "output_type": "stream",
     "text": [
      "Trial 200 - MAE: 0.5567824054063739\n",
      "\n",
      "Trial 201 parameters: {'booster': 'dart', 'tree_method': 'auto', 'grow_policy': 'lossguide', 'eta': 0.37078549408742945, 'gamma': 1.5412379461767887, 'max_depth': 10, 'min_child_weight': 3.2364712987843123, 'max_delta_step': 1.3412759816864743, 'subsample': 0.44507991612322234, 'reg_lambda': 0.49397034676890184, 'alpha': 0.0017378121377614323, 'scale_pos_weight': 0.7760919225608053, 'max_leaves': 10, 'max_bin': 200, 'random_state': 42, 'eval_metric': 'mae', 'device': 'cuda'}\n"
     ]
    },
    {
     "name": "stderr",
     "output_type": "stream",
     "text": [
      "[I 2025-04-13 18:05:04,968] Trial 201 finished with value: 0.5518632927381746 and parameters: {'booster_idx': 3, 'tree_method_idx': 1, 'grow_policy_idx': 2, 'eta': 0.37078549408742945, 'gamma': 1.5412379461767887, 'max_depth': 10, 'min_child_weight': 3.2364712987843123, 'max_delta_step': 1.3412759816864743, 'subsample': 0.44507991612322234, 'lambda': 0.49397034676890184, 'alpha': 0.0017378121377614323, 'scale_pos_weight': 0.7760919225608053, 'max_leaves': 10, 'max_bin': 200}. Best is trial 185 with value: 0.5504509945257705.\n"
     ]
    },
    {
     "name": "stdout",
     "output_type": "stream",
     "text": [
      "Trial 201 - MAE: 0.5518632927381746\n",
      "\n",
      "Trial 202 parameters: {'booster': 'dart', 'tree_method': 'auto', 'grow_policy': 'lossguide', 'eta': 0.3574348303223, 'gamma': 1.5874444760371322, 'max_depth': 10, 'min_child_weight': 3.231880198387535, 'max_delta_step': 1.3286924017139543, 'subsample': 0.4557825553594228, 'reg_lambda': 0.6689797033818011, 'alpha': 0.0014382279303093225, 'scale_pos_weight': 0.8817557352516355, 'max_leaves': 5, 'max_bin': 200, 'random_state': 42, 'eval_metric': 'mae', 'device': 'cuda'}\n"
     ]
    },
    {
     "name": "stderr",
     "output_type": "stream",
     "text": [
      "[I 2025-04-13 18:05:13,710] Trial 202 finished with value: 0.578105882511785 and parameters: {'booster_idx': 3, 'tree_method_idx': 1, 'grow_policy_idx': 2, 'eta': 0.3574348303223, 'gamma': 1.5874444760371322, 'max_depth': 10, 'min_child_weight': 3.231880198387535, 'max_delta_step': 1.3286924017139543, 'subsample': 0.4557825553594228, 'lambda': 0.6689797033818011, 'alpha': 0.0014382279303093225, 'scale_pos_weight': 0.8817557352516355, 'max_leaves': 5, 'max_bin': 200}. Best is trial 185 with value: 0.5504509945257705.\n"
     ]
    },
    {
     "name": "stdout",
     "output_type": "stream",
     "text": [
      "Trial 202 - MAE: 0.578105882511785\n",
      "\n",
      "Trial 203 parameters: {'booster': 'dart', 'tree_method': 'auto', 'grow_policy': 'lossguide', 'eta': 0.43509564242297916, 'gamma': 1.107705580987017, 'max_depth': 10, 'min_child_weight': 3.448284900387972, 'max_delta_step': 1.1943501606324216, 'subsample': 0.5027606156933888, 'reg_lambda': 0.5010698613324185, 'alpha': 0.0018977517710226147, 'scale_pos_weight': 0.7596645311271908, 'max_leaves': 10, 'max_bin': 200, 'random_state': 42, 'eval_metric': 'mae', 'device': 'cuda'}\n"
     ]
    },
    {
     "name": "stderr",
     "output_type": "stream",
     "text": [
      "[I 2025-04-13 18:05:23,609] Trial 203 finished with value: 0.55459416659959 and parameters: {'booster_idx': 3, 'tree_method_idx': 1, 'grow_policy_idx': 2, 'eta': 0.43509564242297916, 'gamma': 1.107705580987017, 'max_depth': 10, 'min_child_weight': 3.448284900387972, 'max_delta_step': 1.1943501606324216, 'subsample': 0.5027606156933888, 'lambda': 0.5010698613324185, 'alpha': 0.0018977517710226147, 'scale_pos_weight': 0.7596645311271908, 'max_leaves': 10, 'max_bin': 200}. Best is trial 185 with value: 0.5504509945257705.\n"
     ]
    },
    {
     "name": "stdout",
     "output_type": "stream",
     "text": [
      "Trial 203 - MAE: 0.55459416659959\n",
      "\n",
      "Trial 204 parameters: {'booster': 'dart', 'tree_method': 'auto', 'grow_policy': 'lossguide', 'eta': 0.382566833005033, 'gamma': 1.3907526047429737, 'max_depth': 10, 'min_child_weight': 3.27431081697538, 'max_delta_step': 0.9474642321173057, 'subsample': 0.466926676430045, 'reg_lambda': 0.7914981589934975, 'alpha': 0.0034094440478464397, 'scale_pos_weight': 0.818254206765459, 'max_leaves': 10, 'max_bin': 200, 'random_state': 42, 'eval_metric': 'mae', 'device': 'cuda'}\n"
     ]
    },
    {
     "name": "stderr",
     "output_type": "stream",
     "text": [
      "[I 2025-04-13 18:05:33,648] Trial 204 finished with value: 0.552800302010341 and parameters: {'booster_idx': 3, 'tree_method_idx': 1, 'grow_policy_idx': 2, 'eta': 0.382566833005033, 'gamma': 1.3907526047429737, 'max_depth': 10, 'min_child_weight': 3.27431081697538, 'max_delta_step': 0.9474642321173057, 'subsample': 0.466926676430045, 'lambda': 0.7914981589934975, 'alpha': 0.0034094440478464397, 'scale_pos_weight': 0.818254206765459, 'max_leaves': 10, 'max_bin': 200}. Best is trial 185 with value: 0.5504509945257705.\n"
     ]
    },
    {
     "name": "stdout",
     "output_type": "stream",
     "text": [
      "Trial 204 - MAE: 0.552800302010341\n",
      "\n",
      "Trial 205 parameters: {'booster': 'dart', 'tree_method': 'auto', 'grow_policy': 'lossguide', 'eta': 0.31185913918919905, 'gamma': 1.6459931730429527, 'max_depth': 10, 'min_child_weight': 3.3794737021654555, 'max_delta_step': 1.3661042422055114, 'subsample': 0.49213189947509905, 'reg_lambda': 0.4507098737468704, 'alpha': 0.002418950691210871, 'scale_pos_weight': 1.007002660404273, 'max_leaves': 10, 'max_bin': 225, 'random_state': 42, 'eval_metric': 'mae', 'device': 'cuda'}\n"
     ]
    },
    {
     "name": "stderr",
     "output_type": "stream",
     "text": [
      "[I 2025-04-13 18:05:43,552] Trial 205 finished with value: 0.5525570188575448 and parameters: {'booster_idx': 3, 'tree_method_idx': 1, 'grow_policy_idx': 2, 'eta': 0.31185913918919905, 'gamma': 1.6459931730429527, 'max_depth': 10, 'min_child_weight': 3.3794737021654555, 'max_delta_step': 1.3661042422055114, 'subsample': 0.49213189947509905, 'lambda': 0.4507098737468704, 'alpha': 0.002418950691210871, 'scale_pos_weight': 1.007002660404273, 'max_leaves': 10, 'max_bin': 225}. Best is trial 185 with value: 0.5504509945257705.\n"
     ]
    },
    {
     "name": "stdout",
     "output_type": "stream",
     "text": [
      "Trial 205 - MAE: 0.5525570188575448\n",
      "\n",
      "Trial 206 parameters: {'booster': 'dart', 'tree_method': 'auto', 'grow_policy': 'lossguide', 'eta': 0.03425433547218432, 'gamma': 1.235722626849251, 'max_depth': 10, 'min_child_weight': 3.1394583729727863, 'max_delta_step': 1.3616954142227193, 'subsample': 0.49173129929297954, 'reg_lambda': 0.23132809918281438, 'alpha': 0.0024696806403562243, 'scale_pos_weight': 1.0626505137416569, 'max_leaves': 10, 'max_bin': 175, 'random_state': 42, 'eval_metric': 'mae', 'device': 'cuda'}\n"
     ]
    },
    {
     "name": "stderr",
     "output_type": "stream",
     "text": [
      "[I 2025-04-13 18:05:53,208] Trial 206 finished with value: 0.6477326520068579 and parameters: {'booster_idx': 3, 'tree_method_idx': 1, 'grow_policy_idx': 2, 'eta': 0.03425433547218432, 'gamma': 1.235722626849251, 'max_depth': 10, 'min_child_weight': 3.1394583729727863, 'max_delta_step': 1.3616954142227193, 'subsample': 0.49173129929297954, 'lambda': 0.23132809918281438, 'alpha': 0.0024696806403562243, 'scale_pos_weight': 1.0626505137416569, 'max_leaves': 10, 'max_bin': 175}. Best is trial 185 with value: 0.5504509945257705.\n"
     ]
    },
    {
     "name": "stdout",
     "output_type": "stream",
     "text": [
      "Trial 206 - MAE: 0.6477326520068579\n",
      "\n",
      "Trial 207 parameters: {'booster': 'dart', 'tree_method': 'auto', 'grow_policy': 'lossguide', 'eta': 0.3271216749653051, 'gamma': 1.6209717849292797, 'max_depth': 10, 'min_child_weight': 3.4002577377114567, 'max_delta_step': 1.2226732679026913, 'subsample': 0.5268734803294288, 'reg_lambda': 0.43768003190055155, 'alpha': 0.0029336877002233475, 'scale_pos_weight': 0.9955479064625248, 'max_leaves': 10, 'max_bin': 200, 'random_state': 42, 'eval_metric': 'mae', 'device': 'cuda'}\n"
     ]
    },
    {
     "name": "stderr",
     "output_type": "stream",
     "text": [
      "[I 2025-04-13 18:06:03,462] Trial 207 finished with value: 0.5536993034234814 and parameters: {'booster_idx': 3, 'tree_method_idx': 1, 'grow_policy_idx': 2, 'eta': 0.3271216749653051, 'gamma': 1.6209717849292797, 'max_depth': 10, 'min_child_weight': 3.4002577377114567, 'max_delta_step': 1.2226732679026913, 'subsample': 0.5268734803294288, 'lambda': 0.43768003190055155, 'alpha': 0.0029336877002233475, 'scale_pos_weight': 0.9955479064625248, 'max_leaves': 10, 'max_bin': 200}. Best is trial 185 with value: 0.5504509945257705.\n"
     ]
    },
    {
     "name": "stdout",
     "output_type": "stream",
     "text": [
      "Trial 207 - MAE: 0.5536993034234814\n",
      "\n",
      "Trial 208 parameters: {'booster': 'dart', 'tree_method': 'auto', 'grow_policy': 'lossguide', 'eta': 0.29416715737613086, 'gamma': 0.8764199344947309, 'max_depth': 10, 'min_child_weight': 3.225010762190759, 'max_delta_step': 1.1066520268176234, 'subsample': 0.5094031295685075, 'reg_lambda': 1.4121262184398065, 'alpha': 0.003977643939887294, 'scale_pos_weight': 0.9216643464029474, 'max_leaves': 10, 'max_bin': 225, 'random_state': 42, 'eval_metric': 'mae', 'device': 'cuda'}\n"
     ]
    },
    {
     "name": "stderr",
     "output_type": "stream",
     "text": [
      "[I 2025-04-13 18:06:13,364] Trial 208 finished with value: 0.5541397670358414 and parameters: {'booster_idx': 3, 'tree_method_idx': 1, 'grow_policy_idx': 2, 'eta': 0.29416715737613086, 'gamma': 0.8764199344947309, 'max_depth': 10, 'min_child_weight': 3.225010762190759, 'max_delta_step': 1.1066520268176234, 'subsample': 0.5094031295685075, 'lambda': 1.4121262184398065, 'alpha': 0.003977643939887294, 'scale_pos_weight': 0.9216643464029474, 'max_leaves': 10, 'max_bin': 225}. Best is trial 185 with value: 0.5504509945257705.\n"
     ]
    },
    {
     "name": "stdout",
     "output_type": "stream",
     "text": [
      "Trial 208 - MAE: 0.5541397670358414\n",
      "\n",
      "Trial 209 parameters: {'booster': 'dart', 'tree_method': 'auto', 'grow_policy': 'lossguide', 'eta': 0.24229205698617595, 'gamma': 2.1460878982099567, 'max_depth': 10, 'min_child_weight': 3.442389211016195, 'max_delta_step': 1.4024612469141289, 'subsample': 0.4448122905165648, 'reg_lambda': 0.30800237532521274, 'alpha': 0.002202013932273863, 'scale_pos_weight': 0.7006928938336835, 'max_leaves': 10, 'max_bin': 150, 'random_state': 42, 'eval_metric': 'mae', 'device': 'cuda'}\n"
     ]
    },
    {
     "name": "stderr",
     "output_type": "stream",
     "text": [
      "[I 2025-04-13 18:06:23,079] Trial 209 finished with value: 0.5577905609432041 and parameters: {'booster_idx': 3, 'tree_method_idx': 1, 'grow_policy_idx': 2, 'eta': 0.24229205698617595, 'gamma': 2.1460878982099567, 'max_depth': 10, 'min_child_weight': 3.442389211016195, 'max_delta_step': 1.4024612469141289, 'subsample': 0.4448122905165648, 'lambda': 0.30800237532521274, 'alpha': 0.002202013932273863, 'scale_pos_weight': 0.7006928938336835, 'max_leaves': 10, 'max_bin': 150}. Best is trial 185 with value: 0.5504509945257705.\n"
     ]
    },
    {
     "name": "stdout",
     "output_type": "stream",
     "text": [
      "Trial 209 - MAE: 0.5577905609432041\n",
      "\n",
      "Trial 210 parameters: {'booster': 'dart', 'tree_method': 'auto', 'grow_policy': 'lossguide', 'eta': 0.5302468463693971, 'gamma': 1.5582996167621026, 'max_depth': 10, 'min_child_weight': 3.3367860340177433, 'max_delta_step': 4.794913670435568, 'subsample': 0.49460927981084934, 'reg_lambda': 1.1311641182271195, 'alpha': 0.0012747095820328336, 'scale_pos_weight': 0.6176112456824063, 'max_leaves': 10, 'max_bin': 175, 'random_state': 42, 'eval_metric': 'mae', 'device': 'cuda'}\n"
     ]
    },
    {
     "name": "stderr",
     "output_type": "stream",
     "text": [
      "[I 2025-04-13 18:06:33,119] Trial 210 finished with value: 0.5551080837978276 and parameters: {'booster_idx': 3, 'tree_method_idx': 1, 'grow_policy_idx': 2, 'eta': 0.5302468463693971, 'gamma': 1.5582996167621026, 'max_depth': 10, 'min_child_weight': 3.3367860340177433, 'max_delta_step': 4.794913670435568, 'subsample': 0.49460927981084934, 'lambda': 1.1311641182271195, 'alpha': 0.0012747095820328336, 'scale_pos_weight': 0.6176112456824063, 'max_leaves': 10, 'max_bin': 175}. Best is trial 185 with value: 0.5504509945257705.\n"
     ]
    },
    {
     "name": "stdout",
     "output_type": "stream",
     "text": [
      "Trial 210 - MAE: 0.5551080837978276\n",
      "\n",
      "Trial 211 parameters: {'booster': 'dart', 'tree_method': 'auto', 'grow_policy': 'lossguide', 'eta': 0.42574878926743737, 'gamma': 1.7737106282950375, 'max_depth': 10, 'min_child_weight': 3.502938835998971, 'max_delta_step': 0.7649212315105633, 'subsample': 0.4777458552429141, 'reg_lambda': 0.5824139365639708, 'alpha': 0.0016824368849306648, 'scale_pos_weight': 0.8734321024246786, 'max_leaves': 10, 'max_bin': 225, 'random_state': 42, 'eval_metric': 'mae', 'device': 'cuda'}\n"
     ]
    },
    {
     "name": "stderr",
     "output_type": "stream",
     "text": [
      "[I 2025-04-13 18:06:43,108] Trial 211 finished with value: 0.550795515425588 and parameters: {'booster_idx': 3, 'tree_method_idx': 1, 'grow_policy_idx': 2, 'eta': 0.42574878926743737, 'gamma': 1.7737106282950375, 'max_depth': 10, 'min_child_weight': 3.502938835998971, 'max_delta_step': 0.7649212315105633, 'subsample': 0.4777458552429141, 'lambda': 0.5824139365639708, 'alpha': 0.0016824368849306648, 'scale_pos_weight': 0.8734321024246786, 'max_leaves': 10, 'max_bin': 225}. Best is trial 185 with value: 0.5504509945257705.\n"
     ]
    },
    {
     "name": "stdout",
     "output_type": "stream",
     "text": [
      "Trial 211 - MAE: 0.550795515425588\n",
      "\n",
      "Trial 212 parameters: {'booster': 'dart', 'tree_method': 'auto', 'grow_policy': 'lossguide', 'eta': 0.4286215253043893, 'gamma': 1.9194091304807415, 'max_depth': 10, 'min_child_weight': 3.808298370942821, 'max_delta_step': 0.7822384641625022, 'subsample': 0.4799748001231029, 'reg_lambda': 0.4523829354544556, 'alpha': 0.0014736085702963938, 'scale_pos_weight': 0.7690182804447295, 'max_leaves': 10, 'max_bin': 225, 'random_state': 42, 'eval_metric': 'mae', 'device': 'cuda'}\n"
     ]
    },
    {
     "name": "stderr",
     "output_type": "stream",
     "text": [
      "[I 2025-04-13 18:06:53,183] Trial 212 finished with value: 0.554666837600263 and parameters: {'booster_idx': 3, 'tree_method_idx': 1, 'grow_policy_idx': 2, 'eta': 0.4286215253043893, 'gamma': 1.9194091304807415, 'max_depth': 10, 'min_child_weight': 3.808298370942821, 'max_delta_step': 0.7822384641625022, 'subsample': 0.4799748001231029, 'lambda': 0.4523829354544556, 'alpha': 0.0014736085702963938, 'scale_pos_weight': 0.7690182804447295, 'max_leaves': 10, 'max_bin': 225}. Best is trial 185 with value: 0.5504509945257705.\n"
     ]
    },
    {
     "name": "stdout",
     "output_type": "stream",
     "text": [
      "Trial 212 - MAE: 0.554666837600263\n",
      "\n",
      "Trial 213 parameters: {'booster': 'dart', 'tree_method': 'auto', 'grow_policy': 'lossguide', 'eta': 0.3453853779953214, 'gamma': 1.3730206670189893, 'max_depth': 10, 'min_child_weight': 3.655168542832196, 'max_delta_step': 0.7290212554127158, 'subsample': 0.4582837550476726, 'reg_lambda': 0.627719083801858, 'alpha': 0.0020614738702209464, 'scale_pos_weight': 0.9321308877985192, 'max_leaves': 10, 'max_bin': 250, 'random_state': 42, 'eval_metric': 'mae', 'device': 'cuda'}\n"
     ]
    },
    {
     "name": "stderr",
     "output_type": "stream",
     "text": [
      "[I 2025-04-13 18:07:03,426] Trial 213 finished with value: 0.5531808034703957 and parameters: {'booster_idx': 3, 'tree_method_idx': 1, 'grow_policy_idx': 2, 'eta': 0.3453853779953214, 'gamma': 1.3730206670189893, 'max_depth': 10, 'min_child_weight': 3.655168542832196, 'max_delta_step': 0.7290212554127158, 'subsample': 0.4582837550476726, 'lambda': 0.627719083801858, 'alpha': 0.0020614738702209464, 'scale_pos_weight': 0.9321308877985192, 'max_leaves': 10, 'max_bin': 250}. Best is trial 185 with value: 0.5504509945257705.\n"
     ]
    },
    {
     "name": "stdout",
     "output_type": "stream",
     "text": [
      "Trial 213 - MAE: 0.5531808034703957\n",
      "\n",
      "Trial 214 parameters: {'booster': 'gblinear', 'tree_method': 'auto', 'grow_policy': 'lossguide', 'eta': 0.4350980550356501, 'gamma': 1.699637656738432, 'max_depth': 10, 'min_child_weight': 3.4599182478876247, 'max_delta_step': 1.2517994745280885, 'subsample': 0.48225101732235554, 'reg_lambda': 0.37829713544133897, 'alpha': 0.002693000027175784, 'scale_pos_weight': 0.8883176886582578, 'max_leaves': 10, 'max_bin': 200, 'random_state': 42, 'eval_metric': 'mae', 'device': 'cuda'}\n"
     ]
    },
    {
     "name": "stderr",
     "output_type": "stream",
     "text": [
      "[I 2025-04-13 18:07:20,639] Trial 214 finished with value: 0.9436597075767681 and parameters: {'booster_idx': 2, 'tree_method_idx': 1, 'grow_policy_idx': 2, 'eta': 0.4350980550356501, 'gamma': 1.699637656738432, 'max_depth': 10, 'min_child_weight': 3.4599182478876247, 'max_delta_step': 1.2517994745280885, 'subsample': 0.48225101732235554, 'lambda': 0.37829713544133897, 'alpha': 0.002693000027175784, 'scale_pos_weight': 0.8883176886582578, 'max_leaves': 10, 'max_bin': 200}. Best is trial 185 with value: 0.5504509945257705.\n"
     ]
    },
    {
     "name": "stdout",
     "output_type": "stream",
     "text": [
      "Trial 214 - MAE: 0.9436597075767681\n",
      "\n",
      "Trial 215 parameters: {'booster': 'dart', 'tree_method': 'auto', 'grow_policy': 'lossguide', 'eta': 0.3190541528598033, 'gamma': 1.141514914919349, 'max_depth': 10, 'min_child_weight': 3.563235175898733, 'max_delta_step': 1.1023185052932865, 'subsample': 0.5151761839470302, 'reg_lambda': 0.9623067466779167, 'alpha': 0.0017083656493421865, 'scale_pos_weight': 1.0919737434482077, 'max_leaves': 10, 'max_bin': 225, 'random_state': 42, 'eval_metric': 'mae', 'device': 'cuda'}\n"
     ]
    },
    {
     "name": "stderr",
     "output_type": "stream",
     "text": [
      "[I 2025-04-13 18:07:30,460] Trial 215 finished with value: 0.5531923630521653 and parameters: {'booster_idx': 3, 'tree_method_idx': 1, 'grow_policy_idx': 2, 'eta': 0.3190541528598033, 'gamma': 1.141514914919349, 'max_depth': 10, 'min_child_weight': 3.563235175898733, 'max_delta_step': 1.1023185052932865, 'subsample': 0.5151761839470302, 'lambda': 0.9623067466779167, 'alpha': 0.0017083656493421865, 'scale_pos_weight': 1.0919737434482077, 'max_leaves': 10, 'max_bin': 225}. Best is trial 185 with value: 0.5504509945257705.\n"
     ]
    },
    {
     "name": "stdout",
     "output_type": "stream",
     "text": [
      "Trial 215 - MAE: 0.5531923630521653\n",
      "\n",
      "Trial 216 parameters: {'booster': 'dart', 'tree_method': 'auto', 'grow_policy': 'lossguide', 'eta': 0.4794829908594255, 'gamma': 1.5027938554444145, 'max_depth': 10, 'min_child_weight': 3.918974942804013, 'max_delta_step': 0.6001095987824043, 'subsample': 0.4358444776719294, 'reg_lambda': 0.7153605942049508, 'alpha': 0.0023565708268986963, 'scale_pos_weight': 0.7508922387839344, 'max_leaves': 10, 'max_bin': 250, 'random_state': 42, 'eval_metric': 'mae', 'device': 'cuda'}\n"
     ]
    },
    {
     "name": "stderr",
     "output_type": "stream",
     "text": [
      "[I 2025-04-13 18:07:40,319] Trial 216 finished with value: 0.552341630332927 and parameters: {'booster_idx': 3, 'tree_method_idx': 1, 'grow_policy_idx': 2, 'eta': 0.4794829908594255, 'gamma': 1.5027938554444145, 'max_depth': 10, 'min_child_weight': 3.918974942804013, 'max_delta_step': 0.6001095987824043, 'subsample': 0.4358444776719294, 'lambda': 0.7153605942049508, 'alpha': 0.0023565708268986963, 'scale_pos_weight': 0.7508922387839344, 'max_leaves': 10, 'max_bin': 250}. Best is trial 185 with value: 0.5504509945257705.\n"
     ]
    },
    {
     "name": "stdout",
     "output_type": "stream",
     "text": [
      "Trial 216 - MAE: 0.552341630332927\n",
      "\n",
      "Trial 217 parameters: {'booster': 'dart', 'tree_method': 'auto', 'grow_policy': 'lossguide', 'eta': 0.47139033215935766, 'gamma': 1.4476573351244675, 'max_depth': 10, 'min_child_weight': 3.941242780645985, 'max_delta_step': 0.6073434053633322, 'subsample': 0.42944455561346234, 'reg_lambda': 0.7154470520327696, 'alpha': 0.0034099612139863473, 'scale_pos_weight': 2.586198882645312, 'max_leaves': 10, 'max_bin': 250, 'random_state': 42, 'eval_metric': 'mae', 'device': 'cuda'}\n"
     ]
    },
    {
     "name": "stderr",
     "output_type": "stream",
     "text": [
      "[I 2025-04-13 18:07:50,010] Trial 217 finished with value: 0.5737243639877972 and parameters: {'booster_idx': 3, 'tree_method_idx': 1, 'grow_policy_idx': 2, 'eta': 0.47139033215935766, 'gamma': 1.4476573351244675, 'max_depth': 10, 'min_child_weight': 3.941242780645985, 'max_delta_step': 0.6073434053633322, 'subsample': 0.42944455561346234, 'lambda': 0.7154470520327696, 'alpha': 0.0034099612139863473, 'scale_pos_weight': 2.586198882645312, 'max_leaves': 10, 'max_bin': 250}. Best is trial 185 with value: 0.5504509945257705.\n"
     ]
    },
    {
     "name": "stdout",
     "output_type": "stream",
     "text": [
      "Trial 217 - MAE: 0.5737243639877972\n",
      "\n",
      "Trial 218 parameters: {'booster': 'dart', 'tree_method': 'auto', 'grow_policy': 'lossguide', 'eta': 0.5053284031290386, 'gamma': 2.072880892361259, 'max_depth': 10, 'min_child_weight': 4.118655702334205, 'max_delta_step': 0.5569701737886694, 'subsample': 0.4435715312788733, 'reg_lambda': 0.827326073982684, 'alpha': 0.0012175957420260024, 'scale_pos_weight': 0.7432271687559627, 'max_leaves': 10, 'max_bin': 250, 'random_state': 42, 'eval_metric': 'mae', 'device': 'cuda'}\n"
     ]
    },
    {
     "name": "stderr",
     "output_type": "stream",
     "text": [
      "[I 2025-04-13 18:07:59,741] Trial 218 finished with value: 0.5559561643185386 and parameters: {'booster_idx': 3, 'tree_method_idx': 1, 'grow_policy_idx': 2, 'eta': 0.5053284031290386, 'gamma': 2.072880892361259, 'max_depth': 10, 'min_child_weight': 4.118655702334205, 'max_delta_step': 0.5569701737886694, 'subsample': 0.4435715312788733, 'lambda': 0.827326073982684, 'alpha': 0.0012175957420260024, 'scale_pos_weight': 0.7432271687559627, 'max_leaves': 10, 'max_bin': 250}. Best is trial 185 with value: 0.5504509945257705.\n"
     ]
    },
    {
     "name": "stdout",
     "output_type": "stream",
     "text": [
      "Trial 218 - MAE: 0.5559561643185386\n",
      "\n",
      "Trial 219 parameters: {'booster': 'dart', 'tree_method': 'auto', 'grow_policy': 'lossguide', 'eta': 0.5967123464523367, 'gamma': 1.0246108962637854, 'max_depth': 10, 'min_child_weight': 3.8716728831364824, 'max_delta_step': 0.8465239224631061, 'subsample': 0.4596826677095926, 'reg_lambda': 0.5859573325731268, 'alpha': 0.0018693262200866804, 'scale_pos_weight': 0.6774408817451654, 'max_leaves': 10, 'max_bin': 125, 'random_state': 42, 'eval_metric': 'mae', 'device': 'cuda'}\n"
     ]
    },
    {
     "name": "stderr",
     "output_type": "stream",
     "text": [
      "[I 2025-04-13 18:08:09,234] Trial 219 finished with value: 0.5546011870792266 and parameters: {'booster_idx': 3, 'tree_method_idx': 1, 'grow_policy_idx': 2, 'eta': 0.5967123464523367, 'gamma': 1.0246108962637854, 'max_depth': 10, 'min_child_weight': 3.8716728831364824, 'max_delta_step': 0.8465239224631061, 'subsample': 0.4596826677095926, 'lambda': 0.5859573325731268, 'alpha': 0.0018693262200866804, 'scale_pos_weight': 0.6774408817451654, 'max_leaves': 10, 'max_bin': 125}. Best is trial 185 with value: 0.5504509945257705.\n"
     ]
    },
    {
     "name": "stdout",
     "output_type": "stream",
     "text": [
      "Trial 219 - MAE: 0.5546011870792266\n",
      "\n",
      "Trial 220 parameters: {'booster': 'dart', 'tree_method': 'auto', 'grow_policy': 'lossguide', 'eta': 0.39295033805785823, 'gamma': 1.8324642105618631, 'max_depth': 10, 'min_child_weight': 3.7282472220378553, 'max_delta_step': 0.419321279154806, 'subsample': 0.43823532413715555, 'reg_lambda': 0.5460835435758246, 'alpha': 0.0015289174540452039, 'scale_pos_weight': 3.2498289011749497, 'max_leaves': 10, 'max_bin': 200, 'random_state': 42, 'eval_metric': 'mae', 'device': 'cuda'}\n"
     ]
    },
    {
     "name": "stderr",
     "output_type": "stream",
     "text": [
      "[I 2025-04-13 18:08:18,962] Trial 220 finished with value: 0.5753012016648192 and parameters: {'booster_idx': 3, 'tree_method_idx': 1, 'grow_policy_idx': 2, 'eta': 0.39295033805785823, 'gamma': 1.8324642105618631, 'max_depth': 10, 'min_child_weight': 3.7282472220378553, 'max_delta_step': 0.419321279154806, 'subsample': 0.43823532413715555, 'lambda': 0.5460835435758246, 'alpha': 0.0015289174540452039, 'scale_pos_weight': 3.2498289011749497, 'max_leaves': 10, 'max_bin': 200}. Best is trial 185 with value: 0.5504509945257705.\n"
     ]
    },
    {
     "name": "stdout",
     "output_type": "stream",
     "text": [
      "Trial 220 - MAE: 0.5753012016648192\n",
      "\n",
      "Trial 221 parameters: {'booster': 'dart', 'tree_method': 'auto', 'grow_policy': 'lossguide', 'eta': 0.3734299625878877, 'gamma': 1.5558821888681795, 'max_depth': 10, 'min_child_weight': 4.038471574584605, 'max_delta_step': 2.880730684437634, 'subsample': 0.901970060802562, 'reg_lambda': 0.4587807757653484, 'alpha': 0.0024464925341353976, 'scale_pos_weight': 0.8199526770740699, 'max_leaves': 10, 'max_bin': 225, 'random_state': 42, 'eval_metric': 'mae', 'device': 'cuda'}\n"
     ]
    },
    {
     "name": "stderr",
     "output_type": "stream",
     "text": [
      "[I 2025-04-13 18:08:29,103] Trial 221 finished with value: 0.55237208977797 and parameters: {'booster_idx': 3, 'tree_method_idx': 1, 'grow_policy_idx': 2, 'eta': 0.3734299625878877, 'gamma': 1.5558821888681795, 'max_depth': 10, 'min_child_weight': 4.038471574584605, 'max_delta_step': 2.880730684437634, 'subsample': 0.901970060802562, 'lambda': 0.4587807757653484, 'alpha': 0.0024464925341353976, 'scale_pos_weight': 0.8199526770740699, 'max_leaves': 10, 'max_bin': 225}. Best is trial 185 with value: 0.5504509945257705.\n"
     ]
    },
    {
     "name": "stdout",
     "output_type": "stream",
     "text": [
      "Trial 221 - MAE: 0.55237208977797\n",
      "\n",
      "Trial 222 parameters: {'booster': 'dart', 'tree_method': 'auto', 'grow_policy': 'lossguide', 'eta': 0.40798571253284255, 'gamma': 0.6170784344460197, 'max_depth': 10, 'min_child_weight': 4.174956219471464, 'max_delta_step': 1.0346482975140743, 'subsample': 0.5410398028728605, 'reg_lambda': 0.6749585740817876, 'alpha': 0.002992412194030129, 'scale_pos_weight': 0.8118860098252754, 'max_leaves': 10, 'max_bin': 225, 'random_state': 42, 'eval_metric': 'mae', 'device': 'cuda'}\n"
     ]
    },
    {
     "name": "stderr",
     "output_type": "stream",
     "text": [
      "[I 2025-04-13 18:08:39,095] Trial 222 finished with value: 0.5517151657297639 and parameters: {'booster_idx': 3, 'tree_method_idx': 1, 'grow_policy_idx': 2, 'eta': 0.40798571253284255, 'gamma': 0.6170784344460197, 'max_depth': 10, 'min_child_weight': 4.174956219471464, 'max_delta_step': 1.0346482975140743, 'subsample': 0.5410398028728605, 'lambda': 0.6749585740817876, 'alpha': 0.002992412194030129, 'scale_pos_weight': 0.8118860098252754, 'max_leaves': 10, 'max_bin': 225}. Best is trial 185 with value: 0.5504509945257705.\n"
     ]
    },
    {
     "name": "stdout",
     "output_type": "stream",
     "text": [
      "Trial 222 - MAE: 0.5517151657297639\n",
      "\n",
      "Trial 223 parameters: {'booster': 'dart', 'tree_method': 'auto', 'grow_policy': 'lossguide', 'eta': 0.43453125096763906, 'gamma': 0.444168389923275, 'max_depth': 10, 'min_child_weight': 4.036981477005982, 'max_delta_step': 2.4530316033967146, 'subsample': 0.5425175859810004, 'reg_lambda': 0.7245553566316005, 'alpha': 0.0031477157122911377, 'scale_pos_weight': 0.8410575228950494, 'max_leaves': 10, 'max_bin': 225, 'random_state': 42, 'eval_metric': 'mae', 'device': 'cuda'}\n"
     ]
    },
    {
     "name": "stderr",
     "output_type": "stream",
     "text": [
      "[I 2025-04-13 18:08:48,786] Trial 223 finished with value: 0.5515964747327257 and parameters: {'booster_idx': 3, 'tree_method_idx': 1, 'grow_policy_idx': 2, 'eta': 0.43453125096763906, 'gamma': 0.444168389923275, 'max_depth': 10, 'min_child_weight': 4.036981477005982, 'max_delta_step': 2.4530316033967146, 'subsample': 0.5425175859810004, 'lambda': 0.7245553566316005, 'alpha': 0.0031477157122911377, 'scale_pos_weight': 0.8410575228950494, 'max_leaves': 10, 'max_bin': 225}. Best is trial 185 with value: 0.5504509945257705.\n"
     ]
    },
    {
     "name": "stdout",
     "output_type": "stream",
     "text": [
      "Trial 223 - MAE: 0.5515964747327257\n",
      "\n",
      "Trial 224 parameters: {'booster': 'dart', 'tree_method': 'auto', 'grow_policy': 'lossguide', 'eta': 0.4513810976396324, 'gamma': 0.4663080324495668, 'max_depth': 10, 'min_child_weight': 4.04122026370423, 'max_delta_step': 3.084724662936674, 'subsample': 0.5536297167392223, 'reg_lambda': 0.5132637795076344, 'alpha': 0.003088813601584748, 'scale_pos_weight': 0.8212496726295425, 'max_leaves': 10, 'max_bin': 200, 'random_state': 42, 'eval_metric': 'mae', 'device': 'cuda'}\n"
     ]
    },
    {
     "name": "stderr",
     "output_type": "stream",
     "text": [
      "[I 2025-04-13 18:08:58,566] Trial 224 finished with value: 0.551759723551181 and parameters: {'booster_idx': 3, 'tree_method_idx': 1, 'grow_policy_idx': 2, 'eta': 0.4513810976396324, 'gamma': 0.4663080324495668, 'max_depth': 10, 'min_child_weight': 4.04122026370423, 'max_delta_step': 3.084724662936674, 'subsample': 0.5536297167392223, 'lambda': 0.5132637795076344, 'alpha': 0.003088813601584748, 'scale_pos_weight': 0.8212496726295425, 'max_leaves': 10, 'max_bin': 200}. Best is trial 185 with value: 0.5504509945257705.\n"
     ]
    },
    {
     "name": "stdout",
     "output_type": "stream",
     "text": [
      "Trial 224 - MAE: 0.551759723551181\n",
      "\n",
      "Trial 225 parameters: {'booster': 'dart', 'tree_method': 'auto', 'grow_policy': 'lossguide', 'eta': 0.5571034095202766, 'gamma': 0.37654162780872014, 'max_depth': 10, 'min_child_weight': 4.040412835438579, 'max_delta_step': 2.9271732910386308, 'subsample': 0.5627112685275633, 'reg_lambda': 0.7202166482512702, 'alpha': 0.0038853609416078985, 'scale_pos_weight': 0.853839417690477, 'max_leaves': 10, 'max_bin': 200, 'random_state': 42, 'eval_metric': 'mae', 'device': 'cuda'}\n"
     ]
    },
    {
     "name": "stderr",
     "output_type": "stream",
     "text": [
      "[I 2025-04-13 18:09:08,594] Trial 225 finished with value: 0.5518876015827475 and parameters: {'booster_idx': 3, 'tree_method_idx': 1, 'grow_policy_idx': 2, 'eta': 0.5571034095202766, 'gamma': 0.37654162780872014, 'max_depth': 10, 'min_child_weight': 4.040412835438579, 'max_delta_step': 2.9271732910386308, 'subsample': 0.5627112685275633, 'lambda': 0.7202166482512702, 'alpha': 0.0038853609416078985, 'scale_pos_weight': 0.853839417690477, 'max_leaves': 10, 'max_bin': 200}. Best is trial 185 with value: 0.5504509945257705.\n"
     ]
    },
    {
     "name": "stdout",
     "output_type": "stream",
     "text": [
      "Trial 225 - MAE: 0.5518876015827475\n",
      "\n",
      "Trial 226 parameters: {'booster': 'dart', 'tree_method': 'auto', 'grow_policy': 'lossguide', 'eta': 0.5650342634624238, 'gamma': 0.21498953014699962, 'max_depth': 10, 'min_child_weight': 3.9150104388882925, 'max_delta_step': 2.9031956326103114, 'subsample': 0.9322586104863412, 'reg_lambda': 0.9076282460433531, 'alpha': 0.0037602863845924723, 'scale_pos_weight': 0.8728409763998837, 'max_leaves': 10, 'max_bin': 200, 'random_state': 42, 'eval_metric': 'mae', 'device': 'cuda'}\n"
     ]
    },
    {
     "name": "stderr",
     "output_type": "stream",
     "text": [
      "[I 2025-04-13 18:09:18,291] Trial 226 finished with value: 0.5518869428483665 and parameters: {'booster_idx': 3, 'tree_method_idx': 1, 'grow_policy_idx': 2, 'eta': 0.5650342634624238, 'gamma': 0.21498953014699962, 'max_depth': 10, 'min_child_weight': 3.9150104388882925, 'max_delta_step': 2.9031956326103114, 'subsample': 0.9322586104863412, 'lambda': 0.9076282460433531, 'alpha': 0.0037602863845924723, 'scale_pos_weight': 0.8728409763998837, 'max_leaves': 10, 'max_bin': 200}. Best is trial 185 with value: 0.5504509945257705.\n"
     ]
    },
    {
     "name": "stdout",
     "output_type": "stream",
     "text": [
      "Trial 226 - MAE: 0.5518869428483665\n",
      "\n",
      "Trial 227 parameters: {'booster': 'dart', 'tree_method': 'auto', 'grow_policy': 'lossguide', 'eta': 0.6097088222160514, 'gamma': 0.02956507116763399, 'max_depth': 10, 'min_child_weight': 4.083320251415974, 'max_delta_step': 2.978867581655309, 'subsample': 0.9404349579029045, 'reg_lambda': 0.9119502983786293, 'alpha': 0.0047120151399782095, 'scale_pos_weight': 0.8677113185883538, 'max_leaves': 10, 'max_bin': 200, 'random_state': 42, 'eval_metric': 'mae', 'device': 'cuda'}\n"
     ]
    },
    {
     "name": "stderr",
     "output_type": "stream",
     "text": [
      "[I 2025-04-13 18:09:28,333] Trial 227 finished with value: 0.5537715641554457 and parameters: {'booster_idx': 3, 'tree_method_idx': 1, 'grow_policy_idx': 2, 'eta': 0.6097088222160514, 'gamma': 0.02956507116763399, 'max_depth': 10, 'min_child_weight': 4.083320251415974, 'max_delta_step': 2.978867581655309, 'subsample': 0.9404349579029045, 'lambda': 0.9119502983786293, 'alpha': 0.0047120151399782095, 'scale_pos_weight': 0.8677113185883538, 'max_leaves': 10, 'max_bin': 200}. Best is trial 185 with value: 0.5504509945257705.\n"
     ]
    },
    {
     "name": "stdout",
     "output_type": "stream",
     "text": [
      "Trial 227 - MAE: 0.5537715641554457\n",
      "\n",
      "Trial 228 parameters: {'booster': 'dart', 'tree_method': 'auto', 'grow_policy': 'lossguide', 'eta': 0.5647283276733206, 'gamma': 0.39328282774737827, 'max_depth': 10, 'min_child_weight': 4.032162113870951, 'max_delta_step': 2.8118377785886968, 'subsample': 0.9040345053150941, 'reg_lambda': 0.7172230872509805, 'alpha': 0.003936821475037997, 'scale_pos_weight': 0.6876101078514704, 'max_leaves': 10, 'max_bin': 175, 'random_state': 42, 'eval_metric': 'mae', 'device': 'cuda'}\n"
     ]
    },
    {
     "name": "stderr",
     "output_type": "stream",
     "text": [
      "[I 2025-04-13 18:09:38,208] Trial 228 finished with value: 0.5540045866469512 and parameters: {'booster_idx': 3, 'tree_method_idx': 1, 'grow_policy_idx': 2, 'eta': 0.5647283276733206, 'gamma': 0.39328282774737827, 'max_depth': 10, 'min_child_weight': 4.032162113870951, 'max_delta_step': 2.8118377785886968, 'subsample': 0.9040345053150941, 'lambda': 0.7172230872509805, 'alpha': 0.003936821475037997, 'scale_pos_weight': 0.6876101078514704, 'max_leaves': 10, 'max_bin': 175}. Best is trial 185 with value: 0.5504509945257705.\n"
     ]
    },
    {
     "name": "stdout",
     "output_type": "stream",
     "text": [
      "Trial 228 - MAE: 0.5540045866469512\n",
      "\n",
      "Trial 229 parameters: {'booster': 'dart', 'tree_method': 'auto', 'grow_policy': 'lossguide', 'eta': 0.5371008047166088, 'gamma': 0.1975968762103696, 'max_depth': 10, 'min_child_weight': 4.184461930083454, 'max_delta_step': 3.186719138551952, 'subsample': 0.9077772902344987, 'reg_lambda': 1.0999729364072663, 'alpha': 0.005494648598800745, 'scale_pos_weight': 0.6046405233038157, 'max_leaves': 10, 'max_bin': 200, 'random_state': 42, 'eval_metric': 'mae', 'device': 'cuda'}\n"
     ]
    },
    {
     "name": "stderr",
     "output_type": "stream",
     "text": [
      "[I 2025-04-13 18:09:47,896] Trial 229 finished with value: 0.5568449914408508 and parameters: {'booster_idx': 3, 'tree_method_idx': 1, 'grow_policy_idx': 2, 'eta': 0.5371008047166088, 'gamma': 0.1975968762103696, 'max_depth': 10, 'min_child_weight': 4.184461930083454, 'max_delta_step': 3.186719138551952, 'subsample': 0.9077772902344987, 'lambda': 1.0999729364072663, 'alpha': 0.005494648598800745, 'scale_pos_weight': 0.6046405233038157, 'max_leaves': 10, 'max_bin': 200}. Best is trial 185 with value: 0.5504509945257705.\n"
     ]
    },
    {
     "name": "stdout",
     "output_type": "stream",
     "text": [
      "Trial 229 - MAE: 0.5568449914408508\n",
      "\n",
      "Trial 230 parameters: {'booster': 'dart', 'tree_method': 'auto', 'grow_policy': 'lossguide', 'eta': 0.6925143866329654, 'gamma': 0.4752462348034228, 'max_depth': 10, 'min_child_weight': 4.000517818827035, 'max_delta_step': 3.011697692908933, 'subsample': 0.5565394453735318, 'reg_lambda': 0.8525160247635589, 'alpha': 0.0031728542106307265, 'scale_pos_weight': 0.8676078971940077, 'max_leaves': 10, 'max_bin': 200, 'random_state': 42, 'eval_metric': 'mae', 'device': 'cuda'}\n"
     ]
    },
    {
     "name": "stderr",
     "output_type": "stream",
     "text": [
      "[I 2025-04-13 18:09:57,892] Trial 230 finished with value: 0.5584467582712155 and parameters: {'booster_idx': 3, 'tree_method_idx': 1, 'grow_policy_idx': 2, 'eta': 0.6925143866329654, 'gamma': 0.4752462348034228, 'max_depth': 10, 'min_child_weight': 4.000517818827035, 'max_delta_step': 3.011697692908933, 'subsample': 0.5565394453735318, 'lambda': 0.8525160247635589, 'alpha': 0.0031728542106307265, 'scale_pos_weight': 0.8676078971940077, 'max_leaves': 10, 'max_bin': 200}. Best is trial 185 with value: 0.5504509945257705.\n"
     ]
    },
    {
     "name": "stdout",
     "output_type": "stream",
     "text": [
      "Trial 230 - MAE: 0.5584467582712155\n",
      "\n",
      "Trial 231 parameters: {'booster': 'dart', 'tree_method': 'auto', 'grow_policy': 'lossguide', 'eta': 0.48361992204730575, 'gamma': 0.614296931232517, 'max_depth': 10, 'min_child_weight': 4.143072115804187, 'max_delta_step': 2.6859994105551905, 'subsample': 0.9503434923414529, 'reg_lambda': 0.7199507518117519, 'alpha': 0.00417510599228453, 'scale_pos_weight': 0.9219338753961888, 'max_leaves': 10, 'max_bin': 200, 'random_state': 42, 'eval_metric': 'mae', 'device': 'cuda'}\n"
     ]
    },
    {
     "name": "stderr",
     "output_type": "stream",
     "text": [
      "[I 2025-04-13 18:10:07,776] Trial 231 finished with value: 0.5531571055666166 and parameters: {'booster_idx': 3, 'tree_method_idx': 1, 'grow_policy_idx': 2, 'eta': 0.48361992204730575, 'gamma': 0.614296931232517, 'max_depth': 10, 'min_child_weight': 4.143072115804187, 'max_delta_step': 2.6859994105551905, 'subsample': 0.9503434923414529, 'lambda': 0.7199507518117519, 'alpha': 0.00417510599228453, 'scale_pos_weight': 0.9219338753961888, 'max_leaves': 10, 'max_bin': 200}. Best is trial 185 with value: 0.5504509945257705.\n"
     ]
    },
    {
     "name": "stdout",
     "output_type": "stream",
     "text": [
      "Trial 231 - MAE: 0.5531571055666166\n",
      "\n",
      "Trial 232 parameters: {'booster': 'dart', 'tree_method': 'auto', 'grow_policy': 'lossguide', 'eta': 0.48062429578887406, 'gamma': 0.43879496799508627, 'max_depth': 10, 'min_child_weight': 4.0607364325910975, 'max_delta_step': 2.83890528023518, 'subsample': 0.9602524386072585, 'reg_lambda': 0.6862201909044947, 'alpha': 0.0032374883886138192, 'scale_pos_weight': 0.7747146388456627, 'max_leaves': 10, 'max_bin': 175, 'random_state': 42, 'eval_metric': 'mae', 'device': 'cuda'}\n"
     ]
    },
    {
     "name": "stderr",
     "output_type": "stream",
     "text": [
      "[I 2025-04-13 18:10:17,450] Trial 232 finished with value: 0.552409250554269 and parameters: {'booster_idx': 3, 'tree_method_idx': 1, 'grow_policy_idx': 2, 'eta': 0.48062429578887406, 'gamma': 0.43879496799508627, 'max_depth': 10, 'min_child_weight': 4.0607364325910975, 'max_delta_step': 2.83890528023518, 'subsample': 0.9602524386072585, 'lambda': 0.6862201909044947, 'alpha': 0.0032374883886138192, 'scale_pos_weight': 0.7747146388456627, 'max_leaves': 10, 'max_bin': 175}. Best is trial 185 with value: 0.5504509945257705.\n"
     ]
    },
    {
     "name": "stdout",
     "output_type": "stream",
     "text": [
      "Trial 232 - MAE: 0.552409250554269\n",
      "\n",
      "Trial 233 parameters: {'booster': 'dart', 'tree_method': 'auto', 'grow_policy': 'lossguide', 'eta': 0.4514005863374191, 'gamma': 0.15619612627126628, 'max_depth': 10, 'min_child_weight': 4.03861772847732, 'max_delta_step': 2.926829761401863, 'subsample': 0.9713779805757468, 'reg_lambda': 0.6649959150305992, 'alpha': 0.0031912877236363827, 'scale_pos_weight': 0.7425796524473118, 'max_leaves': 10, 'max_bin': 175, 'random_state': 42, 'eval_metric': 'mae', 'device': 'cuda'}\n"
     ]
    },
    {
     "name": "stderr",
     "output_type": "stream",
     "text": [
      "[I 2025-04-13 18:10:27,261] Trial 233 finished with value: 0.5516737774468065 and parameters: {'booster_idx': 3, 'tree_method_idx': 1, 'grow_policy_idx': 2, 'eta': 0.4514005863374191, 'gamma': 0.15619612627126628, 'max_depth': 10, 'min_child_weight': 4.03861772847732, 'max_delta_step': 2.926829761401863, 'subsample': 0.9713779805757468, 'lambda': 0.6649959150305992, 'alpha': 0.0031912877236363827, 'scale_pos_weight': 0.7425796524473118, 'max_leaves': 10, 'max_bin': 175}. Best is trial 185 with value: 0.5504509945257705.\n"
     ]
    },
    {
     "name": "stdout",
     "output_type": "stream",
     "text": [
      "Trial 233 - MAE: 0.5516737774468065\n",
      "\n",
      "Trial 234 parameters: {'booster': 'dart', 'tree_method': 'auto', 'grow_policy': 'lossguide', 'eta': 0.42436656043016596, 'gamma': 0.10610445764576316, 'max_depth': 10, 'min_child_weight': 4.232974363344446, 'max_delta_step': 2.9115599294506302, 'subsample': 0.5478962276597397, 'reg_lambda': 0.5149939717090684, 'alpha': 0.0037208594395600186, 'scale_pos_weight': 0.6976835846466823, 'max_leaves': 10, 'max_bin': 200, 'random_state': 42, 'eval_metric': 'mae', 'device': 'cuda'}\n"
     ]
    },
    {
     "name": "stderr",
     "output_type": "stream",
     "text": [
      "[I 2025-04-13 18:10:37,103] Trial 234 finished with value: 0.5526382645573237 and parameters: {'booster_idx': 3, 'tree_method_idx': 1, 'grow_policy_idx': 2, 'eta': 0.42436656043016596, 'gamma': 0.10610445764576316, 'max_depth': 10, 'min_child_weight': 4.232974363344446, 'max_delta_step': 2.9115599294506302, 'subsample': 0.5478962276597397, 'lambda': 0.5149939717090684, 'alpha': 0.0037208594395600186, 'scale_pos_weight': 0.6976835846466823, 'max_leaves': 10, 'max_bin': 200}. Best is trial 185 with value: 0.5504509945257705.\n"
     ]
    },
    {
     "name": "stdout",
     "output_type": "stream",
     "text": [
      "Trial 234 - MAE: 0.5526382645573237\n",
      "\n",
      "Trial 235 parameters: {'booster': 'dart', 'tree_method': 'auto', 'grow_policy': 'lossguide', 'eta': 0.5489850903733673, 'gamma': 0.006552803819770636, 'max_depth': 10, 'min_child_weight': 3.9783808892939163, 'max_delta_step': 3.102204317805213, 'subsample': 0.5669586717842691, 'reg_lambda': 0.861478439294693, 'alpha': 0.0027767831147556257, 'scale_pos_weight': 0.8270688022694335, 'max_leaves': 10, 'max_bin': 225, 'random_state': 42, 'eval_metric': 'mae', 'device': 'cuda'}\n"
     ]
    },
    {
     "name": "stderr",
     "output_type": "stream",
     "text": [
      "[I 2025-04-13 18:10:46,810] Trial 235 finished with value: 0.5529709164876575 and parameters: {'booster_idx': 3, 'tree_method_idx': 1, 'grow_policy_idx': 2, 'eta': 0.5489850903733673, 'gamma': 0.006552803819770636, 'max_depth': 10, 'min_child_weight': 3.9783808892939163, 'max_delta_step': 3.102204317805213, 'subsample': 0.5669586717842691, 'lambda': 0.861478439294693, 'alpha': 0.0027767831147556257, 'scale_pos_weight': 0.8270688022694335, 'max_leaves': 10, 'max_bin': 225}. Best is trial 185 with value: 0.5504509945257705.\n"
     ]
    },
    {
     "name": "stdout",
     "output_type": "stream",
     "text": [
      "Trial 235 - MAE: 0.5529709164876575\n",
      "\n",
      "Trial 236 parameters: {'booster': 'dart', 'tree_method': 'auto', 'grow_policy': 'lossguide', 'eta': 0.4493376927316919, 'gamma': 0.7100169144140612, 'max_depth': 10, 'min_child_weight': 3.9206225318418286, 'max_delta_step': 3.2936641725627998, 'subsample': 0.9862792902049214, 'reg_lambda': 1.3565857877783496, 'alpha': 0.0031254927579537897, 'scale_pos_weight': 0.7480388651667003, 'max_leaves': 10, 'max_bin': 200, 'random_state': 42, 'eval_metric': 'mae', 'device': 'cuda'}\n"
     ]
    },
    {
     "name": "stderr",
     "output_type": "stream",
     "text": [
      "[I 2025-04-13 18:10:56,547] Trial 236 finished with value: 0.5521596233225795 and parameters: {'booster_idx': 3, 'tree_method_idx': 1, 'grow_policy_idx': 2, 'eta': 0.4493376927316919, 'gamma': 0.7100169144140612, 'max_depth': 10, 'min_child_weight': 3.9206225318418286, 'max_delta_step': 3.2936641725627998, 'subsample': 0.9862792902049214, 'lambda': 1.3565857877783496, 'alpha': 0.0031254927579537897, 'scale_pos_weight': 0.7480388651667003, 'max_leaves': 10, 'max_bin': 200}. Best is trial 185 with value: 0.5504509945257705.\n"
     ]
    },
    {
     "name": "stdout",
     "output_type": "stream",
     "text": [
      "Trial 236 - MAE: 0.5521596233225795\n",
      "\n",
      "Trial 237 parameters: {'booster': 'dart', 'tree_method': 'auto', 'grow_policy': 'lossguide', 'eta': 0.6189883684812071, 'gamma': 0.5697190131796599, 'max_depth': 10, 'min_child_weight': 3.9143575248492084, 'max_delta_step': 3.208727489666672, 'subsample': 0.5423301416503605, 'reg_lambda': 1.7800222210923793, 'alpha': 0.003363036685268065, 'scale_pos_weight': 0.5904401838375357, 'max_leaves': 10, 'max_bin': 175, 'random_state': 42, 'eval_metric': 'mae', 'device': 'cuda'}\n"
     ]
    },
    {
     "name": "stderr",
     "output_type": "stream",
     "text": [
      "[I 2025-04-13 18:11:06,400] Trial 237 finished with value: 0.5564840302103018 and parameters: {'booster_idx': 3, 'tree_method_idx': 1, 'grow_policy_idx': 2, 'eta': 0.6189883684812071, 'gamma': 0.5697190131796599, 'max_depth': 10, 'min_child_weight': 3.9143575248492084, 'max_delta_step': 3.208727489666672, 'subsample': 0.5423301416503605, 'lambda': 1.7800222210923793, 'alpha': 0.003363036685268065, 'scale_pos_weight': 0.5904401838375357, 'max_leaves': 10, 'max_bin': 175}. Best is trial 185 with value: 0.5504509945257705.\n"
     ]
    },
    {
     "name": "stdout",
     "output_type": "stream",
     "text": [
      "Trial 237 - MAE: 0.5564840302103018\n",
      "\n",
      "Trial 238 parameters: {'booster': 'dart', 'tree_method': 'auto', 'grow_policy': 'lossguide', 'eta': 0.4643013883028527, 'gamma': 0.7778585630987171, 'max_depth': 10, 'min_child_weight': 3.9282215025700076, 'max_delta_step': 3.0921085120044842, 'subsample': 0.9974834517559183, 'reg_lambda': 1.0760441420198597, 'alpha': 0.004275315320262743, 'scale_pos_weight': 0.7304848499338092, 'max_leaves': 10, 'max_bin': 200, 'random_state': 42, 'eval_metric': 'mae', 'device': 'cuda'}\n"
     ]
    },
    {
     "name": "stderr",
     "output_type": "stream",
     "text": [
      "[I 2025-04-13 18:11:16,084] Trial 238 finished with value: 0.5524957950894531 and parameters: {'booster_idx': 3, 'tree_method_idx': 1, 'grow_policy_idx': 2, 'eta': 0.4643013883028527, 'gamma': 0.7778585630987171, 'max_depth': 10, 'min_child_weight': 3.9282215025700076, 'max_delta_step': 3.0921085120044842, 'subsample': 0.9974834517559183, 'lambda': 1.0760441420198597, 'alpha': 0.004275315320262743, 'scale_pos_weight': 0.7304848499338092, 'max_leaves': 10, 'max_bin': 200}. Best is trial 185 with value: 0.5504509945257705.\n"
     ]
    },
    {
     "name": "stdout",
     "output_type": "stream",
     "text": [
      "Trial 238 - MAE: 0.5524957950894531\n",
      "\n",
      "Trial 239 parameters: {'booster': 'dart', 'tree_method': 'auto', 'grow_policy': 'lossguide', 'eta': 0.4430385615188496, 'gamma': 0.5847918619697613, 'max_depth': 10, 'min_child_weight': 4.137341582693856, 'max_delta_step': 3.3874940393593196, 'subsample': 0.97352565762305, 'reg_lambda': 1.295088950392717, 'alpha': 0.005215643546609968, 'scale_pos_weight': 0.6829146123823905, 'max_leaves': 10, 'max_bin': 200, 'random_state': 42, 'eval_metric': 'mae', 'device': 'cuda'}\n"
     ]
    },
    {
     "name": "stderr",
     "output_type": "stream",
     "text": [
      "[I 2025-04-13 18:11:25,933] Trial 239 finished with value: 0.553842443136615 and parameters: {'booster_idx': 3, 'tree_method_idx': 1, 'grow_policy_idx': 2, 'eta': 0.4430385615188496, 'gamma': 0.5847918619697613, 'max_depth': 10, 'min_child_weight': 4.137341582693856, 'max_delta_step': 3.3874940393593196, 'subsample': 0.97352565762305, 'lambda': 1.295088950392717, 'alpha': 0.005215643546609968, 'scale_pos_weight': 0.6829146123823905, 'max_leaves': 10, 'max_bin': 200}. Best is trial 185 with value: 0.5504509945257705.\n"
     ]
    },
    {
     "name": "stdout",
     "output_type": "stream",
     "text": [
      "Trial 239 - MAE: 0.553842443136615\n",
      "\n",
      "Trial 240 parameters: {'booster': 'dart', 'tree_method': 'auto', 'grow_policy': 'lossguide', 'eta': 0.01760968051630228, 'gamma': 0.38804258264522423, 'max_depth': 10, 'min_child_weight': 3.9788183484715813, 'max_delta_step': 3.332825140232125, 'subsample': 0.9841154740813798, 'reg_lambda': 1.01451416582514, 'alpha': 0.0029473039380071096, 'scale_pos_weight': 0.8933543674460755, 'max_leaves': 10, 'max_bin': 175, 'random_state': 42, 'eval_metric': 'mae', 'device': 'cuda'}\n"
     ]
    },
    {
     "name": "stderr",
     "output_type": "stream",
     "text": [
      "[I 2025-04-13 18:11:35,511] Trial 240 finished with value: 0.7737979435395117 and parameters: {'booster_idx': 3, 'tree_method_idx': 1, 'grow_policy_idx': 2, 'eta': 0.01760968051630228, 'gamma': 0.38804258264522423, 'max_depth': 10, 'min_child_weight': 3.9788183484715813, 'max_delta_step': 3.332825140232125, 'subsample': 0.9841154740813798, 'lambda': 1.01451416582514, 'alpha': 0.0029473039380071096, 'scale_pos_weight': 0.8933543674460755, 'max_leaves': 10, 'max_bin': 175}. Best is trial 185 with value: 0.5504509945257705.\n"
     ]
    },
    {
     "name": "stdout",
     "output_type": "stream",
     "text": [
      "Trial 240 - MAE: 0.7737979435395117\n",
      "\n",
      "Trial 241 parameters: {'booster': 'dart', 'tree_method': 'auto', 'grow_policy': 'lossguide', 'eta': 0.5127834862042987, 'gamma': 0.19221310667662428, 'max_depth': 10, 'min_child_weight': 4.083733572311409, 'max_delta_step': 2.930605408720344, 'subsample': 0.8721918890391147, 'reg_lambda': 1.4881636340024877, 'alpha': 0.003469612220229852, 'scale_pos_weight': 0.8359212970450076, 'max_leaves': 10, 'max_bin': 200, 'random_state': 42, 'eval_metric': 'mae', 'device': 'cuda'}\n"
     ]
    },
    {
     "name": "stderr",
     "output_type": "stream",
     "text": [
      "[I 2025-04-13 18:11:45,241] Trial 241 finished with value: 0.5493317376051099 and parameters: {'booster_idx': 3, 'tree_method_idx': 1, 'grow_policy_idx': 2, 'eta': 0.5127834862042987, 'gamma': 0.19221310667662428, 'max_depth': 10, 'min_child_weight': 4.083733572311409, 'max_delta_step': 2.930605408720344, 'subsample': 0.8721918890391147, 'lambda': 1.4881636340024877, 'alpha': 0.003469612220229852, 'scale_pos_weight': 0.8359212970450076, 'max_leaves': 10, 'max_bin': 200}. Best is trial 241 with value: 0.5493317376051099.\n"
     ]
    },
    {
     "name": "stdout",
     "output_type": "stream",
     "text": [
      "Trial 241 - MAE: 0.5493317376051099\n",
      "\n",
      "Trial 242 parameters: {'booster': 'dart', 'tree_method': 'auto', 'grow_policy': 'lossguide', 'eta': 0.4761927711339281, 'gamma': 0.32252350889306014, 'max_depth': 10, 'min_child_weight': 4.204715891336899, 'max_delta_step': 2.6232748341050147, 'subsample': 0.8045322458595852, 'reg_lambda': 1.368631825474534, 'alpha': 0.003776427554430746, 'scale_pos_weight': 0.7614181730122498, 'max_leaves': 10, 'max_bin': 200, 'random_state': 42, 'eval_metric': 'mae', 'device': 'cuda'}\n"
     ]
    },
    {
     "name": "stderr",
     "output_type": "stream",
     "text": [
      "[I 2025-04-13 18:11:55,095] Trial 242 finished with value: 0.5534671712104128 and parameters: {'booster_idx': 3, 'tree_method_idx': 1, 'grow_policy_idx': 2, 'eta': 0.4761927711339281, 'gamma': 0.32252350889306014, 'max_depth': 10, 'min_child_weight': 4.204715891336899, 'max_delta_step': 2.6232748341050147, 'subsample': 0.8045322458595852, 'lambda': 1.368631825474534, 'alpha': 0.003776427554430746, 'scale_pos_weight': 0.7614181730122498, 'max_leaves': 10, 'max_bin': 200}. Best is trial 241 with value: 0.5493317376051099.\n"
     ]
    },
    {
     "name": "stdout",
     "output_type": "stream",
     "text": [
      "Trial 242 - MAE: 0.5534671712104128\n",
      "\n",
      "Trial 243 parameters: {'booster': 'dart', 'tree_method': 'auto', 'grow_policy': 'lossguide', 'eta': 0.5410021637903447, 'gamma': 0.28273047038487104, 'max_depth': 10, 'min_child_weight': 4.08909642762357, 'max_delta_step': 2.34463749702358, 'subsample': 0.885331815302728, 'reg_lambda': 2.2797044018506343, 'alpha': 0.003094527489795178, 'scale_pos_weight': 0.8406892878114255, 'max_leaves': 10, 'max_bin': 200, 'random_state': 42, 'eval_metric': 'mae', 'device': 'cuda'}\n"
     ]
    },
    {
     "name": "stderr",
     "output_type": "stream",
     "text": [
      "[I 2025-04-13 18:12:04,997] Trial 243 finished with value: 0.5523948228772542 and parameters: {'booster_idx': 3, 'tree_method_idx': 1, 'grow_policy_idx': 2, 'eta': 0.5410021637903447, 'gamma': 0.28273047038487104, 'max_depth': 10, 'min_child_weight': 4.08909642762357, 'max_delta_step': 2.34463749702358, 'subsample': 0.885331815302728, 'lambda': 2.2797044018506343, 'alpha': 0.003094527489795178, 'scale_pos_weight': 0.8406892878114255, 'max_leaves': 10, 'max_bin': 200}. Best is trial 241 with value: 0.5493317376051099.\n"
     ]
    },
    {
     "name": "stdout",
     "output_type": "stream",
     "text": [
      "Trial 243 - MAE: 0.5523948228772542\n",
      "\n",
      "Trial 244 parameters: {'booster': 'dart', 'tree_method': 'auto', 'grow_policy': 'lossguide', 'eta': 0.41248299868377897, 'gamma': 0.19211812757717872, 'max_depth': 10, 'min_child_weight': 3.881669966415356, 'max_delta_step': 2.4621078479404743, 'subsample': 0.9779064317667144, 'reg_lambda': 1.5639277846150534, 'alpha': 0.00462439037963918, 'scale_pos_weight': 0.9536654447613468, 'max_leaves': 10, 'max_bin': 200, 'random_state': 42, 'eval_metric': 'mae', 'device': 'cuda'}\n"
     ]
    },
    {
     "name": "stderr",
     "output_type": "stream",
     "text": [
      "[I 2025-04-13 18:12:14,756] Trial 244 finished with value: 0.5507304450499524 and parameters: {'booster_idx': 3, 'tree_method_idx': 1, 'grow_policy_idx': 2, 'eta': 0.41248299868377897, 'gamma': 0.19211812757717872, 'max_depth': 10, 'min_child_weight': 3.881669966415356, 'max_delta_step': 2.4621078479404743, 'subsample': 0.9779064317667144, 'lambda': 1.5639277846150534, 'alpha': 0.00462439037963918, 'scale_pos_weight': 0.9536654447613468, 'max_leaves': 10, 'max_bin': 200}. Best is trial 241 with value: 0.5493317376051099.\n"
     ]
    },
    {
     "name": "stdout",
     "output_type": "stream",
     "text": [
      "Trial 244 - MAE: 0.5507304450499524\n",
      "\n",
      "Trial 245 parameters: {'booster': 'dart', 'tree_method': 'auto', 'grow_policy': 'lossguide', 'eta': 0.4100770390409314, 'gamma': 0.11795051253484562, 'max_depth': 10, 'min_child_weight': 3.8632020583399336, 'max_delta_step': 2.7582650858883424, 'subsample': 0.9733490391317309, 'reg_lambda': 1.5259322216800932, 'alpha': 0.0062198029566202595, 'scale_pos_weight': 0.9700400246489401, 'max_leaves': 10, 'max_bin': 200, 'random_state': 42, 'eval_metric': 'mae', 'device': 'cuda'}\n"
     ]
    },
    {
     "name": "stderr",
     "output_type": "stream",
     "text": [
      "[I 2025-04-13 18:12:24,666] Trial 245 finished with value: 0.551359970008728 and parameters: {'booster_idx': 3, 'tree_method_idx': 1, 'grow_policy_idx': 2, 'eta': 0.4100770390409314, 'gamma': 0.11795051253484562, 'max_depth': 10, 'min_child_weight': 3.8632020583399336, 'max_delta_step': 2.7582650858883424, 'subsample': 0.9733490391317309, 'lambda': 1.5259322216800932, 'alpha': 0.0062198029566202595, 'scale_pos_weight': 0.9700400246489401, 'max_leaves': 10, 'max_bin': 200}. Best is trial 241 with value: 0.5493317376051099.\n"
     ]
    },
    {
     "name": "stdout",
     "output_type": "stream",
     "text": [
      "Trial 245 - MAE: 0.551359970008728\n",
      "\n",
      "Trial 246 parameters: {'booster': 'dart', 'tree_method': 'auto', 'grow_policy': 'lossguide', 'eta': 0.405103954535913, 'gamma': 0.1607633108643341, 'max_depth': 10, 'min_child_weight': 3.8340020734609763, 'max_delta_step': 2.548131741321866, 'subsample': 0.9333572109126602, 'reg_lambda': 1.9004356065175678, 'alpha': 0.006791365072863066, 'scale_pos_weight': 1.000288118067091, 'max_leaves': 10, 'max_bin': 175, 'random_state': 42, 'eval_metric': 'mae', 'device': 'cuda'}\n"
     ]
    },
    {
     "name": "stderr",
     "output_type": "stream",
     "text": [
      "[I 2025-04-13 18:12:34,696] Trial 246 finished with value: 0.5525342972842449 and parameters: {'booster_idx': 3, 'tree_method_idx': 1, 'grow_policy_idx': 2, 'eta': 0.405103954535913, 'gamma': 0.1607633108643341, 'max_depth': 10, 'min_child_weight': 3.8340020734609763, 'max_delta_step': 2.548131741321866, 'subsample': 0.9333572109126602, 'lambda': 1.9004356065175678, 'alpha': 0.006791365072863066, 'scale_pos_weight': 1.000288118067091, 'max_leaves': 10, 'max_bin': 175}. Best is trial 241 with value: 0.5493317376051099.\n"
     ]
    },
    {
     "name": "stdout",
     "output_type": "stream",
     "text": [
      "Trial 246 - MAE: 0.5525342972842449\n",
      "\n",
      "Trial 247 parameters: {'booster': 'dart', 'tree_method': 'auto', 'grow_policy': 'lossguide', 'eta': 0.4139869936312161, 'gamma': 0.19574749209762565, 'max_depth': 10, 'min_child_weight': 4.072608141798595, 'max_delta_step': 2.4696124912441233, 'subsample': 0.9651452704583509, 'reg_lambda': 2.1055454381716023, 'alpha': 0.004604831751276309, 'scale_pos_weight': 0.9538060071419078, 'max_leaves': 10, 'max_bin': 200, 'random_state': 42, 'eval_metric': 'mae', 'device': 'cuda'}\n"
     ]
    },
    {
     "name": "stderr",
     "output_type": "stream",
     "text": [
      "[I 2025-04-13 18:12:44,398] Trial 247 finished with value: 0.5503760867087597 and parameters: {'booster_idx': 3, 'tree_method_idx': 1, 'grow_policy_idx': 2, 'eta': 0.4139869936312161, 'gamma': 0.19574749209762565, 'max_depth': 10, 'min_child_weight': 4.072608141798595, 'max_delta_step': 2.4696124912441233, 'subsample': 0.9651452704583509, 'lambda': 2.1055454381716023, 'alpha': 0.004604831751276309, 'scale_pos_weight': 0.9538060071419078, 'max_leaves': 10, 'max_bin': 200}. Best is trial 241 with value: 0.5493317376051099.\n"
     ]
    },
    {
     "name": "stdout",
     "output_type": "stream",
     "text": [
      "Trial 247 - MAE: 0.5503760867087597\n",
      "\n",
      "Trial 248 parameters: {'booster': 'dart', 'tree_method': 'auto', 'grow_policy': 'lossguide', 'eta': 0.41306140178092515, 'gamma': 0.18029194565215811, 'max_depth': 10, 'min_child_weight': 4.040353273176144, 'max_delta_step': 2.395779073141846, 'subsample': 0.9573716731299976, 'reg_lambda': 1.56645549829136, 'alpha': 0.005856661520228504, 'scale_pos_weight': 0.952964491567674, 'max_leaves': 10, 'max_bin': 150, 'random_state': 42, 'eval_metric': 'mae', 'device': 'cuda'}\n"
     ]
    },
    {
     "name": "stderr",
     "output_type": "stream",
     "text": [
      "[I 2025-04-13 18:12:54,180] Trial 248 finished with value: 0.5529955558189649 and parameters: {'booster_idx': 3, 'tree_method_idx': 1, 'grow_policy_idx': 2, 'eta': 0.41306140178092515, 'gamma': 0.18029194565215811, 'max_depth': 10, 'min_child_weight': 4.040353273176144, 'max_delta_step': 2.395779073141846, 'subsample': 0.9573716731299976, 'lambda': 1.56645549829136, 'alpha': 0.005856661520228504, 'scale_pos_weight': 0.952964491567674, 'max_leaves': 10, 'max_bin': 150}. Best is trial 241 with value: 0.5493317376051099.\n"
     ]
    },
    {
     "name": "stdout",
     "output_type": "stream",
     "text": [
      "Trial 248 - MAE: 0.5529955558189649\n",
      "\n",
      "Trial 249 parameters: {'booster': 'dart', 'tree_method': 'auto', 'grow_policy': 'lossguide', 'eta': 0.5140652650684014, 'gamma': 0.28062805593788437, 'max_depth': 10, 'min_child_weight': 4.178490512847315, 'max_delta_step': 2.4706375674622074, 'subsample': 0.9723118368420149, 'reg_lambda': 2.040093959494578, 'alpha': 0.004581936461376704, 'scale_pos_weight': 0.9912421337660668, 'max_leaves': 10, 'max_bin': 200, 'random_state': 42, 'eval_metric': 'mae', 'device': 'cuda'}\n"
     ]
    },
    {
     "name": "stderr",
     "output_type": "stream",
     "text": [
      "[I 2025-04-13 18:13:04,199] Trial 249 finished with value: 0.5535277533048841 and parameters: {'booster_idx': 3, 'tree_method_idx': 1, 'grow_policy_idx': 2, 'eta': 0.5140652650684014, 'gamma': 0.28062805593788437, 'max_depth': 10, 'min_child_weight': 4.178490512847315, 'max_delta_step': 2.4706375674622074, 'subsample': 0.9723118368420149, 'lambda': 2.040093959494578, 'alpha': 0.004581936461376704, 'scale_pos_weight': 0.9912421337660668, 'max_leaves': 10, 'max_bin': 200}. Best is trial 241 with value: 0.5493317376051099.\n"
     ]
    },
    {
     "name": "stdout",
     "output_type": "stream",
     "text": [
      "Trial 249 - MAE: 0.5535277533048841\n",
      "\n",
      "Trial 250 parameters: {'booster': 'dart', 'tree_method': 'auto', 'grow_policy': 'lossguide', 'eta': 0.6005962138819766, 'gamma': 0.01783454830891326, 'max_depth': 10, 'min_child_weight': 4.238606599280451, 'max_delta_step': 2.7168716435854616, 'subsample': 0.9886702790194285, 'reg_lambda': 1.4626473666352255, 'alpha': 0.004787340711063023, 'scale_pos_weight': 0.9155583117646628, 'max_leaves': 10, 'max_bin': 200, 'random_state': 42, 'eval_metric': 'mae', 'device': 'cuda'}\n"
     ]
    },
    {
     "name": "stderr",
     "output_type": "stream",
     "text": [
      "[I 2025-04-13 18:13:14,058] Trial 250 finished with value: 0.5544894661672616 and parameters: {'booster_idx': 3, 'tree_method_idx': 1, 'grow_policy_idx': 2, 'eta': 0.6005962138819766, 'gamma': 0.01783454830891326, 'max_depth': 10, 'min_child_weight': 4.238606599280451, 'max_delta_step': 2.7168716435854616, 'subsample': 0.9886702790194285, 'lambda': 1.4626473666352255, 'alpha': 0.004787340711063023, 'scale_pos_weight': 0.9155583117646628, 'max_leaves': 10, 'max_bin': 200}. Best is trial 241 with value: 0.5493317376051099.\n"
     ]
    },
    {
     "name": "stdout",
     "output_type": "stream",
     "text": [
      "Trial 250 - MAE: 0.5544894661672616\n",
      "\n",
      "Trial 251 parameters: {'booster': 'dart', 'tree_method': 'auto', 'grow_policy': 'lossguide', 'eta': 0.4233172106717873, 'gamma': 0.25154998119478356, 'max_depth': 10, 'min_child_weight': 4.115545539938658, 'max_delta_step': 2.977199750402036, 'subsample': 0.9609839752133249, 'reg_lambda': 1.8522540594582482, 'alpha': 0.004479434820285401, 'scale_pos_weight': 1.0735167084193993, 'max_leaves': 10, 'max_bin': 175, 'random_state': 42, 'eval_metric': 'mae', 'device': 'cuda'}\n"
     ]
    },
    {
     "name": "stderr",
     "output_type": "stream",
     "text": [
      "[I 2025-04-13 18:13:23,876] Trial 251 finished with value: 0.5529856798454444 and parameters: {'booster_idx': 3, 'tree_method_idx': 1, 'grow_policy_idx': 2, 'eta': 0.4233172106717873, 'gamma': 0.25154998119478356, 'max_depth': 10, 'min_child_weight': 4.115545539938658, 'max_delta_step': 2.977199750402036, 'subsample': 0.9609839752133249, 'lambda': 1.8522540594582482, 'alpha': 0.004479434820285401, 'scale_pos_weight': 1.0735167084193993, 'max_leaves': 10, 'max_bin': 175}. Best is trial 241 with value: 0.5493317376051099.\n"
     ]
    },
    {
     "name": "stdout",
     "output_type": "stream",
     "text": [
      "Trial 251 - MAE: 0.5529856798454444\n",
      "\n",
      "Trial 252 parameters: {'booster': 'dart', 'tree_method': 'auto', 'grow_policy': 'lossguide', 'eta': 0.5256828157326878, 'gamma': 0.40559565337428843, 'max_depth': 10, 'min_child_weight': 4.0168575512742315, 'max_delta_step': 2.1848536991421743, 'subsample': 0.9654992496461267, 'reg_lambda': 1.1144503534230124, 'alpha': 0.00599359005619103, 'scale_pos_weight': 0.8929680279242351, 'max_leaves': 3, 'max_bin': 200, 'random_state': 42, 'eval_metric': 'mae', 'device': 'cuda'}\n"
     ]
    },
    {
     "name": "stderr",
     "output_type": "stream",
     "text": [
      "[I 2025-04-13 18:13:32,144] Trial 252 finished with value: 0.6108747245817561 and parameters: {'booster_idx': 3, 'tree_method_idx': 1, 'grow_policy_idx': 2, 'eta': 0.5256828157326878, 'gamma': 0.40559565337428843, 'max_depth': 10, 'min_child_weight': 4.0168575512742315, 'max_delta_step': 2.1848536991421743, 'subsample': 0.9654992496461267, 'lambda': 1.1144503534230124, 'alpha': 0.00599359005619103, 'scale_pos_weight': 0.8929680279242351, 'max_leaves': 3, 'max_bin': 200}. Best is trial 241 with value: 0.5493317376051099.\n"
     ]
    },
    {
     "name": "stdout",
     "output_type": "stream",
     "text": [
      "Trial 252 - MAE: 0.6108747245817561\n",
      "\n",
      "Trial 253 parameters: {'booster': 'dart', 'tree_method': 'auto', 'grow_policy': 'depthwise', 'eta': 0.41728831258543, 'gamma': 0.6615285963992135, 'max_depth': 10, 'min_child_weight': 3.8714751807294188, 'max_delta_step': 2.7401874121849263, 'subsample': 0.9382368611755049, 'reg_lambda': 1.6326413571459626, 'alpha': 0.003747043102021943, 'scale_pos_weight': 0.9825001260048555, 'max_leaves': 10, 'max_bin': 200, 'random_state': 42, 'eval_metric': 'mae', 'device': 'cuda'}\n"
     ]
    },
    {
     "name": "stderr",
     "output_type": "stream",
     "text": [
      "[I 2025-04-13 18:13:41,585] Trial 253 finished with value: 0.5597878623256562 and parameters: {'booster_idx': 3, 'tree_method_idx': 1, 'grow_policy_idx': 1, 'eta': 0.41728831258543, 'gamma': 0.6615285963992135, 'max_depth': 10, 'min_child_weight': 3.8714751807294188, 'max_delta_step': 2.7401874121849263, 'subsample': 0.9382368611755049, 'lambda': 1.6326413571459626, 'alpha': 0.003747043102021943, 'scale_pos_weight': 0.9825001260048555, 'max_leaves': 10, 'max_bin': 200}. Best is trial 241 with value: 0.5493317376051099.\n"
     ]
    },
    {
     "name": "stdout",
     "output_type": "stream",
     "text": [
      "Trial 253 - MAE: 0.5597878623256562\n",
      "\n",
      "Trial 254 parameters: {'booster': 'dart', 'tree_method': 'auto', 'grow_policy': 'lossguide', 'eta': 0.4318494864429176, 'gamma': 0.015046855888132149, 'max_depth': 10, 'min_child_weight': 3.994172699247688, 'max_delta_step': 2.9496360767661924, 'subsample': 0.5704717041526635, 'reg_lambda': 1.2534710416314319, 'alpha': 0.003594868659261361, 'scale_pos_weight': 0.86509086977397, 'max_leaves': 10, 'max_bin': 175, 'random_state': 42, 'eval_metric': 'mae', 'device': 'cuda'}\n"
     ]
    },
    {
     "name": "stderr",
     "output_type": "stream",
     "text": [
      "[I 2025-04-13 18:13:51,355] Trial 254 finished with value: 0.5526704545326397 and parameters: {'booster_idx': 3, 'tree_method_idx': 1, 'grow_policy_idx': 2, 'eta': 0.4318494864429176, 'gamma': 0.015046855888132149, 'max_depth': 10, 'min_child_weight': 3.994172699247688, 'max_delta_step': 2.9496360767661924, 'subsample': 0.5704717041526635, 'lambda': 1.2534710416314319, 'alpha': 0.003594868659261361, 'scale_pos_weight': 0.86509086977397, 'max_leaves': 10, 'max_bin': 175}. Best is trial 241 with value: 0.5493317376051099.\n"
     ]
    },
    {
     "name": "stdout",
     "output_type": "stream",
     "text": [
      "Trial 254 - MAE: 0.5526704545326397\n",
      "\n",
      "Trial 255 parameters: {'booster': 'dart', 'tree_method': 'auto', 'grow_policy': 'lossguide', 'eta': 0.3334616047589991, 'gamma': 0.2669678039028678, 'max_depth': 10, 'min_child_weight': 4.070875476576111, 'max_delta_step': 2.8164221519028807, 'subsample': 0.9777111781543177, 'reg_lambda': 2.3745178425301843, 'alpha': 0.005005453165062794, 'scale_pos_weight': 1.0927691280938099, 'max_leaves': 10, 'max_bin': 175, 'random_state': 42, 'eval_metric': 'mae', 'device': 'cuda'}\n"
     ]
    },
    {
     "name": "stderr",
     "output_type": "stream",
     "text": [
      "[I 2025-04-13 18:14:01,292] Trial 255 finished with value: 0.552674754942415 and parameters: {'booster_idx': 3, 'tree_method_idx': 1, 'grow_policy_idx': 2, 'eta': 0.3334616047589991, 'gamma': 0.2669678039028678, 'max_depth': 10, 'min_child_weight': 4.070875476576111, 'max_delta_step': 2.8164221519028807, 'subsample': 0.9777111781543177, 'lambda': 2.3745178425301843, 'alpha': 0.005005453165062794, 'scale_pos_weight': 1.0927691280938099, 'max_leaves': 10, 'max_bin': 175}. Best is trial 241 with value: 0.5493317376051099.\n"
     ]
    },
    {
     "name": "stdout",
     "output_type": "stream",
     "text": [
      "Trial 255 - MAE: 0.552674754942415\n",
      "\n",
      "Trial 256 parameters: {'booster': 'dart', 'tree_method': 'auto', 'grow_policy': 'lossguide', 'eta': 0.5006745176695924, 'gamma': 0.5485400914636859, 'max_depth': 10, 'min_child_weight': 4.279257503614919, 'max_delta_step': 3.067628913136954, 'subsample': 0.5828999859464532, 'reg_lambda': 0.9526444184015992, 'alpha': 0.0038936485456856486, 'scale_pos_weight': 4.680863572386175, 'max_leaves': 10, 'max_bin': 225, 'random_state': 42, 'eval_metric': 'mae', 'device': 'cuda'}\n"
     ]
    },
    {
     "name": "stderr",
     "output_type": "stream",
     "text": [
      "[I 2025-04-13 18:14:10,737] Trial 256 finished with value: 0.599954726844315 and parameters: {'booster_idx': 3, 'tree_method_idx': 1, 'grow_policy_idx': 2, 'eta': 0.5006745176695924, 'gamma': 0.5485400914636859, 'max_depth': 10, 'min_child_weight': 4.279257503614919, 'max_delta_step': 3.067628913136954, 'subsample': 0.5828999859464532, 'lambda': 0.9526444184015992, 'alpha': 0.0038936485456856486, 'scale_pos_weight': 4.680863572386175, 'max_leaves': 10, 'max_bin': 225}. Best is trial 241 with value: 0.5493317376051099.\n"
     ]
    },
    {
     "name": "stdout",
     "output_type": "stream",
     "text": [
      "Trial 256 - MAE: 0.599954726844315\n",
      "\n",
      "Trial 257 parameters: {'booster': 'dart', 'tree_method': 'auto', 'grow_policy': 'lossguide', 'eta': 0.3852301220876797, 'gamma': 0.46753426221828476, 'max_depth': 10, 'min_child_weight': 3.7806723279227663, 'max_delta_step': 2.060789817417433, 'subsample': 0.5505467957975829, 'reg_lambda': 0.8136932963358602, 'alpha': 0.002964850305041778, 'scale_pos_weight': 0.8510002277010265, 'max_leaves': 9, 'max_bin': 200, 'random_state': 42, 'eval_metric': 'mae', 'device': 'cuda'}\n"
     ]
    },
    {
     "name": "stderr",
     "output_type": "stream",
     "text": [
      "[I 2025-04-13 18:14:20,003] Trial 257 finished with value: 0.5548502827607869 and parameters: {'booster_idx': 3, 'tree_method_idx': 1, 'grow_policy_idx': 2, 'eta': 0.3852301220876797, 'gamma': 0.46753426221828476, 'max_depth': 10, 'min_child_weight': 3.7806723279227663, 'max_delta_step': 2.060789817417433, 'subsample': 0.5505467957975829, 'lambda': 0.8136932963358602, 'alpha': 0.002964850305041778, 'scale_pos_weight': 0.8510002277010265, 'max_leaves': 9, 'max_bin': 200}. Best is trial 241 with value: 0.5493317376051099.\n"
     ]
    },
    {
     "name": "stdout",
     "output_type": "stream",
     "text": [
      "Trial 257 - MAE: 0.5548502827607869\n",
      "\n",
      "Trial 258 parameters: {'booster': 'dart', 'tree_method': 'auto', 'grow_policy': 'lossguide', 'eta': 0.45837203310775626, 'gamma': 0.8487051929534819, 'max_depth': 10, 'min_child_weight': 3.956028997420839, 'max_delta_step': 2.5425719302020866, 'subsample': 0.9980988757744227, 'reg_lambda': 0.6125987863505766, 'alpha': 0.0045609973364924075, 'scale_pos_weight': 0.9328594248231412, 'max_leaves': 10, 'max_bin': 200, 'random_state': 42, 'eval_metric': 'mae', 'device': 'cuda'}\n"
     ]
    },
    {
     "name": "stderr",
     "output_type": "stream",
     "text": [
      "[I 2025-04-13 18:14:29,653] Trial 258 finished with value: 0.5519481994988393 and parameters: {'booster_idx': 3, 'tree_method_idx': 1, 'grow_policy_idx': 2, 'eta': 0.45837203310775626, 'gamma': 0.8487051929534819, 'max_depth': 10, 'min_child_weight': 3.956028997420839, 'max_delta_step': 2.5425719302020866, 'subsample': 0.9980988757744227, 'lambda': 0.6125987863505766, 'alpha': 0.0045609973364924075, 'scale_pos_weight': 0.9328594248231412, 'max_leaves': 10, 'max_bin': 200}. Best is trial 241 with value: 0.5493317376051099.\n"
     ]
    },
    {
     "name": "stdout",
     "output_type": "stream",
     "text": [
      "Trial 258 - MAE: 0.5519481994988393\n",
      "\n",
      "Trial 259 parameters: {'booster': 'dart', 'tree_method': 'auto', 'grow_policy': 'lossguide', 'eta': 0.5994435386847544, 'gamma': 0.7111294040474232, 'max_depth': 9, 'min_child_weight': 3.9612768506861475, 'max_delta_step': 2.6263622622177984, 'subsample': 0.9677078079091926, 'reg_lambda': 0.6475220705399986, 'alpha': 0.005005275717285288, 'scale_pos_weight': 0.9597244143855964, 'max_leaves': 6, 'max_bin': 200, 'random_state': 42, 'eval_metric': 'mae', 'device': 'cuda'}\n"
     ]
    },
    {
     "name": "stderr",
     "output_type": "stream",
     "text": [
      "[I 2025-04-13 18:14:38,814] Trial 259 finished with value: 0.5674396844481874 and parameters: {'booster_idx': 3, 'tree_method_idx': 1, 'grow_policy_idx': 2, 'eta': 0.5994435386847544, 'gamma': 0.7111294040474232, 'max_depth': 9, 'min_child_weight': 3.9612768506861475, 'max_delta_step': 2.6263622622177984, 'subsample': 0.9677078079091926, 'lambda': 0.6475220705399986, 'alpha': 0.005005275717285288, 'scale_pos_weight': 0.9597244143855964, 'max_leaves': 6, 'max_bin': 200}. Best is trial 241 with value: 0.5493317376051099.\n"
     ]
    },
    {
     "name": "stdout",
     "output_type": "stream",
     "text": [
      "Trial 259 - MAE: 0.5674396844481874\n",
      "\n",
      "Trial 260 parameters: {'booster': 'dart', 'tree_method': 'auto', 'grow_policy': 'lossguide', 'eta': 0.006629476973939859, 'gamma': 0.892814887743918, 'max_depth': 10, 'min_child_weight': 3.8694909573298006, 'max_delta_step': 2.4316712618532366, 'subsample': 0.9466767184177135, 'reg_lambda': 0.6291096637262803, 'alpha': 0.005882551743564392, 'scale_pos_weight': 1.0281598732633466, 'max_leaves': 10, 'max_bin': 200, 'random_state': 42, 'eval_metric': 'mae', 'device': 'cuda'}\n"
     ]
    },
    {
     "name": "stderr",
     "output_type": "stream",
     "text": [
      "[I 2025-04-13 18:14:48,109] Trial 260 finished with value: 0.9751502614334245 and parameters: {'booster_idx': 3, 'tree_method_idx': 1, 'grow_policy_idx': 2, 'eta': 0.006629476973939859, 'gamma': 0.892814887743918, 'max_depth': 10, 'min_child_weight': 3.8694909573298006, 'max_delta_step': 2.4316712618532366, 'subsample': 0.9466767184177135, 'lambda': 0.6291096637262803, 'alpha': 0.005882551743564392, 'scale_pos_weight': 1.0281598732633466, 'max_leaves': 10, 'max_bin': 200}. Best is trial 241 with value: 0.5493317376051099.\n"
     ]
    },
    {
     "name": "stdout",
     "output_type": "stream",
     "text": [
      "Trial 260 - MAE: 0.9751502614334245\n",
      "\n",
      "Trial 261 parameters: {'booster': 'dart', 'tree_method': 'auto', 'grow_policy': 'lossguide', 'eta': 0.5278765012340777, 'gamma': 0.2572174862124043, 'max_depth': 10, 'min_child_weight': 4.1109884485915025, 'max_delta_step': 2.3064631432159453, 'subsample': 0.9953691141646579, 'reg_lambda': 0.7876341991193023, 'alpha': 0.0040438596789325425, 'scale_pos_weight': 0.9064050359427125, 'max_leaves': 10, 'max_bin': 175, 'random_state': 42, 'eval_metric': 'mae', 'device': 'cuda'}\n"
     ]
    },
    {
     "name": "stderr",
     "output_type": "stream",
     "text": [
      "[I 2025-04-13 18:14:57,930] Trial 261 finished with value: 0.5532520635469307 and parameters: {'booster_idx': 3, 'tree_method_idx': 1, 'grow_policy_idx': 2, 'eta': 0.5278765012340777, 'gamma': 0.2572174862124043, 'max_depth': 10, 'min_child_weight': 4.1109884485915025, 'max_delta_step': 2.3064631432159453, 'subsample': 0.9953691141646579, 'lambda': 0.7876341991193023, 'alpha': 0.0040438596789325425, 'scale_pos_weight': 0.9064050359427125, 'max_leaves': 10, 'max_bin': 175}. Best is trial 241 with value: 0.5493317376051099.\n"
     ]
    },
    {
     "name": "stdout",
     "output_type": "stream",
     "text": [
      "Trial 261 - MAE: 0.5532520635469307\n",
      "\n",
      "Trial 262 parameters: {'booster': 'dart', 'tree_method': 'auto', 'grow_policy': 'lossguide', 'eta': 0.062490866121477924, 'gamma': 0.4871656640570154, 'max_depth': 10, 'min_child_weight': 3.99090253975044, 'max_delta_step': 2.5067063771639635, 'subsample': 0.9941677357751043, 'reg_lambda': 2.797904291809875, 'alpha': 0.0035180950027354713, 'scale_pos_weight': 1.133071291006074, 'max_leaves': 10, 'max_bin': 200, 'random_state': 42, 'eval_metric': 'mae', 'device': 'cuda'}\n"
     ]
    },
    {
     "name": "stderr",
     "output_type": "stream",
     "text": [
      "[I 2025-04-13 18:15:07,731] Trial 262 finished with value: 0.5985841199449957 and parameters: {'booster_idx': 3, 'tree_method_idx': 1, 'grow_policy_idx': 2, 'eta': 0.062490866121477924, 'gamma': 0.4871656640570154, 'max_depth': 10, 'min_child_weight': 3.99090253975044, 'max_delta_step': 2.5067063771639635, 'subsample': 0.9941677357751043, 'lambda': 2.797904291809875, 'alpha': 0.0035180950027354713, 'scale_pos_weight': 1.133071291006074, 'max_leaves': 10, 'max_bin': 200}. Best is trial 241 with value: 0.5493317376051099.\n"
     ]
    },
    {
     "name": "stdout",
     "output_type": "stream",
     "text": [
      "Trial 262 - MAE: 0.5985841199449957\n",
      "\n",
      "Trial 263 parameters: {'booster': 'dart', 'tree_method': 'auto', 'grow_policy': 'lossguide', 'eta': 0.46396182935537456, 'gamma': 2.6971241148595375, 'max_depth': 10, 'min_child_weight': 3.258814650740115, 'max_delta_step': 2.9035137241965256, 'subsample': 0.8539627564325836, 'reg_lambda': 1.5373353255538782, 'alpha': 0.006997175786241271, 'scale_pos_weight': 0.8134519543926728, 'max_leaves': 10, 'max_bin': 150, 'random_state': 42, 'eval_metric': 'mae', 'device': 'cuda'}\n"
     ]
    },
    {
     "name": "stderr",
     "output_type": "stream",
     "text": [
      "[I 2025-04-13 18:15:17,295] Trial 263 finished with value: 0.5520162778930693 and parameters: {'booster_idx': 3, 'tree_method_idx': 1, 'grow_policy_idx': 2, 'eta': 0.46396182935537456, 'gamma': 2.6971241148595375, 'max_depth': 10, 'min_child_weight': 3.258814650740115, 'max_delta_step': 2.9035137241965256, 'subsample': 0.8539627564325836, 'lambda': 1.5373353255538782, 'alpha': 0.006997175786241271, 'scale_pos_weight': 0.8134519543926728, 'max_leaves': 10, 'max_bin': 150}. Best is trial 241 with value: 0.5493317376051099.\n"
     ]
    },
    {
     "name": "stdout",
     "output_type": "stream",
     "text": [
      "Trial 263 - MAE: 0.5520162778930693\n",
      "\n",
      "Trial 264 parameters: {'booster': 'dart', 'tree_method': 'auto', 'grow_policy': 'lossguide', 'eta': 0.6427381407979794, 'gamma': 0.9109835727315682, 'max_depth': 10, 'min_child_weight': 4.080357219563315, 'max_delta_step': 2.776766429448132, 'subsample': 0.5303478788894912, 'reg_lambda': 0.9841206194072517, 'alpha': 0.0011573670765272195, 'scale_pos_weight': 2.911811934365238, 'max_leaves': 3, 'max_bin': 200, 'random_state': 42, 'eval_metric': 'mae', 'device': 'cuda'}\n"
     ]
    },
    {
     "name": "stderr",
     "output_type": "stream",
     "text": [
      "[I 2025-04-13 18:15:25,575] Trial 264 finished with value: 0.6356912975450586 and parameters: {'booster_idx': 3, 'tree_method_idx': 1, 'grow_policy_idx': 2, 'eta': 0.6427381407979794, 'gamma': 0.9109835727315682, 'max_depth': 10, 'min_child_weight': 4.080357219563315, 'max_delta_step': 2.776766429448132, 'subsample': 0.5303478788894912, 'lambda': 0.9841206194072517, 'alpha': 0.0011573670765272195, 'scale_pos_weight': 2.911811934365238, 'max_leaves': 3, 'max_bin': 200}. Best is trial 241 with value: 0.5493317376051099.\n"
     ]
    },
    {
     "name": "stdout",
     "output_type": "stream",
     "text": [
      "Trial 264 - MAE: 0.6356912975450586\n",
      "\n",
      "Trial 265 parameters: {'booster': 'dart', 'tree_method': 'auto', 'grow_policy': 'lossguide', 'eta': 0.41749490939691014, 'gamma': 0.21751987967966044, 'max_depth': 10, 'min_child_weight': 3.885863391801947, 'max_delta_step': 2.5253138923411402, 'subsample': 0.9791487527808598, 'reg_lambda': 1.2296755633682446, 'alpha': 0.0010015014884747838, 'scale_pos_weight': 0.9416312172616119, 'max_leaves': 10, 'max_bin': 175, 'random_state': 42, 'eval_metric': 'mae', 'device': 'cuda'}\n"
     ]
    },
    {
     "name": "stderr",
     "output_type": "stream",
     "text": [
      "[I 2025-04-13 18:15:35,475] Trial 265 finished with value: 0.551508197224478 and parameters: {'booster_idx': 3, 'tree_method_idx': 1, 'grow_policy_idx': 2, 'eta': 0.41749490939691014, 'gamma': 0.21751987967966044, 'max_depth': 10, 'min_child_weight': 3.885863391801947, 'max_delta_step': 2.5253138923411402, 'subsample': 0.9791487527808598, 'lambda': 1.2296755633682446, 'alpha': 0.0010015014884747838, 'scale_pos_weight': 0.9416312172616119, 'max_leaves': 10, 'max_bin': 175}. Best is trial 241 with value: 0.5493317376051099.\n"
     ]
    },
    {
     "name": "stdout",
     "output_type": "stream",
     "text": [
      "Trial 265 - MAE: 0.551508197224478\n",
      "\n",
      "Trial 266 parameters: {'booster': 'dart', 'tree_method': 'auto', 'grow_policy': 'lossguide', 'eta': 0.3931883344370851, 'gamma': 0.1849770278098616, 'max_depth': 6, 'min_child_weight': 3.843991862043871, 'max_delta_step': 2.6361403827577954, 'subsample': 0.9745031718007503, 'reg_lambda': 1.7759294554771552, 'alpha': 0.001015794885386833, 'scale_pos_weight': 0.9843219177933721, 'max_leaves': 10, 'max_bin': 175, 'random_state': 42, 'eval_metric': 'mae', 'device': 'cuda'}\n"
     ]
    },
    {
     "name": "stderr",
     "output_type": "stream",
     "text": [
      "[I 2025-04-13 18:15:45,025] Trial 266 finished with value: 0.5530793426456061 and parameters: {'booster_idx': 3, 'tree_method_idx': 1, 'grow_policy_idx': 2, 'eta': 0.3931883344370851, 'gamma': 0.1849770278098616, 'max_depth': 6, 'min_child_weight': 3.843991862043871, 'max_delta_step': 2.6361403827577954, 'subsample': 0.9745031718007503, 'lambda': 1.7759294554771552, 'alpha': 0.001015794885386833, 'scale_pos_weight': 0.9843219177933721, 'max_leaves': 10, 'max_bin': 175}. Best is trial 241 with value: 0.5493317376051099.\n"
     ]
    },
    {
     "name": "stdout",
     "output_type": "stream",
     "text": [
      "Trial 266 - MAE: 0.5530793426456061\n",
      "\n",
      "Trial 267 parameters: {'booster': 'gbtree', 'tree_method': 'auto', 'grow_policy': 'lossguide', 'eta': 0.565702599103355, 'gamma': 0.4691389717849468, 'max_depth': 10, 'min_child_weight': 4.1314255732390555, 'max_delta_step': 2.718784994372161, 'subsample': 0.9285295964262459, 'reg_lambda': 1.1128962624363181, 'alpha': 0.0013850762728735864, 'scale_pos_weight': 1.0311662860532094, 'max_leaves': 7, 'max_bin': 175, 'random_state': 42, 'eval_metric': 'mae', 'device': 'cuda'}\n"
     ]
    },
    {
     "name": "stderr",
     "output_type": "stream",
     "text": [
      "[I 2025-04-13 18:15:50,714] Trial 267 finished with value: 0.5637176088944937 and parameters: {'booster_idx': 1, 'tree_method_idx': 1, 'grow_policy_idx': 2, 'eta': 0.565702599103355, 'gamma': 0.4691389717849468, 'max_depth': 10, 'min_child_weight': 4.1314255732390555, 'max_delta_step': 2.718784994372161, 'subsample': 0.9285295964262459, 'lambda': 1.1128962624363181, 'alpha': 0.0013850762728735864, 'scale_pos_weight': 1.0311662860532094, 'max_leaves': 7, 'max_bin': 175}. Best is trial 241 with value: 0.5493317376051099.\n"
     ]
    },
    {
     "name": "stdout",
     "output_type": "stream",
     "text": [
      "Trial 267 - MAE: 0.5637176088944937\n",
      "\n",
      "Trial 268 parameters: {'booster': 'dart', 'tree_method': 'auto', 'grow_policy': 'lossguide', 'eta': 0.478017187897534, 'gamma': 0.16184854189758918, 'max_depth': 10, 'min_child_weight': 3.901568352239228, 'max_delta_step': 2.5247588431314596, 'subsample': 0.9982583361567601, 'reg_lambda': 1.243316153326298, 'alpha': 0.0011969677533383539, 'scale_pos_weight': 0.920309838164022, 'max_leaves': 10, 'max_bin': 125, 'random_state': 42, 'eval_metric': 'mae', 'device': 'cuda'}\n"
     ]
    },
    {
     "name": "stderr",
     "output_type": "stream",
     "text": [
      "[I 2025-04-13 18:16:00,474] Trial 268 finished with value: 0.5510381691860959 and parameters: {'booster_idx': 3, 'tree_method_idx': 1, 'grow_policy_idx': 2, 'eta': 0.478017187897534, 'gamma': 0.16184854189758918, 'max_depth': 10, 'min_child_weight': 3.901568352239228, 'max_delta_step': 2.5247588431314596, 'subsample': 0.9982583361567601, 'lambda': 1.243316153326298, 'alpha': 0.0011969677533383539, 'scale_pos_weight': 0.920309838164022, 'max_leaves': 10, 'max_bin': 125}. Best is trial 241 with value: 0.5493317376051099.\n"
     ]
    },
    {
     "name": "stdout",
     "output_type": "stream",
     "text": [
      "Trial 268 - MAE: 0.5510381691860959\n",
      "\n",
      "Trial 269 parameters: {'booster': 'dart', 'tree_method': 'auto', 'grow_policy': 'lossguide', 'eta': 0.33747153628032367, 'gamma': 0.1275733915954575, 'max_depth': 10, 'min_child_weight': 3.794016540270548, 'max_delta_step': 2.283049197233909, 'subsample': 0.9600637047351963, 'reg_lambda': 1.4341499228437118, 'alpha': 0.001150898063669215, 'scale_pos_weight': 0.8651329378330741, 'max_leaves': 10, 'max_bin': 125, 'random_state': 42, 'eval_metric': 'mae', 'device': 'cuda'}\n"
     ]
    },
    {
     "name": "stderr",
     "output_type": "stream",
     "text": [
      "[I 2025-04-13 18:16:09,870] Trial 269 finished with value: 0.5534491633656227 and parameters: {'booster_idx': 3, 'tree_method_idx': 1, 'grow_policy_idx': 2, 'eta': 0.33747153628032367, 'gamma': 0.1275733915954575, 'max_depth': 10, 'min_child_weight': 3.794016540270548, 'max_delta_step': 2.283049197233909, 'subsample': 0.9600637047351963, 'lambda': 1.4341499228437118, 'alpha': 0.001150898063669215, 'scale_pos_weight': 0.8651329378330741, 'max_leaves': 10, 'max_bin': 125}. Best is trial 241 with value: 0.5493317376051099.\n"
     ]
    },
    {
     "name": "stdout",
     "output_type": "stream",
     "text": [
      "Trial 269 - MAE: 0.5534491633656227\n",
      "\n",
      "Trial 270 parameters: {'booster': 'dart', 'tree_method': 'auto', 'grow_policy': 'lossguide', 'eta': 0.5074565769795443, 'gamma': 0.09272076321535253, 'max_depth': 10, 'min_child_weight': 3.0445745441828, 'max_delta_step': 2.4678009989975447, 'subsample': 0.6003764056120082, 'reg_lambda': 1.2817808182074517, 'alpha': 0.0010326726115192561, 'scale_pos_weight': 3.818440278198403, 'max_leaves': 9, 'max_bin': 150, 'random_state': 42, 'eval_metric': 'mae', 'device': 'cuda'}\n"
     ]
    },
    {
     "name": "stderr",
     "output_type": "stream",
     "text": [
      "[I 2025-04-13 18:16:19,314] Trial 270 finished with value: 0.590539709284032 and parameters: {'booster_idx': 3, 'tree_method_idx': 1, 'grow_policy_idx': 2, 'eta': 0.5074565769795443, 'gamma': 0.09272076321535253, 'max_depth': 10, 'min_child_weight': 3.0445745441828, 'max_delta_step': 2.4678009989975447, 'subsample': 0.6003764056120082, 'lambda': 1.2817808182074517, 'alpha': 0.0010326726115192561, 'scale_pos_weight': 3.818440278198403, 'max_leaves': 9, 'max_bin': 150}. Best is trial 241 with value: 0.5493317376051099.\n"
     ]
    },
    {
     "name": "stdout",
     "output_type": "stream",
     "text": [
      "Trial 270 - MAE: 0.590539709284032\n",
      "\n",
      "Trial 271 parameters: {'booster': 'gblinear', 'tree_method': 'auto', 'grow_policy': 'lossguide', 'eta': 0.003628809313940773, 'gamma': 0.00509831632966945, 'max_depth': 9, 'min_child_weight': 3.8774005597932595, 'max_delta_step': 2.393679913097688, 'subsample': 0.9771696997267802, 'reg_lambda': 1.6223227185958633, 'alpha': 0.0014274014383633285, 'scale_pos_weight': 1.179423168955311, 'max_leaves': 10, 'max_bin': 125, 'random_state': 42, 'eval_metric': 'mae', 'device': 'cuda'}\n"
     ]
    },
    {
     "name": "stderr",
     "output_type": "stream",
     "text": [
      "[I 2025-04-13 18:16:36,609] Trial 271 finished with value: 1.238700320598148 and parameters: {'booster_idx': 2, 'tree_method_idx': 1, 'grow_policy_idx': 2, 'eta': 0.003628809313940773, 'gamma': 0.00509831632966945, 'max_depth': 9, 'min_child_weight': 3.8774005597932595, 'max_delta_step': 2.393679913097688, 'subsample': 0.9771696997267802, 'lambda': 1.6223227185958633, 'alpha': 0.0014274014383633285, 'scale_pos_weight': 1.179423168955311, 'max_leaves': 10, 'max_bin': 125}. Best is trial 241 with value: 0.5493317376051099.\n"
     ]
    },
    {
     "name": "stdout",
     "output_type": "stream",
     "text": [
      "Trial 271 - MAE: 1.238700320598148\n",
      "\n",
      "Trial 272 parameters: {'booster': 'dart', 'tree_method': 'auto', 'grow_policy': 'lossguide', 'eta': 0.4062614796658506, 'gamma': 0.38017058483870736, 'max_depth': 10, 'min_child_weight': 3.1921865088568406, 'max_delta_step': 3.061090873148727, 'subsample': 0.9488829648099348, 'reg_lambda': 2.241970888758584, 'alpha': 0.0014596080054174233, 'scale_pos_weight': 1.0762588587932358, 'max_leaves': 10, 'max_bin': 175, 'random_state': 42, 'eval_metric': 'mae', 'device': 'cuda'}\n"
     ]
    },
    {
     "name": "stderr",
     "output_type": "stream",
     "text": [
      "[I 2025-04-13 18:16:46,335] Trial 272 finished with value: 0.5534295276767116 and parameters: {'booster_idx': 3, 'tree_method_idx': 1, 'grow_policy_idx': 2, 'eta': 0.4062614796658506, 'gamma': 0.38017058483870736, 'max_depth': 10, 'min_child_weight': 3.1921865088568406, 'max_delta_step': 3.061090873148727, 'subsample': 0.9488829648099348, 'lambda': 2.241970888758584, 'alpha': 0.0014596080054174233, 'scale_pos_weight': 1.0762588587932358, 'max_leaves': 10, 'max_bin': 175}. Best is trial 241 with value: 0.5493317376051099.\n"
     ]
    },
    {
     "name": "stdout",
     "output_type": "stream",
     "text": [
      "Trial 272 - MAE: 0.5534295276767116\n",
      "\n",
      "Trial 273 parameters: {'booster': 'dart', 'tree_method': 'auto', 'grow_policy': 'lossguide', 'eta': 0.3350997792322319, 'gamma': 0.29172513210955797, 'max_depth': 10, 'min_child_weight': 3.316645482699504, 'max_delta_step': 2.855973189784027, 'subsample': 0.5627608269404003, 'reg_lambda': 1.1588028559269383, 'alpha': 0.0012147308423903671, 'scale_pos_weight': 0.8997507609837574, 'max_leaves': 10, 'max_bin': 125, 'random_state': 42, 'eval_metric': 'mae', 'device': 'cuda'}\n"
     ]
    },
    {
     "name": "stderr",
     "output_type": "stream",
     "text": [
      "[I 2025-04-13 18:16:55,691] Trial 273 finished with value: 0.5538772508448107 and parameters: {'booster_idx': 3, 'tree_method_idx': 1, 'grow_policy_idx': 2, 'eta': 0.3350997792322319, 'gamma': 0.29172513210955797, 'max_depth': 10, 'min_child_weight': 3.316645482699504, 'max_delta_step': 2.855973189784027, 'subsample': 0.5627608269404003, 'lambda': 1.1588028559269383, 'alpha': 0.0012147308423903671, 'scale_pos_weight': 0.8997507609837574, 'max_leaves': 10, 'max_bin': 125}. Best is trial 241 with value: 0.5493317376051099.\n"
     ]
    },
    {
     "name": "stdout",
     "output_type": "stream",
     "text": [
      "Trial 273 - MAE: 0.5538772508448107\n",
      "\n",
      "Trial 274 parameters: {'booster': 'dart', 'tree_method': 'auto', 'grow_policy': 'lossguide', 'eta': 0.6850338809892981, 'gamma': 0.5667389974199605, 'max_depth': 7, 'min_child_weight': 4.196340845134218, 'max_delta_step': 2.546027736282374, 'subsample': 0.9844411227831139, 'reg_lambda': 0.8497237742526325, 'alpha': 7.451420218543453, 'scale_pos_weight': 0.8294781622844606, 'max_leaves': 10, 'max_bin': 125, 'random_state': 42, 'eval_metric': 'mae', 'device': 'cuda'}\n"
     ]
    },
    {
     "name": "stderr",
     "output_type": "stream",
     "text": [
      "[I 2025-04-13 18:17:05,311] Trial 274 finished with value: 0.554815762251814 and parameters: {'booster_idx': 3, 'tree_method_idx': 1, 'grow_policy_idx': 2, 'eta': 0.6850338809892981, 'gamma': 0.5667389974199605, 'max_depth': 7, 'min_child_weight': 4.196340845134218, 'max_delta_step': 2.546027736282374, 'subsample': 0.9844411227831139, 'lambda': 0.8497237742526325, 'alpha': 7.451420218543453, 'scale_pos_weight': 0.8294781622844606, 'max_leaves': 10, 'max_bin': 125}. Best is trial 241 with value: 0.5493317376051099.\n"
     ]
    },
    {
     "name": "stdout",
     "output_type": "stream",
     "text": [
      "Trial 274 - MAE: 0.554815762251814\n",
      "\n",
      "Trial 275 parameters: {'booster': 'dart', 'tree_method': 'auto', 'grow_policy': 'lossguide', 'eta': 0.45865953288222583, 'gamma': 2.441250939107395, 'max_depth': 10, 'min_child_weight': 4.031253772640476, 'max_delta_step': 2.967628539124449, 'subsample': 0.2892974382559235, 'reg_lambda': 1.9809956532149213, 'alpha': 4.140503831686763, 'scale_pos_weight': 0.969085593133161, 'max_leaves': 10, 'max_bin': 150, 'random_state': 42, 'eval_metric': 'mae', 'device': 'cuda'}\n"
     ]
    },
    {
     "name": "stderr",
     "output_type": "stream",
     "text": [
      "[I 2025-04-13 18:17:15,068] Trial 275 finished with value: 0.5534918076518893 and parameters: {'booster_idx': 3, 'tree_method_idx': 1, 'grow_policy_idx': 2, 'eta': 0.45865953288222583, 'gamma': 2.441250939107395, 'max_depth': 10, 'min_child_weight': 4.031253772640476, 'max_delta_step': 2.967628539124449, 'subsample': 0.2892974382559235, 'lambda': 1.9809956532149213, 'alpha': 4.140503831686763, 'scale_pos_weight': 0.969085593133161, 'max_leaves': 10, 'max_bin': 150}. Best is trial 241 with value: 0.5493317376051099.\n"
     ]
    },
    {
     "name": "stdout",
     "output_type": "stream",
     "text": [
      "Trial 275 - MAE: 0.5534918076518893\n",
      "\n",
      "Trial 276 parameters: {'booster': 'dart', 'tree_method': 'auto', 'grow_policy': 'lossguide', 'eta': 0.38419685380379187, 'gamma': 0.2152479718996629, 'max_depth': 10, 'min_child_weight': 3.114375552893996, 'max_delta_step': 2.6795654756856515, 'subsample': 0.9163559429478688, 'reg_lambda': 1.0742198560535603, 'alpha': 0.0012216032691932527, 'scale_pos_weight': 0.7532678950717058, 'max_leaves': 10, 'max_bin': 150, 'random_state': 42, 'eval_metric': 'mae', 'device': 'cuda'}\n"
     ]
    },
    {
     "name": "stderr",
     "output_type": "stream",
     "text": [
      "[I 2025-04-13 18:17:24,716] Trial 276 finished with value: 0.5497565020356402 and parameters: {'booster_idx': 3, 'tree_method_idx': 1, 'grow_policy_idx': 2, 'eta': 0.38419685380379187, 'gamma': 0.2152479718996629, 'max_depth': 10, 'min_child_weight': 3.114375552893996, 'max_delta_step': 2.6795654756856515, 'subsample': 0.9163559429478688, 'lambda': 1.0742198560535603, 'alpha': 0.0012216032691932527, 'scale_pos_weight': 0.7532678950717058, 'max_leaves': 10, 'max_bin': 150}. Best is trial 241 with value: 0.5493317376051099.\n"
     ]
    },
    {
     "name": "stdout",
     "output_type": "stream",
     "text": [
      "Trial 276 - MAE: 0.5497565020356402\n",
      "\n",
      "Trial 277 parameters: {'booster': 'dart', 'tree_method': 'auto', 'grow_policy': 'lossguide', 'eta': 0.556869861094864, 'gamma': 0.22172312532523714, 'max_depth': 10, 'min_child_weight': 3.1569537826815695, 'max_delta_step': 2.5404174657455116, 'subsample': 0.9751561823312963, 'reg_lambda': 0.9765433200221434, 'alpha': 0.0012944434950443074, 'scale_pos_weight': 0.6858254223674848, 'max_leaves': 9, 'max_bin': 125, 'random_state': 42, 'eval_metric': 'mae', 'device': 'cuda'}\n"
     ]
    },
    {
     "name": "stderr",
     "output_type": "stream",
     "text": [
      "[I 2025-04-13 18:17:34,190] Trial 277 finished with value: 0.5531481605356598 and parameters: {'booster_idx': 3, 'tree_method_idx': 1, 'grow_policy_idx': 2, 'eta': 0.556869861094864, 'gamma': 0.22172312532523714, 'max_depth': 10, 'min_child_weight': 3.1569537826815695, 'max_delta_step': 2.5404174657455116, 'subsample': 0.9751561823312963, 'lambda': 0.9765433200221434, 'alpha': 0.0012944434950443074, 'scale_pos_weight': 0.6858254223674848, 'max_leaves': 9, 'max_bin': 125}. Best is trial 241 with value: 0.5493317376051099.\n"
     ]
    },
    {
     "name": "stdout",
     "output_type": "stream",
     "text": [
      "Trial 277 - MAE: 0.5531481605356598\n",
      "\n",
      "Trial 278 parameters: {'booster': 'dart', 'tree_method': 'auto', 'grow_policy': 'lossguide', 'eta': 0.4026140396989392, 'gamma': 0.49186462043341883, 'max_depth': 10, 'min_child_weight': 3.2709400050877413, 'max_delta_step': 2.6794066894001056, 'subsample': 0.9180458839212932, 'reg_lambda': 1.2755089934339836, 'alpha': 0.0012104129319322802, 'scale_pos_weight': 0.7382191979903268, 'max_leaves': 10, 'max_bin': 125, 'random_state': 42, 'eval_metric': 'mae', 'device': 'cuda'}\n"
     ]
    },
    {
     "name": "stderr",
     "output_type": "stream",
     "text": [
      "[I 2025-04-13 18:17:43,544] Trial 278 finished with value: 0.5511947692080978 and parameters: {'booster_idx': 3, 'tree_method_idx': 1, 'grow_policy_idx': 2, 'eta': 0.4026140396989392, 'gamma': 0.49186462043341883, 'max_depth': 10, 'min_child_weight': 3.2709400050877413, 'max_delta_step': 2.6794066894001056, 'subsample': 0.9180458839212932, 'lambda': 1.2755089934339836, 'alpha': 0.0012104129319322802, 'scale_pos_weight': 0.7382191979903268, 'max_leaves': 10, 'max_bin': 125}. Best is trial 241 with value: 0.5493317376051099.\n"
     ]
    },
    {
     "name": "stdout",
     "output_type": "stream",
     "text": [
      "Trial 278 - MAE: 0.5511947692080978\n",
      "\n",
      "Trial 279 parameters: {'booster': 'dart', 'tree_method': 'auto', 'grow_policy': 'lossguide', 'eta': 0.3973525876654598, 'gamma': 0.6202482571516349, 'max_depth': 10, 'min_child_weight': 3.2693917469071856, 'max_delta_step': 2.788675376681749, 'subsample': 0.8829512853192302, 'reg_lambda': 1.2650130421064736, 'alpha': 0.0010146235762126766, 'scale_pos_weight': 0.6332522138532725, 'max_leaves': 10, 'max_bin': 150, 'random_state': 42, 'eval_metric': 'mae', 'device': 'cuda'}\n"
     ]
    },
    {
     "name": "stderr",
     "output_type": "stream",
     "text": [
      "[I 2025-04-13 18:17:53,133] Trial 279 finished with value: 0.5539903138963129 and parameters: {'booster_idx': 3, 'tree_method_idx': 1, 'grow_policy_idx': 2, 'eta': 0.3973525876654598, 'gamma': 0.6202482571516349, 'max_depth': 10, 'min_child_weight': 3.2693917469071856, 'max_delta_step': 2.788675376681749, 'subsample': 0.8829512853192302, 'lambda': 1.2650130421064736, 'alpha': 0.0010146235762126766, 'scale_pos_weight': 0.6332522138532725, 'max_leaves': 10, 'max_bin': 150}. Best is trial 241 with value: 0.5493317376051099.\n"
     ]
    },
    {
     "name": "stdout",
     "output_type": "stream",
     "text": [
      "Trial 279 - MAE: 0.5539903138963129\n",
      "\n",
      "Trial 280 parameters: {'booster': 'dart', 'tree_method': 'auto', 'grow_policy': 'lossguide', 'eta': 0.49409631393557185, 'gamma': 0.36918947657242873, 'max_depth': 10, 'min_child_weight': 3.0864128027802824, 'max_delta_step': 2.694318421080534, 'subsample': 0.918073184077512, 'reg_lambda': 1.508059357194195, 'alpha': 0.0012439781661397024, 'scale_pos_weight': 0.7645723181245703, 'max_leaves': 10, 'max_bin': 125, 'random_state': 42, 'eval_metric': 'mae', 'device': 'cuda'}\n"
     ]
    },
    {
     "name": "stderr",
     "output_type": "stream",
     "text": [
      "[I 2025-04-13 18:18:02,845] Trial 280 finished with value: 0.5534518344854997 and parameters: {'booster_idx': 3, 'tree_method_idx': 1, 'grow_policy_idx': 2, 'eta': 0.49409631393557185, 'gamma': 0.36918947657242873, 'max_depth': 10, 'min_child_weight': 3.0864128027802824, 'max_delta_step': 2.694318421080534, 'subsample': 0.918073184077512, 'lambda': 1.508059357194195, 'alpha': 0.0012439781661397024, 'scale_pos_weight': 0.7645723181245703, 'max_leaves': 10, 'max_bin': 125}. Best is trial 241 with value: 0.5493317376051099.\n"
     ]
    },
    {
     "name": "stdout",
     "output_type": "stream",
     "text": [
      "Trial 280 - MAE: 0.5534518344854997\n",
      "\n",
      "Trial 281 parameters: {'booster': 'dart', 'tree_method': 'auto', 'grow_policy': 'lossguide', 'eta': 0.42831660758715057, 'gamma': 0.44878364765015416, 'max_depth': 10, 'min_child_weight': 3.1195845286772474, 'max_delta_step': 2.6320592569532373, 'subsample': 0.9210186804203768, 'reg_lambda': 0.0012679820298230257, 'alpha': 0.001570418513078273, 'scale_pos_weight': 0.7399086846620514, 'max_leaves': 10, 'max_bin': 150, 'random_state': 42, 'eval_metric': 'mae', 'device': 'cuda'}\n"
     ]
    },
    {
     "name": "stderr",
     "output_type": "stream",
     "text": [
      "[I 2025-04-13 18:18:12,486] Trial 281 finished with value: 0.5535510278587354 and parameters: {'booster_idx': 3, 'tree_method_idx': 1, 'grow_policy_idx': 2, 'eta': 0.42831660758715057, 'gamma': 0.44878364765015416, 'max_depth': 10, 'min_child_weight': 3.1195845286772474, 'max_delta_step': 2.6320592569532373, 'subsample': 0.9210186804203768, 'lambda': 0.0012679820298230257, 'alpha': 0.001570418513078273, 'scale_pos_weight': 0.7399086846620514, 'max_leaves': 10, 'max_bin': 150}. Best is trial 241 with value: 0.5493317376051099.\n"
     ]
    },
    {
     "name": "stdout",
     "output_type": "stream",
     "text": [
      "Trial 281 - MAE: 0.5535510278587354\n",
      "\n",
      "Trial 282 parameters: {'booster': 'dart', 'tree_method': 'auto', 'grow_policy': 'lossguide', 'eta': 0.37945916966785337, 'gamma': 0.006332487576910573, 'max_depth': 11, 'min_child_weight': 3.3133959473069794, 'max_delta_step': 2.753870114952117, 'subsample': 0.9453902903022277, 'reg_lambda': 1.102993522685863, 'alpha': 0.0010101681715000653, 'scale_pos_weight': 0.5330126812226379, 'max_leaves': 10, 'max_bin': 125, 'random_state': 42, 'eval_metric': 'mae', 'device': 'cuda'}\n"
     ]
    },
    {
     "name": "stderr",
     "output_type": "stream",
     "text": [
      "[I 2025-04-13 18:18:21,856] Trial 282 finished with value: 0.5570787259997753 and parameters: {'booster_idx': 3, 'tree_method_idx': 1, 'grow_policy_idx': 2, 'eta': 0.37945916966785337, 'gamma': 0.006332487576910573, 'max_depth': 11, 'min_child_weight': 3.3133959473069794, 'max_delta_step': 2.753870114952117, 'subsample': 0.9453902903022277, 'lambda': 1.102993522685863, 'alpha': 0.0010101681715000653, 'scale_pos_weight': 0.5330126812226379, 'max_leaves': 10, 'max_bin': 125}. Best is trial 241 with value: 0.5493317376051099.\n"
     ]
    },
    {
     "name": "stdout",
     "output_type": "stream",
     "text": [
      "Trial 282 - MAE: 0.5570787259997753\n",
      "\n",
      "Trial 283 parameters: {'booster': 'dart', 'tree_method': 'auto', 'grow_policy': 'lossguide', 'eta': 0.5685754369631041, 'gamma': 0.2899023761091587, 'max_depth': 9, 'min_child_weight': 3.2075563203534108, 'max_delta_step': 2.4509704035176982, 'subsample': 0.8842611372950191, 'reg_lambda': 0.9541395843682675, 'alpha': 0.0012499708296002947, 'scale_pos_weight': 0.8233553875101294, 'max_leaves': 10, 'max_bin': 125, 'random_state': 42, 'eval_metric': 'mae', 'device': 'cuda'}\n"
     ]
    },
    {
     "name": "stderr",
     "output_type": "stream",
     "text": [
      "[I 2025-04-13 18:18:31,634] Trial 283 finished with value: 0.5532453889492136 and parameters: {'booster_idx': 3, 'tree_method_idx': 1, 'grow_policy_idx': 2, 'eta': 0.5685754369631041, 'gamma': 0.2899023761091587, 'max_depth': 9, 'min_child_weight': 3.2075563203534108, 'max_delta_step': 2.4509704035176982, 'subsample': 0.8842611372950191, 'lambda': 0.9541395843682675, 'alpha': 0.0012499708296002947, 'scale_pos_weight': 0.8233553875101294, 'max_leaves': 10, 'max_bin': 125}. Best is trial 241 with value: 0.5493317376051099.\n"
     ]
    },
    {
     "name": "stdout",
     "output_type": "stream",
     "text": [
      "Trial 283 - MAE: 0.5532453889492136\n",
      "\n",
      "Trial 284 parameters: {'booster': 'dart', 'tree_method': 'auto', 'grow_policy': 'lossguide', 'eta': 0.47876493893335303, 'gamma': 0.6753463504436811, 'max_depth': 10, 'min_child_weight': 3.3965577834420295, 'max_delta_step': 2.875097302338436, 'subsample': 0.9208585627242112, 'reg_lambda': 1.2748260302623247, 'alpha': 0.001966561306319779, 'scale_pos_weight': 0.6612140132485704, 'max_leaves': 10, 'max_bin': 150, 'random_state': 42, 'eval_metric': 'mae', 'device': 'cuda'}\n"
     ]
    },
    {
     "name": "stderr",
     "output_type": "stream",
     "text": [
      "[I 2025-04-13 18:18:41,287] Trial 284 finished with value: 0.5539093916437932 and parameters: {'booster_idx': 3, 'tree_method_idx': 1, 'grow_policy_idx': 2, 'eta': 0.47876493893335303, 'gamma': 0.6753463504436811, 'max_depth': 10, 'min_child_weight': 3.3965577834420295, 'max_delta_step': 2.875097302338436, 'subsample': 0.9208585627242112, 'lambda': 1.2748260302623247, 'alpha': 0.001966561306319779, 'scale_pos_weight': 0.6612140132485704, 'max_leaves': 10, 'max_bin': 150}. Best is trial 241 with value: 0.5493317376051099.\n"
     ]
    },
    {
     "name": "stdout",
     "output_type": "stream",
     "text": [
      "Trial 284 - MAE: 0.5539093916437932\n",
      "\n",
      "Trial 285 parameters: {'booster': 'dart', 'tree_method': 'auto', 'grow_policy': 'lossguide', 'eta': 0.4281501228936754, 'gamma': 0.17906118395120965, 'max_depth': 10, 'min_child_weight': 3.7651864722362123, 'max_delta_step': 2.229559802256803, 'subsample': 0.9604941548143768, 'reg_lambda': 0.7859278891223044, 'alpha': 0.0015982657720115363, 'scale_pos_weight': 0.8014219007506387, 'max_leaves': 10, 'max_bin': 125, 'random_state': 42, 'eval_metric': 'mae', 'device': 'cuda'}\n"
     ]
    },
    {
     "name": "stderr",
     "output_type": "stream",
     "text": [
      "[I 2025-04-13 18:18:50,752] Trial 285 finished with value: 0.5528668123187207 and parameters: {'booster_idx': 3, 'tree_method_idx': 1, 'grow_policy_idx': 2, 'eta': 0.4281501228936754, 'gamma': 0.17906118395120965, 'max_depth': 10, 'min_child_weight': 3.7651864722362123, 'max_delta_step': 2.229559802256803, 'subsample': 0.9604941548143768, 'lambda': 0.7859278891223044, 'alpha': 0.0015982657720115363, 'scale_pos_weight': 0.8014219007506387, 'max_leaves': 10, 'max_bin': 125}. Best is trial 241 with value: 0.5493317376051099.\n"
     ]
    },
    {
     "name": "stdout",
     "output_type": "stream",
     "text": [
      "Trial 285 - MAE: 0.5528668123187207\n",
      "\n",
      "Trial 286 parameters: {'booster': 'dart', 'tree_method': 'auto', 'grow_policy': 'lossguide', 'eta': 0.34471348895565, 'gamma': 0.5074404170513563, 'max_depth': 10, 'min_child_weight': 3.9052046956234645, 'max_delta_step': 2.6725481412983774, 'subsample': 0.3339540864296637, 'reg_lambda': 1.7359889891306288, 'alpha': 0.0012729375941220532, 'scale_pos_weight': 0.8909298657511872, 'max_leaves': 10, 'max_bin': 175, 'random_state': 42, 'eval_metric': 'mae', 'device': 'cuda'}\n"
     ]
    },
    {
     "name": "stderr",
     "output_type": "stream",
     "text": [
      "[I 2025-04-13 18:19:00,752] Trial 286 finished with value: 0.5519918101270588 and parameters: {'booster_idx': 3, 'tree_method_idx': 1, 'grow_policy_idx': 2, 'eta': 0.34471348895565, 'gamma': 0.5074404170513563, 'max_depth': 10, 'min_child_weight': 3.9052046956234645, 'max_delta_step': 2.6725481412983774, 'subsample': 0.3339540864296637, 'lambda': 1.7359889891306288, 'alpha': 0.0012729375941220532, 'scale_pos_weight': 0.8909298657511872, 'max_leaves': 10, 'max_bin': 175}. Best is trial 241 with value: 0.5493317376051099.\n"
     ]
    },
    {
     "name": "stdout",
     "output_type": "stream",
     "text": [
      "Trial 286 - MAE: 0.5519918101270588\n",
      "\n",
      "Trial 287 parameters: {'booster': 'dart', 'tree_method': 'auto', 'grow_policy': 'lossguide', 'eta': 0.5036290736651134, 'gamma': 0.2668613822500978, 'max_depth': 5, 'min_child_weight': 4.303222687189663, 'max_delta_step': 3.1490184742442207, 'subsample': 0.9535909158079248, 'reg_lambda': 1.0406341378609711, 'alpha': 0.0017186847402240115, 'scale_pos_weight': 0.7244019869091511, 'max_leaves': 10, 'max_bin': 150, 'random_state': 42, 'eval_metric': 'mae', 'device': 'cuda'}\n"
     ]
    },
    {
     "name": "stderr",
     "output_type": "stream",
     "text": [
      "[I 2025-04-13 18:19:10,287] Trial 287 finished with value: 0.5577539733923206 and parameters: {'booster_idx': 3, 'tree_method_idx': 1, 'grow_policy_idx': 2, 'eta': 0.5036290736651134, 'gamma': 0.2668613822500978, 'max_depth': 5, 'min_child_weight': 4.303222687189663, 'max_delta_step': 3.1490184742442207, 'subsample': 0.9535909158079248, 'lambda': 1.0406341378609711, 'alpha': 0.0017186847402240115, 'scale_pos_weight': 0.7244019869091511, 'max_leaves': 10, 'max_bin': 150}. Best is trial 241 with value: 0.5493317376051099.\n"
     ]
    },
    {
     "name": "stdout",
     "output_type": "stream",
     "text": [
      "Trial 287 - MAE: 0.5577539733923206\n",
      "\n",
      "Trial 288 parameters: {'booster': 'dart', 'tree_method': 'auto', 'grow_policy': 'lossguide', 'eta': 0.2764508149465019, 'gamma': 0.1912700701724802, 'max_depth': 10, 'min_child_weight': 4.042567037759084, 'max_delta_step': 2.5544993302120655, 'subsample': 0.9344999256364723, 'reg_lambda': 0.8102102211290353, 'alpha': 0.0019860466566889168, 'scale_pos_weight': 0.9560578133737125, 'max_leaves': 9, 'max_bin': 125, 'random_state': 42, 'eval_metric': 'mae', 'device': 'cuda'}\n"
     ]
    },
    {
     "name": "stderr",
     "output_type": "stream",
     "text": [
      "[I 2025-04-13 18:19:19,577] Trial 288 finished with value: 0.5586659485691055 and parameters: {'booster_idx': 3, 'tree_method_idx': 1, 'grow_policy_idx': 2, 'eta': 0.2764508149465019, 'gamma': 0.1912700701724802, 'max_depth': 10, 'min_child_weight': 4.042567037759084, 'max_delta_step': 2.5544993302120655, 'subsample': 0.9344999256364723, 'lambda': 0.8102102211290353, 'alpha': 0.0019860466566889168, 'scale_pos_weight': 0.9560578133737125, 'max_leaves': 9, 'max_bin': 125}. Best is trial 241 with value: 0.5493317376051099.\n"
     ]
    },
    {
     "name": "stdout",
     "output_type": "stream",
     "text": [
      "Trial 288 - MAE: 0.5586659485691055\n",
      "\n",
      "Trial 289 parameters: {'booster': 'dart', 'tree_method': 'auto', 'grow_policy': 'lossguide', 'eta': 0.3843413852130377, 'gamma': 0.7133520576147425, 'max_depth': 10, 'min_child_weight': 3.3023687309395635, 'max_delta_step': 2.362059176771629, 'subsample': 0.5798437326716099, 'reg_lambda': 2.122090156236909, 'alpha': 0.001424561643800488, 'scale_pos_weight': 4.937620333549136, 'max_leaves': 10, 'max_bin': 175, 'random_state': 42, 'eval_metric': 'mae', 'device': 'cuda'}\n"
     ]
    },
    {
     "name": "stderr",
     "output_type": "stream",
     "text": [
      "[I 2025-04-13 18:19:29,472] Trial 289 finished with value: 0.5936919586737016 and parameters: {'booster_idx': 3, 'tree_method_idx': 1, 'grow_policy_idx': 2, 'eta': 0.3843413852130377, 'gamma': 0.7133520576147425, 'max_depth': 10, 'min_child_weight': 3.3023687309395635, 'max_delta_step': 2.362059176771629, 'subsample': 0.5798437326716099, 'lambda': 2.122090156236909, 'alpha': 0.001424561643800488, 'scale_pos_weight': 4.937620333549136, 'max_leaves': 10, 'max_bin': 175}. Best is trial 241 with value: 0.5493317376051099.\n"
     ]
    },
    {
     "name": "stdout",
     "output_type": "stream",
     "text": [
      "Trial 289 - MAE: 0.5936919586737016\n",
      "\n",
      "Trial 290 parameters: {'booster': 'dart', 'tree_method': 'auto', 'grow_policy': 'lossguide', 'eta': 0.6030663114786586, 'gamma': 0.018045912776332773, 'max_depth': 10, 'min_child_weight': 3.2288550857068783, 'max_delta_step': 3.0064604730633673, 'subsample': 0.5540017494473992, 'reg_lambda': 1.4495985648572964, 'alpha': 0.0011671785738525153, 'scale_pos_weight': 0.609331316698263, 'max_leaves': 10, 'max_bin': 225, 'random_state': 42, 'eval_metric': 'mae', 'device': 'cuda'}\n"
     ]
    },
    {
     "name": "stderr",
     "output_type": "stream",
     "text": [
      "[I 2025-04-13 18:19:39,486] Trial 290 finished with value: 0.5553805472170494 and parameters: {'booster_idx': 3, 'tree_method_idx': 1, 'grow_policy_idx': 2, 'eta': 0.6030663114786586, 'gamma': 0.018045912776332773, 'max_depth': 10, 'min_child_weight': 3.2288550857068783, 'max_delta_step': 3.0064604730633673, 'subsample': 0.5540017494473992, 'lambda': 1.4495985648572964, 'alpha': 0.0011671785738525153, 'scale_pos_weight': 0.609331316698263, 'max_leaves': 10, 'max_bin': 225}. Best is trial 241 with value: 0.5493317376051099.\n"
     ]
    },
    {
     "name": "stdout",
     "output_type": "stream",
     "text": [
      "Trial 290 - MAE: 0.5553805472170494\n",
      "\n",
      "Trial 291 parameters: {'booster': 'dart', 'tree_method': 'auto', 'grow_policy': 'depthwise', 'eta': 0.3140595331191909, 'gamma': 0.5069294087395679, 'max_depth': 10, 'min_child_weight': 4.182786990082063, 'max_delta_step': 2.79190927143151, 'subsample': 0.907981101442187, 'reg_lambda': 0.5424273734679634, 'alpha': 0.002229045918968222, 'scale_pos_weight': 0.7773073838466691, 'max_leaves': 10, 'max_bin': 150, 'random_state': 42, 'eval_metric': 'mae', 'device': 'cuda'}\n"
     ]
    },
    {
     "name": "stderr",
     "output_type": "stream",
     "text": [
      "[I 2025-04-13 18:19:48,733] Trial 291 finished with value: 0.5629273236736682 and parameters: {'booster_idx': 3, 'tree_method_idx': 1, 'grow_policy_idx': 1, 'eta': 0.3140595331191909, 'gamma': 0.5069294087395679, 'max_depth': 10, 'min_child_weight': 4.182786990082063, 'max_delta_step': 2.79190927143151, 'subsample': 0.907981101442187, 'lambda': 0.5424273734679634, 'alpha': 0.002229045918968222, 'scale_pos_weight': 0.7773073838466691, 'max_leaves': 10, 'max_bin': 150}. Best is trial 241 with value: 0.5493317376051099.\n"
     ]
    },
    {
     "name": "stdout",
     "output_type": "stream",
     "text": [
      "Trial 291 - MAE: 0.5629273236736682\n",
      "\n",
      "Trial 292 parameters: {'booster': 'dart', 'tree_method': 'auto', 'grow_policy': 'lossguide', 'eta': 0.4501827604075266, 'gamma': 0.3620692750723986, 'max_depth': 11, 'min_child_weight': 3.833411826492581, 'max_delta_step': 2.114351858500641, 'subsample': 0.5375512900891195, 'reg_lambda': 3.0536970713038123, 'alpha': 0.0010036690642880569, 'scale_pos_weight': 0.8790407443612498, 'max_leaves': 10, 'max_bin': 200, 'random_state': 42, 'eval_metric': 'mae', 'device': 'cuda'}\n"
     ]
    },
    {
     "name": "stderr",
     "output_type": "stream",
     "text": [
      "[I 2025-04-13 18:19:58,753] Trial 292 finished with value: 0.5540059775117543 and parameters: {'booster_idx': 3, 'tree_method_idx': 1, 'grow_policy_idx': 2, 'eta': 0.4501827604075266, 'gamma': 0.3620692750723986, 'max_depth': 11, 'min_child_weight': 3.833411826492581, 'max_delta_step': 2.114351858500641, 'subsample': 0.5375512900891195, 'lambda': 3.0536970713038123, 'alpha': 0.0010036690642880569, 'scale_pos_weight': 0.8790407443612498, 'max_leaves': 10, 'max_bin': 200}. Best is trial 241 with value: 0.5493317376051099.\n"
     ]
    },
    {
     "name": "stdout",
     "output_type": "stream",
     "text": [
      "Trial 292 - MAE: 0.5540059775117543\n",
      "\n",
      "Trial 293 parameters: {'booster': 'dart', 'tree_method': 'auto', 'grow_policy': 'lossguide', 'eta': 0.396756493057239, 'gamma': 0.8068965359702991, 'max_depth': 10, 'min_child_weight': 3.9833300289918094, 'max_delta_step': 2.8987909445943565, 'subsample': 0.9960009765699883, 'reg_lambda': 1.1900395729818807, 'alpha': 0.002628322671528501, 'scale_pos_weight': 1.0592243889200783, 'max_leaves': 10, 'max_bin': 175, 'random_state': 42, 'eval_metric': 'mae', 'device': 'cuda'}\n"
     ]
    },
    {
     "name": "stderr",
     "output_type": "stream",
     "text": [
      "[I 2025-04-13 18:20:08,683] Trial 293 finished with value: 0.5530206307440015 and parameters: {'booster_idx': 3, 'tree_method_idx': 1, 'grow_policy_idx': 2, 'eta': 0.396756493057239, 'gamma': 0.8068965359702991, 'max_depth': 10, 'min_child_weight': 3.9833300289918094, 'max_delta_step': 2.8987909445943565, 'subsample': 0.9960009765699883, 'lambda': 1.1900395729818807, 'alpha': 0.002628322671528501, 'scale_pos_weight': 1.0592243889200783, 'max_leaves': 10, 'max_bin': 175}. Best is trial 241 with value: 0.5493317376051099.\n"
     ]
    },
    {
     "name": "stdout",
     "output_type": "stream",
     "text": [
      "Trial 293 - MAE: 0.5530206307440015\n",
      "\n",
      "Trial 294 parameters: {'booster': 'dart', 'tree_method': 'auto', 'grow_policy': 'lossguide', 'eta': 0.5025119224146957, 'gamma': 0.18376316741417942, 'max_depth': 10, 'min_child_weight': 3.3942118652158304, 'max_delta_step': 1.8790722137525573, 'subsample': 0.9753030209791119, 'reg_lambda': 0.8896788111772009, 'alpha': 0.0015291172813119776, 'scale_pos_weight': 0.7093518718155072, 'max_leaves': 10, 'max_bin': 225, 'random_state': 42, 'eval_metric': 'mae', 'device': 'cuda'}\n"
     ]
    },
    {
     "name": "stderr",
     "output_type": "stream",
     "text": [
      "[I 2025-04-13 18:20:18,504] Trial 294 finished with value: 0.5532417642962538 and parameters: {'booster_idx': 3, 'tree_method_idx': 1, 'grow_policy_idx': 2, 'eta': 0.5025119224146957, 'gamma': 0.18376316741417942, 'max_depth': 10, 'min_child_weight': 3.3942118652158304, 'max_delta_step': 1.8790722137525573, 'subsample': 0.9753030209791119, 'lambda': 0.8896788111772009, 'alpha': 0.0015291172813119776, 'scale_pos_weight': 0.7093518718155072, 'max_leaves': 10, 'max_bin': 225}. Best is trial 241 with value: 0.5493317376051099.\n"
     ]
    },
    {
     "name": "stdout",
     "output_type": "stream",
     "text": [
      "Trial 294 - MAE: 0.5532417642962538\n",
      "\n",
      "Trial 295 parameters: {'booster': 'dart', 'tree_method': 'auto', 'grow_policy': 'lossguide', 'eta': 0.011683965278299149, 'gamma': 1.021850994301641, 'max_depth': 10, 'min_child_weight': 3.004538133358254, 'max_delta_step': 2.643686225241641, 'subsample': 0.5679881843324712, 'reg_lambda': 0.7321281911082185, 'alpha': 9.532665050875165, 'scale_pos_weight': 0.8327952620142989, 'max_leaves': 10, 'max_bin': 200, 'random_state': 42, 'eval_metric': 'mae', 'device': 'cuda'}\n"
     ]
    },
    {
     "name": "stderr",
     "output_type": "stream",
     "text": [
      "[I 2025-04-13 18:20:28,222] Trial 295 finished with value: 0.8620460249938071 and parameters: {'booster_idx': 3, 'tree_method_idx': 1, 'grow_policy_idx': 2, 'eta': 0.011683965278299149, 'gamma': 1.021850994301641, 'max_depth': 10, 'min_child_weight': 3.004538133358254, 'max_delta_step': 2.643686225241641, 'subsample': 0.5679881843324712, 'lambda': 0.7321281911082185, 'alpha': 9.532665050875165, 'scale_pos_weight': 0.8327952620142989, 'max_leaves': 10, 'max_bin': 200}. Best is trial 241 with value: 0.5493317376051099.\n"
     ]
    },
    {
     "name": "stdout",
     "output_type": "stream",
     "text": [
      "Trial 295 - MAE: 0.8620460249938071\n",
      "\n",
      "Trial 296 parameters: {'booster': 'dart', 'tree_method': 'auto', 'grow_policy': 'lossguide', 'eta': 0.35029757857896127, 'gamma': 0.6388514475746139, 'max_depth': 9, 'min_child_weight': 4.133138655722248, 'max_delta_step': 2.483487759518328, 'subsample': 0.9397618197420038, 'reg_lambda': 1.6992602184208825, 'alpha': 0.0020560662620453295, 'scale_pos_weight': 0.9816563019058026, 'max_leaves': 10, 'max_bin': 200, 'random_state': 42, 'eval_metric': 'mae', 'device': 'cuda'}\n"
     ]
    },
    {
     "name": "stderr",
     "output_type": "stream",
     "text": [
      "[I 2025-04-13 18:20:38,368] Trial 296 finished with value: 0.5513878141636203 and parameters: {'booster_idx': 3, 'tree_method_idx': 1, 'grow_policy_idx': 2, 'eta': 0.35029757857896127, 'gamma': 0.6388514475746139, 'max_depth': 9, 'min_child_weight': 4.133138655722248, 'max_delta_step': 2.483487759518328, 'subsample': 0.9397618197420038, 'lambda': 1.6992602184208825, 'alpha': 0.0020560662620453295, 'scale_pos_weight': 0.9816563019058026, 'max_leaves': 10, 'max_bin': 200}. Best is trial 241 with value: 0.5493317376051099.\n"
     ]
    },
    {
     "name": "stdout",
     "output_type": "stream",
     "text": [
      "Trial 296 - MAE: 0.5513878141636203\n",
      "\n",
      "Trial 297 parameters: {'booster': 'dart', 'tree_method': 'auto', 'grow_policy': 'lossguide', 'eta': 0.32054330640216266, 'gamma': 0.6561260255431713, 'max_depth': 9, 'min_child_weight': 4.139601191573512, 'max_delta_step': 2.463885453348964, 'subsample': 0.9216011481908526, 'reg_lambda': 2.5522328858178907, 'alpha': 0.0018853748208155973, 'scale_pos_weight': 1.0166624038971215, 'max_leaves': 10, 'max_bin': 225, 'random_state': 42, 'eval_metric': 'mae', 'device': 'cuda'}\n"
     ]
    },
    {
     "name": "stderr",
     "output_type": "stream",
     "text": [
      "[I 2025-04-13 18:20:48,284] Trial 297 finished with value: 0.5527437299451478 and parameters: {'booster_idx': 3, 'tree_method_idx': 1, 'grow_policy_idx': 2, 'eta': 0.32054330640216266, 'gamma': 0.6561260255431713, 'max_depth': 9, 'min_child_weight': 4.139601191573512, 'max_delta_step': 2.463885453348964, 'subsample': 0.9216011481908526, 'lambda': 2.5522328858178907, 'alpha': 0.0018853748208155973, 'scale_pos_weight': 1.0166624038971215, 'max_leaves': 10, 'max_bin': 225}. Best is trial 241 with value: 0.5493317376051099.\n"
     ]
    },
    {
     "name": "stdout",
     "output_type": "stream",
     "text": [
      "Trial 297 - MAE: 0.5527437299451478\n",
      "\n",
      "Trial 298 parameters: {'booster': 'dart', 'tree_method': 'auto', 'grow_policy': 'lossguide', 'eta': 0.3483382638190175, 'gamma': 0.9349348230884673, 'max_depth': 11, 'min_child_weight': 4.275673927062047, 'max_delta_step': 2.4081937004542717, 'subsample': 0.9563822592863069, 'reg_lambda': 1.7984355319486536, 'alpha': 0.0021932413511097865, 'scale_pos_weight': 1.1513458288121357, 'max_leaves': 9, 'max_bin': 200, 'random_state': 42, 'eval_metric': 'mae', 'device': 'cuda'}\n"
     ]
    },
    {
     "name": "stderr",
     "output_type": "stream",
     "text": [
      "[I 2025-04-13 18:20:58,305] Trial 298 finished with value: 0.5574652955882718 and parameters: {'booster_idx': 3, 'tree_method_idx': 1, 'grow_policy_idx': 2, 'eta': 0.3483382638190175, 'gamma': 0.9349348230884673, 'max_depth': 11, 'min_child_weight': 4.275673927062047, 'max_delta_step': 2.4081937004542717, 'subsample': 0.9563822592863069, 'lambda': 1.7984355319486536, 'alpha': 0.0021932413511097865, 'scale_pos_weight': 1.1513458288121357, 'max_leaves': 9, 'max_bin': 200}. Best is trial 241 with value: 0.5493317376051099.\n"
     ]
    },
    {
     "name": "stdout",
     "output_type": "stream",
     "text": [
      "Trial 298 - MAE: 0.5574652955882718\n",
      "\n",
      "Trial 299 parameters: {'booster': 'dart', 'tree_method': 'auto', 'grow_policy': 'lossguide', 'eta': 0.2829533098622479, 'gamma': 0.5515337532312763, 'max_depth': 9, 'min_child_weight': 3.9084997061092333, 'max_delta_step': 2.594610758258704, 'subsample': 0.9412937925602247, 'reg_lambda': 1.423674326429567, 'alpha': 0.0015922995958770484, 'scale_pos_weight': 0.9411996852515077, 'max_leaves': 10, 'max_bin': 175, 'random_state': 42, 'eval_metric': 'mae', 'device': 'cuda'}\n"
     ]
    },
    {
     "name": "stderr",
     "output_type": "stream",
     "text": [
      "[I 2025-04-13 18:21:08,255] Trial 299 finished with value: 0.5540859663928879 and parameters: {'booster_idx': 3, 'tree_method_idx': 1, 'grow_policy_idx': 2, 'eta': 0.2829533098622479, 'gamma': 0.5515337532312763, 'max_depth': 9, 'min_child_weight': 3.9084997061092333, 'max_delta_step': 2.594610758258704, 'subsample': 0.9412937925602247, 'lambda': 1.423674326429567, 'alpha': 0.0015922995958770484, 'scale_pos_weight': 0.9411996852515077, 'max_leaves': 10, 'max_bin': 175}. Best is trial 241 with value: 0.5493317376051099.\n"
     ]
    },
    {
     "name": "stdout",
     "output_type": "stream",
     "text": [
      "Trial 299 - MAE: 0.5540859663928879\n",
      "\n",
      "Trial 300 parameters: {'booster': 'dart', 'tree_method': 'auto', 'grow_policy': 'lossguide', 'eta': 0.09015228931994809, 'gamma': 2.762780221891156, 'max_depth': 8, 'min_child_weight': 3.7316541055140497, 'max_delta_step': 2.2522651663848867, 'subsample': 0.9629264540069181, 'reg_lambda': 2.2202313422622217, 'alpha': 0.0012571202238541093, 'scale_pos_weight': 0.5932661203161721, 'max_leaves': 10, 'max_bin': 125, 'random_state': 42, 'eval_metric': 'mae', 'device': 'cuda'}\n"
     ]
    },
    {
     "name": "stderr",
     "output_type": "stream",
     "text": [
      "[I 2025-04-13 18:21:17,733] Trial 300 finished with value: 0.5881728067209016 and parameters: {'booster_idx': 3, 'tree_method_idx': 1, 'grow_policy_idx': 2, 'eta': 0.09015228931994809, 'gamma': 2.762780221891156, 'max_depth': 8, 'min_child_weight': 3.7316541055140497, 'max_delta_step': 2.2522651663848867, 'subsample': 0.9629264540069181, 'lambda': 2.2202313422622217, 'alpha': 0.0012571202238541093, 'scale_pos_weight': 0.5932661203161721, 'max_leaves': 10, 'max_bin': 125}. Best is trial 241 with value: 0.5493317376051099.\n"
     ]
    },
    {
     "name": "stdout",
     "output_type": "stream",
     "text": [
      "Trial 300 - MAE: 0.5881728067209016\n",
      "\n",
      "Trial 301 parameters: {'booster': 'dart', 'tree_method': 'auto', 'grow_policy': 'lossguide', 'eta': 0.3605050488004114, 'gamma': 0.032174177714402064, 'max_depth': 10, 'min_child_weight': 4.096071661470351, 'max_delta_step': 2.533363765218605, 'subsample': 0.9414448097592291, 'reg_lambda': 1.6492920833896296, 'alpha': 0.0027017358024295085, 'scale_pos_weight': 1.024375040749418, 'max_leaves': 10, 'max_bin': 175, 'random_state': 42, 'eval_metric': 'mae', 'device': 'cuda'}\n"
     ]
    },
    {
     "name": "stderr",
     "output_type": "stream",
     "text": [
      "[I 2025-04-13 18:21:27,720] Trial 301 finished with value: 0.552840997653414 and parameters: {'booster_idx': 3, 'tree_method_idx': 1, 'grow_policy_idx': 2, 'eta': 0.3605050488004114, 'gamma': 0.032174177714402064, 'max_depth': 10, 'min_child_weight': 4.096071661470351, 'max_delta_step': 2.533363765218605, 'subsample': 0.9414448097592291, 'lambda': 1.6492920833896296, 'alpha': 0.0027017358024295085, 'scale_pos_weight': 1.024375040749418, 'max_leaves': 10, 'max_bin': 175}. Best is trial 241 with value: 0.5493317376051099.\n"
     ]
    },
    {
     "name": "stdout",
     "output_type": "stream",
     "text": [
      "Trial 301 - MAE: 0.552840997653414\n",
      "\n",
      "Trial 302 parameters: {'booster': 'dart', 'tree_method': 'auto', 'grow_policy': 'lossguide', 'eta': 0.415169587097441, 'gamma': 0.3457530772631484, 'max_depth': 10, 'min_child_weight': 3.3500044082404066, 'max_delta_step': 2.677806069833423, 'subsample': 0.8904488310688177, 'reg_lambda': 1.2328599329040852, 'alpha': 0.0019085697805791939, 'scale_pos_weight': 0.7656232376076798, 'max_leaves': 10, 'max_bin': 200, 'random_state': 42, 'eval_metric': 'mae', 'device': 'cuda'}\n"
     ]
    },
    {
     "name": "stderr",
     "output_type": "stream",
     "text": [
      "[I 2025-04-13 18:21:37,751] Trial 302 finished with value: 0.5521674668585461 and parameters: {'booster_idx': 3, 'tree_method_idx': 1, 'grow_policy_idx': 2, 'eta': 0.415169587097441, 'gamma': 0.3457530772631484, 'max_depth': 10, 'min_child_weight': 3.3500044082404066, 'max_delta_step': 2.677806069833423, 'subsample': 0.8904488310688177, 'lambda': 1.2328599329040852, 'alpha': 0.0019085697805791939, 'scale_pos_weight': 0.7656232376076798, 'max_leaves': 10, 'max_bin': 200}. Best is trial 241 with value: 0.5493317376051099.\n"
     ]
    },
    {
     "name": "stdout",
     "output_type": "stream",
     "text": [
      "Trial 302 - MAE: 0.5521674668585461\n",
      "\n",
      "Trial 303 parameters: {'booster': 'dart', 'tree_method': 'auto', 'grow_policy': 'lossguide', 'eta': 0.3785644103200653, 'gamma': 3.0038223908850608, 'max_depth': 9, 'min_child_weight': 3.106505709220485, 'max_delta_step': 2.358462438871258, 'subsample': 0.8580218411180177, 'reg_lambda': 1.057322169576392, 'alpha': 0.0013670160815387141, 'scale_pos_weight': 2.1632466388641944, 'max_leaves': 10, 'max_bin': 200, 'random_state': 42, 'eval_metric': 'mae', 'device': 'cuda'}\n"
     ]
    },
    {
     "name": "stderr",
     "output_type": "stream",
     "text": [
      "Exception ignored on calling ctypes callback function: <bound method DataIter._next_wrapper of <xgboost.data.SingleBatchInternalIter object at 0x00000248FC8DD490>>\n",
      "Traceback (most recent call last):\n",
      "  File \"d:\\github\\RECSYS\\.venv\\Lib\\site-packages\\xgboost\\core.py\", line 585, in _next_wrapper\n",
      "    def _next_wrapper(self, this: None) -> int:  # pylint: disable=unused-argument\n",
      "\n",
      "KeyboardInterrupt: \n",
      "[W 2025-04-13 18:21:51,050] Trial 303 failed with parameters: {'booster_idx': 3, 'tree_method_idx': 1, 'grow_policy_idx': 2, 'eta': 0.3785644103200653, 'gamma': 3.0038223908850608, 'max_depth': 9, 'min_child_weight': 3.106505709220485, 'max_delta_step': 2.358462438871258, 'subsample': 0.8580218411180177, 'lambda': 1.057322169576392, 'alpha': 0.0013670160815387141, 'scale_pos_weight': 2.1632466388641944, 'max_leaves': 10, 'max_bin': 200} because of the following error: XGBoostError('[18:21:51] C:\\\\actions-runner\\\\_work\\\\xgboost\\\\xgboost\\\\src\\\\data\\\\quantile_dmatrix.cc:174: Check failed: accumulated_rows == info.num_row_ (1548454 vs. 774227) : ').\n",
      "Traceback (most recent call last):\n",
      "  File \"d:\\github\\RECSYS\\.venv\\Lib\\site-packages\\optuna\\study\\_optimize.py\", line 197, in _run_trial\n",
      "    value_or_values = func(trial)\n",
      "                      ^^^^^^^^^^^\n",
      "  File \"C:\\Users\\aleja\\AppData\\Local\\Temp\\ipykernel_20212\\2678367446.py\", line 68, in objective\n",
      "    reg.fit(X_train, y_train, verbose=False)\n",
      "  File \"d:\\github\\RECSYS\\.venv\\Lib\\site-packages\\xgboost\\core.py\", line 729, in inner_f\n",
      "    return func(**kwargs)\n",
      "           ^^^^^^^^^^^^^^\n",
      "  File \"d:\\github\\RECSYS\\.venv\\Lib\\site-packages\\xgboost\\sklearn.py\", line 1222, in fit\n",
      "    train_dmatrix, evals = _wrap_evaluation_matrices(\n",
      "                           ^^^^^^^^^^^^^^^^^^^^^^^^^^\n",
      "  File \"d:\\github\\RECSYS\\.venv\\Lib\\site-packages\\xgboost\\sklearn.py\", line 628, in _wrap_evaluation_matrices\n",
      "    train_dmatrix = create_dmatrix(\n",
      "                    ^^^^^^^^^^^^^^^\n",
      "  File \"d:\\github\\RECSYS\\.venv\\Lib\\site-packages\\xgboost\\sklearn.py\", line 1137, in _create_dmatrix\n",
      "    return QuantileDMatrix(\n",
      "           ^^^^^^^^^^^^^^^^\n",
      "  File \"d:\\github\\RECSYS\\.venv\\Lib\\site-packages\\xgboost\\core.py\", line 729, in inner_f\n",
      "    return func(**kwargs)\n",
      "           ^^^^^^^^^^^^^^\n",
      "  File \"d:\\github\\RECSYS\\.venv\\Lib\\site-packages\\xgboost\\core.py\", line 1614, in __init__\n",
      "    self._init(\n",
      "  File \"d:\\github\\RECSYS\\.venv\\Lib\\site-packages\\xgboost\\core.py\", line 1680, in _init\n",
      "    _check_call(ret)\n",
      "  File \"d:\\github\\RECSYS\\.venv\\Lib\\site-packages\\xgboost\\core.py\", line 310, in _check_call\n",
      "    raise XGBoostError(py_str(_LIB.XGBGetLastError()))\n",
      "xgboost.core.XGBoostError: [18:21:51] C:\\actions-runner\\_work\\xgboost\\xgboost\\src\\data\\quantile_dmatrix.cc:174: Check failed: accumulated_rows == info.num_row_ (1548454 vs. 774227) : \n",
      "[W 2025-04-13 18:21:51,053] Trial 303 failed with value None.\n"
     ]
    },
    {
     "ename": "XGBoostError",
     "evalue": "[18:21:51] C:\\actions-runner\\_work\\xgboost\\xgboost\\src\\data\\quantile_dmatrix.cc:174: Check failed: accumulated_rows == info.num_row_ (1548454 vs. 774227) : ",
     "output_type": "error",
     "traceback": [
      "\u001b[31m---------------------------------------------------------------------------\u001b[39m",
      "\u001b[31mXGBoostError\u001b[39m                              Traceback (most recent call last)",
      "\u001b[36mCell\u001b[39m\u001b[36m \u001b[39m\u001b[32mIn[35]\u001b[39m\u001b[32m, line 77\u001b[39m\n\u001b[32m     75\u001b[39m \u001b[38;5;66;03m# Para iniciar el estudio:\u001b[39;00m\n\u001b[32m     76\u001b[39m study = optuna.create_study(direction=\u001b[33m\"\u001b[39m\u001b[33mminimize\u001b[39m\u001b[33m\"\u001b[39m)\n\u001b[32m---> \u001b[39m\u001b[32m77\u001b[39m \u001b[43mstudy\u001b[49m\u001b[43m.\u001b[49m\u001b[43moptimize\u001b[49m\u001b[43m(\u001b[49m\u001b[43mobjective\u001b[49m\u001b[43m,\u001b[49m\u001b[43m \u001b[49m\u001b[43mn_trials\u001b[49m\u001b[43m=\u001b[49m\u001b[32;43m500\u001b[39;49m\u001b[43m)\u001b[49m\n",
      "\u001b[36mFile \u001b[39m\u001b[32md:\\github\\RECSYS\\.venv\\Lib\\site-packages\\optuna\\study\\study.py:475\u001b[39m, in \u001b[36mStudy.optimize\u001b[39m\u001b[34m(self, func, n_trials, timeout, n_jobs, catch, callbacks, gc_after_trial, show_progress_bar)\u001b[39m\n\u001b[32m    373\u001b[39m \u001b[38;5;28;01mdef\u001b[39;00m\u001b[38;5;250m \u001b[39m\u001b[34moptimize\u001b[39m(\n\u001b[32m    374\u001b[39m     \u001b[38;5;28mself\u001b[39m,\n\u001b[32m    375\u001b[39m     func: ObjectiveFuncType,\n\u001b[32m   (...)\u001b[39m\u001b[32m    382\u001b[39m     show_progress_bar: \u001b[38;5;28mbool\u001b[39m = \u001b[38;5;28;01mFalse\u001b[39;00m,\n\u001b[32m    383\u001b[39m ) -> \u001b[38;5;28;01mNone\u001b[39;00m:\n\u001b[32m    384\u001b[39m \u001b[38;5;250m    \u001b[39m\u001b[33;03m\"\"\"Optimize an objective function.\u001b[39;00m\n\u001b[32m    385\u001b[39m \n\u001b[32m    386\u001b[39m \u001b[33;03m    Optimization is done by choosing a suitable set of hyperparameter values from a given\u001b[39;00m\n\u001b[32m   (...)\u001b[39m\u001b[32m    473\u001b[39m \u001b[33;03m            If nested invocation of this method occurs.\u001b[39;00m\n\u001b[32m    474\u001b[39m \u001b[33;03m    \"\"\"\u001b[39;00m\n\u001b[32m--> \u001b[39m\u001b[32m475\u001b[39m     \u001b[43m_optimize\u001b[49m\u001b[43m(\u001b[49m\n\u001b[32m    476\u001b[39m \u001b[43m        \u001b[49m\u001b[43mstudy\u001b[49m\u001b[43m=\u001b[49m\u001b[38;5;28;43mself\u001b[39;49m\u001b[43m,\u001b[49m\n\u001b[32m    477\u001b[39m \u001b[43m        \u001b[49m\u001b[43mfunc\u001b[49m\u001b[43m=\u001b[49m\u001b[43mfunc\u001b[49m\u001b[43m,\u001b[49m\n\u001b[32m    478\u001b[39m \u001b[43m        \u001b[49m\u001b[43mn_trials\u001b[49m\u001b[43m=\u001b[49m\u001b[43mn_trials\u001b[49m\u001b[43m,\u001b[49m\n\u001b[32m    479\u001b[39m \u001b[43m        \u001b[49m\u001b[43mtimeout\u001b[49m\u001b[43m=\u001b[49m\u001b[43mtimeout\u001b[49m\u001b[43m,\u001b[49m\n\u001b[32m    480\u001b[39m \u001b[43m        \u001b[49m\u001b[43mn_jobs\u001b[49m\u001b[43m=\u001b[49m\u001b[43mn_jobs\u001b[49m\u001b[43m,\u001b[49m\n\u001b[32m    481\u001b[39m \u001b[43m        \u001b[49m\u001b[43mcatch\u001b[49m\u001b[43m=\u001b[49m\u001b[38;5;28;43mtuple\u001b[39;49m\u001b[43m(\u001b[49m\u001b[43mcatch\u001b[49m\u001b[43m)\u001b[49m\u001b[43m \u001b[49m\u001b[38;5;28;43;01mif\u001b[39;49;00m\u001b[43m \u001b[49m\u001b[38;5;28;43misinstance\u001b[39;49m\u001b[43m(\u001b[49m\u001b[43mcatch\u001b[49m\u001b[43m,\u001b[49m\u001b[43m \u001b[49m\u001b[43mIterable\u001b[49m\u001b[43m)\u001b[49m\u001b[43m \u001b[49m\u001b[38;5;28;43;01melse\u001b[39;49;00m\u001b[43m \u001b[49m\u001b[43m(\u001b[49m\u001b[43mcatch\u001b[49m\u001b[43m,\u001b[49m\u001b[43m)\u001b[49m\u001b[43m,\u001b[49m\n\u001b[32m    482\u001b[39m \u001b[43m        \u001b[49m\u001b[43mcallbacks\u001b[49m\u001b[43m=\u001b[49m\u001b[43mcallbacks\u001b[49m\u001b[43m,\u001b[49m\n\u001b[32m    483\u001b[39m \u001b[43m        \u001b[49m\u001b[43mgc_after_trial\u001b[49m\u001b[43m=\u001b[49m\u001b[43mgc_after_trial\u001b[49m\u001b[43m,\u001b[49m\n\u001b[32m    484\u001b[39m \u001b[43m        \u001b[49m\u001b[43mshow_progress_bar\u001b[49m\u001b[43m=\u001b[49m\u001b[43mshow_progress_bar\u001b[49m\u001b[43m,\u001b[49m\n\u001b[32m    485\u001b[39m \u001b[43m    \u001b[49m\u001b[43m)\u001b[49m\n",
      "\u001b[36mFile \u001b[39m\u001b[32md:\\github\\RECSYS\\.venv\\Lib\\site-packages\\optuna\\study\\_optimize.py:63\u001b[39m, in \u001b[36m_optimize\u001b[39m\u001b[34m(study, func, n_trials, timeout, n_jobs, catch, callbacks, gc_after_trial, show_progress_bar)\u001b[39m\n\u001b[32m     61\u001b[39m \u001b[38;5;28;01mtry\u001b[39;00m:\n\u001b[32m     62\u001b[39m     \u001b[38;5;28;01mif\u001b[39;00m n_jobs == \u001b[32m1\u001b[39m:\n\u001b[32m---> \u001b[39m\u001b[32m63\u001b[39m         \u001b[43m_optimize_sequential\u001b[49m\u001b[43m(\u001b[49m\n\u001b[32m     64\u001b[39m \u001b[43m            \u001b[49m\u001b[43mstudy\u001b[49m\u001b[43m,\u001b[49m\n\u001b[32m     65\u001b[39m \u001b[43m            \u001b[49m\u001b[43mfunc\u001b[49m\u001b[43m,\u001b[49m\n\u001b[32m     66\u001b[39m \u001b[43m            \u001b[49m\u001b[43mn_trials\u001b[49m\u001b[43m,\u001b[49m\n\u001b[32m     67\u001b[39m \u001b[43m            \u001b[49m\u001b[43mtimeout\u001b[49m\u001b[43m,\u001b[49m\n\u001b[32m     68\u001b[39m \u001b[43m            \u001b[49m\u001b[43mcatch\u001b[49m\u001b[43m,\u001b[49m\n\u001b[32m     69\u001b[39m \u001b[43m            \u001b[49m\u001b[43mcallbacks\u001b[49m\u001b[43m,\u001b[49m\n\u001b[32m     70\u001b[39m \u001b[43m            \u001b[49m\u001b[43mgc_after_trial\u001b[49m\u001b[43m,\u001b[49m\n\u001b[32m     71\u001b[39m \u001b[43m            \u001b[49m\u001b[43mreseed_sampler_rng\u001b[49m\u001b[43m=\u001b[49m\u001b[38;5;28;43;01mFalse\u001b[39;49;00m\u001b[43m,\u001b[49m\n\u001b[32m     72\u001b[39m \u001b[43m            \u001b[49m\u001b[43mtime_start\u001b[49m\u001b[43m=\u001b[49m\u001b[38;5;28;43;01mNone\u001b[39;49;00m\u001b[43m,\u001b[49m\n\u001b[32m     73\u001b[39m \u001b[43m            \u001b[49m\u001b[43mprogress_bar\u001b[49m\u001b[43m=\u001b[49m\u001b[43mprogress_bar\u001b[49m\u001b[43m,\u001b[49m\n\u001b[32m     74\u001b[39m \u001b[43m        \u001b[49m\u001b[43m)\u001b[49m\n\u001b[32m     75\u001b[39m     \u001b[38;5;28;01melse\u001b[39;00m:\n\u001b[32m     76\u001b[39m         \u001b[38;5;28;01mif\u001b[39;00m n_jobs == -\u001b[32m1\u001b[39m:\n",
      "\u001b[36mFile \u001b[39m\u001b[32md:\\github\\RECSYS\\.venv\\Lib\\site-packages\\optuna\\study\\_optimize.py:160\u001b[39m, in \u001b[36m_optimize_sequential\u001b[39m\u001b[34m(study, func, n_trials, timeout, catch, callbacks, gc_after_trial, reseed_sampler_rng, time_start, progress_bar)\u001b[39m\n\u001b[32m    157\u001b[39m         \u001b[38;5;28;01mbreak\u001b[39;00m\n\u001b[32m    159\u001b[39m \u001b[38;5;28;01mtry\u001b[39;00m:\n\u001b[32m--> \u001b[39m\u001b[32m160\u001b[39m     frozen_trial = \u001b[43m_run_trial\u001b[49m\u001b[43m(\u001b[49m\u001b[43mstudy\u001b[49m\u001b[43m,\u001b[49m\u001b[43m \u001b[49m\u001b[43mfunc\u001b[49m\u001b[43m,\u001b[49m\u001b[43m \u001b[49m\u001b[43mcatch\u001b[49m\u001b[43m)\u001b[49m\n\u001b[32m    161\u001b[39m \u001b[38;5;28;01mfinally\u001b[39;00m:\n\u001b[32m    162\u001b[39m     \u001b[38;5;66;03m# The following line mitigates memory problems that can be occurred in some\u001b[39;00m\n\u001b[32m    163\u001b[39m     \u001b[38;5;66;03m# environments (e.g., services that use computing containers such as GitHub Actions).\u001b[39;00m\n\u001b[32m    164\u001b[39m     \u001b[38;5;66;03m# Please refer to the following PR for further details:\u001b[39;00m\n\u001b[32m    165\u001b[39m     \u001b[38;5;66;03m# https://github.com/optuna/optuna/pull/325.\u001b[39;00m\n\u001b[32m    166\u001b[39m     \u001b[38;5;28;01mif\u001b[39;00m gc_after_trial:\n",
      "\u001b[36mFile \u001b[39m\u001b[32md:\\github\\RECSYS\\.venv\\Lib\\site-packages\\optuna\\study\\_optimize.py:248\u001b[39m, in \u001b[36m_run_trial\u001b[39m\u001b[34m(study, func, catch)\u001b[39m\n\u001b[32m    241\u001b[39m         \u001b[38;5;28;01massert\u001b[39;00m \u001b[38;5;28;01mFalse\u001b[39;00m, \u001b[33m\"\u001b[39m\u001b[33mShould not reach.\u001b[39m\u001b[33m\"\u001b[39m\n\u001b[32m    243\u001b[39m \u001b[38;5;28;01mif\u001b[39;00m (\n\u001b[32m    244\u001b[39m     frozen_trial.state == TrialState.FAIL\n\u001b[32m    245\u001b[39m     \u001b[38;5;129;01mand\u001b[39;00m func_err \u001b[38;5;129;01mis\u001b[39;00m \u001b[38;5;129;01mnot\u001b[39;00m \u001b[38;5;28;01mNone\u001b[39;00m\n\u001b[32m    246\u001b[39m     \u001b[38;5;129;01mand\u001b[39;00m \u001b[38;5;129;01mnot\u001b[39;00m \u001b[38;5;28misinstance\u001b[39m(func_err, catch)\n\u001b[32m    247\u001b[39m ):\n\u001b[32m--> \u001b[39m\u001b[32m248\u001b[39m     \u001b[38;5;28;01mraise\u001b[39;00m func_err\n\u001b[32m    249\u001b[39m \u001b[38;5;28;01mreturn\u001b[39;00m frozen_trial\n",
      "\u001b[36mFile \u001b[39m\u001b[32md:\\github\\RECSYS\\.venv\\Lib\\site-packages\\optuna\\study\\_optimize.py:197\u001b[39m, in \u001b[36m_run_trial\u001b[39m\u001b[34m(study, func, catch)\u001b[39m\n\u001b[32m    195\u001b[39m \u001b[38;5;28;01mwith\u001b[39;00m get_heartbeat_thread(trial._trial_id, study._storage):\n\u001b[32m    196\u001b[39m     \u001b[38;5;28;01mtry\u001b[39;00m:\n\u001b[32m--> \u001b[39m\u001b[32m197\u001b[39m         value_or_values = \u001b[43mfunc\u001b[49m\u001b[43m(\u001b[49m\u001b[43mtrial\u001b[49m\u001b[43m)\u001b[49m\n\u001b[32m    198\u001b[39m     \u001b[38;5;28;01mexcept\u001b[39;00m exceptions.TrialPruned \u001b[38;5;28;01mas\u001b[39;00m e:\n\u001b[32m    199\u001b[39m         \u001b[38;5;66;03m# TODO(mamu): Handle multi-objective cases.\u001b[39;00m\n\u001b[32m    200\u001b[39m         state = TrialState.PRUNED\n",
      "\u001b[36mCell\u001b[39m\u001b[36m \u001b[39m\u001b[32mIn[35]\u001b[39m\u001b[32m, line 68\u001b[39m, in \u001b[36mobjective\u001b[39m\u001b[34m(trial)\u001b[39m\n\u001b[32m     66\u001b[39m \u001b[38;5;66;03m# Entrenamos el modelo\u001b[39;00m\n\u001b[32m     67\u001b[39m reg = XGBRegressor(**params)\n\u001b[32m---> \u001b[39m\u001b[32m68\u001b[39m \u001b[43mreg\u001b[49m\u001b[43m.\u001b[49m\u001b[43mfit\u001b[49m\u001b[43m(\u001b[49m\u001b[43mX_train\u001b[49m\u001b[43m,\u001b[49m\u001b[43m \u001b[49m\u001b[43my_train\u001b[49m\u001b[43m,\u001b[49m\u001b[43m \u001b[49m\u001b[43mverbose\u001b[49m\u001b[43m=\u001b[49m\u001b[38;5;28;43;01mFalse\u001b[39;49;00m\u001b[43m)\u001b[49m\n\u001b[32m     69\u001b[39m y_pred = reg.predict(X_test)\n\u001b[32m     70\u001b[39m mae = mean_absolute_error(y_test, y_pred)\n",
      "\u001b[36mFile \u001b[39m\u001b[32md:\\github\\RECSYS\\.venv\\Lib\\site-packages\\xgboost\\core.py:729\u001b[39m, in \u001b[36mrequire_keyword_args.<locals>.throw_if.<locals>.inner_f\u001b[39m\u001b[34m(*args, **kwargs)\u001b[39m\n\u001b[32m    727\u001b[39m \u001b[38;5;28;01mfor\u001b[39;00m k, arg \u001b[38;5;129;01min\u001b[39;00m \u001b[38;5;28mzip\u001b[39m(sig.parameters, args):\n\u001b[32m    728\u001b[39m     kwargs[k] = arg\n\u001b[32m--> \u001b[39m\u001b[32m729\u001b[39m \u001b[38;5;28;01mreturn\u001b[39;00m \u001b[43mfunc\u001b[49m\u001b[43m(\u001b[49m\u001b[43m*\u001b[49m\u001b[43m*\u001b[49m\u001b[43mkwargs\u001b[49m\u001b[43m)\u001b[49m\n",
      "\u001b[36mFile \u001b[39m\u001b[32md:\\github\\RECSYS\\.venv\\Lib\\site-packages\\xgboost\\sklearn.py:1222\u001b[39m, in \u001b[36mXGBModel.fit\u001b[39m\u001b[34m(self, X, y, sample_weight, base_margin, eval_set, verbose, xgb_model, sample_weight_eval_set, base_margin_eval_set, feature_weights)\u001b[39m\n\u001b[32m   1217\u001b[39m model, metric, params, feature_weights = \u001b[38;5;28mself\u001b[39m._configure_fit(\n\u001b[32m   1218\u001b[39m     xgb_model, params, feature_weights\n\u001b[32m   1219\u001b[39m )\n\u001b[32m   1221\u001b[39m evals_result: TrainingCallback.EvalsLog = {}\n\u001b[32m-> \u001b[39m\u001b[32m1222\u001b[39m train_dmatrix, evals = \u001b[43m_wrap_evaluation_matrices\u001b[49m\u001b[43m(\u001b[49m\n\u001b[32m   1223\u001b[39m \u001b[43m    \u001b[49m\u001b[43mmissing\u001b[49m\u001b[43m=\u001b[49m\u001b[38;5;28;43mself\u001b[39;49m\u001b[43m.\u001b[49m\u001b[43mmissing\u001b[49m\u001b[43m,\u001b[49m\n\u001b[32m   1224\u001b[39m \u001b[43m    \u001b[49m\u001b[43mX\u001b[49m\u001b[43m=\u001b[49m\u001b[43mX\u001b[49m\u001b[43m,\u001b[49m\n\u001b[32m   1225\u001b[39m \u001b[43m    \u001b[49m\u001b[43my\u001b[49m\u001b[43m=\u001b[49m\u001b[43my\u001b[49m\u001b[43m,\u001b[49m\n\u001b[32m   1226\u001b[39m \u001b[43m    \u001b[49m\u001b[43mgroup\u001b[49m\u001b[43m=\u001b[49m\u001b[38;5;28;43;01mNone\u001b[39;49;00m\u001b[43m,\u001b[49m\n\u001b[32m   1227\u001b[39m \u001b[43m    \u001b[49m\u001b[43mqid\u001b[49m\u001b[43m=\u001b[49m\u001b[38;5;28;43;01mNone\u001b[39;49;00m\u001b[43m,\u001b[49m\n\u001b[32m   1228\u001b[39m \u001b[43m    \u001b[49m\u001b[43msample_weight\u001b[49m\u001b[43m=\u001b[49m\u001b[43msample_weight\u001b[49m\u001b[43m,\u001b[49m\n\u001b[32m   1229\u001b[39m \u001b[43m    \u001b[49m\u001b[43mbase_margin\u001b[49m\u001b[43m=\u001b[49m\u001b[43mbase_margin\u001b[49m\u001b[43m,\u001b[49m\n\u001b[32m   1230\u001b[39m \u001b[43m    \u001b[49m\u001b[43mfeature_weights\u001b[49m\u001b[43m=\u001b[49m\u001b[43mfeature_weights\u001b[49m\u001b[43m,\u001b[49m\n\u001b[32m   1231\u001b[39m \u001b[43m    \u001b[49m\u001b[43meval_set\u001b[49m\u001b[43m=\u001b[49m\u001b[43meval_set\u001b[49m\u001b[43m,\u001b[49m\n\u001b[32m   1232\u001b[39m \u001b[43m    \u001b[49m\u001b[43msample_weight_eval_set\u001b[49m\u001b[43m=\u001b[49m\u001b[43msample_weight_eval_set\u001b[49m\u001b[43m,\u001b[49m\n\u001b[32m   1233\u001b[39m \u001b[43m    \u001b[49m\u001b[43mbase_margin_eval_set\u001b[49m\u001b[43m=\u001b[49m\u001b[43mbase_margin_eval_set\u001b[49m\u001b[43m,\u001b[49m\n\u001b[32m   1234\u001b[39m \u001b[43m    \u001b[49m\u001b[43meval_group\u001b[49m\u001b[43m=\u001b[49m\u001b[38;5;28;43;01mNone\u001b[39;49;00m\u001b[43m,\u001b[49m\n\u001b[32m   1235\u001b[39m \u001b[43m    \u001b[49m\u001b[43meval_qid\u001b[49m\u001b[43m=\u001b[49m\u001b[38;5;28;43;01mNone\u001b[39;49;00m\u001b[43m,\u001b[49m\n\u001b[32m   1236\u001b[39m \u001b[43m    \u001b[49m\u001b[43mcreate_dmatrix\u001b[49m\u001b[43m=\u001b[49m\u001b[38;5;28;43mself\u001b[39;49m\u001b[43m.\u001b[49m\u001b[43m_create_dmatrix\u001b[49m\u001b[43m,\u001b[49m\n\u001b[32m   1237\u001b[39m \u001b[43m    \u001b[49m\u001b[43menable_categorical\u001b[49m\u001b[43m=\u001b[49m\u001b[38;5;28;43mself\u001b[39;49m\u001b[43m.\u001b[49m\u001b[43menable_categorical\u001b[49m\u001b[43m,\u001b[49m\n\u001b[32m   1238\u001b[39m \u001b[43m    \u001b[49m\u001b[43mfeature_types\u001b[49m\u001b[43m=\u001b[49m\u001b[38;5;28;43mself\u001b[39;49m\u001b[43m.\u001b[49m\u001b[43mfeature_types\u001b[49m\u001b[43m,\u001b[49m\n\u001b[32m   1239\u001b[39m \u001b[43m\u001b[49m\u001b[43m)\u001b[49m\n\u001b[32m   1241\u001b[39m \u001b[38;5;28;01mif\u001b[39;00m \u001b[38;5;28mcallable\u001b[39m(\u001b[38;5;28mself\u001b[39m.objective):\n\u001b[32m   1242\u001b[39m     obj: Optional[Objective] = _objective_decorator(\u001b[38;5;28mself\u001b[39m.objective)\n",
      "\u001b[36mFile \u001b[39m\u001b[32md:\\github\\RECSYS\\.venv\\Lib\\site-packages\\xgboost\\sklearn.py:628\u001b[39m, in \u001b[36m_wrap_evaluation_matrices\u001b[39m\u001b[34m(missing, X, y, group, qid, sample_weight, base_margin, feature_weights, eval_set, sample_weight_eval_set, base_margin_eval_set, eval_group, eval_qid, create_dmatrix, enable_categorical, feature_types)\u001b[39m\n\u001b[32m    607\u001b[39m \u001b[38;5;28;01mdef\u001b[39;00m\u001b[38;5;250m \u001b[39m\u001b[34m_wrap_evaluation_matrices\u001b[39m(\n\u001b[32m    608\u001b[39m     *,\n\u001b[32m    609\u001b[39m     missing: \u001b[38;5;28mfloat\u001b[39m,\n\u001b[32m   (...)\u001b[39m\u001b[32m    624\u001b[39m     feature_types: Optional[FeatureTypes],\n\u001b[32m    625\u001b[39m ) -> Tuple[Any, List[Tuple[Any, \u001b[38;5;28mstr\u001b[39m]]]:\n\u001b[32m    626\u001b[39m \u001b[38;5;250m    \u001b[39m\u001b[33;03m\"\"\"Convert array_like evaluation matrices into DMatrix.  Perform validation on the\u001b[39;00m\n\u001b[32m    627\u001b[39m \u001b[33;03m    way.\"\"\"\u001b[39;00m\n\u001b[32m--> \u001b[39m\u001b[32m628\u001b[39m     train_dmatrix = \u001b[43mcreate_dmatrix\u001b[49m\u001b[43m(\u001b[49m\n\u001b[32m    629\u001b[39m \u001b[43m        \u001b[49m\u001b[43mdata\u001b[49m\u001b[43m=\u001b[49m\u001b[43mX\u001b[49m\u001b[43m,\u001b[49m\n\u001b[32m    630\u001b[39m \u001b[43m        \u001b[49m\u001b[43mlabel\u001b[49m\u001b[43m=\u001b[49m\u001b[43my\u001b[49m\u001b[43m,\u001b[49m\n\u001b[32m    631\u001b[39m \u001b[43m        \u001b[49m\u001b[43mgroup\u001b[49m\u001b[43m=\u001b[49m\u001b[43mgroup\u001b[49m\u001b[43m,\u001b[49m\n\u001b[32m    632\u001b[39m \u001b[43m        \u001b[49m\u001b[43mqid\u001b[49m\u001b[43m=\u001b[49m\u001b[43mqid\u001b[49m\u001b[43m,\u001b[49m\n\u001b[32m    633\u001b[39m \u001b[43m        \u001b[49m\u001b[43mweight\u001b[49m\u001b[43m=\u001b[49m\u001b[43msample_weight\u001b[49m\u001b[43m,\u001b[49m\n\u001b[32m    634\u001b[39m \u001b[43m        \u001b[49m\u001b[43mbase_margin\u001b[49m\u001b[43m=\u001b[49m\u001b[43mbase_margin\u001b[49m\u001b[43m,\u001b[49m\n\u001b[32m    635\u001b[39m \u001b[43m        \u001b[49m\u001b[43mfeature_weights\u001b[49m\u001b[43m=\u001b[49m\u001b[43mfeature_weights\u001b[49m\u001b[43m,\u001b[49m\n\u001b[32m    636\u001b[39m \u001b[43m        \u001b[49m\u001b[43mmissing\u001b[49m\u001b[43m=\u001b[49m\u001b[43mmissing\u001b[49m\u001b[43m,\u001b[49m\n\u001b[32m    637\u001b[39m \u001b[43m        \u001b[49m\u001b[43menable_categorical\u001b[49m\u001b[43m=\u001b[49m\u001b[43menable_categorical\u001b[49m\u001b[43m,\u001b[49m\n\u001b[32m    638\u001b[39m \u001b[43m        \u001b[49m\u001b[43mfeature_types\u001b[49m\u001b[43m=\u001b[49m\u001b[43mfeature_types\u001b[49m\u001b[43m,\u001b[49m\n\u001b[32m    639\u001b[39m \u001b[43m        \u001b[49m\u001b[43mref\u001b[49m\u001b[43m=\u001b[49m\u001b[38;5;28;43;01mNone\u001b[39;49;00m\u001b[43m,\u001b[49m\n\u001b[32m    640\u001b[39m \u001b[43m    \u001b[49m\u001b[43m)\u001b[49m\n\u001b[32m    642\u001b[39m     n_validation = \u001b[32m0\u001b[39m \u001b[38;5;28;01mif\u001b[39;00m eval_set \u001b[38;5;129;01mis\u001b[39;00m \u001b[38;5;28;01mNone\u001b[39;00m \u001b[38;5;28;01melse\u001b[39;00m \u001b[38;5;28mlen\u001b[39m(eval_set)\n\u001b[32m    644\u001b[39m     \u001b[38;5;28;01mdef\u001b[39;00m\u001b[38;5;250m \u001b[39m\u001b[34mvalidate_or_none\u001b[39m(meta: Optional[Sequence], name: \u001b[38;5;28mstr\u001b[39m) -> Sequence:\n",
      "\u001b[36mFile \u001b[39m\u001b[32md:\\github\\RECSYS\\.venv\\Lib\\site-packages\\xgboost\\sklearn.py:1137\u001b[39m, in \u001b[36mXGBModel._create_dmatrix\u001b[39m\u001b[34m(self, ref, **kwargs)\u001b[39m\n\u001b[32m   1135\u001b[39m \u001b[38;5;28;01mif\u001b[39;00m _can_use_qdm(\u001b[38;5;28mself\u001b[39m.tree_method, \u001b[38;5;28mself\u001b[39m.device) \u001b[38;5;129;01mand\u001b[39;00m \u001b[38;5;28mself\u001b[39m.booster != \u001b[33m\"\u001b[39m\u001b[33mgblinear\u001b[39m\u001b[33m\"\u001b[39m:\n\u001b[32m   1136\u001b[39m     \u001b[38;5;28;01mtry\u001b[39;00m:\n\u001b[32m-> \u001b[39m\u001b[32m1137\u001b[39m         \u001b[38;5;28;01mreturn\u001b[39;00m \u001b[43mQuantileDMatrix\u001b[49m\u001b[43m(\u001b[49m\n\u001b[32m   1138\u001b[39m \u001b[43m            \u001b[49m\u001b[43m*\u001b[49m\u001b[43m*\u001b[49m\u001b[43mkwargs\u001b[49m\u001b[43m,\u001b[49m\u001b[43m \u001b[49m\u001b[43mref\u001b[49m\u001b[43m=\u001b[49m\u001b[43mref\u001b[49m\u001b[43m,\u001b[49m\u001b[43m \u001b[49m\u001b[43mnthread\u001b[49m\u001b[43m=\u001b[49m\u001b[38;5;28;43mself\u001b[39;49m\u001b[43m.\u001b[49m\u001b[43mn_jobs\u001b[49m\u001b[43m,\u001b[49m\u001b[43m \u001b[49m\u001b[43mmax_bin\u001b[49m\u001b[43m=\u001b[49m\u001b[38;5;28;43mself\u001b[39;49m\u001b[43m.\u001b[49m\u001b[43mmax_bin\u001b[49m\n\u001b[32m   1139\u001b[39m \u001b[43m        \u001b[49m\u001b[43m)\u001b[49m\n\u001b[32m   1140\u001b[39m     \u001b[38;5;28;01mexcept\u001b[39;00m \u001b[38;5;167;01mTypeError\u001b[39;00m:  \u001b[38;5;66;03m# `QuantileDMatrix` supports lesser types than DMatrix\u001b[39;00m\n\u001b[32m   1141\u001b[39m         \u001b[38;5;28;01mpass\u001b[39;00m\n",
      "\u001b[36mFile \u001b[39m\u001b[32md:\\github\\RECSYS\\.venv\\Lib\\site-packages\\xgboost\\core.py:729\u001b[39m, in \u001b[36mrequire_keyword_args.<locals>.throw_if.<locals>.inner_f\u001b[39m\u001b[34m(*args, **kwargs)\u001b[39m\n\u001b[32m    727\u001b[39m \u001b[38;5;28;01mfor\u001b[39;00m k, arg \u001b[38;5;129;01min\u001b[39;00m \u001b[38;5;28mzip\u001b[39m(sig.parameters, args):\n\u001b[32m    728\u001b[39m     kwargs[k] = arg\n\u001b[32m--> \u001b[39m\u001b[32m729\u001b[39m \u001b[38;5;28;01mreturn\u001b[39;00m \u001b[43mfunc\u001b[49m\u001b[43m(\u001b[49m\u001b[43m*\u001b[49m\u001b[43m*\u001b[49m\u001b[43mkwargs\u001b[49m\u001b[43m)\u001b[49m\n",
      "\u001b[36mFile \u001b[39m\u001b[32md:\\github\\RECSYS\\.venv\\Lib\\site-packages\\xgboost\\core.py:1614\u001b[39m, in \u001b[36mQuantileDMatrix.__init__\u001b[39m\u001b[34m(self, data, label, weight, base_margin, missing, silent, feature_names, feature_types, nthread, max_bin, ref, group, qid, label_lower_bound, label_upper_bound, feature_weights, enable_categorical, max_quantile_batches, data_split_mode)\u001b[39m\n\u001b[32m   1594\u001b[39m     \u001b[38;5;28;01mif\u001b[39;00m \u001b[38;5;28many\u001b[39m(\n\u001b[32m   1595\u001b[39m         info \u001b[38;5;129;01mis\u001b[39;00m \u001b[38;5;129;01mnot\u001b[39;00m \u001b[38;5;28;01mNone\u001b[39;00m\n\u001b[32m   1596\u001b[39m         \u001b[38;5;28;01mfor\u001b[39;00m info \u001b[38;5;129;01min\u001b[39;00m (\n\u001b[32m   (...)\u001b[39m\u001b[32m   1607\u001b[39m         )\n\u001b[32m   1608\u001b[39m     ):\n\u001b[32m   1609\u001b[39m         \u001b[38;5;28;01mraise\u001b[39;00m \u001b[38;5;167;01mValueError\u001b[39;00m(\n\u001b[32m   1610\u001b[39m             \u001b[33m\"\u001b[39m\u001b[33mIf data iterator is used as input, data like label should be \u001b[39m\u001b[33m\"\u001b[39m\n\u001b[32m   1611\u001b[39m             \u001b[33m\"\u001b[39m\u001b[33mspecified as batch argument.\u001b[39m\u001b[33m\"\u001b[39m\n\u001b[32m   1612\u001b[39m         )\n\u001b[32m-> \u001b[39m\u001b[32m1614\u001b[39m \u001b[38;5;28;43mself\u001b[39;49m\u001b[43m.\u001b[49m\u001b[43m_init\u001b[49m\u001b[43m(\u001b[49m\n\u001b[32m   1615\u001b[39m \u001b[43m    \u001b[49m\u001b[43mdata\u001b[49m\u001b[43m,\u001b[49m\n\u001b[32m   1616\u001b[39m \u001b[43m    \u001b[49m\u001b[43mref\u001b[49m\u001b[43m=\u001b[49m\u001b[43mref\u001b[49m\u001b[43m,\u001b[49m\n\u001b[32m   1617\u001b[39m \u001b[43m    \u001b[49m\u001b[43mlabel\u001b[49m\u001b[43m=\u001b[49m\u001b[43mlabel\u001b[49m\u001b[43m,\u001b[49m\n\u001b[32m   1618\u001b[39m \u001b[43m    \u001b[49m\u001b[43mweight\u001b[49m\u001b[43m=\u001b[49m\u001b[43mweight\u001b[49m\u001b[43m,\u001b[49m\n\u001b[32m   1619\u001b[39m \u001b[43m    \u001b[49m\u001b[43mbase_margin\u001b[49m\u001b[43m=\u001b[49m\u001b[43mbase_margin\u001b[49m\u001b[43m,\u001b[49m\n\u001b[32m   1620\u001b[39m \u001b[43m    \u001b[49m\u001b[43mgroup\u001b[49m\u001b[43m=\u001b[49m\u001b[43mgroup\u001b[49m\u001b[43m,\u001b[49m\n\u001b[32m   1621\u001b[39m \u001b[43m    \u001b[49m\u001b[43mqid\u001b[49m\u001b[43m=\u001b[49m\u001b[43mqid\u001b[49m\u001b[43m,\u001b[49m\n\u001b[32m   1622\u001b[39m \u001b[43m    \u001b[49m\u001b[43mlabel_lower_bound\u001b[49m\u001b[43m=\u001b[49m\u001b[43mlabel_lower_bound\u001b[49m\u001b[43m,\u001b[49m\n\u001b[32m   1623\u001b[39m \u001b[43m    \u001b[49m\u001b[43mlabel_upper_bound\u001b[49m\u001b[43m=\u001b[49m\u001b[43mlabel_upper_bound\u001b[49m\u001b[43m,\u001b[49m\n\u001b[32m   1624\u001b[39m \u001b[43m    \u001b[49m\u001b[43mfeature_weights\u001b[49m\u001b[43m=\u001b[49m\u001b[43mfeature_weights\u001b[49m\u001b[43m,\u001b[49m\n\u001b[32m   1625\u001b[39m \u001b[43m    \u001b[49m\u001b[43mfeature_names\u001b[49m\u001b[43m=\u001b[49m\u001b[43mfeature_names\u001b[49m\u001b[43m,\u001b[49m\n\u001b[32m   1626\u001b[39m \u001b[43m    \u001b[49m\u001b[43mfeature_types\u001b[49m\u001b[43m=\u001b[49m\u001b[43mfeature_types\u001b[49m\u001b[43m,\u001b[49m\n\u001b[32m   1627\u001b[39m \u001b[43m    \u001b[49m\u001b[43menable_categorical\u001b[49m\u001b[43m=\u001b[49m\u001b[43menable_categorical\u001b[49m\u001b[43m,\u001b[49m\n\u001b[32m   1628\u001b[39m \u001b[43m    \u001b[49m\u001b[43mmax_quantile_blocks\u001b[49m\u001b[43m=\u001b[49m\u001b[43mmax_quantile_batches\u001b[49m\u001b[43m,\u001b[49m\n\u001b[32m   1629\u001b[39m \u001b[43m\u001b[49m\u001b[43m)\u001b[49m\n",
      "\u001b[36mFile \u001b[39m\u001b[32md:\\github\\RECSYS\\.venv\\Lib\\site-packages\\xgboost\\core.py:1680\u001b[39m, in \u001b[36mQuantileDMatrix._init\u001b[39m\u001b[34m(self, data, ref, enable_categorical, max_quantile_blocks, **meta)\u001b[39m\n\u001b[32m   1678\u001b[39m it.reraise()\n\u001b[32m   1679\u001b[39m \u001b[38;5;66;03m# delay check_call to throw intermediate exception first\u001b[39;00m\n\u001b[32m-> \u001b[39m\u001b[32m1680\u001b[39m \u001b[43m_check_call\u001b[49m\u001b[43m(\u001b[49m\u001b[43mret\u001b[49m\u001b[43m)\u001b[49m\n\u001b[32m   1681\u001b[39m \u001b[38;5;28mself\u001b[39m.handle = handle\n\u001b[32m   1683\u001b[39m \u001b[38;5;28;01mif\u001b[39;00m ref \u001b[38;5;129;01mis\u001b[39;00m \u001b[38;5;129;01mnot\u001b[39;00m \u001b[38;5;28;01mNone\u001b[39;00m:\n",
      "\u001b[36mFile \u001b[39m\u001b[32md:\\github\\RECSYS\\.venv\\Lib\\site-packages\\xgboost\\core.py:310\u001b[39m, in \u001b[36m_check_call\u001b[39m\u001b[34m(ret)\u001b[39m\n\u001b[32m    299\u001b[39m \u001b[38;5;250m\u001b[39m\u001b[33;03m\"\"\"Check the return value of C API call\u001b[39;00m\n\u001b[32m    300\u001b[39m \n\u001b[32m    301\u001b[39m \u001b[33;03mThis function will raise exception when error occurs.\u001b[39;00m\n\u001b[32m   (...)\u001b[39m\u001b[32m    307\u001b[39m \u001b[33;03m    return value from API calls\u001b[39;00m\n\u001b[32m    308\u001b[39m \u001b[33;03m\"\"\"\u001b[39;00m\n\u001b[32m    309\u001b[39m \u001b[38;5;28;01mif\u001b[39;00m ret != \u001b[32m0\u001b[39m:\n\u001b[32m--> \u001b[39m\u001b[32m310\u001b[39m     \u001b[38;5;28;01mraise\u001b[39;00m XGBoostError(py_str(_LIB.XGBGetLastError()))\n",
      "\u001b[31mXGBoostError\u001b[39m: [18:21:51] C:\\actions-runner\\_work\\xgboost\\xgboost\\src\\data\\quantile_dmatrix.cc:174: Check failed: accumulated_rows == info.num_row_ (1548454 vs. 774227) : "
     ]
    }
   ],
   "source": [
    "import numpy as np\n",
    "from sklearn.metrics import mean_absolute_error\n",
    "from sklearn.model_selection import train_test_split\n",
    "import optuna\n",
    "from xgboost import XGBRegressor\n",
    "\n",
    "import xgboost as xgb\n",
    "xgb.set_config(verbosity=0)\n",
    "\n",
    "def objective(trial):\n",
    "    # Cargamos las características y la variable objetivo\n",
    "    X_final = np.load(\"../weight/final_stack_XGBoost.npy\")\n",
    "    y = df_train[\"stars\"]\n",
    "    X_train, X_test, y_train, y_test = train_test_split(\n",
    "        X_final, y, test_size=0.2, random_state=42\n",
    "    )\n",
    "    \n",
    "    # Mapeo para parámetros categóricos\n",
    "    booster_options = {1: \"gbtree\", 2: \"gblinear\", 3: \"dart\"}\n",
    "    tree_method_options = {1: \"auto\", 2: \"hist\"}\n",
    "    grow_policy_options = {1: \"depthwise\", 2: \"lossguide\"}\n",
    "    \n",
    "    booster_idx = trial.suggest_int(\"booster_idx\", 1, 3)\n",
    "    tree_method_idx = trial.suggest_int(\"tree_method_idx\", 1, 2)\n",
    "    grow_policy_idx = trial.suggest_int(\"grow_policy_idx\", 1, 2)\n",
    "    \n",
    "    booster = booster_options[booster_idx]\n",
    "    tree_method = tree_method_options[tree_method_idx]\n",
    "    grow_policy = grow_policy_options[grow_policy_idx]\n",
    "    \n",
    "    # Parámetros numéricos actualizados\n",
    "    eta = trial.suggest_float(\"eta\", 1e-3, 0.7, log=True)\n",
    "    gamma = trial.suggest_float(\"gamma\", 0.0, 10.0)\n",
    "    max_depth = trial.suggest_int(\"max_depth\", 3, 12)\n",
    "    min_child_weight = trial.suggest_float(\"min_child_weight\", 1, 5)\n",
    "    max_delta_step = trial.suggest_float(\"max_delta_step\", 0, 5)\n",
    "    subsample = trial.suggest_float(\"subsample\", 0.2, 1.0)\n",
    "    reg_lambda = trial.suggest_float(\"lambda\", 1e-3, 10.0, log=True)\n",
    "    alpha = trial.suggest_float(\"alpha\", 1e-3, 10.0, log=True)\n",
    "    scale_pos_weight = trial.suggest_float(\"scale_pos_weight\", 0.5, 5)\n",
    "    max_leaves = trial.suggest_int(\"max_leaves\", 1, 10)\n",
    "    max_bin = trial.suggest_int(\"max_bin\", 125, 525, step=25)\n",
    "    \n",
    "    params = {\n",
    "        \"booster\": booster,\n",
    "        \"tree_method\": tree_method,\n",
    "        \"grow_policy\": grow_policy,\n",
    "        \"eta\": eta,\n",
    "        \"gamma\": gamma,\n",
    "        \"max_depth\": max_depth,\n",
    "        \"min_child_weight\": min_child_weight,\n",
    "        \"max_delta_step\": max_delta_step,\n",
    "        \"subsample\": subsample,\n",
    "        \"reg_lambda\": reg_lambda,\n",
    "        \"alpha\": alpha,\n",
    "        \"scale_pos_weight\": scale_pos_weight,\n",
    "        \"max_leaves\": max_leaves,\n",
    "        \"max_bin\": max_bin,\n",
    "        \"random_state\": 42,\n",
    "        \"eval_metric\": \"mae\",\n",
    "        \"device\": \"cuda\",\n",
    "    }\n",
    "    \n",
    "    print(f\"Trial {trial.number} parameters: {params}\")\n",
    "    \n",
    "    # Entrenamos el modelo\n",
    "    reg = XGBRegressor(**params)\n",
    "    reg.fit(X_train, y_train, verbose=False)\n",
    "    y_pred = reg.predict(X_test)\n",
    "    mae = mean_absolute_error(y_test, y_pred)\n",
    "    \n",
    "    print(f\"Trial {trial.number} - MAE: {mae}\\n\")\n",
    "    return mae\n",
    "\n",
    "# Para iniciar el estudio:\n",
    "study = optuna.create_study(direction=\"minimize\")\n",
    "study.optimize(objective, n_trials=500)"
   ]
  },
  {
   "cell_type": "code",
   "execution_count": null,
   "metadata": {},
   "outputs": [],
   "source": [
    "print(\"Best trial:\")\n",
    "trial = study.best_trial\n",
    "print(trial.params)\n",
    "print(f\"Best MAE: {trial.value}\")"
   ]
  },
  {
   "cell_type": "markdown",
   "metadata": {},
   "source": [
    "## Neural Network"
   ]
  },
  {
   "cell_type": "code",
   "execution_count": null,
   "metadata": {},
   "outputs": [
    {
     "name": "stderr",
     "output_type": "stream",
     "text": [
      "[I 2025-04-17 13:15:32,831] A new study created in memory with name: no-name-d1f49861-b86c-41c9-804f-bd29218cb7ce\n"
     ]
    }
   ],
   "source": [
    "import optuna\n",
    "import numpy as np\n",
    "import tensorflow as tf\n",
    "from tensorflow.keras.models import Sequential\n",
    "from tensorflow.keras.layers import Dense, Dropout\n",
    "from tensorflow.keras.optimizers import Adam\n",
    "from tensorflow.keras.callbacks import EarlyStopping\n",
    "\n",
    "# [I 2025-04-16 16:53:27,772] Trial 1 finished with value: 0.40228334069252014 and parameters: {'n_units1': 184, 'dropout1': 0.3787372836263776, 'n_units2': 78, \n",
    "# 'dropout2': 0.14736679626439325, 'learning_rate': 0.00034032526493336896, 'batch_size': 16}. Best is trial 1 with value: 0.40228334069252014.\n",
    "\n",
    "tf.random.set_seed(42)\n",
    "\n",
    "# Suponiendo que X_train, y_train, X_test y y_test ya están definidos\n",
    "\n",
    "def create_model(trial, input_dim):\n",
    "    # Sugerimos algunos hiperparámetros:\n",
    "    n_units1 = trial.suggest_int('n_units1', 64, 256)\n",
    "    dropout1 = trial.suggest_float('dropout1', 0.1, 0.5)\n",
    "    n_units2 = trial.suggest_int('n_units2', 32, 128)\n",
    "    dropout2 = trial.suggest_float('dropout2', 0.1, 0.5)\n",
    "    n_units3 = trial.suggest_int('n_units3', 16, 128)\n",
    "\n",
    "    learning_rate = trial.suggest_float('learning_rate', 1e-5, 1e-2, log=True)\n",
    "    \n",
    "    model = Sequential()\n",
    "    model.add(Dense(n_units1, input_dim=input_dim, activation='relu'))\n",
    "    model.add(Dropout(dropout1))\n",
    "    model.add(Dense(n_units2, activation='relu'))\n",
    "    model.add(Dropout(dropout2))\n",
    "    model.add(Dense(n_units3, activation='relu'))  \n",
    "    model.add(Dense(1, activation='linear'))   \n",
    "    \n",
    "    optimizer = Adam(learning_rate=learning_rate)\n",
    "    model.compile(optimizer=optimizer,\n",
    "                  loss='mean_squared_error',\n",
    "                  metrics=['mae'])\n",
    "    return model\n",
    "\n",
    "def objective(trial):\n",
    "    model = create_model(trial, input_dim=X_train.shape[1])\n",
    "    \n",
    "    # Utilizamos EarlyStopping basado en la métrica 'mae'\n",
    "    early_stop = EarlyStopping(monitor='val_mae', patience=5, restore_best_weights=True)\n",
    "    \n",
    "    # Sugerimos un batch_size entre varias opciones\n",
    "    batch_size = trial.suggest_categorical('batch_size', [16, 32, 64])\n",
    "    \n",
    "    # Entrenamos el modelo con X_train, y_train y evaluamos en (X_test, y_test)\n",
    "    model.fit(X_train, y_train,\n",
    "                    validation_data=(X_test, y_test),\n",
    "                    epochs=50,\n",
    "                    batch_size=batch_size,\n",
    "                    callbacks=[early_stop],\n",
    "                    verbose=1)\n",
    "    \n",
    "    # Evaluamos el modelo en el conjunto de test para obtener el MAE\n",
    "    loss, mae = model.evaluate(X_test, y_test, verbose=0)\n",
    "\n",
    "    # Imprimir el MAE y los hiperparámetros usados en este trial\n",
    "    print(f\"Trial {trial.number} - MAE: {mae}\")\n",
    "    print(\"Hiperparámetros probados:\", trial.params)\n",
    "    \n",
    "    return mae\n",
    "\n",
    "# Creamos el estudio de Optuna para minimizar el MAE\n",
    "study = optuna.create_study(direction='minimize')\n",
    "study.optimize(objective, n_trials=150)"
   ]
  },
  {
   "cell_type": "code",
   "execution_count": null,
   "metadata": {},
   "outputs": [],
   "source": [
    "print(\"Mejores hiperparámetros:\", study.best_params)\n",
    "print(\"Mejor MAE:\", study.best_value)"
   ]
  }
 ],
 "metadata": {
  "kernelspec": {
   "display_name": ".venv",
   "language": "python",
   "name": "python3"
  },
  "language_info": {
   "codemirror_mode": {
    "name": "ipython",
    "version": 3
   },
   "file_extension": ".py",
   "mimetype": "text/x-python",
   "name": "python",
   "nbconvert_exporter": "python",
   "pygments_lexer": "ipython3",
   "version": "3.11.0"
  }
 },
 "nbformat": 4,
 "nbformat_minor": 4
}
