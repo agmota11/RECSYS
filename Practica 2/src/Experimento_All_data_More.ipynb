{
 "cells": [
  {
   "cell_type": "code",
   "execution_count": 1,
   "metadata": {},
   "outputs": [
    {
     "name": "stderr",
     "output_type": "stream",
     "text": [
      "d:\\github\\RECSYS\\.venv\\Lib\\site-packages\\tqdm\\auto.py:21: TqdmWarning: IProgress not found. Please update jupyter and ipywidgets. See https://ipywidgets.readthedocs.io/en/stable/user_install.html\n",
      "  from .autonotebook import tqdm as notebook_tqdm\n"
     ]
    }
   ],
   "source": [
    "import pandas as pd\n",
    "import numpy as np\n",
    "\n",
    "import matplotlib.pyplot as plt\n",
    "from sklearn.feature_extraction.text import TfidfVectorizer\n",
    "from sklearn.decomposition import TruncatedSVD\n",
    "from sklearn.ensemble import RandomForestRegressor\n",
    "from sklearn.model_selection import train_test_split\n",
    "from sklearn.metrics import mean_absolute_error\n",
    "\n",
    "import pandas as pd\n",
    "import numpy as np\n",
    "from sklearn.feature_extraction.text import TfidfVectorizer\n",
    "from sklearn.decomposition import TruncatedSVD, PCA\n",
    "from sklearn.ensemble import RandomForestRegressor\n",
    "from sklearn.model_selection import train_test_split\n",
    "from sklearn.metrics import mean_absolute_error\n",
    "\n",
    "import optuna\n",
    "\n",
    "import xgboost as xgb\n",
    "xgb.set_config(verbosity=2)\n",
    "\n",
    "from xgboost import XGBRegressor\n",
    "from sklearn.metrics import mean_absolute_error\n"
   ]
  },
  {
   "cell_type": "markdown",
   "metadata": {},
   "source": [
    "# Train data `all_more`"
   ]
  },
  {
   "cell_type": "code",
   "execution_count": 2,
   "metadata": {},
   "outputs": [
    {
     "data": {
      "text/html": [
       "<div>\n",
       "<style scoped>\n",
       "    .dataframe tbody tr th:only-of-type {\n",
       "        vertical-align: middle;\n",
       "    }\n",
       "\n",
       "    .dataframe tbody tr th {\n",
       "        vertical-align: top;\n",
       "    }\n",
       "\n",
       "    .dataframe thead th {\n",
       "        text-align: right;\n",
       "    }\n",
       "</style>\n",
       "<table border=\"1\" class=\"dataframe\">\n",
       "  <thead>\n",
       "    <tr style=\"text-align: right;\">\n",
       "      <th></th>\n",
       "      <th>stars</th>\n",
       "      <th>useful</th>\n",
       "      <th>funny</th>\n",
       "      <th>cool</th>\n",
       "      <th>text</th>\n",
       "      <th>stars_neg</th>\n",
       "      <th>review_count_neg</th>\n",
       "      <th>is_open_neg</th>\n",
       "      <th>attributes_neg</th>\n",
       "      <th>categories_neg</th>\n",
       "      <th>review_count_user</th>\n",
       "      <th>average_stars_user</th>\n",
       "      <th>compliment_user</th>\n",
       "    </tr>\n",
       "  </thead>\n",
       "  <tbody>\n",
       "    <tr>\n",
       "      <th>882936</th>\n",
       "      <td>5.0</td>\n",
       "      <td>0.595161</td>\n",
       "      <td>-0.150312</td>\n",
       "      <td>-0.251644</td>\n",
       "      <td>Amazing.  Beautiful.  Time takes back all desp...</td>\n",
       "      <td>4.5</td>\n",
       "      <td>1.240639</td>\n",
       "      <td>1</td>\n",
       "      <td>{'GoodForKids': 'False', 'BusinessAcceptsCredi...</td>\n",
       "      <td>Religious Organizations, Local Services, Funer...</td>\n",
       "      <td>2.286915</td>\n",
       "      <td>3.83</td>\n",
       "      <td>-0.019349</td>\n",
       "    </tr>\n",
       "    <tr>\n",
       "      <th>136123</th>\n",
       "      <td>4.0</td>\n",
       "      <td>-0.062341</td>\n",
       "      <td>-0.150312</td>\n",
       "      <td>-0.251644</td>\n",
       "      <td>Great little spot near Vandy we stopped in for...</td>\n",
       "      <td>4.0</td>\n",
       "      <td>0.757461</td>\n",
       "      <td>1</td>\n",
       "      <td>{'BusinessAcceptsCreditCards': 'True', 'Restau...</td>\n",
       "      <td>Greek, Mediterranean, Food, Ethnic Food, Middl...</td>\n",
       "      <td>1.991662</td>\n",
       "      <td>3.72</td>\n",
       "      <td>0.061755</td>\n",
       "    </tr>\n",
       "    <tr>\n",
       "      <th>667138</th>\n",
       "      <td>2.0</td>\n",
       "      <td>-0.391093</td>\n",
       "      <td>-0.150312</td>\n",
       "      <td>-0.251644</td>\n",
       "      <td>I absolutely love this place the food is great...</td>\n",
       "      <td>4.0</td>\n",
       "      <td>2.650570</td>\n",
       "      <td>1</td>\n",
       "      <td>{'Caters': 'True', 'RestaurantsReservations': ...</td>\n",
       "      <td>Mexican, Restaurants</td>\n",
       "      <td>-0.042307</td>\n",
       "      <td>2.02</td>\n",
       "      <td>-0.035085</td>\n",
       "    </tr>\n",
       "    <tr>\n",
       "      <th>558316</th>\n",
       "      <td>5.0</td>\n",
       "      <td>0.266410</td>\n",
       "      <td>-0.150312</td>\n",
       "      <td>0.255613</td>\n",
       "      <td>This place is recently under new management, a...</td>\n",
       "      <td>3.5</td>\n",
       "      <td>-0.240580</td>\n",
       "      <td>0</td>\n",
       "      <td>{'RestaurantsGoodForGroups': 'True', 'GoodForK...</td>\n",
       "      <td>Thai, Restaurants</td>\n",
       "      <td>-0.288352</td>\n",
       "      <td>4.50</td>\n",
       "      <td>-0.035085</td>\n",
       "    </tr>\n",
       "    <tr>\n",
       "      <th>494333</th>\n",
       "      <td>5.0</td>\n",
       "      <td>-0.391093</td>\n",
       "      <td>-0.150312</td>\n",
       "      <td>-0.251644</td>\n",
       "      <td>Love this place! This is our 4th time coming h...</td>\n",
       "      <td>4.5</td>\n",
       "      <td>7.078386</td>\n",
       "      <td>1</td>\n",
       "      <td>{'Caters': 'True', 'BusinessParking': \"{'garag...</td>\n",
       "      <td>Sushi Bars, Japanese, Restaurants, Asian Fusio...</td>\n",
       "      <td>-0.288352</td>\n",
       "      <td>5.00</td>\n",
       "      <td>-0.035085</td>\n",
       "    </tr>\n",
       "  </tbody>\n",
       "</table>\n",
       "</div>"
      ],
      "text/plain": [
       "        stars    useful     funny      cool  \\\n",
       "882936    5.0  0.595161 -0.150312 -0.251644   \n",
       "136123    4.0 -0.062341 -0.150312 -0.251644   \n",
       "667138    2.0 -0.391093 -0.150312 -0.251644   \n",
       "558316    5.0  0.266410 -0.150312  0.255613   \n",
       "494333    5.0 -0.391093 -0.150312 -0.251644   \n",
       "\n",
       "                                                     text  stars_neg  \\\n",
       "882936  Amazing.  Beautiful.  Time takes back all desp...        4.5   \n",
       "136123  Great little spot near Vandy we stopped in for...        4.0   \n",
       "667138  I absolutely love this place the food is great...        4.0   \n",
       "558316  This place is recently under new management, a...        3.5   \n",
       "494333  Love this place! This is our 4th time coming h...        4.5   \n",
       "\n",
       "        review_count_neg  is_open_neg  \\\n",
       "882936          1.240639            1   \n",
       "136123          0.757461            1   \n",
       "667138          2.650570            1   \n",
       "558316         -0.240580            0   \n",
       "494333          7.078386            1   \n",
       "\n",
       "                                           attributes_neg  \\\n",
       "882936  {'GoodForKids': 'False', 'BusinessAcceptsCredi...   \n",
       "136123  {'BusinessAcceptsCreditCards': 'True', 'Restau...   \n",
       "667138  {'Caters': 'True', 'RestaurantsReservations': ...   \n",
       "558316  {'RestaurantsGoodForGroups': 'True', 'GoodForK...   \n",
       "494333  {'Caters': 'True', 'BusinessParking': \"{'garag...   \n",
       "\n",
       "                                           categories_neg  review_count_user  \\\n",
       "882936  Religious Organizations, Local Services, Funer...           2.286915   \n",
       "136123  Greek, Mediterranean, Food, Ethnic Food, Middl...           1.991662   \n",
       "667138                               Mexican, Restaurants          -0.042307   \n",
       "558316                                  Thai, Restaurants          -0.288352   \n",
       "494333  Sushi Bars, Japanese, Restaurants, Asian Fusio...          -0.288352   \n",
       "\n",
       "        average_stars_user  compliment_user  \n",
       "882936                3.83        -0.019349  \n",
       "136123                3.72         0.061755  \n",
       "667138                2.02        -0.035085  \n",
       "558316                4.50        -0.035085  \n",
       "494333                5.00        -0.035085  "
      ]
     },
     "execution_count": 2,
     "metadata": {},
     "output_type": "execute_result"
    }
   ],
   "source": [
    "df_train = pd.read_csv(\"../data/train_reviews_merged_all_more.csv\")\n",
    "df_train.sample(5)"
   ]
  },
  {
   "cell_type": "code",
   "execution_count": 3,
   "metadata": {},
   "outputs": [
    {
     "data": {
      "text/plain": [
       "stars                 0\n",
       "useful                0\n",
       "funny                 0\n",
       "cool                  0\n",
       "text                  0\n",
       "stars_neg             0\n",
       "review_count_neg      0\n",
       "is_open_neg           0\n",
       "attributes_neg        0\n",
       "categories_neg        0\n",
       "review_count_user     0\n",
       "average_stars_user    0\n",
       "compliment_user       0\n",
       "dtype: int64"
      ]
     },
     "execution_count": 3,
     "metadata": {},
     "output_type": "execute_result"
    }
   ],
   "source": [
    "df_train.isnull().sum()"
   ]
  },
  {
   "cell_type": "markdown",
   "metadata": {},
   "source": [
    "Cogo lo que me interesa y no sea texto o target"
   ]
  },
  {
   "cell_type": "code",
   "execution_count": 4,
   "metadata": {},
   "outputs": [
    {
     "data": {
      "text/html": [
       "<div>\n",
       "<style scoped>\n",
       "    .dataframe tbody tr th:only-of-type {\n",
       "        vertical-align: middle;\n",
       "    }\n",
       "\n",
       "    .dataframe tbody tr th {\n",
       "        vertical-align: top;\n",
       "    }\n",
       "\n",
       "    .dataframe thead th {\n",
       "        text-align: right;\n",
       "    }\n",
       "</style>\n",
       "<table border=\"1\" class=\"dataframe\">\n",
       "  <thead>\n",
       "    <tr style=\"text-align: right;\">\n",
       "      <th></th>\n",
       "      <th>useful</th>\n",
       "      <th>funny</th>\n",
       "      <th>cool</th>\n",
       "      <th>stars_neg</th>\n",
       "      <th>review_count_neg</th>\n",
       "      <th>review_count_user</th>\n",
       "      <th>average_stars_user</th>\n",
       "      <th>compliment_user</th>\n",
       "      <th>is_open_neg</th>\n",
       "    </tr>\n",
       "  </thead>\n",
       "  <tbody>\n",
       "    <tr>\n",
       "      <th>0</th>\n",
       "      <td>-0.391093</td>\n",
       "      <td>-0.150312</td>\n",
       "      <td>-0.251644</td>\n",
       "      <td>4.5</td>\n",
       "      <td>0.773303</td>\n",
       "      <td>-0.230941</td>\n",
       "      <td>4.08</td>\n",
       "      <td>-0.033875</td>\n",
       "      <td>1</td>\n",
       "    </tr>\n",
       "    <tr>\n",
       "      <th>1</th>\n",
       "      <td>0.266410</td>\n",
       "      <td>-0.150312</td>\n",
       "      <td>0.255613</td>\n",
       "      <td>2.5</td>\n",
       "      <td>-0.177212</td>\n",
       "      <td>-0.050509</td>\n",
       "      <td>2.89</td>\n",
       "      <td>-0.035085</td>\n",
       "      <td>1</td>\n",
       "    </tr>\n",
       "    <tr>\n",
       "      <th>2</th>\n",
       "      <td>-0.391093</td>\n",
       "      <td>-0.150312</td>\n",
       "      <td>-0.251644</td>\n",
       "      <td>2.5</td>\n",
       "      <td>-0.296027</td>\n",
       "      <td>-0.271949</td>\n",
       "      <td>3.75</td>\n",
       "      <td>-0.033875</td>\n",
       "      <td>1</td>\n",
       "    </tr>\n",
       "    <tr>\n",
       "      <th>3</th>\n",
       "      <td>-0.391093</td>\n",
       "      <td>-0.150312</td>\n",
       "      <td>-0.251644</td>\n",
       "      <td>4.5</td>\n",
       "      <td>0.226757</td>\n",
       "      <td>0.146327</td>\n",
       "      <td>3.79</td>\n",
       "      <td>-0.032664</td>\n",
       "      <td>0</td>\n",
       "    </tr>\n",
       "    <tr>\n",
       "      <th>4</th>\n",
       "      <td>2.896420</td>\n",
       "      <td>1.654029</td>\n",
       "      <td>3.299152</td>\n",
       "      <td>4.0</td>\n",
       "      <td>-0.105924</td>\n",
       "      <td>1.138707</td>\n",
       "      <td>4.20</td>\n",
       "      <td>0.004861</td>\n",
       "      <td>1</td>\n",
       "    </tr>\n",
       "    <tr>\n",
       "      <th>...</th>\n",
       "      <td>...</td>\n",
       "      <td>...</td>\n",
       "      <td>...</td>\n",
       "      <td>...</td>\n",
       "      <td>...</td>\n",
       "      <td>...</td>\n",
       "      <td>...</td>\n",
       "      <td>...</td>\n",
       "      <td>...</td>\n",
       "    </tr>\n",
       "    <tr>\n",
       "      <th>967779</th>\n",
       "      <td>-0.062341</td>\n",
       "      <td>-0.150312</td>\n",
       "      <td>-0.251644</td>\n",
       "      <td>4.5</td>\n",
       "      <td>0.812908</td>\n",
       "      <td>0.105320</td>\n",
       "      <td>4.58</td>\n",
       "      <td>-0.031454</td>\n",
       "      <td>0</td>\n",
       "    </tr>\n",
       "    <tr>\n",
       "      <th>967780</th>\n",
       "      <td>-0.391093</td>\n",
       "      <td>-0.150312</td>\n",
       "      <td>-0.251644</td>\n",
       "      <td>4.5</td>\n",
       "      <td>0.900038</td>\n",
       "      <td>1.417558</td>\n",
       "      <td>3.74</td>\n",
       "      <td>-0.030243</td>\n",
       "      <td>1</td>\n",
       "    </tr>\n",
       "    <tr>\n",
       "      <th>967781</th>\n",
       "      <td>-0.391093</td>\n",
       "      <td>-0.150312</td>\n",
       "      <td>0.255613</td>\n",
       "      <td>4.5</td>\n",
       "      <td>1.961447</td>\n",
       "      <td>-0.263747</td>\n",
       "      <td>4.20</td>\n",
       "      <td>-0.033875</td>\n",
       "      <td>1</td>\n",
       "    </tr>\n",
       "    <tr>\n",
       "      <th>967782</th>\n",
       "      <td>-0.391093</td>\n",
       "      <td>-0.150312</td>\n",
       "      <td>-0.251644</td>\n",
       "      <td>4.5</td>\n",
       "      <td>21.478689</td>\n",
       "      <td>-0.116121</td>\n",
       "      <td>4.70</td>\n",
       "      <td>-0.035085</td>\n",
       "      <td>1</td>\n",
       "    </tr>\n",
       "    <tr>\n",
       "      <th>967783</th>\n",
       "      <td>0.266410</td>\n",
       "      <td>-0.150312</td>\n",
       "      <td>-0.251644</td>\n",
       "      <td>2.0</td>\n",
       "      <td>-0.026714</td>\n",
       "      <td>-0.296553</td>\n",
       "      <td>1.00</td>\n",
       "      <td>-0.035085</td>\n",
       "      <td>1</td>\n",
       "    </tr>\n",
       "  </tbody>\n",
       "</table>\n",
       "<p>967784 rows × 9 columns</p>\n",
       "</div>"
      ],
      "text/plain": [
       "          useful     funny      cool  stars_neg  review_count_neg  \\\n",
       "0      -0.391093 -0.150312 -0.251644        4.5          0.773303   \n",
       "1       0.266410 -0.150312  0.255613        2.5         -0.177212   \n",
       "2      -0.391093 -0.150312 -0.251644        2.5         -0.296027   \n",
       "3      -0.391093 -0.150312 -0.251644        4.5          0.226757   \n",
       "4       2.896420  1.654029  3.299152        4.0         -0.105924   \n",
       "...          ...       ...       ...        ...               ...   \n",
       "967779 -0.062341 -0.150312 -0.251644        4.5          0.812908   \n",
       "967780 -0.391093 -0.150312 -0.251644        4.5          0.900038   \n",
       "967781 -0.391093 -0.150312  0.255613        4.5          1.961447   \n",
       "967782 -0.391093 -0.150312 -0.251644        4.5         21.478689   \n",
       "967783  0.266410 -0.150312 -0.251644        2.0         -0.026714   \n",
       "\n",
       "        review_count_user  average_stars_user  compliment_user  is_open_neg  \n",
       "0               -0.230941                4.08        -0.033875            1  \n",
       "1               -0.050509                2.89        -0.035085            1  \n",
       "2               -0.271949                3.75        -0.033875            1  \n",
       "3                0.146327                3.79        -0.032664            0  \n",
       "4                1.138707                4.20         0.004861            1  \n",
       "...                   ...                 ...              ...          ...  \n",
       "967779           0.105320                4.58        -0.031454            0  \n",
       "967780           1.417558                3.74        -0.030243            1  \n",
       "967781          -0.263747                4.20        -0.033875            1  \n",
       "967782          -0.116121                4.70        -0.035085            1  \n",
       "967783          -0.296553                1.00        -0.035085            1  \n",
       "\n",
       "[967784 rows x 9 columns]"
      ]
     },
     "execution_count": 4,
     "metadata": {},
     "output_type": "execute_result"
    }
   ],
   "source": [
    "X_numeric = df_train[[\"useful\", \"funny\", \"cool\", \"stars_neg\", \"review_count_neg\", \"review_count_user\", \"average_stars_user\", \"compliment_user\",\n",
    "                      \"is_open_neg\"]].copy()\n",
    "\n",
    "X_numeric"
   ]
  },
  {
   "cell_type": "code",
   "execution_count": 5,
   "metadata": {},
   "outputs": [
    {
     "data": {
      "text/plain": [
       "useful                0\n",
       "funny                 0\n",
       "cool                  0\n",
       "stars_neg             0\n",
       "review_count_neg      0\n",
       "review_count_user     0\n",
       "average_stars_user    0\n",
       "compliment_user       0\n",
       "is_open_neg           0\n",
       "dtype: int64"
      ]
     },
     "execution_count": 5,
     "metadata": {},
     "output_type": "execute_result"
    }
   ],
   "source": [
    "X_numeric.isnull().sum()"
   ]
  },
  {
   "cell_type": "code",
   "execution_count": 6,
   "metadata": {},
   "outputs": [
    {
     "data": {
      "text/html": [
       "<div>\n",
       "<style scoped>\n",
       "    .dataframe tbody tr th:only-of-type {\n",
       "        vertical-align: middle;\n",
       "    }\n",
       "\n",
       "    .dataframe tbody tr th {\n",
       "        vertical-align: top;\n",
       "    }\n",
       "\n",
       "    .dataframe thead th {\n",
       "        text-align: right;\n",
       "    }\n",
       "</style>\n",
       "<table border=\"1\" class=\"dataframe\">\n",
       "  <thead>\n",
       "    <tr style=\"text-align: right;\">\n",
       "      <th></th>\n",
       "      <th>text</th>\n",
       "      <th>attributes_neg</th>\n",
       "      <th>categories_neg</th>\n",
       "    </tr>\n",
       "  </thead>\n",
       "  <tbody>\n",
       "    <tr>\n",
       "      <th>118524</th>\n",
       "      <td>How are people comparing this place to Qdoba &amp;...</td>\n",
       "      <td>{'GoodForMeal': \"{'dessert': False, 'latenight...</td>\n",
       "      <td>Restaurants, Mexican, Fast Food</td>\n",
       "    </tr>\n",
       "    <tr>\n",
       "      <th>400681</th>\n",
       "      <td>Great Museum!  Located in Jackson Square next ...</td>\n",
       "      <td>{'GoodForKids': 'True', 'WiFi': \"u'no'\"}</td>\n",
       "      <td>Arts &amp; Entertainment, Public Services &amp; Govern...</td>\n",
       "    </tr>\n",
       "    <tr>\n",
       "      <th>664263</th>\n",
       "      <td>I have been here multiple times. I usually ord...</td>\n",
       "      <td>{'HappyHour': 'False', 'RestaurantsTableServic...</td>\n",
       "      <td>Japanese, Chinese, Sushi Bars, Restaurants</td>\n",
       "    </tr>\n",
       "    <tr>\n",
       "      <th>781488</th>\n",
       "      <td>This is my first experience receiving a packag...</td>\n",
       "      <td></td>\n",
       "      <td>Couriers &amp; Delivery Services, Local Services</td>\n",
       "    </tr>\n",
       "    <tr>\n",
       "      <th>661803</th>\n",
       "      <td>R E Olds Park is a large 15 acre waterfront pa...</td>\n",
       "      <td>{'GoodForKids': 'True', 'BikeParking': 'True',...</td>\n",
       "      <td>Local Flavor, Parks, Active Life, Playgrounds,...</td>\n",
       "    </tr>\n",
       "  </tbody>\n",
       "</table>\n",
       "</div>"
      ],
      "text/plain": [
       "                                                     text  \\\n",
       "118524  How are people comparing this place to Qdoba &...   \n",
       "400681  Great Museum!  Located in Jackson Square next ...   \n",
       "664263  I have been here multiple times. I usually ord...   \n",
       "781488  This is my first experience receiving a packag...   \n",
       "661803  R E Olds Park is a large 15 acre waterfront pa...   \n",
       "\n",
       "                                           attributes_neg  \\\n",
       "118524  {'GoodForMeal': \"{'dessert': False, 'latenight...   \n",
       "400681           {'GoodForKids': 'True', 'WiFi': \"u'no'\"}   \n",
       "664263  {'HappyHour': 'False', 'RestaurantsTableServic...   \n",
       "781488                                                      \n",
       "661803  {'GoodForKids': 'True', 'BikeParking': 'True',...   \n",
       "\n",
       "                                           categories_neg  \n",
       "118524                    Restaurants, Mexican, Fast Food  \n",
       "400681  Arts & Entertainment, Public Services & Govern...  \n",
       "664263         Japanese, Chinese, Sushi Bars, Restaurants  \n",
       "781488       Couriers & Delivery Services, Local Services  \n",
       "661803  Local Flavor, Parks, Active Life, Playgrounds,...  "
      ]
     },
     "execution_count": 6,
     "metadata": {},
     "output_type": "execute_result"
    }
   ],
   "source": [
    "columns = [\"text\", \"attributes_neg\", \"categories_neg\"]\n",
    "\n",
    "df_train[columns].sample(5)"
   ]
  },
  {
   "cell_type": "markdown",
   "metadata": {},
   "source": [
    "## Procesando texto de manera clásica"
   ]
  },
  {
   "cell_type": "code",
   "execution_count": 82,
   "metadata": {},
   "outputs": [],
   "source": [
    "from scipy.sparse import hstack\n",
    "\n",
    "# Aplicamos TfidfVectorizer en cada columna\n",
    "tfidf_text = TfidfVectorizer(stop_words='english', max_features=15_000, ngram_range=(1, 2))\n",
    "tfidf_attr = TfidfVectorizer(stop_words='english', max_features=7_500, ngram_range=(1, 2))\n",
    "tfidf_cat  = TfidfVectorizer(stop_words='english', max_features=7_500, ngram_range=(1, 2))\n",
    "\n",
    "X_text = tfidf_text.fit_transform(df_train['text'])\n",
    "X_attr = tfidf_attr.fit_transform(df_train['attributes_neg'])\n",
    "X_cat  = tfidf_cat.fit_transform(df_train['categories_neg'])\n",
    "\n",
    "# Combinamos las matrices (cada una es una matriz dispersa)\n",
    "X_combined = hstack([X_text, X_attr, X_cat])\n",
    "\n",
    "svd = TruncatedSVD(n_components=50, random_state=42)\n",
    "X_text_reduced = svd.fit_transform(X_text)"
   ]
  },
  {
   "cell_type": "code",
   "execution_count": 83,
   "metadata": {},
   "outputs": [
    {
     "data": {
      "text/plain": [
       "((967784, 50), (967784, 9), (967784, 15000))"
      ]
     },
     "execution_count": 83,
     "metadata": {},
     "output_type": "execute_result"
    }
   ],
   "source": [
    "X_text_reduced.shape, X_numeric.shape, X_text.shape"
   ]
  },
  {
   "cell_type": "code",
   "execution_count": 84,
   "metadata": {},
   "outputs": [
    {
     "data": {
      "text/plain": [
       "((774227, 59), (193557, 59), (774227,), (193557,))"
      ]
     },
     "execution_count": 84,
     "metadata": {},
     "output_type": "execute_result"
    }
   ],
   "source": [
    "X_final = np.hstack([X_numeric.values, X_text_reduced])\n",
    "\n",
    "y = df_train[\"stars\"]\n",
    "\n",
    "X_train, X_test, y_train, y_test = train_test_split(X_final, y, test_size=0.2, random_state=42)\n",
    "\n",
    "X_train.shape, X_test.shape, y_train.shape, y_test.shape"
   ]
  },
  {
   "cell_type": "markdown",
   "metadata": {},
   "source": [
    "## Procesando texto DL"
   ]
  },
  {
   "cell_type": "code",
   "execution_count": 7,
   "metadata": {},
   "outputs": [],
   "source": [
    "# Combinamos las matrices (cada una es una matriz dispersa)\n",
    "X_text = np.load(\"../weight/embeddings_text_train_DL_all-mpnet-base-v2.npy\")\n",
    "\n",
    "svd = TruncatedSVD(n_components=150, n_iter=20, n_oversamples=4, random_state=42)\n",
    "X_text_reduced = svd.fit_transform(X_text)"
   ]
  },
  {
   "cell_type": "code",
   "execution_count": 8,
   "metadata": {},
   "outputs": [
    {
     "data": {
      "text/plain": [
       "((967784, 150), (967784, 9), (967784, 768))"
      ]
     },
     "execution_count": 8,
     "metadata": {},
     "output_type": "execute_result"
    }
   ],
   "source": [
    "X_text_reduced.shape, X_numeric.shape, X_text.shape"
   ]
  },
  {
   "cell_type": "code",
   "execution_count": 9,
   "metadata": {},
   "outputs": [
    {
     "data": {
      "text/plain": [
       "((774227, 159), (193557, 159), (774227,), (193557,))"
      ]
     },
     "execution_count": 9,
     "metadata": {},
     "output_type": "execute_result"
    }
   ],
   "source": [
    "X_final = np.hstack([X_numeric.values, X_text_reduced])\n",
    "\n",
    "y = df_train[\"stars\"]\n",
    "\n",
    "X_train, X_test, y_train, y_test = train_test_split(X_final, y, test_size=0.2, random_state=42)\n",
    "\n",
    "X_train.shape, X_test.shape, y_train.shape, y_test.shape"
   ]
  },
  {
   "cell_type": "code",
   "execution_count": 12,
   "metadata": {},
   "outputs": [],
   "source": [
    "np.save(\"final_stack.npy\", X_final)"
   ]
  },
  {
   "cell_type": "markdown",
   "metadata": {},
   "source": [
    "## RandomForestReg"
   ]
  },
  {
   "cell_type": "code",
   "execution_count": null,
   "metadata": {},
   "outputs": [],
   "source": [
    "rf = RandomForestRegressor(n_estimators=50, random_state=42, verbose=1, n_jobs=-1)\n",
    "rf.fit(X_train, y_train)\n",
    "\n",
    "y_pred = rf.predict(X_test)\n",
    "mae = mean_absolute_error(y_test, y_pred)\n",
    "print(f\"MAE: {mae}\")"
   ]
  },
  {
   "cell_type": "code",
   "execution_count": null,
   "metadata": {},
   "outputs": [],
   "source": [
    "importances = rf.feature_importances_\n",
    "\n",
    "numeric_feature_names = list(X_numeric.columns)\n",
    "text_feature_names = [f\"text_comp_{i+1}\" for i in range(X_text_reduced.shape[1])]\n",
    "feature_names = numeric_feature_names + text_feature_names\n",
    "\n",
    "indices = np.argsort(importances)[::-1]\n",
    "\n",
    "# Crear la gráfica\n",
    "plt.figure(figsize=(12, 8))\n",
    "plt.title(\"Importancia de las características\")\n",
    "plt.bar(range(len(importances)), importances[indices], align=\"center\")\n",
    "plt.xticks(range(len(importances)), np.array(feature_names)[indices], rotation=90)\n",
    "plt.xlabel(\"Características\")\n",
    "plt.ylabel(\"Importancia\")\n",
    "plt.tight_layout()\n",
    "plt.show()"
   ]
  },
  {
   "cell_type": "markdown",
   "metadata": {},
   "source": [
    "## HistGradientBoostingRegressor"
   ]
  },
  {
   "cell_type": "code",
   "execution_count": 10,
   "metadata": {},
   "outputs": [
    {
     "name": "stdout",
     "output_type": "stream",
     "text": [
      "Binning 0.334 GB of training data: 0.458 s\n",
      "Binning 0.037 GB of validation data: 0.030 s\n",
      "Fitting gradient boosted rounds:\n",
      "Fit 100 trees in 7.761 s, (3100 total leaves)\n",
      "Time spent computing histograms: 5.310s\n",
      "Time spent finding best splits:  0.234s\n",
      "Time spent applying splits:      0.532s\n",
      "Time spent predicting:           0.146s\n",
      "MAE: 0.8606863429656669\n"
     ]
    }
   ],
   "source": [
    "from sklearn.ensemble import HistGradientBoostingRegressor\n",
    "\n",
    "model = HistGradientBoostingRegressor(random_state=42, learning_rate=0.01, verbose=1)\n",
    "model.fit(X_train, y_train)\n",
    "\n",
    "y_pred = model.predict(X_test)\n",
    "mae = mean_absolute_error(y_test, y_pred)\n",
    "print(f\"MAE: {mae}\")"
   ]
  },
  {
   "cell_type": "markdown",
   "metadata": {},
   "source": [
    "## GradientBoostingRegressor"
   ]
  },
  {
   "cell_type": "code",
   "execution_count": 25,
   "metadata": {},
   "outputs": [
    {
     "name": "stdout",
     "output_type": "stream",
     "text": [
      "      Iter       Train Loss   Remaining Time \n",
      "         1           2.1710           38.69m\n",
      "         2           2.1531           38.11m\n",
      "         3           2.1355           37.62m\n",
      "         4           2.1182           37.27m\n",
      "         5           2.1013           36.81m\n",
      "         6           2.0849           36.36m\n",
      "         7           2.0685           35.97m\n",
      "         8           2.0528           35.58m\n",
      "         9           2.0370           35.20m\n",
      "        10           2.0217           34.82m\n",
      "        20           1.8810           32.45m\n",
      "        30           1.7604           28.58m\n",
      "        40           1.6572           24.20m\n",
      "        50           1.5675           20.18m\n",
      "        60           1.4896           16.26m\n",
      "        70           1.4211           12.14m\n",
      "        80           1.3607            8.05m\n",
      "        90           1.3073            4.01m\n",
      "       100           1.2604            0.00s\n",
      "MAE: 0.938238277517477\n"
     ]
    }
   ],
   "source": [
    "from sklearn.ensemble import GradientBoostingRegressor\n",
    "\n",
    "model = GradientBoostingRegressor(random_state=42, learning_rate=0.01, verbose=1)\n",
    "model.fit(X_train, y_train)\n",
    "\n",
    "y_pred = model.predict(X_test)\n",
    "mae = mean_absolute_error(y_test, y_pred)\n",
    "print(f\"MAE: {mae}\")"
   ]
  },
  {
   "cell_type": "markdown",
   "metadata": {},
   "source": [
    "## AdaBoostRegressor"
   ]
  },
  {
   "cell_type": "code",
   "execution_count": 27,
   "metadata": {},
   "outputs": [
    {
     "name": "stderr",
     "output_type": "stream",
     "text": [
      "[Parallel(n_jobs=-1)]: Using backend ThreadingBackend with 16 concurrent workers.\n",
      "[Parallel(n_jobs=-1)]: Done  18 tasks      | elapsed:  2.9min\n",
      "[Parallel(n_jobs=-1)]: Done  50 out of  50 | elapsed:  6.0min finished\n",
      "[Parallel(n_jobs=16)]: Using backend ThreadingBackend with 16 concurrent workers.\n",
      "[Parallel(n_jobs=16)]: Done  18 tasks      | elapsed:    1.2s\n",
      "[Parallel(n_jobs=16)]: Done  50 out of  50 | elapsed:    2.1s finished\n",
      "[Parallel(n_jobs=-1)]: Using backend ThreadingBackend with 16 concurrent workers.\n",
      "[Parallel(n_jobs=-1)]: Done  18 tasks      | elapsed:  2.9min\n",
      "[Parallel(n_jobs=-1)]: Done  50 out of  50 | elapsed:  5.7min finished\n",
      "[Parallel(n_jobs=16)]: Using backend ThreadingBackend with 16 concurrent workers.\n",
      "[Parallel(n_jobs=16)]: Done  18 tasks      | elapsed:    1.2s\n",
      "[Parallel(n_jobs=16)]: Done  50 out of  50 | elapsed:    2.1s finished\n",
      "[Parallel(n_jobs=-1)]: Using backend ThreadingBackend with 16 concurrent workers.\n",
      "[Parallel(n_jobs=-1)]: Done  18 tasks      | elapsed:  2.9min\n",
      "[Parallel(n_jobs=-1)]: Done  50 out of  50 | elapsed:  5.5min finished\n",
      "[Parallel(n_jobs=16)]: Using backend ThreadingBackend with 16 concurrent workers.\n",
      "[Parallel(n_jobs=16)]: Done  18 tasks      | elapsed:    1.1s\n",
      "[Parallel(n_jobs=16)]: Done  50 out of  50 | elapsed:    2.1s finished\n",
      "[Parallel(n_jobs=-1)]: Using backend ThreadingBackend with 16 concurrent workers.\n",
      "[Parallel(n_jobs=-1)]: Done  18 tasks      | elapsed:  2.9min\n",
      "[Parallel(n_jobs=-1)]: Done  50 out of  50 | elapsed:  5.6min finished\n",
      "[Parallel(n_jobs=16)]: Using backend ThreadingBackend with 16 concurrent workers.\n",
      "[Parallel(n_jobs=16)]: Done  18 tasks      | elapsed:    1.1s\n",
      "[Parallel(n_jobs=16)]: Done  50 out of  50 | elapsed:    2.0s finished\n",
      "[Parallel(n_jobs=16)]: Using backend ThreadingBackend with 16 concurrent workers.\n",
      "[Parallel(n_jobs=16)]: Done  18 tasks      | elapsed:    0.2s\n",
      "[Parallel(n_jobs=16)]: Done  50 out of  50 | elapsed:    0.4s finished\n",
      "[Parallel(n_jobs=16)]: Using backend ThreadingBackend with 16 concurrent workers.\n",
      "[Parallel(n_jobs=16)]: Done  18 tasks      | elapsed:    0.5s\n",
      "[Parallel(n_jobs=16)]: Done  50 out of  50 | elapsed:    0.7s finished\n",
      "[Parallel(n_jobs=16)]: Using backend ThreadingBackend with 16 concurrent workers.\n",
      "[Parallel(n_jobs=16)]: Done  18 tasks      | elapsed:    0.2s\n",
      "[Parallel(n_jobs=16)]: Done  50 out of  50 | elapsed:    0.4s finished\n",
      "[Parallel(n_jobs=16)]: Using backend ThreadingBackend with 16 concurrent workers.\n",
      "[Parallel(n_jobs=16)]: Done  18 tasks      | elapsed:    0.2s\n"
     ]
    },
    {
     "name": "stdout",
     "output_type": "stream",
     "text": [
      "MAE: 0.5645549320941221\n"
     ]
    },
    {
     "name": "stderr",
     "output_type": "stream",
     "text": [
      "[Parallel(n_jobs=16)]: Done  50 out of  50 | elapsed:    0.4s finished\n"
     ]
    }
   ],
   "source": [
    "from sklearn.ensemble import AdaBoostRegressor\n",
    "\n",
    "ada = AdaBoostRegressor(random_state=42, learning_rate=0.001, n_estimators=4, \n",
    "                          estimator=RandomForestRegressor(n_estimators=50, random_state=42, verbose=1, n_jobs=-1))\n",
    "\n",
    "ada.fit(X_train, y_train)\n",
    "\n",
    "y_pred = ada.predict(X_test)\n",
    "mae = mean_absolute_error(y_test, y_pred)\n",
    "print(f\"MAE: {mae}\")"
   ]
  },
  {
   "cell_type": "markdown",
   "metadata": {},
   "source": [
    "## XGBRegressor"
   ]
  },
  {
   "cell_type": "code",
   "execution_count": 10,
   "metadata": {},
   "outputs": [
    {
     "name": "stdout",
     "output_type": "stream",
     "text": [
      "[14:35:03] INFO: C:\\actions-runner\\_work\\xgboost\\xgboost\\src\\data\\iterative_dmatrix.cc:53: Finished constructing the `IterativeDMatrix`: (774227, 159, 123102093).\n",
      "MAE: 0.5184367227010693\n"
     ]
    }
   ],
   "source": [
    "xgboost = XGBRegressor(\n",
    "    tree_method=\"hist\",\n",
    "    eval_metric=mean_absolute_error,\n",
    ")\n",
    "\n",
    "xgboost.fit(X_train, y_train, verbose=1)\n",
    "y_pred = xgboost.predict(X_test)\n",
    "mae = mean_absolute_error(y_test, y_pred)\n",
    "print(f\"MAE: {mae}\")"
   ]
  },
  {
   "cell_type": "markdown",
   "metadata": {},
   "source": [
    "## Stacking"
   ]
  },
  {
   "cell_type": "code",
   "execution_count": 10,
   "metadata": {},
   "outputs": [
    {
     "name": "stdout",
     "output_type": "stream",
     "text": [
      "[15:08:16] INFO: C:\\actions-runner\\_work\\xgboost\\xgboost\\src\\data\\iterative_dmatrix.cc:53: Finished constructing the `IterativeDMatrix`: (774227, 159, 123102093).\n",
      "[15:08:29] INFO: C:\\actions-runner\\_work\\xgboost\\xgboost\\src\\data\\iterative_dmatrix.cc:53: Finished constructing the `IterativeDMatrix`: (774227, 159, 123102093).\n",
      "[15:08:40] INFO: C:\\actions-runner\\_work\\xgboost\\xgboost\\src\\data\\iterative_dmatrix.cc:53: Finished constructing the `IterativeDMatrix`: (774227, 159, 123102093).\n",
      "[15:08:52] INFO: C:\\actions-runner\\_work\\xgboost\\xgboost\\src\\data\\iterative_dmatrix.cc:53: Finished constructing the `IterativeDMatrix`: (774227, 159, 123102093).\n",
      "[15:09:04] INFO: C:\\actions-runner\\_work\\xgboost\\xgboost\\src\\data\\iterative_dmatrix.cc:53: Finished constructing the `IterativeDMatrix`: (774227, 159, 123102093).\n",
      "[15:09:15] INFO: C:\\actions-runner\\_work\\xgboost\\xgboost\\src\\data\\iterative_dmatrix.cc:53: Finished constructing the `IterativeDMatrix`: (774227, 159, 123102093).\n"
     ]
    },
    {
     "name": "stderr",
     "output_type": "stream",
     "text": [
      "[Parallel(n_jobs=-1)]: Using backend ThreadingBackend with 16 concurrent workers.\n",
      "[Parallel(n_jobs=-1)]: Done  18 tasks      | elapsed: 11.8min\n",
      "[Parallel(n_jobs=-1)]: Done  50 out of  50 | elapsed: 24.5min finished\n"
     ]
    },
    {
     "name": "stdout",
     "output_type": "stream",
     "text": [
      "[15:33:56] INFO: C:\\actions-runner\\_work\\xgboost\\xgboost\\src\\data\\iterative_dmatrix.cc:53: Finished constructing the `IterativeDMatrix`: (774227, 159, 123102093).\n",
      "[15:34:08] INFO: C:\\actions-runner\\_work\\xgboost\\xgboost\\src\\data\\iterative_dmatrix.cc:53: Finished constructing the `IterativeDMatrix`: (619381, 159, 98481579).\n",
      "[15:34:22] INFO: C:\\actions-runner\\_work\\xgboost\\xgboost\\src\\data\\iterative_dmatrix.cc:53: Finished constructing the `IterativeDMatrix`: (619381, 159, 98481579).\n",
      "[15:34:33] INFO: C:\\actions-runner\\_work\\xgboost\\xgboost\\src\\data\\iterative_dmatrix.cc:53: Finished constructing the `IterativeDMatrix`: (619381, 159, 98481579).\n",
      "[15:34:48] INFO: C:\\actions-runner\\_work\\xgboost\\xgboost\\src\\data\\iterative_dmatrix.cc:53: Finished constructing the `IterativeDMatrix`: (619381, 159, 98481579).\n",
      "[15:34:59] INFO: C:\\actions-runner\\_work\\xgboost\\xgboost\\src\\data\\iterative_dmatrix.cc:53: Finished constructing the `IterativeDMatrix`: (619381, 159, 98481579).\n",
      "[15:35:15] INFO: C:\\actions-runner\\_work\\xgboost\\xgboost\\src\\data\\iterative_dmatrix.cc:53: Finished constructing the `IterativeDMatrix`: (619381, 159, 98481579).\n",
      "[15:35:29] INFO: C:\\actions-runner\\_work\\xgboost\\xgboost\\src\\data\\iterative_dmatrix.cc:53: Finished constructing the `IterativeDMatrix`: (619381, 159, 98481579).\n",
      "[15:35:41] INFO: C:\\actions-runner\\_work\\xgboost\\xgboost\\src\\data\\iterative_dmatrix.cc:53: Finished constructing the `IterativeDMatrix`: (619381, 159, 98481579).\n",
      "[15:35:50] INFO: C:\\actions-runner\\_work\\xgboost\\xgboost\\src\\data\\iterative_dmatrix.cc:53: Finished constructing the `IterativeDMatrix`: (619381, 159, 98481579).\n",
      "[15:36:02] INFO: C:\\actions-runner\\_work\\xgboost\\xgboost\\src\\data\\iterative_dmatrix.cc:53: Finished constructing the `IterativeDMatrix`: (619381, 159, 98481579).\n",
      "[15:36:12] INFO: C:\\actions-runner\\_work\\xgboost\\xgboost\\src\\data\\iterative_dmatrix.cc:53: Finished constructing the `IterativeDMatrix`: (619381, 159, 98481579).\n",
      "[15:36:23] INFO: C:\\actions-runner\\_work\\xgboost\\xgboost\\src\\data\\iterative_dmatrix.cc:53: Finished constructing the `IterativeDMatrix`: (619381, 159, 98481579).\n",
      "[15:36:35] INFO: C:\\actions-runner\\_work\\xgboost\\xgboost\\src\\data\\iterative_dmatrix.cc:53: Finished constructing the `IterativeDMatrix`: (619382, 159, 98481738).\n",
      "[15:36:45] INFO: C:\\actions-runner\\_work\\xgboost\\xgboost\\src\\data\\iterative_dmatrix.cc:53: Finished constructing the `IterativeDMatrix`: (619382, 159, 98481738).\n",
      "[15:36:55] INFO: C:\\actions-runner\\_work\\xgboost\\xgboost\\src\\data\\iterative_dmatrix.cc:53: Finished constructing the `IterativeDMatrix`: (619382, 159, 98481738).\n",
      "[15:37:06] INFO: C:\\actions-runner\\_work\\xgboost\\xgboost\\src\\data\\iterative_dmatrix.cc:53: Finished constructing the `IterativeDMatrix`: (619382, 159, 98481738).\n",
      "[15:37:15] INFO: C:\\actions-runner\\_work\\xgboost\\xgboost\\src\\data\\iterative_dmatrix.cc:53: Finished constructing the `IterativeDMatrix`: (619382, 159, 98481738).\n",
      "[15:37:25] INFO: C:\\actions-runner\\_work\\xgboost\\xgboost\\src\\data\\iterative_dmatrix.cc:53: Finished constructing the `IterativeDMatrix`: (619382, 159, 98481738).\n",
      "[15:37:36] INFO: C:\\actions-runner\\_work\\xgboost\\xgboost\\src\\data\\iterative_dmatrix.cc:53: Finished constructing the `IterativeDMatrix`: (619382, 159, 98481738).\n",
      "[15:37:45] INFO: C:\\actions-runner\\_work\\xgboost\\xgboost\\src\\data\\iterative_dmatrix.cc:53: Finished constructing the `IterativeDMatrix`: (619382, 159, 98481738).\n",
      "[15:37:56] INFO: C:\\actions-runner\\_work\\xgboost\\xgboost\\src\\data\\iterative_dmatrix.cc:53: Finished constructing the `IterativeDMatrix`: (619382, 159, 98481738).\n",
      "[15:38:07] INFO: C:\\actions-runner\\_work\\xgboost\\xgboost\\src\\data\\iterative_dmatrix.cc:53: Finished constructing the `IterativeDMatrix`: (619382, 159, 98481738).\n",
      "[15:38:16] INFO: C:\\actions-runner\\_work\\xgboost\\xgboost\\src\\data\\iterative_dmatrix.cc:53: Finished constructing the `IterativeDMatrix`: (619382, 159, 98481738).\n",
      "[15:38:26] INFO: C:\\actions-runner\\_work\\xgboost\\xgboost\\src\\data\\iterative_dmatrix.cc:53: Finished constructing the `IterativeDMatrix`: (619382, 159, 98481738).\n",
      "[15:38:37] INFO: C:\\actions-runner\\_work\\xgboost\\xgboost\\src\\data\\iterative_dmatrix.cc:53: Finished constructing the `IterativeDMatrix`: (619382, 159, 98481738).\n",
      "[15:38:46] INFO: C:\\actions-runner\\_work\\xgboost\\xgboost\\src\\data\\iterative_dmatrix.cc:53: Finished constructing the `IterativeDMatrix`: (619382, 159, 98481738).\n",
      "[15:38:57] INFO: C:\\actions-runner\\_work\\xgboost\\xgboost\\src\\data\\iterative_dmatrix.cc:53: Finished constructing the `IterativeDMatrix`: (619382, 159, 98481738).\n",
      "[15:39:07] INFO: C:\\actions-runner\\_work\\xgboost\\xgboost\\src\\data\\iterative_dmatrix.cc:53: Finished constructing the `IterativeDMatrix`: (619382, 159, 98481738).\n",
      "[15:39:17] INFO: C:\\actions-runner\\_work\\xgboost\\xgboost\\src\\data\\iterative_dmatrix.cc:53: Finished constructing the `IterativeDMatrix`: (619382, 159, 98481738).\n",
      "[15:39:27] INFO: C:\\actions-runner\\_work\\xgboost\\xgboost\\src\\data\\iterative_dmatrix.cc:53: Finished constructing the `IterativeDMatrix`: (619382, 159, 98481738).\n"
     ]
    },
    {
     "name": "stderr",
     "output_type": "stream",
     "text": [
      "[Parallel(n_jobs=-1)]: Using backend ThreadingBackend with 16 concurrent workers.\n",
      "[Parallel(n_jobs=-1)]: Done  18 tasks      | elapsed:  9.1min\n",
      "[Parallel(n_jobs=-1)]: Done  50 out of  50 | elapsed: 17.6min finished\n",
      "[Parallel(n_jobs=16)]: Using backend ThreadingBackend with 16 concurrent workers.\n",
      "[Parallel(n_jobs=16)]: Done  18 tasks      | elapsed:    0.2s\n",
      "[Parallel(n_jobs=16)]: Done  50 out of  50 | elapsed:    0.5s finished\n",
      "[Parallel(n_jobs=-1)]: Using backend ThreadingBackend with 16 concurrent workers.\n",
      "[Parallel(n_jobs=-1)]: Done  18 tasks      | elapsed:  9.0min\n",
      "[Parallel(n_jobs=-1)]: Done  50 out of  50 | elapsed: 17.6min finished\n",
      "[Parallel(n_jobs=16)]: Using backend ThreadingBackend with 16 concurrent workers.\n",
      "[Parallel(n_jobs=16)]: Done  18 tasks      | elapsed:    0.2s\n",
      "[Parallel(n_jobs=16)]: Done  50 out of  50 | elapsed:    0.5s finished\n",
      "[Parallel(n_jobs=-1)]: Using backend ThreadingBackend with 16 concurrent workers.\n",
      "[Parallel(n_jobs=-1)]: Done  18 tasks      | elapsed:  9.0min\n",
      "[Parallel(n_jobs=-1)]: Done  50 out of  50 | elapsed: 17.5min finished\n",
      "[Parallel(n_jobs=16)]: Using backend ThreadingBackend with 16 concurrent workers.\n",
      "[Parallel(n_jobs=16)]: Done  18 tasks      | elapsed:    0.2s\n",
      "[Parallel(n_jobs=16)]: Done  50 out of  50 | elapsed:    0.5s finished\n",
      "[Parallel(n_jobs=-1)]: Using backend ThreadingBackend with 16 concurrent workers.\n",
      "[Parallel(n_jobs=-1)]: Done  18 tasks      | elapsed:  8.6min\n",
      "[Parallel(n_jobs=-1)]: Done  50 out of  50 | elapsed: 17.5min finished\n",
      "[Parallel(n_jobs=16)]: Using backend ThreadingBackend with 16 concurrent workers.\n",
      "[Parallel(n_jobs=16)]: Done  18 tasks      | elapsed:    0.2s\n",
      "[Parallel(n_jobs=16)]: Done  50 out of  50 | elapsed:    0.5s finished\n",
      "[Parallel(n_jobs=-1)]: Using backend ThreadingBackend with 16 concurrent workers.\n",
      "[Parallel(n_jobs=-1)]: Done  18 tasks      | elapsed:  8.6min\n",
      "[Parallel(n_jobs=-1)]: Done  50 out of  50 | elapsed: 17.1min finished\n",
      "[Parallel(n_jobs=16)]: Using backend ThreadingBackend with 16 concurrent workers.\n",
      "[Parallel(n_jobs=16)]: Done  18 tasks      | elapsed:    0.2s\n",
      "[Parallel(n_jobs=16)]: Done  50 out of  50 | elapsed:    0.5s finished\n"
     ]
    },
    {
     "name": "stdout",
     "output_type": "stream",
     "text": [
      "[17:07:05] INFO: C:\\actions-runner\\_work\\xgboost\\xgboost\\src\\data\\iterative_dmatrix.cc:53: Finished constructing the `IterativeDMatrix`: (619381, 159, 98481579).\n",
      "[17:07:16] INFO: C:\\actions-runner\\_work\\xgboost\\xgboost\\src\\data\\iterative_dmatrix.cc:53: Finished constructing the `IterativeDMatrix`: (619381, 159, 98481579).\n",
      "[17:07:26] INFO: C:\\actions-runner\\_work\\xgboost\\xgboost\\src\\data\\iterative_dmatrix.cc:53: Finished constructing the `IterativeDMatrix`: (619382, 159, 98481738).\n",
      "[17:07:36] INFO: C:\\actions-runner\\_work\\xgboost\\xgboost\\src\\data\\iterative_dmatrix.cc:53: Finished constructing the `IterativeDMatrix`: (619382, 159, 98481738).\n",
      "[17:07:46] INFO: C:\\actions-runner\\_work\\xgboost\\xgboost\\src\\data\\iterative_dmatrix.cc:53: Finished constructing the `IterativeDMatrix`: (619382, 159, 98481738).\n"
     ]
    },
    {
     "name": "stderr",
     "output_type": "stream",
     "text": [
      "[Parallel(n_jobs=16)]: Using backend ThreadingBackend with 16 concurrent workers.\n",
      "[Parallel(n_jobs=16)]: Done  18 tasks      | elapsed:    0.4s\n"
     ]
    },
    {
     "name": "stdout",
     "output_type": "stream",
     "text": [
      "MAE: 0.4957841627129702\n"
     ]
    },
    {
     "name": "stderr",
     "output_type": "stream",
     "text": [
      "[Parallel(n_jobs=16)]: Done  50 out of  50 | elapsed:    0.8s finished\n"
     ]
    }
   ],
   "source": [
    "from sklearn.ensemble import StackingRegressor\n",
    "from sklearn.ensemble import AdaBoostRegressor, RandomForestRegressor\n",
    "from xgboost import XGBRegressor\n",
    "from sklearn.linear_model import LinearRegression\n",
    "\n",
    "estimators = [\n",
    "    ('ada', AdaBoostRegressor(random_state=42, learning_rate=0.001, n_estimators=6, \n",
    "                          estimator=XGBRegressor(tree_method=\"hist\", eval_metric=mean_absolute_error))),\n",
    "\n",
    "    ('rf', RandomForestRegressor(n_estimators=50, random_state=42, verbose=1, n_jobs=-1)),\n",
    "\n",
    "    ('xgb', XGBRegressor(tree_method=\"hist\", eval_metric=mean_absolute_error)),\n",
    "]\n",
    "\n",
    "stacking_model = StackingRegressor(\n",
    "    estimators=estimators,\n",
    "    final_estimator=LinearRegression(),\n",
    "    verbose=1\n",
    ")\n",
    "\n",
    "stacking_model.fit(X_train, y_train)\n",
    "y_pred = stacking_model.predict(X_test)\n",
    "mae = mean_absolute_error(y_test, y_pred)\n",
    "print(f\"MAE: {mae}\")"
   ]
  },
  {
   "cell_type": "code",
   "execution_count": 14,
   "metadata": {},
   "outputs": [
    {
     "data": {
      "text/plain": [
       "['stacking_model_0.4957.pkl']"
      ]
     },
     "execution_count": 14,
     "metadata": {},
     "output_type": "execute_result"
    }
   ],
   "source": [
    "import joblib\n",
    "\n",
    "# Guardar el modelo entrenado\n",
    "joblib.dump(stacking_model, 'stacking_model_0.4957.pkl')"
   ]
  },
  {
   "cell_type": "markdown",
   "metadata": {},
   "source": [
    "XGBoost"
   ]
  },
  {
   "cell_type": "code",
   "execution_count": 40,
   "metadata": {},
   "outputs": [
    {
     "data": {
      "text/html": [
       "<style>#sk-container-id-1 {\n",
       "  /* Definition of color scheme common for light and dark mode */\n",
       "  --sklearn-color-text: #000;\n",
       "  --sklearn-color-text-muted: #666;\n",
       "  --sklearn-color-line: gray;\n",
       "  /* Definition of color scheme for unfitted estimators */\n",
       "  --sklearn-color-unfitted-level-0: #fff5e6;\n",
       "  --sklearn-color-unfitted-level-1: #f6e4d2;\n",
       "  --sklearn-color-unfitted-level-2: #ffe0b3;\n",
       "  --sklearn-color-unfitted-level-3: chocolate;\n",
       "  /* Definition of color scheme for fitted estimators */\n",
       "  --sklearn-color-fitted-level-0: #f0f8ff;\n",
       "  --sklearn-color-fitted-level-1: #d4ebff;\n",
       "  --sklearn-color-fitted-level-2: #b3dbfd;\n",
       "  --sklearn-color-fitted-level-3: cornflowerblue;\n",
       "\n",
       "  /* Specific color for light theme */\n",
       "  --sklearn-color-text-on-default-background: var(--sg-text-color, var(--theme-code-foreground, var(--jp-content-font-color1, black)));\n",
       "  --sklearn-color-background: var(--sg-background-color, var(--theme-background, var(--jp-layout-color0, white)));\n",
       "  --sklearn-color-border-box: var(--sg-text-color, var(--theme-code-foreground, var(--jp-content-font-color1, black)));\n",
       "  --sklearn-color-icon: #696969;\n",
       "\n",
       "  @media (prefers-color-scheme: dark) {\n",
       "    /* Redefinition of color scheme for dark theme */\n",
       "    --sklearn-color-text-on-default-background: var(--sg-text-color, var(--theme-code-foreground, var(--jp-content-font-color1, white)));\n",
       "    --sklearn-color-background: var(--sg-background-color, var(--theme-background, var(--jp-layout-color0, #111)));\n",
       "    --sklearn-color-border-box: var(--sg-text-color, var(--theme-code-foreground, var(--jp-content-font-color1, white)));\n",
       "    --sklearn-color-icon: #878787;\n",
       "  }\n",
       "}\n",
       "\n",
       "#sk-container-id-1 {\n",
       "  color: var(--sklearn-color-text);\n",
       "}\n",
       "\n",
       "#sk-container-id-1 pre {\n",
       "  padding: 0;\n",
       "}\n",
       "\n",
       "#sk-container-id-1 input.sk-hidden--visually {\n",
       "  border: 0;\n",
       "  clip: rect(1px 1px 1px 1px);\n",
       "  clip: rect(1px, 1px, 1px, 1px);\n",
       "  height: 1px;\n",
       "  margin: -1px;\n",
       "  overflow: hidden;\n",
       "  padding: 0;\n",
       "  position: absolute;\n",
       "  width: 1px;\n",
       "}\n",
       "\n",
       "#sk-container-id-1 div.sk-dashed-wrapped {\n",
       "  border: 1px dashed var(--sklearn-color-line);\n",
       "  margin: 0 0.4em 0.5em 0.4em;\n",
       "  box-sizing: border-box;\n",
       "  padding-bottom: 0.4em;\n",
       "  background-color: var(--sklearn-color-background);\n",
       "}\n",
       "\n",
       "#sk-container-id-1 div.sk-container {\n",
       "  /* jupyter's `normalize.less` sets `[hidden] { display: none; }`\n",
       "     but bootstrap.min.css set `[hidden] { display: none !important; }`\n",
       "     so we also need the `!important` here to be able to override the\n",
       "     default hidden behavior on the sphinx rendered scikit-learn.org.\n",
       "     See: https://github.com/scikit-learn/scikit-learn/issues/21755 */\n",
       "  display: inline-block !important;\n",
       "  position: relative;\n",
       "}\n",
       "\n",
       "#sk-container-id-1 div.sk-text-repr-fallback {\n",
       "  display: none;\n",
       "}\n",
       "\n",
       "div.sk-parallel-item,\n",
       "div.sk-serial,\n",
       "div.sk-item {\n",
       "  /* draw centered vertical line to link estimators */\n",
       "  background-image: linear-gradient(var(--sklearn-color-text-on-default-background), var(--sklearn-color-text-on-default-background));\n",
       "  background-size: 2px 100%;\n",
       "  background-repeat: no-repeat;\n",
       "  background-position: center center;\n",
       "}\n",
       "\n",
       "/* Parallel-specific style estimator block */\n",
       "\n",
       "#sk-container-id-1 div.sk-parallel-item::after {\n",
       "  content: \"\";\n",
       "  width: 100%;\n",
       "  border-bottom: 2px solid var(--sklearn-color-text-on-default-background);\n",
       "  flex-grow: 1;\n",
       "}\n",
       "\n",
       "#sk-container-id-1 div.sk-parallel {\n",
       "  display: flex;\n",
       "  align-items: stretch;\n",
       "  justify-content: center;\n",
       "  background-color: var(--sklearn-color-background);\n",
       "  position: relative;\n",
       "}\n",
       "\n",
       "#sk-container-id-1 div.sk-parallel-item {\n",
       "  display: flex;\n",
       "  flex-direction: column;\n",
       "}\n",
       "\n",
       "#sk-container-id-1 div.sk-parallel-item:first-child::after {\n",
       "  align-self: flex-end;\n",
       "  width: 50%;\n",
       "}\n",
       "\n",
       "#sk-container-id-1 div.sk-parallel-item:last-child::after {\n",
       "  align-self: flex-start;\n",
       "  width: 50%;\n",
       "}\n",
       "\n",
       "#sk-container-id-1 div.sk-parallel-item:only-child::after {\n",
       "  width: 0;\n",
       "}\n",
       "\n",
       "/* Serial-specific style estimator block */\n",
       "\n",
       "#sk-container-id-1 div.sk-serial {\n",
       "  display: flex;\n",
       "  flex-direction: column;\n",
       "  align-items: center;\n",
       "  background-color: var(--sklearn-color-background);\n",
       "  padding-right: 1em;\n",
       "  padding-left: 1em;\n",
       "}\n",
       "\n",
       "\n",
       "/* Toggleable style: style used for estimator/Pipeline/ColumnTransformer box that is\n",
       "clickable and can be expanded/collapsed.\n",
       "- Pipeline and ColumnTransformer use this feature and define the default style\n",
       "- Estimators will overwrite some part of the style using the `sk-estimator` class\n",
       "*/\n",
       "\n",
       "/* Pipeline and ColumnTransformer style (default) */\n",
       "\n",
       "#sk-container-id-1 div.sk-toggleable {\n",
       "  /* Default theme specific background. It is overwritten whether we have a\n",
       "  specific estimator or a Pipeline/ColumnTransformer */\n",
       "  background-color: var(--sklearn-color-background);\n",
       "}\n",
       "\n",
       "/* Toggleable label */\n",
       "#sk-container-id-1 label.sk-toggleable__label {\n",
       "  cursor: pointer;\n",
       "  display: flex;\n",
       "  width: 100%;\n",
       "  margin-bottom: 0;\n",
       "  padding: 0.5em;\n",
       "  box-sizing: border-box;\n",
       "  text-align: center;\n",
       "  align-items: start;\n",
       "  justify-content: space-between;\n",
       "  gap: 0.5em;\n",
       "}\n",
       "\n",
       "#sk-container-id-1 label.sk-toggleable__label .caption {\n",
       "  font-size: 0.6rem;\n",
       "  font-weight: lighter;\n",
       "  color: var(--sklearn-color-text-muted);\n",
       "}\n",
       "\n",
       "#sk-container-id-1 label.sk-toggleable__label-arrow:before {\n",
       "  /* Arrow on the left of the label */\n",
       "  content: \"▸\";\n",
       "  float: left;\n",
       "  margin-right: 0.25em;\n",
       "  color: var(--sklearn-color-icon);\n",
       "}\n",
       "\n",
       "#sk-container-id-1 label.sk-toggleable__label-arrow:hover:before {\n",
       "  color: var(--sklearn-color-text);\n",
       "}\n",
       "\n",
       "/* Toggleable content - dropdown */\n",
       "\n",
       "#sk-container-id-1 div.sk-toggleable__content {\n",
       "  max-height: 0;\n",
       "  max-width: 0;\n",
       "  overflow: hidden;\n",
       "  text-align: left;\n",
       "  /* unfitted */\n",
       "  background-color: var(--sklearn-color-unfitted-level-0);\n",
       "}\n",
       "\n",
       "#sk-container-id-1 div.sk-toggleable__content.fitted {\n",
       "  /* fitted */\n",
       "  background-color: var(--sklearn-color-fitted-level-0);\n",
       "}\n",
       "\n",
       "#sk-container-id-1 div.sk-toggleable__content pre {\n",
       "  margin: 0.2em;\n",
       "  border-radius: 0.25em;\n",
       "  color: var(--sklearn-color-text);\n",
       "  /* unfitted */\n",
       "  background-color: var(--sklearn-color-unfitted-level-0);\n",
       "}\n",
       "\n",
       "#sk-container-id-1 div.sk-toggleable__content.fitted pre {\n",
       "  /* unfitted */\n",
       "  background-color: var(--sklearn-color-fitted-level-0);\n",
       "}\n",
       "\n",
       "#sk-container-id-1 input.sk-toggleable__control:checked~div.sk-toggleable__content {\n",
       "  /* Expand drop-down */\n",
       "  max-height: 200px;\n",
       "  max-width: 100%;\n",
       "  overflow: auto;\n",
       "}\n",
       "\n",
       "#sk-container-id-1 input.sk-toggleable__control:checked~label.sk-toggleable__label-arrow:before {\n",
       "  content: \"▾\";\n",
       "}\n",
       "\n",
       "/* Pipeline/ColumnTransformer-specific style */\n",
       "\n",
       "#sk-container-id-1 div.sk-label input.sk-toggleable__control:checked~label.sk-toggleable__label {\n",
       "  color: var(--sklearn-color-text);\n",
       "  background-color: var(--sklearn-color-unfitted-level-2);\n",
       "}\n",
       "\n",
       "#sk-container-id-1 div.sk-label.fitted input.sk-toggleable__control:checked~label.sk-toggleable__label {\n",
       "  background-color: var(--sklearn-color-fitted-level-2);\n",
       "}\n",
       "\n",
       "/* Estimator-specific style */\n",
       "\n",
       "/* Colorize estimator box */\n",
       "#sk-container-id-1 div.sk-estimator input.sk-toggleable__control:checked~label.sk-toggleable__label {\n",
       "  /* unfitted */\n",
       "  background-color: var(--sklearn-color-unfitted-level-2);\n",
       "}\n",
       "\n",
       "#sk-container-id-1 div.sk-estimator.fitted input.sk-toggleable__control:checked~label.sk-toggleable__label {\n",
       "  /* fitted */\n",
       "  background-color: var(--sklearn-color-fitted-level-2);\n",
       "}\n",
       "\n",
       "#sk-container-id-1 div.sk-label label.sk-toggleable__label,\n",
       "#sk-container-id-1 div.sk-label label {\n",
       "  /* The background is the default theme color */\n",
       "  color: var(--sklearn-color-text-on-default-background);\n",
       "}\n",
       "\n",
       "/* On hover, darken the color of the background */\n",
       "#sk-container-id-1 div.sk-label:hover label.sk-toggleable__label {\n",
       "  color: var(--sklearn-color-text);\n",
       "  background-color: var(--sklearn-color-unfitted-level-2);\n",
       "}\n",
       "\n",
       "/* Label box, darken color on hover, fitted */\n",
       "#sk-container-id-1 div.sk-label.fitted:hover label.sk-toggleable__label.fitted {\n",
       "  color: var(--sklearn-color-text);\n",
       "  background-color: var(--sklearn-color-fitted-level-2);\n",
       "}\n",
       "\n",
       "/* Estimator label */\n",
       "\n",
       "#sk-container-id-1 div.sk-label label {\n",
       "  font-family: monospace;\n",
       "  font-weight: bold;\n",
       "  display: inline-block;\n",
       "  line-height: 1.2em;\n",
       "}\n",
       "\n",
       "#sk-container-id-1 div.sk-label-container {\n",
       "  text-align: center;\n",
       "}\n",
       "\n",
       "/* Estimator-specific */\n",
       "#sk-container-id-1 div.sk-estimator {\n",
       "  font-family: monospace;\n",
       "  border: 1px dotted var(--sklearn-color-border-box);\n",
       "  border-radius: 0.25em;\n",
       "  box-sizing: border-box;\n",
       "  margin-bottom: 0.5em;\n",
       "  /* unfitted */\n",
       "  background-color: var(--sklearn-color-unfitted-level-0);\n",
       "}\n",
       "\n",
       "#sk-container-id-1 div.sk-estimator.fitted {\n",
       "  /* fitted */\n",
       "  background-color: var(--sklearn-color-fitted-level-0);\n",
       "}\n",
       "\n",
       "/* on hover */\n",
       "#sk-container-id-1 div.sk-estimator:hover {\n",
       "  /* unfitted */\n",
       "  background-color: var(--sklearn-color-unfitted-level-2);\n",
       "}\n",
       "\n",
       "#sk-container-id-1 div.sk-estimator.fitted:hover {\n",
       "  /* fitted */\n",
       "  background-color: var(--sklearn-color-fitted-level-2);\n",
       "}\n",
       "\n",
       "/* Specification for estimator info (e.g. \"i\" and \"?\") */\n",
       "\n",
       "/* Common style for \"i\" and \"?\" */\n",
       "\n",
       ".sk-estimator-doc-link,\n",
       "a:link.sk-estimator-doc-link,\n",
       "a:visited.sk-estimator-doc-link {\n",
       "  float: right;\n",
       "  font-size: smaller;\n",
       "  line-height: 1em;\n",
       "  font-family: monospace;\n",
       "  background-color: var(--sklearn-color-background);\n",
       "  border-radius: 1em;\n",
       "  height: 1em;\n",
       "  width: 1em;\n",
       "  text-decoration: none !important;\n",
       "  margin-left: 0.5em;\n",
       "  text-align: center;\n",
       "  /* unfitted */\n",
       "  border: var(--sklearn-color-unfitted-level-1) 1pt solid;\n",
       "  color: var(--sklearn-color-unfitted-level-1);\n",
       "}\n",
       "\n",
       ".sk-estimator-doc-link.fitted,\n",
       "a:link.sk-estimator-doc-link.fitted,\n",
       "a:visited.sk-estimator-doc-link.fitted {\n",
       "  /* fitted */\n",
       "  border: var(--sklearn-color-fitted-level-1) 1pt solid;\n",
       "  color: var(--sklearn-color-fitted-level-1);\n",
       "}\n",
       "\n",
       "/* On hover */\n",
       "div.sk-estimator:hover .sk-estimator-doc-link:hover,\n",
       ".sk-estimator-doc-link:hover,\n",
       "div.sk-label-container:hover .sk-estimator-doc-link:hover,\n",
       ".sk-estimator-doc-link:hover {\n",
       "  /* unfitted */\n",
       "  background-color: var(--sklearn-color-unfitted-level-3);\n",
       "  color: var(--sklearn-color-background);\n",
       "  text-decoration: none;\n",
       "}\n",
       "\n",
       "div.sk-estimator.fitted:hover .sk-estimator-doc-link.fitted:hover,\n",
       ".sk-estimator-doc-link.fitted:hover,\n",
       "div.sk-label-container:hover .sk-estimator-doc-link.fitted:hover,\n",
       ".sk-estimator-doc-link.fitted:hover {\n",
       "  /* fitted */\n",
       "  background-color: var(--sklearn-color-fitted-level-3);\n",
       "  color: var(--sklearn-color-background);\n",
       "  text-decoration: none;\n",
       "}\n",
       "\n",
       "/* Span, style for the box shown on hovering the info icon */\n",
       ".sk-estimator-doc-link span {\n",
       "  display: none;\n",
       "  z-index: 9999;\n",
       "  position: relative;\n",
       "  font-weight: normal;\n",
       "  right: .2ex;\n",
       "  padding: .5ex;\n",
       "  margin: .5ex;\n",
       "  width: min-content;\n",
       "  min-width: 20ex;\n",
       "  max-width: 50ex;\n",
       "  color: var(--sklearn-color-text);\n",
       "  box-shadow: 2pt 2pt 4pt #999;\n",
       "  /* unfitted */\n",
       "  background: var(--sklearn-color-unfitted-level-0);\n",
       "  border: .5pt solid var(--sklearn-color-unfitted-level-3);\n",
       "}\n",
       "\n",
       ".sk-estimator-doc-link.fitted span {\n",
       "  /* fitted */\n",
       "  background: var(--sklearn-color-fitted-level-0);\n",
       "  border: var(--sklearn-color-fitted-level-3);\n",
       "}\n",
       "\n",
       ".sk-estimator-doc-link:hover span {\n",
       "  display: block;\n",
       "}\n",
       "\n",
       "/* \"?\"-specific style due to the `<a>` HTML tag */\n",
       "\n",
       "#sk-container-id-1 a.estimator_doc_link {\n",
       "  float: right;\n",
       "  font-size: 1rem;\n",
       "  line-height: 1em;\n",
       "  font-family: monospace;\n",
       "  background-color: var(--sklearn-color-background);\n",
       "  border-radius: 1rem;\n",
       "  height: 1rem;\n",
       "  width: 1rem;\n",
       "  text-decoration: none;\n",
       "  /* unfitted */\n",
       "  color: var(--sklearn-color-unfitted-level-1);\n",
       "  border: var(--sklearn-color-unfitted-level-1) 1pt solid;\n",
       "}\n",
       "\n",
       "#sk-container-id-1 a.estimator_doc_link.fitted {\n",
       "  /* fitted */\n",
       "  border: var(--sklearn-color-fitted-level-1) 1pt solid;\n",
       "  color: var(--sklearn-color-fitted-level-1);\n",
       "}\n",
       "\n",
       "/* On hover */\n",
       "#sk-container-id-1 a.estimator_doc_link:hover {\n",
       "  /* unfitted */\n",
       "  background-color: var(--sklearn-color-unfitted-level-3);\n",
       "  color: var(--sklearn-color-background);\n",
       "  text-decoration: none;\n",
       "}\n",
       "\n",
       "#sk-container-id-1 a.estimator_doc_link.fitted:hover {\n",
       "  /* fitted */\n",
       "  background-color: var(--sklearn-color-fitted-level-3);\n",
       "}\n",
       "</style><div id=\"sk-container-id-1\" class=\"sk-top-container\"><div class=\"sk-text-repr-fallback\"><pre>StackingRegressor(estimators=[(&#x27;ada&#x27;,\n",
       "                               AdaBoostRegressor(estimator=RandomForestRegressor(n_estimators=50,\n",
       "                                                                                 n_jobs=-1,\n",
       "                                                                                 random_state=42,\n",
       "                                                                                 verbose=1),\n",
       "                                                 learning_rate=0.001,\n",
       "                                                 n_estimators=4,\n",
       "                                                 random_state=42)),\n",
       "                              (&#x27;rf&#x27;,\n",
       "                               RandomForestRegressor(n_estimators=50, n_jobs=-1,\n",
       "                                                     random_state=42,\n",
       "                                                     verbose=1)),\n",
       "                              (&#x27;xgb&#x27;,\n",
       "                               XGBRegressor(base_score=None, booster=None,\n",
       "                                            callbacks=None,\n",
       "                                            colsample_b...\n",
       "                                            importance_type=None,\n",
       "                                            interaction_constraints=None,\n",
       "                                            learning_rate=None, max_bin=None,\n",
       "                                            max_cat_threshold=None,\n",
       "                                            max_cat_to_onehot=None,\n",
       "                                            max_delta_step=None, max_depth=None,\n",
       "                                            max_leaves=None,\n",
       "                                            min_child_weight=None, missing=nan,\n",
       "                                            monotone_constraints=None,\n",
       "                                            multi_strategy=None,\n",
       "                                            n_estimators=None, n_jobs=None,\n",
       "                                            num_parallel_tree=None, ...))],\n",
       "                  final_estimator=LinearRegression(), verbose=1)</pre><b>In a Jupyter environment, please rerun this cell to show the HTML representation or trust the notebook. <br />On GitHub, the HTML representation is unable to render, please try loading this page with nbviewer.org.</b></div><div class=\"sk-container\" hidden><div class=\"sk-item sk-dashed-wrapped\"><div class=\"sk-label-container\"><div class=\"sk-label fitted sk-toggleable\"><input class=\"sk-toggleable__control sk-hidden--visually\" id=\"sk-estimator-id-1\" type=\"checkbox\" ><label for=\"sk-estimator-id-1\" class=\"sk-toggleable__label fitted sk-toggleable__label-arrow\"><div><div>StackingRegressor</div></div><div><a class=\"sk-estimator-doc-link fitted\" rel=\"noreferrer\" target=\"_blank\" href=\"https://scikit-learn.org/1.6/modules/generated/sklearn.ensemble.StackingRegressor.html\">?<span>Documentation for StackingRegressor</span></a><span class=\"sk-estimator-doc-link fitted\">i<span>Fitted</span></span></div></label><div class=\"sk-toggleable__content fitted\"><pre>StackingRegressor(estimators=[(&#x27;ada&#x27;,\n",
       "                               AdaBoostRegressor(estimator=RandomForestRegressor(n_estimators=50,\n",
       "                                                                                 n_jobs=-1,\n",
       "                                                                                 random_state=42,\n",
       "                                                                                 verbose=1),\n",
       "                                                 learning_rate=0.001,\n",
       "                                                 n_estimators=4,\n",
       "                                                 random_state=42)),\n",
       "                              (&#x27;rf&#x27;,\n",
       "                               RandomForestRegressor(n_estimators=50, n_jobs=-1,\n",
       "                                                     random_state=42,\n",
       "                                                     verbose=1)),\n",
       "                              (&#x27;xgb&#x27;,\n",
       "                               XGBRegressor(base_score=None, booster=None,\n",
       "                                            callbacks=None,\n",
       "                                            colsample_b...\n",
       "                                            importance_type=None,\n",
       "                                            interaction_constraints=None,\n",
       "                                            learning_rate=None, max_bin=None,\n",
       "                                            max_cat_threshold=None,\n",
       "                                            max_cat_to_onehot=None,\n",
       "                                            max_delta_step=None, max_depth=None,\n",
       "                                            max_leaves=None,\n",
       "                                            min_child_weight=None, missing=nan,\n",
       "                                            monotone_constraints=None,\n",
       "                                            multi_strategy=None,\n",
       "                                            n_estimators=None, n_jobs=None,\n",
       "                                            num_parallel_tree=None, ...))],\n",
       "                  final_estimator=LinearRegression(), verbose=1)</pre></div> </div></div><div class=\"sk-serial\"><div class=\"sk-item\"><div class=\"sk-parallel\"><div class=\"sk-parallel-item\"><div class=\"sk-item\"><div class=\"sk-label-container\"><div class=\"sk-label fitted sk-toggleable\"><label>ada</label></div></div><div class=\"sk-serial\"><div class=\"sk-item sk-dashed-wrapped\"><div class=\"sk-parallel\"><div class=\"sk-parallel-item\"><div class=\"sk-item\"><div class=\"sk-label-container\"><div class=\"sk-label fitted sk-toggleable\"><input class=\"sk-toggleable__control sk-hidden--visually\" id=\"sk-estimator-id-2\" type=\"checkbox\" ><label for=\"sk-estimator-id-2\" class=\"sk-toggleable__label fitted sk-toggleable__label-arrow\"><div><div>estimator: RandomForestRegressor</div></div></label><div class=\"sk-toggleable__content fitted\"><pre>RandomForestRegressor(n_estimators=50, n_jobs=-1, random_state=42, verbose=1)</pre></div> </div></div><div class=\"sk-serial\"><div class=\"sk-item\"><div class=\"sk-estimator fitted sk-toggleable\"><input class=\"sk-toggleable__control sk-hidden--visually\" id=\"sk-estimator-id-3\" type=\"checkbox\" ><label for=\"sk-estimator-id-3\" class=\"sk-toggleable__label fitted sk-toggleable__label-arrow\"><div><div>RandomForestRegressor</div></div><div><a class=\"sk-estimator-doc-link fitted\" rel=\"noreferrer\" target=\"_blank\" href=\"https://scikit-learn.org/1.6/modules/generated/sklearn.ensemble.RandomForestRegressor.html\">?<span>Documentation for RandomForestRegressor</span></a></div></label><div class=\"sk-toggleable__content fitted\"><pre>RandomForestRegressor(n_estimators=50, n_jobs=-1, random_state=42, verbose=1)</pre></div> </div></div></div></div></div></div></div></div></div></div><div class=\"sk-parallel-item\"><div class=\"sk-item\"><div class=\"sk-label-container\"><div class=\"sk-label fitted sk-toggleable\"><label>rf</label></div></div><div class=\"sk-serial\"><div class=\"sk-item\"><div class=\"sk-estimator fitted sk-toggleable\"><input class=\"sk-toggleable__control sk-hidden--visually\" id=\"sk-estimator-id-4\" type=\"checkbox\" ><label for=\"sk-estimator-id-4\" class=\"sk-toggleable__label fitted sk-toggleable__label-arrow\"><div><div>RandomForestRegressor</div></div><div><a class=\"sk-estimator-doc-link fitted\" rel=\"noreferrer\" target=\"_blank\" href=\"https://scikit-learn.org/1.6/modules/generated/sklearn.ensemble.RandomForestRegressor.html\">?<span>Documentation for RandomForestRegressor</span></a></div></label><div class=\"sk-toggleable__content fitted\"><pre>RandomForestRegressor(n_estimators=50, n_jobs=-1, random_state=42, verbose=1)</pre></div> </div></div></div></div></div><div class=\"sk-parallel-item\"><div class=\"sk-item\"><div class=\"sk-label-container\"><div class=\"sk-label fitted sk-toggleable\"><label>xgb</label></div></div><div class=\"sk-serial\"><div class=\"sk-item\"><div class=\"sk-estimator fitted sk-toggleable\"><input class=\"sk-toggleable__control sk-hidden--visually\" id=\"sk-estimator-id-5\" type=\"checkbox\" ><label for=\"sk-estimator-id-5\" class=\"sk-toggleable__label fitted sk-toggleable__label-arrow\"><div><div>XGBRegressor</div></div><div><a class=\"sk-estimator-doc-link fitted\" rel=\"noreferrer\" target=\"_blank\" href=\"https://xgboost.readthedocs.io/en/release_3.0.0/python/python_api.html#xgboost.XGBRegressor\">?<span>Documentation for XGBRegressor</span></a></div></label><div class=\"sk-toggleable__content fitted\"><pre>XGBRegressor(base_score=None, booster=None, callbacks=None,\n",
       "             colsample_bylevel=None, colsample_bynode=None,\n",
       "             colsample_bytree=None, device=None, early_stopping_rounds=None,\n",
       "             enable_categorical=False,\n",
       "             eval_metric=&lt;function mean_absolute_error at 0x0000013F5DCECD60&gt;,\n",
       "             feature_types=None, feature_weights=None, gamma=None,\n",
       "             grow_policy=None, importance_type=None,\n",
       "             interaction_constraints=None, learning_rate=None, max_bin=None,\n",
       "             max_cat_threshold=None, max_cat_to_onehot=None,\n",
       "             max_delta_step=None, max_depth=None, max_leaves=None,\n",
       "             min_child_weight=None, missing=nan, monotone_constraints=None,\n",
       "             multi_strategy=None, n_estimators=None, n_jobs=None,\n",
       "             num_parallel_tree=None, ...)</pre></div> </div></div></div></div></div></div></div><div class=\"sk-item\"><div class=\"sk-parallel\"><div class=\"sk-parallel-item\"><div class=\"sk-item\"><div class=\"sk-label-container\"><div class=\"sk-label fitted sk-toggleable\"><label>final_estimator</label></div></div><div class=\"sk-serial\"><div class=\"sk-item\"><div class=\"sk-estimator fitted sk-toggleable\"><input class=\"sk-toggleable__control sk-hidden--visually\" id=\"sk-estimator-id-6\" type=\"checkbox\" ><label for=\"sk-estimator-id-6\" class=\"sk-toggleable__label fitted sk-toggleable__label-arrow\"><div><div>LinearRegression</div></div><div><a class=\"sk-estimator-doc-link fitted\" rel=\"noreferrer\" target=\"_blank\" href=\"https://scikit-learn.org/1.6/modules/generated/sklearn.linear_model.LinearRegression.html\">?<span>Documentation for LinearRegression</span></a></div></label><div class=\"sk-toggleable__content fitted\"><pre>LinearRegression()</pre></div> </div></div></div></div></div></div></div></div></div></div></div>"
      ],
      "text/plain": [
       "StackingRegressor(estimators=[('ada',\n",
       "                               AdaBoostRegressor(estimator=RandomForestRegressor(n_estimators=50,\n",
       "                                                                                 n_jobs=-1,\n",
       "                                                                                 random_state=42,\n",
       "                                                                                 verbose=1),\n",
       "                                                 learning_rate=0.001,\n",
       "                                                 n_estimators=4,\n",
       "                                                 random_state=42)),\n",
       "                              ('rf',\n",
       "                               RandomForestRegressor(n_estimators=50, n_jobs=-1,\n",
       "                                                     random_state=42,\n",
       "                                                     verbose=1)),\n",
       "                              ('xgb',\n",
       "                               XGBRegressor(base_score=None, booster=None,\n",
       "                                            callbacks=None,\n",
       "                                            colsample_b...\n",
       "                                            importance_type=None,\n",
       "                                            interaction_constraints=None,\n",
       "                                            learning_rate=None, max_bin=None,\n",
       "                                            max_cat_threshold=None,\n",
       "                                            max_cat_to_onehot=None,\n",
       "                                            max_delta_step=None, max_depth=None,\n",
       "                                            max_leaves=None,\n",
       "                                            min_child_weight=None, missing=nan,\n",
       "                                            monotone_constraints=None,\n",
       "                                            multi_strategy=None,\n",
       "                                            n_estimators=None, n_jobs=None,\n",
       "                                            num_parallel_tree=None, ...))],\n",
       "                  final_estimator=LinearRegression(), verbose=1)"
      ]
     },
     "execution_count": 40,
     "metadata": {},
     "output_type": "execute_result"
    }
   ],
   "source": [
    "loaded_model = joblib.load('../weight/stacking_model_0.546.pkl')\n",
    "loaded_model"
   ]
  },
  {
   "cell_type": "markdown",
   "metadata": {},
   "source": [
    "## VotingRegressor"
   ]
  },
  {
   "cell_type": "code",
   "execution_count": null,
   "metadata": {},
   "outputs": [
    {
     "data": {
      "text/html": [
       "<style>#sk-container-id-3 {\n",
       "  /* Definition of color scheme common for light and dark mode */\n",
       "  --sklearn-color-text: #000;\n",
       "  --sklearn-color-text-muted: #666;\n",
       "  --sklearn-color-line: gray;\n",
       "  /* Definition of color scheme for unfitted estimators */\n",
       "  --sklearn-color-unfitted-level-0: #fff5e6;\n",
       "  --sklearn-color-unfitted-level-1: #f6e4d2;\n",
       "  --sklearn-color-unfitted-level-2: #ffe0b3;\n",
       "  --sklearn-color-unfitted-level-3: chocolate;\n",
       "  /* Definition of color scheme for fitted estimators */\n",
       "  --sklearn-color-fitted-level-0: #f0f8ff;\n",
       "  --sklearn-color-fitted-level-1: #d4ebff;\n",
       "  --sklearn-color-fitted-level-2: #b3dbfd;\n",
       "  --sklearn-color-fitted-level-3: cornflowerblue;\n",
       "\n",
       "  /* Specific color for light theme */\n",
       "  --sklearn-color-text-on-default-background: var(--sg-text-color, var(--theme-code-foreground, var(--jp-content-font-color1, black)));\n",
       "  --sklearn-color-background: var(--sg-background-color, var(--theme-background, var(--jp-layout-color0, white)));\n",
       "  --sklearn-color-border-box: var(--sg-text-color, var(--theme-code-foreground, var(--jp-content-font-color1, black)));\n",
       "  --sklearn-color-icon: #696969;\n",
       "\n",
       "  @media (prefers-color-scheme: dark) {\n",
       "    /* Redefinition of color scheme for dark theme */\n",
       "    --sklearn-color-text-on-default-background: var(--sg-text-color, var(--theme-code-foreground, var(--jp-content-font-color1, white)));\n",
       "    --sklearn-color-background: var(--sg-background-color, var(--theme-background, var(--jp-layout-color0, #111)));\n",
       "    --sklearn-color-border-box: var(--sg-text-color, var(--theme-code-foreground, var(--jp-content-font-color1, white)));\n",
       "    --sklearn-color-icon: #878787;\n",
       "  }\n",
       "}\n",
       "\n",
       "#sk-container-id-3 {\n",
       "  color: var(--sklearn-color-text);\n",
       "}\n",
       "\n",
       "#sk-container-id-3 pre {\n",
       "  padding: 0;\n",
       "}\n",
       "\n",
       "#sk-container-id-3 input.sk-hidden--visually {\n",
       "  border: 0;\n",
       "  clip: rect(1px 1px 1px 1px);\n",
       "  clip: rect(1px, 1px, 1px, 1px);\n",
       "  height: 1px;\n",
       "  margin: -1px;\n",
       "  overflow: hidden;\n",
       "  padding: 0;\n",
       "  position: absolute;\n",
       "  width: 1px;\n",
       "}\n",
       "\n",
       "#sk-container-id-3 div.sk-dashed-wrapped {\n",
       "  border: 1px dashed var(--sklearn-color-line);\n",
       "  margin: 0 0.4em 0.5em 0.4em;\n",
       "  box-sizing: border-box;\n",
       "  padding-bottom: 0.4em;\n",
       "  background-color: var(--sklearn-color-background);\n",
       "}\n",
       "\n",
       "#sk-container-id-3 div.sk-container {\n",
       "  /* jupyter's `normalize.less` sets `[hidden] { display: none; }`\n",
       "     but bootstrap.min.css set `[hidden] { display: none !important; }`\n",
       "     so we also need the `!important` here to be able to override the\n",
       "     default hidden behavior on the sphinx rendered scikit-learn.org.\n",
       "     See: https://github.com/scikit-learn/scikit-learn/issues/21755 */\n",
       "  display: inline-block !important;\n",
       "  position: relative;\n",
       "}\n",
       "\n",
       "#sk-container-id-3 div.sk-text-repr-fallback {\n",
       "  display: none;\n",
       "}\n",
       "\n",
       "div.sk-parallel-item,\n",
       "div.sk-serial,\n",
       "div.sk-item {\n",
       "  /* draw centered vertical line to link estimators */\n",
       "  background-image: linear-gradient(var(--sklearn-color-text-on-default-background), var(--sklearn-color-text-on-default-background));\n",
       "  background-size: 2px 100%;\n",
       "  background-repeat: no-repeat;\n",
       "  background-position: center center;\n",
       "}\n",
       "\n",
       "/* Parallel-specific style estimator block */\n",
       "\n",
       "#sk-container-id-3 div.sk-parallel-item::after {\n",
       "  content: \"\";\n",
       "  width: 100%;\n",
       "  border-bottom: 2px solid var(--sklearn-color-text-on-default-background);\n",
       "  flex-grow: 1;\n",
       "}\n",
       "\n",
       "#sk-container-id-3 div.sk-parallel {\n",
       "  display: flex;\n",
       "  align-items: stretch;\n",
       "  justify-content: center;\n",
       "  background-color: var(--sklearn-color-background);\n",
       "  position: relative;\n",
       "}\n",
       "\n",
       "#sk-container-id-3 div.sk-parallel-item {\n",
       "  display: flex;\n",
       "  flex-direction: column;\n",
       "}\n",
       "\n",
       "#sk-container-id-3 div.sk-parallel-item:first-child::after {\n",
       "  align-self: flex-end;\n",
       "  width: 50%;\n",
       "}\n",
       "\n",
       "#sk-container-id-3 div.sk-parallel-item:last-child::after {\n",
       "  align-self: flex-start;\n",
       "  width: 50%;\n",
       "}\n",
       "\n",
       "#sk-container-id-3 div.sk-parallel-item:only-child::after {\n",
       "  width: 0;\n",
       "}\n",
       "\n",
       "/* Serial-specific style estimator block */\n",
       "\n",
       "#sk-container-id-3 div.sk-serial {\n",
       "  display: flex;\n",
       "  flex-direction: column;\n",
       "  align-items: center;\n",
       "  background-color: var(--sklearn-color-background);\n",
       "  padding-right: 1em;\n",
       "  padding-left: 1em;\n",
       "}\n",
       "\n",
       "\n",
       "/* Toggleable style: style used for estimator/Pipeline/ColumnTransformer box that is\n",
       "clickable and can be expanded/collapsed.\n",
       "- Pipeline and ColumnTransformer use this feature and define the default style\n",
       "- Estimators will overwrite some part of the style using the `sk-estimator` class\n",
       "*/\n",
       "\n",
       "/* Pipeline and ColumnTransformer style (default) */\n",
       "\n",
       "#sk-container-id-3 div.sk-toggleable {\n",
       "  /* Default theme specific background. It is overwritten whether we have a\n",
       "  specific estimator or a Pipeline/ColumnTransformer */\n",
       "  background-color: var(--sklearn-color-background);\n",
       "}\n",
       "\n",
       "/* Toggleable label */\n",
       "#sk-container-id-3 label.sk-toggleable__label {\n",
       "  cursor: pointer;\n",
       "  display: flex;\n",
       "  width: 100%;\n",
       "  margin-bottom: 0;\n",
       "  padding: 0.5em;\n",
       "  box-sizing: border-box;\n",
       "  text-align: center;\n",
       "  align-items: start;\n",
       "  justify-content: space-between;\n",
       "  gap: 0.5em;\n",
       "}\n",
       "\n",
       "#sk-container-id-3 label.sk-toggleable__label .caption {\n",
       "  font-size: 0.6rem;\n",
       "  font-weight: lighter;\n",
       "  color: var(--sklearn-color-text-muted);\n",
       "}\n",
       "\n",
       "#sk-container-id-3 label.sk-toggleable__label-arrow:before {\n",
       "  /* Arrow on the left of the label */\n",
       "  content: \"▸\";\n",
       "  float: left;\n",
       "  margin-right: 0.25em;\n",
       "  color: var(--sklearn-color-icon);\n",
       "}\n",
       "\n",
       "#sk-container-id-3 label.sk-toggleable__label-arrow:hover:before {\n",
       "  color: var(--sklearn-color-text);\n",
       "}\n",
       "\n",
       "/* Toggleable content - dropdown */\n",
       "\n",
       "#sk-container-id-3 div.sk-toggleable__content {\n",
       "  max-height: 0;\n",
       "  max-width: 0;\n",
       "  overflow: hidden;\n",
       "  text-align: left;\n",
       "  /* unfitted */\n",
       "  background-color: var(--sklearn-color-unfitted-level-0);\n",
       "}\n",
       "\n",
       "#sk-container-id-3 div.sk-toggleable__content.fitted {\n",
       "  /* fitted */\n",
       "  background-color: var(--sklearn-color-fitted-level-0);\n",
       "}\n",
       "\n",
       "#sk-container-id-3 div.sk-toggleable__content pre {\n",
       "  margin: 0.2em;\n",
       "  border-radius: 0.25em;\n",
       "  color: var(--sklearn-color-text);\n",
       "  /* unfitted */\n",
       "  background-color: var(--sklearn-color-unfitted-level-0);\n",
       "}\n",
       "\n",
       "#sk-container-id-3 div.sk-toggleable__content.fitted pre {\n",
       "  /* unfitted */\n",
       "  background-color: var(--sklearn-color-fitted-level-0);\n",
       "}\n",
       "\n",
       "#sk-container-id-3 input.sk-toggleable__control:checked~div.sk-toggleable__content {\n",
       "  /* Expand drop-down */\n",
       "  max-height: 200px;\n",
       "  max-width: 100%;\n",
       "  overflow: auto;\n",
       "}\n",
       "\n",
       "#sk-container-id-3 input.sk-toggleable__control:checked~label.sk-toggleable__label-arrow:before {\n",
       "  content: \"▾\";\n",
       "}\n",
       "\n",
       "/* Pipeline/ColumnTransformer-specific style */\n",
       "\n",
       "#sk-container-id-3 div.sk-label input.sk-toggleable__control:checked~label.sk-toggleable__label {\n",
       "  color: var(--sklearn-color-text);\n",
       "  background-color: var(--sklearn-color-unfitted-level-2);\n",
       "}\n",
       "\n",
       "#sk-container-id-3 div.sk-label.fitted input.sk-toggleable__control:checked~label.sk-toggleable__label {\n",
       "  background-color: var(--sklearn-color-fitted-level-2);\n",
       "}\n",
       "\n",
       "/* Estimator-specific style */\n",
       "\n",
       "/* Colorize estimator box */\n",
       "#sk-container-id-3 div.sk-estimator input.sk-toggleable__control:checked~label.sk-toggleable__label {\n",
       "  /* unfitted */\n",
       "  background-color: var(--sklearn-color-unfitted-level-2);\n",
       "}\n",
       "\n",
       "#sk-container-id-3 div.sk-estimator.fitted input.sk-toggleable__control:checked~label.sk-toggleable__label {\n",
       "  /* fitted */\n",
       "  background-color: var(--sklearn-color-fitted-level-2);\n",
       "}\n",
       "\n",
       "#sk-container-id-3 div.sk-label label.sk-toggleable__label,\n",
       "#sk-container-id-3 div.sk-label label {\n",
       "  /* The background is the default theme color */\n",
       "  color: var(--sklearn-color-text-on-default-background);\n",
       "}\n",
       "\n",
       "/* On hover, darken the color of the background */\n",
       "#sk-container-id-3 div.sk-label:hover label.sk-toggleable__label {\n",
       "  color: var(--sklearn-color-text);\n",
       "  background-color: var(--sklearn-color-unfitted-level-2);\n",
       "}\n",
       "\n",
       "/* Label box, darken color on hover, fitted */\n",
       "#sk-container-id-3 div.sk-label.fitted:hover label.sk-toggleable__label.fitted {\n",
       "  color: var(--sklearn-color-text);\n",
       "  background-color: var(--sklearn-color-fitted-level-2);\n",
       "}\n",
       "\n",
       "/* Estimator label */\n",
       "\n",
       "#sk-container-id-3 div.sk-label label {\n",
       "  font-family: monospace;\n",
       "  font-weight: bold;\n",
       "  display: inline-block;\n",
       "  line-height: 1.2em;\n",
       "}\n",
       "\n",
       "#sk-container-id-3 div.sk-label-container {\n",
       "  text-align: center;\n",
       "}\n",
       "\n",
       "/* Estimator-specific */\n",
       "#sk-container-id-3 div.sk-estimator {\n",
       "  font-family: monospace;\n",
       "  border: 1px dotted var(--sklearn-color-border-box);\n",
       "  border-radius: 0.25em;\n",
       "  box-sizing: border-box;\n",
       "  margin-bottom: 0.5em;\n",
       "  /* unfitted */\n",
       "  background-color: var(--sklearn-color-unfitted-level-0);\n",
       "}\n",
       "\n",
       "#sk-container-id-3 div.sk-estimator.fitted {\n",
       "  /* fitted */\n",
       "  background-color: var(--sklearn-color-fitted-level-0);\n",
       "}\n",
       "\n",
       "/* on hover */\n",
       "#sk-container-id-3 div.sk-estimator:hover {\n",
       "  /* unfitted */\n",
       "  background-color: var(--sklearn-color-unfitted-level-2);\n",
       "}\n",
       "\n",
       "#sk-container-id-3 div.sk-estimator.fitted:hover {\n",
       "  /* fitted */\n",
       "  background-color: var(--sklearn-color-fitted-level-2);\n",
       "}\n",
       "\n",
       "/* Specification for estimator info (e.g. \"i\" and \"?\") */\n",
       "\n",
       "/* Common style for \"i\" and \"?\" */\n",
       "\n",
       ".sk-estimator-doc-link,\n",
       "a:link.sk-estimator-doc-link,\n",
       "a:visited.sk-estimator-doc-link {\n",
       "  float: right;\n",
       "  font-size: smaller;\n",
       "  line-height: 1em;\n",
       "  font-family: monospace;\n",
       "  background-color: var(--sklearn-color-background);\n",
       "  border-radius: 1em;\n",
       "  height: 1em;\n",
       "  width: 1em;\n",
       "  text-decoration: none !important;\n",
       "  margin-left: 0.5em;\n",
       "  text-align: center;\n",
       "  /* unfitted */\n",
       "  border: var(--sklearn-color-unfitted-level-1) 1pt solid;\n",
       "  color: var(--sklearn-color-unfitted-level-1);\n",
       "}\n",
       "\n",
       ".sk-estimator-doc-link.fitted,\n",
       "a:link.sk-estimator-doc-link.fitted,\n",
       "a:visited.sk-estimator-doc-link.fitted {\n",
       "  /* fitted */\n",
       "  border: var(--sklearn-color-fitted-level-1) 1pt solid;\n",
       "  color: var(--sklearn-color-fitted-level-1);\n",
       "}\n",
       "\n",
       "/* On hover */\n",
       "div.sk-estimator:hover .sk-estimator-doc-link:hover,\n",
       ".sk-estimator-doc-link:hover,\n",
       "div.sk-label-container:hover .sk-estimator-doc-link:hover,\n",
       ".sk-estimator-doc-link:hover {\n",
       "  /* unfitted */\n",
       "  background-color: var(--sklearn-color-unfitted-level-3);\n",
       "  color: var(--sklearn-color-background);\n",
       "  text-decoration: none;\n",
       "}\n",
       "\n",
       "div.sk-estimator.fitted:hover .sk-estimator-doc-link.fitted:hover,\n",
       ".sk-estimator-doc-link.fitted:hover,\n",
       "div.sk-label-container:hover .sk-estimator-doc-link.fitted:hover,\n",
       ".sk-estimator-doc-link.fitted:hover {\n",
       "  /* fitted */\n",
       "  background-color: var(--sklearn-color-fitted-level-3);\n",
       "  color: var(--sklearn-color-background);\n",
       "  text-decoration: none;\n",
       "}\n",
       "\n",
       "/* Span, style for the box shown on hovering the info icon */\n",
       ".sk-estimator-doc-link span {\n",
       "  display: none;\n",
       "  z-index: 9999;\n",
       "  position: relative;\n",
       "  font-weight: normal;\n",
       "  right: .2ex;\n",
       "  padding: .5ex;\n",
       "  margin: .5ex;\n",
       "  width: min-content;\n",
       "  min-width: 20ex;\n",
       "  max-width: 50ex;\n",
       "  color: var(--sklearn-color-text);\n",
       "  box-shadow: 2pt 2pt 4pt #999;\n",
       "  /* unfitted */\n",
       "  background: var(--sklearn-color-unfitted-level-0);\n",
       "  border: .5pt solid var(--sklearn-color-unfitted-level-3);\n",
       "}\n",
       "\n",
       ".sk-estimator-doc-link.fitted span {\n",
       "  /* fitted */\n",
       "  background: var(--sklearn-color-fitted-level-0);\n",
       "  border: var(--sklearn-color-fitted-level-3);\n",
       "}\n",
       "\n",
       ".sk-estimator-doc-link:hover span {\n",
       "  display: block;\n",
       "}\n",
       "\n",
       "/* \"?\"-specific style due to the `<a>` HTML tag */\n",
       "\n",
       "#sk-container-id-3 a.estimator_doc_link {\n",
       "  float: right;\n",
       "  font-size: 1rem;\n",
       "  line-height: 1em;\n",
       "  font-family: monospace;\n",
       "  background-color: var(--sklearn-color-background);\n",
       "  border-radius: 1rem;\n",
       "  height: 1rem;\n",
       "  width: 1rem;\n",
       "  text-decoration: none;\n",
       "  /* unfitted */\n",
       "  color: var(--sklearn-color-unfitted-level-1);\n",
       "  border: var(--sklearn-color-unfitted-level-1) 1pt solid;\n",
       "}\n",
       "\n",
       "#sk-container-id-3 a.estimator_doc_link.fitted {\n",
       "  /* fitted */\n",
       "  border: var(--sklearn-color-fitted-level-1) 1pt solid;\n",
       "  color: var(--sklearn-color-fitted-level-1);\n",
       "}\n",
       "\n",
       "/* On hover */\n",
       "#sk-container-id-3 a.estimator_doc_link:hover {\n",
       "  /* unfitted */\n",
       "  background-color: var(--sklearn-color-unfitted-level-3);\n",
       "  color: var(--sklearn-color-background);\n",
       "  text-decoration: none;\n",
       "}\n",
       "\n",
       "#sk-container-id-3 a.estimator_doc_link.fitted:hover {\n",
       "  /* fitted */\n",
       "  background-color: var(--sklearn-color-fitted-level-3);\n",
       "}\n",
       "</style><div id=\"sk-container-id-3\" class=\"sk-top-container\"><div class=\"sk-text-repr-fallback\"><pre>VotingRegressor(estimators=[(&#x27;ada&#x27;,\n",
       "                             AdaBoostRegressor(estimator=RandomForestRegressor(n_estimators=50,\n",
       "                                                                               n_jobs=-1,\n",
       "                                                                               random_state=42,\n",
       "                                                                               verbose=1),\n",
       "                                               learning_rate=0.001,\n",
       "                                               n_estimators=4,\n",
       "                                               random_state=42)),\n",
       "                            (&#x27;rf&#x27;,\n",
       "                             RandomForestRegressor(n_estimators=50, n_jobs=-1,\n",
       "                                                   random_state=42,\n",
       "                                                   verbose=1)),\n",
       "                            (&#x27;xgboost&#x27;,\n",
       "                             XGBRegressor(base_score=None, booster=None,\n",
       "                                          callbacks=None,\n",
       "                                          colsample...\n",
       "                                          feature_weights=None, gamma=None,\n",
       "                                          grow_policy=None,\n",
       "                                          importance_type=None,\n",
       "                                          interaction_constraints=None,\n",
       "                                          learning_rate=None, max_bin=None,\n",
       "                                          max_cat_threshold=None,\n",
       "                                          max_cat_to_onehot=None,\n",
       "                                          max_delta_step=None, max_depth=None,\n",
       "                                          max_leaves=None,\n",
       "                                          min_child_weight=None, missing=nan,\n",
       "                                          monotone_constraints=None,\n",
       "                                          multi_strategy=None,\n",
       "                                          n_estimators=None, n_jobs=None,\n",
       "                                          num_parallel_tree=None, ...))],\n",
       "                n_jobs=-1)</pre><b>In a Jupyter environment, please rerun this cell to show the HTML representation or trust the notebook. <br />On GitHub, the HTML representation is unable to render, please try loading this page with nbviewer.org.</b></div><div class=\"sk-container\" hidden><div class=\"sk-item sk-dashed-wrapped\"><div class=\"sk-label-container\"><div class=\"sk-label fitted sk-toggleable\"><input class=\"sk-toggleable__control sk-hidden--visually\" id=\"sk-estimator-id-12\" type=\"checkbox\" ><label for=\"sk-estimator-id-12\" class=\"sk-toggleable__label fitted sk-toggleable__label-arrow\"><div><div>VotingRegressor</div></div><div><a class=\"sk-estimator-doc-link fitted\" rel=\"noreferrer\" target=\"_blank\" href=\"https://scikit-learn.org/1.6/modules/generated/sklearn.ensemble.VotingRegressor.html\">?<span>Documentation for VotingRegressor</span></a><span class=\"sk-estimator-doc-link fitted\">i<span>Fitted</span></span></div></label><div class=\"sk-toggleable__content fitted\"><pre>VotingRegressor(estimators=[(&#x27;ada&#x27;,\n",
       "                             AdaBoostRegressor(estimator=RandomForestRegressor(n_estimators=50,\n",
       "                                                                               n_jobs=-1,\n",
       "                                                                               random_state=42,\n",
       "                                                                               verbose=1),\n",
       "                                               learning_rate=0.001,\n",
       "                                               n_estimators=4,\n",
       "                                               random_state=42)),\n",
       "                            (&#x27;rf&#x27;,\n",
       "                             RandomForestRegressor(n_estimators=50, n_jobs=-1,\n",
       "                                                   random_state=42,\n",
       "                                                   verbose=1)),\n",
       "                            (&#x27;xgboost&#x27;,\n",
       "                             XGBRegressor(base_score=None, booster=None,\n",
       "                                          callbacks=None,\n",
       "                                          colsample...\n",
       "                                          feature_weights=None, gamma=None,\n",
       "                                          grow_policy=None,\n",
       "                                          importance_type=None,\n",
       "                                          interaction_constraints=None,\n",
       "                                          learning_rate=None, max_bin=None,\n",
       "                                          max_cat_threshold=None,\n",
       "                                          max_cat_to_onehot=None,\n",
       "                                          max_delta_step=None, max_depth=None,\n",
       "                                          max_leaves=None,\n",
       "                                          min_child_weight=None, missing=nan,\n",
       "                                          monotone_constraints=None,\n",
       "                                          multi_strategy=None,\n",
       "                                          n_estimators=None, n_jobs=None,\n",
       "                                          num_parallel_tree=None, ...))],\n",
       "                n_jobs=-1)</pre></div> </div></div><div class=\"sk-parallel\"><div class=\"sk-parallel-item\"><div class=\"sk-item\"><div class=\"sk-label-container\"><div class=\"sk-label fitted sk-toggleable\"><label>ada</label></div></div><div class=\"sk-serial\"><div class=\"sk-item sk-dashed-wrapped\"><div class=\"sk-parallel\"><div class=\"sk-parallel-item\"><div class=\"sk-item\"><div class=\"sk-label-container\"><div class=\"sk-label fitted sk-toggleable\"><input class=\"sk-toggleable__control sk-hidden--visually\" id=\"sk-estimator-id-13\" type=\"checkbox\" ><label for=\"sk-estimator-id-13\" class=\"sk-toggleable__label fitted sk-toggleable__label-arrow\"><div><div>estimator: RandomForestRegressor</div></div></label><div class=\"sk-toggleable__content fitted\"><pre>RandomForestRegressor(n_estimators=50, n_jobs=-1, random_state=42, verbose=1)</pre></div> </div></div><div class=\"sk-serial\"><div class=\"sk-item\"><div class=\"sk-estimator fitted sk-toggleable\"><input class=\"sk-toggleable__control sk-hidden--visually\" id=\"sk-estimator-id-14\" type=\"checkbox\" ><label for=\"sk-estimator-id-14\" class=\"sk-toggleable__label fitted sk-toggleable__label-arrow\"><div><div>RandomForestRegressor</div></div><div><a class=\"sk-estimator-doc-link fitted\" rel=\"noreferrer\" target=\"_blank\" href=\"https://scikit-learn.org/1.6/modules/generated/sklearn.ensemble.RandomForestRegressor.html\">?<span>Documentation for RandomForestRegressor</span></a></div></label><div class=\"sk-toggleable__content fitted\"><pre>RandomForestRegressor(n_estimators=50, n_jobs=-1, random_state=42, verbose=1)</pre></div> </div></div></div></div></div></div></div></div></div></div><div class=\"sk-parallel-item\"><div class=\"sk-item\"><div class=\"sk-label-container\"><div class=\"sk-label fitted sk-toggleable\"><label>rf</label></div></div><div class=\"sk-serial\"><div class=\"sk-item\"><div class=\"sk-estimator fitted sk-toggleable\"><input class=\"sk-toggleable__control sk-hidden--visually\" id=\"sk-estimator-id-15\" type=\"checkbox\" ><label for=\"sk-estimator-id-15\" class=\"sk-toggleable__label fitted sk-toggleable__label-arrow\"><div><div>RandomForestRegressor</div></div><div><a class=\"sk-estimator-doc-link fitted\" rel=\"noreferrer\" target=\"_blank\" href=\"https://scikit-learn.org/1.6/modules/generated/sklearn.ensemble.RandomForestRegressor.html\">?<span>Documentation for RandomForestRegressor</span></a></div></label><div class=\"sk-toggleable__content fitted\"><pre>RandomForestRegressor(n_estimators=50, n_jobs=-1, random_state=42, verbose=1)</pre></div> </div></div></div></div></div><div class=\"sk-parallel-item\"><div class=\"sk-item\"><div class=\"sk-label-container\"><div class=\"sk-label fitted sk-toggleable\"><label>xgboost</label></div></div><div class=\"sk-serial\"><div class=\"sk-item\"><div class=\"sk-estimator fitted sk-toggleable\"><input class=\"sk-toggleable__control sk-hidden--visually\" id=\"sk-estimator-id-16\" type=\"checkbox\" ><label for=\"sk-estimator-id-16\" class=\"sk-toggleable__label fitted sk-toggleable__label-arrow\"><div><div>XGBRegressor</div></div><div><a class=\"sk-estimator-doc-link fitted\" rel=\"noreferrer\" target=\"_blank\" href=\"https://xgboost.readthedocs.io/en/release_3.0.0/python/python_api.html#xgboost.XGBRegressor\">?<span>Documentation for XGBRegressor</span></a></div></label><div class=\"sk-toggleable__content fitted\"><pre>XGBRegressor(base_score=None, booster=None, callbacks=None,\n",
       "             colsample_bylevel=None, colsample_bynode=None,\n",
       "             colsample_bytree=None, device=None, early_stopping_rounds=None,\n",
       "             enable_categorical=False,\n",
       "             eval_metric=&lt;function mean_absolute_error at 0x0000013F5DCECD60&gt;,\n",
       "             feature_types=None, feature_weights=None, gamma=None,\n",
       "             grow_policy=None, importance_type=None,\n",
       "             interaction_constraints=None, learning_rate=None, max_bin=None,\n",
       "             max_cat_threshold=None, max_cat_to_onehot=None,\n",
       "             max_delta_step=None, max_depth=None, max_leaves=None,\n",
       "             min_child_weight=None, missing=nan, monotone_constraints=None,\n",
       "             multi_strategy=None, n_estimators=None, n_jobs=None,\n",
       "             num_parallel_tree=None, ...)</pre></div> </div></div></div></div></div></div></div></div></div>"
      ],
      "text/plain": [
       "VotingRegressor(estimators=[('ada',\n",
       "                             AdaBoostRegressor(estimator=RandomForestRegressor(n_estimators=50,\n",
       "                                                                               n_jobs=-1,\n",
       "                                                                               random_state=42,\n",
       "                                                                               verbose=1),\n",
       "                                               learning_rate=0.001,\n",
       "                                               n_estimators=4,\n",
       "                                               random_state=42)),\n",
       "                            ('rf',\n",
       "                             RandomForestRegressor(n_estimators=50, n_jobs=-1,\n",
       "                                                   random_state=42,\n",
       "                                                   verbose=1)),\n",
       "                            ('xgboost',\n",
       "                             XGBRegressor(base_score=None, booster=None,\n",
       "                                          callbacks=None,\n",
       "                                          colsample...\n",
       "                                          feature_weights=None, gamma=None,\n",
       "                                          grow_policy=None,\n",
       "                                          importance_type=None,\n",
       "                                          interaction_constraints=None,\n",
       "                                          learning_rate=None, max_bin=None,\n",
       "                                          max_cat_threshold=None,\n",
       "                                          max_cat_to_onehot=None,\n",
       "                                          max_delta_step=None, max_depth=None,\n",
       "                                          max_leaves=None,\n",
       "                                          min_child_weight=None, missing=nan,\n",
       "                                          monotone_constraints=None,\n",
       "                                          multi_strategy=None,\n",
       "                                          n_estimators=None, n_jobs=None,\n",
       "                                          num_parallel_tree=None, ...))],\n",
       "                n_jobs=-1)"
      ]
     },
     "execution_count": 47,
     "metadata": {},
     "output_type": "execute_result"
    }
   ],
   "source": [
    "from sklearn.ensemble import VotingRegressor\n",
    "\n",
    "xgboost = XGBRegressor(\n",
    "    tree_method=\"hist\",\n",
    "    eval_metric=mean_absolute_error,\n",
    ")\n",
    "\n",
    "ada = AdaBoostRegressor(random_state=42, learning_rate=0.001, n_estimators=4, \n",
    "                          estimator=RandomForestRegressor(n_estimators=50, random_state=42, verbose=1, n_jobs=-1))\n",
    "\n",
    "rf = RandomForestRegressor(n_estimators=50, random_state=42, verbose=1, n_jobs=-1)\n",
    "\n",
    "er = VotingRegressor([('ada', ada), ('rf', rf), ('xgboost', xgboost)], n_jobs=-1)\n",
    "\n",
    "er.fit(X_train, y_train)"
   ]
  },
  {
   "cell_type": "code",
   "execution_count": 48,
   "metadata": {},
   "outputs": [
    {
     "name": "stderr",
     "output_type": "stream",
     "text": [
      "[Parallel(n_jobs=16)]: Using backend ThreadingBackend with 16 concurrent workers.\n",
      "[Parallel(n_jobs=16)]: Done  18 tasks      | elapsed:    0.2s\n",
      "[Parallel(n_jobs=16)]: Done  50 out of  50 | elapsed:    0.5s finished\n",
      "[Parallel(n_jobs=16)]: Using backend ThreadingBackend with 16 concurrent workers.\n",
      "[Parallel(n_jobs=16)]: Done  18 tasks      | elapsed:    0.2s\n",
      "[Parallel(n_jobs=16)]: Done  50 out of  50 | elapsed:    0.4s finished\n",
      "[Parallel(n_jobs=16)]: Using backend ThreadingBackend with 16 concurrent workers.\n",
      "[Parallel(n_jobs=16)]: Done  18 tasks      | elapsed:    0.2s\n",
      "[Parallel(n_jobs=16)]: Done  50 out of  50 | elapsed:    0.5s finished\n",
      "[Parallel(n_jobs=16)]: Using backend ThreadingBackend with 16 concurrent workers.\n",
      "[Parallel(n_jobs=16)]: Done  18 tasks      | elapsed:    0.2s\n",
      "[Parallel(n_jobs=16)]: Done  50 out of  50 | elapsed:    0.4s finished\n",
      "[Parallel(n_jobs=16)]: Using backend ThreadingBackend with 16 concurrent workers.\n",
      "[Parallel(n_jobs=16)]: Done  18 tasks      | elapsed:    0.2s\n"
     ]
    },
    {
     "name": "stdout",
     "output_type": "stream",
     "text": [
      "MAE: 0.5514425473709493\n"
     ]
    },
    {
     "name": "stderr",
     "output_type": "stream",
     "text": [
      "[Parallel(n_jobs=16)]: Done  50 out of  50 | elapsed:    0.5s finished\n"
     ]
    }
   ],
   "source": [
    "y_pred = er.predict(X_test)\n",
    "mae = mean_absolute_error(y_test, y_pred)\n",
    "print(f\"MAE: {mae}\")"
   ]
  },
  {
   "cell_type": "code",
   "execution_count": null,
   "metadata": {},
   "outputs": [
    {
     "data": {
      "image/png": "[encoded data removed]",
      "text/plain": [
       "<Figure size 1200x800 with 1 Axes>"
      ]
     },
     "metadata": {},
     "output_type": "display_data"
    }
   ],
   "source": [
    "importances = reg.feature_importances_\n",
    "\n",
    "numeric_feature_names = list(X_numeric.columns)\n",
    "text_feature_names = [f\"text_comp_{i+1}\" for i in range(X_text_reduced.shape[1])]\n",
    "feature_names = numeric_feature_names + text_feature_names\n",
    "\n",
    "indices = np.argsort(importances)[::-1]\n",
    "\n",
    "# Crear la gráfica\n",
    "plt.figure(figsize=(12, 8))\n",
    "plt.title(\"Importancia de las características\")\n",
    "plt.bar(range(len(importances)), importances[indices], align=\"center\")\n",
    "plt.xticks(range(len(importances)), np.array(feature_names)[indices], rotation=90)\n",
    "plt.xlabel(\"Características\")\n",
    "plt.ylabel(\"Importancia\")\n",
    "plt.tight_layout()\n",
    "plt.show()"
   ]
  },
  {
   "cell_type": "markdown",
   "metadata": {},
   "source": [
    "# Test models"
   ]
  },
  {
   "cell_type": "code",
   "execution_count": 11,
   "metadata": {},
   "outputs": [
    {
     "data": {
      "text/html": [
       "<div>\n",
       "<style scoped>\n",
       "    .dataframe tbody tr th:only-of-type {\n",
       "        vertical-align: middle;\n",
       "    }\n",
       "\n",
       "    .dataframe tbody tr th {\n",
       "        vertical-align: top;\n",
       "    }\n",
       "\n",
       "    .dataframe thead th {\n",
       "        text-align: right;\n",
       "    }\n",
       "</style>\n",
       "<table border=\"1\" class=\"dataframe\">\n",
       "  <thead>\n",
       "    <tr style=\"text-align: right;\">\n",
       "      <th></th>\n",
       "      <th>useful</th>\n",
       "      <th>funny</th>\n",
       "      <th>cool</th>\n",
       "      <th>stars_neg</th>\n",
       "      <th>review_count_neg</th>\n",
       "      <th>review_count_user</th>\n",
       "      <th>average_stars_user</th>\n",
       "      <th>compliment_user</th>\n",
       "      <th>is_open_neg</th>\n",
       "    </tr>\n",
       "  </thead>\n",
       "  <tbody>\n",
       "    <tr>\n",
       "      <th>0</th>\n",
       "      <td>-0.063127</td>\n",
       "      <td>-0.164229</td>\n",
       "      <td>0.253789</td>\n",
       "      <td>4.5</td>\n",
       "      <td>1.375296</td>\n",
       "      <td>-0.001300</td>\n",
       "      <td>4.11</td>\n",
       "      <td>-0.032664</td>\n",
       "      <td>1</td>\n",
       "    </tr>\n",
       "    <tr>\n",
       "      <th>1</th>\n",
       "      <td>0.917552</td>\n",
       "      <td>-0.164229</td>\n",
       "      <td>0.759641</td>\n",
       "      <td>4.0</td>\n",
       "      <td>0.583200</td>\n",
       "      <td>0.679424</td>\n",
       "      <td>3.77</td>\n",
       "      <td>0.152543</td>\n",
       "      <td>1</td>\n",
       "    </tr>\n",
       "    <tr>\n",
       "      <th>2</th>\n",
       "      <td>0.263766</td>\n",
       "      <td>-0.164229</td>\n",
       "      <td>-0.252063</td>\n",
       "      <td>3.5</td>\n",
       "      <td>0.765382</td>\n",
       "      <td>-0.107919</td>\n",
       "      <td>2.92</td>\n",
       "      <td>-0.031454</td>\n",
       "      <td>1</td>\n",
       "    </tr>\n",
       "    <tr>\n",
       "      <th>3</th>\n",
       "      <td>0.263766</td>\n",
       "      <td>-0.164229</td>\n",
       "      <td>-0.252063</td>\n",
       "      <td>4.0</td>\n",
       "      <td>1.256481</td>\n",
       "      <td>0.269349</td>\n",
       "      <td>3.82</td>\n",
       "      <td>0.026650</td>\n",
       "      <td>1</td>\n",
       "    </tr>\n",
       "    <tr>\n",
       "      <th>4</th>\n",
       "      <td>-0.390020</td>\n",
       "      <td>-0.164229</td>\n",
       "      <td>-0.252063</td>\n",
       "      <td>2.5</td>\n",
       "      <td>3.561480</td>\n",
       "      <td>-0.271949</td>\n",
       "      <td>1.25</td>\n",
       "      <td>-0.033875</td>\n",
       "      <td>1</td>\n",
       "    </tr>\n",
       "    <tr>\n",
       "      <th>...</th>\n",
       "      <td>...</td>\n",
       "      <td>...</td>\n",
       "      <td>...</td>\n",
       "      <td>...</td>\n",
       "      <td>...</td>\n",
       "      <td>...</td>\n",
       "      <td>...</td>\n",
       "      <td>...</td>\n",
       "      <td>...</td>\n",
       "    </tr>\n",
       "    <tr>\n",
       "      <th>414760</th>\n",
       "      <td>-0.390020</td>\n",
       "      <td>-0.164229</td>\n",
       "      <td>-0.252063</td>\n",
       "      <td>4.0</td>\n",
       "      <td>15.997386</td>\n",
       "      <td>2.057274</td>\n",
       "      <td>3.53</td>\n",
       "      <td>0.042387</td>\n",
       "      <td>1</td>\n",
       "    </tr>\n",
       "    <tr>\n",
       "      <th>414761</th>\n",
       "      <td>-0.390020</td>\n",
       "      <td>-0.164229</td>\n",
       "      <td>-0.252063</td>\n",
       "      <td>4.0</td>\n",
       "      <td>-0.288106</td>\n",
       "      <td>-0.271949</td>\n",
       "      <td>5.00</td>\n",
       "      <td>-0.035085</td>\n",
       "      <td>1</td>\n",
       "    </tr>\n",
       "    <tr>\n",
       "      <th>414762</th>\n",
       "      <td>-0.390020</td>\n",
       "      <td>-0.164229</td>\n",
       "      <td>-0.252063</td>\n",
       "      <td>3.5</td>\n",
       "      <td>2.777305</td>\n",
       "      <td>2.409938</td>\n",
       "      <td>3.88</td>\n",
       "      <td>0.025440</td>\n",
       "      <td>0</td>\n",
       "    </tr>\n",
       "    <tr>\n",
       "      <th>414763</th>\n",
       "      <td>0.917552</td>\n",
       "      <td>-0.164229</td>\n",
       "      <td>0.253789</td>\n",
       "      <td>4.5</td>\n",
       "      <td>1.304007</td>\n",
       "      <td>2.951236</td>\n",
       "      <td>4.06</td>\n",
       "      <td>0.019387</td>\n",
       "      <td>0</td>\n",
       "    </tr>\n",
       "    <tr>\n",
       "      <th>414764</th>\n",
       "      <td>0.590659</td>\n",
       "      <td>-0.164229</td>\n",
       "      <td>-0.252063</td>\n",
       "      <td>4.0</td>\n",
       "      <td>0.448543</td>\n",
       "      <td>0.999282</td>\n",
       "      <td>4.45</td>\n",
       "      <td>-0.003612</td>\n",
       "      <td>1</td>\n",
       "    </tr>\n",
       "  </tbody>\n",
       "</table>\n",
       "<p>414765 rows × 9 columns</p>\n",
       "</div>"
      ],
      "text/plain": [
       "          useful     funny      cool  stars_neg  review_count_neg  \\\n",
       "0      -0.063127 -0.164229  0.253789        4.5          1.375296   \n",
       "1       0.917552 -0.164229  0.759641        4.0          0.583200   \n",
       "2       0.263766 -0.164229 -0.252063        3.5          0.765382   \n",
       "3       0.263766 -0.164229 -0.252063        4.0          1.256481   \n",
       "4      -0.390020 -0.164229 -0.252063        2.5          3.561480   \n",
       "...          ...       ...       ...        ...               ...   \n",
       "414760 -0.390020 -0.164229 -0.252063        4.0         15.997386   \n",
       "414761 -0.390020 -0.164229 -0.252063        4.0         -0.288106   \n",
       "414762 -0.390020 -0.164229 -0.252063        3.5          2.777305   \n",
       "414763  0.917552 -0.164229  0.253789        4.5          1.304007   \n",
       "414764  0.590659 -0.164229 -0.252063        4.0          0.448543   \n",
       "\n",
       "        review_count_user  average_stars_user  compliment_user  is_open_neg  \n",
       "0               -0.001300                4.11        -0.032664            1  \n",
       "1                0.679424                3.77         0.152543            1  \n",
       "2               -0.107919                2.92        -0.031454            1  \n",
       "3                0.269349                3.82         0.026650            1  \n",
       "4               -0.271949                1.25        -0.033875            1  \n",
       "...                   ...                 ...              ...          ...  \n",
       "414760           2.057274                3.53         0.042387            1  \n",
       "414761          -0.271949                5.00        -0.035085            1  \n",
       "414762           2.409938                3.88         0.025440            0  \n",
       "414763           2.951236                4.06         0.019387            0  \n",
       "414764           0.999282                4.45        -0.003612            1  \n",
       "\n",
       "[414765 rows x 9 columns]"
      ]
     },
     "execution_count": 11,
     "metadata": {},
     "output_type": "execute_result"
    }
   ],
   "source": [
    "# Ahora, procesar el conjunto de test (sin ajustar de nuevo el vectorizador ni el SVD)\n",
    "df_test = pd.read_csv('../data/test_reviews_merged_all_more.csv')\n",
    "\n",
    "Y_numeric = df_test[[\"useful\", \"funny\", \"cool\", \"stars_neg\", \"review_count_neg\", \"review_count_user\", \"average_stars_user\", \"compliment_user\"]].copy()\n",
    "Y_numeric[\"is_open_neg\"] = df_test[\"is_open_neg\"].astype(int)\n",
    "\n",
    "Y_numeric"
   ]
  },
  {
   "cell_type": "code",
   "execution_count": 12,
   "metadata": {},
   "outputs": [
    {
     "name": "stderr",
     "output_type": "stream",
     "text": [
      "[Parallel(n_jobs=16)]: Using backend ThreadingBackend with 16 concurrent workers.\n",
      "[Parallel(n_jobs=16)]: Done  18 tasks      | elapsed:    0.9s\n",
      "[Parallel(n_jobs=16)]: Done  50 out of  50 | elapsed:    1.8s finished\n"
     ]
    }
   ],
   "source": [
    "Y_text = np.load(\"../weight/embeddings_text_test_DL_all-mpnet-base-v2.npy\")\n",
    "\n",
    "svd = TruncatedSVD(n_components=150, n_iter=20, n_oversamples=4, random_state=42)\n",
    "Y_text_test_svd = svd.fit_transform(Y_text)\n",
    "\n",
    "X_test = np.hstack([Y_numeric.values, Y_text_test_svd])\n",
    "\n",
    "predictions = stacking_model.predict(X_test)"
   ]
  },
  {
   "cell_type": "markdown",
   "metadata": {},
   "source": [
    "## CSV"
   ]
  },
  {
   "cell_type": "code",
   "execution_count": 13,
   "metadata": {},
   "outputs": [
    {
     "name": "stdout",
     "output_type": "stream",
     "text": [
      "Predicciones exportadas a 'xgboost_model_predictions_all_0_DL.csv'\n"
     ]
    }
   ],
   "source": [
    "# Crear el DataFrame con el formato requerido: review_id, stars\n",
    "df_output = pd.DataFrame({\n",
    "    'review_id': df_test['review_id'],\n",
    "    'stars': predictions.round(0)\n",
    "})\n",
    "\n",
    "# Exportar el CSV con las predicciones\n",
    "df_output.to_csv('stacking_model_model_predictions_all_0_DL.csv', index=False)\n",
    "print(\"Predicciones exportadas a 'xgboost_model_predictions_all_0_DL.csv'\")"
   ]
  },
  {
   "cell_type": "markdown",
   "metadata": {},
   "source": [
    "# Hiperparámetros"
   ]
  },
  {
   "cell_type": "markdown",
   "metadata": {},
   "source": [
    "## Reduccion dimensional (TruncatedSVD)"
   ]
  },
  {
   "cell_type": "code",
   "execution_count": null,
   "metadata": {},
   "outputs": [],
   "source": [
    "def objective(trial):\n",
    "    # Sugerencias para TruncatedSVD\n",
    "    n_components = trial.suggest_int('n_components', 20, 200, step=5)\n",
    "    n_iter = trial.suggest_int('n_iter', 5, 20, step=5)\n",
    "    n_oversamples = trial.suggest_int('n_oversamples', 2, 8, step = 1)\n",
    "\n",
    "    print(f\"Trial {trial.number} - n_components: {n_components}, n_iter: {n_iter}, n_oversamples: {n_oversamples}\")\n",
    "\n",
    "    # Cargamos los embeddings precomputados\n",
    "    X_text = np.load(\"../weight/embeddings_text_train_DL_all-mpnet-base-v2.npy\")\n",
    "\n",
    "    # Creamos el TruncatedSVD con los hiperparámetros sugeridos\n",
    "    svd = TruncatedSVD(\n",
    "        n_components=n_components,\n",
    "        n_iter=n_iter,\n",
    "        n_oversamples=n_oversamples,\n",
    "        random_state=42\n",
    "    )\n",
    "    X_text_reduced = svd.fit_transform(X_text)\n",
    "    \n",
    "    # Combinamos con otras características numéricas\n",
    "    X_final = np.hstack([X_numeric.values, X_text_reduced])\n",
    "    \n",
    "    y = df_train[\"stars\"]\n",
    "    X_train, X_test, y_train, y_test = train_test_split(X_final, y, test_size=0.2, random_state=42)\n",
    "\n",
    "    # Entrenamos el modelo XGBoost\n",
    "    reg = XGBRegressor(\n",
    "        tree_method=\"hist\",\n",
    "        eval_metric=mean_absolute_error,\n",
    "        random_state=42,\n",
    "    )\n",
    "    reg.fit(X_train, y_train, verbose=False)\n",
    "    y_pred = reg.predict(X_test)\n",
    "    mae = mean_absolute_error(y_test, y_pred)\n",
    "    \n",
    "    print(f\"Trial {trial.number} - MAE: {mae}\\n\")\n",
    "    return mae"
   ]
  },
  {
   "cell_type": "code",
   "execution_count": 11,
   "metadata": {},
   "outputs": [
    {
     "name": "stderr",
     "output_type": "stream",
     "text": [
      "[I 2025-04-13 13:12:27,242] A new study created in memory with name: no-name-e863853c-c69d-4051-906a-1e949f57f575\n"
     ]
    },
    {
     "name": "stdout",
     "output_type": "stream",
     "text": [
      "Trial 0 - n_components: 125, n_iter: 10, n_oversamples: 8\n",
      "[13:13:20] INFO: C:\\actions-runner\\_work\\xgboost\\xgboost\\src\\data\\iterative_dmatrix.cc:53: Finished constructing the `IterativeDMatrix`: (774227, 134, 103746418).\n",
      "Trial 0 - MAE: 0.5198457555800627\n",
      "\n"
     ]
    },
    {
     "name": "stderr",
     "output_type": "stream",
     "text": [
      "[I 2025-04-13 13:13:28,864] Trial 0 finished with value: 0.5198457555800627 and parameters: {'n_components': 125, 'n_iter': 10, 'n_oversamples': 8}. Best is trial 0 with value: 0.5198457555800627.\n"
     ]
    },
    {
     "name": "stdout",
     "output_type": "stream",
     "text": [
      "Trial 1 - n_components: 115, n_iter: 15, n_oversamples: 5\n",
      "[13:14:29] INFO: C:\\actions-runner\\_work\\xgboost\\xgboost\\src\\data\\iterative_dmatrix.cc:53: Finished constructing the `IterativeDMatrix`: (774227, 124, 96004148).\n"
     ]
    },
    {
     "name": "stderr",
     "output_type": "stream",
     "text": [
      "[I 2025-04-13 13:14:35,923] Trial 1 finished with value: 0.5209107322448631 and parameters: {'n_components': 115, 'n_iter': 15, 'n_oversamples': 5}. Best is trial 0 with value: 0.5198457555800627.\n"
     ]
    },
    {
     "name": "stdout",
     "output_type": "stream",
     "text": [
      "Trial 1 - MAE: 0.5209107322448631\n",
      "\n",
      "Trial 2 - n_components: 40, n_iter: 15, n_oversamples: 8\n",
      "[13:15:04] INFO: C:\\actions-runner\\_work\\xgboost\\xgboost\\src\\data\\iterative_dmatrix.cc:53: Finished constructing the `IterativeDMatrix`: (774227, 49, 37937123).\n"
     ]
    },
    {
     "name": "stderr",
     "output_type": "stream",
     "text": [
      "[I 2025-04-13 13:15:07,440] Trial 2 finished with value: 0.5232984505177074 and parameters: {'n_components': 40, 'n_iter': 15, 'n_oversamples': 8}. Best is trial 0 with value: 0.5198457555800627.\n"
     ]
    },
    {
     "name": "stdout",
     "output_type": "stream",
     "text": [
      "Trial 2 - MAE: 0.5232984505177074\n",
      "\n",
      "Trial 3 - n_components: 90, n_iter: 5, n_oversamples: 7\n",
      "[13:15:33] INFO: C:\\actions-runner\\_work\\xgboost\\xgboost\\src\\data\\iterative_dmatrix.cc:53: Finished constructing the `IterativeDMatrix`: (774227, 99, 76648473).\n",
      "Trial 3 - MAE: 0.5205579754880189\n",
      "\n"
     ]
    },
    {
     "name": "stderr",
     "output_type": "stream",
     "text": [
      "[I 2025-04-13 13:15:38,380] Trial 3 finished with value: 0.5205579754880189 and parameters: {'n_components': 90, 'n_iter': 5, 'n_oversamples': 7}. Best is trial 0 with value: 0.5198457555800627.\n"
     ]
    },
    {
     "name": "stdout",
     "output_type": "stream",
     "text": [
      "Trial 4 - n_components: 120, n_iter: 20, n_oversamples: 6\n",
      "[13:16:56] INFO: C:\\actions-runner\\_work\\xgboost\\xgboost\\src\\data\\iterative_dmatrix.cc:53: Finished constructing the `IterativeDMatrix`: (774227, 129, 99875283).\n",
      "Trial 4 - MAE: 0.5206016598283508\n",
      "\n"
     ]
    },
    {
     "name": "stderr",
     "output_type": "stream",
     "text": [
      "[I 2025-04-13 13:17:03,250] Trial 4 finished with value: 0.5206016598283508 and parameters: {'n_components': 120, 'n_iter': 20, 'n_oversamples': 6}. Best is trial 0 with value: 0.5198457555800627.\n"
     ]
    },
    {
     "name": "stdout",
     "output_type": "stream",
     "text": [
      "Trial 5 - n_components: 150, n_iter: 20, n_oversamples: 4\n",
      "[13:18:44] INFO: C:\\actions-runner\\_work\\xgboost\\xgboost\\src\\data\\iterative_dmatrix.cc:53: Finished constructing the `IterativeDMatrix`: (774227, 159, 123102093).\n",
      "Trial 5 - MAE: 0.5184367227010693\n",
      "\n"
     ]
    },
    {
     "name": "stderr",
     "output_type": "stream",
     "text": [
      "[I 2025-04-13 13:18:53,768] Trial 5 finished with value: 0.5184367227010693 and parameters: {'n_components': 150, 'n_iter': 20, 'n_oversamples': 4}. Best is trial 5 with value: 0.5184367227010693.\n"
     ]
    },
    {
     "name": "stdout",
     "output_type": "stream",
     "text": [
      "Trial 6 - n_components: 85, n_iter: 10, n_oversamples: 2\n",
      "[13:19:30] INFO: C:\\actions-runner\\_work\\xgboost\\xgboost\\src\\data\\iterative_dmatrix.cc:53: Finished constructing the `IterativeDMatrix`: (774227, 94, 72777338).\n",
      "Trial 6 - MAE: 0.5214788320188524\n",
      "\n"
     ]
    },
    {
     "name": "stderr",
     "output_type": "stream",
     "text": [
      "[I 2025-04-13 13:19:35,275] Trial 6 finished with value: 0.5214788320188524 and parameters: {'n_components': 85, 'n_iter': 10, 'n_oversamples': 2}. Best is trial 5 with value: 0.5184367227010693.\n"
     ]
    },
    {
     "name": "stdout",
     "output_type": "stream",
     "text": [
      "Trial 7 - n_components: 140, n_iter: 5, n_oversamples: 2\n",
      "[13:20:12] INFO: C:\\actions-runner\\_work\\xgboost\\xgboost\\src\\data\\iterative_dmatrix.cc:53: Finished constructing the `IterativeDMatrix`: (774227, 149, 115359823).\n",
      "Trial 7 - MAE: 0.5199901741814075\n",
      "\n"
     ]
    },
    {
     "name": "stderr",
     "output_type": "stream",
     "text": [
      "[I 2025-04-13 13:20:21,543] Trial 7 finished with value: 0.5199901741814075 and parameters: {'n_components': 140, 'n_iter': 5, 'n_oversamples': 2}. Best is trial 5 with value: 0.5184367227010693.\n"
     ]
    },
    {
     "name": "stdout",
     "output_type": "stream",
     "text": [
      "Trial 8 - n_components: 20, n_iter: 20, n_oversamples: 8\n",
      "[13:20:45] INFO: C:\\actions-runner\\_work\\xgboost\\xgboost\\src\\data\\iterative_dmatrix.cc:53: Finished constructing the `IterativeDMatrix`: (774227, 29, 22452583).\n"
     ]
    },
    {
     "name": "stderr",
     "output_type": "stream",
     "text": [
      "[I 2025-04-13 13:20:47,344] Trial 8 finished with value: 0.5311643746126996 and parameters: {'n_components': 20, 'n_iter': 20, 'n_oversamples': 8}. Best is trial 5 with value: 0.5184367227010693.\n"
     ]
    },
    {
     "name": "stdout",
     "output_type": "stream",
     "text": [
      "Trial 8 - MAE: 0.5311643746126996\n",
      "\n",
      "Trial 9 - n_components: 30, n_iter: 10, n_oversamples: 7\n",
      "[13:21:06] INFO: C:\\actions-runner\\_work\\xgboost\\xgboost\\src\\data\\iterative_dmatrix.cc:53: Finished constructing the `IterativeDMatrix`: (774227, 39, 30194853).\n"
     ]
    },
    {
     "name": "stderr",
     "output_type": "stream",
     "text": [
      "[I 2025-04-13 13:21:09,272] Trial 9 finished with value: 0.5252013537181056 and parameters: {'n_components': 30, 'n_iter': 10, 'n_oversamples': 7}. Best is trial 5 with value: 0.5184367227010693.\n"
     ]
    },
    {
     "name": "stdout",
     "output_type": "stream",
     "text": [
      "Trial 9 - MAE: 0.5252013537181056\n",
      "\n",
      "Trial 10 - n_components: 200, n_iter: 20, n_oversamples: 4\n",
      "[13:23:10] INFO: C:\\actions-runner\\_work\\xgboost\\xgboost\\src\\data\\iterative_dmatrix.cc:53: Finished constructing the `IterativeDMatrix`: (774227, 209, 161813443).\n",
      "Trial 10 - MAE: 0.5198603234565662\n",
      "\n"
     ]
    },
    {
     "name": "stderr",
     "output_type": "stream",
     "text": [
      "[I 2025-04-13 13:23:22,403] Trial 10 finished with value: 0.5198603234565662 and parameters: {'n_components': 200, 'n_iter': 20, 'n_oversamples': 4}. Best is trial 5 with value: 0.5184367227010693.\n"
     ]
    },
    {
     "name": "stdout",
     "output_type": "stream",
     "text": [
      "Trial 11 - n_components: 155, n_iter: 10, n_oversamples: 4\n",
      "[13:24:23] INFO: C:\\actions-runner\\_work\\xgboost\\xgboost\\src\\data\\iterative_dmatrix.cc:53: Finished constructing the `IterativeDMatrix`: (774227, 164, 126973228).\n",
      "Trial 11 - MAE: 0.5203944753399932\n",
      "\n"
     ]
    },
    {
     "name": "stderr",
     "output_type": "stream",
     "text": [
      "[I 2025-04-13 13:24:32,944] Trial 11 finished with value: 0.5203944753399932 and parameters: {'n_components': 155, 'n_iter': 10, 'n_oversamples': 4}. Best is trial 5 with value: 0.5184367227010693.\n"
     ]
    },
    {
     "name": "stdout",
     "output_type": "stream",
     "text": [
      "Trial 12 - n_components: 175, n_iter: 15, n_oversamples: 4\n",
      "[13:26:01] INFO: C:\\actions-runner\\_work\\xgboost\\xgboost\\src\\data\\iterative_dmatrix.cc:53: Finished constructing the `IterativeDMatrix`: (774227, 184, 142457768).\n",
      "Trial 12 - MAE: 0.5194179733133866\n",
      "\n"
     ]
    },
    {
     "name": "stderr",
     "output_type": "stream",
     "text": [
      "[I 2025-04-13 13:26:12,525] Trial 12 finished with value: 0.5194179733133866 and parameters: {'n_components': 175, 'n_iter': 15, 'n_oversamples': 4}. Best is trial 5 with value: 0.5184367227010693.\n"
     ]
    },
    {
     "name": "stdout",
     "output_type": "stream",
     "text": [
      "Trial 13 - n_components: 180, n_iter: 15, n_oversamples: 4\n",
      "[13:27:43] INFO: C:\\actions-runner\\_work\\xgboost\\xgboost\\src\\data\\iterative_dmatrix.cc:53: Finished constructing the `IterativeDMatrix`: (774227, 189, 146328903).\n",
      "Trial 13 - MAE: 0.51935621429236\n",
      "\n"
     ]
    },
    {
     "name": "stderr",
     "output_type": "stream",
     "text": [
      "[I 2025-04-13 13:27:53,557] Trial 13 finished with value: 0.51935621429236 and parameters: {'n_components': 180, 'n_iter': 15, 'n_oversamples': 4}. Best is trial 5 with value: 0.5184367227010693.\n"
     ]
    },
    {
     "name": "stdout",
     "output_type": "stream",
     "text": [
      "Trial 14 - n_components: 180, n_iter: 20, n_oversamples: 3\n",
      "[13:29:47] INFO: C:\\actions-runner\\_work\\xgboost\\xgboost\\src\\data\\iterative_dmatrix.cc:53: Finished constructing the `IterativeDMatrix`: (774227, 189, 146328903).\n",
      "Trial 14 - MAE: 0.520653715922718\n",
      "\n"
     ]
    },
    {
     "name": "stderr",
     "output_type": "stream",
     "text": [
      "[I 2025-04-13 13:29:59,136] Trial 14 finished with value: 0.520653715922718 and parameters: {'n_components': 180, 'n_iter': 20, 'n_oversamples': 3}. Best is trial 5 with value: 0.5184367227010693.\n"
     ]
    },
    {
     "name": "stdout",
     "output_type": "stream",
     "text": [
      "Trial 15 - n_components: 160, n_iter: 15, n_oversamples: 5\n",
      "[13:31:21] INFO: C:\\actions-runner\\_work\\xgboost\\xgboost\\src\\data\\iterative_dmatrix.cc:53: Finished constructing the `IterativeDMatrix`: (774227, 169, 130844363).\n",
      "Trial 15 - MAE: 0.5199506574970512\n",
      "\n"
     ]
    },
    {
     "name": "stderr",
     "output_type": "stream",
     "text": [
      "[I 2025-04-13 13:31:31,310] Trial 15 finished with value: 0.5199506574970512 and parameters: {'n_components': 160, 'n_iter': 15, 'n_oversamples': 5}. Best is trial 5 with value: 0.5184367227010693.\n"
     ]
    },
    {
     "name": "stdout",
     "output_type": "stream",
     "text": [
      "Trial 16 - n_components: 200, n_iter: 20, n_oversamples: 3\n",
      "[13:33:30] INFO: C:\\actions-runner\\_work\\xgboost\\xgboost\\src\\data\\iterative_dmatrix.cc:53: Finished constructing the `IterativeDMatrix`: (774227, 209, 161813443).\n",
      "Trial 16 - MAE: 0.5201960408847971\n",
      "\n"
     ]
    },
    {
     "name": "stderr",
     "output_type": "stream",
     "text": [
      "[I 2025-04-13 13:33:41,512] Trial 16 finished with value: 0.5201960408847971 and parameters: {'n_components': 200, 'n_iter': 20, 'n_oversamples': 3}. Best is trial 5 with value: 0.5184367227010693.\n"
     ]
    },
    {
     "name": "stdout",
     "output_type": "stream",
     "text": [
      "Trial 17 - n_components: 145, n_iter: 15, n_oversamples: 3\n",
      "[13:34:59] INFO: C:\\actions-runner\\_work\\xgboost\\xgboost\\src\\data\\iterative_dmatrix.cc:53: Finished constructing the `IterativeDMatrix`: (774227, 154, 119230958).\n",
      "Trial 17 - MAE: 0.5195469334314903\n",
      "\n"
     ]
    },
    {
     "name": "stderr",
     "output_type": "stream",
     "text": [
      "[I 2025-04-13 13:35:07,963] Trial 17 finished with value: 0.5195469334314903 and parameters: {'n_components': 145, 'n_iter': 15, 'n_oversamples': 3}. Best is trial 5 with value: 0.5184367227010693.\n"
     ]
    },
    {
     "name": "stdout",
     "output_type": "stream",
     "text": [
      "Trial 18 - n_components: 170, n_iter: 20, n_oversamples: 6\n",
      "[13:36:56] INFO: C:\\actions-runner\\_work\\xgboost\\xgboost\\src\\data\\iterative_dmatrix.cc:53: Finished constructing the `IterativeDMatrix`: (774227, 179, 138586633).\n",
      "Trial 18 - MAE: 0.5203429024028773\n",
      "\n"
     ]
    },
    {
     "name": "stderr",
     "output_type": "stream",
     "text": [
      "[I 2025-04-13 13:37:06,198] Trial 18 finished with value: 0.5203429024028773 and parameters: {'n_components': 170, 'n_iter': 20, 'n_oversamples': 6}. Best is trial 5 with value: 0.5184367227010693.\n"
     ]
    },
    {
     "name": "stdout",
     "output_type": "stream",
     "text": [
      "Trial 19 - n_components: 85, n_iter: 15, n_oversamples: 4\n",
      "[13:37:55] INFO: C:\\actions-runner\\_work\\xgboost\\xgboost\\src\\data\\iterative_dmatrix.cc:53: Finished constructing the `IterativeDMatrix`: (774227, 94, 72777338).\n",
      "Trial 19 - MAE: 0.5216007416682241\n",
      "\n"
     ]
    },
    {
     "name": "stderr",
     "output_type": "stream",
     "text": [
      "[I 2025-04-13 13:38:00,768] Trial 19 finished with value: 0.5216007416682241 and parameters: {'n_components': 85, 'n_iter': 15, 'n_oversamples': 4}. Best is trial 5 with value: 0.5184367227010693.\n"
     ]
    },
    {
     "name": "stdout",
     "output_type": "stream",
     "text": [
      "Trial 20 - n_components: 185, n_iter: 20, n_oversamples: 5\n",
      "[13:39:55] INFO: C:\\actions-runner\\_work\\xgboost\\xgboost\\src\\data\\iterative_dmatrix.cc:53: Finished constructing the `IterativeDMatrix`: (774227, 194, 150200038).\n",
      "Trial 20 - MAE: 0.5198920885675646\n",
      "\n"
     ]
    },
    {
     "name": "stderr",
     "output_type": "stream",
     "text": [
      "[I 2025-04-13 13:40:05,894] Trial 20 finished with value: 0.5198920885675646 and parameters: {'n_components': 185, 'n_iter': 20, 'n_oversamples': 5}. Best is trial 5 with value: 0.5184367227010693.\n"
     ]
    },
    {
     "name": "stdout",
     "output_type": "stream",
     "text": [
      "Trial 21 - n_components: 180, n_iter: 15, n_oversamples: 4\n",
      "[13:41:37] INFO: C:\\actions-runner\\_work\\xgboost\\xgboost\\src\\data\\iterative_dmatrix.cc:53: Finished constructing the `IterativeDMatrix`: (774227, 189, 146328903).\n",
      "Trial 21 - MAE: 0.51935621429236\n",
      "\n"
     ]
    },
    {
     "name": "stderr",
     "output_type": "stream",
     "text": [
      "[I 2025-04-13 13:41:46,852] Trial 21 finished with value: 0.51935621429236 and parameters: {'n_components': 180, 'n_iter': 15, 'n_oversamples': 4}. Best is trial 5 with value: 0.5184367227010693.\n"
     ]
    },
    {
     "name": "stdout",
     "output_type": "stream",
     "text": [
      "Trial 22 - n_components: 140, n_iter: 15, n_oversamples: 3\n",
      "[13:43:02] INFO: C:\\actions-runner\\_work\\xgboost\\xgboost\\src\\data\\iterative_dmatrix.cc:53: Finished constructing the `IterativeDMatrix`: (774227, 149, 115359823).\n",
      "Trial 22 - MAE: 0.5204974959620662\n",
      "\n"
     ]
    },
    {
     "name": "stderr",
     "output_type": "stream",
     "text": [
      "[I 2025-04-13 13:43:10,590] Trial 22 finished with value: 0.5204974959620662 and parameters: {'n_components': 140, 'n_iter': 15, 'n_oversamples': 3}. Best is trial 5 with value: 0.5184367227010693.\n"
     ]
    },
    {
     "name": "stdout",
     "output_type": "stream",
     "text": [
      "Trial 23 - n_components: 190, n_iter: 15, n_oversamples: 5\n",
      "[13:44:42] INFO: C:\\actions-runner\\_work\\xgboost\\xgboost\\src\\data\\iterative_dmatrix.cc:53: Finished constructing the `IterativeDMatrix`: (774227, 199, 154071173).\n"
     ]
    },
    {
     "name": "stderr",
     "output_type": "stream",
     "text": [
      "[I 2025-04-13 13:44:53,538] Trial 23 finished with value: 0.5198881933739525 and parameters: {'n_components': 190, 'n_iter': 15, 'n_oversamples': 5}. Best is trial 5 with value: 0.5184367227010693.\n"
     ]
    },
    {
     "name": "stdout",
     "output_type": "stream",
     "text": [
      "Trial 23 - MAE: 0.5198881933739525\n",
      "\n",
      "Trial 24 - n_components: 160, n_iter: 10, n_oversamples: 4\n",
      "[13:45:54] INFO: C:\\actions-runner\\_work\\xgboost\\xgboost\\src\\data\\iterative_dmatrix.cc:53: Finished constructing the `IterativeDMatrix`: (774227, 169, 130844363).\n",
      "Trial 24 - MAE: 0.5198766873973832\n",
      "\n"
     ]
    },
    {
     "name": "stderr",
     "output_type": "stream",
     "text": [
      "[I 2025-04-13 13:46:03,622] Trial 24 finished with value: 0.5198766873973832 and parameters: {'n_components': 160, 'n_iter': 10, 'n_oversamples': 4}. Best is trial 5 with value: 0.5184367227010693.\n"
     ]
    },
    {
     "name": "stdout",
     "output_type": "stream",
     "text": [
      "Trial 25 - n_components: 170, n_iter: 15, n_oversamples: 6\n",
      "[13:47:29] INFO: C:\\actions-runner\\_work\\xgboost\\xgboost\\src\\data\\iterative_dmatrix.cc:53: Finished constructing the `IterativeDMatrix`: (774227, 179, 138586633).\n",
      "Trial 25 - MAE: 0.5195551463098208\n",
      "\n"
     ]
    },
    {
     "name": "stderr",
     "output_type": "stream",
     "text": [
      "[I 2025-04-13 13:47:38,859] Trial 25 finished with value: 0.5195551463098208 and parameters: {'n_components': 170, 'n_iter': 15, 'n_oversamples': 6}. Best is trial 5 with value: 0.5184367227010693.\n"
     ]
    },
    {
     "name": "stdout",
     "output_type": "stream",
     "text": [
      "Trial 26 - n_components: 130, n_iter: 20, n_oversamples: 3\n",
      "[13:49:10] INFO: C:\\actions-runner\\_work\\xgboost\\xgboost\\src\\data\\iterative_dmatrix.cc:53: Finished constructing the `IterativeDMatrix`: (774227, 139, 107617553).\n",
      "Trial 26 - MAE: 0.5192138864666965\n",
      "\n"
     ]
    },
    {
     "name": "stderr",
     "output_type": "stream",
     "text": [
      "[I 2025-04-13 13:49:17,657] Trial 26 finished with value: 0.5192138864666965 and parameters: {'n_components': 130, 'n_iter': 20, 'n_oversamples': 3}. Best is trial 5 with value: 0.5184367227010693.\n"
     ]
    },
    {
     "name": "stdout",
     "output_type": "stream",
     "text": [
      "Trial 27 - n_components: 105, n_iter: 20, n_oversamples: 2\n",
      "[13:50:26] INFO: C:\\actions-runner\\_work\\xgboost\\xgboost\\src\\data\\iterative_dmatrix.cc:53: Finished constructing the `IterativeDMatrix`: (774227, 114, 88261878).\n",
      "Trial 27 - MAE: 0.5212342733067544\n",
      "\n"
     ]
    },
    {
     "name": "stderr",
     "output_type": "stream",
     "text": [
      "[I 2025-04-13 13:50:32,939] Trial 27 finished with value: 0.5212342733067544 and parameters: {'n_components': 105, 'n_iter': 20, 'n_oversamples': 2}. Best is trial 5 with value: 0.5184367227010693.\n"
     ]
    },
    {
     "name": "stdout",
     "output_type": "stream",
     "text": [
      "Trial 28 - n_components: 140, n_iter: 20, n_oversamples: 3\n",
      "[13:52:08] INFO: C:\\actions-runner\\_work\\xgboost\\xgboost\\src\\data\\iterative_dmatrix.cc:53: Finished constructing the `IterativeDMatrix`: (774227, 149, 115359823).\n",
      "Trial 28 - MAE: 0.5195847145778667\n",
      "\n"
     ]
    },
    {
     "name": "stderr",
     "output_type": "stream",
     "text": [
      "[I 2025-04-13 13:52:16,493] Trial 28 finished with value: 0.5195847145778667 and parameters: {'n_components': 140, 'n_iter': 20, 'n_oversamples': 3}. Best is trial 5 with value: 0.5184367227010693.\n"
     ]
    },
    {
     "name": "stdout",
     "output_type": "stream",
     "text": [
      "Trial 29 - n_components: 130, n_iter: 20, n_oversamples: 3\n",
      "[13:53:48] INFO: C:\\actions-runner\\_work\\xgboost\\xgboost\\src\\data\\iterative_dmatrix.cc:53: Finished constructing the `IterativeDMatrix`: (774227, 139, 107617553).\n",
      "Trial 29 - MAE: 0.5192138864666965\n",
      "\n"
     ]
    },
    {
     "name": "stderr",
     "output_type": "stream",
     "text": [
      "[I 2025-04-13 13:53:56,539] Trial 29 finished with value: 0.5192138864666965 and parameters: {'n_components': 130, 'n_iter': 20, 'n_oversamples': 3}. Best is trial 5 with value: 0.5184367227010693.\n"
     ]
    },
    {
     "name": "stdout",
     "output_type": "stream",
     "text": [
      "Mejores hiperparámetros encontrados: {'n_components': 150, 'n_iter': 20, 'n_oversamples': 4}\n",
      "Mejor MAE: 0.5184367227010693\n"
     ]
    }
   ],
   "source": [
    "# Creamos y ejecutamos el estudio de Optuna\n",
    "study = optuna.create_study(direction='minimize')\n",
    "study.optimize(objective, n_trials=30)\n",
    "\n",
    "print(\"Mejores hiperparámetros encontrados:\", study.best_trial.params)\n",
    "print(\"Mejor MAE:\", study.best_value)"
   ]
  },
  {
   "cell_type": "markdown",
   "metadata": {},
   "source": [
    "## Reduccion dimensional (PCA)"
   ]
  },
  {
   "cell_type": "code",
   "execution_count": null,
   "metadata": {},
   "outputs": [],
   "source": [
    "def objective(trial):\n",
    "    n_components = trial.suggest_int('n_components', 20, 200, step=5)\n",
    "\n",
    "    print(f\"Trial {trial.number} - max_componets: {n_components}\")\n",
    "\n",
    "    X_text = np.load(\"../weight/embeddings_text_train_DL_all-mpnet-base-v2.npy\")\n",
    "\n",
    "    svd = PCA(n_components=n_components, random_state=42)\n",
    "    X_text_reduced = svd.fit_transform(X_text)  \n",
    "    \n",
    "    X_final = np.hstack([X_numeric.values, X_text_reduced])\n",
    "    \n",
    "    y = df_train[\"stars\"]\n",
    "    \n",
    "    X_train, X_test, y_train, y_test = train_test_split(X_final, y, test_size=0.2, random_state=42)\n",
    "\n",
    "    # Entrenamos el modelo XGBoost\n",
    "    reg = XGBRegressor(\n",
    "        tree_method=\"hist\",\n",
    "        eval_metric=mean_absolute_error,\n",
    "        random_state=42,\n",
    "    )\n",
    "    reg.fit(X_train, y_train, verbose=False)\n",
    "    y_pred = reg.predict(X_test)\n",
    "    mae = mean_absolute_error(y_test, y_pred)\n",
    "    \n",
    "    # Imprimimos el MAE obtenido para esta prueba\n",
    "    print(f\"Trial {trial.number} - MAE: {mae}\\n\")\n",
    "    return mae"
   ]
  },
  {
   "cell_type": "markdown",
   "metadata": {},
   "source": [
    "## XGBoost"
   ]
  },
  {
   "cell_type": "code",
   "execution_count": null,
   "metadata": {},
   "outputs": [],
   "source": [
    "import numpy as np\n",
    "from sklearn.metrics import mean_absolute_error\n",
    "from sklearn.model_selection import train_test_split\n",
    "import optuna\n",
    "from xgboost import XGBRegressor\n",
    "\n",
    "import xgboost as xgb\n",
    "xgb.set_config(verbosity=0)\n",
    "\n",
    "def objective(trial):\n",
    "    # Cargamos las características y la variable objetivo\n",
    "    X_final = np.load(\"../weight/final_stack_XGBoost.npy\")\n",
    "    y = df_train[\"stars\"]\n",
    "    X_train, X_test, y_train, y_test = train_test_split(\n",
    "        X_final, y, test_size=0.2, random_state=42\n",
    "    )\n",
    "    \n",
    "    # Mapeo para parámetros categóricos\n",
    "    booster_options = {1: \"gbtree\", 2: \"gblinear\", 3: \"dart\"}\n",
    "    tree_method_options = {1: \"auto\", 2: \"exact\", 3: \"hist\"}\n",
    "    grow_policy_options = {1: \"depthwise\", 2: \"lossguide\"}\n",
    "    \n",
    "    booster_idx = trial.suggest_int(\"booster_idx\", 1, 3)\n",
    "    tree_method_idx = trial.suggest_int(\"tree_method_idx\", 1, 3)\n",
    "    grow_policy_idx = trial.suggest_int(\"grow_policy_idx\", 1, 2)\n",
    "    \n",
    "    booster = booster_options[booster_idx]\n",
    "    tree_method = tree_method_options[tree_method_idx]\n",
    "    grow_policy = grow_policy_options[grow_policy_idx]\n",
    "    \n",
    "    # Parámetros numéricos actualizados\n",
    "    eta = trial.suggest_float(\"eta\", 1e-3, 0.7, log=True)\n",
    "    gamma = trial.suggest_float(\"gamma\", 0.0, 10.0)\n",
    "    max_depth = trial.suggest_int(\"max_depth\", 3, 12)\n",
    "    min_child_weight = trial.suggest_float(\"min_child_weight\", 1, 5)\n",
    "    max_delta_step = trial.suggest_float(\"max_delta_step\", 0, 5)\n",
    "    subsample = trial.suggest_float(\"subsample\", 0.2, 1.0)\n",
    "    reg_lambda = trial.suggest_float(\"lambda\", 1e-3, 10.0, log=True)\n",
    "    alpha = trial.suggest_float(\"alpha\", 1e-3, 10.0, log=True)\n",
    "    scale_pos_weight = trial.suggest_float(\"scale_pos_weight\", 0.5, 5)\n",
    "    max_leaves = trial.suggest_int(\"max_leaves\", 1, 10)\n",
    "    max_bin = trial.suggest_int(\"max_bin\", 125, 525, step=25)\n",
    "    \n",
    "    params = {\n",
    "        \"booster\": booster,\n",
    "        \"tree_method\": tree_method,\n",
    "        \"grow_policy\": grow_policy,\n",
    "        \"eta\": eta,\n",
    "        \"gamma\": gamma,\n",
    "        \"max_depth\": max_depth,\n",
    "        \"min_child_weight\": min_child_weight,\n",
    "        \"max_delta_step\": max_delta_step,\n",
    "        \"subsample\": subsample,\n",
    "        \"reg_lambda\": reg_lambda,\n",
    "        \"alpha\": alpha,\n",
    "        \"scale_pos_weight\": scale_pos_weight,\n",
    "        \"max_leaves\": max_leaves,\n",
    "        \"max_bin\": max_bin,\n",
    "        \"random_state\": 42,\n",
    "        \"eval_metric\": \"mae\"\n",
    "    }\n",
    "    \n",
    "    print(f\"Trial {trial.number} parameters: {params}\")\n",
    "    \n",
    "    # Entrenamos el modelo\n",
    "    reg = XGBRegressor(**params)\n",
    "    reg.fit(X_train, y_train, verbose=False)\n",
    "    y_pred = reg.predict(X_test)\n",
    "    mae = mean_absolute_error(y_test, y_pred)\n",
    "    \n",
    "    print(f\"Trial {trial.number} - MAE: {mae}\\n\")\n",
    "    return mae\n",
    "\n",
    "# Para iniciar el estudio:\n",
    "study = optuna.create_study(direction=\"minimize\")\n",
    "study.optimize(objective, n_trials=50)"
   ]
  },
  {
   "cell_type": "code",
   "execution_count": null,
   "metadata": {},
   "outputs": [],
   "source": [
    "print(\"Best trial:\")\n",
    "trial = study.best_trial\n",
    "print(trial.params)\n",
    "print(f\"Best MAE: {trial.value}\")"
   ]
  }
 ],
 "metadata": {
  "kernelspec": {
   "display_name": ".venv",
   "language": "python",
   "name": "python3"
  },
  "language_info": {
   "codemirror_mode": {
    "name": "ipython",
    "version": 3
   },
   "file_extension": ".py",
   "mimetype": "text/x-python",
   "name": "python",
   "nbconvert_exporter": "python",
   "pygments_lexer": "ipython3",
   "version": "3.11.0"
  }
 },
 "nbformat": 4,
 "nbformat_minor": 2
}
